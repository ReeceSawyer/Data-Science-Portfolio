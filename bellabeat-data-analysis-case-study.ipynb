{
 "cells": [
  {
   "cell_type": "markdown",
   "id": "f4ea32f6",
   "metadata": {
    "papermill": {
     "duration": 0.018539,
     "end_time": "2024-05-16T18:47:29.056710",
     "exception": false,
     "start_time": "2024-05-16T18:47:29.038171",
     "status": "completed"
    },
    "tags": []
   },
   "source": [
    "# **Introduction**\n",
    "\n",
    "***\n",
    "\n",
    "<p style=\"font-size:18px;\">  This case study will focus on data from Bellabeat a high-tech manufacturer of health-focused\n",
    "products for women. Bellabeat is a successful small company, but they have the potential to become a larger player in the\n",
    "global smart device market. \n",
    "    \n",
    "<p style=\"font-size:18px;\">  Urška Sršen, cofounder and Chief Creative Officer of Bellabeat, believes that analyzing smart\n",
    "device fitness data could help unlock new growth opportunities for the company. As such this case study will focus on one of\n",
    "Bellabeat’s products and analyze smart device data to gain insight into how consumers are using their smart devices. The\n",
    "insights from this analysis will then help guide marketing strategy for the company. The analysis will be presented to the Bellabeat executive team along with high-level recommendations for Bellabeat’s marketing strategy."
   ]
  },
  {
   "cell_type": "markdown",
   "id": "b9c7f850",
   "metadata": {
    "papermill": {
     "duration": 0.017472,
     "end_time": "2024-05-16T18:47:29.092523",
     "exception": false,
     "start_time": "2024-05-16T18:47:29.075051",
     "status": "completed"
    },
    "tags": []
   },
   "source": [
    "##### **Importing libarys**"
   ]
  },
  {
   "cell_type": "code",
   "execution_count": 1,
   "id": "3d88ac10",
   "metadata": {
    "_cell_guid": "b1076dfc-b9ad-4769-8c92-a6c4dae69d19",
    "_uuid": "8f2839f25d086af736a60e9eeb907d3b93b6e0e5",
    "execution": {
     "iopub.execute_input": "2024-05-16T18:47:29.131659Z",
     "iopub.status.busy": "2024-05-16T18:47:29.130891Z",
     "iopub.status.idle": "2024-05-16T18:47:33.203933Z",
     "shell.execute_reply": "2024-05-16T18:47:33.202554Z"
    },
    "papermill": {
     "duration": 4.097076,
     "end_time": "2024-05-16T18:47:33.207325",
     "exception": false,
     "start_time": "2024-05-16T18:47:29.110249",
     "status": "completed"
    },
    "tags": []
   },
   "outputs": [
    {
     "name": "stdout",
     "output_type": "stream",
     "text": [
      "Libarys imported\n"
     ]
    }
   ],
   "source": [
    "import numpy as np\n",
    "import pandas as pd\n",
    "import plotly.graph_objs as go\n",
    "import plotly.figure_factory as ff\n",
    "import plotly.express as px\n",
    "\n",
    "print(\"Libarys imported\")"
   ]
  },
  {
   "cell_type": "markdown",
   "id": "40af2ce0",
   "metadata": {
    "papermill": {
     "duration": 0.018089,
     "end_time": "2024-05-16T18:47:33.246818",
     "exception": false,
     "start_time": "2024-05-16T18:47:33.228729",
     "status": "completed"
    },
    "tags": []
   },
   "source": [
    "##### **Importing data**"
   ]
  },
  {
   "cell_type": "code",
   "execution_count": 2,
   "id": "f7e6cdf2",
   "metadata": {
    "execution": {
     "iopub.execute_input": "2024-05-16T18:47:33.286459Z",
     "iopub.status.busy": "2024-05-16T18:47:33.285073Z",
     "iopub.status.idle": "2024-05-16T18:47:33.359583Z",
     "shell.execute_reply": "2024-05-16T18:47:33.358334Z"
    },
    "papermill": {
     "duration": 0.096936,
     "end_time": "2024-05-16T18:47:33.362151",
     "exception": false,
     "start_time": "2024-05-16T18:47:33.265215",
     "status": "completed"
    },
    "tags": []
   },
   "outputs": [
    {
     "name": "stdout",
     "output_type": "stream",
     "text": [
      "Data imported\n"
     ]
    }
   ],
   "source": [
    "df_activity = pd.read_csv(\"/kaggle/input/fitbit/mturkfitbit_export_4.12.16-5.12.16/Fitabase Data 4.12.16-5.12.16/dailyActivity_merged.csv\")\n",
    "df_steps = pd.read_csv(\"/kaggle/input/fitbit/mturkfitbit_export_4.12.16-5.12.16/Fitabase Data 4.12.16-5.12.16/hourlySteps_merged.csv\")\n",
    "df_sleep = pd.read_csv(\"/kaggle/input/fitbit/mturkfitbit_export_4.12.16-5.12.16/Fitabase Data 4.12.16-5.12.16/sleepDay_merged.csv\")\n",
    "\n",
    "print(\"Data imported\")"
   ]
  },
  {
   "cell_type": "markdown",
   "id": "0794e479",
   "metadata": {
    "papermill": {
     "duration": 0.018432,
     "end_time": "2024-05-16T18:47:33.400356",
     "exception": false,
     "start_time": "2024-05-16T18:47:33.381924",
     "status": "completed"
    },
    "tags": []
   },
   "source": [
    "# **Data Cleaning** \n",
    "    \n",
    "***  "
   ]
  },
  {
   "cell_type": "markdown",
   "id": "23926e38",
   "metadata": {
    "papermill": {
     "duration": 0.018009,
     "end_time": "2024-05-16T18:47:33.436798",
     "exception": false,
     "start_time": "2024-05-16T18:47:33.418789",
     "status": "completed"
    },
    "tags": []
   },
   "source": [
    "<p style=\"font-size:18px;\">  Now that I had imported the datasets which I felt would provide the best insights for this task it is important to determine if the data is clean and how many values are missing or incorrect. The following code checks each dataset and determines the number of duplicated values and the number of null values in each dataset."
   ]
  },
  {
   "cell_type": "code",
   "execution_count": 3,
   "id": "640f657d",
   "metadata": {
    "execution": {
     "iopub.execute_input": "2024-05-16T18:47:33.475811Z",
     "iopub.status.busy": "2024-05-16T18:47:33.474905Z",
     "iopub.status.idle": "2024-05-16T18:47:33.507082Z",
     "shell.execute_reply": "2024-05-16T18:47:33.505621Z"
    },
    "papermill": {
     "duration": 0.054802,
     "end_time": "2024-05-16T18:47:33.510042",
     "exception": false,
     "start_time": "2024-05-16T18:47:33.455240",
     "status": "completed"
    },
    "tags": []
   },
   "outputs": [
    {
     "name": "stdout",
     "output_type": "stream",
     "text": [
      "Number of null values in the dataset df_activity 0\n",
      "Number of duplicated values in the dataset df_activity 0\n",
      "---------------------------------------------------------------\n",
      "Number of null values in the dataset df_steps 0\n",
      "Number of duplicated values in the dataset df_steps 0\n",
      "---------------------------------------------------------------\n",
      "Number of null values in the dataset df_sleep 0\n",
      "Number of duplicated values in the dataset df_sleep 3\n",
      "---------------------------------------------------------------\n"
     ]
    }
   ],
   "source": [
    "# Adding all datasets to a dictionary\n",
    "datasets = {\"df_activity\": df_activity, \"df_steps\": df_steps, \"df_sleep\": df_sleep}\n",
    "\n",
    "# Creating a function to check all datasets in the dictionary\n",
    "def clean_check():\n",
    "    for name, df in datasets.items():\n",
    "        print(\"Number of null values in the dataset\", name, df.isna().sum().sum())\n",
    "        print(\"Number of duplicated values in the dataset\", name, df.duplicated().sum())\n",
    "        print(\"---------------------------------------------------------------\")\n",
    "        \n",
    "clean_check()"
   ]
  },
  {
   "cell_type": "markdown",
   "id": "2b52637f",
   "metadata": {
    "papermill": {
     "duration": 0.018288,
     "end_time": "2024-05-16T18:47:33.547233",
     "exception": false,
     "start_time": "2024-05-16T18:47:33.528945",
     "status": "completed"
    },
    "tags": []
   },
   "source": [
    "<p style=\"font-size:18px;\"> From this I can see there is 3 duplicated rows in the sleep dataset. I decided to remove the duplicates from the sleep dataset as only a small quantiy of lines were duplicated and removing these lines would have minimal impact on my analysis."
   ]
  },
  {
   "cell_type": "code",
   "execution_count": 4,
   "id": "b569d703",
   "metadata": {
    "execution": {
     "iopub.execute_input": "2024-05-16T18:47:33.586891Z",
     "iopub.status.busy": "2024-05-16T18:47:33.586382Z",
     "iopub.status.idle": "2024-05-16T18:47:33.600788Z",
     "shell.execute_reply": "2024-05-16T18:47:33.599303Z"
    },
    "papermill": {
     "duration": 0.036959,
     "end_time": "2024-05-16T18:47:33.603469",
     "exception": false,
     "start_time": "2024-05-16T18:47:33.566510",
     "status": "completed"
    },
    "tags": []
   },
   "outputs": [
    {
     "name": "stdout",
     "output_type": "stream",
     "text": [
      "Duplicates values removed\n"
     ]
    }
   ],
   "source": [
    "df_sleep.drop_duplicates(inplace=True)\n",
    "print(\"Duplicates values removed\")"
   ]
  },
  {
   "cell_type": "markdown",
   "id": "e3e2df01",
   "metadata": {
    "papermill": {
     "duration": 0.018151,
     "end_time": "2024-05-16T18:47:33.640783",
     "exception": false,
     "start_time": "2024-05-16T18:47:33.622632",
     "status": "completed"
    },
    "tags": []
   },
   "source": [
    "<p style=\"font-size:18px;\"> To ensure that the imported datasets had no duplicated rows or missing values I checked both again and found that there were 0 duplicated row or missing values as such I could start exploring and analysing the data. "
   ]
  },
  {
   "cell_type": "code",
   "execution_count": 5,
   "id": "7fcfeffe",
   "metadata": {
    "execution": {
     "iopub.execute_input": "2024-05-16T18:47:33.680125Z",
     "iopub.status.busy": "2024-05-16T18:47:33.679455Z",
     "iopub.status.idle": "2024-05-16T18:47:33.697873Z",
     "shell.execute_reply": "2024-05-16T18:47:33.697018Z"
    },
    "papermill": {
     "duration": 0.041522,
     "end_time": "2024-05-16T18:47:33.701106",
     "exception": false,
     "start_time": "2024-05-16T18:47:33.659584",
     "status": "completed"
    },
    "tags": []
   },
   "outputs": [
    {
     "name": "stdout",
     "output_type": "stream",
     "text": [
      "Number of null values in the dataset df_activity 0\n",
      "Number of duplicated values in the dataset df_activity 0\n",
      "---------------------------------------------------------------\n",
      "Number of null values in the dataset df_steps 0\n",
      "Number of duplicated values in the dataset df_steps 0\n",
      "---------------------------------------------------------------\n",
      "Number of null values in the dataset df_sleep 0\n",
      "Number of duplicated values in the dataset df_sleep 0\n",
      "---------------------------------------------------------------\n"
     ]
    }
   ],
   "source": [
    "clean_check()"
   ]
  },
  {
   "cell_type": "markdown",
   "id": "bbc136e2",
   "metadata": {
    "papermill": {
     "duration": 0.018345,
     "end_time": "2024-05-16T18:47:33.737983",
     "exception": false,
     "start_time": "2024-05-16T18:47:33.719638",
     "status": "completed"
    },
    "tags": []
   },
   "source": [
    "# **Data Exploration & Analysis** \n",
    "    \n",
    "***\n",
    "    "
   ]
  },
  {
   "cell_type": "markdown",
   "id": "1aa50850",
   "metadata": {
    "papermill": {
     "duration": 0.018001,
     "end_time": "2024-05-16T18:47:33.774386",
     "exception": false,
     "start_time": "2024-05-16T18:47:33.756385",
     "status": "completed"
    },
    "tags": []
   },
   "source": [
    "<p style=\"font-size:18px;\"> To begin I wanted to understand how many users the data was reflective of so for each of the imported datasets I wrote the following code to determine how many users data was in each dataset. Overall it appears that is a small number of users in each data set with the activity and steps datasets containting data from 33 users and the sleep dataset containing data from 24 users."
   ]
  },
  {
   "cell_type": "code",
   "execution_count": 6,
   "id": "97b23cec",
   "metadata": {
    "execution": {
     "iopub.execute_input": "2024-05-16T18:47:33.813723Z",
     "iopub.status.busy": "2024-05-16T18:47:33.813219Z",
     "iopub.status.idle": "2024-05-16T18:47:33.823045Z",
     "shell.execute_reply": "2024-05-16T18:47:33.821779Z"
    },
    "papermill": {
     "duration": 0.032602,
     "end_time": "2024-05-16T18:47:33.825376",
     "exception": false,
     "start_time": "2024-05-16T18:47:33.792774",
     "status": "completed"
    },
    "tags": []
   },
   "outputs": [
    {
     "name": "stdout",
     "output_type": "stream",
     "text": [
      "33 Users data is contained within the daily activity dataset\n",
      "33 Users data is contained within the hourly steps dataset\n",
      "24 Users data is contained within the sleep day dataset\n"
     ]
    }
   ],
   "source": [
    "print(df_activity[\"Id\"].nunique(), \"Users data is contained within the daily activity dataset\")\n",
    "print(df_steps[\"Id\"].nunique(), \"Users data is contained within the hourly steps dataset\")\n",
    "print(df_sleep[\"Id\"].nunique(), \"Users data is contained within the sleep day dataset\")"
   ]
  },
  {
   "cell_type": "markdown",
   "id": "e9ee94c8",
   "metadata": {
    "papermill": {
     "duration": 0.018864,
     "end_time": "2024-05-16T18:47:33.863373",
     "exception": false,
     "start_time": "2024-05-16T18:47:33.844509",
     "status": "completed"
    },
    "tags": []
   },
   "source": [
    "<p style=\"font-size:18px;\"> To Make the data more manageable and allow for a more detailed analysis I decided it would be benificial to join the sleep dataset onto the main activity dataset as this would give me greater control over the data. To begin I ensured that all the date columns are in datetime format as I would be using the Id and date columns to join the datasets. Once the datasets had been merged I dropped the duplicated and unnecessary column and then printed out the head of the data to ensure the datasets joined correctly."
   ]
  },
  {
   "cell_type": "code",
   "execution_count": 7,
   "id": "1ba21a79",
   "metadata": {
    "execution": {
     "iopub.execute_input": "2024-05-16T18:47:33.903569Z",
     "iopub.status.busy": "2024-05-16T18:47:33.902790Z",
     "iopub.status.idle": "2024-05-16T18:47:33.961838Z",
     "shell.execute_reply": "2024-05-16T18:47:33.960543Z"
    },
    "papermill": {
     "duration": 0.082362,
     "end_time": "2024-05-16T18:47:33.964698",
     "exception": false,
     "start_time": "2024-05-16T18:47:33.882336",
     "status": "completed"
    },
    "tags": []
   },
   "outputs": [
    {
     "data": {
      "text/html": [
       "<div>\n",
       "<style scoped>\n",
       "    .dataframe tbody tr th:only-of-type {\n",
       "        vertical-align: middle;\n",
       "    }\n",
       "\n",
       "    .dataframe tbody tr th {\n",
       "        vertical-align: top;\n",
       "    }\n",
       "\n",
       "    .dataframe thead th {\n",
       "        text-align: right;\n",
       "    }\n",
       "</style>\n",
       "<table border=\"1\" class=\"dataframe\">\n",
       "  <thead>\n",
       "    <tr style=\"text-align: right;\">\n",
       "      <th></th>\n",
       "      <th>Id</th>\n",
       "      <th>ActivityDate</th>\n",
       "      <th>TotalSteps</th>\n",
       "      <th>TotalDistance</th>\n",
       "      <th>TrackerDistance</th>\n",
       "      <th>LoggedActivitiesDistance</th>\n",
       "      <th>VeryActiveDistance</th>\n",
       "      <th>ModeratelyActiveDistance</th>\n",
       "      <th>LightActiveDistance</th>\n",
       "      <th>SedentaryActiveDistance</th>\n",
       "      <th>VeryActiveMinutes</th>\n",
       "      <th>FairlyActiveMinutes</th>\n",
       "      <th>LightlyActiveMinutes</th>\n",
       "      <th>SedentaryMinutes</th>\n",
       "      <th>Calories</th>\n",
       "      <th>TotalSleepRecords</th>\n",
       "      <th>TotalMinutesAsleep</th>\n",
       "      <th>TotalTimeInBed</th>\n",
       "    </tr>\n",
       "  </thead>\n",
       "  <tbody>\n",
       "    <tr>\n",
       "      <th>0</th>\n",
       "      <td>1503960366</td>\n",
       "      <td>2016-04-12</td>\n",
       "      <td>13162</td>\n",
       "      <td>8.50</td>\n",
       "      <td>8.50</td>\n",
       "      <td>0.0</td>\n",
       "      <td>1.88</td>\n",
       "      <td>0.55</td>\n",
       "      <td>6.06</td>\n",
       "      <td>0.0</td>\n",
       "      <td>25</td>\n",
       "      <td>13</td>\n",
       "      <td>328</td>\n",
       "      <td>728</td>\n",
       "      <td>1985</td>\n",
       "      <td>1.0</td>\n",
       "      <td>327.0</td>\n",
       "      <td>346.0</td>\n",
       "    </tr>\n",
       "    <tr>\n",
       "      <th>1</th>\n",
       "      <td>1503960366</td>\n",
       "      <td>2016-04-13</td>\n",
       "      <td>10735</td>\n",
       "      <td>6.97</td>\n",
       "      <td>6.97</td>\n",
       "      <td>0.0</td>\n",
       "      <td>1.57</td>\n",
       "      <td>0.69</td>\n",
       "      <td>4.71</td>\n",
       "      <td>0.0</td>\n",
       "      <td>21</td>\n",
       "      <td>19</td>\n",
       "      <td>217</td>\n",
       "      <td>776</td>\n",
       "      <td>1797</td>\n",
       "      <td>2.0</td>\n",
       "      <td>384.0</td>\n",
       "      <td>407.0</td>\n",
       "    </tr>\n",
       "    <tr>\n",
       "      <th>2</th>\n",
       "      <td>1503960366</td>\n",
       "      <td>2016-04-14</td>\n",
       "      <td>10460</td>\n",
       "      <td>6.74</td>\n",
       "      <td>6.74</td>\n",
       "      <td>0.0</td>\n",
       "      <td>2.44</td>\n",
       "      <td>0.40</td>\n",
       "      <td>3.91</td>\n",
       "      <td>0.0</td>\n",
       "      <td>30</td>\n",
       "      <td>11</td>\n",
       "      <td>181</td>\n",
       "      <td>1218</td>\n",
       "      <td>1776</td>\n",
       "      <td>NaN</td>\n",
       "      <td>NaN</td>\n",
       "      <td>NaN</td>\n",
       "    </tr>\n",
       "    <tr>\n",
       "      <th>3</th>\n",
       "      <td>1503960366</td>\n",
       "      <td>2016-04-15</td>\n",
       "      <td>9762</td>\n",
       "      <td>6.28</td>\n",
       "      <td>6.28</td>\n",
       "      <td>0.0</td>\n",
       "      <td>2.14</td>\n",
       "      <td>1.26</td>\n",
       "      <td>2.83</td>\n",
       "      <td>0.0</td>\n",
       "      <td>29</td>\n",
       "      <td>34</td>\n",
       "      <td>209</td>\n",
       "      <td>726</td>\n",
       "      <td>1745</td>\n",
       "      <td>1.0</td>\n",
       "      <td>412.0</td>\n",
       "      <td>442.0</td>\n",
       "    </tr>\n",
       "    <tr>\n",
       "      <th>4</th>\n",
       "      <td>1503960366</td>\n",
       "      <td>2016-04-16</td>\n",
       "      <td>12669</td>\n",
       "      <td>8.16</td>\n",
       "      <td>8.16</td>\n",
       "      <td>0.0</td>\n",
       "      <td>2.71</td>\n",
       "      <td>0.41</td>\n",
       "      <td>5.04</td>\n",
       "      <td>0.0</td>\n",
       "      <td>36</td>\n",
       "      <td>10</td>\n",
       "      <td>221</td>\n",
       "      <td>773</td>\n",
       "      <td>1863</td>\n",
       "      <td>2.0</td>\n",
       "      <td>340.0</td>\n",
       "      <td>367.0</td>\n",
       "    </tr>\n",
       "  </tbody>\n",
       "</table>\n",
       "</div>"
      ],
      "text/plain": [
       "           Id ActivityDate  TotalSteps  TotalDistance  TrackerDistance  \\\n",
       "0  1503960366   2016-04-12       13162           8.50             8.50   \n",
       "1  1503960366   2016-04-13       10735           6.97             6.97   \n",
       "2  1503960366   2016-04-14       10460           6.74             6.74   \n",
       "3  1503960366   2016-04-15        9762           6.28             6.28   \n",
       "4  1503960366   2016-04-16       12669           8.16             8.16   \n",
       "\n",
       "   LoggedActivitiesDistance  VeryActiveDistance  ModeratelyActiveDistance  \\\n",
       "0                       0.0                1.88                      0.55   \n",
       "1                       0.0                1.57                      0.69   \n",
       "2                       0.0                2.44                      0.40   \n",
       "3                       0.0                2.14                      1.26   \n",
       "4                       0.0                2.71                      0.41   \n",
       "\n",
       "   LightActiveDistance  SedentaryActiveDistance  VeryActiveMinutes  \\\n",
       "0                 6.06                      0.0                 25   \n",
       "1                 4.71                      0.0                 21   \n",
       "2                 3.91                      0.0                 30   \n",
       "3                 2.83                      0.0                 29   \n",
       "4                 5.04                      0.0                 36   \n",
       "\n",
       "   FairlyActiveMinutes  LightlyActiveMinutes  SedentaryMinutes  Calories  \\\n",
       "0                   13                   328               728      1985   \n",
       "1                   19                   217               776      1797   \n",
       "2                   11                   181              1218      1776   \n",
       "3                   34                   209               726      1745   \n",
       "4                   10                   221               773      1863   \n",
       "\n",
       "   TotalSleepRecords  TotalMinutesAsleep  TotalTimeInBed  \n",
       "0                1.0               327.0           346.0  \n",
       "1                2.0               384.0           407.0  \n",
       "2                NaN                 NaN             NaN  \n",
       "3                1.0               412.0           442.0  \n",
       "4                2.0               340.0           367.0  "
      ]
     },
     "execution_count": 7,
     "metadata": {},
     "output_type": "execute_result"
    }
   ],
   "source": [
    "#Changing the date from object to datetime datatype.\n",
    "df_activity[\"ActivityDate\"]=pd.to_datetime(df_activity[\"ActivityDate\"])\n",
    "df_sleep[\"SleepDay\"] = pd.to_datetime(df_sleep[\"SleepDay\"], format='%m/%d/%Y %I:%M:%S %p')\n",
    "\n",
    "# Merge data frames\n",
    "df_activity = pd.merge(df_activity, df_sleep, left_on=['Id', 'ActivityDate'], right_on=['Id', 'SleepDay'], how='left')\n",
    "\n",
    "# Drop the duplicated and nonessential column\n",
    "df_activity.drop(['SleepDay'], axis=1, inplace=True)\n",
    "\n",
    "# Display the top 5 rows from the merged dataframe\n",
    "df_activity.head()"
   ]
  },
  {
   "cell_type": "markdown",
   "id": "cb3175cc",
   "metadata": {
    "papermill": {
     "duration": 0.01912,
     "end_time": "2024-05-16T18:47:34.003457",
     "exception": false,
     "start_time": "2024-05-16T18:47:33.984337",
     "status": "completed"
    },
    "tags": []
   },
   "source": [
    "<p style=\"font-size:18px;\"> Where there was not sleep data for all the 33 users in the sleep dataset, there are now several null values in the df_activity dataset. This is due to the lack of sleep data. To correct this the following code fills all the null values with 0."
   ]
  },
  {
   "cell_type": "code",
   "execution_count": 8,
   "id": "4f1520dd",
   "metadata": {
    "execution": {
     "iopub.execute_input": "2024-05-16T18:47:34.045392Z",
     "iopub.status.busy": "2024-05-16T18:47:34.044906Z",
     "iopub.status.idle": "2024-05-16T18:47:34.053735Z",
     "shell.execute_reply": "2024-05-16T18:47:34.052455Z"
    },
    "papermill": {
     "duration": 0.032401,
     "end_time": "2024-05-16T18:47:34.056197",
     "exception": false,
     "start_time": "2024-05-16T18:47:34.023796",
     "status": "completed"
    },
    "tags": []
   },
   "outputs": [],
   "source": [
    "# Dictionary specifying columns and their corresponding values to fill the null values\n",
    "fillna_dict = {\"TotalSleepRecords\": 0,\"TotalMinutesAsleep\": 0,\"TotalTimeInBed\": 0}\n",
    "\n",
    "# Fill null values in specified columns with corresponding values from the dictionary \"fillna_dict\"\n",
    "df_activity.fillna(fillna_dict, inplace=True)"
   ]
  },
  {
   "cell_type": "markdown",
   "id": "0fda55f8",
   "metadata": {
    "papermill": {
     "duration": 0.020191,
     "end_time": "2024-05-16T18:47:34.098121",
     "exception": false,
     "start_time": "2024-05-16T18:47:34.077930",
     "status": "completed"
    },
    "tags": []
   },
   "source": [
    "<p style=\"font-size:18px;\"> Now that the data was joined into one dataset I started by getting info on the dataset as this allowed me to understand the size of the dataset, the number of columns and the datatypes which made up the dataset. "
   ]
  },
  {
   "cell_type": "code",
   "execution_count": 9,
   "id": "7af16e1d",
   "metadata": {
    "execution": {
     "iopub.execute_input": "2024-05-16T18:47:34.139808Z",
     "iopub.status.busy": "2024-05-16T18:47:34.139026Z",
     "iopub.status.idle": "2024-05-16T18:47:34.158117Z",
     "shell.execute_reply": "2024-05-16T18:47:34.156856Z"
    },
    "papermill": {
     "duration": 0.04356,
     "end_time": "2024-05-16T18:47:34.161429",
     "exception": false,
     "start_time": "2024-05-16T18:47:34.117869",
     "status": "completed"
    },
    "tags": []
   },
   "outputs": [
    {
     "name": "stdout",
     "output_type": "stream",
     "text": [
      "<class 'pandas.core.frame.DataFrame'>\n",
      "RangeIndex: 940 entries, 0 to 939\n",
      "Data columns (total 18 columns):\n",
      " #   Column                    Non-Null Count  Dtype         \n",
      "---  ------                    --------------  -----         \n",
      " 0   Id                        940 non-null    int64         \n",
      " 1   ActivityDate              940 non-null    datetime64[ns]\n",
      " 2   TotalSteps                940 non-null    int64         \n",
      " 3   TotalDistance             940 non-null    float64       \n",
      " 4   TrackerDistance           940 non-null    float64       \n",
      " 5   LoggedActivitiesDistance  940 non-null    float64       \n",
      " 6   VeryActiveDistance        940 non-null    float64       \n",
      " 7   ModeratelyActiveDistance  940 non-null    float64       \n",
      " 8   LightActiveDistance       940 non-null    float64       \n",
      " 9   SedentaryActiveDistance   940 non-null    float64       \n",
      " 10  VeryActiveMinutes         940 non-null    int64         \n",
      " 11  FairlyActiveMinutes       940 non-null    int64         \n",
      " 12  LightlyActiveMinutes      940 non-null    int64         \n",
      " 13  SedentaryMinutes          940 non-null    int64         \n",
      " 14  Calories                  940 non-null    int64         \n",
      " 15  TotalSleepRecords         940 non-null    float64       \n",
      " 16  TotalMinutesAsleep        940 non-null    float64       \n",
      " 17  TotalTimeInBed            940 non-null    float64       \n",
      "dtypes: datetime64[ns](1), float64(10), int64(7)\n",
      "memory usage: 132.3 KB\n"
     ]
    }
   ],
   "source": [
    "df_activity.info()"
   ]
  },
  {
   "cell_type": "markdown",
   "id": "53cfe9e1",
   "metadata": {
    "papermill": {
     "duration": 0.019484,
     "end_time": "2024-05-16T18:47:34.308235",
     "exception": false,
     "start_time": "2024-05-16T18:47:34.288751",
     "status": "completed"
    },
    "tags": []
   },
   "source": [
    "<p style=\"font-size:18px;\">  Next I wanted to add some additonal columns which would help with my analysis. The first column I added was called \"Total_Active_Mins\" which totals all of the active minute columns into one total value column. The second column I created was the \"Total_Mins\" column which adds the total active minutes and total sedentary mins together to identify how many minutes of data was recorded in a day. My third added column \"Day_of_week\" contains the day of the week based on the date provided in the \"ActivityDate\" column."
   ]
  },
  {
   "cell_type": "code",
   "execution_count": 10,
   "id": "fa2dcc60",
   "metadata": {
    "execution": {
     "iopub.execute_input": "2024-05-16T18:47:34.353693Z",
     "iopub.status.busy": "2024-05-16T18:47:34.352983Z",
     "iopub.status.idle": "2024-05-16T18:47:34.398967Z",
     "shell.execute_reply": "2024-05-16T18:47:34.396066Z"
    },
    "papermill": {
     "duration": 0.074981,
     "end_time": "2024-05-16T18:47:34.402812",
     "exception": false,
     "start_time": "2024-05-16T18:47:34.327831",
     "status": "completed"
    },
    "tags": []
   },
   "outputs": [
    {
     "data": {
      "text/html": [
       "<div>\n",
       "<style scoped>\n",
       "    .dataframe tbody tr th:only-of-type {\n",
       "        vertical-align: middle;\n",
       "    }\n",
       "\n",
       "    .dataframe tbody tr th {\n",
       "        vertical-align: top;\n",
       "    }\n",
       "\n",
       "    .dataframe thead th {\n",
       "        text-align: right;\n",
       "    }\n",
       "</style>\n",
       "<table border=\"1\" class=\"dataframe\">\n",
       "  <thead>\n",
       "    <tr style=\"text-align: right;\">\n",
       "      <th></th>\n",
       "      <th>Id</th>\n",
       "      <th>ActivityDate</th>\n",
       "      <th>TotalSteps</th>\n",
       "      <th>TotalDistance</th>\n",
       "      <th>TrackerDistance</th>\n",
       "      <th>LoggedActivitiesDistance</th>\n",
       "      <th>VeryActiveDistance</th>\n",
       "      <th>ModeratelyActiveDistance</th>\n",
       "      <th>LightActiveDistance</th>\n",
       "      <th>SedentaryActiveDistance</th>\n",
       "      <th>...</th>\n",
       "      <th>FairlyActiveMinutes</th>\n",
       "      <th>LightlyActiveMinutes</th>\n",
       "      <th>SedentaryMinutes</th>\n",
       "      <th>Calories</th>\n",
       "      <th>TotalSleepRecords</th>\n",
       "      <th>TotalMinutesAsleep</th>\n",
       "      <th>TotalTimeInBed</th>\n",
       "      <th>Total_Active_Mins</th>\n",
       "      <th>Total_Mins</th>\n",
       "      <th>Day_of_week</th>\n",
       "    </tr>\n",
       "  </thead>\n",
       "  <tbody>\n",
       "    <tr>\n",
       "      <th>0</th>\n",
       "      <td>1503960366</td>\n",
       "      <td>2016-04-12</td>\n",
       "      <td>13162</td>\n",
       "      <td>8.50</td>\n",
       "      <td>8.50</td>\n",
       "      <td>0.0</td>\n",
       "      <td>1.88</td>\n",
       "      <td>0.55</td>\n",
       "      <td>6.06</td>\n",
       "      <td>0.0</td>\n",
       "      <td>...</td>\n",
       "      <td>13</td>\n",
       "      <td>328</td>\n",
       "      <td>728</td>\n",
       "      <td>1985</td>\n",
       "      <td>1.0</td>\n",
       "      <td>327.0</td>\n",
       "      <td>346.0</td>\n",
       "      <td>366</td>\n",
       "      <td>1094</td>\n",
       "      <td>Tuesday</td>\n",
       "    </tr>\n",
       "    <tr>\n",
       "      <th>1</th>\n",
       "      <td>1503960366</td>\n",
       "      <td>2016-04-13</td>\n",
       "      <td>10735</td>\n",
       "      <td>6.97</td>\n",
       "      <td>6.97</td>\n",
       "      <td>0.0</td>\n",
       "      <td>1.57</td>\n",
       "      <td>0.69</td>\n",
       "      <td>4.71</td>\n",
       "      <td>0.0</td>\n",
       "      <td>...</td>\n",
       "      <td>19</td>\n",
       "      <td>217</td>\n",
       "      <td>776</td>\n",
       "      <td>1797</td>\n",
       "      <td>2.0</td>\n",
       "      <td>384.0</td>\n",
       "      <td>407.0</td>\n",
       "      <td>257</td>\n",
       "      <td>1033</td>\n",
       "      <td>Wednesday</td>\n",
       "    </tr>\n",
       "    <tr>\n",
       "      <th>2</th>\n",
       "      <td>1503960366</td>\n",
       "      <td>2016-04-14</td>\n",
       "      <td>10460</td>\n",
       "      <td>6.74</td>\n",
       "      <td>6.74</td>\n",
       "      <td>0.0</td>\n",
       "      <td>2.44</td>\n",
       "      <td>0.40</td>\n",
       "      <td>3.91</td>\n",
       "      <td>0.0</td>\n",
       "      <td>...</td>\n",
       "      <td>11</td>\n",
       "      <td>181</td>\n",
       "      <td>1218</td>\n",
       "      <td>1776</td>\n",
       "      <td>0.0</td>\n",
       "      <td>0.0</td>\n",
       "      <td>0.0</td>\n",
       "      <td>222</td>\n",
       "      <td>1440</td>\n",
       "      <td>Thursday</td>\n",
       "    </tr>\n",
       "    <tr>\n",
       "      <th>3</th>\n",
       "      <td>1503960366</td>\n",
       "      <td>2016-04-15</td>\n",
       "      <td>9762</td>\n",
       "      <td>6.28</td>\n",
       "      <td>6.28</td>\n",
       "      <td>0.0</td>\n",
       "      <td>2.14</td>\n",
       "      <td>1.26</td>\n",
       "      <td>2.83</td>\n",
       "      <td>0.0</td>\n",
       "      <td>...</td>\n",
       "      <td>34</td>\n",
       "      <td>209</td>\n",
       "      <td>726</td>\n",
       "      <td>1745</td>\n",
       "      <td>1.0</td>\n",
       "      <td>412.0</td>\n",
       "      <td>442.0</td>\n",
       "      <td>272</td>\n",
       "      <td>998</td>\n",
       "      <td>Friday</td>\n",
       "    </tr>\n",
       "    <tr>\n",
       "      <th>4</th>\n",
       "      <td>1503960366</td>\n",
       "      <td>2016-04-16</td>\n",
       "      <td>12669</td>\n",
       "      <td>8.16</td>\n",
       "      <td>8.16</td>\n",
       "      <td>0.0</td>\n",
       "      <td>2.71</td>\n",
       "      <td>0.41</td>\n",
       "      <td>5.04</td>\n",
       "      <td>0.0</td>\n",
       "      <td>...</td>\n",
       "      <td>10</td>\n",
       "      <td>221</td>\n",
       "      <td>773</td>\n",
       "      <td>1863</td>\n",
       "      <td>2.0</td>\n",
       "      <td>340.0</td>\n",
       "      <td>367.0</td>\n",
       "      <td>267</td>\n",
       "      <td>1040</td>\n",
       "      <td>Saturday</td>\n",
       "    </tr>\n",
       "  </tbody>\n",
       "</table>\n",
       "<p>5 rows × 21 columns</p>\n",
       "</div>"
      ],
      "text/plain": [
       "           Id ActivityDate  TotalSteps  TotalDistance  TrackerDistance  \\\n",
       "0  1503960366   2016-04-12       13162           8.50             8.50   \n",
       "1  1503960366   2016-04-13       10735           6.97             6.97   \n",
       "2  1503960366   2016-04-14       10460           6.74             6.74   \n",
       "3  1503960366   2016-04-15        9762           6.28             6.28   \n",
       "4  1503960366   2016-04-16       12669           8.16             8.16   \n",
       "\n",
       "   LoggedActivitiesDistance  VeryActiveDistance  ModeratelyActiveDistance  \\\n",
       "0                       0.0                1.88                      0.55   \n",
       "1                       0.0                1.57                      0.69   \n",
       "2                       0.0                2.44                      0.40   \n",
       "3                       0.0                2.14                      1.26   \n",
       "4                       0.0                2.71                      0.41   \n",
       "\n",
       "   LightActiveDistance  SedentaryActiveDistance  ...  FairlyActiveMinutes  \\\n",
       "0                 6.06                      0.0  ...                   13   \n",
       "1                 4.71                      0.0  ...                   19   \n",
       "2                 3.91                      0.0  ...                   11   \n",
       "3                 2.83                      0.0  ...                   34   \n",
       "4                 5.04                      0.0  ...                   10   \n",
       "\n",
       "   LightlyActiveMinutes  SedentaryMinutes  Calories  TotalSleepRecords  \\\n",
       "0                   328               728      1985                1.0   \n",
       "1                   217               776      1797                2.0   \n",
       "2                   181              1218      1776                0.0   \n",
       "3                   209               726      1745                1.0   \n",
       "4                   221               773      1863                2.0   \n",
       "\n",
       "   TotalMinutesAsleep  TotalTimeInBed  Total_Active_Mins  Total_Mins  \\\n",
       "0               327.0           346.0                366        1094   \n",
       "1               384.0           407.0                257        1033   \n",
       "2                 0.0             0.0                222        1440   \n",
       "3               412.0           442.0                272         998   \n",
       "4               340.0           367.0                267        1040   \n",
       "\n",
       "   Day_of_week  \n",
       "0      Tuesday  \n",
       "1    Wednesday  \n",
       "2     Thursday  \n",
       "3       Friday  \n",
       "4     Saturday  \n",
       "\n",
       "[5 rows x 21 columns]"
      ]
     },
     "execution_count": 10,
     "metadata": {},
     "output_type": "execute_result"
    }
   ],
   "source": [
    "#Changing the date from object to datetime datatype.\n",
    "#df_activity[\"ActivityDate\"]=pd.to_datetime(df_activity[\"ActivityDate\"])\n",
    "\n",
    "#Creating a new column which totals all the active minutes.\n",
    "df_activity[\"Total_Active_Mins\"] = df_activity['VeryActiveMinutes'] + df_activity['FairlyActiveMinutes'] + df_activity['LightlyActiveMinutes']\n",
    "\n",
    "#Creating a new column which total the number of recorded minutes.\n",
    "df_activity[\"Total_Mins\"] = df_activity[\"Total_Active_Mins\"] + df_activity[\"SedentaryMinutes\"]\n",
    "\n",
    "#Creating a new column which contains the day of the week from the date in the ActivityDate column.\n",
    "df_activity[\"Day_of_week\"] = df_activity[\"ActivityDate\"].dt.day_name()\n",
    "\n",
    "#Visulizing the newly created columns\n",
    "df_activity.head()"
   ]
  },
  {
   "cell_type": "markdown",
   "id": "f0ed9751",
   "metadata": {
    "papermill": {
     "duration": 0.026185,
     "end_time": "2024-05-16T18:47:34.456236",
     "exception": false,
     "start_time": "2024-05-16T18:47:34.430051",
     "status": "completed"
    },
    "tags": []
   },
   "source": [
    "<p style=\"font-size:18px;\"> Before I start exploring and analyzing the data I think it may help to visualise the data in a correlation matrix to give me a high level overview of the data and to see if there is any unexpected or unusual correlation which I could investigate further."
   ]
  },
  {
   "cell_type": "code",
   "execution_count": 11,
   "id": "405ca7f1",
   "metadata": {
    "execution": {
     "iopub.execute_input": "2024-05-16T18:47:34.506503Z",
     "iopub.status.busy": "2024-05-16T18:47:34.505620Z",
     "iopub.status.idle": "2024-05-16T18:47:35.143487Z",
     "shell.execute_reply": "2024-05-16T18:47:35.142442Z"
    },
    "papermill": {
     "duration": 0.667639,
     "end_time": "2024-05-16T18:47:35.146847",
     "exception": false,
     "start_time": "2024-05-16T18:47:34.479208",
     "status": "completed"
    },
    "tags": []
   },
   "outputs": [
    {
     "data": {
      "text/html": [
       "        <script type=\"text/javascript\">\n",
       "        window.PlotlyConfig = {MathJaxConfig: 'local'};\n",
       "        if (window.MathJax && window.MathJax.Hub && window.MathJax.Hub.Config) {window.MathJax.Hub.Config({SVG: {font: \"STIX-Web\"}});}\n",
       "        if (typeof require !== 'undefined') {\n",
       "        require.undef(\"plotly\");\n",
       "        requirejs.config({\n",
       "            paths: {\n",
       "                'plotly': ['https://cdn.plot.ly/plotly-2.27.0.min']\n",
       "            }\n",
       "        });\n",
       "        require(['plotly'], function(Plotly) {\n",
       "            window._Plotly = Plotly;\n",
       "        });\n",
       "        }\n",
       "        </script>\n",
       "        "
      ]
     },
     "metadata": {},
     "output_type": "display_data"
    },
    {
     "data": {
      "text/html": [
       "<div>                            <div id=\"9bfd666b-8b60-427e-a7a0-358af1d5ad3c\" class=\"plotly-graph-div\" style=\"height:1000px; width:1100px;\"></div>            <script type=\"text/javascript\">                require([\"plotly\"], function(Plotly) {                    window.PLOTLYENV=window.PLOTLYENV || {};                                    if (document.getElementById(\"9bfd666b-8b60-427e-a7a0-358af1d5ad3c\")) {                    Plotly.newPlot(                        \"9bfd666b-8b60-427e-a7a0-358af1d5ad3c\",                        [{\"colorscale\":[[0.0,\"rgb(217,30,30)\"],[0.25,\"rgb(242,143,56)\"],[0.5,\"rgb(242,211,56)\"],[0.75,\"rgb(10,136,186)\"],[1.0,\"rgb(12,51,131)\"]],\"reversescale\":false,\"showscale\":true,\"x\":[\"Id\",\"ActivityDate\",\"TotalSteps\",\"TotalDistance\",\"TrackerDistance\",\"LoggedActivitiesDistance\",\"VeryActiveDistance\",\"ModeratelyActiveDistance\",\"LightActiveDistance\",\"SedentaryActiveDistance\",\"VeryActiveMinutes\",\"FairlyActiveMinutes\",\"LightlyActiveMinutes\",\"SedentaryMinutes\",\"Calories\",\"Total_Active_Mins\",\"Total_Mins\",\"TotalSleepRecords\",\"TotalMinutesAsleep\",\"TotalTimeInBed\"],\"y\":[\"Id\",\"ActivityDate\",\"TotalSteps\",\"TotalDistance\",\"TrackerDistance\",\"LoggedActivitiesDistance\",\"VeryActiveDistance\",\"ModeratelyActiveDistance\",\"LightActiveDistance\",\"SedentaryActiveDistance\",\"VeryActiveMinutes\",\"FairlyActiveMinutes\",\"LightlyActiveMinutes\",\"SedentaryMinutes\",\"Calories\",\"Total_Active_Mins\",\"Total_Mins\",\"TotalSleepRecords\",\"TotalMinutesAsleep\",\"TotalTimeInBed\"],\"z\":[[1.0,-0.02,0.19,0.24,0.24,0.19,0.31,0.03,0.02,-0.02,0.3,0.05,-0.1,-0.04,0.4,0.0,-0.05,0.04,0.06,0.05],[-0.02,1.0,-0.04,-0.04,-0.04,-0.03,-0.03,0.04,-0.04,0.0,-0.04,0.03,-0.05,-0.1,-0.09,-0.05,-0.13,-0.02,0.01,0.01],[0.19,-0.04,1.0,0.99,0.98,0.18,0.74,0.51,0.69,0.07,0.67,0.5,0.57,-0.33,0.59,0.77,-0.02,0.11,0.11,0.11],[0.24,-0.04,0.99,1.0,1.0,0.19,0.79,0.47,0.66,0.08,0.68,0.46,0.52,-0.29,0.64,0.72,0.0,0.08,0.08,0.08],[0.24,-0.04,0.98,1.0,1.0,0.16,0.79,0.47,0.66,0.07,0.68,0.46,0.51,-0.29,0.65,0.72,0.0,0.08,0.08,0.08],[0.19,-0.03,0.18,0.19,0.16,1.0,0.15,0.08,0.14,0.15,0.23,0.05,0.1,-0.05,0.21,0.16,0.02,-0.01,-0.01,-0.01],[0.31,-0.03,0.74,0.79,0.79,0.15,1.0,0.19,0.16,0.05,0.83,0.21,0.06,-0.06,0.49,0.31,0.07,-0.04,-0.04,-0.04],[0.03,0.04,0.51,0.47,0.47,0.08,0.19,1.0,0.24,0.01,0.23,0.95,0.16,-0.22,0.22,0.36,-0.09,0.14,0.1,0.14],[0.02,-0.04,0.69,0.66,0.66,0.14,0.16,0.24,1.0,0.1,0.15,0.22,0.89,-0.41,0.47,0.87,-0.07,0.16,0.17,0.16],[-0.02,0.0,0.07,0.08,0.07,0.15,0.05,0.01,0.1,1.0,0.01,-0.02,0.12,0.04,0.04,0.11,0.09,-0.09,-0.09,-0.09],[0.3,-0.04,0.67,0.68,0.68,0.23,0.83,0.23,0.15,0.01,1.0,0.31,0.05,-0.16,0.62,0.37,-0.02,0.06,0.07,0.07],[0.05,0.03,0.5,0.46,0.46,0.05,0.21,0.95,0.22,-0.02,0.31,1.0,0.15,-0.24,0.3,0.38,-0.09,0.16,0.11,0.15],[-0.1,-0.05,0.57,0.52,0.51,0.1,0.06,0.16,0.89,0.12,0.05,0.15,1.0,-0.44,0.29,0.93,-0.07,0.16,0.18,0.17],[-0.04,-0.1,-0.33,-0.29,-0.29,-0.05,-0.06,-0.22,-0.41,0.04,-0.16,-0.24,-0.44,1.0,-0.11,-0.48,0.92,-0.76,-0.84,-0.84],[0.4,-0.09,0.59,0.64,0.65,0.21,0.49,0.22,0.47,0.04,0.62,0.3,0.29,-0.11,1.0,0.47,0.09,0.08,0.09,0.07],[0.0,-0.05,0.77,0.72,0.72,0.16,0.31,0.36,0.87,0.11,0.37,0.38,0.93,-0.48,0.47,1.0,-0.08,0.19,0.2,0.2],[-0.05,-0.13,-0.02,0.0,0.0,0.02,0.07,-0.09,-0.07,0.09,-0.02,-0.09,-0.07,0.92,0.09,-0.08,1.0,-0.77,-0.86,-0.86],[0.04,-0.02,0.11,0.08,0.08,-0.01,-0.04,0.14,0.16,-0.09,0.06,0.16,0.16,-0.76,0.08,0.19,-0.77,1.0,0.89,0.89],[0.06,0.01,0.11,0.08,0.08,-0.01,-0.04,0.1,0.17,-0.09,0.07,0.11,0.18,-0.84,0.09,0.2,-0.86,0.89,1.0,0.99],[0.05,0.01,0.11,0.08,0.08,-0.01,-0.04,0.14,0.16,-0.09,0.07,0.15,0.17,-0.84,0.07,0.2,-0.86,0.89,0.99,1.0]],\"zmax\":1,\"zmin\":-1,\"type\":\"heatmap\"}],                        {\"annotations\":[{\"font\":{\"color\":\"#FFFFFF\"},\"showarrow\":false,\"text\":\"1.0\",\"x\":\"Id\",\"xref\":\"x\",\"y\":\"Id\",\"yref\":\"y\"},{\"font\":{\"color\":\"#FFFFFF\"},\"showarrow\":false,\"text\":\"-0.02\",\"x\":\"ActivityDate\",\"xref\":\"x\",\"y\":\"Id\",\"yref\":\"y\"},{\"font\":{\"color\":\"#FFFFFF\"},\"showarrow\":false,\"text\":\"0.19\",\"x\":\"TotalSteps\",\"xref\":\"x\",\"y\":\"Id\",\"yref\":\"y\"},{\"font\":{\"color\":\"#FFFFFF\"},\"showarrow\":false,\"text\":\"0.24\",\"x\":\"TotalDistance\",\"xref\":\"x\",\"y\":\"Id\",\"yref\":\"y\"},{\"font\":{\"color\":\"#FFFFFF\"},\"showarrow\":false,\"text\":\"0.24\",\"x\":\"TrackerDistance\",\"xref\":\"x\",\"y\":\"Id\",\"yref\":\"y\"},{\"font\":{\"color\":\"#FFFFFF\"},\"showarrow\":false,\"text\":\"0.19\",\"x\":\"LoggedActivitiesDistance\",\"xref\":\"x\",\"y\":\"Id\",\"yref\":\"y\"},{\"font\":{\"color\":\"#FFFFFF\"},\"showarrow\":false,\"text\":\"0.31\",\"x\":\"VeryActiveDistance\",\"xref\":\"x\",\"y\":\"Id\",\"yref\":\"y\"},{\"font\":{\"color\":\"#FFFFFF\"},\"showarrow\":false,\"text\":\"0.03\",\"x\":\"ModeratelyActiveDistance\",\"xref\":\"x\",\"y\":\"Id\",\"yref\":\"y\"},{\"font\":{\"color\":\"#FFFFFF\"},\"showarrow\":false,\"text\":\"0.02\",\"x\":\"LightActiveDistance\",\"xref\":\"x\",\"y\":\"Id\",\"yref\":\"y\"},{\"font\":{\"color\":\"#FFFFFF\"},\"showarrow\":false,\"text\":\"-0.02\",\"x\":\"SedentaryActiveDistance\",\"xref\":\"x\",\"y\":\"Id\",\"yref\":\"y\"},{\"font\":{\"color\":\"#FFFFFF\"},\"showarrow\":false,\"text\":\"0.3\",\"x\":\"VeryActiveMinutes\",\"xref\":\"x\",\"y\":\"Id\",\"yref\":\"y\"},{\"font\":{\"color\":\"#FFFFFF\"},\"showarrow\":false,\"text\":\"0.05\",\"x\":\"FairlyActiveMinutes\",\"xref\":\"x\",\"y\":\"Id\",\"yref\":\"y\"},{\"font\":{\"color\":\"#FFFFFF\"},\"showarrow\":false,\"text\":\"-0.1\",\"x\":\"LightlyActiveMinutes\",\"xref\":\"x\",\"y\":\"Id\",\"yref\":\"y\"},{\"font\":{\"color\":\"#FFFFFF\"},\"showarrow\":false,\"text\":\"-0.04\",\"x\":\"SedentaryMinutes\",\"xref\":\"x\",\"y\":\"Id\",\"yref\":\"y\"},{\"font\":{\"color\":\"#FFFFFF\"},\"showarrow\":false,\"text\":\"0.4\",\"x\":\"Calories\",\"xref\":\"x\",\"y\":\"Id\",\"yref\":\"y\"},{\"font\":{\"color\":\"#FFFFFF\"},\"showarrow\":false,\"text\":\"0.0\",\"x\":\"Total_Active_Mins\",\"xref\":\"x\",\"y\":\"Id\",\"yref\":\"y\"},{\"font\":{\"color\":\"#FFFFFF\"},\"showarrow\":false,\"text\":\"-0.05\",\"x\":\"Total_Mins\",\"xref\":\"x\",\"y\":\"Id\",\"yref\":\"y\"},{\"font\":{\"color\":\"#FFFFFF\"},\"showarrow\":false,\"text\":\"0.04\",\"x\":\"TotalSleepRecords\",\"xref\":\"x\",\"y\":\"Id\",\"yref\":\"y\"},{\"font\":{\"color\":\"#FFFFFF\"},\"showarrow\":false,\"text\":\"0.06\",\"x\":\"TotalMinutesAsleep\",\"xref\":\"x\",\"y\":\"Id\",\"yref\":\"y\"},{\"font\":{\"color\":\"#FFFFFF\"},\"showarrow\":false,\"text\":\"0.05\",\"x\":\"TotalTimeInBed\",\"xref\":\"x\",\"y\":\"Id\",\"yref\":\"y\"},{\"font\":{\"color\":\"#FFFFFF\"},\"showarrow\":false,\"text\":\"-0.02\",\"x\":\"Id\",\"xref\":\"x\",\"y\":\"ActivityDate\",\"yref\":\"y\"},{\"font\":{\"color\":\"#FFFFFF\"},\"showarrow\":false,\"text\":\"1.0\",\"x\":\"ActivityDate\",\"xref\":\"x\",\"y\":\"ActivityDate\",\"yref\":\"y\"},{\"font\":{\"color\":\"#FFFFFF\"},\"showarrow\":false,\"text\":\"-0.04\",\"x\":\"TotalSteps\",\"xref\":\"x\",\"y\":\"ActivityDate\",\"yref\":\"y\"},{\"font\":{\"color\":\"#FFFFFF\"},\"showarrow\":false,\"text\":\"-0.04\",\"x\":\"TotalDistance\",\"xref\":\"x\",\"y\":\"ActivityDate\",\"yref\":\"y\"},{\"font\":{\"color\":\"#FFFFFF\"},\"showarrow\":false,\"text\":\"-0.04\",\"x\":\"TrackerDistance\",\"xref\":\"x\",\"y\":\"ActivityDate\",\"yref\":\"y\"},{\"font\":{\"color\":\"#FFFFFF\"},\"showarrow\":false,\"text\":\"-0.03\",\"x\":\"LoggedActivitiesDistance\",\"xref\":\"x\",\"y\":\"ActivityDate\",\"yref\":\"y\"},{\"font\":{\"color\":\"#FFFFFF\"},\"showarrow\":false,\"text\":\"-0.03\",\"x\":\"VeryActiveDistance\",\"xref\":\"x\",\"y\":\"ActivityDate\",\"yref\":\"y\"},{\"font\":{\"color\":\"#FFFFFF\"},\"showarrow\":false,\"text\":\"0.04\",\"x\":\"ModeratelyActiveDistance\",\"xref\":\"x\",\"y\":\"ActivityDate\",\"yref\":\"y\"},{\"font\":{\"color\":\"#FFFFFF\"},\"showarrow\":false,\"text\":\"-0.04\",\"x\":\"LightActiveDistance\",\"xref\":\"x\",\"y\":\"ActivityDate\",\"yref\":\"y\"},{\"font\":{\"color\":\"#FFFFFF\"},\"showarrow\":false,\"text\":\"0.0\",\"x\":\"SedentaryActiveDistance\",\"xref\":\"x\",\"y\":\"ActivityDate\",\"yref\":\"y\"},{\"font\":{\"color\":\"#FFFFFF\"},\"showarrow\":false,\"text\":\"-0.04\",\"x\":\"VeryActiveMinutes\",\"xref\":\"x\",\"y\":\"ActivityDate\",\"yref\":\"y\"},{\"font\":{\"color\":\"#FFFFFF\"},\"showarrow\":false,\"text\":\"0.03\",\"x\":\"FairlyActiveMinutes\",\"xref\":\"x\",\"y\":\"ActivityDate\",\"yref\":\"y\"},{\"font\":{\"color\":\"#FFFFFF\"},\"showarrow\":false,\"text\":\"-0.05\",\"x\":\"LightlyActiveMinutes\",\"xref\":\"x\",\"y\":\"ActivityDate\",\"yref\":\"y\"},{\"font\":{\"color\":\"#FFFFFF\"},\"showarrow\":false,\"text\":\"-0.1\",\"x\":\"SedentaryMinutes\",\"xref\":\"x\",\"y\":\"ActivityDate\",\"yref\":\"y\"},{\"font\":{\"color\":\"#FFFFFF\"},\"showarrow\":false,\"text\":\"-0.09\",\"x\":\"Calories\",\"xref\":\"x\",\"y\":\"ActivityDate\",\"yref\":\"y\"},{\"font\":{\"color\":\"#FFFFFF\"},\"showarrow\":false,\"text\":\"-0.05\",\"x\":\"Total_Active_Mins\",\"xref\":\"x\",\"y\":\"ActivityDate\",\"yref\":\"y\"},{\"font\":{\"color\":\"#FFFFFF\"},\"showarrow\":false,\"text\":\"-0.13\",\"x\":\"Total_Mins\",\"xref\":\"x\",\"y\":\"ActivityDate\",\"yref\":\"y\"},{\"font\":{\"color\":\"#FFFFFF\"},\"showarrow\":false,\"text\":\"-0.02\",\"x\":\"TotalSleepRecords\",\"xref\":\"x\",\"y\":\"ActivityDate\",\"yref\":\"y\"},{\"font\":{\"color\":\"#FFFFFF\"},\"showarrow\":false,\"text\":\"0.01\",\"x\":\"TotalMinutesAsleep\",\"xref\":\"x\",\"y\":\"ActivityDate\",\"yref\":\"y\"},{\"font\":{\"color\":\"#FFFFFF\"},\"showarrow\":false,\"text\":\"0.01\",\"x\":\"TotalTimeInBed\",\"xref\":\"x\",\"y\":\"ActivityDate\",\"yref\":\"y\"},{\"font\":{\"color\":\"#FFFFFF\"},\"showarrow\":false,\"text\":\"0.19\",\"x\":\"Id\",\"xref\":\"x\",\"y\":\"TotalSteps\",\"yref\":\"y\"},{\"font\":{\"color\":\"#FFFFFF\"},\"showarrow\":false,\"text\":\"-0.04\",\"x\":\"ActivityDate\",\"xref\":\"x\",\"y\":\"TotalSteps\",\"yref\":\"y\"},{\"font\":{\"color\":\"#FFFFFF\"},\"showarrow\":false,\"text\":\"1.0\",\"x\":\"TotalSteps\",\"xref\":\"x\",\"y\":\"TotalSteps\",\"yref\":\"y\"},{\"font\":{\"color\":\"#FFFFFF\"},\"showarrow\":false,\"text\":\"0.99\",\"x\":\"TotalDistance\",\"xref\":\"x\",\"y\":\"TotalSteps\",\"yref\":\"y\"},{\"font\":{\"color\":\"#FFFFFF\"},\"showarrow\":false,\"text\":\"0.98\",\"x\":\"TrackerDistance\",\"xref\":\"x\",\"y\":\"TotalSteps\",\"yref\":\"y\"},{\"font\":{\"color\":\"#FFFFFF\"},\"showarrow\":false,\"text\":\"0.18\",\"x\":\"LoggedActivitiesDistance\",\"xref\":\"x\",\"y\":\"TotalSteps\",\"yref\":\"y\"},{\"font\":{\"color\":\"#FFFFFF\"},\"showarrow\":false,\"text\":\"0.74\",\"x\":\"VeryActiveDistance\",\"xref\":\"x\",\"y\":\"TotalSteps\",\"yref\":\"y\"},{\"font\":{\"color\":\"#FFFFFF\"},\"showarrow\":false,\"text\":\"0.51\",\"x\":\"ModeratelyActiveDistance\",\"xref\":\"x\",\"y\":\"TotalSteps\",\"yref\":\"y\"},{\"font\":{\"color\":\"#FFFFFF\"},\"showarrow\":false,\"text\":\"0.69\",\"x\":\"LightActiveDistance\",\"xref\":\"x\",\"y\":\"TotalSteps\",\"yref\":\"y\"},{\"font\":{\"color\":\"#FFFFFF\"},\"showarrow\":false,\"text\":\"0.07\",\"x\":\"SedentaryActiveDistance\",\"xref\":\"x\",\"y\":\"TotalSteps\",\"yref\":\"y\"},{\"font\":{\"color\":\"#FFFFFF\"},\"showarrow\":false,\"text\":\"0.67\",\"x\":\"VeryActiveMinutes\",\"xref\":\"x\",\"y\":\"TotalSteps\",\"yref\":\"y\"},{\"font\":{\"color\":\"#FFFFFF\"},\"showarrow\":false,\"text\":\"0.5\",\"x\":\"FairlyActiveMinutes\",\"xref\":\"x\",\"y\":\"TotalSteps\",\"yref\":\"y\"},{\"font\":{\"color\":\"#FFFFFF\"},\"showarrow\":false,\"text\":\"0.57\",\"x\":\"LightlyActiveMinutes\",\"xref\":\"x\",\"y\":\"TotalSteps\",\"yref\":\"y\"},{\"font\":{\"color\":\"#FFFFFF\"},\"showarrow\":false,\"text\":\"-0.33\",\"x\":\"SedentaryMinutes\",\"xref\":\"x\",\"y\":\"TotalSteps\",\"yref\":\"y\"},{\"font\":{\"color\":\"#FFFFFF\"},\"showarrow\":false,\"text\":\"0.59\",\"x\":\"Calories\",\"xref\":\"x\",\"y\":\"TotalSteps\",\"yref\":\"y\"},{\"font\":{\"color\":\"#FFFFFF\"},\"showarrow\":false,\"text\":\"0.77\",\"x\":\"Total_Active_Mins\",\"xref\":\"x\",\"y\":\"TotalSteps\",\"yref\":\"y\"},{\"font\":{\"color\":\"#FFFFFF\"},\"showarrow\":false,\"text\":\"-0.02\",\"x\":\"Total_Mins\",\"xref\":\"x\",\"y\":\"TotalSteps\",\"yref\":\"y\"},{\"font\":{\"color\":\"#FFFFFF\"},\"showarrow\":false,\"text\":\"0.11\",\"x\":\"TotalSleepRecords\",\"xref\":\"x\",\"y\":\"TotalSteps\",\"yref\":\"y\"},{\"font\":{\"color\":\"#FFFFFF\"},\"showarrow\":false,\"text\":\"0.11\",\"x\":\"TotalMinutesAsleep\",\"xref\":\"x\",\"y\":\"TotalSteps\",\"yref\":\"y\"},{\"font\":{\"color\":\"#FFFFFF\"},\"showarrow\":false,\"text\":\"0.11\",\"x\":\"TotalTimeInBed\",\"xref\":\"x\",\"y\":\"TotalSteps\",\"yref\":\"y\"},{\"font\":{\"color\":\"#FFFFFF\"},\"showarrow\":false,\"text\":\"0.24\",\"x\":\"Id\",\"xref\":\"x\",\"y\":\"TotalDistance\",\"yref\":\"y\"},{\"font\":{\"color\":\"#FFFFFF\"},\"showarrow\":false,\"text\":\"-0.04\",\"x\":\"ActivityDate\",\"xref\":\"x\",\"y\":\"TotalDistance\",\"yref\":\"y\"},{\"font\":{\"color\":\"#FFFFFF\"},\"showarrow\":false,\"text\":\"0.99\",\"x\":\"TotalSteps\",\"xref\":\"x\",\"y\":\"TotalDistance\",\"yref\":\"y\"},{\"font\":{\"color\":\"#FFFFFF\"},\"showarrow\":false,\"text\":\"1.0\",\"x\":\"TotalDistance\",\"xref\":\"x\",\"y\":\"TotalDistance\",\"yref\":\"y\"},{\"font\":{\"color\":\"#FFFFFF\"},\"showarrow\":false,\"text\":\"1.0\",\"x\":\"TrackerDistance\",\"xref\":\"x\",\"y\":\"TotalDistance\",\"yref\":\"y\"},{\"font\":{\"color\":\"#FFFFFF\"},\"showarrow\":false,\"text\":\"0.19\",\"x\":\"LoggedActivitiesDistance\",\"xref\":\"x\",\"y\":\"TotalDistance\",\"yref\":\"y\"},{\"font\":{\"color\":\"#FFFFFF\"},\"showarrow\":false,\"text\":\"0.79\",\"x\":\"VeryActiveDistance\",\"xref\":\"x\",\"y\":\"TotalDistance\",\"yref\":\"y\"},{\"font\":{\"color\":\"#FFFFFF\"},\"showarrow\":false,\"text\":\"0.47\",\"x\":\"ModeratelyActiveDistance\",\"xref\":\"x\",\"y\":\"TotalDistance\",\"yref\":\"y\"},{\"font\":{\"color\":\"#FFFFFF\"},\"showarrow\":false,\"text\":\"0.66\",\"x\":\"LightActiveDistance\",\"xref\":\"x\",\"y\":\"TotalDistance\",\"yref\":\"y\"},{\"font\":{\"color\":\"#FFFFFF\"},\"showarrow\":false,\"text\":\"0.08\",\"x\":\"SedentaryActiveDistance\",\"xref\":\"x\",\"y\":\"TotalDistance\",\"yref\":\"y\"},{\"font\":{\"color\":\"#FFFFFF\"},\"showarrow\":false,\"text\":\"0.68\",\"x\":\"VeryActiveMinutes\",\"xref\":\"x\",\"y\":\"TotalDistance\",\"yref\":\"y\"},{\"font\":{\"color\":\"#FFFFFF\"},\"showarrow\":false,\"text\":\"0.46\",\"x\":\"FairlyActiveMinutes\",\"xref\":\"x\",\"y\":\"TotalDistance\",\"yref\":\"y\"},{\"font\":{\"color\":\"#FFFFFF\"},\"showarrow\":false,\"text\":\"0.52\",\"x\":\"LightlyActiveMinutes\",\"xref\":\"x\",\"y\":\"TotalDistance\",\"yref\":\"y\"},{\"font\":{\"color\":\"#FFFFFF\"},\"showarrow\":false,\"text\":\"-0.29\",\"x\":\"SedentaryMinutes\",\"xref\":\"x\",\"y\":\"TotalDistance\",\"yref\":\"y\"},{\"font\":{\"color\":\"#FFFFFF\"},\"showarrow\":false,\"text\":\"0.64\",\"x\":\"Calories\",\"xref\":\"x\",\"y\":\"TotalDistance\",\"yref\":\"y\"},{\"font\":{\"color\":\"#FFFFFF\"},\"showarrow\":false,\"text\":\"0.72\",\"x\":\"Total_Active_Mins\",\"xref\":\"x\",\"y\":\"TotalDistance\",\"yref\":\"y\"},{\"font\":{\"color\":\"#FFFFFF\"},\"showarrow\":false,\"text\":\"0.0\",\"x\":\"Total_Mins\",\"xref\":\"x\",\"y\":\"TotalDistance\",\"yref\":\"y\"},{\"font\":{\"color\":\"#FFFFFF\"},\"showarrow\":false,\"text\":\"0.08\",\"x\":\"TotalSleepRecords\",\"xref\":\"x\",\"y\":\"TotalDistance\",\"yref\":\"y\"},{\"font\":{\"color\":\"#FFFFFF\"},\"showarrow\":false,\"text\":\"0.08\",\"x\":\"TotalMinutesAsleep\",\"xref\":\"x\",\"y\":\"TotalDistance\",\"yref\":\"y\"},{\"font\":{\"color\":\"#FFFFFF\"},\"showarrow\":false,\"text\":\"0.08\",\"x\":\"TotalTimeInBed\",\"xref\":\"x\",\"y\":\"TotalDistance\",\"yref\":\"y\"},{\"font\":{\"color\":\"#FFFFFF\"},\"showarrow\":false,\"text\":\"0.24\",\"x\":\"Id\",\"xref\":\"x\",\"y\":\"TrackerDistance\",\"yref\":\"y\"},{\"font\":{\"color\":\"#FFFFFF\"},\"showarrow\":false,\"text\":\"-0.04\",\"x\":\"ActivityDate\",\"xref\":\"x\",\"y\":\"TrackerDistance\",\"yref\":\"y\"},{\"font\":{\"color\":\"#FFFFFF\"},\"showarrow\":false,\"text\":\"0.98\",\"x\":\"TotalSteps\",\"xref\":\"x\",\"y\":\"TrackerDistance\",\"yref\":\"y\"},{\"font\":{\"color\":\"#FFFFFF\"},\"showarrow\":false,\"text\":\"1.0\",\"x\":\"TotalDistance\",\"xref\":\"x\",\"y\":\"TrackerDistance\",\"yref\":\"y\"},{\"font\":{\"color\":\"#FFFFFF\"},\"showarrow\":false,\"text\":\"1.0\",\"x\":\"TrackerDistance\",\"xref\":\"x\",\"y\":\"TrackerDistance\",\"yref\":\"y\"},{\"font\":{\"color\":\"#FFFFFF\"},\"showarrow\":false,\"text\":\"0.16\",\"x\":\"LoggedActivitiesDistance\",\"xref\":\"x\",\"y\":\"TrackerDistance\",\"yref\":\"y\"},{\"font\":{\"color\":\"#FFFFFF\"},\"showarrow\":false,\"text\":\"0.79\",\"x\":\"VeryActiveDistance\",\"xref\":\"x\",\"y\":\"TrackerDistance\",\"yref\":\"y\"},{\"font\":{\"color\":\"#FFFFFF\"},\"showarrow\":false,\"text\":\"0.47\",\"x\":\"ModeratelyActiveDistance\",\"xref\":\"x\",\"y\":\"TrackerDistance\",\"yref\":\"y\"},{\"font\":{\"color\":\"#FFFFFF\"},\"showarrow\":false,\"text\":\"0.66\",\"x\":\"LightActiveDistance\",\"xref\":\"x\",\"y\":\"TrackerDistance\",\"yref\":\"y\"},{\"font\":{\"color\":\"#FFFFFF\"},\"showarrow\":false,\"text\":\"0.07\",\"x\":\"SedentaryActiveDistance\",\"xref\":\"x\",\"y\":\"TrackerDistance\",\"yref\":\"y\"},{\"font\":{\"color\":\"#FFFFFF\"},\"showarrow\":false,\"text\":\"0.68\",\"x\":\"VeryActiveMinutes\",\"xref\":\"x\",\"y\":\"TrackerDistance\",\"yref\":\"y\"},{\"font\":{\"color\":\"#FFFFFF\"},\"showarrow\":false,\"text\":\"0.46\",\"x\":\"FairlyActiveMinutes\",\"xref\":\"x\",\"y\":\"TrackerDistance\",\"yref\":\"y\"},{\"font\":{\"color\":\"#FFFFFF\"},\"showarrow\":false,\"text\":\"0.51\",\"x\":\"LightlyActiveMinutes\",\"xref\":\"x\",\"y\":\"TrackerDistance\",\"yref\":\"y\"},{\"font\":{\"color\":\"#FFFFFF\"},\"showarrow\":false,\"text\":\"-0.29\",\"x\":\"SedentaryMinutes\",\"xref\":\"x\",\"y\":\"TrackerDistance\",\"yref\":\"y\"},{\"font\":{\"color\":\"#FFFFFF\"},\"showarrow\":false,\"text\":\"0.65\",\"x\":\"Calories\",\"xref\":\"x\",\"y\":\"TrackerDistance\",\"yref\":\"y\"},{\"font\":{\"color\":\"#FFFFFF\"},\"showarrow\":false,\"text\":\"0.72\",\"x\":\"Total_Active_Mins\",\"xref\":\"x\",\"y\":\"TrackerDistance\",\"yref\":\"y\"},{\"font\":{\"color\":\"#FFFFFF\"},\"showarrow\":false,\"text\":\"0.0\",\"x\":\"Total_Mins\",\"xref\":\"x\",\"y\":\"TrackerDistance\",\"yref\":\"y\"},{\"font\":{\"color\":\"#FFFFFF\"},\"showarrow\":false,\"text\":\"0.08\",\"x\":\"TotalSleepRecords\",\"xref\":\"x\",\"y\":\"TrackerDistance\",\"yref\":\"y\"},{\"font\":{\"color\":\"#FFFFFF\"},\"showarrow\":false,\"text\":\"0.08\",\"x\":\"TotalMinutesAsleep\",\"xref\":\"x\",\"y\":\"TrackerDistance\",\"yref\":\"y\"},{\"font\":{\"color\":\"#FFFFFF\"},\"showarrow\":false,\"text\":\"0.08\",\"x\":\"TotalTimeInBed\",\"xref\":\"x\",\"y\":\"TrackerDistance\",\"yref\":\"y\"},{\"font\":{\"color\":\"#FFFFFF\"},\"showarrow\":false,\"text\":\"0.19\",\"x\":\"Id\",\"xref\":\"x\",\"y\":\"LoggedActivitiesDistance\",\"yref\":\"y\"},{\"font\":{\"color\":\"#FFFFFF\"},\"showarrow\":false,\"text\":\"-0.03\",\"x\":\"ActivityDate\",\"xref\":\"x\",\"y\":\"LoggedActivitiesDistance\",\"yref\":\"y\"},{\"font\":{\"color\":\"#FFFFFF\"},\"showarrow\":false,\"text\":\"0.18\",\"x\":\"TotalSteps\",\"xref\":\"x\",\"y\":\"LoggedActivitiesDistance\",\"yref\":\"y\"},{\"font\":{\"color\":\"#FFFFFF\"},\"showarrow\":false,\"text\":\"0.19\",\"x\":\"TotalDistance\",\"xref\":\"x\",\"y\":\"LoggedActivitiesDistance\",\"yref\":\"y\"},{\"font\":{\"color\":\"#FFFFFF\"},\"showarrow\":false,\"text\":\"0.16\",\"x\":\"TrackerDistance\",\"xref\":\"x\",\"y\":\"LoggedActivitiesDistance\",\"yref\":\"y\"},{\"font\":{\"color\":\"#FFFFFF\"},\"showarrow\":false,\"text\":\"1.0\",\"x\":\"LoggedActivitiesDistance\",\"xref\":\"x\",\"y\":\"LoggedActivitiesDistance\",\"yref\":\"y\"},{\"font\":{\"color\":\"#FFFFFF\"},\"showarrow\":false,\"text\":\"0.15\",\"x\":\"VeryActiveDistance\",\"xref\":\"x\",\"y\":\"LoggedActivitiesDistance\",\"yref\":\"y\"},{\"font\":{\"color\":\"#FFFFFF\"},\"showarrow\":false,\"text\":\"0.08\",\"x\":\"ModeratelyActiveDistance\",\"xref\":\"x\",\"y\":\"LoggedActivitiesDistance\",\"yref\":\"y\"},{\"font\":{\"color\":\"#FFFFFF\"},\"showarrow\":false,\"text\":\"0.14\",\"x\":\"LightActiveDistance\",\"xref\":\"x\",\"y\":\"LoggedActivitiesDistance\",\"yref\":\"y\"},{\"font\":{\"color\":\"#FFFFFF\"},\"showarrow\":false,\"text\":\"0.15\",\"x\":\"SedentaryActiveDistance\",\"xref\":\"x\",\"y\":\"LoggedActivitiesDistance\",\"yref\":\"y\"},{\"font\":{\"color\":\"#FFFFFF\"},\"showarrow\":false,\"text\":\"0.23\",\"x\":\"VeryActiveMinutes\",\"xref\":\"x\",\"y\":\"LoggedActivitiesDistance\",\"yref\":\"y\"},{\"font\":{\"color\":\"#FFFFFF\"},\"showarrow\":false,\"text\":\"0.05\",\"x\":\"FairlyActiveMinutes\",\"xref\":\"x\",\"y\":\"LoggedActivitiesDistance\",\"yref\":\"y\"},{\"font\":{\"color\":\"#FFFFFF\"},\"showarrow\":false,\"text\":\"0.1\",\"x\":\"LightlyActiveMinutes\",\"xref\":\"x\",\"y\":\"LoggedActivitiesDistance\",\"yref\":\"y\"},{\"font\":{\"color\":\"#FFFFFF\"},\"showarrow\":false,\"text\":\"-0.05\",\"x\":\"SedentaryMinutes\",\"xref\":\"x\",\"y\":\"LoggedActivitiesDistance\",\"yref\":\"y\"},{\"font\":{\"color\":\"#FFFFFF\"},\"showarrow\":false,\"text\":\"0.21\",\"x\":\"Calories\",\"xref\":\"x\",\"y\":\"LoggedActivitiesDistance\",\"yref\":\"y\"},{\"font\":{\"color\":\"#FFFFFF\"},\"showarrow\":false,\"text\":\"0.16\",\"x\":\"Total_Active_Mins\",\"xref\":\"x\",\"y\":\"LoggedActivitiesDistance\",\"yref\":\"y\"},{\"font\":{\"color\":\"#FFFFFF\"},\"showarrow\":false,\"text\":\"0.02\",\"x\":\"Total_Mins\",\"xref\":\"x\",\"y\":\"LoggedActivitiesDistance\",\"yref\":\"y\"},{\"font\":{\"color\":\"#FFFFFF\"},\"showarrow\":false,\"text\":\"-0.01\",\"x\":\"TotalSleepRecords\",\"xref\":\"x\",\"y\":\"LoggedActivitiesDistance\",\"yref\":\"y\"},{\"font\":{\"color\":\"#FFFFFF\"},\"showarrow\":false,\"text\":\"-0.01\",\"x\":\"TotalMinutesAsleep\",\"xref\":\"x\",\"y\":\"LoggedActivitiesDistance\",\"yref\":\"y\"},{\"font\":{\"color\":\"#FFFFFF\"},\"showarrow\":false,\"text\":\"-0.01\",\"x\":\"TotalTimeInBed\",\"xref\":\"x\",\"y\":\"LoggedActivitiesDistance\",\"yref\":\"y\"},{\"font\":{\"color\":\"#FFFFFF\"},\"showarrow\":false,\"text\":\"0.31\",\"x\":\"Id\",\"xref\":\"x\",\"y\":\"VeryActiveDistance\",\"yref\":\"y\"},{\"font\":{\"color\":\"#FFFFFF\"},\"showarrow\":false,\"text\":\"-0.03\",\"x\":\"ActivityDate\",\"xref\":\"x\",\"y\":\"VeryActiveDistance\",\"yref\":\"y\"},{\"font\":{\"color\":\"#FFFFFF\"},\"showarrow\":false,\"text\":\"0.74\",\"x\":\"TotalSteps\",\"xref\":\"x\",\"y\":\"VeryActiveDistance\",\"yref\":\"y\"},{\"font\":{\"color\":\"#FFFFFF\"},\"showarrow\":false,\"text\":\"0.79\",\"x\":\"TotalDistance\",\"xref\":\"x\",\"y\":\"VeryActiveDistance\",\"yref\":\"y\"},{\"font\":{\"color\":\"#FFFFFF\"},\"showarrow\":false,\"text\":\"0.79\",\"x\":\"TrackerDistance\",\"xref\":\"x\",\"y\":\"VeryActiveDistance\",\"yref\":\"y\"},{\"font\":{\"color\":\"#FFFFFF\"},\"showarrow\":false,\"text\":\"0.15\",\"x\":\"LoggedActivitiesDistance\",\"xref\":\"x\",\"y\":\"VeryActiveDistance\",\"yref\":\"y\"},{\"font\":{\"color\":\"#FFFFFF\"},\"showarrow\":false,\"text\":\"1.0\",\"x\":\"VeryActiveDistance\",\"xref\":\"x\",\"y\":\"VeryActiveDistance\",\"yref\":\"y\"},{\"font\":{\"color\":\"#FFFFFF\"},\"showarrow\":false,\"text\":\"0.19\",\"x\":\"ModeratelyActiveDistance\",\"xref\":\"x\",\"y\":\"VeryActiveDistance\",\"yref\":\"y\"},{\"font\":{\"color\":\"#FFFFFF\"},\"showarrow\":false,\"text\":\"0.16\",\"x\":\"LightActiveDistance\",\"xref\":\"x\",\"y\":\"VeryActiveDistance\",\"yref\":\"y\"},{\"font\":{\"color\":\"#FFFFFF\"},\"showarrow\":false,\"text\":\"0.05\",\"x\":\"SedentaryActiveDistance\",\"xref\":\"x\",\"y\":\"VeryActiveDistance\",\"yref\":\"y\"},{\"font\":{\"color\":\"#FFFFFF\"},\"showarrow\":false,\"text\":\"0.83\",\"x\":\"VeryActiveMinutes\",\"xref\":\"x\",\"y\":\"VeryActiveDistance\",\"yref\":\"y\"},{\"font\":{\"color\":\"#FFFFFF\"},\"showarrow\":false,\"text\":\"0.21\",\"x\":\"FairlyActiveMinutes\",\"xref\":\"x\",\"y\":\"VeryActiveDistance\",\"yref\":\"y\"},{\"font\":{\"color\":\"#FFFFFF\"},\"showarrow\":false,\"text\":\"0.06\",\"x\":\"LightlyActiveMinutes\",\"xref\":\"x\",\"y\":\"VeryActiveDistance\",\"yref\":\"y\"},{\"font\":{\"color\":\"#FFFFFF\"},\"showarrow\":false,\"text\":\"-0.06\",\"x\":\"SedentaryMinutes\",\"xref\":\"x\",\"y\":\"VeryActiveDistance\",\"yref\":\"y\"},{\"font\":{\"color\":\"#FFFFFF\"},\"showarrow\":false,\"text\":\"0.49\",\"x\":\"Calories\",\"xref\":\"x\",\"y\":\"VeryActiveDistance\",\"yref\":\"y\"},{\"font\":{\"color\":\"#FFFFFF\"},\"showarrow\":false,\"text\":\"0.31\",\"x\":\"Total_Active_Mins\",\"xref\":\"x\",\"y\":\"VeryActiveDistance\",\"yref\":\"y\"},{\"font\":{\"color\":\"#FFFFFF\"},\"showarrow\":false,\"text\":\"0.07\",\"x\":\"Total_Mins\",\"xref\":\"x\",\"y\":\"VeryActiveDistance\",\"yref\":\"y\"},{\"font\":{\"color\":\"#FFFFFF\"},\"showarrow\":false,\"text\":\"-0.04\",\"x\":\"TotalSleepRecords\",\"xref\":\"x\",\"y\":\"VeryActiveDistance\",\"yref\":\"y\"},{\"font\":{\"color\":\"#FFFFFF\"},\"showarrow\":false,\"text\":\"-0.04\",\"x\":\"TotalMinutesAsleep\",\"xref\":\"x\",\"y\":\"VeryActiveDistance\",\"yref\":\"y\"},{\"font\":{\"color\":\"#FFFFFF\"},\"showarrow\":false,\"text\":\"-0.04\",\"x\":\"TotalTimeInBed\",\"xref\":\"x\",\"y\":\"VeryActiveDistance\",\"yref\":\"y\"},{\"font\":{\"color\":\"#FFFFFF\"},\"showarrow\":false,\"text\":\"0.03\",\"x\":\"Id\",\"xref\":\"x\",\"y\":\"ModeratelyActiveDistance\",\"yref\":\"y\"},{\"font\":{\"color\":\"#FFFFFF\"},\"showarrow\":false,\"text\":\"0.04\",\"x\":\"ActivityDate\",\"xref\":\"x\",\"y\":\"ModeratelyActiveDistance\",\"yref\":\"y\"},{\"font\":{\"color\":\"#FFFFFF\"},\"showarrow\":false,\"text\":\"0.51\",\"x\":\"TotalSteps\",\"xref\":\"x\",\"y\":\"ModeratelyActiveDistance\",\"yref\":\"y\"},{\"font\":{\"color\":\"#FFFFFF\"},\"showarrow\":false,\"text\":\"0.47\",\"x\":\"TotalDistance\",\"xref\":\"x\",\"y\":\"ModeratelyActiveDistance\",\"yref\":\"y\"},{\"font\":{\"color\":\"#FFFFFF\"},\"showarrow\":false,\"text\":\"0.47\",\"x\":\"TrackerDistance\",\"xref\":\"x\",\"y\":\"ModeratelyActiveDistance\",\"yref\":\"y\"},{\"font\":{\"color\":\"#FFFFFF\"},\"showarrow\":false,\"text\":\"0.08\",\"x\":\"LoggedActivitiesDistance\",\"xref\":\"x\",\"y\":\"ModeratelyActiveDistance\",\"yref\":\"y\"},{\"font\":{\"color\":\"#FFFFFF\"},\"showarrow\":false,\"text\":\"0.19\",\"x\":\"VeryActiveDistance\",\"xref\":\"x\",\"y\":\"ModeratelyActiveDistance\",\"yref\":\"y\"},{\"font\":{\"color\":\"#FFFFFF\"},\"showarrow\":false,\"text\":\"1.0\",\"x\":\"ModeratelyActiveDistance\",\"xref\":\"x\",\"y\":\"ModeratelyActiveDistance\",\"yref\":\"y\"},{\"font\":{\"color\":\"#FFFFFF\"},\"showarrow\":false,\"text\":\"0.24\",\"x\":\"LightActiveDistance\",\"xref\":\"x\",\"y\":\"ModeratelyActiveDistance\",\"yref\":\"y\"},{\"font\":{\"color\":\"#FFFFFF\"},\"showarrow\":false,\"text\":\"0.01\",\"x\":\"SedentaryActiveDistance\",\"xref\":\"x\",\"y\":\"ModeratelyActiveDistance\",\"yref\":\"y\"},{\"font\":{\"color\":\"#FFFFFF\"},\"showarrow\":false,\"text\":\"0.23\",\"x\":\"VeryActiveMinutes\",\"xref\":\"x\",\"y\":\"ModeratelyActiveDistance\",\"yref\":\"y\"},{\"font\":{\"color\":\"#FFFFFF\"},\"showarrow\":false,\"text\":\"0.95\",\"x\":\"FairlyActiveMinutes\",\"xref\":\"x\",\"y\":\"ModeratelyActiveDistance\",\"yref\":\"y\"},{\"font\":{\"color\":\"#FFFFFF\"},\"showarrow\":false,\"text\":\"0.16\",\"x\":\"LightlyActiveMinutes\",\"xref\":\"x\",\"y\":\"ModeratelyActiveDistance\",\"yref\":\"y\"},{\"font\":{\"color\":\"#FFFFFF\"},\"showarrow\":false,\"text\":\"-0.22\",\"x\":\"SedentaryMinutes\",\"xref\":\"x\",\"y\":\"ModeratelyActiveDistance\",\"yref\":\"y\"},{\"font\":{\"color\":\"#FFFFFF\"},\"showarrow\":false,\"text\":\"0.22\",\"x\":\"Calories\",\"xref\":\"x\",\"y\":\"ModeratelyActiveDistance\",\"yref\":\"y\"},{\"font\":{\"color\":\"#FFFFFF\"},\"showarrow\":false,\"text\":\"0.36\",\"x\":\"Total_Active_Mins\",\"xref\":\"x\",\"y\":\"ModeratelyActiveDistance\",\"yref\":\"y\"},{\"font\":{\"color\":\"#FFFFFF\"},\"showarrow\":false,\"text\":\"-0.09\",\"x\":\"Total_Mins\",\"xref\":\"x\",\"y\":\"ModeratelyActiveDistance\",\"yref\":\"y\"},{\"font\":{\"color\":\"#FFFFFF\"},\"showarrow\":false,\"text\":\"0.14\",\"x\":\"TotalSleepRecords\",\"xref\":\"x\",\"y\":\"ModeratelyActiveDistance\",\"yref\":\"y\"},{\"font\":{\"color\":\"#FFFFFF\"},\"showarrow\":false,\"text\":\"0.1\",\"x\":\"TotalMinutesAsleep\",\"xref\":\"x\",\"y\":\"ModeratelyActiveDistance\",\"yref\":\"y\"},{\"font\":{\"color\":\"#FFFFFF\"},\"showarrow\":false,\"text\":\"0.14\",\"x\":\"TotalTimeInBed\",\"xref\":\"x\",\"y\":\"ModeratelyActiveDistance\",\"yref\":\"y\"},{\"font\":{\"color\":\"#FFFFFF\"},\"showarrow\":false,\"text\":\"0.02\",\"x\":\"Id\",\"xref\":\"x\",\"y\":\"LightActiveDistance\",\"yref\":\"y\"},{\"font\":{\"color\":\"#FFFFFF\"},\"showarrow\":false,\"text\":\"-0.04\",\"x\":\"ActivityDate\",\"xref\":\"x\",\"y\":\"LightActiveDistance\",\"yref\":\"y\"},{\"font\":{\"color\":\"#FFFFFF\"},\"showarrow\":false,\"text\":\"0.69\",\"x\":\"TotalSteps\",\"xref\":\"x\",\"y\":\"LightActiveDistance\",\"yref\":\"y\"},{\"font\":{\"color\":\"#FFFFFF\"},\"showarrow\":false,\"text\":\"0.66\",\"x\":\"TotalDistance\",\"xref\":\"x\",\"y\":\"LightActiveDistance\",\"yref\":\"y\"},{\"font\":{\"color\":\"#FFFFFF\"},\"showarrow\":false,\"text\":\"0.66\",\"x\":\"TrackerDistance\",\"xref\":\"x\",\"y\":\"LightActiveDistance\",\"yref\":\"y\"},{\"font\":{\"color\":\"#FFFFFF\"},\"showarrow\":false,\"text\":\"0.14\",\"x\":\"LoggedActivitiesDistance\",\"xref\":\"x\",\"y\":\"LightActiveDistance\",\"yref\":\"y\"},{\"font\":{\"color\":\"#FFFFFF\"},\"showarrow\":false,\"text\":\"0.16\",\"x\":\"VeryActiveDistance\",\"xref\":\"x\",\"y\":\"LightActiveDistance\",\"yref\":\"y\"},{\"font\":{\"color\":\"#FFFFFF\"},\"showarrow\":false,\"text\":\"0.24\",\"x\":\"ModeratelyActiveDistance\",\"xref\":\"x\",\"y\":\"LightActiveDistance\",\"yref\":\"y\"},{\"font\":{\"color\":\"#FFFFFF\"},\"showarrow\":false,\"text\":\"1.0\",\"x\":\"LightActiveDistance\",\"xref\":\"x\",\"y\":\"LightActiveDistance\",\"yref\":\"y\"},{\"font\":{\"color\":\"#FFFFFF\"},\"showarrow\":false,\"text\":\"0.1\",\"x\":\"SedentaryActiveDistance\",\"xref\":\"x\",\"y\":\"LightActiveDistance\",\"yref\":\"y\"},{\"font\":{\"color\":\"#FFFFFF\"},\"showarrow\":false,\"text\":\"0.15\",\"x\":\"VeryActiveMinutes\",\"xref\":\"x\",\"y\":\"LightActiveDistance\",\"yref\":\"y\"},{\"font\":{\"color\":\"#FFFFFF\"},\"showarrow\":false,\"text\":\"0.22\",\"x\":\"FairlyActiveMinutes\",\"xref\":\"x\",\"y\":\"LightActiveDistance\",\"yref\":\"y\"},{\"font\":{\"color\":\"#FFFFFF\"},\"showarrow\":false,\"text\":\"0.89\",\"x\":\"LightlyActiveMinutes\",\"xref\":\"x\",\"y\":\"LightActiveDistance\",\"yref\":\"y\"},{\"font\":{\"color\":\"#FFFFFF\"},\"showarrow\":false,\"text\":\"-0.41\",\"x\":\"SedentaryMinutes\",\"xref\":\"x\",\"y\":\"LightActiveDistance\",\"yref\":\"y\"},{\"font\":{\"color\":\"#FFFFFF\"},\"showarrow\":false,\"text\":\"0.47\",\"x\":\"Calories\",\"xref\":\"x\",\"y\":\"LightActiveDistance\",\"yref\":\"y\"},{\"font\":{\"color\":\"#FFFFFF\"},\"showarrow\":false,\"text\":\"0.87\",\"x\":\"Total_Active_Mins\",\"xref\":\"x\",\"y\":\"LightActiveDistance\",\"yref\":\"y\"},{\"font\":{\"color\":\"#FFFFFF\"},\"showarrow\":false,\"text\":\"-0.07\",\"x\":\"Total_Mins\",\"xref\":\"x\",\"y\":\"LightActiveDistance\",\"yref\":\"y\"},{\"font\":{\"color\":\"#FFFFFF\"},\"showarrow\":false,\"text\":\"0.16\",\"x\":\"TotalSleepRecords\",\"xref\":\"x\",\"y\":\"LightActiveDistance\",\"yref\":\"y\"},{\"font\":{\"color\":\"#FFFFFF\"},\"showarrow\":false,\"text\":\"0.17\",\"x\":\"TotalMinutesAsleep\",\"xref\":\"x\",\"y\":\"LightActiveDistance\",\"yref\":\"y\"},{\"font\":{\"color\":\"#FFFFFF\"},\"showarrow\":false,\"text\":\"0.16\",\"x\":\"TotalTimeInBed\",\"xref\":\"x\",\"y\":\"LightActiveDistance\",\"yref\":\"y\"},{\"font\":{\"color\":\"#FFFFFF\"},\"showarrow\":false,\"text\":\"-0.02\",\"x\":\"Id\",\"xref\":\"x\",\"y\":\"SedentaryActiveDistance\",\"yref\":\"y\"},{\"font\":{\"color\":\"#FFFFFF\"},\"showarrow\":false,\"text\":\"0.0\",\"x\":\"ActivityDate\",\"xref\":\"x\",\"y\":\"SedentaryActiveDistance\",\"yref\":\"y\"},{\"font\":{\"color\":\"#FFFFFF\"},\"showarrow\":false,\"text\":\"0.07\",\"x\":\"TotalSteps\",\"xref\":\"x\",\"y\":\"SedentaryActiveDistance\",\"yref\":\"y\"},{\"font\":{\"color\":\"#FFFFFF\"},\"showarrow\":false,\"text\":\"0.08\",\"x\":\"TotalDistance\",\"xref\":\"x\",\"y\":\"SedentaryActiveDistance\",\"yref\":\"y\"},{\"font\":{\"color\":\"#FFFFFF\"},\"showarrow\":false,\"text\":\"0.07\",\"x\":\"TrackerDistance\",\"xref\":\"x\",\"y\":\"SedentaryActiveDistance\",\"yref\":\"y\"},{\"font\":{\"color\":\"#FFFFFF\"},\"showarrow\":false,\"text\":\"0.15\",\"x\":\"LoggedActivitiesDistance\",\"xref\":\"x\",\"y\":\"SedentaryActiveDistance\",\"yref\":\"y\"},{\"font\":{\"color\":\"#FFFFFF\"},\"showarrow\":false,\"text\":\"0.05\",\"x\":\"VeryActiveDistance\",\"xref\":\"x\",\"y\":\"SedentaryActiveDistance\",\"yref\":\"y\"},{\"font\":{\"color\":\"#FFFFFF\"},\"showarrow\":false,\"text\":\"0.01\",\"x\":\"ModeratelyActiveDistance\",\"xref\":\"x\",\"y\":\"SedentaryActiveDistance\",\"yref\":\"y\"},{\"font\":{\"color\":\"#FFFFFF\"},\"showarrow\":false,\"text\":\"0.1\",\"x\":\"LightActiveDistance\",\"xref\":\"x\",\"y\":\"SedentaryActiveDistance\",\"yref\":\"y\"},{\"font\":{\"color\":\"#FFFFFF\"},\"showarrow\":false,\"text\":\"1.0\",\"x\":\"SedentaryActiveDistance\",\"xref\":\"x\",\"y\":\"SedentaryActiveDistance\",\"yref\":\"y\"},{\"font\":{\"color\":\"#FFFFFF\"},\"showarrow\":false,\"text\":\"0.01\",\"x\":\"VeryActiveMinutes\",\"xref\":\"x\",\"y\":\"SedentaryActiveDistance\",\"yref\":\"y\"},{\"font\":{\"color\":\"#FFFFFF\"},\"showarrow\":false,\"text\":\"-0.02\",\"x\":\"FairlyActiveMinutes\",\"xref\":\"x\",\"y\":\"SedentaryActiveDistance\",\"yref\":\"y\"},{\"font\":{\"color\":\"#FFFFFF\"},\"showarrow\":false,\"text\":\"0.12\",\"x\":\"LightlyActiveMinutes\",\"xref\":\"x\",\"y\":\"SedentaryActiveDistance\",\"yref\":\"y\"},{\"font\":{\"color\":\"#FFFFFF\"},\"showarrow\":false,\"text\":\"0.04\",\"x\":\"SedentaryMinutes\",\"xref\":\"x\",\"y\":\"SedentaryActiveDistance\",\"yref\":\"y\"},{\"font\":{\"color\":\"#FFFFFF\"},\"showarrow\":false,\"text\":\"0.04\",\"x\":\"Calories\",\"xref\":\"x\",\"y\":\"SedentaryActiveDistance\",\"yref\":\"y\"},{\"font\":{\"color\":\"#FFFFFF\"},\"showarrow\":false,\"text\":\"0.11\",\"x\":\"Total_Active_Mins\",\"xref\":\"x\",\"y\":\"SedentaryActiveDistance\",\"yref\":\"y\"},{\"font\":{\"color\":\"#FFFFFF\"},\"showarrow\":false,\"text\":\"0.09\",\"x\":\"Total_Mins\",\"xref\":\"x\",\"y\":\"SedentaryActiveDistance\",\"yref\":\"y\"},{\"font\":{\"color\":\"#FFFFFF\"},\"showarrow\":false,\"text\":\"-0.09\",\"x\":\"TotalSleepRecords\",\"xref\":\"x\",\"y\":\"SedentaryActiveDistance\",\"yref\":\"y\"},{\"font\":{\"color\":\"#FFFFFF\"},\"showarrow\":false,\"text\":\"-0.09\",\"x\":\"TotalMinutesAsleep\",\"xref\":\"x\",\"y\":\"SedentaryActiveDistance\",\"yref\":\"y\"},{\"font\":{\"color\":\"#FFFFFF\"},\"showarrow\":false,\"text\":\"-0.09\",\"x\":\"TotalTimeInBed\",\"xref\":\"x\",\"y\":\"SedentaryActiveDistance\",\"yref\":\"y\"},{\"font\":{\"color\":\"#FFFFFF\"},\"showarrow\":false,\"text\":\"0.3\",\"x\":\"Id\",\"xref\":\"x\",\"y\":\"VeryActiveMinutes\",\"yref\":\"y\"},{\"font\":{\"color\":\"#FFFFFF\"},\"showarrow\":false,\"text\":\"-0.04\",\"x\":\"ActivityDate\",\"xref\":\"x\",\"y\":\"VeryActiveMinutes\",\"yref\":\"y\"},{\"font\":{\"color\":\"#FFFFFF\"},\"showarrow\":false,\"text\":\"0.67\",\"x\":\"TotalSteps\",\"xref\":\"x\",\"y\":\"VeryActiveMinutes\",\"yref\":\"y\"},{\"font\":{\"color\":\"#FFFFFF\"},\"showarrow\":false,\"text\":\"0.68\",\"x\":\"TotalDistance\",\"xref\":\"x\",\"y\":\"VeryActiveMinutes\",\"yref\":\"y\"},{\"font\":{\"color\":\"#FFFFFF\"},\"showarrow\":false,\"text\":\"0.68\",\"x\":\"TrackerDistance\",\"xref\":\"x\",\"y\":\"VeryActiveMinutes\",\"yref\":\"y\"},{\"font\":{\"color\":\"#FFFFFF\"},\"showarrow\":false,\"text\":\"0.23\",\"x\":\"LoggedActivitiesDistance\",\"xref\":\"x\",\"y\":\"VeryActiveMinutes\",\"yref\":\"y\"},{\"font\":{\"color\":\"#FFFFFF\"},\"showarrow\":false,\"text\":\"0.83\",\"x\":\"VeryActiveDistance\",\"xref\":\"x\",\"y\":\"VeryActiveMinutes\",\"yref\":\"y\"},{\"font\":{\"color\":\"#FFFFFF\"},\"showarrow\":false,\"text\":\"0.23\",\"x\":\"ModeratelyActiveDistance\",\"xref\":\"x\",\"y\":\"VeryActiveMinutes\",\"yref\":\"y\"},{\"font\":{\"color\":\"#FFFFFF\"},\"showarrow\":false,\"text\":\"0.15\",\"x\":\"LightActiveDistance\",\"xref\":\"x\",\"y\":\"VeryActiveMinutes\",\"yref\":\"y\"},{\"font\":{\"color\":\"#FFFFFF\"},\"showarrow\":false,\"text\":\"0.01\",\"x\":\"SedentaryActiveDistance\",\"xref\":\"x\",\"y\":\"VeryActiveMinutes\",\"yref\":\"y\"},{\"font\":{\"color\":\"#FFFFFF\"},\"showarrow\":false,\"text\":\"1.0\",\"x\":\"VeryActiveMinutes\",\"xref\":\"x\",\"y\":\"VeryActiveMinutes\",\"yref\":\"y\"},{\"font\":{\"color\":\"#FFFFFF\"},\"showarrow\":false,\"text\":\"0.31\",\"x\":\"FairlyActiveMinutes\",\"xref\":\"x\",\"y\":\"VeryActiveMinutes\",\"yref\":\"y\"},{\"font\":{\"color\":\"#FFFFFF\"},\"showarrow\":false,\"text\":\"0.05\",\"x\":\"LightlyActiveMinutes\",\"xref\":\"x\",\"y\":\"VeryActiveMinutes\",\"yref\":\"y\"},{\"font\":{\"color\":\"#FFFFFF\"},\"showarrow\":false,\"text\":\"-0.16\",\"x\":\"SedentaryMinutes\",\"xref\":\"x\",\"y\":\"VeryActiveMinutes\",\"yref\":\"y\"},{\"font\":{\"color\":\"#FFFFFF\"},\"showarrow\":false,\"text\":\"0.62\",\"x\":\"Calories\",\"xref\":\"x\",\"y\":\"VeryActiveMinutes\",\"yref\":\"y\"},{\"font\":{\"color\":\"#FFFFFF\"},\"showarrow\":false,\"text\":\"0.37\",\"x\":\"Total_Active_Mins\",\"xref\":\"x\",\"y\":\"VeryActiveMinutes\",\"yref\":\"y\"},{\"font\":{\"color\":\"#FFFFFF\"},\"showarrow\":false,\"text\":\"-0.02\",\"x\":\"Total_Mins\",\"xref\":\"x\",\"y\":\"VeryActiveMinutes\",\"yref\":\"y\"},{\"font\":{\"color\":\"#FFFFFF\"},\"showarrow\":false,\"text\":\"0.06\",\"x\":\"TotalSleepRecords\",\"xref\":\"x\",\"y\":\"VeryActiveMinutes\",\"yref\":\"y\"},{\"font\":{\"color\":\"#FFFFFF\"},\"showarrow\":false,\"text\":\"0.07\",\"x\":\"TotalMinutesAsleep\",\"xref\":\"x\",\"y\":\"VeryActiveMinutes\",\"yref\":\"y\"},{\"font\":{\"color\":\"#FFFFFF\"},\"showarrow\":false,\"text\":\"0.07\",\"x\":\"TotalTimeInBed\",\"xref\":\"x\",\"y\":\"VeryActiveMinutes\",\"yref\":\"y\"},{\"font\":{\"color\":\"#FFFFFF\"},\"showarrow\":false,\"text\":\"0.05\",\"x\":\"Id\",\"xref\":\"x\",\"y\":\"FairlyActiveMinutes\",\"yref\":\"y\"},{\"font\":{\"color\":\"#FFFFFF\"},\"showarrow\":false,\"text\":\"0.03\",\"x\":\"ActivityDate\",\"xref\":\"x\",\"y\":\"FairlyActiveMinutes\",\"yref\":\"y\"},{\"font\":{\"color\":\"#FFFFFF\"},\"showarrow\":false,\"text\":\"0.5\",\"x\":\"TotalSteps\",\"xref\":\"x\",\"y\":\"FairlyActiveMinutes\",\"yref\":\"y\"},{\"font\":{\"color\":\"#FFFFFF\"},\"showarrow\":false,\"text\":\"0.46\",\"x\":\"TotalDistance\",\"xref\":\"x\",\"y\":\"FairlyActiveMinutes\",\"yref\":\"y\"},{\"font\":{\"color\":\"#FFFFFF\"},\"showarrow\":false,\"text\":\"0.46\",\"x\":\"TrackerDistance\",\"xref\":\"x\",\"y\":\"FairlyActiveMinutes\",\"yref\":\"y\"},{\"font\":{\"color\":\"#FFFFFF\"},\"showarrow\":false,\"text\":\"0.05\",\"x\":\"LoggedActivitiesDistance\",\"xref\":\"x\",\"y\":\"FairlyActiveMinutes\",\"yref\":\"y\"},{\"font\":{\"color\":\"#FFFFFF\"},\"showarrow\":false,\"text\":\"0.21\",\"x\":\"VeryActiveDistance\",\"xref\":\"x\",\"y\":\"FairlyActiveMinutes\",\"yref\":\"y\"},{\"font\":{\"color\":\"#FFFFFF\"},\"showarrow\":false,\"text\":\"0.95\",\"x\":\"ModeratelyActiveDistance\",\"xref\":\"x\",\"y\":\"FairlyActiveMinutes\",\"yref\":\"y\"},{\"font\":{\"color\":\"#FFFFFF\"},\"showarrow\":false,\"text\":\"0.22\",\"x\":\"LightActiveDistance\",\"xref\":\"x\",\"y\":\"FairlyActiveMinutes\",\"yref\":\"y\"},{\"font\":{\"color\":\"#FFFFFF\"},\"showarrow\":false,\"text\":\"-0.02\",\"x\":\"SedentaryActiveDistance\",\"xref\":\"x\",\"y\":\"FairlyActiveMinutes\",\"yref\":\"y\"},{\"font\":{\"color\":\"#FFFFFF\"},\"showarrow\":false,\"text\":\"0.31\",\"x\":\"VeryActiveMinutes\",\"xref\":\"x\",\"y\":\"FairlyActiveMinutes\",\"yref\":\"y\"},{\"font\":{\"color\":\"#FFFFFF\"},\"showarrow\":false,\"text\":\"1.0\",\"x\":\"FairlyActiveMinutes\",\"xref\":\"x\",\"y\":\"FairlyActiveMinutes\",\"yref\":\"y\"},{\"font\":{\"color\":\"#FFFFFF\"},\"showarrow\":false,\"text\":\"0.15\",\"x\":\"LightlyActiveMinutes\",\"xref\":\"x\",\"y\":\"FairlyActiveMinutes\",\"yref\":\"y\"},{\"font\":{\"color\":\"#FFFFFF\"},\"showarrow\":false,\"text\":\"-0.24\",\"x\":\"SedentaryMinutes\",\"xref\":\"x\",\"y\":\"FairlyActiveMinutes\",\"yref\":\"y\"},{\"font\":{\"color\":\"#FFFFFF\"},\"showarrow\":false,\"text\":\"0.3\",\"x\":\"Calories\",\"xref\":\"x\",\"y\":\"FairlyActiveMinutes\",\"yref\":\"y\"},{\"font\":{\"color\":\"#FFFFFF\"},\"showarrow\":false,\"text\":\"0.38\",\"x\":\"Total_Active_Mins\",\"xref\":\"x\",\"y\":\"FairlyActiveMinutes\",\"yref\":\"y\"},{\"font\":{\"color\":\"#FFFFFF\"},\"showarrow\":false,\"text\":\"-0.09\",\"x\":\"Total_Mins\",\"xref\":\"x\",\"y\":\"FairlyActiveMinutes\",\"yref\":\"y\"},{\"font\":{\"color\":\"#FFFFFF\"},\"showarrow\":false,\"text\":\"0.16\",\"x\":\"TotalSleepRecords\",\"xref\":\"x\",\"y\":\"FairlyActiveMinutes\",\"yref\":\"y\"},{\"font\":{\"color\":\"#FFFFFF\"},\"showarrow\":false,\"text\":\"0.11\",\"x\":\"TotalMinutesAsleep\",\"xref\":\"x\",\"y\":\"FairlyActiveMinutes\",\"yref\":\"y\"},{\"font\":{\"color\":\"#FFFFFF\"},\"showarrow\":false,\"text\":\"0.15\",\"x\":\"TotalTimeInBed\",\"xref\":\"x\",\"y\":\"FairlyActiveMinutes\",\"yref\":\"y\"},{\"font\":{\"color\":\"#FFFFFF\"},\"showarrow\":false,\"text\":\"-0.1\",\"x\":\"Id\",\"xref\":\"x\",\"y\":\"LightlyActiveMinutes\",\"yref\":\"y\"},{\"font\":{\"color\":\"#FFFFFF\"},\"showarrow\":false,\"text\":\"-0.05\",\"x\":\"ActivityDate\",\"xref\":\"x\",\"y\":\"LightlyActiveMinutes\",\"yref\":\"y\"},{\"font\":{\"color\":\"#FFFFFF\"},\"showarrow\":false,\"text\":\"0.57\",\"x\":\"TotalSteps\",\"xref\":\"x\",\"y\":\"LightlyActiveMinutes\",\"yref\":\"y\"},{\"font\":{\"color\":\"#FFFFFF\"},\"showarrow\":false,\"text\":\"0.52\",\"x\":\"TotalDistance\",\"xref\":\"x\",\"y\":\"LightlyActiveMinutes\",\"yref\":\"y\"},{\"font\":{\"color\":\"#FFFFFF\"},\"showarrow\":false,\"text\":\"0.51\",\"x\":\"TrackerDistance\",\"xref\":\"x\",\"y\":\"LightlyActiveMinutes\",\"yref\":\"y\"},{\"font\":{\"color\":\"#FFFFFF\"},\"showarrow\":false,\"text\":\"0.1\",\"x\":\"LoggedActivitiesDistance\",\"xref\":\"x\",\"y\":\"LightlyActiveMinutes\",\"yref\":\"y\"},{\"font\":{\"color\":\"#FFFFFF\"},\"showarrow\":false,\"text\":\"0.06\",\"x\":\"VeryActiveDistance\",\"xref\":\"x\",\"y\":\"LightlyActiveMinutes\",\"yref\":\"y\"},{\"font\":{\"color\":\"#FFFFFF\"},\"showarrow\":false,\"text\":\"0.16\",\"x\":\"ModeratelyActiveDistance\",\"xref\":\"x\",\"y\":\"LightlyActiveMinutes\",\"yref\":\"y\"},{\"font\":{\"color\":\"#FFFFFF\"},\"showarrow\":false,\"text\":\"0.89\",\"x\":\"LightActiveDistance\",\"xref\":\"x\",\"y\":\"LightlyActiveMinutes\",\"yref\":\"y\"},{\"font\":{\"color\":\"#FFFFFF\"},\"showarrow\":false,\"text\":\"0.12\",\"x\":\"SedentaryActiveDistance\",\"xref\":\"x\",\"y\":\"LightlyActiveMinutes\",\"yref\":\"y\"},{\"font\":{\"color\":\"#FFFFFF\"},\"showarrow\":false,\"text\":\"0.05\",\"x\":\"VeryActiveMinutes\",\"xref\":\"x\",\"y\":\"LightlyActiveMinutes\",\"yref\":\"y\"},{\"font\":{\"color\":\"#FFFFFF\"},\"showarrow\":false,\"text\":\"0.15\",\"x\":\"FairlyActiveMinutes\",\"xref\":\"x\",\"y\":\"LightlyActiveMinutes\",\"yref\":\"y\"},{\"font\":{\"color\":\"#FFFFFF\"},\"showarrow\":false,\"text\":\"1.0\",\"x\":\"LightlyActiveMinutes\",\"xref\":\"x\",\"y\":\"LightlyActiveMinutes\",\"yref\":\"y\"},{\"font\":{\"color\":\"#FFFFFF\"},\"showarrow\":false,\"text\":\"-0.44\",\"x\":\"SedentaryMinutes\",\"xref\":\"x\",\"y\":\"LightlyActiveMinutes\",\"yref\":\"y\"},{\"font\":{\"color\":\"#FFFFFF\"},\"showarrow\":false,\"text\":\"0.29\",\"x\":\"Calories\",\"xref\":\"x\",\"y\":\"LightlyActiveMinutes\",\"yref\":\"y\"},{\"font\":{\"color\":\"#FFFFFF\"},\"showarrow\":false,\"text\":\"0.93\",\"x\":\"Total_Active_Mins\",\"xref\":\"x\",\"y\":\"LightlyActiveMinutes\",\"yref\":\"y\"},{\"font\":{\"color\":\"#FFFFFF\"},\"showarrow\":false,\"text\":\"-0.07\",\"x\":\"Total_Mins\",\"xref\":\"x\",\"y\":\"LightlyActiveMinutes\",\"yref\":\"y\"},{\"font\":{\"color\":\"#FFFFFF\"},\"showarrow\":false,\"text\":\"0.16\",\"x\":\"TotalSleepRecords\",\"xref\":\"x\",\"y\":\"LightlyActiveMinutes\",\"yref\":\"y\"},{\"font\":{\"color\":\"#FFFFFF\"},\"showarrow\":false,\"text\":\"0.18\",\"x\":\"TotalMinutesAsleep\",\"xref\":\"x\",\"y\":\"LightlyActiveMinutes\",\"yref\":\"y\"},{\"font\":{\"color\":\"#FFFFFF\"},\"showarrow\":false,\"text\":\"0.17\",\"x\":\"TotalTimeInBed\",\"xref\":\"x\",\"y\":\"LightlyActiveMinutes\",\"yref\":\"y\"},{\"font\":{\"color\":\"#FFFFFF\"},\"showarrow\":false,\"text\":\"-0.04\",\"x\":\"Id\",\"xref\":\"x\",\"y\":\"SedentaryMinutes\",\"yref\":\"y\"},{\"font\":{\"color\":\"#FFFFFF\"},\"showarrow\":false,\"text\":\"-0.1\",\"x\":\"ActivityDate\",\"xref\":\"x\",\"y\":\"SedentaryMinutes\",\"yref\":\"y\"},{\"font\":{\"color\":\"#FFFFFF\"},\"showarrow\":false,\"text\":\"-0.33\",\"x\":\"TotalSteps\",\"xref\":\"x\",\"y\":\"SedentaryMinutes\",\"yref\":\"y\"},{\"font\":{\"color\":\"#FFFFFF\"},\"showarrow\":false,\"text\":\"-0.29\",\"x\":\"TotalDistance\",\"xref\":\"x\",\"y\":\"SedentaryMinutes\",\"yref\":\"y\"},{\"font\":{\"color\":\"#FFFFFF\"},\"showarrow\":false,\"text\":\"-0.29\",\"x\":\"TrackerDistance\",\"xref\":\"x\",\"y\":\"SedentaryMinutes\",\"yref\":\"y\"},{\"font\":{\"color\":\"#FFFFFF\"},\"showarrow\":false,\"text\":\"-0.05\",\"x\":\"LoggedActivitiesDistance\",\"xref\":\"x\",\"y\":\"SedentaryMinutes\",\"yref\":\"y\"},{\"font\":{\"color\":\"#FFFFFF\"},\"showarrow\":false,\"text\":\"-0.06\",\"x\":\"VeryActiveDistance\",\"xref\":\"x\",\"y\":\"SedentaryMinutes\",\"yref\":\"y\"},{\"font\":{\"color\":\"#FFFFFF\"},\"showarrow\":false,\"text\":\"-0.22\",\"x\":\"ModeratelyActiveDistance\",\"xref\":\"x\",\"y\":\"SedentaryMinutes\",\"yref\":\"y\"},{\"font\":{\"color\":\"#FFFFFF\"},\"showarrow\":false,\"text\":\"-0.41\",\"x\":\"LightActiveDistance\",\"xref\":\"x\",\"y\":\"SedentaryMinutes\",\"yref\":\"y\"},{\"font\":{\"color\":\"#FFFFFF\"},\"showarrow\":false,\"text\":\"0.04\",\"x\":\"SedentaryActiveDistance\",\"xref\":\"x\",\"y\":\"SedentaryMinutes\",\"yref\":\"y\"},{\"font\":{\"color\":\"#FFFFFF\"},\"showarrow\":false,\"text\":\"-0.16\",\"x\":\"VeryActiveMinutes\",\"xref\":\"x\",\"y\":\"SedentaryMinutes\",\"yref\":\"y\"},{\"font\":{\"color\":\"#FFFFFF\"},\"showarrow\":false,\"text\":\"-0.24\",\"x\":\"FairlyActiveMinutes\",\"xref\":\"x\",\"y\":\"SedentaryMinutes\",\"yref\":\"y\"},{\"font\":{\"color\":\"#FFFFFF\"},\"showarrow\":false,\"text\":\"-0.44\",\"x\":\"LightlyActiveMinutes\",\"xref\":\"x\",\"y\":\"SedentaryMinutes\",\"yref\":\"y\"},{\"font\":{\"color\":\"#FFFFFF\"},\"showarrow\":false,\"text\":\"1.0\",\"x\":\"SedentaryMinutes\",\"xref\":\"x\",\"y\":\"SedentaryMinutes\",\"yref\":\"y\"},{\"font\":{\"color\":\"#FFFFFF\"},\"showarrow\":false,\"text\":\"-0.11\",\"x\":\"Calories\",\"xref\":\"x\",\"y\":\"SedentaryMinutes\",\"yref\":\"y\"},{\"font\":{\"color\":\"#FFFFFF\"},\"showarrow\":false,\"text\":\"-0.48\",\"x\":\"Total_Active_Mins\",\"xref\":\"x\",\"y\":\"SedentaryMinutes\",\"yref\":\"y\"},{\"font\":{\"color\":\"#FFFFFF\"},\"showarrow\":false,\"text\":\"0.92\",\"x\":\"Total_Mins\",\"xref\":\"x\",\"y\":\"SedentaryMinutes\",\"yref\":\"y\"},{\"font\":{\"color\":\"#FFFFFF\"},\"showarrow\":false,\"text\":\"-0.76\",\"x\":\"TotalSleepRecords\",\"xref\":\"x\",\"y\":\"SedentaryMinutes\",\"yref\":\"y\"},{\"font\":{\"color\":\"#FFFFFF\"},\"showarrow\":false,\"text\":\"-0.84\",\"x\":\"TotalMinutesAsleep\",\"xref\":\"x\",\"y\":\"SedentaryMinutes\",\"yref\":\"y\"},{\"font\":{\"color\":\"#FFFFFF\"},\"showarrow\":false,\"text\":\"-0.84\",\"x\":\"TotalTimeInBed\",\"xref\":\"x\",\"y\":\"SedentaryMinutes\",\"yref\":\"y\"},{\"font\":{\"color\":\"#FFFFFF\"},\"showarrow\":false,\"text\":\"0.4\",\"x\":\"Id\",\"xref\":\"x\",\"y\":\"Calories\",\"yref\":\"y\"},{\"font\":{\"color\":\"#FFFFFF\"},\"showarrow\":false,\"text\":\"-0.09\",\"x\":\"ActivityDate\",\"xref\":\"x\",\"y\":\"Calories\",\"yref\":\"y\"},{\"font\":{\"color\":\"#FFFFFF\"},\"showarrow\":false,\"text\":\"0.59\",\"x\":\"TotalSteps\",\"xref\":\"x\",\"y\":\"Calories\",\"yref\":\"y\"},{\"font\":{\"color\":\"#FFFFFF\"},\"showarrow\":false,\"text\":\"0.64\",\"x\":\"TotalDistance\",\"xref\":\"x\",\"y\":\"Calories\",\"yref\":\"y\"},{\"font\":{\"color\":\"#FFFFFF\"},\"showarrow\":false,\"text\":\"0.65\",\"x\":\"TrackerDistance\",\"xref\":\"x\",\"y\":\"Calories\",\"yref\":\"y\"},{\"font\":{\"color\":\"#FFFFFF\"},\"showarrow\":false,\"text\":\"0.21\",\"x\":\"LoggedActivitiesDistance\",\"xref\":\"x\",\"y\":\"Calories\",\"yref\":\"y\"},{\"font\":{\"color\":\"#FFFFFF\"},\"showarrow\":false,\"text\":\"0.49\",\"x\":\"VeryActiveDistance\",\"xref\":\"x\",\"y\":\"Calories\",\"yref\":\"y\"},{\"font\":{\"color\":\"#FFFFFF\"},\"showarrow\":false,\"text\":\"0.22\",\"x\":\"ModeratelyActiveDistance\",\"xref\":\"x\",\"y\":\"Calories\",\"yref\":\"y\"},{\"font\":{\"color\":\"#FFFFFF\"},\"showarrow\":false,\"text\":\"0.47\",\"x\":\"LightActiveDistance\",\"xref\":\"x\",\"y\":\"Calories\",\"yref\":\"y\"},{\"font\":{\"color\":\"#FFFFFF\"},\"showarrow\":false,\"text\":\"0.04\",\"x\":\"SedentaryActiveDistance\",\"xref\":\"x\",\"y\":\"Calories\",\"yref\":\"y\"},{\"font\":{\"color\":\"#FFFFFF\"},\"showarrow\":false,\"text\":\"0.62\",\"x\":\"VeryActiveMinutes\",\"xref\":\"x\",\"y\":\"Calories\",\"yref\":\"y\"},{\"font\":{\"color\":\"#FFFFFF\"},\"showarrow\":false,\"text\":\"0.3\",\"x\":\"FairlyActiveMinutes\",\"xref\":\"x\",\"y\":\"Calories\",\"yref\":\"y\"},{\"font\":{\"color\":\"#FFFFFF\"},\"showarrow\":false,\"text\":\"0.29\",\"x\":\"LightlyActiveMinutes\",\"xref\":\"x\",\"y\":\"Calories\",\"yref\":\"y\"},{\"font\":{\"color\":\"#FFFFFF\"},\"showarrow\":false,\"text\":\"-0.11\",\"x\":\"SedentaryMinutes\",\"xref\":\"x\",\"y\":\"Calories\",\"yref\":\"y\"},{\"font\":{\"color\":\"#FFFFFF\"},\"showarrow\":false,\"text\":\"1.0\",\"x\":\"Calories\",\"xref\":\"x\",\"y\":\"Calories\",\"yref\":\"y\"},{\"font\":{\"color\":\"#FFFFFF\"},\"showarrow\":false,\"text\":\"0.47\",\"x\":\"Total_Active_Mins\",\"xref\":\"x\",\"y\":\"Calories\",\"yref\":\"y\"},{\"font\":{\"color\":\"#FFFFFF\"},\"showarrow\":false,\"text\":\"0.09\",\"x\":\"Total_Mins\",\"xref\":\"x\",\"y\":\"Calories\",\"yref\":\"y\"},{\"font\":{\"color\":\"#FFFFFF\"},\"showarrow\":false,\"text\":\"0.08\",\"x\":\"TotalSleepRecords\",\"xref\":\"x\",\"y\":\"Calories\",\"yref\":\"y\"},{\"font\":{\"color\":\"#FFFFFF\"},\"showarrow\":false,\"text\":\"0.09\",\"x\":\"TotalMinutesAsleep\",\"xref\":\"x\",\"y\":\"Calories\",\"yref\":\"y\"},{\"font\":{\"color\":\"#FFFFFF\"},\"showarrow\":false,\"text\":\"0.07\",\"x\":\"TotalTimeInBed\",\"xref\":\"x\",\"y\":\"Calories\",\"yref\":\"y\"},{\"font\":{\"color\":\"#FFFFFF\"},\"showarrow\":false,\"text\":\"0.0\",\"x\":\"Id\",\"xref\":\"x\",\"y\":\"Total_Active_Mins\",\"yref\":\"y\"},{\"font\":{\"color\":\"#FFFFFF\"},\"showarrow\":false,\"text\":\"-0.05\",\"x\":\"ActivityDate\",\"xref\":\"x\",\"y\":\"Total_Active_Mins\",\"yref\":\"y\"},{\"font\":{\"color\":\"#FFFFFF\"},\"showarrow\":false,\"text\":\"0.77\",\"x\":\"TotalSteps\",\"xref\":\"x\",\"y\":\"Total_Active_Mins\",\"yref\":\"y\"},{\"font\":{\"color\":\"#FFFFFF\"},\"showarrow\":false,\"text\":\"0.72\",\"x\":\"TotalDistance\",\"xref\":\"x\",\"y\":\"Total_Active_Mins\",\"yref\":\"y\"},{\"font\":{\"color\":\"#FFFFFF\"},\"showarrow\":false,\"text\":\"0.72\",\"x\":\"TrackerDistance\",\"xref\":\"x\",\"y\":\"Total_Active_Mins\",\"yref\":\"y\"},{\"font\":{\"color\":\"#FFFFFF\"},\"showarrow\":false,\"text\":\"0.16\",\"x\":\"LoggedActivitiesDistance\",\"xref\":\"x\",\"y\":\"Total_Active_Mins\",\"yref\":\"y\"},{\"font\":{\"color\":\"#FFFFFF\"},\"showarrow\":false,\"text\":\"0.31\",\"x\":\"VeryActiveDistance\",\"xref\":\"x\",\"y\":\"Total_Active_Mins\",\"yref\":\"y\"},{\"font\":{\"color\":\"#FFFFFF\"},\"showarrow\":false,\"text\":\"0.36\",\"x\":\"ModeratelyActiveDistance\",\"xref\":\"x\",\"y\":\"Total_Active_Mins\",\"yref\":\"y\"},{\"font\":{\"color\":\"#FFFFFF\"},\"showarrow\":false,\"text\":\"0.87\",\"x\":\"LightActiveDistance\",\"xref\":\"x\",\"y\":\"Total_Active_Mins\",\"yref\":\"y\"},{\"font\":{\"color\":\"#FFFFFF\"},\"showarrow\":false,\"text\":\"0.11\",\"x\":\"SedentaryActiveDistance\",\"xref\":\"x\",\"y\":\"Total_Active_Mins\",\"yref\":\"y\"},{\"font\":{\"color\":\"#FFFFFF\"},\"showarrow\":false,\"text\":\"0.37\",\"x\":\"VeryActiveMinutes\",\"xref\":\"x\",\"y\":\"Total_Active_Mins\",\"yref\":\"y\"},{\"font\":{\"color\":\"#FFFFFF\"},\"showarrow\":false,\"text\":\"0.38\",\"x\":\"FairlyActiveMinutes\",\"xref\":\"x\",\"y\":\"Total_Active_Mins\",\"yref\":\"y\"},{\"font\":{\"color\":\"#FFFFFF\"},\"showarrow\":false,\"text\":\"0.93\",\"x\":\"LightlyActiveMinutes\",\"xref\":\"x\",\"y\":\"Total_Active_Mins\",\"yref\":\"y\"},{\"font\":{\"color\":\"#FFFFFF\"},\"showarrow\":false,\"text\":\"-0.48\",\"x\":\"SedentaryMinutes\",\"xref\":\"x\",\"y\":\"Total_Active_Mins\",\"yref\":\"y\"},{\"font\":{\"color\":\"#FFFFFF\"},\"showarrow\":false,\"text\":\"0.47\",\"x\":\"Calories\",\"xref\":\"x\",\"y\":\"Total_Active_Mins\",\"yref\":\"y\"},{\"font\":{\"color\":\"#FFFFFF\"},\"showarrow\":false,\"text\":\"1.0\",\"x\":\"Total_Active_Mins\",\"xref\":\"x\",\"y\":\"Total_Active_Mins\",\"yref\":\"y\"},{\"font\":{\"color\":\"#FFFFFF\"},\"showarrow\":false,\"text\":\"-0.08\",\"x\":\"Total_Mins\",\"xref\":\"x\",\"y\":\"Total_Active_Mins\",\"yref\":\"y\"},{\"font\":{\"color\":\"#FFFFFF\"},\"showarrow\":false,\"text\":\"0.19\",\"x\":\"TotalSleepRecords\",\"xref\":\"x\",\"y\":\"Total_Active_Mins\",\"yref\":\"y\"},{\"font\":{\"color\":\"#FFFFFF\"},\"showarrow\":false,\"text\":\"0.2\",\"x\":\"TotalMinutesAsleep\",\"xref\":\"x\",\"y\":\"Total_Active_Mins\",\"yref\":\"y\"},{\"font\":{\"color\":\"#FFFFFF\"},\"showarrow\":false,\"text\":\"0.2\",\"x\":\"TotalTimeInBed\",\"xref\":\"x\",\"y\":\"Total_Active_Mins\",\"yref\":\"y\"},{\"font\":{\"color\":\"#FFFFFF\"},\"showarrow\":false,\"text\":\"-0.05\",\"x\":\"Id\",\"xref\":\"x\",\"y\":\"Total_Mins\",\"yref\":\"y\"},{\"font\":{\"color\":\"#FFFFFF\"},\"showarrow\":false,\"text\":\"-0.13\",\"x\":\"ActivityDate\",\"xref\":\"x\",\"y\":\"Total_Mins\",\"yref\":\"y\"},{\"font\":{\"color\":\"#FFFFFF\"},\"showarrow\":false,\"text\":\"-0.02\",\"x\":\"TotalSteps\",\"xref\":\"x\",\"y\":\"Total_Mins\",\"yref\":\"y\"},{\"font\":{\"color\":\"#FFFFFF\"},\"showarrow\":false,\"text\":\"0.0\",\"x\":\"TotalDistance\",\"xref\":\"x\",\"y\":\"Total_Mins\",\"yref\":\"y\"},{\"font\":{\"color\":\"#FFFFFF\"},\"showarrow\":false,\"text\":\"0.0\",\"x\":\"TrackerDistance\",\"xref\":\"x\",\"y\":\"Total_Mins\",\"yref\":\"y\"},{\"font\":{\"color\":\"#FFFFFF\"},\"showarrow\":false,\"text\":\"0.02\",\"x\":\"LoggedActivitiesDistance\",\"xref\":\"x\",\"y\":\"Total_Mins\",\"yref\":\"y\"},{\"font\":{\"color\":\"#FFFFFF\"},\"showarrow\":false,\"text\":\"0.07\",\"x\":\"VeryActiveDistance\",\"xref\":\"x\",\"y\":\"Total_Mins\",\"yref\":\"y\"},{\"font\":{\"color\":\"#FFFFFF\"},\"showarrow\":false,\"text\":\"-0.09\",\"x\":\"ModeratelyActiveDistance\",\"xref\":\"x\",\"y\":\"Total_Mins\",\"yref\":\"y\"},{\"font\":{\"color\":\"#FFFFFF\"},\"showarrow\":false,\"text\":\"-0.07\",\"x\":\"LightActiveDistance\",\"xref\":\"x\",\"y\":\"Total_Mins\",\"yref\":\"y\"},{\"font\":{\"color\":\"#FFFFFF\"},\"showarrow\":false,\"text\":\"0.09\",\"x\":\"SedentaryActiveDistance\",\"xref\":\"x\",\"y\":\"Total_Mins\",\"yref\":\"y\"},{\"font\":{\"color\":\"#FFFFFF\"},\"showarrow\":false,\"text\":\"-0.02\",\"x\":\"VeryActiveMinutes\",\"xref\":\"x\",\"y\":\"Total_Mins\",\"yref\":\"y\"},{\"font\":{\"color\":\"#FFFFFF\"},\"showarrow\":false,\"text\":\"-0.09\",\"x\":\"FairlyActiveMinutes\",\"xref\":\"x\",\"y\":\"Total_Mins\",\"yref\":\"y\"},{\"font\":{\"color\":\"#FFFFFF\"},\"showarrow\":false,\"text\":\"-0.07\",\"x\":\"LightlyActiveMinutes\",\"xref\":\"x\",\"y\":\"Total_Mins\",\"yref\":\"y\"},{\"font\":{\"color\":\"#FFFFFF\"},\"showarrow\":false,\"text\":\"0.92\",\"x\":\"SedentaryMinutes\",\"xref\":\"x\",\"y\":\"Total_Mins\",\"yref\":\"y\"},{\"font\":{\"color\":\"#FFFFFF\"},\"showarrow\":false,\"text\":\"0.09\",\"x\":\"Calories\",\"xref\":\"x\",\"y\":\"Total_Mins\",\"yref\":\"y\"},{\"font\":{\"color\":\"#FFFFFF\"},\"showarrow\":false,\"text\":\"-0.08\",\"x\":\"Total_Active_Mins\",\"xref\":\"x\",\"y\":\"Total_Mins\",\"yref\":\"y\"},{\"font\":{\"color\":\"#FFFFFF\"},\"showarrow\":false,\"text\":\"1.0\",\"x\":\"Total_Mins\",\"xref\":\"x\",\"y\":\"Total_Mins\",\"yref\":\"y\"},{\"font\":{\"color\":\"#FFFFFF\"},\"showarrow\":false,\"text\":\"-0.77\",\"x\":\"TotalSleepRecords\",\"xref\":\"x\",\"y\":\"Total_Mins\",\"yref\":\"y\"},{\"font\":{\"color\":\"#FFFFFF\"},\"showarrow\":false,\"text\":\"-0.86\",\"x\":\"TotalMinutesAsleep\",\"xref\":\"x\",\"y\":\"Total_Mins\",\"yref\":\"y\"},{\"font\":{\"color\":\"#FFFFFF\"},\"showarrow\":false,\"text\":\"-0.86\",\"x\":\"TotalTimeInBed\",\"xref\":\"x\",\"y\":\"Total_Mins\",\"yref\":\"y\"},{\"font\":{\"color\":\"#FFFFFF\"},\"showarrow\":false,\"text\":\"0.04\",\"x\":\"Id\",\"xref\":\"x\",\"y\":\"TotalSleepRecords\",\"yref\":\"y\"},{\"font\":{\"color\":\"#FFFFFF\"},\"showarrow\":false,\"text\":\"-0.02\",\"x\":\"ActivityDate\",\"xref\":\"x\",\"y\":\"TotalSleepRecords\",\"yref\":\"y\"},{\"font\":{\"color\":\"#FFFFFF\"},\"showarrow\":false,\"text\":\"0.11\",\"x\":\"TotalSteps\",\"xref\":\"x\",\"y\":\"TotalSleepRecords\",\"yref\":\"y\"},{\"font\":{\"color\":\"#FFFFFF\"},\"showarrow\":false,\"text\":\"0.08\",\"x\":\"TotalDistance\",\"xref\":\"x\",\"y\":\"TotalSleepRecords\",\"yref\":\"y\"},{\"font\":{\"color\":\"#FFFFFF\"},\"showarrow\":false,\"text\":\"0.08\",\"x\":\"TrackerDistance\",\"xref\":\"x\",\"y\":\"TotalSleepRecords\",\"yref\":\"y\"},{\"font\":{\"color\":\"#FFFFFF\"},\"showarrow\":false,\"text\":\"-0.01\",\"x\":\"LoggedActivitiesDistance\",\"xref\":\"x\",\"y\":\"TotalSleepRecords\",\"yref\":\"y\"},{\"font\":{\"color\":\"#FFFFFF\"},\"showarrow\":false,\"text\":\"-0.04\",\"x\":\"VeryActiveDistance\",\"xref\":\"x\",\"y\":\"TotalSleepRecords\",\"yref\":\"y\"},{\"font\":{\"color\":\"#FFFFFF\"},\"showarrow\":false,\"text\":\"0.14\",\"x\":\"ModeratelyActiveDistance\",\"xref\":\"x\",\"y\":\"TotalSleepRecords\",\"yref\":\"y\"},{\"font\":{\"color\":\"#FFFFFF\"},\"showarrow\":false,\"text\":\"0.16\",\"x\":\"LightActiveDistance\",\"xref\":\"x\",\"y\":\"TotalSleepRecords\",\"yref\":\"y\"},{\"font\":{\"color\":\"#FFFFFF\"},\"showarrow\":false,\"text\":\"-0.09\",\"x\":\"SedentaryActiveDistance\",\"xref\":\"x\",\"y\":\"TotalSleepRecords\",\"yref\":\"y\"},{\"font\":{\"color\":\"#FFFFFF\"},\"showarrow\":false,\"text\":\"0.06\",\"x\":\"VeryActiveMinutes\",\"xref\":\"x\",\"y\":\"TotalSleepRecords\",\"yref\":\"y\"},{\"font\":{\"color\":\"#FFFFFF\"},\"showarrow\":false,\"text\":\"0.16\",\"x\":\"FairlyActiveMinutes\",\"xref\":\"x\",\"y\":\"TotalSleepRecords\",\"yref\":\"y\"},{\"font\":{\"color\":\"#FFFFFF\"},\"showarrow\":false,\"text\":\"0.16\",\"x\":\"LightlyActiveMinutes\",\"xref\":\"x\",\"y\":\"TotalSleepRecords\",\"yref\":\"y\"},{\"font\":{\"color\":\"#FFFFFF\"},\"showarrow\":false,\"text\":\"-0.76\",\"x\":\"SedentaryMinutes\",\"xref\":\"x\",\"y\":\"TotalSleepRecords\",\"yref\":\"y\"},{\"font\":{\"color\":\"#FFFFFF\"},\"showarrow\":false,\"text\":\"0.08\",\"x\":\"Calories\",\"xref\":\"x\",\"y\":\"TotalSleepRecords\",\"yref\":\"y\"},{\"font\":{\"color\":\"#FFFFFF\"},\"showarrow\":false,\"text\":\"0.19\",\"x\":\"Total_Active_Mins\",\"xref\":\"x\",\"y\":\"TotalSleepRecords\",\"yref\":\"y\"},{\"font\":{\"color\":\"#FFFFFF\"},\"showarrow\":false,\"text\":\"-0.77\",\"x\":\"Total_Mins\",\"xref\":\"x\",\"y\":\"TotalSleepRecords\",\"yref\":\"y\"},{\"font\":{\"color\":\"#FFFFFF\"},\"showarrow\":false,\"text\":\"1.0\",\"x\":\"TotalSleepRecords\",\"xref\":\"x\",\"y\":\"TotalSleepRecords\",\"yref\":\"y\"},{\"font\":{\"color\":\"#FFFFFF\"},\"showarrow\":false,\"text\":\"0.89\",\"x\":\"TotalMinutesAsleep\",\"xref\":\"x\",\"y\":\"TotalSleepRecords\",\"yref\":\"y\"},{\"font\":{\"color\":\"#FFFFFF\"},\"showarrow\":false,\"text\":\"0.89\",\"x\":\"TotalTimeInBed\",\"xref\":\"x\",\"y\":\"TotalSleepRecords\",\"yref\":\"y\"},{\"font\":{\"color\":\"#FFFFFF\"},\"showarrow\":false,\"text\":\"0.06\",\"x\":\"Id\",\"xref\":\"x\",\"y\":\"TotalMinutesAsleep\",\"yref\":\"y\"},{\"font\":{\"color\":\"#FFFFFF\"},\"showarrow\":false,\"text\":\"0.01\",\"x\":\"ActivityDate\",\"xref\":\"x\",\"y\":\"TotalMinutesAsleep\",\"yref\":\"y\"},{\"font\":{\"color\":\"#FFFFFF\"},\"showarrow\":false,\"text\":\"0.11\",\"x\":\"TotalSteps\",\"xref\":\"x\",\"y\":\"TotalMinutesAsleep\",\"yref\":\"y\"},{\"font\":{\"color\":\"#FFFFFF\"},\"showarrow\":false,\"text\":\"0.08\",\"x\":\"TotalDistance\",\"xref\":\"x\",\"y\":\"TotalMinutesAsleep\",\"yref\":\"y\"},{\"font\":{\"color\":\"#FFFFFF\"},\"showarrow\":false,\"text\":\"0.08\",\"x\":\"TrackerDistance\",\"xref\":\"x\",\"y\":\"TotalMinutesAsleep\",\"yref\":\"y\"},{\"font\":{\"color\":\"#FFFFFF\"},\"showarrow\":false,\"text\":\"-0.01\",\"x\":\"LoggedActivitiesDistance\",\"xref\":\"x\",\"y\":\"TotalMinutesAsleep\",\"yref\":\"y\"},{\"font\":{\"color\":\"#FFFFFF\"},\"showarrow\":false,\"text\":\"-0.04\",\"x\":\"VeryActiveDistance\",\"xref\":\"x\",\"y\":\"TotalMinutesAsleep\",\"yref\":\"y\"},{\"font\":{\"color\":\"#FFFFFF\"},\"showarrow\":false,\"text\":\"0.1\",\"x\":\"ModeratelyActiveDistance\",\"xref\":\"x\",\"y\":\"TotalMinutesAsleep\",\"yref\":\"y\"},{\"font\":{\"color\":\"#FFFFFF\"},\"showarrow\":false,\"text\":\"0.17\",\"x\":\"LightActiveDistance\",\"xref\":\"x\",\"y\":\"TotalMinutesAsleep\",\"yref\":\"y\"},{\"font\":{\"color\":\"#FFFFFF\"},\"showarrow\":false,\"text\":\"-0.09\",\"x\":\"SedentaryActiveDistance\",\"xref\":\"x\",\"y\":\"TotalMinutesAsleep\",\"yref\":\"y\"},{\"font\":{\"color\":\"#FFFFFF\"},\"showarrow\":false,\"text\":\"0.07\",\"x\":\"VeryActiveMinutes\",\"xref\":\"x\",\"y\":\"TotalMinutesAsleep\",\"yref\":\"y\"},{\"font\":{\"color\":\"#FFFFFF\"},\"showarrow\":false,\"text\":\"0.11\",\"x\":\"FairlyActiveMinutes\",\"xref\":\"x\",\"y\":\"TotalMinutesAsleep\",\"yref\":\"y\"},{\"font\":{\"color\":\"#FFFFFF\"},\"showarrow\":false,\"text\":\"0.18\",\"x\":\"LightlyActiveMinutes\",\"xref\":\"x\",\"y\":\"TotalMinutesAsleep\",\"yref\":\"y\"},{\"font\":{\"color\":\"#FFFFFF\"},\"showarrow\":false,\"text\":\"-0.84\",\"x\":\"SedentaryMinutes\",\"xref\":\"x\",\"y\":\"TotalMinutesAsleep\",\"yref\":\"y\"},{\"font\":{\"color\":\"#FFFFFF\"},\"showarrow\":false,\"text\":\"0.09\",\"x\":\"Calories\",\"xref\":\"x\",\"y\":\"TotalMinutesAsleep\",\"yref\":\"y\"},{\"font\":{\"color\":\"#FFFFFF\"},\"showarrow\":false,\"text\":\"0.2\",\"x\":\"Total_Active_Mins\",\"xref\":\"x\",\"y\":\"TotalMinutesAsleep\",\"yref\":\"y\"},{\"font\":{\"color\":\"#FFFFFF\"},\"showarrow\":false,\"text\":\"-0.86\",\"x\":\"Total_Mins\",\"xref\":\"x\",\"y\":\"TotalMinutesAsleep\",\"yref\":\"y\"},{\"font\":{\"color\":\"#FFFFFF\"},\"showarrow\":false,\"text\":\"0.89\",\"x\":\"TotalSleepRecords\",\"xref\":\"x\",\"y\":\"TotalMinutesAsleep\",\"yref\":\"y\"},{\"font\":{\"color\":\"#FFFFFF\"},\"showarrow\":false,\"text\":\"1.0\",\"x\":\"TotalMinutesAsleep\",\"xref\":\"x\",\"y\":\"TotalMinutesAsleep\",\"yref\":\"y\"},{\"font\":{\"color\":\"#FFFFFF\"},\"showarrow\":false,\"text\":\"0.99\",\"x\":\"TotalTimeInBed\",\"xref\":\"x\",\"y\":\"TotalMinutesAsleep\",\"yref\":\"y\"},{\"font\":{\"color\":\"#FFFFFF\"},\"showarrow\":false,\"text\":\"0.05\",\"x\":\"Id\",\"xref\":\"x\",\"y\":\"TotalTimeInBed\",\"yref\":\"y\"},{\"font\":{\"color\":\"#FFFFFF\"},\"showarrow\":false,\"text\":\"0.01\",\"x\":\"ActivityDate\",\"xref\":\"x\",\"y\":\"TotalTimeInBed\",\"yref\":\"y\"},{\"font\":{\"color\":\"#FFFFFF\"},\"showarrow\":false,\"text\":\"0.11\",\"x\":\"TotalSteps\",\"xref\":\"x\",\"y\":\"TotalTimeInBed\",\"yref\":\"y\"},{\"font\":{\"color\":\"#FFFFFF\"},\"showarrow\":false,\"text\":\"0.08\",\"x\":\"TotalDistance\",\"xref\":\"x\",\"y\":\"TotalTimeInBed\",\"yref\":\"y\"},{\"font\":{\"color\":\"#FFFFFF\"},\"showarrow\":false,\"text\":\"0.08\",\"x\":\"TrackerDistance\",\"xref\":\"x\",\"y\":\"TotalTimeInBed\",\"yref\":\"y\"},{\"font\":{\"color\":\"#FFFFFF\"},\"showarrow\":false,\"text\":\"-0.01\",\"x\":\"LoggedActivitiesDistance\",\"xref\":\"x\",\"y\":\"TotalTimeInBed\",\"yref\":\"y\"},{\"font\":{\"color\":\"#FFFFFF\"},\"showarrow\":false,\"text\":\"-0.04\",\"x\":\"VeryActiveDistance\",\"xref\":\"x\",\"y\":\"TotalTimeInBed\",\"yref\":\"y\"},{\"font\":{\"color\":\"#FFFFFF\"},\"showarrow\":false,\"text\":\"0.14\",\"x\":\"ModeratelyActiveDistance\",\"xref\":\"x\",\"y\":\"TotalTimeInBed\",\"yref\":\"y\"},{\"font\":{\"color\":\"#FFFFFF\"},\"showarrow\":false,\"text\":\"0.16\",\"x\":\"LightActiveDistance\",\"xref\":\"x\",\"y\":\"TotalTimeInBed\",\"yref\":\"y\"},{\"font\":{\"color\":\"#FFFFFF\"},\"showarrow\":false,\"text\":\"-0.09\",\"x\":\"SedentaryActiveDistance\",\"xref\":\"x\",\"y\":\"TotalTimeInBed\",\"yref\":\"y\"},{\"font\":{\"color\":\"#FFFFFF\"},\"showarrow\":false,\"text\":\"0.07\",\"x\":\"VeryActiveMinutes\",\"xref\":\"x\",\"y\":\"TotalTimeInBed\",\"yref\":\"y\"},{\"font\":{\"color\":\"#FFFFFF\"},\"showarrow\":false,\"text\":\"0.15\",\"x\":\"FairlyActiveMinutes\",\"xref\":\"x\",\"y\":\"TotalTimeInBed\",\"yref\":\"y\"},{\"font\":{\"color\":\"#FFFFFF\"},\"showarrow\":false,\"text\":\"0.17\",\"x\":\"LightlyActiveMinutes\",\"xref\":\"x\",\"y\":\"TotalTimeInBed\",\"yref\":\"y\"},{\"font\":{\"color\":\"#FFFFFF\"},\"showarrow\":false,\"text\":\"-0.84\",\"x\":\"SedentaryMinutes\",\"xref\":\"x\",\"y\":\"TotalTimeInBed\",\"yref\":\"y\"},{\"font\":{\"color\":\"#FFFFFF\"},\"showarrow\":false,\"text\":\"0.07\",\"x\":\"Calories\",\"xref\":\"x\",\"y\":\"TotalTimeInBed\",\"yref\":\"y\"},{\"font\":{\"color\":\"#FFFFFF\"},\"showarrow\":false,\"text\":\"0.2\",\"x\":\"Total_Active_Mins\",\"xref\":\"x\",\"y\":\"TotalTimeInBed\",\"yref\":\"y\"},{\"font\":{\"color\":\"#FFFFFF\"},\"showarrow\":false,\"text\":\"-0.86\",\"x\":\"Total_Mins\",\"xref\":\"x\",\"y\":\"TotalTimeInBed\",\"yref\":\"y\"},{\"font\":{\"color\":\"#FFFFFF\"},\"showarrow\":false,\"text\":\"0.89\",\"x\":\"TotalSleepRecords\",\"xref\":\"x\",\"y\":\"TotalTimeInBed\",\"yref\":\"y\"},{\"font\":{\"color\":\"#FFFFFF\"},\"showarrow\":false,\"text\":\"0.99\",\"x\":\"TotalMinutesAsleep\",\"xref\":\"x\",\"y\":\"TotalTimeInBed\",\"yref\":\"y\"},{\"font\":{\"color\":\"#FFFFFF\"},\"showarrow\":false,\"text\":\"1.0\",\"x\":\"TotalTimeInBed\",\"xref\":\"x\",\"y\":\"TotalTimeInBed\",\"yref\":\"y\"}],\"xaxis\":{\"dtick\":1,\"gridcolor\":\"rgb(0, 0, 0)\",\"side\":\"bottom\",\"ticks\":\"\",\"title\":{\"text\":\"Features\"}},\"yaxis\":{\"dtick\":1,\"ticks\":\"\",\"ticksuffix\":\"  \",\"title\":{\"text\":\"Features\"}},\"template\":{\"data\":{\"histogram2dcontour\":[{\"type\":\"histogram2dcontour\",\"colorbar\":{\"outlinewidth\":0,\"ticks\":\"\"},\"colorscale\":[[0.0,\"#0d0887\"],[0.1111111111111111,\"#46039f\"],[0.2222222222222222,\"#7201a8\"],[0.3333333333333333,\"#9c179e\"],[0.4444444444444444,\"#bd3786\"],[0.5555555555555556,\"#d8576b\"],[0.6666666666666666,\"#ed7953\"],[0.7777777777777778,\"#fb9f3a\"],[0.8888888888888888,\"#fdca26\"],[1.0,\"#f0f921\"]]}],\"choropleth\":[{\"type\":\"choropleth\",\"colorbar\":{\"outlinewidth\":0,\"ticks\":\"\"}}],\"histogram2d\":[{\"type\":\"histogram2d\",\"colorbar\":{\"outlinewidth\":0,\"ticks\":\"\"},\"colorscale\":[[0.0,\"#0d0887\"],[0.1111111111111111,\"#46039f\"],[0.2222222222222222,\"#7201a8\"],[0.3333333333333333,\"#9c179e\"],[0.4444444444444444,\"#bd3786\"],[0.5555555555555556,\"#d8576b\"],[0.6666666666666666,\"#ed7953\"],[0.7777777777777778,\"#fb9f3a\"],[0.8888888888888888,\"#fdca26\"],[1.0,\"#f0f921\"]]}],\"heatmap\":[{\"type\":\"heatmap\",\"colorbar\":{\"outlinewidth\":0,\"ticks\":\"\"},\"colorscale\":[[0.0,\"#0d0887\"],[0.1111111111111111,\"#46039f\"],[0.2222222222222222,\"#7201a8\"],[0.3333333333333333,\"#9c179e\"],[0.4444444444444444,\"#bd3786\"],[0.5555555555555556,\"#d8576b\"],[0.6666666666666666,\"#ed7953\"],[0.7777777777777778,\"#fb9f3a\"],[0.8888888888888888,\"#fdca26\"],[1.0,\"#f0f921\"]]}],\"heatmapgl\":[{\"type\":\"heatmapgl\",\"colorbar\":{\"outlinewidth\":0,\"ticks\":\"\"},\"colorscale\":[[0.0,\"#0d0887\"],[0.1111111111111111,\"#46039f\"],[0.2222222222222222,\"#7201a8\"],[0.3333333333333333,\"#9c179e\"],[0.4444444444444444,\"#bd3786\"],[0.5555555555555556,\"#d8576b\"],[0.6666666666666666,\"#ed7953\"],[0.7777777777777778,\"#fb9f3a\"],[0.8888888888888888,\"#fdca26\"],[1.0,\"#f0f921\"]]}],\"contourcarpet\":[{\"type\":\"contourcarpet\",\"colorbar\":{\"outlinewidth\":0,\"ticks\":\"\"}}],\"contour\":[{\"type\":\"contour\",\"colorbar\":{\"outlinewidth\":0,\"ticks\":\"\"},\"colorscale\":[[0.0,\"#0d0887\"],[0.1111111111111111,\"#46039f\"],[0.2222222222222222,\"#7201a8\"],[0.3333333333333333,\"#9c179e\"],[0.4444444444444444,\"#bd3786\"],[0.5555555555555556,\"#d8576b\"],[0.6666666666666666,\"#ed7953\"],[0.7777777777777778,\"#fb9f3a\"],[0.8888888888888888,\"#fdca26\"],[1.0,\"#f0f921\"]]}],\"surface\":[{\"type\":\"surface\",\"colorbar\":{\"outlinewidth\":0,\"ticks\":\"\"},\"colorscale\":[[0.0,\"#0d0887\"],[0.1111111111111111,\"#46039f\"],[0.2222222222222222,\"#7201a8\"],[0.3333333333333333,\"#9c179e\"],[0.4444444444444444,\"#bd3786\"],[0.5555555555555556,\"#d8576b\"],[0.6666666666666666,\"#ed7953\"],[0.7777777777777778,\"#fb9f3a\"],[0.8888888888888888,\"#fdca26\"],[1.0,\"#f0f921\"]]}],\"mesh3d\":[{\"type\":\"mesh3d\",\"colorbar\":{\"outlinewidth\":0,\"ticks\":\"\"}}],\"scatter\":[{\"fillpattern\":{\"fillmode\":\"overlay\",\"size\":10,\"solidity\":0.2},\"type\":\"scatter\"}],\"parcoords\":[{\"type\":\"parcoords\",\"line\":{\"colorbar\":{\"outlinewidth\":0,\"ticks\":\"\"}}}],\"scatterpolargl\":[{\"type\":\"scatterpolargl\",\"marker\":{\"colorbar\":{\"outlinewidth\":0,\"ticks\":\"\"}}}],\"bar\":[{\"error_x\":{\"color\":\"#2a3f5f\"},\"error_y\":{\"color\":\"#2a3f5f\"},\"marker\":{\"line\":{\"color\":\"#E5ECF6\",\"width\":0.5},\"pattern\":{\"fillmode\":\"overlay\",\"size\":10,\"solidity\":0.2}},\"type\":\"bar\"}],\"scattergeo\":[{\"type\":\"scattergeo\",\"marker\":{\"colorbar\":{\"outlinewidth\":0,\"ticks\":\"\"}}}],\"scatterpolar\":[{\"type\":\"scatterpolar\",\"marker\":{\"colorbar\":{\"outlinewidth\":0,\"ticks\":\"\"}}}],\"histogram\":[{\"marker\":{\"pattern\":{\"fillmode\":\"overlay\",\"size\":10,\"solidity\":0.2}},\"type\":\"histogram\"}],\"scattergl\":[{\"type\":\"scattergl\",\"marker\":{\"colorbar\":{\"outlinewidth\":0,\"ticks\":\"\"}}}],\"scatter3d\":[{\"type\":\"scatter3d\",\"line\":{\"colorbar\":{\"outlinewidth\":0,\"ticks\":\"\"}},\"marker\":{\"colorbar\":{\"outlinewidth\":0,\"ticks\":\"\"}}}],\"scattermapbox\":[{\"type\":\"scattermapbox\",\"marker\":{\"colorbar\":{\"outlinewidth\":0,\"ticks\":\"\"}}}],\"scatterternary\":[{\"type\":\"scatterternary\",\"marker\":{\"colorbar\":{\"outlinewidth\":0,\"ticks\":\"\"}}}],\"scattercarpet\":[{\"type\":\"scattercarpet\",\"marker\":{\"colorbar\":{\"outlinewidth\":0,\"ticks\":\"\"}}}],\"carpet\":[{\"aaxis\":{\"endlinecolor\":\"#2a3f5f\",\"gridcolor\":\"white\",\"linecolor\":\"white\",\"minorgridcolor\":\"white\",\"startlinecolor\":\"#2a3f5f\"},\"baxis\":{\"endlinecolor\":\"#2a3f5f\",\"gridcolor\":\"white\",\"linecolor\":\"white\",\"minorgridcolor\":\"white\",\"startlinecolor\":\"#2a3f5f\"},\"type\":\"carpet\"}],\"table\":[{\"cells\":{\"fill\":{\"color\":\"#EBF0F8\"},\"line\":{\"color\":\"white\"}},\"header\":{\"fill\":{\"color\":\"#C8D4E3\"},\"line\":{\"color\":\"white\"}},\"type\":\"table\"}],\"barpolar\":[{\"marker\":{\"line\":{\"color\":\"#E5ECF6\",\"width\":0.5},\"pattern\":{\"fillmode\":\"overlay\",\"size\":10,\"solidity\":0.2}},\"type\":\"barpolar\"}],\"pie\":[{\"automargin\":true,\"type\":\"pie\"}]},\"layout\":{\"autotypenumbers\":\"strict\",\"colorway\":[\"#636efa\",\"#EF553B\",\"#00cc96\",\"#ab63fa\",\"#FFA15A\",\"#19d3f3\",\"#FF6692\",\"#B6E880\",\"#FF97FF\",\"#FECB52\"],\"font\":{\"color\":\"#2a3f5f\"},\"hovermode\":\"closest\",\"hoverlabel\":{\"align\":\"left\"},\"paper_bgcolor\":\"white\",\"plot_bgcolor\":\"#E5ECF6\",\"polar\":{\"bgcolor\":\"#E5ECF6\",\"angularaxis\":{\"gridcolor\":\"white\",\"linecolor\":\"white\",\"ticks\":\"\"},\"radialaxis\":{\"gridcolor\":\"white\",\"linecolor\":\"white\",\"ticks\":\"\"}},\"ternary\":{\"bgcolor\":\"#E5ECF6\",\"aaxis\":{\"gridcolor\":\"white\",\"linecolor\":\"white\",\"ticks\":\"\"},\"baxis\":{\"gridcolor\":\"white\",\"linecolor\":\"white\",\"ticks\":\"\"},\"caxis\":{\"gridcolor\":\"white\",\"linecolor\":\"white\",\"ticks\":\"\"}},\"coloraxis\":{\"colorbar\":{\"outlinewidth\":0,\"ticks\":\"\"}},\"colorscale\":{\"sequential\":[[0.0,\"#0d0887\"],[0.1111111111111111,\"#46039f\"],[0.2222222222222222,\"#7201a8\"],[0.3333333333333333,\"#9c179e\"],[0.4444444444444444,\"#bd3786\"],[0.5555555555555556,\"#d8576b\"],[0.6666666666666666,\"#ed7953\"],[0.7777777777777778,\"#fb9f3a\"],[0.8888888888888888,\"#fdca26\"],[1.0,\"#f0f921\"]],\"sequentialminus\":[[0.0,\"#0d0887\"],[0.1111111111111111,\"#46039f\"],[0.2222222222222222,\"#7201a8\"],[0.3333333333333333,\"#9c179e\"],[0.4444444444444444,\"#bd3786\"],[0.5555555555555556,\"#d8576b\"],[0.6666666666666666,\"#ed7953\"],[0.7777777777777778,\"#fb9f3a\"],[0.8888888888888888,\"#fdca26\"],[1.0,\"#f0f921\"]],\"diverging\":[[0,\"#8e0152\"],[0.1,\"#c51b7d\"],[0.2,\"#de77ae\"],[0.3,\"#f1b6da\"],[0.4,\"#fde0ef\"],[0.5,\"#f7f7f7\"],[0.6,\"#e6f5d0\"],[0.7,\"#b8e186\"],[0.8,\"#7fbc41\"],[0.9,\"#4d9221\"],[1,\"#276419\"]]},\"xaxis\":{\"gridcolor\":\"white\",\"linecolor\":\"white\",\"ticks\":\"\",\"title\":{\"standoff\":15},\"zerolinecolor\":\"white\",\"automargin\":true,\"zerolinewidth\":2},\"yaxis\":{\"gridcolor\":\"white\",\"linecolor\":\"white\",\"ticks\":\"\",\"title\":{\"standoff\":15},\"zerolinecolor\":\"white\",\"automargin\":true,\"zerolinewidth\":2},\"scene\":{\"xaxis\":{\"backgroundcolor\":\"#E5ECF6\",\"gridcolor\":\"white\",\"linecolor\":\"white\",\"showbackground\":true,\"ticks\":\"\",\"zerolinecolor\":\"white\",\"gridwidth\":2},\"yaxis\":{\"backgroundcolor\":\"#E5ECF6\",\"gridcolor\":\"white\",\"linecolor\":\"white\",\"showbackground\":true,\"ticks\":\"\",\"zerolinecolor\":\"white\",\"gridwidth\":2},\"zaxis\":{\"backgroundcolor\":\"#E5ECF6\",\"gridcolor\":\"white\",\"linecolor\":\"white\",\"showbackground\":true,\"ticks\":\"\",\"zerolinecolor\":\"white\",\"gridwidth\":2}},\"shapedefaults\":{\"line\":{\"color\":\"#2a3f5f\"}},\"annotationdefaults\":{\"arrowcolor\":\"#2a3f5f\",\"arrowhead\":0,\"arrowwidth\":1},\"geo\":{\"bgcolor\":\"white\",\"landcolor\":\"#E5ECF6\",\"subunitcolor\":\"white\",\"showland\":true,\"showlakes\":true,\"lakecolor\":\"white\"},\"title\":{\"x\":0.05},\"mapbox\":{\"style\":\"light\"}}},\"title\":{\"text\":\"Correlation Heatmap\"},\"width\":1100,\"height\":1000},                        {\"responsive\": true}                    ).then(function(){\n",
       "                            \n",
       "var gd = document.getElementById('9bfd666b-8b60-427e-a7a0-358af1d5ad3c');\n",
       "var x = new MutationObserver(function (mutations, observer) {{\n",
       "        var display = window.getComputedStyle(gd).display;\n",
       "        if (!display || display === 'none') {{\n",
       "            console.log([gd, 'removed!']);\n",
       "            Plotly.purge(gd);\n",
       "            observer.disconnect();\n",
       "        }}\n",
       "}});\n",
       "\n",
       "// Listen for the removal of the full notebook cells\n",
       "var notebookContainer = gd.closest('#notebook-container');\n",
       "if (notebookContainer) {{\n",
       "    x.observe(notebookContainer, {childList: true});\n",
       "}}\n",
       "\n",
       "// Listen for the clearing of the current output cell\n",
       "var outputEl = gd.closest('.output');\n",
       "if (outputEl) {{\n",
       "    x.observe(outputEl, {childList: true});\n",
       "}}\n",
       "\n",
       "                        })                };                });            </script>        </div>"
      ]
     },
     "metadata": {},
     "output_type": "display_data"
    }
   ],
   "source": [
    "# Defining the columns in the correlation matrix\n",
    "correlation_matrix = df_activity[['Id', 'ActivityDate', 'TotalSteps', 'TotalDistance', 'TrackerDistance', 'LoggedActivitiesDistance', 'VeryActiveDistance',\n",
    "        'ModeratelyActiveDistance', 'LightActiveDistance', 'SedentaryActiveDistance', 'VeryActiveMinutes', 'FairlyActiveMinutes','LightlyActiveMinutes', \n",
    "        'SedentaryMinutes', 'Calories','Total_Active_Mins', 'Total_Mins','TotalSleepRecords', 'TotalMinutesAsleep', 'TotalTimeInBed']].corr().round(2)\n",
    "\n",
    "# Create heatmap\n",
    "fig = ff.create_annotated_heatmap(z=correlation_matrix.values, x=list(correlation_matrix.columns),y=list(correlation_matrix.index),\n",
    "    colorscale='Portland_r',showscale=True, zmin=-1, zmax=1)\n",
    "\n",
    "# Customize layout\n",
    "fig.update_layout(title='Correlation Heatmap',xaxis_title='Features',yaxis_title='Features', width=1100, height=1000, \n",
    "                  xaxis=dict(side='bottom'))\n",
    "\n",
    "# Show plot\n",
    "fig.show()"
   ]
  },
  {
   "cell_type": "markdown",
   "id": "00ddb108",
   "metadata": {
    "papermill": {
     "duration": 0.020567,
     "end_time": "2024-05-16T18:47:35.188103",
     "exception": false,
     "start_time": "2024-05-16T18:47:35.167536",
     "status": "completed"
    },
    "tags": []
   },
   "source": [
    "<p style=\"font-size:18px;\"> Although great to provide a high level overview of the data, the correlation matrix did not show any unexpected correlation as such I will continue to explore and check the data.\n",
    "\n",
    "<p style=\"font-size:18px;\"> To check if the data was complete and that the total minutes per day was equal to 1440 minutes (number of minutes in a day) I wrote the following code. The code identifys how many rows contain data from a full day, partial day and any errors where the recorded data was more than 1440 minutes in a day."
   ]
  },
  {
   "cell_type": "code",
   "execution_count": 12,
   "id": "4374a6c7",
   "metadata": {
    "execution": {
     "iopub.execute_input": "2024-05-16T18:47:35.235594Z",
     "iopub.status.busy": "2024-05-16T18:47:35.234859Z",
     "iopub.status.idle": "2024-05-16T18:47:35.245406Z",
     "shell.execute_reply": "2024-05-16T18:47:35.244359Z"
    },
    "papermill": {
     "duration": 0.038666,
     "end_time": "2024-05-16T18:47:35.248457",
     "exception": false,
     "start_time": "2024-05-16T18:47:35.209791",
     "status": "completed"
    },
    "tags": []
   },
   "outputs": [
    {
     "name": "stdout",
     "output_type": "stream",
     "text": [
      "There are 462 rows which the total mins is less than 24hrs\n",
      "There are 0 rows which the total mins is more than 24hrs\n",
      "There are 478 rows which the total mins is 24hrs\n"
     ]
    }
   ],
   "source": [
    "# Creating variables for diffrent critera\n",
    "under_24hrs = len(df_activity[df_activity['Total_Mins'] < 1440])\n",
    "over_24hrs = len(df_activity[df_activity['Total_Mins'] > 1440])\n",
    "exactly_24hrs = len(df_activity[df_activity['Total_Mins'] == 1440])\n",
    "\n",
    "print(\"There are\", under_24hrs, \"rows which the total mins is less than 24hrs\")\n",
    "print(\"There are\", over_24hrs, \"rows which the total mins is more than 24hrs\")\n",
    "print(\"There are\", exactly_24hrs, \"rows which the total mins is 24hrs\")"
   ]
  },
  {
   "cell_type": "markdown",
   "id": "73cba16d",
   "metadata": {
    "papermill": {
     "duration": 0.020744,
     "end_time": "2024-05-16T18:47:35.290574",
     "exception": false,
     "start_time": "2024-05-16T18:47:35.269830",
     "status": "completed"
    },
    "tags": []
   },
   "source": [
    "<p style=\"font-size:18px;\"> The good news is that there are no rows which contained data for more than 24hrs in a 24hour period. However almost half of the rows contained partial data where a fitness tracker did not track data for a full day. There are many reasons why this may be the case, it could be that the users are required to remove their fitness trackers under certain conditions such as swimming, hazardous environments or for work which could potentially result in the users forgetting to put the fitness trackers back on when able to. Alternatively the lack of data could be due to lack of power in the fitness tracker as such the fitness tracker needed to be charged during this period of time.\n",
    "    \n",
    "<p style=\"font-size:18px;\"> To investigate this futher I added an additonal column called \"Missing_Mins\" which minuses the \"Total_Mins\" column from 1440 to identify how many minutes in a particular day a user did not track any fitness data. \n",
    "    \n",
    "<p style=\"font-size:18px;\">  With the newly created \"Missing_Mins\" column I am able to preform further analysis to identify on average how many missing minutes there are per user per day."
   ]
  },
  {
   "cell_type": "code",
   "execution_count": 13,
   "id": "5be6d57e",
   "metadata": {
    "execution": {
     "iopub.execute_input": "2024-05-16T18:47:35.335547Z",
     "iopub.status.busy": "2024-05-16T18:47:35.334213Z",
     "iopub.status.idle": "2024-05-16T18:47:35.348880Z",
     "shell.execute_reply": "2024-05-16T18:47:35.347796Z"
    },
    "papermill": {
     "duration": 0.040291,
     "end_time": "2024-05-16T18:47:35.352017",
     "exception": false,
     "start_time": "2024-05-16T18:47:35.311726",
     "status": "completed"
    },
    "tags": []
   },
   "outputs": [
    {
     "name": "stdout",
     "output_type": "stream",
     "text": [
      "Average number of mins per day where data was not tracked 450.16\n",
      "Average number of hours per day where data was not tracked 7.5\n",
      "Percentage of average missing data for each day 31.0 %\n",
      "Number of rows where the total mins does not match 1440: 462\n",
      "Number of rows with too many minutes: 0\n"
     ]
    }
   ],
   "source": [
    "# Creating column \"Missing_Mins\" calculates the total mins minus 1440 (minutes in 24hrs)\n",
    "df_activity[\"Missing_Mins\"] = (1440 - df_activity[\"Total_Mins\"])\n",
    "\n",
    "# Variables to find rows with missing minutes depending on specified critera\n",
    "missing_mins = df_activity.loc[df_activity[\"Missing_Mins\"] != 0, \"Missing_Mins\"]\n",
    "negative_missing_mins = df_activity.loc[df_activity[\"Missing_Mins\"] <0].shape[0]\n",
    "\n",
    "# Function to print results\n",
    "def missing_mins_check (x,y):\n",
    "    print(\"Average number of mins per day where data was not tracked\", round(missing_mins.mean(),2))\n",
    "    print(\"Average number of hours per day where data was not tracked\", round(missing_mins.mean()/60,2))\n",
    "    print(\"Percentage of average missing data for each day\",round(missing_mins.mean()/1440,2)*100,\"%\")\n",
    "    print(\"Number of rows where the total mins does not match 1440:\", missing_mins.shape[0])\n",
    "    print(\"Number of rows with too many minutes:\", negative_missing_mins)\n",
    "    \n",
    "missing_mins_check(missing_mins,negative_missing_mins)"
   ]
  },
  {
   "cell_type": "markdown",
   "id": "413b81c0",
   "metadata": {
    "papermill": {
     "duration": 0.021974,
     "end_time": "2024-05-16T18:47:35.395741",
     "exception": false,
     "start_time": "2024-05-16T18:47:35.373767",
     "status": "completed"
    },
    "tags": []
   },
   "source": [
    "<p style=\"font-size:18px;\"> Wow, there is on average 7.5 hours of missing data per day or 31% that is a massive amount of missing data. This couldn't be right I thought I must be missing somthing. I thought maybe 7.5 hours of missing data a day could be users charging their fitness trackers as they sleep? This is when I realised my oversight I was not looking at all the data. I had joined the sleep tracking data into the activity dataset yet not included the sleep data in my analysis. To correct this error I repeated my previous check but now with the included sleep data. "
   ]
  },
  {
   "cell_type": "code",
   "execution_count": 14,
   "id": "e01adfba",
   "metadata": {
    "execution": {
     "iopub.execute_input": "2024-05-16T18:47:35.442583Z",
     "iopub.status.busy": "2024-05-16T18:47:35.441798Z",
     "iopub.status.idle": "2024-05-16T18:47:35.454033Z",
     "shell.execute_reply": "2024-05-16T18:47:35.452661Z"
    },
    "papermill": {
     "duration": 0.039876,
     "end_time": "2024-05-16T18:47:35.457440",
     "exception": false,
     "start_time": "2024-05-16T18:47:35.417564",
     "status": "completed"
    },
    "tags": []
   },
   "outputs": [
    {
     "name": "stdout",
     "output_type": "stream",
     "text": [
      "Average number of mins per day where data was not tracked 59.51\n",
      "Average number of hours per day where data was not tracked 0.99\n",
      "Percentage of average missing data for each day 4.0 %\n",
      "Number of rows where the total mins does not match 1440: 336\n",
      "Number of rows with too many minutes: 155\n"
     ]
    }
   ],
   "source": [
    "# Ammended \"Missing_Mins\" column which now factors in the total time spent in bed\n",
    "df_activity[\"Missing_Mins\"] = 1440 - (df_activity[\"Total_Mins\"] + df_activity[\"TotalTimeInBed\"])\n",
    "\n",
    "# Variables duplicated from previous code block. Calculation error if variables are not redefined\n",
    "missing_mins = df_activity.loc[df_activity[\"Missing_Mins\"] != 0, \"Missing_Mins\"]\n",
    "negative_missing_mins = df_activity.loc[df_activity[\"Missing_Mins\"] <0].shape[0]\n",
    "\n",
    "missing_mins_check(missing_mins,negative_missing_mins)"
   ]
  },
  {
   "cell_type": "markdown",
   "id": "75693e06",
   "metadata": {
    "papermill": {
     "duration": 0.022787,
     "end_time": "2024-05-16T18:47:35.503326",
     "exception": false,
     "start_time": "2024-05-16T18:47:35.480539",
     "status": "completed"
    },
    "tags": []
   },
   "source": [
    "<p style=\"font-size:18px;\"> Okay, thats looking better. The average time per day of untracked data has dropped significantly which is great and on average there is now only 4% of missing data per day. However this has brought along another problem there is still a large the number of rows in which the total minutes does not equal 1440 (total minutes in a day) and 155 rows which now contain more than 1440 minutes. After looking at the data the only way I could make sense of this is that in cases where the total number of mins is less than 1440, this is (on average) a short period of time in which the users could be charging their fitness trackers. On the other side however where 155 rows now have a total minutes of more than 1440 this suggest to me that somewhere there is double counting. For example the users are having lets say \"active time\" in bed where the the tracker is adding minutes to the \"TotalTimeInBed\" column and one of the activity minutes columns.\n",
    "    \n",
    "<p style=\"font-size:18px;\"> I spent far too long trying to perfectly get every row to have 0 missing minutes however the problem eludes me. <i> (please let me know if you find a solution) </i> I have minimized the amount of missing data in the dataset yet there is still a huge amount of rows in which the total minutes does not total 1400. I decided to plot the missing minutes on a graph to see if there were any trends or points of interest."
   ]
  },
  {
   "cell_type": "code",
   "execution_count": 15,
   "id": "f8420a6b",
   "metadata": {
    "execution": {
     "iopub.execute_input": "2024-05-16T18:47:35.549599Z",
     "iopub.status.busy": "2024-05-16T18:47:35.549189Z",
     "iopub.status.idle": "2024-05-16T18:47:35.697330Z",
     "shell.execute_reply": "2024-05-16T18:47:35.696344Z"
    },
    "papermill": {
     "duration": 0.174553,
     "end_time": "2024-05-16T18:47:35.700183",
     "exception": false,
     "start_time": "2024-05-16T18:47:35.525630",
     "status": "completed"
    },
    "tags": []
   },
   "outputs": [
    {
     "data": {
      "text/html": [
       "<div>                            <div id=\"9c6418fe-6c62-4f8a-92f2-cf115772831e\" class=\"plotly-graph-div\" style=\"height:750px; width:100%;\"></div>            <script type=\"text/javascript\">                require([\"plotly\"], function(Plotly) {                    window.PLOTLYENV=window.PLOTLYENV || {};                                    if (document.getElementById(\"9c6418fe-6c62-4f8a-92f2-cf115772831e\")) {                    Plotly.newPlot(                        \"9c6418fe-6c62-4f8a-92f2-cf115772831e\",                        [{\"hovertemplate\":\"Missing minutes: %{x}\\u003cbr\\u003e %{y}\",\"marker\":{\"color\":[33.0,-33.0,155.0,443.0,359.0,-359.0,678.0,224.0,-224.0,111.0,77.0,-188.0,729.0,-124.0,51.0,-51.0,125.0,-125.0,474.0,444.0,-4.0,-26.0,22.0,-8.0,-5.0,-171.0,196.0,-26.0,-20.0,24.0,21.0,-4.0,-19.0,-172.0,134.0,23.0,-62.0,86.0,6.0,-13.0,-174.0,155.0,5.0,1.0,-2.0,25.0,4.0,-60.0,41.0,-12.0,282.0,482.0,115.0,-13.0,-9.0,-93.0,66.0,73.0,-28.0,-111.0,106.0,-62.0,-44.0,36.0,37.0,13.0,-9.0,-12.0,-3.0,961.0,452.0,426.0,26.0,-26.0,82.0,-82.0,1414.0,-163.0,48.0,-16.0,-32.0,34.0,-34.0,698.0,470.0,87.0,-55.0,-31.0,74.0,-3.0,27.0,-98.0,76.0,-15.0,-61.0,50.0,-8.0,-42.0,100.0,-14.0,-43.0,-11.0,37.0,-6.0,-62.0,94.0,-74.0,14.0,46.0,-5.0,24.0,-24.0,1117.0,231.0,-222.0,115.0,-123.0,45.0,113.0,4.0,-162.0,88.0,-88.0,43.0,160.0,-44.0,-158.0,116.0,-4.0,-112.0,114.0,87.0,-201.0,72.0,123.0,-194.0,507.0,501.0,79.0,-79.0,76.0,-76.0,52.0,-52.0,457.0,20.0,-25.0,-18.0,-26.0,116.0,11.0,-5.0,-1.0,-36.0,-84.0,27.0,13.0,1.0,39.0,21.0,3.0,-14.0,3.0,-92.0,69.0,25.0,-21.0,13.0,85.0,-170.0,95.0,-29.0,8.0,4.0,689.0,-100.0,79.0,-29.0,7.0,-55.0,49.0,71.0,-72.0,16.0,-58.0,-5.0,114.0,-23.0,-59.0,66.0,29.0,-95.0,7.0,81.0,-14.0,-103.0,95.0,-30.0,-14.0,-28.0,106.0,-53.0,-76.0,131.0,681.0,32.0,36.0,-43.0,-36.0,125.0,-64.0,-12.0,-29.0,-26.0,-41.0,140.0,-16.0,-77.0,53.0,-54.0,85.0,-82.0,-29.0,99.0,-137.0,226.0,-96.0,584.0,76.0,-70.0,43.0,-34.0,-13.0,79.0,-79.0,4.0,8.0,125.0,-136.0,57.0,-57.0,5.0,59.0,-64.0,65.0,2.0,596.0,376.0,7.0,-7.0,833.0,4.0,39.0,-43.0,47.0,-25.0,28.0,-19.0,43.0,-36.0,7.0,40.0,17.0,-48.0,32.0,-48.0,77.0,-67.0,44.0,-33.0,17.0,-38.0,33.0,-3.0,41.0,-38.0,21.0,665.0,1329.0,-48.0,19.0,-79.0,78.0,26.0,-104.0,40.0,-40.0,45.0,50.0,-21.0,-74.0,45.0,13.0,-27.0,-31.0,29.0,-29.0,57.0,-5.0,573.0,530.0,17.0,125.0,-26.0,-32.0,-95.0,-39.0,157.0,-32.0,-11.0,9.0,48.0,-82.0,-56.0,79.0,72.0,-6.0,-36.0,13.0,-71.0,-16.0,24.0,44.0,-97.0,87.0,-24.0,9.0,-82.0,74.0,14.0,-19.0,24.0,345.0,81.0,1392.0,509.0],\"colorbar\":{\"title\":{\"text\":\"Missing Minutes\"}},\"colorscale\":[[0.0,\"rgb(12,51,131)\"],[0.25,\"rgb(10,136,186)\"],[0.5,\"rgb(242,211,56)\"],[0.75,\"rgb(242,143,56)\"],[1.0,\"rgb(217,30,30)\"]]},\"mode\":\"markers\",\"name\":\"\",\"x\":[33.0,-33.0,155.0,443.0,359.0,-359.0,678.0,224.0,-224.0,111.0,77.0,-188.0,729.0,-124.0,51.0,-51.0,125.0,-125.0,474.0,444.0,-4.0,-26.0,22.0,-8.0,-5.0,-171.0,196.0,-26.0,-20.0,24.0,21.0,-4.0,-19.0,-172.0,134.0,23.0,-62.0,86.0,6.0,-13.0,-174.0,155.0,5.0,1.0,-2.0,25.0,4.0,-60.0,41.0,-12.0,282.0,482.0,115.0,-13.0,-9.0,-93.0,66.0,73.0,-28.0,-111.0,106.0,-62.0,-44.0,36.0,37.0,13.0,-9.0,-12.0,-3.0,961.0,452.0,426.0,26.0,-26.0,82.0,-82.0,1414.0,-163.0,48.0,-16.0,-32.0,34.0,-34.0,698.0,470.0,87.0,-55.0,-31.0,74.0,-3.0,27.0,-98.0,76.0,-15.0,-61.0,50.0,-8.0,-42.0,100.0,-14.0,-43.0,-11.0,37.0,-6.0,-62.0,94.0,-74.0,14.0,46.0,-5.0,24.0,-24.0,1117.0,231.0,-222.0,115.0,-123.0,45.0,113.0,4.0,-162.0,88.0,-88.0,43.0,160.0,-44.0,-158.0,116.0,-4.0,-112.0,114.0,87.0,-201.0,72.0,123.0,-194.0,507.0,501.0,79.0,-79.0,76.0,-76.0,52.0,-52.0,457.0,20.0,-25.0,-18.0,-26.0,116.0,11.0,-5.0,-1.0,-36.0,-84.0,27.0,13.0,1.0,39.0,21.0,3.0,-14.0,3.0,-92.0,69.0,25.0,-21.0,13.0,85.0,-170.0,95.0,-29.0,8.0,4.0,689.0,-100.0,79.0,-29.0,7.0,-55.0,49.0,71.0,-72.0,16.0,-58.0,-5.0,114.0,-23.0,-59.0,66.0,29.0,-95.0,7.0,81.0,-14.0,-103.0,95.0,-30.0,-14.0,-28.0,106.0,-53.0,-76.0,131.0,681.0,32.0,36.0,-43.0,-36.0,125.0,-64.0,-12.0,-29.0,-26.0,-41.0,140.0,-16.0,-77.0,53.0,-54.0,85.0,-82.0,-29.0,99.0,-137.0,226.0,-96.0,584.0,76.0,-70.0,43.0,-34.0,-13.0,79.0,-79.0,4.0,8.0,125.0,-136.0,57.0,-57.0,5.0,59.0,-64.0,65.0,2.0,596.0,376.0,7.0,-7.0,833.0,4.0,39.0,-43.0,47.0,-25.0,28.0,-19.0,43.0,-36.0,7.0,40.0,17.0,-48.0,32.0,-48.0,77.0,-67.0,44.0,-33.0,17.0,-38.0,33.0,-3.0,41.0,-38.0,21.0,665.0,1329.0,-48.0,19.0,-79.0,78.0,26.0,-104.0,40.0,-40.0,45.0,50.0,-21.0,-74.0,45.0,13.0,-27.0,-31.0,29.0,-29.0,57.0,-5.0,573.0,530.0,17.0,125.0,-26.0,-32.0,-95.0,-39.0,157.0,-32.0,-11.0,9.0,48.0,-82.0,-56.0,79.0,72.0,-6.0,-36.0,13.0,-71.0,-16.0,24.0,44.0,-97.0,87.0,-24.0,9.0,-82.0,74.0,14.0,-19.0,24.0,345.0,81.0,1392.0,509.0],\"y\":[\"2016-04-12T00:00:00\",\"2016-04-13T00:00:00\",\"2016-04-14T00:00:00\",\"2016-04-15T00:00:00\",\"2016-04-16T00:00:00\",\"2016-04-17T00:00:00\",\"2016-04-18T00:00:00\",\"2016-04-19T00:00:00\",\"2016-04-20T00:00:00\",\"2016-04-21T00:00:00\",\"2016-04-22T00:00:00\",\"2016-04-23T00:00:00\",\"2016-04-24T00:00:00\",\"2016-04-25T00:00:00\",\"2016-04-26T00:00:00\",\"2016-04-27T00:00:00\",\"2016-04-28T00:00:00\",\"2016-04-29T00:00:00\",\"2016-04-30T00:00:00\",\"2016-05-01T00:00:00\",\"2016-05-02T00:00:00\",\"2016-05-03T00:00:00\",\"2016-05-04T00:00:00\",\"2016-05-05T00:00:00\",\"2016-05-06T00:00:00\",\"2016-05-07T00:00:00\",\"2016-05-08T00:00:00\",\"2016-05-09T00:00:00\",\"2016-05-10T00:00:00\",\"2016-05-11T00:00:00\",\"2016-05-12T00:00:00\",\"2016-04-12T00:00:00\",\"2016-04-13T00:00:00\",\"2016-04-14T00:00:00\",\"2016-04-15T00:00:00\",\"2016-04-16T00:00:00\",\"2016-04-17T00:00:00\",\"2016-04-18T00:00:00\",\"2016-04-19T00:00:00\",\"2016-04-20T00:00:00\",\"2016-04-21T00:00:00\",\"2016-04-22T00:00:00\",\"2016-04-23T00:00:00\",\"2016-04-24T00:00:00\",\"2016-04-25T00:00:00\",\"2016-04-26T00:00:00\",\"2016-04-27T00:00:00\",\"2016-04-28T00:00:00\",\"2016-04-29T00:00:00\",\"2016-04-30T00:00:00\",\"2016-05-01T00:00:00\",\"2016-05-02T00:00:00\",\"2016-05-03T00:00:00\",\"2016-05-04T00:00:00\",\"2016-05-05T00:00:00\",\"2016-05-06T00:00:00\",\"2016-05-07T00:00:00\",\"2016-05-08T00:00:00\",\"2016-05-09T00:00:00\",\"2016-05-10T00:00:00\",\"2016-05-11T00:00:00\",\"2016-05-12T00:00:00\",\"2016-04-12T00:00:00\",\"2016-04-13T00:00:00\",\"2016-04-14T00:00:00\",\"2016-04-15T00:00:00\",\"2016-04-16T00:00:00\",\"2016-04-17T00:00:00\",\"2016-04-18T00:00:00\",\"2016-04-19T00:00:00\",\"2016-04-20T00:00:00\",\"2016-04-21T00:00:00\",\"2016-04-22T00:00:00\",\"2016-04-23T00:00:00\",\"2016-04-24T00:00:00\",\"2016-04-25T00:00:00\",\"2016-04-26T00:00:00\",\"2016-04-27T00:00:00\",\"2016-04-28T00:00:00\",\"2016-04-29T00:00:00\",\"2016-04-30T00:00:00\",\"2016-05-01T00:00:00\",\"2016-05-02T00:00:00\",\"2016-05-03T00:00:00\",\"2016-05-04T00:00:00\",\"2016-05-05T00:00:00\",\"2016-05-06T00:00:00\",\"2016-05-07T00:00:00\",\"2016-05-08T00:00:00\",\"2016-05-09T00:00:00\",\"2016-05-10T00:00:00\",\"2016-05-11T00:00:00\",\"2016-04-12T00:00:00\",\"2016-04-13T00:00:00\",\"2016-04-14T00:00:00\",\"2016-04-15T00:00:00\",\"2016-04-16T00:00:00\",\"2016-04-17T00:00:00\",\"2016-04-18T00:00:00\",\"2016-04-19T00:00:00\",\"2016-04-20T00:00:00\",\"2016-04-21T00:00:00\",\"2016-04-22T00:00:00\",\"2016-04-23T00:00:00\",\"2016-04-24T00:00:00\",\"2016-04-25T00:00:00\",\"2016-04-26T00:00:00\",\"2016-04-27T00:00:00\",\"2016-04-28T00:00:00\",\"2016-04-29T00:00:00\",\"2016-04-30T00:00:00\",\"2016-05-01T00:00:00\",\"2016-05-02T00:00:00\",\"2016-05-03T00:00:00\",\"2016-05-04T00:00:00\",\"2016-05-05T00:00:00\",\"2016-05-06T00:00:00\",\"2016-05-07T00:00:00\",\"2016-05-08T00:00:00\",\"2016-05-09T00:00:00\",\"2016-05-10T00:00:00\",\"2016-05-11T00:00:00\",\"2016-05-12T00:00:00\",\"2016-04-12T00:00:00\",\"2016-04-13T00:00:00\",\"2016-04-14T00:00:00\",\"2016-04-15T00:00:00\",\"2016-04-16T00:00:00\",\"2016-04-17T00:00:00\",\"2016-04-18T00:00:00\",\"2016-04-19T00:00:00\",\"2016-04-20T00:00:00\",\"2016-04-21T00:00:00\",\"2016-04-22T00:00:00\",\"2016-04-23T00:00:00\",\"2016-04-24T00:00:00\",\"2016-04-25T00:00:00\",\"2016-04-26T00:00:00\",\"2016-04-27T00:00:00\",\"2016-04-28T00:00:00\",\"2016-04-29T00:00:00\",\"2016-04-30T00:00:00\",\"2016-05-01T00:00:00\",\"2016-05-02T00:00:00\",\"2016-05-03T00:00:00\",\"2016-05-04T00:00:00\",\"2016-05-05T00:00:00\",\"2016-05-06T00:00:00\",\"2016-05-07T00:00:00\",\"2016-05-08T00:00:00\",\"2016-05-09T00:00:00\",\"2016-05-10T00:00:00\",\"2016-05-11T00:00:00\",\"2016-05-12T00:00:00\",\"2016-04-12T00:00:00\",\"2016-04-13T00:00:00\",\"2016-04-14T00:00:00\",\"2016-04-15T00:00:00\",\"2016-04-16T00:00:00\",\"2016-04-17T00:00:00\",\"2016-04-18T00:00:00\",\"2016-04-19T00:00:00\",\"2016-04-20T00:00:00\",\"2016-04-21T00:00:00\",\"2016-04-22T00:00:00\",\"2016-04-23T00:00:00\",\"2016-04-24T00:00:00\",\"2016-04-25T00:00:00\",\"2016-04-26T00:00:00\",\"2016-04-27T00:00:00\",\"2016-04-28T00:00:00\",\"2016-04-29T00:00:00\",\"2016-04-30T00:00:00\",\"2016-05-01T00:00:00\",\"2016-05-02T00:00:00\",\"2016-05-03T00:00:00\",\"2016-05-04T00:00:00\",\"2016-05-05T00:00:00\",\"2016-05-06T00:00:00\",\"2016-05-07T00:00:00\",\"2016-05-08T00:00:00\",\"2016-05-09T00:00:00\",\"2016-05-10T00:00:00\",\"2016-05-11T00:00:00\",\"2016-05-12T00:00:00\",\"2016-04-12T00:00:00\",\"2016-04-13T00:00:00\",\"2016-04-14T00:00:00\",\"2016-04-15T00:00:00\",\"2016-04-16T00:00:00\",\"2016-04-17T00:00:00\",\"2016-04-18T00:00:00\",\"2016-04-19T00:00:00\",\"2016-04-20T00:00:00\",\"2016-04-21T00:00:00\",\"2016-04-22T00:00:00\",\"2016-04-23T00:00:00\",\"2016-04-24T00:00:00\",\"2016-04-25T00:00:00\",\"2016-04-26T00:00:00\",\"2016-04-27T00:00:00\",\"2016-04-28T00:00:00\",\"2016-04-29T00:00:00\",\"2016-04-30T00:00:00\",\"2016-05-01T00:00:00\",\"2016-05-02T00:00:00\",\"2016-05-03T00:00:00\",\"2016-05-04T00:00:00\",\"2016-05-05T00:00:00\",\"2016-05-06T00:00:00\",\"2016-05-07T00:00:00\",\"2016-05-08T00:00:00\",\"2016-05-09T00:00:00\",\"2016-05-10T00:00:00\",\"2016-05-11T00:00:00\",\"2016-05-12T00:00:00\",\"2016-04-12T00:00:00\",\"2016-04-13T00:00:00\",\"2016-04-14T00:00:00\",\"2016-04-15T00:00:00\",\"2016-04-16T00:00:00\",\"2016-04-17T00:00:00\",\"2016-04-18T00:00:00\",\"2016-04-19T00:00:00\",\"2016-04-20T00:00:00\",\"2016-04-21T00:00:00\",\"2016-04-22T00:00:00\",\"2016-04-23T00:00:00\",\"2016-04-24T00:00:00\",\"2016-04-25T00:00:00\",\"2016-04-26T00:00:00\",\"2016-04-27T00:00:00\",\"2016-04-28T00:00:00\",\"2016-04-29T00:00:00\",\"2016-04-30T00:00:00\",\"2016-05-01T00:00:00\",\"2016-05-02T00:00:00\",\"2016-05-03T00:00:00\",\"2016-05-04T00:00:00\",\"2016-05-05T00:00:00\",\"2016-05-06T00:00:00\",\"2016-05-07T00:00:00\",\"2016-05-08T00:00:00\",\"2016-05-09T00:00:00\",\"2016-05-10T00:00:00\",\"2016-05-11T00:00:00\",\"2016-05-12T00:00:00\",\"2016-04-12T00:00:00\",\"2016-04-13T00:00:00\",\"2016-04-14T00:00:00\",\"2016-04-15T00:00:00\",\"2016-04-16T00:00:00\",\"2016-04-17T00:00:00\",\"2016-04-18T00:00:00\",\"2016-04-19T00:00:00\",\"2016-04-20T00:00:00\",\"2016-04-21T00:00:00\",\"2016-04-22T00:00:00\",\"2016-04-23T00:00:00\",\"2016-04-24T00:00:00\",\"2016-04-25T00:00:00\",\"2016-04-26T00:00:00\",\"2016-04-27T00:00:00\",\"2016-04-28T00:00:00\",\"2016-04-29T00:00:00\",\"2016-04-12T00:00:00\",\"2016-04-13T00:00:00\",\"2016-04-14T00:00:00\",\"2016-04-15T00:00:00\",\"2016-04-16T00:00:00\",\"2016-04-17T00:00:00\",\"2016-04-18T00:00:00\",\"2016-04-19T00:00:00\",\"2016-04-20T00:00:00\",\"2016-04-21T00:00:00\",\"2016-04-22T00:00:00\",\"2016-04-23T00:00:00\",\"2016-04-24T00:00:00\",\"2016-04-25T00:00:00\",\"2016-04-26T00:00:00\",\"2016-04-27T00:00:00\",\"2016-04-28T00:00:00\",\"2016-04-29T00:00:00\",\"2016-04-30T00:00:00\",\"2016-05-01T00:00:00\",\"2016-05-02T00:00:00\",\"2016-05-03T00:00:00\",\"2016-05-04T00:00:00\",\"2016-05-05T00:00:00\",\"2016-05-06T00:00:00\",\"2016-05-07T00:00:00\",\"2016-05-08T00:00:00\",\"2016-05-09T00:00:00\",\"2016-05-10T00:00:00\",\"2016-05-11T00:00:00\",\"2016-05-12T00:00:00\",\"2016-04-12T00:00:00\",\"2016-04-13T00:00:00\",\"2016-04-14T00:00:00\",\"2016-04-15T00:00:00\",\"2016-04-16T00:00:00\",\"2016-04-17T00:00:00\",\"2016-04-18T00:00:00\",\"2016-04-19T00:00:00\",\"2016-04-20T00:00:00\",\"2016-04-21T00:00:00\",\"2016-04-22T00:00:00\",\"2016-04-23T00:00:00\",\"2016-04-24T00:00:00\",\"2016-04-25T00:00:00\",\"2016-04-26T00:00:00\",\"2016-04-27T00:00:00\",\"2016-04-28T00:00:00\",\"2016-04-29T00:00:00\",\"2016-04-30T00:00:00\",\"2016-05-01T00:00:00\",\"2016-04-12T00:00:00\",\"2016-04-13T00:00:00\",\"2016-04-14T00:00:00\",\"2016-04-15T00:00:00\",\"2016-04-16T00:00:00\",\"2016-04-17T00:00:00\",\"2016-04-18T00:00:00\",\"2016-04-19T00:00:00\",\"2016-04-20T00:00:00\",\"2016-04-21T00:00:00\",\"2016-04-22T00:00:00\",\"2016-04-23T00:00:00\",\"2016-04-24T00:00:00\",\"2016-04-25T00:00:00\",\"2016-04-26T00:00:00\",\"2016-04-27T00:00:00\",\"2016-04-28T00:00:00\",\"2016-04-29T00:00:00\",\"2016-04-30T00:00:00\",\"2016-05-01T00:00:00\",\"2016-05-02T00:00:00\",\"2016-05-03T00:00:00\",\"2016-05-04T00:00:00\",\"2016-05-05T00:00:00\",\"2016-05-06T00:00:00\",\"2016-05-07T00:00:00\",\"2016-05-08T00:00:00\",\"2016-05-09T00:00:00\",\"2016-05-10T00:00:00\",\"2016-05-11T00:00:00\",\"2016-04-12T00:00:00\",\"2016-04-13T00:00:00\",\"2016-04-14T00:00:00\",\"2016-04-15T00:00:00\",\"2016-04-16T00:00:00\",\"2016-04-17T00:00:00\",\"2016-04-18T00:00:00\",\"2016-04-19T00:00:00\",\"2016-04-20T00:00:00\",\"2016-04-21T00:00:00\",\"2016-04-22T00:00:00\",\"2016-04-23T00:00:00\",\"2016-04-24T00:00:00\",\"2016-04-25T00:00:00\",\"2016-04-26T00:00:00\",\"2016-04-27T00:00:00\",\"2016-04-28T00:00:00\",\"2016-04-29T00:00:00\",\"2016-04-30T00:00:00\",\"2016-05-01T00:00:00\",\"2016-05-02T00:00:00\",\"2016-05-03T00:00:00\",\"2016-05-04T00:00:00\",\"2016-05-05T00:00:00\",\"2016-05-06T00:00:00\",\"2016-05-07T00:00:00\",\"2016-05-08T00:00:00\",\"2016-05-09T00:00:00\",\"2016-05-10T00:00:00\",\"2016-05-11T00:00:00\",\"2016-05-12T00:00:00\",\"2016-04-12T00:00:00\",\"2016-04-13T00:00:00\",\"2016-04-14T00:00:00\",\"2016-04-15T00:00:00\",\"2016-04-12T00:00:00\",\"2016-04-13T00:00:00\",\"2016-04-14T00:00:00\",\"2016-04-15T00:00:00\",\"2016-04-16T00:00:00\",\"2016-04-17T00:00:00\",\"2016-04-18T00:00:00\",\"2016-04-19T00:00:00\",\"2016-04-20T00:00:00\",\"2016-04-21T00:00:00\",\"2016-04-22T00:00:00\",\"2016-04-23T00:00:00\",\"2016-04-24T00:00:00\",\"2016-04-25T00:00:00\",\"2016-04-26T00:00:00\",\"2016-04-27T00:00:00\",\"2016-04-28T00:00:00\",\"2016-04-29T00:00:00\",\"2016-04-30T00:00:00\",\"2016-05-01T00:00:00\",\"2016-05-02T00:00:00\",\"2016-05-03T00:00:00\",\"2016-05-04T00:00:00\",\"2016-05-05T00:00:00\",\"2016-05-06T00:00:00\",\"2016-05-07T00:00:00\",\"2016-05-08T00:00:00\",\"2016-05-09T00:00:00\",\"2016-05-10T00:00:00\",\"2016-05-11T00:00:00\",\"2016-05-12T00:00:00\",\"2016-04-12T00:00:00\",\"2016-04-13T00:00:00\",\"2016-04-14T00:00:00\",\"2016-04-15T00:00:00\",\"2016-04-16T00:00:00\",\"2016-04-17T00:00:00\",\"2016-04-18T00:00:00\",\"2016-04-19T00:00:00\",\"2016-04-20T00:00:00\",\"2016-04-21T00:00:00\",\"2016-04-22T00:00:00\",\"2016-04-23T00:00:00\",\"2016-04-24T00:00:00\",\"2016-04-25T00:00:00\",\"2016-04-26T00:00:00\",\"2016-04-27T00:00:00\",\"2016-04-28T00:00:00\",\"2016-04-29T00:00:00\",\"2016-04-30T00:00:00\",\"2016-05-01T00:00:00\",\"2016-05-02T00:00:00\",\"2016-05-03T00:00:00\",\"2016-05-04T00:00:00\",\"2016-05-05T00:00:00\",\"2016-05-06T00:00:00\",\"2016-05-07T00:00:00\",\"2016-05-08T00:00:00\",\"2016-05-09T00:00:00\",\"2016-05-10T00:00:00\",\"2016-05-11T00:00:00\",\"2016-05-12T00:00:00\",\"2016-04-12T00:00:00\",\"2016-04-13T00:00:00\",\"2016-04-14T00:00:00\",\"2016-04-15T00:00:00\",\"2016-04-16T00:00:00\",\"2016-04-17T00:00:00\",\"2016-04-18T00:00:00\",\"2016-04-19T00:00:00\",\"2016-04-20T00:00:00\",\"2016-04-21T00:00:00\",\"2016-04-22T00:00:00\",\"2016-04-23T00:00:00\",\"2016-04-24T00:00:00\",\"2016-04-25T00:00:00\",\"2016-04-26T00:00:00\",\"2016-04-27T00:00:00\",\"2016-04-28T00:00:00\",\"2016-04-29T00:00:00\",\"2016-04-30T00:00:00\",\"2016-05-01T00:00:00\",\"2016-05-02T00:00:00\",\"2016-05-03T00:00:00\",\"2016-05-04T00:00:00\",\"2016-05-05T00:00:00\",\"2016-05-06T00:00:00\",\"2016-05-07T00:00:00\",\"2016-05-08T00:00:00\",\"2016-05-09T00:00:00\",\"2016-05-10T00:00:00\",\"2016-05-11T00:00:00\",\"2016-05-12T00:00:00\",\"2016-04-12T00:00:00\",\"2016-04-13T00:00:00\",\"2016-04-14T00:00:00\",\"2016-04-15T00:00:00\",\"2016-04-16T00:00:00\",\"2016-04-17T00:00:00\",\"2016-04-18T00:00:00\",\"2016-04-19T00:00:00\",\"2016-04-20T00:00:00\",\"2016-04-21T00:00:00\",\"2016-04-22T00:00:00\",\"2016-04-23T00:00:00\",\"2016-04-24T00:00:00\",\"2016-04-25T00:00:00\",\"2016-04-26T00:00:00\",\"2016-04-27T00:00:00\",\"2016-04-28T00:00:00\",\"2016-04-29T00:00:00\",\"2016-04-30T00:00:00\",\"2016-05-01T00:00:00\",\"2016-05-02T00:00:00\",\"2016-05-03T00:00:00\",\"2016-05-04T00:00:00\",\"2016-05-05T00:00:00\",\"2016-05-06T00:00:00\",\"2016-05-07T00:00:00\",\"2016-05-08T00:00:00\",\"2016-05-09T00:00:00\",\"2016-05-10T00:00:00\",\"2016-05-11T00:00:00\",\"2016-05-12T00:00:00\",\"2016-04-12T00:00:00\",\"2016-04-13T00:00:00\",\"2016-04-14T00:00:00\",\"2016-04-15T00:00:00\",\"2016-04-16T00:00:00\",\"2016-04-17T00:00:00\",\"2016-04-18T00:00:00\",\"2016-04-19T00:00:00\",\"2016-04-20T00:00:00\",\"2016-04-21T00:00:00\",\"2016-04-22T00:00:00\",\"2016-04-23T00:00:00\",\"2016-04-24T00:00:00\",\"2016-04-25T00:00:00\",\"2016-04-26T00:00:00\",\"2016-04-27T00:00:00\",\"2016-04-28T00:00:00\",\"2016-04-29T00:00:00\",\"2016-04-30T00:00:00\",\"2016-05-01T00:00:00\",\"2016-05-02T00:00:00\",\"2016-05-03T00:00:00\",\"2016-05-04T00:00:00\",\"2016-05-05T00:00:00\",\"2016-05-06T00:00:00\",\"2016-05-07T00:00:00\",\"2016-05-08T00:00:00\",\"2016-05-09T00:00:00\",\"2016-05-10T00:00:00\",\"2016-05-11T00:00:00\",\"2016-05-12T00:00:00\",\"2016-04-12T00:00:00\",\"2016-04-13T00:00:00\",\"2016-04-14T00:00:00\",\"2016-04-15T00:00:00\",\"2016-04-16T00:00:00\",\"2016-04-17T00:00:00\",\"2016-04-18T00:00:00\",\"2016-04-19T00:00:00\",\"2016-04-20T00:00:00\",\"2016-04-21T00:00:00\",\"2016-04-22T00:00:00\",\"2016-04-23T00:00:00\",\"2016-04-24T00:00:00\",\"2016-04-25T00:00:00\",\"2016-04-26T00:00:00\",\"2016-04-27T00:00:00\",\"2016-04-28T00:00:00\",\"2016-04-29T00:00:00\",\"2016-04-30T00:00:00\",\"2016-05-01T00:00:00\",\"2016-05-02T00:00:00\",\"2016-05-03T00:00:00\",\"2016-05-04T00:00:00\",\"2016-05-05T00:00:00\",\"2016-05-06T00:00:00\",\"2016-05-07T00:00:00\",\"2016-05-08T00:00:00\",\"2016-05-09T00:00:00\",\"2016-05-10T00:00:00\",\"2016-05-11T00:00:00\",\"2016-05-12T00:00:00\",\"2016-04-12T00:00:00\",\"2016-04-13T00:00:00\",\"2016-04-14T00:00:00\",\"2016-04-15T00:00:00\",\"2016-04-16T00:00:00\",\"2016-04-17T00:00:00\",\"2016-04-18T00:00:00\",\"2016-04-19T00:00:00\",\"2016-04-20T00:00:00\",\"2016-04-21T00:00:00\",\"2016-04-22T00:00:00\",\"2016-04-23T00:00:00\",\"2016-04-24T00:00:00\",\"2016-04-25T00:00:00\",\"2016-04-26T00:00:00\",\"2016-04-27T00:00:00\",\"2016-04-28T00:00:00\",\"2016-04-29T00:00:00\",\"2016-04-30T00:00:00\",\"2016-05-01T00:00:00\",\"2016-05-02T00:00:00\",\"2016-05-03T00:00:00\",\"2016-05-04T00:00:00\",\"2016-05-05T00:00:00\",\"2016-05-06T00:00:00\",\"2016-05-07T00:00:00\",\"2016-05-08T00:00:00\",\"2016-05-09T00:00:00\",\"2016-05-10T00:00:00\",\"2016-05-11T00:00:00\",\"2016-04-12T00:00:00\",\"2016-04-13T00:00:00\",\"2016-04-14T00:00:00\",\"2016-04-15T00:00:00\",\"2016-04-16T00:00:00\",\"2016-04-17T00:00:00\",\"2016-04-18T00:00:00\",\"2016-04-19T00:00:00\",\"2016-04-20T00:00:00\",\"2016-04-21T00:00:00\",\"2016-04-22T00:00:00\",\"2016-04-23T00:00:00\",\"2016-04-24T00:00:00\",\"2016-04-25T00:00:00\",\"2016-04-26T00:00:00\",\"2016-04-27T00:00:00\",\"2016-04-28T00:00:00\",\"2016-04-29T00:00:00\",\"2016-04-30T00:00:00\",\"2016-05-01T00:00:00\",\"2016-05-02T00:00:00\",\"2016-05-03T00:00:00\",\"2016-05-04T00:00:00\",\"2016-05-05T00:00:00\",\"2016-05-06T00:00:00\",\"2016-05-07T00:00:00\",\"2016-05-08T00:00:00\",\"2016-05-09T00:00:00\",\"2016-04-12T00:00:00\",\"2016-04-13T00:00:00\",\"2016-04-14T00:00:00\",\"2016-04-15T00:00:00\",\"2016-04-16T00:00:00\",\"2016-04-17T00:00:00\",\"2016-04-18T00:00:00\",\"2016-04-19T00:00:00\",\"2016-04-20T00:00:00\",\"2016-04-21T00:00:00\",\"2016-04-22T00:00:00\",\"2016-04-23T00:00:00\",\"2016-04-24T00:00:00\",\"2016-04-25T00:00:00\",\"2016-04-26T00:00:00\",\"2016-04-27T00:00:00\",\"2016-04-28T00:00:00\",\"2016-04-29T00:00:00\",\"2016-04-30T00:00:00\",\"2016-05-01T00:00:00\",\"2016-05-02T00:00:00\",\"2016-05-03T00:00:00\",\"2016-05-04T00:00:00\",\"2016-05-05T00:00:00\",\"2016-05-06T00:00:00\",\"2016-05-07T00:00:00\",\"2016-05-08T00:00:00\",\"2016-05-09T00:00:00\",\"2016-05-10T00:00:00\",\"2016-04-12T00:00:00\",\"2016-04-13T00:00:00\",\"2016-04-14T00:00:00\",\"2016-04-15T00:00:00\",\"2016-04-16T00:00:00\",\"2016-04-17T00:00:00\",\"2016-04-18T00:00:00\",\"2016-04-19T00:00:00\",\"2016-04-20T00:00:00\",\"2016-04-21T00:00:00\",\"2016-04-22T00:00:00\",\"2016-04-23T00:00:00\",\"2016-04-24T00:00:00\",\"2016-04-25T00:00:00\",\"2016-04-26T00:00:00\",\"2016-04-27T00:00:00\",\"2016-04-28T00:00:00\",\"2016-04-29T00:00:00\",\"2016-04-30T00:00:00\",\"2016-05-01T00:00:00\",\"2016-05-02T00:00:00\",\"2016-05-03T00:00:00\",\"2016-05-04T00:00:00\",\"2016-05-05T00:00:00\",\"2016-05-06T00:00:00\",\"2016-05-07T00:00:00\",\"2016-04-12T00:00:00\",\"2016-04-13T00:00:00\",\"2016-04-14T00:00:00\",\"2016-04-15T00:00:00\",\"2016-04-16T00:00:00\",\"2016-04-17T00:00:00\",\"2016-04-18T00:00:00\",\"2016-04-19T00:00:00\",\"2016-04-20T00:00:00\",\"2016-04-21T00:00:00\",\"2016-04-22T00:00:00\",\"2016-04-23T00:00:00\",\"2016-04-24T00:00:00\",\"2016-04-25T00:00:00\",\"2016-04-26T00:00:00\",\"2016-04-27T00:00:00\",\"2016-04-28T00:00:00\",\"2016-04-29T00:00:00\",\"2016-04-30T00:00:00\",\"2016-05-01T00:00:00\",\"2016-05-02T00:00:00\",\"2016-05-03T00:00:00\",\"2016-05-04T00:00:00\",\"2016-05-05T00:00:00\",\"2016-05-06T00:00:00\",\"2016-05-07T00:00:00\",\"2016-05-08T00:00:00\",\"2016-05-09T00:00:00\",\"2016-05-10T00:00:00\",\"2016-05-11T00:00:00\",\"2016-05-12T00:00:00\",\"2016-04-12T00:00:00\",\"2016-04-13T00:00:00\",\"2016-04-14T00:00:00\",\"2016-04-15T00:00:00\",\"2016-04-16T00:00:00\",\"2016-04-17T00:00:00\",\"2016-04-18T00:00:00\",\"2016-04-19T00:00:00\",\"2016-04-20T00:00:00\",\"2016-04-21T00:00:00\",\"2016-04-22T00:00:00\",\"2016-04-23T00:00:00\",\"2016-04-24T00:00:00\",\"2016-04-25T00:00:00\",\"2016-04-26T00:00:00\",\"2016-04-27T00:00:00\",\"2016-04-28T00:00:00\",\"2016-04-29T00:00:00\",\"2016-04-30T00:00:00\",\"2016-05-01T00:00:00\",\"2016-05-02T00:00:00\",\"2016-05-03T00:00:00\",\"2016-05-04T00:00:00\",\"2016-05-05T00:00:00\",\"2016-05-06T00:00:00\",\"2016-05-07T00:00:00\",\"2016-04-12T00:00:00\",\"2016-04-13T00:00:00\",\"2016-04-14T00:00:00\",\"2016-04-15T00:00:00\",\"2016-04-16T00:00:00\",\"2016-04-17T00:00:00\",\"2016-04-18T00:00:00\",\"2016-04-19T00:00:00\",\"2016-04-20T00:00:00\",\"2016-04-21T00:00:00\",\"2016-04-22T00:00:00\",\"2016-04-23T00:00:00\",\"2016-04-24T00:00:00\",\"2016-04-25T00:00:00\",\"2016-04-26T00:00:00\",\"2016-04-27T00:00:00\",\"2016-04-28T00:00:00\",\"2016-04-29T00:00:00\",\"2016-04-30T00:00:00\",\"2016-05-01T00:00:00\",\"2016-05-02T00:00:00\",\"2016-05-03T00:00:00\",\"2016-05-04T00:00:00\",\"2016-05-05T00:00:00\",\"2016-05-06T00:00:00\",\"2016-05-07T00:00:00\",\"2016-05-08T00:00:00\",\"2016-05-09T00:00:00\",\"2016-05-10T00:00:00\",\"2016-05-11T00:00:00\",\"2016-05-12T00:00:00\",\"2016-04-12T00:00:00\",\"2016-04-13T00:00:00\",\"2016-04-14T00:00:00\",\"2016-04-15T00:00:00\",\"2016-04-16T00:00:00\",\"2016-04-17T00:00:00\",\"2016-04-18T00:00:00\",\"2016-04-19T00:00:00\",\"2016-04-20T00:00:00\",\"2016-04-21T00:00:00\",\"2016-04-22T00:00:00\",\"2016-04-23T00:00:00\",\"2016-04-24T00:00:00\",\"2016-04-25T00:00:00\",\"2016-04-26T00:00:00\",\"2016-04-27T00:00:00\",\"2016-04-28T00:00:00\",\"2016-04-29T00:00:00\",\"2016-04-30T00:00:00\",\"2016-05-01T00:00:00\",\"2016-05-02T00:00:00\",\"2016-05-03T00:00:00\",\"2016-05-04T00:00:00\",\"2016-05-05T00:00:00\",\"2016-05-06T00:00:00\",\"2016-05-07T00:00:00\",\"2016-05-08T00:00:00\",\"2016-05-09T00:00:00\",\"2016-05-10T00:00:00\",\"2016-05-11T00:00:00\",\"2016-05-12T00:00:00\",\"2016-04-12T00:00:00\",\"2016-04-13T00:00:00\",\"2016-04-14T00:00:00\",\"2016-04-15T00:00:00\",\"2016-04-16T00:00:00\",\"2016-04-17T00:00:00\",\"2016-04-18T00:00:00\",\"2016-04-19T00:00:00\",\"2016-04-20T00:00:00\",\"2016-04-21T00:00:00\",\"2016-04-22T00:00:00\",\"2016-04-23T00:00:00\",\"2016-04-24T00:00:00\",\"2016-04-25T00:00:00\",\"2016-04-26T00:00:00\",\"2016-04-27T00:00:00\",\"2016-04-28T00:00:00\",\"2016-04-29T00:00:00\",\"2016-04-30T00:00:00\",\"2016-04-12T00:00:00\",\"2016-04-13T00:00:00\",\"2016-04-14T00:00:00\",\"2016-04-15T00:00:00\",\"2016-04-16T00:00:00\",\"2016-04-17T00:00:00\",\"2016-04-18T00:00:00\",\"2016-04-19T00:00:00\",\"2016-04-20T00:00:00\",\"2016-04-21T00:00:00\",\"2016-04-22T00:00:00\",\"2016-04-23T00:00:00\",\"2016-04-24T00:00:00\",\"2016-04-25T00:00:00\",\"2016-04-26T00:00:00\",\"2016-04-27T00:00:00\",\"2016-04-28T00:00:00\",\"2016-04-29T00:00:00\",\"2016-04-30T00:00:00\",\"2016-05-01T00:00:00\",\"2016-05-02T00:00:00\",\"2016-05-03T00:00:00\",\"2016-05-04T00:00:00\",\"2016-05-05T00:00:00\",\"2016-05-06T00:00:00\",\"2016-05-07T00:00:00\",\"2016-05-08T00:00:00\",\"2016-05-09T00:00:00\",\"2016-05-10T00:00:00\",\"2016-05-11T00:00:00\",\"2016-05-12T00:00:00\",\"2016-04-12T00:00:00\",\"2016-04-13T00:00:00\",\"2016-04-14T00:00:00\",\"2016-04-15T00:00:00\",\"2016-04-16T00:00:00\",\"2016-04-17T00:00:00\",\"2016-04-18T00:00:00\",\"2016-04-19T00:00:00\",\"2016-04-20T00:00:00\",\"2016-04-21T00:00:00\",\"2016-04-22T00:00:00\",\"2016-04-23T00:00:00\",\"2016-04-24T00:00:00\",\"2016-04-25T00:00:00\",\"2016-04-26T00:00:00\",\"2016-04-27T00:00:00\",\"2016-04-28T00:00:00\",\"2016-04-29T00:00:00\",\"2016-04-30T00:00:00\",\"2016-05-01T00:00:00\",\"2016-05-02T00:00:00\",\"2016-05-03T00:00:00\",\"2016-05-04T00:00:00\",\"2016-05-05T00:00:00\",\"2016-05-06T00:00:00\",\"2016-05-07T00:00:00\",\"2016-05-08T00:00:00\",\"2016-05-09T00:00:00\",\"2016-05-10T00:00:00\",\"2016-05-11T00:00:00\",\"2016-05-12T00:00:00\",\"2016-04-12T00:00:00\",\"2016-04-13T00:00:00\",\"2016-04-14T00:00:00\",\"2016-04-15T00:00:00\",\"2016-04-16T00:00:00\",\"2016-04-17T00:00:00\",\"2016-04-18T00:00:00\",\"2016-04-19T00:00:00\",\"2016-04-20T00:00:00\",\"2016-04-21T00:00:00\",\"2016-04-22T00:00:00\",\"2016-04-23T00:00:00\",\"2016-04-24T00:00:00\",\"2016-04-25T00:00:00\",\"2016-04-26T00:00:00\",\"2016-04-27T00:00:00\",\"2016-04-28T00:00:00\",\"2016-04-29T00:00:00\",\"2016-04-30T00:00:00\",\"2016-05-01T00:00:00\",\"2016-05-02T00:00:00\",\"2016-05-03T00:00:00\",\"2016-05-04T00:00:00\",\"2016-05-05T00:00:00\",\"2016-05-06T00:00:00\",\"2016-05-07T00:00:00\",\"2016-05-08T00:00:00\",\"2016-05-09T00:00:00\",\"2016-05-10T00:00:00\",\"2016-04-12T00:00:00\",\"2016-04-13T00:00:00\",\"2016-04-14T00:00:00\",\"2016-04-15T00:00:00\",\"2016-04-16T00:00:00\",\"2016-04-17T00:00:00\",\"2016-04-18T00:00:00\",\"2016-04-19T00:00:00\",\"2016-04-20T00:00:00\",\"2016-04-21T00:00:00\",\"2016-04-22T00:00:00\",\"2016-04-23T00:00:00\",\"2016-04-24T00:00:00\",\"2016-04-25T00:00:00\",\"2016-04-26T00:00:00\",\"2016-04-27T00:00:00\",\"2016-04-28T00:00:00\",\"2016-04-29T00:00:00\",\"2016-04-30T00:00:00\",\"2016-05-01T00:00:00\",\"2016-05-02T00:00:00\",\"2016-05-03T00:00:00\",\"2016-05-04T00:00:00\",\"2016-05-05T00:00:00\",\"2016-05-06T00:00:00\",\"2016-05-07T00:00:00\",\"2016-05-08T00:00:00\",\"2016-05-09T00:00:00\",\"2016-05-10T00:00:00\",\"2016-05-11T00:00:00\",\"2016-05-12T00:00:00\"],\"type\":\"scatter\"}],                        {\"template\":{\"data\":{\"histogram2dcontour\":[{\"type\":\"histogram2dcontour\",\"colorbar\":{\"outlinewidth\":0,\"ticks\":\"\"},\"colorscale\":[[0.0,\"#0d0887\"],[0.1111111111111111,\"#46039f\"],[0.2222222222222222,\"#7201a8\"],[0.3333333333333333,\"#9c179e\"],[0.4444444444444444,\"#bd3786\"],[0.5555555555555556,\"#d8576b\"],[0.6666666666666666,\"#ed7953\"],[0.7777777777777778,\"#fb9f3a\"],[0.8888888888888888,\"#fdca26\"],[1.0,\"#f0f921\"]]}],\"choropleth\":[{\"type\":\"choropleth\",\"colorbar\":{\"outlinewidth\":0,\"ticks\":\"\"}}],\"histogram2d\":[{\"type\":\"histogram2d\",\"colorbar\":{\"outlinewidth\":0,\"ticks\":\"\"},\"colorscale\":[[0.0,\"#0d0887\"],[0.1111111111111111,\"#46039f\"],[0.2222222222222222,\"#7201a8\"],[0.3333333333333333,\"#9c179e\"],[0.4444444444444444,\"#bd3786\"],[0.5555555555555556,\"#d8576b\"],[0.6666666666666666,\"#ed7953\"],[0.7777777777777778,\"#fb9f3a\"],[0.8888888888888888,\"#fdca26\"],[1.0,\"#f0f921\"]]}],\"heatmap\":[{\"type\":\"heatmap\",\"colorbar\":{\"outlinewidth\":0,\"ticks\":\"\"},\"colorscale\":[[0.0,\"#0d0887\"],[0.1111111111111111,\"#46039f\"],[0.2222222222222222,\"#7201a8\"],[0.3333333333333333,\"#9c179e\"],[0.4444444444444444,\"#bd3786\"],[0.5555555555555556,\"#d8576b\"],[0.6666666666666666,\"#ed7953\"],[0.7777777777777778,\"#fb9f3a\"],[0.8888888888888888,\"#fdca26\"],[1.0,\"#f0f921\"]]}],\"heatmapgl\":[{\"type\":\"heatmapgl\",\"colorbar\":{\"outlinewidth\":0,\"ticks\":\"\"},\"colorscale\":[[0.0,\"#0d0887\"],[0.1111111111111111,\"#46039f\"],[0.2222222222222222,\"#7201a8\"],[0.3333333333333333,\"#9c179e\"],[0.4444444444444444,\"#bd3786\"],[0.5555555555555556,\"#d8576b\"],[0.6666666666666666,\"#ed7953\"],[0.7777777777777778,\"#fb9f3a\"],[0.8888888888888888,\"#fdca26\"],[1.0,\"#f0f921\"]]}],\"contourcarpet\":[{\"type\":\"contourcarpet\",\"colorbar\":{\"outlinewidth\":0,\"ticks\":\"\"}}],\"contour\":[{\"type\":\"contour\",\"colorbar\":{\"outlinewidth\":0,\"ticks\":\"\"},\"colorscale\":[[0.0,\"#0d0887\"],[0.1111111111111111,\"#46039f\"],[0.2222222222222222,\"#7201a8\"],[0.3333333333333333,\"#9c179e\"],[0.4444444444444444,\"#bd3786\"],[0.5555555555555556,\"#d8576b\"],[0.6666666666666666,\"#ed7953\"],[0.7777777777777778,\"#fb9f3a\"],[0.8888888888888888,\"#fdca26\"],[1.0,\"#f0f921\"]]}],\"surface\":[{\"type\":\"surface\",\"colorbar\":{\"outlinewidth\":0,\"ticks\":\"\"},\"colorscale\":[[0.0,\"#0d0887\"],[0.1111111111111111,\"#46039f\"],[0.2222222222222222,\"#7201a8\"],[0.3333333333333333,\"#9c179e\"],[0.4444444444444444,\"#bd3786\"],[0.5555555555555556,\"#d8576b\"],[0.6666666666666666,\"#ed7953\"],[0.7777777777777778,\"#fb9f3a\"],[0.8888888888888888,\"#fdca26\"],[1.0,\"#f0f921\"]]}],\"mesh3d\":[{\"type\":\"mesh3d\",\"colorbar\":{\"outlinewidth\":0,\"ticks\":\"\"}}],\"scatter\":[{\"fillpattern\":{\"fillmode\":\"overlay\",\"size\":10,\"solidity\":0.2},\"type\":\"scatter\"}],\"parcoords\":[{\"type\":\"parcoords\",\"line\":{\"colorbar\":{\"outlinewidth\":0,\"ticks\":\"\"}}}],\"scatterpolargl\":[{\"type\":\"scatterpolargl\",\"marker\":{\"colorbar\":{\"outlinewidth\":0,\"ticks\":\"\"}}}],\"bar\":[{\"error_x\":{\"color\":\"#2a3f5f\"},\"error_y\":{\"color\":\"#2a3f5f\"},\"marker\":{\"line\":{\"color\":\"#E5ECF6\",\"width\":0.5},\"pattern\":{\"fillmode\":\"overlay\",\"size\":10,\"solidity\":0.2}},\"type\":\"bar\"}],\"scattergeo\":[{\"type\":\"scattergeo\",\"marker\":{\"colorbar\":{\"outlinewidth\":0,\"ticks\":\"\"}}}],\"scatterpolar\":[{\"type\":\"scatterpolar\",\"marker\":{\"colorbar\":{\"outlinewidth\":0,\"ticks\":\"\"}}}],\"histogram\":[{\"marker\":{\"pattern\":{\"fillmode\":\"overlay\",\"size\":10,\"solidity\":0.2}},\"type\":\"histogram\"}],\"scattergl\":[{\"type\":\"scattergl\",\"marker\":{\"colorbar\":{\"outlinewidth\":0,\"ticks\":\"\"}}}],\"scatter3d\":[{\"type\":\"scatter3d\",\"line\":{\"colorbar\":{\"outlinewidth\":0,\"ticks\":\"\"}},\"marker\":{\"colorbar\":{\"outlinewidth\":0,\"ticks\":\"\"}}}],\"scattermapbox\":[{\"type\":\"scattermapbox\",\"marker\":{\"colorbar\":{\"outlinewidth\":0,\"ticks\":\"\"}}}],\"scatterternary\":[{\"type\":\"scatterternary\",\"marker\":{\"colorbar\":{\"outlinewidth\":0,\"ticks\":\"\"}}}],\"scattercarpet\":[{\"type\":\"scattercarpet\",\"marker\":{\"colorbar\":{\"outlinewidth\":0,\"ticks\":\"\"}}}],\"carpet\":[{\"aaxis\":{\"endlinecolor\":\"#2a3f5f\",\"gridcolor\":\"white\",\"linecolor\":\"white\",\"minorgridcolor\":\"white\",\"startlinecolor\":\"#2a3f5f\"},\"baxis\":{\"endlinecolor\":\"#2a3f5f\",\"gridcolor\":\"white\",\"linecolor\":\"white\",\"minorgridcolor\":\"white\",\"startlinecolor\":\"#2a3f5f\"},\"type\":\"carpet\"}],\"table\":[{\"cells\":{\"fill\":{\"color\":\"#EBF0F8\"},\"line\":{\"color\":\"white\"}},\"header\":{\"fill\":{\"color\":\"#C8D4E3\"},\"line\":{\"color\":\"white\"}},\"type\":\"table\"}],\"barpolar\":[{\"marker\":{\"line\":{\"color\":\"#E5ECF6\",\"width\":0.5},\"pattern\":{\"fillmode\":\"overlay\",\"size\":10,\"solidity\":0.2}},\"type\":\"barpolar\"}],\"pie\":[{\"automargin\":true,\"type\":\"pie\"}]},\"layout\":{\"autotypenumbers\":\"strict\",\"colorway\":[\"#636efa\",\"#EF553B\",\"#00cc96\",\"#ab63fa\",\"#FFA15A\",\"#19d3f3\",\"#FF6692\",\"#B6E880\",\"#FF97FF\",\"#FECB52\"],\"font\":{\"color\":\"#2a3f5f\"},\"hovermode\":\"closest\",\"hoverlabel\":{\"align\":\"left\"},\"paper_bgcolor\":\"white\",\"plot_bgcolor\":\"#E5ECF6\",\"polar\":{\"bgcolor\":\"#E5ECF6\",\"angularaxis\":{\"gridcolor\":\"white\",\"linecolor\":\"white\",\"ticks\":\"\"},\"radialaxis\":{\"gridcolor\":\"white\",\"linecolor\":\"white\",\"ticks\":\"\"}},\"ternary\":{\"bgcolor\":\"#E5ECF6\",\"aaxis\":{\"gridcolor\":\"white\",\"linecolor\":\"white\",\"ticks\":\"\"},\"baxis\":{\"gridcolor\":\"white\",\"linecolor\":\"white\",\"ticks\":\"\"},\"caxis\":{\"gridcolor\":\"white\",\"linecolor\":\"white\",\"ticks\":\"\"}},\"coloraxis\":{\"colorbar\":{\"outlinewidth\":0,\"ticks\":\"\"}},\"colorscale\":{\"sequential\":[[0.0,\"#0d0887\"],[0.1111111111111111,\"#46039f\"],[0.2222222222222222,\"#7201a8\"],[0.3333333333333333,\"#9c179e\"],[0.4444444444444444,\"#bd3786\"],[0.5555555555555556,\"#d8576b\"],[0.6666666666666666,\"#ed7953\"],[0.7777777777777778,\"#fb9f3a\"],[0.8888888888888888,\"#fdca26\"],[1.0,\"#f0f921\"]],\"sequentialminus\":[[0.0,\"#0d0887\"],[0.1111111111111111,\"#46039f\"],[0.2222222222222222,\"#7201a8\"],[0.3333333333333333,\"#9c179e\"],[0.4444444444444444,\"#bd3786\"],[0.5555555555555556,\"#d8576b\"],[0.6666666666666666,\"#ed7953\"],[0.7777777777777778,\"#fb9f3a\"],[0.8888888888888888,\"#fdca26\"],[1.0,\"#f0f921\"]],\"diverging\":[[0,\"#8e0152\"],[0.1,\"#c51b7d\"],[0.2,\"#de77ae\"],[0.3,\"#f1b6da\"],[0.4,\"#fde0ef\"],[0.5,\"#f7f7f7\"],[0.6,\"#e6f5d0\"],[0.7,\"#b8e186\"],[0.8,\"#7fbc41\"],[0.9,\"#4d9221\"],[1,\"#276419\"]]},\"xaxis\":{\"gridcolor\":\"white\",\"linecolor\":\"white\",\"ticks\":\"\",\"title\":{\"standoff\":15},\"zerolinecolor\":\"white\",\"automargin\":true,\"zerolinewidth\":2},\"yaxis\":{\"gridcolor\":\"white\",\"linecolor\":\"white\",\"ticks\":\"\",\"title\":{\"standoff\":15},\"zerolinecolor\":\"white\",\"automargin\":true,\"zerolinewidth\":2},\"scene\":{\"xaxis\":{\"backgroundcolor\":\"#E5ECF6\",\"gridcolor\":\"white\",\"linecolor\":\"white\",\"showbackground\":true,\"ticks\":\"\",\"zerolinecolor\":\"white\",\"gridwidth\":2},\"yaxis\":{\"backgroundcolor\":\"#E5ECF6\",\"gridcolor\":\"white\",\"linecolor\":\"white\",\"showbackground\":true,\"ticks\":\"\",\"zerolinecolor\":\"white\",\"gridwidth\":2},\"zaxis\":{\"backgroundcolor\":\"#E5ECF6\",\"gridcolor\":\"white\",\"linecolor\":\"white\",\"showbackground\":true,\"ticks\":\"\",\"zerolinecolor\":\"white\",\"gridwidth\":2}},\"shapedefaults\":{\"line\":{\"color\":\"#2a3f5f\"}},\"annotationdefaults\":{\"arrowcolor\":\"#2a3f5f\",\"arrowhead\":0,\"arrowwidth\":1},\"geo\":{\"bgcolor\":\"white\",\"landcolor\":\"#E5ECF6\",\"subunitcolor\":\"white\",\"showland\":true,\"showlakes\":true,\"lakecolor\":\"white\"},\"title\":{\"x\":0.05},\"mapbox\":{\"style\":\"light\"}}},\"yaxis\":{\"title\":{\"text\":\"Date\"},\"tickvals\":[\"2016-04-12T00:00:00\",\"2016-04-13T00:00:00\",\"2016-04-14T00:00:00\",\"2016-04-15T00:00:00\",\"2016-04-16T00:00:00\",\"2016-04-17T00:00:00\",\"2016-04-18T00:00:00\",\"2016-04-19T00:00:00\",\"2016-04-20T00:00:00\",\"2016-04-21T00:00:00\",\"2016-04-22T00:00:00\",\"2016-04-23T00:00:00\",\"2016-04-24T00:00:00\",\"2016-04-25T00:00:00\",\"2016-04-26T00:00:00\",\"2016-04-27T00:00:00\",\"2016-04-28T00:00:00\",\"2016-04-29T00:00:00\",\"2016-04-30T00:00:00\",\"2016-05-01T00:00:00\",\"2016-05-02T00:00:00\",\"2016-05-03T00:00:00\",\"2016-05-04T00:00:00\",\"2016-05-05T00:00:00\",\"2016-05-06T00:00:00\",\"2016-05-07T00:00:00\",\"2016-05-08T00:00:00\",\"2016-05-09T00:00:00\",\"2016-05-10T00:00:00\",\"2016-05-11T00:00:00\",\"2016-05-12T00:00:00\",\"2016-04-12T00:00:00\",\"2016-04-13T00:00:00\",\"2016-04-14T00:00:00\",\"2016-04-15T00:00:00\",\"2016-04-16T00:00:00\",\"2016-04-17T00:00:00\",\"2016-04-18T00:00:00\",\"2016-04-19T00:00:00\",\"2016-04-20T00:00:00\",\"2016-04-21T00:00:00\",\"2016-04-22T00:00:00\",\"2016-04-23T00:00:00\",\"2016-04-24T00:00:00\",\"2016-04-25T00:00:00\",\"2016-04-26T00:00:00\",\"2016-04-27T00:00:00\",\"2016-04-28T00:00:00\",\"2016-04-29T00:00:00\",\"2016-04-30T00:00:00\",\"2016-05-01T00:00:00\",\"2016-05-02T00:00:00\",\"2016-05-03T00:00:00\",\"2016-05-04T00:00:00\",\"2016-05-05T00:00:00\",\"2016-05-06T00:00:00\",\"2016-05-07T00:00:00\",\"2016-05-08T00:00:00\",\"2016-05-09T00:00:00\",\"2016-05-10T00:00:00\",\"2016-05-11T00:00:00\",\"2016-05-12T00:00:00\",\"2016-04-12T00:00:00\",\"2016-04-13T00:00:00\",\"2016-04-14T00:00:00\",\"2016-04-15T00:00:00\",\"2016-04-16T00:00:00\",\"2016-04-17T00:00:00\",\"2016-04-18T00:00:00\",\"2016-04-19T00:00:00\",\"2016-04-20T00:00:00\",\"2016-04-21T00:00:00\",\"2016-04-22T00:00:00\",\"2016-04-23T00:00:00\",\"2016-04-24T00:00:00\",\"2016-04-25T00:00:00\",\"2016-04-26T00:00:00\",\"2016-04-27T00:00:00\",\"2016-04-28T00:00:00\",\"2016-04-29T00:00:00\",\"2016-04-30T00:00:00\",\"2016-05-01T00:00:00\",\"2016-05-02T00:00:00\",\"2016-05-03T00:00:00\",\"2016-05-04T00:00:00\",\"2016-05-05T00:00:00\",\"2016-05-06T00:00:00\",\"2016-05-07T00:00:00\",\"2016-05-08T00:00:00\",\"2016-05-09T00:00:00\",\"2016-05-10T00:00:00\",\"2016-05-11T00:00:00\",\"2016-04-12T00:00:00\",\"2016-04-13T00:00:00\",\"2016-04-14T00:00:00\",\"2016-04-15T00:00:00\",\"2016-04-16T00:00:00\",\"2016-04-17T00:00:00\",\"2016-04-18T00:00:00\",\"2016-04-19T00:00:00\",\"2016-04-20T00:00:00\",\"2016-04-21T00:00:00\",\"2016-04-22T00:00:00\",\"2016-04-23T00:00:00\",\"2016-04-24T00:00:00\",\"2016-04-25T00:00:00\",\"2016-04-26T00:00:00\",\"2016-04-27T00:00:00\",\"2016-04-28T00:00:00\",\"2016-04-29T00:00:00\",\"2016-04-30T00:00:00\",\"2016-05-01T00:00:00\",\"2016-05-02T00:00:00\",\"2016-05-03T00:00:00\",\"2016-05-04T00:00:00\",\"2016-05-05T00:00:00\",\"2016-05-06T00:00:00\",\"2016-05-07T00:00:00\",\"2016-05-08T00:00:00\",\"2016-05-09T00:00:00\",\"2016-05-10T00:00:00\",\"2016-05-11T00:00:00\",\"2016-05-12T00:00:00\",\"2016-04-12T00:00:00\",\"2016-04-13T00:00:00\",\"2016-04-14T00:00:00\",\"2016-04-15T00:00:00\",\"2016-04-16T00:00:00\",\"2016-04-17T00:00:00\",\"2016-04-18T00:00:00\",\"2016-04-19T00:00:00\",\"2016-04-20T00:00:00\",\"2016-04-21T00:00:00\",\"2016-04-22T00:00:00\",\"2016-04-23T00:00:00\",\"2016-04-24T00:00:00\",\"2016-04-25T00:00:00\",\"2016-04-26T00:00:00\",\"2016-04-27T00:00:00\",\"2016-04-28T00:00:00\",\"2016-04-29T00:00:00\",\"2016-04-30T00:00:00\",\"2016-05-01T00:00:00\",\"2016-05-02T00:00:00\",\"2016-05-03T00:00:00\",\"2016-05-04T00:00:00\",\"2016-05-05T00:00:00\",\"2016-05-06T00:00:00\",\"2016-05-07T00:00:00\",\"2016-05-08T00:00:00\",\"2016-05-09T00:00:00\",\"2016-05-10T00:00:00\",\"2016-05-11T00:00:00\",\"2016-05-12T00:00:00\",\"2016-04-12T00:00:00\",\"2016-04-13T00:00:00\",\"2016-04-14T00:00:00\",\"2016-04-15T00:00:00\",\"2016-04-16T00:00:00\",\"2016-04-17T00:00:00\",\"2016-04-18T00:00:00\",\"2016-04-19T00:00:00\",\"2016-04-20T00:00:00\",\"2016-04-21T00:00:00\",\"2016-04-22T00:00:00\",\"2016-04-23T00:00:00\",\"2016-04-24T00:00:00\",\"2016-04-25T00:00:00\",\"2016-04-26T00:00:00\",\"2016-04-27T00:00:00\",\"2016-04-28T00:00:00\",\"2016-04-29T00:00:00\",\"2016-04-30T00:00:00\",\"2016-05-01T00:00:00\",\"2016-05-02T00:00:00\",\"2016-05-03T00:00:00\",\"2016-05-04T00:00:00\",\"2016-05-05T00:00:00\",\"2016-05-06T00:00:00\",\"2016-05-07T00:00:00\",\"2016-05-08T00:00:00\",\"2016-05-09T00:00:00\",\"2016-05-10T00:00:00\",\"2016-05-11T00:00:00\",\"2016-05-12T00:00:00\",\"2016-04-12T00:00:00\",\"2016-04-13T00:00:00\",\"2016-04-14T00:00:00\",\"2016-04-15T00:00:00\",\"2016-04-16T00:00:00\",\"2016-04-17T00:00:00\",\"2016-04-18T00:00:00\",\"2016-04-19T00:00:00\",\"2016-04-20T00:00:00\",\"2016-04-21T00:00:00\",\"2016-04-22T00:00:00\",\"2016-04-23T00:00:00\",\"2016-04-24T00:00:00\",\"2016-04-25T00:00:00\",\"2016-04-26T00:00:00\",\"2016-04-27T00:00:00\",\"2016-04-28T00:00:00\",\"2016-04-29T00:00:00\",\"2016-04-30T00:00:00\",\"2016-05-01T00:00:00\",\"2016-05-02T00:00:00\",\"2016-05-03T00:00:00\",\"2016-05-04T00:00:00\",\"2016-05-05T00:00:00\",\"2016-05-06T00:00:00\",\"2016-05-07T00:00:00\",\"2016-05-08T00:00:00\",\"2016-05-09T00:00:00\",\"2016-05-10T00:00:00\",\"2016-05-11T00:00:00\",\"2016-05-12T00:00:00\",\"2016-04-12T00:00:00\",\"2016-04-13T00:00:00\",\"2016-04-14T00:00:00\",\"2016-04-15T00:00:00\",\"2016-04-16T00:00:00\",\"2016-04-17T00:00:00\",\"2016-04-18T00:00:00\",\"2016-04-19T00:00:00\",\"2016-04-20T00:00:00\",\"2016-04-21T00:00:00\",\"2016-04-22T00:00:00\",\"2016-04-23T00:00:00\",\"2016-04-24T00:00:00\",\"2016-04-25T00:00:00\",\"2016-04-26T00:00:00\",\"2016-04-27T00:00:00\",\"2016-04-28T00:00:00\",\"2016-04-29T00:00:00\",\"2016-04-30T00:00:00\",\"2016-05-01T00:00:00\",\"2016-05-02T00:00:00\",\"2016-05-03T00:00:00\",\"2016-05-04T00:00:00\",\"2016-05-05T00:00:00\",\"2016-05-06T00:00:00\",\"2016-05-07T00:00:00\",\"2016-05-08T00:00:00\",\"2016-05-09T00:00:00\",\"2016-05-10T00:00:00\",\"2016-05-11T00:00:00\",\"2016-05-12T00:00:00\",\"2016-04-12T00:00:00\",\"2016-04-13T00:00:00\",\"2016-04-14T00:00:00\",\"2016-04-15T00:00:00\",\"2016-04-16T00:00:00\",\"2016-04-17T00:00:00\",\"2016-04-18T00:00:00\",\"2016-04-19T00:00:00\",\"2016-04-20T00:00:00\",\"2016-04-21T00:00:00\",\"2016-04-22T00:00:00\",\"2016-04-23T00:00:00\",\"2016-04-24T00:00:00\",\"2016-04-25T00:00:00\",\"2016-04-26T00:00:00\",\"2016-04-27T00:00:00\",\"2016-04-28T00:00:00\",\"2016-04-29T00:00:00\",\"2016-04-12T00:00:00\",\"2016-04-13T00:00:00\",\"2016-04-14T00:00:00\",\"2016-04-15T00:00:00\",\"2016-04-16T00:00:00\",\"2016-04-17T00:00:00\",\"2016-04-18T00:00:00\",\"2016-04-19T00:00:00\",\"2016-04-20T00:00:00\",\"2016-04-21T00:00:00\",\"2016-04-22T00:00:00\",\"2016-04-23T00:00:00\",\"2016-04-24T00:00:00\",\"2016-04-25T00:00:00\",\"2016-04-26T00:00:00\",\"2016-04-27T00:00:00\",\"2016-04-28T00:00:00\",\"2016-04-29T00:00:00\",\"2016-04-30T00:00:00\",\"2016-05-01T00:00:00\",\"2016-05-02T00:00:00\",\"2016-05-03T00:00:00\",\"2016-05-04T00:00:00\",\"2016-05-05T00:00:00\",\"2016-05-06T00:00:00\",\"2016-05-07T00:00:00\",\"2016-05-08T00:00:00\",\"2016-05-09T00:00:00\",\"2016-05-10T00:00:00\",\"2016-05-11T00:00:00\",\"2016-05-12T00:00:00\",\"2016-04-12T00:00:00\",\"2016-04-13T00:00:00\",\"2016-04-14T00:00:00\",\"2016-04-15T00:00:00\",\"2016-04-16T00:00:00\",\"2016-04-17T00:00:00\",\"2016-04-18T00:00:00\",\"2016-04-19T00:00:00\",\"2016-04-20T00:00:00\",\"2016-04-21T00:00:00\",\"2016-04-22T00:00:00\",\"2016-04-23T00:00:00\",\"2016-04-24T00:00:00\",\"2016-04-25T00:00:00\",\"2016-04-26T00:00:00\",\"2016-04-27T00:00:00\",\"2016-04-28T00:00:00\",\"2016-04-29T00:00:00\",\"2016-04-30T00:00:00\",\"2016-05-01T00:00:00\",\"2016-04-12T00:00:00\",\"2016-04-13T00:00:00\",\"2016-04-14T00:00:00\",\"2016-04-15T00:00:00\",\"2016-04-16T00:00:00\",\"2016-04-17T00:00:00\",\"2016-04-18T00:00:00\",\"2016-04-19T00:00:00\",\"2016-04-20T00:00:00\",\"2016-04-21T00:00:00\",\"2016-04-22T00:00:00\",\"2016-04-23T00:00:00\",\"2016-04-24T00:00:00\",\"2016-04-25T00:00:00\",\"2016-04-26T00:00:00\",\"2016-04-27T00:00:00\",\"2016-04-28T00:00:00\",\"2016-04-29T00:00:00\",\"2016-04-30T00:00:00\",\"2016-05-01T00:00:00\",\"2016-05-02T00:00:00\",\"2016-05-03T00:00:00\",\"2016-05-04T00:00:00\",\"2016-05-05T00:00:00\",\"2016-05-06T00:00:00\",\"2016-05-07T00:00:00\",\"2016-05-08T00:00:00\",\"2016-05-09T00:00:00\",\"2016-05-10T00:00:00\",\"2016-05-11T00:00:00\",\"2016-04-12T00:00:00\",\"2016-04-13T00:00:00\",\"2016-04-14T00:00:00\",\"2016-04-15T00:00:00\",\"2016-04-16T00:00:00\",\"2016-04-17T00:00:00\",\"2016-04-18T00:00:00\",\"2016-04-19T00:00:00\",\"2016-04-20T00:00:00\",\"2016-04-21T00:00:00\",\"2016-04-22T00:00:00\",\"2016-04-23T00:00:00\",\"2016-04-24T00:00:00\",\"2016-04-25T00:00:00\",\"2016-04-26T00:00:00\",\"2016-04-27T00:00:00\",\"2016-04-28T00:00:00\",\"2016-04-29T00:00:00\",\"2016-04-30T00:00:00\",\"2016-05-01T00:00:00\",\"2016-05-02T00:00:00\",\"2016-05-03T00:00:00\",\"2016-05-04T00:00:00\",\"2016-05-05T00:00:00\",\"2016-05-06T00:00:00\",\"2016-05-07T00:00:00\",\"2016-05-08T00:00:00\",\"2016-05-09T00:00:00\",\"2016-05-10T00:00:00\",\"2016-05-11T00:00:00\",\"2016-05-12T00:00:00\",\"2016-04-12T00:00:00\",\"2016-04-13T00:00:00\",\"2016-04-14T00:00:00\",\"2016-04-15T00:00:00\",\"2016-04-12T00:00:00\",\"2016-04-13T00:00:00\",\"2016-04-14T00:00:00\",\"2016-04-15T00:00:00\",\"2016-04-16T00:00:00\",\"2016-04-17T00:00:00\",\"2016-04-18T00:00:00\",\"2016-04-19T00:00:00\",\"2016-04-20T00:00:00\",\"2016-04-21T00:00:00\",\"2016-04-22T00:00:00\",\"2016-04-23T00:00:00\",\"2016-04-24T00:00:00\",\"2016-04-25T00:00:00\",\"2016-04-26T00:00:00\",\"2016-04-27T00:00:00\",\"2016-04-28T00:00:00\",\"2016-04-29T00:00:00\",\"2016-04-30T00:00:00\",\"2016-05-01T00:00:00\",\"2016-05-02T00:00:00\",\"2016-05-03T00:00:00\",\"2016-05-04T00:00:00\",\"2016-05-05T00:00:00\",\"2016-05-06T00:00:00\",\"2016-05-07T00:00:00\",\"2016-05-08T00:00:00\",\"2016-05-09T00:00:00\",\"2016-05-10T00:00:00\",\"2016-05-11T00:00:00\",\"2016-05-12T00:00:00\",\"2016-04-12T00:00:00\",\"2016-04-13T00:00:00\",\"2016-04-14T00:00:00\",\"2016-04-15T00:00:00\",\"2016-04-16T00:00:00\",\"2016-04-17T00:00:00\",\"2016-04-18T00:00:00\",\"2016-04-19T00:00:00\",\"2016-04-20T00:00:00\",\"2016-04-21T00:00:00\",\"2016-04-22T00:00:00\",\"2016-04-23T00:00:00\",\"2016-04-24T00:00:00\",\"2016-04-25T00:00:00\",\"2016-04-26T00:00:00\",\"2016-04-27T00:00:00\",\"2016-04-28T00:00:00\",\"2016-04-29T00:00:00\",\"2016-04-30T00:00:00\",\"2016-05-01T00:00:00\",\"2016-05-02T00:00:00\",\"2016-05-03T00:00:00\",\"2016-05-04T00:00:00\",\"2016-05-05T00:00:00\",\"2016-05-06T00:00:00\",\"2016-05-07T00:00:00\",\"2016-05-08T00:00:00\",\"2016-05-09T00:00:00\",\"2016-05-10T00:00:00\",\"2016-05-11T00:00:00\",\"2016-05-12T00:00:00\",\"2016-04-12T00:00:00\",\"2016-04-13T00:00:00\",\"2016-04-14T00:00:00\",\"2016-04-15T00:00:00\",\"2016-04-16T00:00:00\",\"2016-04-17T00:00:00\",\"2016-04-18T00:00:00\",\"2016-04-19T00:00:00\",\"2016-04-20T00:00:00\",\"2016-04-21T00:00:00\",\"2016-04-22T00:00:00\",\"2016-04-23T00:00:00\",\"2016-04-24T00:00:00\",\"2016-04-25T00:00:00\",\"2016-04-26T00:00:00\",\"2016-04-27T00:00:00\",\"2016-04-28T00:00:00\",\"2016-04-29T00:00:00\",\"2016-04-30T00:00:00\",\"2016-05-01T00:00:00\",\"2016-05-02T00:00:00\",\"2016-05-03T00:00:00\",\"2016-05-04T00:00:00\",\"2016-05-05T00:00:00\",\"2016-05-06T00:00:00\",\"2016-05-07T00:00:00\",\"2016-05-08T00:00:00\",\"2016-05-09T00:00:00\",\"2016-05-10T00:00:00\",\"2016-05-11T00:00:00\",\"2016-05-12T00:00:00\",\"2016-04-12T00:00:00\",\"2016-04-13T00:00:00\",\"2016-04-14T00:00:00\",\"2016-04-15T00:00:00\",\"2016-04-16T00:00:00\",\"2016-04-17T00:00:00\",\"2016-04-18T00:00:00\",\"2016-04-19T00:00:00\",\"2016-04-20T00:00:00\",\"2016-04-21T00:00:00\",\"2016-04-22T00:00:00\",\"2016-04-23T00:00:00\",\"2016-04-24T00:00:00\",\"2016-04-25T00:00:00\",\"2016-04-26T00:00:00\",\"2016-04-27T00:00:00\",\"2016-04-28T00:00:00\",\"2016-04-29T00:00:00\",\"2016-04-30T00:00:00\",\"2016-05-01T00:00:00\",\"2016-05-02T00:00:00\",\"2016-05-03T00:00:00\",\"2016-05-04T00:00:00\",\"2016-05-05T00:00:00\",\"2016-05-06T00:00:00\",\"2016-05-07T00:00:00\",\"2016-05-08T00:00:00\",\"2016-05-09T00:00:00\",\"2016-05-10T00:00:00\",\"2016-05-11T00:00:00\",\"2016-05-12T00:00:00\",\"2016-04-12T00:00:00\",\"2016-04-13T00:00:00\",\"2016-04-14T00:00:00\",\"2016-04-15T00:00:00\",\"2016-04-16T00:00:00\",\"2016-04-17T00:00:00\",\"2016-04-18T00:00:00\",\"2016-04-19T00:00:00\",\"2016-04-20T00:00:00\",\"2016-04-21T00:00:00\",\"2016-04-22T00:00:00\",\"2016-04-23T00:00:00\",\"2016-04-24T00:00:00\",\"2016-04-25T00:00:00\",\"2016-04-26T00:00:00\",\"2016-04-27T00:00:00\",\"2016-04-28T00:00:00\",\"2016-04-29T00:00:00\",\"2016-04-30T00:00:00\",\"2016-05-01T00:00:00\",\"2016-05-02T00:00:00\",\"2016-05-03T00:00:00\",\"2016-05-04T00:00:00\",\"2016-05-05T00:00:00\",\"2016-05-06T00:00:00\",\"2016-05-07T00:00:00\",\"2016-05-08T00:00:00\",\"2016-05-09T00:00:00\",\"2016-05-10T00:00:00\",\"2016-05-11T00:00:00\",\"2016-05-12T00:00:00\",\"2016-04-12T00:00:00\",\"2016-04-13T00:00:00\",\"2016-04-14T00:00:00\",\"2016-04-15T00:00:00\",\"2016-04-16T00:00:00\",\"2016-04-17T00:00:00\",\"2016-04-18T00:00:00\",\"2016-04-19T00:00:00\",\"2016-04-20T00:00:00\",\"2016-04-21T00:00:00\",\"2016-04-22T00:00:00\",\"2016-04-23T00:00:00\",\"2016-04-24T00:00:00\",\"2016-04-25T00:00:00\",\"2016-04-26T00:00:00\",\"2016-04-27T00:00:00\",\"2016-04-28T00:00:00\",\"2016-04-29T00:00:00\",\"2016-04-30T00:00:00\",\"2016-05-01T00:00:00\",\"2016-05-02T00:00:00\",\"2016-05-03T00:00:00\",\"2016-05-04T00:00:00\",\"2016-05-05T00:00:00\",\"2016-05-06T00:00:00\",\"2016-05-07T00:00:00\",\"2016-05-08T00:00:00\",\"2016-05-09T00:00:00\",\"2016-05-10T00:00:00\",\"2016-05-11T00:00:00\",\"2016-05-12T00:00:00\",\"2016-04-12T00:00:00\",\"2016-04-13T00:00:00\",\"2016-04-14T00:00:00\",\"2016-04-15T00:00:00\",\"2016-04-16T00:00:00\",\"2016-04-17T00:00:00\",\"2016-04-18T00:00:00\",\"2016-04-19T00:00:00\",\"2016-04-20T00:00:00\",\"2016-04-21T00:00:00\",\"2016-04-22T00:00:00\",\"2016-04-23T00:00:00\",\"2016-04-24T00:00:00\",\"2016-04-25T00:00:00\",\"2016-04-26T00:00:00\",\"2016-04-27T00:00:00\",\"2016-04-28T00:00:00\",\"2016-04-29T00:00:00\",\"2016-04-30T00:00:00\",\"2016-05-01T00:00:00\",\"2016-05-02T00:00:00\",\"2016-05-03T00:00:00\",\"2016-05-04T00:00:00\",\"2016-05-05T00:00:00\",\"2016-05-06T00:00:00\",\"2016-05-07T00:00:00\",\"2016-05-08T00:00:00\",\"2016-05-09T00:00:00\",\"2016-05-10T00:00:00\",\"2016-05-11T00:00:00\",\"2016-04-12T00:00:00\",\"2016-04-13T00:00:00\",\"2016-04-14T00:00:00\",\"2016-04-15T00:00:00\",\"2016-04-16T00:00:00\",\"2016-04-17T00:00:00\",\"2016-04-18T00:00:00\",\"2016-04-19T00:00:00\",\"2016-04-20T00:00:00\",\"2016-04-21T00:00:00\",\"2016-04-22T00:00:00\",\"2016-04-23T00:00:00\",\"2016-04-24T00:00:00\",\"2016-04-25T00:00:00\",\"2016-04-26T00:00:00\",\"2016-04-27T00:00:00\",\"2016-04-28T00:00:00\",\"2016-04-29T00:00:00\",\"2016-04-30T00:00:00\",\"2016-05-01T00:00:00\",\"2016-05-02T00:00:00\",\"2016-05-03T00:00:00\",\"2016-05-04T00:00:00\",\"2016-05-05T00:00:00\",\"2016-05-06T00:00:00\",\"2016-05-07T00:00:00\",\"2016-05-08T00:00:00\",\"2016-05-09T00:00:00\",\"2016-04-12T00:00:00\",\"2016-04-13T00:00:00\",\"2016-04-14T00:00:00\",\"2016-04-15T00:00:00\",\"2016-04-16T00:00:00\",\"2016-04-17T00:00:00\",\"2016-04-18T00:00:00\",\"2016-04-19T00:00:00\",\"2016-04-20T00:00:00\",\"2016-04-21T00:00:00\",\"2016-04-22T00:00:00\",\"2016-04-23T00:00:00\",\"2016-04-24T00:00:00\",\"2016-04-25T00:00:00\",\"2016-04-26T00:00:00\",\"2016-04-27T00:00:00\",\"2016-04-28T00:00:00\",\"2016-04-29T00:00:00\",\"2016-04-30T00:00:00\",\"2016-05-01T00:00:00\",\"2016-05-02T00:00:00\",\"2016-05-03T00:00:00\",\"2016-05-04T00:00:00\",\"2016-05-05T00:00:00\",\"2016-05-06T00:00:00\",\"2016-05-07T00:00:00\",\"2016-05-08T00:00:00\",\"2016-05-09T00:00:00\",\"2016-05-10T00:00:00\",\"2016-04-12T00:00:00\",\"2016-04-13T00:00:00\",\"2016-04-14T00:00:00\",\"2016-04-15T00:00:00\",\"2016-04-16T00:00:00\",\"2016-04-17T00:00:00\",\"2016-04-18T00:00:00\",\"2016-04-19T00:00:00\",\"2016-04-20T00:00:00\",\"2016-04-21T00:00:00\",\"2016-04-22T00:00:00\",\"2016-04-23T00:00:00\",\"2016-04-24T00:00:00\",\"2016-04-25T00:00:00\",\"2016-04-26T00:00:00\",\"2016-04-27T00:00:00\",\"2016-04-28T00:00:00\",\"2016-04-29T00:00:00\",\"2016-04-30T00:00:00\",\"2016-05-01T00:00:00\",\"2016-05-02T00:00:00\",\"2016-05-03T00:00:00\",\"2016-05-04T00:00:00\",\"2016-05-05T00:00:00\",\"2016-05-06T00:00:00\",\"2016-05-07T00:00:00\",\"2016-04-12T00:00:00\",\"2016-04-13T00:00:00\",\"2016-04-14T00:00:00\",\"2016-04-15T00:00:00\",\"2016-04-16T00:00:00\",\"2016-04-17T00:00:00\",\"2016-04-18T00:00:00\",\"2016-04-19T00:00:00\",\"2016-04-20T00:00:00\",\"2016-04-21T00:00:00\",\"2016-04-22T00:00:00\",\"2016-04-23T00:00:00\",\"2016-04-24T00:00:00\",\"2016-04-25T00:00:00\",\"2016-04-26T00:00:00\",\"2016-04-27T00:00:00\",\"2016-04-28T00:00:00\",\"2016-04-29T00:00:00\",\"2016-04-30T00:00:00\",\"2016-05-01T00:00:00\",\"2016-05-02T00:00:00\",\"2016-05-03T00:00:00\",\"2016-05-04T00:00:00\",\"2016-05-05T00:00:00\",\"2016-05-06T00:00:00\",\"2016-05-07T00:00:00\",\"2016-05-08T00:00:00\",\"2016-05-09T00:00:00\",\"2016-05-10T00:00:00\",\"2016-05-11T00:00:00\",\"2016-05-12T00:00:00\",\"2016-04-12T00:00:00\",\"2016-04-13T00:00:00\",\"2016-04-14T00:00:00\",\"2016-04-15T00:00:00\",\"2016-04-16T00:00:00\",\"2016-04-17T00:00:00\",\"2016-04-18T00:00:00\",\"2016-04-19T00:00:00\",\"2016-04-20T00:00:00\",\"2016-04-21T00:00:00\",\"2016-04-22T00:00:00\",\"2016-04-23T00:00:00\",\"2016-04-24T00:00:00\",\"2016-04-25T00:00:00\",\"2016-04-26T00:00:00\",\"2016-04-27T00:00:00\",\"2016-04-28T00:00:00\",\"2016-04-29T00:00:00\",\"2016-04-30T00:00:00\",\"2016-05-01T00:00:00\",\"2016-05-02T00:00:00\",\"2016-05-03T00:00:00\",\"2016-05-04T00:00:00\",\"2016-05-05T00:00:00\",\"2016-05-06T00:00:00\",\"2016-05-07T00:00:00\",\"2016-04-12T00:00:00\",\"2016-04-13T00:00:00\",\"2016-04-14T00:00:00\",\"2016-04-15T00:00:00\",\"2016-04-16T00:00:00\",\"2016-04-17T00:00:00\",\"2016-04-18T00:00:00\",\"2016-04-19T00:00:00\",\"2016-04-20T00:00:00\",\"2016-04-21T00:00:00\",\"2016-04-22T00:00:00\",\"2016-04-23T00:00:00\",\"2016-04-24T00:00:00\",\"2016-04-25T00:00:00\",\"2016-04-26T00:00:00\",\"2016-04-27T00:00:00\",\"2016-04-28T00:00:00\",\"2016-04-29T00:00:00\",\"2016-04-30T00:00:00\",\"2016-05-01T00:00:00\",\"2016-05-02T00:00:00\",\"2016-05-03T00:00:00\",\"2016-05-04T00:00:00\",\"2016-05-05T00:00:00\",\"2016-05-06T00:00:00\",\"2016-05-07T00:00:00\",\"2016-05-08T00:00:00\",\"2016-05-09T00:00:00\",\"2016-05-10T00:00:00\",\"2016-05-11T00:00:00\",\"2016-05-12T00:00:00\",\"2016-04-12T00:00:00\",\"2016-04-13T00:00:00\",\"2016-04-14T00:00:00\",\"2016-04-15T00:00:00\",\"2016-04-16T00:00:00\",\"2016-04-17T00:00:00\",\"2016-04-18T00:00:00\",\"2016-04-19T00:00:00\",\"2016-04-20T00:00:00\",\"2016-04-21T00:00:00\",\"2016-04-22T00:00:00\",\"2016-04-23T00:00:00\",\"2016-04-24T00:00:00\",\"2016-04-25T00:00:00\",\"2016-04-26T00:00:00\",\"2016-04-27T00:00:00\",\"2016-04-28T00:00:00\",\"2016-04-29T00:00:00\",\"2016-04-30T00:00:00\",\"2016-05-01T00:00:00\",\"2016-05-02T00:00:00\",\"2016-05-03T00:00:00\",\"2016-05-04T00:00:00\",\"2016-05-05T00:00:00\",\"2016-05-06T00:00:00\",\"2016-05-07T00:00:00\",\"2016-05-08T00:00:00\",\"2016-05-09T00:00:00\",\"2016-05-10T00:00:00\",\"2016-05-11T00:00:00\",\"2016-05-12T00:00:00\",\"2016-04-12T00:00:00\",\"2016-04-13T00:00:00\",\"2016-04-14T00:00:00\",\"2016-04-15T00:00:00\",\"2016-04-16T00:00:00\",\"2016-04-17T00:00:00\",\"2016-04-18T00:00:00\",\"2016-04-19T00:00:00\",\"2016-04-20T00:00:00\",\"2016-04-21T00:00:00\",\"2016-04-22T00:00:00\",\"2016-04-23T00:00:00\",\"2016-04-24T00:00:00\",\"2016-04-25T00:00:00\",\"2016-04-26T00:00:00\",\"2016-04-27T00:00:00\",\"2016-04-28T00:00:00\",\"2016-04-29T00:00:00\",\"2016-04-30T00:00:00\",\"2016-04-12T00:00:00\",\"2016-04-13T00:00:00\",\"2016-04-14T00:00:00\",\"2016-04-15T00:00:00\",\"2016-04-16T00:00:00\",\"2016-04-17T00:00:00\",\"2016-04-18T00:00:00\",\"2016-04-19T00:00:00\",\"2016-04-20T00:00:00\",\"2016-04-21T00:00:00\",\"2016-04-22T00:00:00\",\"2016-04-23T00:00:00\",\"2016-04-24T00:00:00\",\"2016-04-25T00:00:00\",\"2016-04-26T00:00:00\",\"2016-04-27T00:00:00\",\"2016-04-28T00:00:00\",\"2016-04-29T00:00:00\",\"2016-04-30T00:00:00\",\"2016-05-01T00:00:00\",\"2016-05-02T00:00:00\",\"2016-05-03T00:00:00\",\"2016-05-04T00:00:00\",\"2016-05-05T00:00:00\",\"2016-05-06T00:00:00\",\"2016-05-07T00:00:00\",\"2016-05-08T00:00:00\",\"2016-05-09T00:00:00\",\"2016-05-10T00:00:00\",\"2016-05-11T00:00:00\",\"2016-05-12T00:00:00\",\"2016-04-12T00:00:00\",\"2016-04-13T00:00:00\",\"2016-04-14T00:00:00\",\"2016-04-15T00:00:00\",\"2016-04-16T00:00:00\",\"2016-04-17T00:00:00\",\"2016-04-18T00:00:00\",\"2016-04-19T00:00:00\",\"2016-04-20T00:00:00\",\"2016-04-21T00:00:00\",\"2016-04-22T00:00:00\",\"2016-04-23T00:00:00\",\"2016-04-24T00:00:00\",\"2016-04-25T00:00:00\",\"2016-04-26T00:00:00\",\"2016-04-27T00:00:00\",\"2016-04-28T00:00:00\",\"2016-04-29T00:00:00\",\"2016-04-30T00:00:00\",\"2016-05-01T00:00:00\",\"2016-05-02T00:00:00\",\"2016-05-03T00:00:00\",\"2016-05-04T00:00:00\",\"2016-05-05T00:00:00\",\"2016-05-06T00:00:00\",\"2016-05-07T00:00:00\",\"2016-05-08T00:00:00\",\"2016-05-09T00:00:00\",\"2016-05-10T00:00:00\",\"2016-05-11T00:00:00\",\"2016-05-12T00:00:00\",\"2016-04-12T00:00:00\",\"2016-04-13T00:00:00\",\"2016-04-14T00:00:00\",\"2016-04-15T00:00:00\",\"2016-04-16T00:00:00\",\"2016-04-17T00:00:00\",\"2016-04-18T00:00:00\",\"2016-04-19T00:00:00\",\"2016-04-20T00:00:00\",\"2016-04-21T00:00:00\",\"2016-04-22T00:00:00\",\"2016-04-23T00:00:00\",\"2016-04-24T00:00:00\",\"2016-04-25T00:00:00\",\"2016-04-26T00:00:00\",\"2016-04-27T00:00:00\",\"2016-04-28T00:00:00\",\"2016-04-29T00:00:00\",\"2016-04-30T00:00:00\",\"2016-05-01T00:00:00\",\"2016-05-02T00:00:00\",\"2016-05-03T00:00:00\",\"2016-05-04T00:00:00\",\"2016-05-05T00:00:00\",\"2016-05-06T00:00:00\",\"2016-05-07T00:00:00\",\"2016-05-08T00:00:00\",\"2016-05-09T00:00:00\",\"2016-05-10T00:00:00\",\"2016-04-12T00:00:00\",\"2016-04-13T00:00:00\",\"2016-04-14T00:00:00\",\"2016-04-15T00:00:00\",\"2016-04-16T00:00:00\",\"2016-04-17T00:00:00\",\"2016-04-18T00:00:00\",\"2016-04-19T00:00:00\",\"2016-04-20T00:00:00\",\"2016-04-21T00:00:00\",\"2016-04-22T00:00:00\",\"2016-04-23T00:00:00\",\"2016-04-24T00:00:00\",\"2016-04-25T00:00:00\",\"2016-04-26T00:00:00\",\"2016-04-27T00:00:00\",\"2016-04-28T00:00:00\",\"2016-04-29T00:00:00\",\"2016-04-30T00:00:00\",\"2016-05-01T00:00:00\",\"2016-05-02T00:00:00\",\"2016-05-03T00:00:00\",\"2016-05-04T00:00:00\",\"2016-05-05T00:00:00\",\"2016-05-06T00:00:00\",\"2016-05-07T00:00:00\",\"2016-05-08T00:00:00\",\"2016-05-09T00:00:00\",\"2016-05-10T00:00:00\",\"2016-05-11T00:00:00\",\"2016-05-12T00:00:00\"],\"autorange\":\"reversed\"},\"title\":{\"text\":\"Missing Mins per Date for all users\"},\"xaxis\":{\"title\":{\"text\":\"Missing Minutes\"}},\"height\":750},                        {\"responsive\": true}                    ).then(function(){\n",
       "                            \n",
       "var gd = document.getElementById('9c6418fe-6c62-4f8a-92f2-cf115772831e');\n",
       "var x = new MutationObserver(function (mutations, observer) {{\n",
       "        var display = window.getComputedStyle(gd).display;\n",
       "        if (!display || display === 'none') {{\n",
       "            console.log([gd, 'removed!']);\n",
       "            Plotly.purge(gd);\n",
       "            observer.disconnect();\n",
       "        }}\n",
       "}});\n",
       "\n",
       "// Listen for the removal of the full notebook cells\n",
       "var notebookContainer = gd.closest('#notebook-container');\n",
       "if (notebookContainer) {{\n",
       "    x.observe(notebookContainer, {childList: true});\n",
       "}}\n",
       "\n",
       "// Listen for the clearing of the current output cell\n",
       "var outputEl = gd.closest('.output');\n",
       "if (outputEl) {{\n",
       "    x.observe(outputEl, {childList: true});\n",
       "}}\n",
       "\n",
       "                        })                };                });            </script>        </div>"
      ]
     },
     "metadata": {},
     "output_type": "display_data"
    },
    {
     "data": {
      "text/html": [
       "<div>                            <div id=\"0573c99b-284c-4028-993e-a2a4ab95da35\" class=\"plotly-graph-div\" style=\"height:525px; width:100%;\"></div>            <script type=\"text/javascript\">                require([\"plotly\"], function(Plotly) {                    window.PLOTLYENV=window.PLOTLYENV || {};                                    if (document.getElementById(\"0573c99b-284c-4028-993e-a2a4ab95da35\")) {                    Plotly.newPlot(                        \"0573c99b-284c-4028-993e-a2a4ab95da35\",                        [{\"hoverinfo\":\"x+text\",\"hovertemplate\":\"Number of missing minutes: %{x}\\u003cbr\\u003eFrequency: %{y}\",\"name\":\"\",\"x\":[33.0,-33.0,155.0,443.0,359.0,-359.0,678.0,224.0,-224.0,111.0,77.0,-188.0,729.0,-124.0,51.0,-51.0,125.0,-125.0,474.0,444.0,-4.0,-26.0,22.0,-8.0,-5.0,-171.0,196.0,-26.0,-20.0,24.0,21.0,-4.0,-19.0,-172.0,134.0,23.0,-62.0,86.0,6.0,-13.0,-174.0,155.0,5.0,1.0,-2.0,25.0,4.0,-60.0,41.0,-12.0,282.0,482.0,115.0,-13.0,-9.0,-93.0,66.0,73.0,-28.0,-111.0,106.0,-62.0,-44.0,36.0,37.0,13.0,-9.0,-12.0,-3.0,961.0,452.0,426.0,26.0,-26.0,82.0,-82.0,1414.0,-163.0,48.0,-16.0,-32.0,34.0,-34.0,698.0,470.0,87.0,-55.0,-31.0,74.0,-3.0,27.0,-98.0,76.0,-15.0,-61.0,50.0,-8.0,-42.0,100.0,-14.0,-43.0,-11.0,37.0,-6.0,-62.0,94.0,-74.0,14.0,46.0,-5.0,24.0,-24.0,1117.0,231.0,-222.0,115.0,-123.0,45.0,113.0,4.0,-162.0,88.0,-88.0,43.0,160.0,-44.0,-158.0,116.0,-4.0,-112.0,114.0,87.0,-201.0,72.0,123.0,-194.0,507.0,501.0,79.0,-79.0,76.0,-76.0,52.0,-52.0,457.0,20.0,-25.0,-18.0,-26.0,116.0,11.0,-5.0,-1.0,-36.0,-84.0,27.0,13.0,1.0,39.0,21.0,3.0,-14.0,3.0,-92.0,69.0,25.0,-21.0,13.0,85.0,-170.0,95.0,-29.0,8.0,4.0,689.0,-100.0,79.0,-29.0,7.0,-55.0,49.0,71.0,-72.0,16.0,-58.0,-5.0,114.0,-23.0,-59.0,66.0,29.0,-95.0,7.0,81.0,-14.0,-103.0,95.0,-30.0,-14.0,-28.0,106.0,-53.0,-76.0,131.0,681.0,32.0,36.0,-43.0,-36.0,125.0,-64.0,-12.0,-29.0,-26.0,-41.0,140.0,-16.0,-77.0,53.0,-54.0,85.0,-82.0,-29.0,99.0,-137.0,226.0,-96.0,584.0,76.0,-70.0,43.0,-34.0,-13.0,79.0,-79.0,4.0,8.0,125.0,-136.0,57.0,-57.0,5.0,59.0,-64.0,65.0,2.0,596.0,376.0,7.0,-7.0,833.0,4.0,39.0,-43.0,47.0,-25.0,28.0,-19.0,43.0,-36.0,7.0,40.0,17.0,-48.0,32.0,-48.0,77.0,-67.0,44.0,-33.0,17.0,-38.0,33.0,-3.0,41.0,-38.0,21.0,665.0,1329.0,-48.0,19.0,-79.0,78.0,26.0,-104.0,40.0,-40.0,45.0,50.0,-21.0,-74.0,45.0,13.0,-27.0,-31.0,29.0,-29.0,57.0,-5.0,573.0,530.0,17.0,125.0,-26.0,-32.0,-95.0,-39.0,157.0,-32.0,-11.0,9.0,48.0,-82.0,-56.0,79.0,72.0,-6.0,-36.0,13.0,-71.0,-16.0,24.0,44.0,-97.0,87.0,-24.0,9.0,-82.0,74.0,14.0,-19.0,24.0,345.0,81.0,1392.0,509.0],\"xbins\":{\"end\":1440,\"size\":20,\"start\":-400},\"type\":\"histogram\"}],                        {\"bargap\":0.1,\"title\":{\"text\":\"Frequency of Missing Minutes\"},\"xaxis\":{\"title\":{\"text\":\"Missing Minutes\"}},\"yaxis\":{\"title\":{\"text\":\"Frequency\"}},\"template\":{\"data\":{\"histogram2dcontour\":[{\"type\":\"histogram2dcontour\",\"colorbar\":{\"outlinewidth\":0,\"ticks\":\"\"},\"colorscale\":[[0.0,\"#0d0887\"],[0.1111111111111111,\"#46039f\"],[0.2222222222222222,\"#7201a8\"],[0.3333333333333333,\"#9c179e\"],[0.4444444444444444,\"#bd3786\"],[0.5555555555555556,\"#d8576b\"],[0.6666666666666666,\"#ed7953\"],[0.7777777777777778,\"#fb9f3a\"],[0.8888888888888888,\"#fdca26\"],[1.0,\"#f0f921\"]]}],\"choropleth\":[{\"type\":\"choropleth\",\"colorbar\":{\"outlinewidth\":0,\"ticks\":\"\"}}],\"histogram2d\":[{\"type\":\"histogram2d\",\"colorbar\":{\"outlinewidth\":0,\"ticks\":\"\"},\"colorscale\":[[0.0,\"#0d0887\"],[0.1111111111111111,\"#46039f\"],[0.2222222222222222,\"#7201a8\"],[0.3333333333333333,\"#9c179e\"],[0.4444444444444444,\"#bd3786\"],[0.5555555555555556,\"#d8576b\"],[0.6666666666666666,\"#ed7953\"],[0.7777777777777778,\"#fb9f3a\"],[0.8888888888888888,\"#fdca26\"],[1.0,\"#f0f921\"]]}],\"heatmap\":[{\"type\":\"heatmap\",\"colorbar\":{\"outlinewidth\":0,\"ticks\":\"\"},\"colorscale\":[[0.0,\"#0d0887\"],[0.1111111111111111,\"#46039f\"],[0.2222222222222222,\"#7201a8\"],[0.3333333333333333,\"#9c179e\"],[0.4444444444444444,\"#bd3786\"],[0.5555555555555556,\"#d8576b\"],[0.6666666666666666,\"#ed7953\"],[0.7777777777777778,\"#fb9f3a\"],[0.8888888888888888,\"#fdca26\"],[1.0,\"#f0f921\"]]}],\"heatmapgl\":[{\"type\":\"heatmapgl\",\"colorbar\":{\"outlinewidth\":0,\"ticks\":\"\"},\"colorscale\":[[0.0,\"#0d0887\"],[0.1111111111111111,\"#46039f\"],[0.2222222222222222,\"#7201a8\"],[0.3333333333333333,\"#9c179e\"],[0.4444444444444444,\"#bd3786\"],[0.5555555555555556,\"#d8576b\"],[0.6666666666666666,\"#ed7953\"],[0.7777777777777778,\"#fb9f3a\"],[0.8888888888888888,\"#fdca26\"],[1.0,\"#f0f921\"]]}],\"contourcarpet\":[{\"type\":\"contourcarpet\",\"colorbar\":{\"outlinewidth\":0,\"ticks\":\"\"}}],\"contour\":[{\"type\":\"contour\",\"colorbar\":{\"outlinewidth\":0,\"ticks\":\"\"},\"colorscale\":[[0.0,\"#0d0887\"],[0.1111111111111111,\"#46039f\"],[0.2222222222222222,\"#7201a8\"],[0.3333333333333333,\"#9c179e\"],[0.4444444444444444,\"#bd3786\"],[0.5555555555555556,\"#d8576b\"],[0.6666666666666666,\"#ed7953\"],[0.7777777777777778,\"#fb9f3a\"],[0.8888888888888888,\"#fdca26\"],[1.0,\"#f0f921\"]]}],\"surface\":[{\"type\":\"surface\",\"colorbar\":{\"outlinewidth\":0,\"ticks\":\"\"},\"colorscale\":[[0.0,\"#0d0887\"],[0.1111111111111111,\"#46039f\"],[0.2222222222222222,\"#7201a8\"],[0.3333333333333333,\"#9c179e\"],[0.4444444444444444,\"#bd3786\"],[0.5555555555555556,\"#d8576b\"],[0.6666666666666666,\"#ed7953\"],[0.7777777777777778,\"#fb9f3a\"],[0.8888888888888888,\"#fdca26\"],[1.0,\"#f0f921\"]]}],\"mesh3d\":[{\"type\":\"mesh3d\",\"colorbar\":{\"outlinewidth\":0,\"ticks\":\"\"}}],\"scatter\":[{\"fillpattern\":{\"fillmode\":\"overlay\",\"size\":10,\"solidity\":0.2},\"type\":\"scatter\"}],\"parcoords\":[{\"type\":\"parcoords\",\"line\":{\"colorbar\":{\"outlinewidth\":0,\"ticks\":\"\"}}}],\"scatterpolargl\":[{\"type\":\"scatterpolargl\",\"marker\":{\"colorbar\":{\"outlinewidth\":0,\"ticks\":\"\"}}}],\"bar\":[{\"error_x\":{\"color\":\"#2a3f5f\"},\"error_y\":{\"color\":\"#2a3f5f\"},\"marker\":{\"line\":{\"color\":\"#E5ECF6\",\"width\":0.5},\"pattern\":{\"fillmode\":\"overlay\",\"size\":10,\"solidity\":0.2}},\"type\":\"bar\"}],\"scattergeo\":[{\"type\":\"scattergeo\",\"marker\":{\"colorbar\":{\"outlinewidth\":0,\"ticks\":\"\"}}}],\"scatterpolar\":[{\"type\":\"scatterpolar\",\"marker\":{\"colorbar\":{\"outlinewidth\":0,\"ticks\":\"\"}}}],\"histogram\":[{\"marker\":{\"pattern\":{\"fillmode\":\"overlay\",\"size\":10,\"solidity\":0.2}},\"type\":\"histogram\"}],\"scattergl\":[{\"type\":\"scattergl\",\"marker\":{\"colorbar\":{\"outlinewidth\":0,\"ticks\":\"\"}}}],\"scatter3d\":[{\"type\":\"scatter3d\",\"line\":{\"colorbar\":{\"outlinewidth\":0,\"ticks\":\"\"}},\"marker\":{\"colorbar\":{\"outlinewidth\":0,\"ticks\":\"\"}}}],\"scattermapbox\":[{\"type\":\"scattermapbox\",\"marker\":{\"colorbar\":{\"outlinewidth\":0,\"ticks\":\"\"}}}],\"scatterternary\":[{\"type\":\"scatterternary\",\"marker\":{\"colorbar\":{\"outlinewidth\":0,\"ticks\":\"\"}}}],\"scattercarpet\":[{\"type\":\"scattercarpet\",\"marker\":{\"colorbar\":{\"outlinewidth\":0,\"ticks\":\"\"}}}],\"carpet\":[{\"aaxis\":{\"endlinecolor\":\"#2a3f5f\",\"gridcolor\":\"white\",\"linecolor\":\"white\",\"minorgridcolor\":\"white\",\"startlinecolor\":\"#2a3f5f\"},\"baxis\":{\"endlinecolor\":\"#2a3f5f\",\"gridcolor\":\"white\",\"linecolor\":\"white\",\"minorgridcolor\":\"white\",\"startlinecolor\":\"#2a3f5f\"},\"type\":\"carpet\"}],\"table\":[{\"cells\":{\"fill\":{\"color\":\"#EBF0F8\"},\"line\":{\"color\":\"white\"}},\"header\":{\"fill\":{\"color\":\"#C8D4E3\"},\"line\":{\"color\":\"white\"}},\"type\":\"table\"}],\"barpolar\":[{\"marker\":{\"line\":{\"color\":\"#E5ECF6\",\"width\":0.5},\"pattern\":{\"fillmode\":\"overlay\",\"size\":10,\"solidity\":0.2}},\"type\":\"barpolar\"}],\"pie\":[{\"automargin\":true,\"type\":\"pie\"}]},\"layout\":{\"autotypenumbers\":\"strict\",\"colorway\":[\"#636efa\",\"#EF553B\",\"#00cc96\",\"#ab63fa\",\"#FFA15A\",\"#19d3f3\",\"#FF6692\",\"#B6E880\",\"#FF97FF\",\"#FECB52\"],\"font\":{\"color\":\"#2a3f5f\"},\"hovermode\":\"closest\",\"hoverlabel\":{\"align\":\"left\"},\"paper_bgcolor\":\"white\",\"plot_bgcolor\":\"#E5ECF6\",\"polar\":{\"bgcolor\":\"#E5ECF6\",\"angularaxis\":{\"gridcolor\":\"white\",\"linecolor\":\"white\",\"ticks\":\"\"},\"radialaxis\":{\"gridcolor\":\"white\",\"linecolor\":\"white\",\"ticks\":\"\"}},\"ternary\":{\"bgcolor\":\"#E5ECF6\",\"aaxis\":{\"gridcolor\":\"white\",\"linecolor\":\"white\",\"ticks\":\"\"},\"baxis\":{\"gridcolor\":\"white\",\"linecolor\":\"white\",\"ticks\":\"\"},\"caxis\":{\"gridcolor\":\"white\",\"linecolor\":\"white\",\"ticks\":\"\"}},\"coloraxis\":{\"colorbar\":{\"outlinewidth\":0,\"ticks\":\"\"}},\"colorscale\":{\"sequential\":[[0.0,\"#0d0887\"],[0.1111111111111111,\"#46039f\"],[0.2222222222222222,\"#7201a8\"],[0.3333333333333333,\"#9c179e\"],[0.4444444444444444,\"#bd3786\"],[0.5555555555555556,\"#d8576b\"],[0.6666666666666666,\"#ed7953\"],[0.7777777777777778,\"#fb9f3a\"],[0.8888888888888888,\"#fdca26\"],[1.0,\"#f0f921\"]],\"sequentialminus\":[[0.0,\"#0d0887\"],[0.1111111111111111,\"#46039f\"],[0.2222222222222222,\"#7201a8\"],[0.3333333333333333,\"#9c179e\"],[0.4444444444444444,\"#bd3786\"],[0.5555555555555556,\"#d8576b\"],[0.6666666666666666,\"#ed7953\"],[0.7777777777777778,\"#fb9f3a\"],[0.8888888888888888,\"#fdca26\"],[1.0,\"#f0f921\"]],\"diverging\":[[0,\"#8e0152\"],[0.1,\"#c51b7d\"],[0.2,\"#de77ae\"],[0.3,\"#f1b6da\"],[0.4,\"#fde0ef\"],[0.5,\"#f7f7f7\"],[0.6,\"#e6f5d0\"],[0.7,\"#b8e186\"],[0.8,\"#7fbc41\"],[0.9,\"#4d9221\"],[1,\"#276419\"]]},\"xaxis\":{\"gridcolor\":\"white\",\"linecolor\":\"white\",\"ticks\":\"\",\"title\":{\"standoff\":15},\"zerolinecolor\":\"white\",\"automargin\":true,\"zerolinewidth\":2},\"yaxis\":{\"gridcolor\":\"white\",\"linecolor\":\"white\",\"ticks\":\"\",\"title\":{\"standoff\":15},\"zerolinecolor\":\"white\",\"automargin\":true,\"zerolinewidth\":2},\"scene\":{\"xaxis\":{\"backgroundcolor\":\"#E5ECF6\",\"gridcolor\":\"white\",\"linecolor\":\"white\",\"showbackground\":true,\"ticks\":\"\",\"zerolinecolor\":\"white\",\"gridwidth\":2},\"yaxis\":{\"backgroundcolor\":\"#E5ECF6\",\"gridcolor\":\"white\",\"linecolor\":\"white\",\"showbackground\":true,\"ticks\":\"\",\"zerolinecolor\":\"white\",\"gridwidth\":2},\"zaxis\":{\"backgroundcolor\":\"#E5ECF6\",\"gridcolor\":\"white\",\"linecolor\":\"white\",\"showbackground\":true,\"ticks\":\"\",\"zerolinecolor\":\"white\",\"gridwidth\":2}},\"shapedefaults\":{\"line\":{\"color\":\"#2a3f5f\"}},\"annotationdefaults\":{\"arrowcolor\":\"#2a3f5f\",\"arrowhead\":0,\"arrowwidth\":1},\"geo\":{\"bgcolor\":\"white\",\"landcolor\":\"#E5ECF6\",\"subunitcolor\":\"white\",\"showland\":true,\"showlakes\":true,\"lakecolor\":\"white\"},\"title\":{\"x\":0.05},\"mapbox\":{\"style\":\"light\"}}}},                        {\"responsive\": true}                    ).then(function(){\n",
       "                            \n",
       "var gd = document.getElementById('0573c99b-284c-4028-993e-a2a4ab95da35');\n",
       "var x = new MutationObserver(function (mutations, observer) {{\n",
       "        var display = window.getComputedStyle(gd).display;\n",
       "        if (!display || display === 'none') {{\n",
       "            console.log([gd, 'removed!']);\n",
       "            Plotly.purge(gd);\n",
       "            observer.disconnect();\n",
       "        }}\n",
       "}});\n",
       "\n",
       "// Listen for the removal of the full notebook cells\n",
       "var notebookContainer = gd.closest('#notebook-container');\n",
       "if (notebookContainer) {{\n",
       "    x.observe(notebookContainer, {childList: true});\n",
       "}}\n",
       "\n",
       "// Listen for the clearing of the current output cell\n",
       "var outputEl = gd.closest('.output');\n",
       "if (outputEl) {{\n",
       "    x.observe(outputEl, {childList: true});\n",
       "}}\n",
       "\n",
       "                        })                };                });            </script>        </div>"
      ]
     },
     "metadata": {},
     "output_type": "display_data"
    }
   ],
   "source": [
    "filtered_data = df_activity[df_activity['Missing_Mins'] != 0]\n",
    "\n",
    "# Create a scatter plot\n",
    "fig = go.Figure(data=go.Scatter(x=filtered_data['Missing_Mins'],y=df_activity['ActivityDate'],mode='markers',hovertemplate='Missing minutes: %{x}<br> %{y}',marker=dict(\n",
    "        color=filtered_data['Missing_Mins'], colorscale='Portland', colorbar=dict(title='Missing Minutes')), name=''))\n",
    "\n",
    "# Customize layout\n",
    "fig.update_layout(\n",
    "    title='Missing Mins per Date for all users', xaxis_title='Missing Minutes',yaxis_title='Date',\n",
    "    yaxis=dict(tickvals=df_activity['ActivityDate'],autorange='reversed',),height=750)\n",
    "\n",
    "# Show plot\n",
    "fig.show()\n",
    "\n",
    "###############################################################################################################\n",
    "\n",
    "\n",
    "# Create histogram trace\n",
    "histogram_trace = go.Histogram(x=filtered_data['Missing_Mins'],xbins=dict(start=-400, end=1440, size=20),hoverinfo='x+text',text=None,\n",
    "                               hovertemplate='Number of missing minutes: %{x}<br>Frequency: %{y}',name='')\n",
    "\n",
    "# Create layout\n",
    "layout = go.Layout(title='Frequency of Missing Minutes', xaxis=dict(title='Missing Minutes'), yaxis=dict(title='Frequency'), bargap=0.1)\n",
    "\n",
    "# Create figure\n",
    "fig = go.Figure(data=[histogram_trace], layout=layout)\n",
    "\n",
    "# Show plot\n",
    "fig.show()"
   ]
  },
  {
   "cell_type": "markdown",
   "id": "2f349925",
   "metadata": {
    "papermill": {
     "duration": 0.023529,
     "end_time": "2024-05-16T18:47:35.747065",
     "exception": false,
     "start_time": "2024-05-16T18:47:35.723536",
     "status": "completed"
    },
    "tags": []
   },
   "source": [
    "<p style=\"font-size:18px;\"> Overall the there is a small discrepancy of missing minutes which I have been unable to fully eliminate. It appears that the missing minute values over 250 appear to be anomalous. I would need to raise these points of concern with the stakeholders to understand why this is the case. \n",
    "    \n",
    "<p style=\"font-size:18px;\"> Despite the data not correctly matching the minutes in a day I will continue with the analysis with the assumption that the missing data is due to users charging their devices or minutes being double counted. However in reality I have no way to know if this is correct and is somthing that will be raised to the stakeholders of this case study.\n",
    "    \n",
    "<p style=\"font-size:18px;\"> Moving on, I decided to review the steps the users were taking per day. Using my previously created \"Day_of_week\" column I found the average steps per day of the week and plotted this data on a bar chart to determine if there were any trends in the number of steps users were taking per day. Please see the bar chart below. "
   ]
  },
  {
   "cell_type": "code",
   "execution_count": 16,
   "id": "78637eb5",
   "metadata": {
    "execution": {
     "iopub.execute_input": "2024-05-16T18:47:35.795621Z",
     "iopub.status.busy": "2024-05-16T18:47:35.795142Z",
     "iopub.status.idle": "2024-05-16T18:47:35.828800Z",
     "shell.execute_reply": "2024-05-16T18:47:35.827629Z"
    },
    "papermill": {
     "duration": 0.061025,
     "end_time": "2024-05-16T18:47:35.831511",
     "exception": false,
     "start_time": "2024-05-16T18:47:35.770486",
     "status": "completed"
    },
    "tags": []
   },
   "outputs": [
    {
     "data": {
      "text/html": [
       "<div>                            <div id=\"fcf1d093-381b-4833-9a9f-64fea4e36543\" class=\"plotly-graph-div\" style=\"height:525px; width:100%;\"></div>            <script type=\"text/javascript\">                require([\"plotly\"], function(Plotly) {                    window.PLOTLYENV=window.PLOTLYENV || {};                                    if (document.getElementById(\"fcf1d093-381b-4833-9a9f-64fea4e36543\")) {                    Plotly.newPlot(                        \"fcf1d093-381b-4833-9a9f-64fea4e36543\",                        [{\"hovertemplate\":\"%{x}:\\u003cbr\\u003e Average No. of Steps %{y}\",\"name\":\"\",\"x\":[\"Monday\",\"Tuesday\",\"Wednesday\",\"Thursday\",\"Friday\",\"Saturday\",\"Sunday\"],\"y\":[7780.9,8125.0,7559.4,7405.8,7448.2,8153.0,6933.2],\"type\":\"bar\"}],                        {\"title\":{\"text\":\"Average Steps per Day of the Week\"},\"xaxis\":{\"title\":{\"text\":\"Day of the Week\"}},\"yaxis\":{\"title\":{\"text\":\"Average Steps\"}},\"template\":{\"data\":{\"histogram2dcontour\":[{\"type\":\"histogram2dcontour\",\"colorbar\":{\"outlinewidth\":0,\"ticks\":\"\"},\"colorscale\":[[0.0,\"#0d0887\"],[0.1111111111111111,\"#46039f\"],[0.2222222222222222,\"#7201a8\"],[0.3333333333333333,\"#9c179e\"],[0.4444444444444444,\"#bd3786\"],[0.5555555555555556,\"#d8576b\"],[0.6666666666666666,\"#ed7953\"],[0.7777777777777778,\"#fb9f3a\"],[0.8888888888888888,\"#fdca26\"],[1.0,\"#f0f921\"]]}],\"choropleth\":[{\"type\":\"choropleth\",\"colorbar\":{\"outlinewidth\":0,\"ticks\":\"\"}}],\"histogram2d\":[{\"type\":\"histogram2d\",\"colorbar\":{\"outlinewidth\":0,\"ticks\":\"\"},\"colorscale\":[[0.0,\"#0d0887\"],[0.1111111111111111,\"#46039f\"],[0.2222222222222222,\"#7201a8\"],[0.3333333333333333,\"#9c179e\"],[0.4444444444444444,\"#bd3786\"],[0.5555555555555556,\"#d8576b\"],[0.6666666666666666,\"#ed7953\"],[0.7777777777777778,\"#fb9f3a\"],[0.8888888888888888,\"#fdca26\"],[1.0,\"#f0f921\"]]}],\"heatmap\":[{\"type\":\"heatmap\",\"colorbar\":{\"outlinewidth\":0,\"ticks\":\"\"},\"colorscale\":[[0.0,\"#0d0887\"],[0.1111111111111111,\"#46039f\"],[0.2222222222222222,\"#7201a8\"],[0.3333333333333333,\"#9c179e\"],[0.4444444444444444,\"#bd3786\"],[0.5555555555555556,\"#d8576b\"],[0.6666666666666666,\"#ed7953\"],[0.7777777777777778,\"#fb9f3a\"],[0.8888888888888888,\"#fdca26\"],[1.0,\"#f0f921\"]]}],\"heatmapgl\":[{\"type\":\"heatmapgl\",\"colorbar\":{\"outlinewidth\":0,\"ticks\":\"\"},\"colorscale\":[[0.0,\"#0d0887\"],[0.1111111111111111,\"#46039f\"],[0.2222222222222222,\"#7201a8\"],[0.3333333333333333,\"#9c179e\"],[0.4444444444444444,\"#bd3786\"],[0.5555555555555556,\"#d8576b\"],[0.6666666666666666,\"#ed7953\"],[0.7777777777777778,\"#fb9f3a\"],[0.8888888888888888,\"#fdca26\"],[1.0,\"#f0f921\"]]}],\"contourcarpet\":[{\"type\":\"contourcarpet\",\"colorbar\":{\"outlinewidth\":0,\"ticks\":\"\"}}],\"contour\":[{\"type\":\"contour\",\"colorbar\":{\"outlinewidth\":0,\"ticks\":\"\"},\"colorscale\":[[0.0,\"#0d0887\"],[0.1111111111111111,\"#46039f\"],[0.2222222222222222,\"#7201a8\"],[0.3333333333333333,\"#9c179e\"],[0.4444444444444444,\"#bd3786\"],[0.5555555555555556,\"#d8576b\"],[0.6666666666666666,\"#ed7953\"],[0.7777777777777778,\"#fb9f3a\"],[0.8888888888888888,\"#fdca26\"],[1.0,\"#f0f921\"]]}],\"surface\":[{\"type\":\"surface\",\"colorbar\":{\"outlinewidth\":0,\"ticks\":\"\"},\"colorscale\":[[0.0,\"#0d0887\"],[0.1111111111111111,\"#46039f\"],[0.2222222222222222,\"#7201a8\"],[0.3333333333333333,\"#9c179e\"],[0.4444444444444444,\"#bd3786\"],[0.5555555555555556,\"#d8576b\"],[0.6666666666666666,\"#ed7953\"],[0.7777777777777778,\"#fb9f3a\"],[0.8888888888888888,\"#fdca26\"],[1.0,\"#f0f921\"]]}],\"mesh3d\":[{\"type\":\"mesh3d\",\"colorbar\":{\"outlinewidth\":0,\"ticks\":\"\"}}],\"scatter\":[{\"fillpattern\":{\"fillmode\":\"overlay\",\"size\":10,\"solidity\":0.2},\"type\":\"scatter\"}],\"parcoords\":[{\"type\":\"parcoords\",\"line\":{\"colorbar\":{\"outlinewidth\":0,\"ticks\":\"\"}}}],\"scatterpolargl\":[{\"type\":\"scatterpolargl\",\"marker\":{\"colorbar\":{\"outlinewidth\":0,\"ticks\":\"\"}}}],\"bar\":[{\"error_x\":{\"color\":\"#2a3f5f\"},\"error_y\":{\"color\":\"#2a3f5f\"},\"marker\":{\"line\":{\"color\":\"#E5ECF6\",\"width\":0.5},\"pattern\":{\"fillmode\":\"overlay\",\"size\":10,\"solidity\":0.2}},\"type\":\"bar\"}],\"scattergeo\":[{\"type\":\"scattergeo\",\"marker\":{\"colorbar\":{\"outlinewidth\":0,\"ticks\":\"\"}}}],\"scatterpolar\":[{\"type\":\"scatterpolar\",\"marker\":{\"colorbar\":{\"outlinewidth\":0,\"ticks\":\"\"}}}],\"histogram\":[{\"marker\":{\"pattern\":{\"fillmode\":\"overlay\",\"size\":10,\"solidity\":0.2}},\"type\":\"histogram\"}],\"scattergl\":[{\"type\":\"scattergl\",\"marker\":{\"colorbar\":{\"outlinewidth\":0,\"ticks\":\"\"}}}],\"scatter3d\":[{\"type\":\"scatter3d\",\"line\":{\"colorbar\":{\"outlinewidth\":0,\"ticks\":\"\"}},\"marker\":{\"colorbar\":{\"outlinewidth\":0,\"ticks\":\"\"}}}],\"scattermapbox\":[{\"type\":\"scattermapbox\",\"marker\":{\"colorbar\":{\"outlinewidth\":0,\"ticks\":\"\"}}}],\"scatterternary\":[{\"type\":\"scatterternary\",\"marker\":{\"colorbar\":{\"outlinewidth\":0,\"ticks\":\"\"}}}],\"scattercarpet\":[{\"type\":\"scattercarpet\",\"marker\":{\"colorbar\":{\"outlinewidth\":0,\"ticks\":\"\"}}}],\"carpet\":[{\"aaxis\":{\"endlinecolor\":\"#2a3f5f\",\"gridcolor\":\"white\",\"linecolor\":\"white\",\"minorgridcolor\":\"white\",\"startlinecolor\":\"#2a3f5f\"},\"baxis\":{\"endlinecolor\":\"#2a3f5f\",\"gridcolor\":\"white\",\"linecolor\":\"white\",\"minorgridcolor\":\"white\",\"startlinecolor\":\"#2a3f5f\"},\"type\":\"carpet\"}],\"table\":[{\"cells\":{\"fill\":{\"color\":\"#EBF0F8\"},\"line\":{\"color\":\"white\"}},\"header\":{\"fill\":{\"color\":\"#C8D4E3\"},\"line\":{\"color\":\"white\"}},\"type\":\"table\"}],\"barpolar\":[{\"marker\":{\"line\":{\"color\":\"#E5ECF6\",\"width\":0.5},\"pattern\":{\"fillmode\":\"overlay\",\"size\":10,\"solidity\":0.2}},\"type\":\"barpolar\"}],\"pie\":[{\"automargin\":true,\"type\":\"pie\"}]},\"layout\":{\"autotypenumbers\":\"strict\",\"colorway\":[\"#636efa\",\"#EF553B\",\"#00cc96\",\"#ab63fa\",\"#FFA15A\",\"#19d3f3\",\"#FF6692\",\"#B6E880\",\"#FF97FF\",\"#FECB52\"],\"font\":{\"color\":\"#2a3f5f\"},\"hovermode\":\"closest\",\"hoverlabel\":{\"align\":\"left\"},\"paper_bgcolor\":\"white\",\"plot_bgcolor\":\"#E5ECF6\",\"polar\":{\"bgcolor\":\"#E5ECF6\",\"angularaxis\":{\"gridcolor\":\"white\",\"linecolor\":\"white\",\"ticks\":\"\"},\"radialaxis\":{\"gridcolor\":\"white\",\"linecolor\":\"white\",\"ticks\":\"\"}},\"ternary\":{\"bgcolor\":\"#E5ECF6\",\"aaxis\":{\"gridcolor\":\"white\",\"linecolor\":\"white\",\"ticks\":\"\"},\"baxis\":{\"gridcolor\":\"white\",\"linecolor\":\"white\",\"ticks\":\"\"},\"caxis\":{\"gridcolor\":\"white\",\"linecolor\":\"white\",\"ticks\":\"\"}},\"coloraxis\":{\"colorbar\":{\"outlinewidth\":0,\"ticks\":\"\"}},\"colorscale\":{\"sequential\":[[0.0,\"#0d0887\"],[0.1111111111111111,\"#46039f\"],[0.2222222222222222,\"#7201a8\"],[0.3333333333333333,\"#9c179e\"],[0.4444444444444444,\"#bd3786\"],[0.5555555555555556,\"#d8576b\"],[0.6666666666666666,\"#ed7953\"],[0.7777777777777778,\"#fb9f3a\"],[0.8888888888888888,\"#fdca26\"],[1.0,\"#f0f921\"]],\"sequentialminus\":[[0.0,\"#0d0887\"],[0.1111111111111111,\"#46039f\"],[0.2222222222222222,\"#7201a8\"],[0.3333333333333333,\"#9c179e\"],[0.4444444444444444,\"#bd3786\"],[0.5555555555555556,\"#d8576b\"],[0.6666666666666666,\"#ed7953\"],[0.7777777777777778,\"#fb9f3a\"],[0.8888888888888888,\"#fdca26\"],[1.0,\"#f0f921\"]],\"diverging\":[[0,\"#8e0152\"],[0.1,\"#c51b7d\"],[0.2,\"#de77ae\"],[0.3,\"#f1b6da\"],[0.4,\"#fde0ef\"],[0.5,\"#f7f7f7\"],[0.6,\"#e6f5d0\"],[0.7,\"#b8e186\"],[0.8,\"#7fbc41\"],[0.9,\"#4d9221\"],[1,\"#276419\"]]},\"xaxis\":{\"gridcolor\":\"white\",\"linecolor\":\"white\",\"ticks\":\"\",\"title\":{\"standoff\":15},\"zerolinecolor\":\"white\",\"automargin\":true,\"zerolinewidth\":2},\"yaxis\":{\"gridcolor\":\"white\",\"linecolor\":\"white\",\"ticks\":\"\",\"title\":{\"standoff\":15},\"zerolinecolor\":\"white\",\"automargin\":true,\"zerolinewidth\":2},\"scene\":{\"xaxis\":{\"backgroundcolor\":\"#E5ECF6\",\"gridcolor\":\"white\",\"linecolor\":\"white\",\"showbackground\":true,\"ticks\":\"\",\"zerolinecolor\":\"white\",\"gridwidth\":2},\"yaxis\":{\"backgroundcolor\":\"#E5ECF6\",\"gridcolor\":\"white\",\"linecolor\":\"white\",\"showbackground\":true,\"ticks\":\"\",\"zerolinecolor\":\"white\",\"gridwidth\":2},\"zaxis\":{\"backgroundcolor\":\"#E5ECF6\",\"gridcolor\":\"white\",\"linecolor\":\"white\",\"showbackground\":true,\"ticks\":\"\",\"zerolinecolor\":\"white\",\"gridwidth\":2}},\"shapedefaults\":{\"line\":{\"color\":\"#2a3f5f\"}},\"annotationdefaults\":{\"arrowcolor\":\"#2a3f5f\",\"arrowhead\":0,\"arrowwidth\":1},\"geo\":{\"bgcolor\":\"white\",\"landcolor\":\"#E5ECF6\",\"subunitcolor\":\"white\",\"showland\":true,\"showlakes\":true,\"lakecolor\":\"white\"},\"title\":{\"x\":0.05},\"mapbox\":{\"style\":\"light\"}}}},                        {\"responsive\": true}                    ).then(function(){\n",
       "                            \n",
       "var gd = document.getElementById('fcf1d093-381b-4833-9a9f-64fea4e36543');\n",
       "var x = new MutationObserver(function (mutations, observer) {{\n",
       "        var display = window.getComputedStyle(gd).display;\n",
       "        if (!display || display === 'none') {{\n",
       "            console.log([gd, 'removed!']);\n",
       "            Plotly.purge(gd);\n",
       "            observer.disconnect();\n",
       "        }}\n",
       "}});\n",
       "\n",
       "// Listen for the removal of the full notebook cells\n",
       "var notebookContainer = gd.closest('#notebook-container');\n",
       "if (notebookContainer) {{\n",
       "    x.observe(notebookContainer, {childList: true});\n",
       "}}\n",
       "\n",
       "// Listen for the clearing of the current output cell\n",
       "var outputEl = gd.closest('.output');\n",
       "if (outputEl) {{\n",
       "    x.observe(outputEl, {childList: true});\n",
       "}}\n",
       "\n",
       "                        })                };                });            </script>        </div>"
      ]
     },
     "metadata": {},
     "output_type": "display_data"
    },
    {
     "name": "stdout",
     "output_type": "stream",
     "text": [
      "Average daily steps across total dataset: 7637.91\n"
     ]
    }
   ],
   "source": [
    "# Grouping by Day and calculating the average of StepTotal\n",
    "average_steps_per_day = df_activity.groupby(\"Day_of_week\", observed=True)[\"TotalSteps\"].mean().round(1)\n",
    "\n",
    "# Sort the data by the order of days\n",
    "days_order = ['Monday', 'Tuesday', 'Wednesday', 'Thursday', 'Friday', 'Saturday', 'Sunday']\n",
    "average_steps_per_day = average_steps_per_day.reindex(days_order)\n",
    "\n",
    "# Create bar trace\n",
    "trace = go.Bar(x=average_steps_per_day.index, y=average_steps_per_day.values,hovertemplate='%{x}:<br> Average No. of Steps %{y}',name='')\n",
    "\n",
    "# Create layout\n",
    "layout = go.Layout(title='Average Steps per Day of the Week', xaxis=dict(title='Day of the Week'), yaxis=dict(title='Average Steps'))\n",
    "\n",
    "# Create figure\n",
    "fig = go.Figure(data=[trace], layout=layout)\n",
    "\n",
    "# Show plot\n",
    "fig.show()\n",
    "\n",
    "# Calculate and print the average daily steps across the total dataset\n",
    "print(\"Average daily steps across total dataset:\", round(df_activity[\"TotalSteps\"].mean(), 2))"
   ]
  },
  {
   "cell_type": "markdown",
   "id": "20b5960f",
   "metadata": {
    "papermill": {
     "duration": 0.023789,
     "end_time": "2024-05-16T18:47:35.878865",
     "exception": false,
     "start_time": "2024-05-16T18:47:35.855076",
     "status": "completed"
    },
    "tags": []
   },
   "source": [
    "<p style=\"font-size:18px;\"> The bar chart unfortunately does not show any obvious trends, the average number of steps remains mostly flat. Saturday and Tuesday having the highest average steps and Sunday having the lowest average steps. With the average number of steps per day across the full dataset was 7,637.\n",
    "\n",
    "<p style=\"font-size:18px;\"> To dive deeper I decided to plot the number of steps per user per date on the graph below to see if there would be any trends. For example as the dates became closer to summer and the days become longer and sunnier wheather this would lead users to take more steps. Unfortunately I do not know the location of the users or what the weather was per day in the area of the world where the users are located so this may not show any trends. Please see the plot below for the results.\n",
    "    "
   ]
  },
  {
   "cell_type": "code",
   "execution_count": 17,
   "id": "a5b50e46",
   "metadata": {
    "execution": {
     "iopub.execute_input": "2024-05-16T18:47:35.926876Z",
     "iopub.status.busy": "2024-05-16T18:47:35.926390Z",
     "iopub.status.idle": "2024-05-16T18:47:35.998973Z",
     "shell.execute_reply": "2024-05-16T18:47:35.998098Z"
    },
    "papermill": {
     "duration": 0.100891,
     "end_time": "2024-05-16T18:47:36.002722",
     "exception": false,
     "start_time": "2024-05-16T18:47:35.901831",
     "status": "completed"
    },
    "tags": []
   },
   "outputs": [
    {
     "data": {
      "text/html": [
       "<div>                            <div id=\"99554dc9-2d3e-4f43-b70c-2fd949da31e4\" class=\"plotly-graph-div\" style=\"height:750px; width:100%;\"></div>            <script type=\"text/javascript\">                require([\"plotly\"], function(Plotly) {                    window.PLOTLYENV=window.PLOTLYENV || {};                                    if (document.getElementById(\"99554dc9-2d3e-4f43-b70c-2fd949da31e4\")) {                    Plotly.newPlot(                        \"99554dc9-2d3e-4f43-b70c-2fd949da31e4\",                        [{\"hovertemplate\":\"Steps: %{x}\\u003cbr\\u003e%{y}\",\"marker\":{\"color\":[13162,10735,10460,9762,12669,9705,13019,15506,10544,9819,12764,14371,10039,15355,13755,18134,13154,11181,14673,10602,14727,15103,11100,14070,12159,11992,10060,12022,12207,12770,0,8163,7007,9107,1510,5370,6175,10536,2916,4974,6349,4026,8538,6076,6497,2826,8367,2759,2390,6474,36019,7155,2100,2193,2470,1727,2104,3427,1732,2969,3134,2971,10694,8001,11037,5263,15300,8757,7132,11256,2436,1223,3673,6637,3321,3580,9919,3032,9405,3176,18213,6132,3758,12850,2309,4363,9787,13372,6724,6643,9167,1329,6697,4929,7937,3844,3414,4525,4597,197,8,8054,5372,3570,0,0,0,4,6907,4920,4014,2573,0,4059,2080,2237,44,0,0,0,0,0,0,678,356,2163,980,0,0,244,0,0,0,149,2945,2090,152,3761,0,1675,0,0,2704,3790,1326,1786,0,2091,1510,0,0,0,0,0,11875,12024,10690,11034,10100,15112,14131,11548,15112,12453,12954,6001,13481,11369,10119,10159,10140,10245,18387,10538,10379,12183,11768,11895,10227,6708,3292,13379,12798,13272,9117,4414,4993,3335,3821,2547,838,3325,2424,7222,2467,2915,12357,3490,6017,5933,6088,6375,7604,4729,3609,7018,5992,6564,12167,8198,4193,5528,10685,254,8580,8891,10725,7275,3973,5205,5057,6198,6559,5997,7192,3404,5583,5079,4165,3588,3409,1715,1532,924,4571,772,3634,7443,1201,5202,4878,7379,5161,3090,6227,6424,2661,10113,10352,10129,10465,22244,5472,8247,6711,10999,10080,7804,16901,9471,9482,5980,11423,5439,42,8796,7618,7910,8482,9685,2524,7762,7948,9202,8859,7286,9317,6873,7373,8242,3516,7913,7365,8452,7399,7525,7412,8278,8314,7063,4940,8168,7726,8275,6440,7566,4747,9715,8844,7451,6905,8199,6798,7711,4880,8857,3843,7396,6731,5995,8283,7904,5512,9135,5250,3077,8856,10035,7641,9010,13459,10415,11663,12414,11658,6093,8911,12058,14112,11177,11388,7193,7114,10645,13238,10414,16520,14335,13559,12312,11677,11550,13585,14687,13072,746,8539,0,108,1882,1982,16,62,0,0,0,0,0,0,0,0,0,0,0,0,0,475,4496,10252,11728,4369,6132,5862,4556,5546,3689,590,5394,5974,0,3984,7753,8204,10210,5664,4744,29,2276,8925,8954,3702,4500,4935,4081,9259,9899,10780,10817,7990,8221,1251,9261,9648,10429,13658,9524,7937,3672,10378,9487,9129,17,10122,10993,8863,8758,6580,4660,11009,10181,10553,10055,12139,13236,10243,12961,9461,11193,10074,9232,12533,10255,10096,12727,12375,9603,13175,22770,17298,10218,10299,10201,3369,3276,2961,3974,7198,3945,2268,6155,2064,2072,3809,6831,4363,5002,3385,6326,7243,4493,4676,6222,5232,6910,7502,2923,3800,4514,5183,7303,5275,3915,9105,768,5135,4978,6799,7795,7289,9634,8940,5401,4803,13743,9601,6890,8563,8095,9148,9557,9451,7833,10319,3428,7891,5267,5232,10611,3755,8237,6543,11451,6435,9108,6307,7213,6877,7860,6506,11140,12692,9105,6708,8793,6530,1664,15126,15050,9167,6108,7047,9023,9930,10144,0,7245,9454,8161,8614,6943,14370,12857,8232,10613,9810,2752,11596,4832,17022,16556,5771,655,3727,15482,2713,12346,11682,4112,1807,10946,11886,10538,11393,12764,1202,5164,9769,12848,4249,14331,9632,1868,6083,11611,16358,4926,3121,8135,5077,8596,12087,14269,12231,9893,12574,8330,10830,9172,7638,15764,6393,5325,6805,9841,7924,12363,13368,7439,11045,5206,7550,4950,0,0,3421,8869,4038,0,0,0,14019,14450,7150,5153,11135,10449,19542,8206,11495,7623,0,9543,9411,3403,9592,6987,8915,4933,0,2997,9799,3365,7336,7328,4477,4562,7142,7671,9501,8301,7851,6885,7142,6361,0,6238,0,5896,7802,0,5565,5731,0,6744,9837,6781,6047,5832,6339,6116,5510,7706,6277,0,0,4053,5162,1282,4732,2497,8294,0,10771,0,637,0,2153,6474,7091,0,703,0,2503,2487,0,9,0,0,4697,1967,10199,5652,1551,5563,13217,10145,11404,10742,13928,11835,10725,20031,5029,13239,10433,10320,12627,10762,10081,5454,12912,12109,10147,10524,5908,6815,4188,12342,15448,6722,3587,14172,12862,11179,5273,4631,8059,14816,14194,15566,13744,15299,8093,11085,18229,15090,13541,15128,20067,3761,5600,13041,14510,0,15010,11459,0,11317,5813,9123,8585,31,0,9827,10688,14365,9469,9753,2817,3520,10091,10387,11107,11584,7881,14560,12390,10052,10288,10988,8564,12461,12827,10677,13566,14433,9572,3789,18060,16433,20159,20669,14549,18827,17076,15929,15108,16057,10520,22359,22988,20500,12685,12422,15447,12315,7135,1170,1969,15484,14581,14990,13953,19769,22026,12465,14810,12209,4998,9033,8053,5234,2672,9256,10204,5151,4212,6466,11268,2824,9282,8905,6829,4562,10232,2718,6260,0,7626,12386,13318,14461,11207,2132,13630,13070,9388,15148,12200,5709,3703,12405,16208,7359,5417,6175,2946,11419,6064,8712,7875,8567,7045,4468,2943,8382,6582,9143,4561,5014,5571,3135,3430,5319,3008,3864,5697,5273,8538,8687,9423,8286,4503,10499,12474,6174,15168,10085,4512,8469,12015,3588,12427,5843,6117,9217,9877,8240,8701,0,2564,1320,1219,2483,244,0,0,0,3147,144,4068,5245,400,0,1321,1758,6157,8360,7174,1619,1831,2421,2283,0,0,0,0,0,0,23186,15337,21129,13422,29326,15118,11423,18785,19948,19377,18258,11200,16674,12986,11101,23629,14890,9733,27745,10930,4790,10818,18193,14055,21727,12332,10686,20226,10733,21420,8064],\"colorbar\":{\"title\":{\"text\":\"Total Steps\"}},\"colorscale\":[[0.0,\"rgb(217,30,30)\"],[0.25,\"rgb(242,143,56)\"],[0.5,\"rgb(242,211,56)\"],[0.75,\"rgb(10,136,186)\"],[1.0,\"rgb(12,51,131)\"]]},\"mode\":\"markers\",\"name\":\"\",\"showlegend\":false,\"x\":[13162,10735,10460,9762,12669,9705,13019,15506,10544,9819,12764,14371,10039,15355,13755,18134,13154,11181,14673,10602,14727,15103,11100,14070,12159,11992,10060,12022,12207,12770,0,8163,7007,9107,1510,5370,6175,10536,2916,4974,6349,4026,8538,6076,6497,2826,8367,2759,2390,6474,36019,7155,2100,2193,2470,1727,2104,3427,1732,2969,3134,2971,10694,8001,11037,5263,15300,8757,7132,11256,2436,1223,3673,6637,3321,3580,9919,3032,9405,3176,18213,6132,3758,12850,2309,4363,9787,13372,6724,6643,9167,1329,6697,4929,7937,3844,3414,4525,4597,197,8,8054,5372,3570,0,0,0,4,6907,4920,4014,2573,0,4059,2080,2237,44,0,0,0,0,0,0,678,356,2163,980,0,0,244,0,0,0,149,2945,2090,152,3761,0,1675,0,0,2704,3790,1326,1786,0,2091,1510,0,0,0,0,0,11875,12024,10690,11034,10100,15112,14131,11548,15112,12453,12954,6001,13481,11369,10119,10159,10140,10245,18387,10538,10379,12183,11768,11895,10227,6708,3292,13379,12798,13272,9117,4414,4993,3335,3821,2547,838,3325,2424,7222,2467,2915,12357,3490,6017,5933,6088,6375,7604,4729,3609,7018,5992,6564,12167,8198,4193,5528,10685,254,8580,8891,10725,7275,3973,5205,5057,6198,6559,5997,7192,3404,5583,5079,4165,3588,3409,1715,1532,924,4571,772,3634,7443,1201,5202,4878,7379,5161,3090,6227,6424,2661,10113,10352,10129,10465,22244,5472,8247,6711,10999,10080,7804,16901,9471,9482,5980,11423,5439,42,8796,7618,7910,8482,9685,2524,7762,7948,9202,8859,7286,9317,6873,7373,8242,3516,7913,7365,8452,7399,7525,7412,8278,8314,7063,4940,8168,7726,8275,6440,7566,4747,9715,8844,7451,6905,8199,6798,7711,4880,8857,3843,7396,6731,5995,8283,7904,5512,9135,5250,3077,8856,10035,7641,9010,13459,10415,11663,12414,11658,6093,8911,12058,14112,11177,11388,7193,7114,10645,13238,10414,16520,14335,13559,12312,11677,11550,13585,14687,13072,746,8539,0,108,1882,1982,16,62,0,0,0,0,0,0,0,0,0,0,0,0,0,475,4496,10252,11728,4369,6132,5862,4556,5546,3689,590,5394,5974,0,3984,7753,8204,10210,5664,4744,29,2276,8925,8954,3702,4500,4935,4081,9259,9899,10780,10817,7990,8221,1251,9261,9648,10429,13658,9524,7937,3672,10378,9487,9129,17,10122,10993,8863,8758,6580,4660,11009,10181,10553,10055,12139,13236,10243,12961,9461,11193,10074,9232,12533,10255,10096,12727,12375,9603,13175,22770,17298,10218,10299,10201,3369,3276,2961,3974,7198,3945,2268,6155,2064,2072,3809,6831,4363,5002,3385,6326,7243,4493,4676,6222,5232,6910,7502,2923,3800,4514,5183,7303,5275,3915,9105,768,5135,4978,6799,7795,7289,9634,8940,5401,4803,13743,9601,6890,8563,8095,9148,9557,9451,7833,10319,3428,7891,5267,5232,10611,3755,8237,6543,11451,6435,9108,6307,7213,6877,7860,6506,11140,12692,9105,6708,8793,6530,1664,15126,15050,9167,6108,7047,9023,9930,10144,0,7245,9454,8161,8614,6943,14370,12857,8232,10613,9810,2752,11596,4832,17022,16556,5771,655,3727,15482,2713,12346,11682,4112,1807,10946,11886,10538,11393,12764,1202,5164,9769,12848,4249,14331,9632,1868,6083,11611,16358,4926,3121,8135,5077,8596,12087,14269,12231,9893,12574,8330,10830,9172,7638,15764,6393,5325,6805,9841,7924,12363,13368,7439,11045,5206,7550,4950,0,0,3421,8869,4038,0,0,0,14019,14450,7150,5153,11135,10449,19542,8206,11495,7623,0,9543,9411,3403,9592,6987,8915,4933,0,2997,9799,3365,7336,7328,4477,4562,7142,7671,9501,8301,7851,6885,7142,6361,0,6238,0,5896,7802,0,5565,5731,0,6744,9837,6781,6047,5832,6339,6116,5510,7706,6277,0,0,4053,5162,1282,4732,2497,8294,0,10771,0,637,0,2153,6474,7091,0,703,0,2503,2487,0,9,0,0,4697,1967,10199,5652,1551,5563,13217,10145,11404,10742,13928,11835,10725,20031,5029,13239,10433,10320,12627,10762,10081,5454,12912,12109,10147,10524,5908,6815,4188,12342,15448,6722,3587,14172,12862,11179,5273,4631,8059,14816,14194,15566,13744,15299,8093,11085,18229,15090,13541,15128,20067,3761,5600,13041,14510,0,15010,11459,0,11317,5813,9123,8585,31,0,9827,10688,14365,9469,9753,2817,3520,10091,10387,11107,11584,7881,14560,12390,10052,10288,10988,8564,12461,12827,10677,13566,14433,9572,3789,18060,16433,20159,20669,14549,18827,17076,15929,15108,16057,10520,22359,22988,20500,12685,12422,15447,12315,7135,1170,1969,15484,14581,14990,13953,19769,22026,12465,14810,12209,4998,9033,8053,5234,2672,9256,10204,5151,4212,6466,11268,2824,9282,8905,6829,4562,10232,2718,6260,0,7626,12386,13318,14461,11207,2132,13630,13070,9388,15148,12200,5709,3703,12405,16208,7359,5417,6175,2946,11419,6064,8712,7875,8567,7045,4468,2943,8382,6582,9143,4561,5014,5571,3135,3430,5319,3008,3864,5697,5273,8538,8687,9423,8286,4503,10499,12474,6174,15168,10085,4512,8469,12015,3588,12427,5843,6117,9217,9877,8240,8701,0,2564,1320,1219,2483,244,0,0,0,3147,144,4068,5245,400,0,1321,1758,6157,8360,7174,1619,1831,2421,2283,0,0,0,0,0,0,23186,15337,21129,13422,29326,15118,11423,18785,19948,19377,18258,11200,16674,12986,11101,23629,14890,9733,27745,10930,4790,10818,18193,14055,21727,12332,10686,20226,10733,21420,8064],\"y\":[\"2016-04-12T00:00:00\",\"2016-04-13T00:00:00\",\"2016-04-14T00:00:00\",\"2016-04-15T00:00:00\",\"2016-04-16T00:00:00\",\"2016-04-17T00:00:00\",\"2016-04-18T00:00:00\",\"2016-04-19T00:00:00\",\"2016-04-20T00:00:00\",\"2016-04-21T00:00:00\",\"2016-04-22T00:00:00\",\"2016-04-23T00:00:00\",\"2016-04-24T00:00:00\",\"2016-04-25T00:00:00\",\"2016-04-26T00:00:00\",\"2016-04-27T00:00:00\",\"2016-04-28T00:00:00\",\"2016-04-29T00:00:00\",\"2016-04-30T00:00:00\",\"2016-05-01T00:00:00\",\"2016-05-02T00:00:00\",\"2016-05-03T00:00:00\",\"2016-05-04T00:00:00\",\"2016-05-05T00:00:00\",\"2016-05-06T00:00:00\",\"2016-05-07T00:00:00\",\"2016-05-08T00:00:00\",\"2016-05-09T00:00:00\",\"2016-05-10T00:00:00\",\"2016-05-11T00:00:00\",\"2016-05-12T00:00:00\",\"2016-04-12T00:00:00\",\"2016-04-13T00:00:00\",\"2016-04-14T00:00:00\",\"2016-04-15T00:00:00\",\"2016-04-16T00:00:00\",\"2016-04-17T00:00:00\",\"2016-04-18T00:00:00\",\"2016-04-19T00:00:00\",\"2016-04-20T00:00:00\",\"2016-04-21T00:00:00\",\"2016-04-22T00:00:00\",\"2016-04-23T00:00:00\",\"2016-04-24T00:00:00\",\"2016-04-25T00:00:00\",\"2016-04-26T00:00:00\",\"2016-04-27T00:00:00\",\"2016-04-28T00:00:00\",\"2016-04-29T00:00:00\",\"2016-04-30T00:00:00\",\"2016-05-01T00:00:00\",\"2016-05-02T00:00:00\",\"2016-05-03T00:00:00\",\"2016-05-04T00:00:00\",\"2016-05-05T00:00:00\",\"2016-05-06T00:00:00\",\"2016-05-07T00:00:00\",\"2016-05-08T00:00:00\",\"2016-05-09T00:00:00\",\"2016-05-10T00:00:00\",\"2016-05-11T00:00:00\",\"2016-05-12T00:00:00\",\"2016-04-12T00:00:00\",\"2016-04-13T00:00:00\",\"2016-04-14T00:00:00\",\"2016-04-15T00:00:00\",\"2016-04-16T00:00:00\",\"2016-04-17T00:00:00\",\"2016-04-18T00:00:00\",\"2016-04-19T00:00:00\",\"2016-04-20T00:00:00\",\"2016-04-21T00:00:00\",\"2016-04-22T00:00:00\",\"2016-04-23T00:00:00\",\"2016-04-24T00:00:00\",\"2016-04-25T00:00:00\",\"2016-04-26T00:00:00\",\"2016-04-27T00:00:00\",\"2016-04-28T00:00:00\",\"2016-04-29T00:00:00\",\"2016-04-30T00:00:00\",\"2016-05-01T00:00:00\",\"2016-05-02T00:00:00\",\"2016-05-03T00:00:00\",\"2016-05-04T00:00:00\",\"2016-05-05T00:00:00\",\"2016-05-06T00:00:00\",\"2016-05-07T00:00:00\",\"2016-05-08T00:00:00\",\"2016-05-09T00:00:00\",\"2016-05-10T00:00:00\",\"2016-05-11T00:00:00\",\"2016-04-12T00:00:00\",\"2016-04-13T00:00:00\",\"2016-04-14T00:00:00\",\"2016-04-15T00:00:00\",\"2016-04-16T00:00:00\",\"2016-04-17T00:00:00\",\"2016-04-18T00:00:00\",\"2016-04-19T00:00:00\",\"2016-04-20T00:00:00\",\"2016-04-21T00:00:00\",\"2016-04-22T00:00:00\",\"2016-04-23T00:00:00\",\"2016-04-24T00:00:00\",\"2016-04-25T00:00:00\",\"2016-04-26T00:00:00\",\"2016-04-27T00:00:00\",\"2016-04-28T00:00:00\",\"2016-04-29T00:00:00\",\"2016-04-30T00:00:00\",\"2016-05-01T00:00:00\",\"2016-05-02T00:00:00\",\"2016-05-03T00:00:00\",\"2016-05-04T00:00:00\",\"2016-05-05T00:00:00\",\"2016-05-06T00:00:00\",\"2016-05-07T00:00:00\",\"2016-05-08T00:00:00\",\"2016-05-09T00:00:00\",\"2016-05-10T00:00:00\",\"2016-05-11T00:00:00\",\"2016-05-12T00:00:00\",\"2016-04-12T00:00:00\",\"2016-04-13T00:00:00\",\"2016-04-14T00:00:00\",\"2016-04-15T00:00:00\",\"2016-04-16T00:00:00\",\"2016-04-17T00:00:00\",\"2016-04-18T00:00:00\",\"2016-04-19T00:00:00\",\"2016-04-20T00:00:00\",\"2016-04-21T00:00:00\",\"2016-04-22T00:00:00\",\"2016-04-23T00:00:00\",\"2016-04-24T00:00:00\",\"2016-04-25T00:00:00\",\"2016-04-26T00:00:00\",\"2016-04-27T00:00:00\",\"2016-04-28T00:00:00\",\"2016-04-29T00:00:00\",\"2016-04-30T00:00:00\",\"2016-05-01T00:00:00\",\"2016-05-02T00:00:00\",\"2016-05-03T00:00:00\",\"2016-05-04T00:00:00\",\"2016-05-05T00:00:00\",\"2016-05-06T00:00:00\",\"2016-05-07T00:00:00\",\"2016-05-08T00:00:00\",\"2016-05-09T00:00:00\",\"2016-05-10T00:00:00\",\"2016-05-11T00:00:00\",\"2016-05-12T00:00:00\",\"2016-04-12T00:00:00\",\"2016-04-13T00:00:00\",\"2016-04-14T00:00:00\",\"2016-04-15T00:00:00\",\"2016-04-16T00:00:00\",\"2016-04-17T00:00:00\",\"2016-04-18T00:00:00\",\"2016-04-19T00:00:00\",\"2016-04-20T00:00:00\",\"2016-04-21T00:00:00\",\"2016-04-22T00:00:00\",\"2016-04-23T00:00:00\",\"2016-04-24T00:00:00\",\"2016-04-25T00:00:00\",\"2016-04-26T00:00:00\",\"2016-04-27T00:00:00\",\"2016-04-28T00:00:00\",\"2016-04-29T00:00:00\",\"2016-04-30T00:00:00\",\"2016-05-01T00:00:00\",\"2016-05-02T00:00:00\",\"2016-05-03T00:00:00\",\"2016-05-04T00:00:00\",\"2016-05-05T00:00:00\",\"2016-05-06T00:00:00\",\"2016-05-07T00:00:00\",\"2016-05-08T00:00:00\",\"2016-05-09T00:00:00\",\"2016-05-10T00:00:00\",\"2016-05-11T00:00:00\",\"2016-05-12T00:00:00\",\"2016-04-12T00:00:00\",\"2016-04-13T00:00:00\",\"2016-04-14T00:00:00\",\"2016-04-15T00:00:00\",\"2016-04-16T00:00:00\",\"2016-04-17T00:00:00\",\"2016-04-18T00:00:00\",\"2016-04-19T00:00:00\",\"2016-04-20T00:00:00\",\"2016-04-21T00:00:00\",\"2016-04-22T00:00:00\",\"2016-04-23T00:00:00\",\"2016-04-24T00:00:00\",\"2016-04-25T00:00:00\",\"2016-04-26T00:00:00\",\"2016-04-27T00:00:00\",\"2016-04-28T00:00:00\",\"2016-04-29T00:00:00\",\"2016-04-30T00:00:00\",\"2016-05-01T00:00:00\",\"2016-05-02T00:00:00\",\"2016-05-03T00:00:00\",\"2016-05-04T00:00:00\",\"2016-05-05T00:00:00\",\"2016-05-06T00:00:00\",\"2016-05-07T00:00:00\",\"2016-05-08T00:00:00\",\"2016-05-09T00:00:00\",\"2016-05-10T00:00:00\",\"2016-05-11T00:00:00\",\"2016-05-12T00:00:00\",\"2016-04-12T00:00:00\",\"2016-04-13T00:00:00\",\"2016-04-14T00:00:00\",\"2016-04-15T00:00:00\",\"2016-04-16T00:00:00\",\"2016-04-17T00:00:00\",\"2016-04-18T00:00:00\",\"2016-04-19T00:00:00\",\"2016-04-20T00:00:00\",\"2016-04-21T00:00:00\",\"2016-04-22T00:00:00\",\"2016-04-23T00:00:00\",\"2016-04-24T00:00:00\",\"2016-04-25T00:00:00\",\"2016-04-26T00:00:00\",\"2016-04-27T00:00:00\",\"2016-04-28T00:00:00\",\"2016-04-29T00:00:00\",\"2016-04-30T00:00:00\",\"2016-05-01T00:00:00\",\"2016-05-02T00:00:00\",\"2016-05-03T00:00:00\",\"2016-05-04T00:00:00\",\"2016-05-05T00:00:00\",\"2016-05-06T00:00:00\",\"2016-05-07T00:00:00\",\"2016-05-08T00:00:00\",\"2016-05-09T00:00:00\",\"2016-05-10T00:00:00\",\"2016-05-11T00:00:00\",\"2016-05-12T00:00:00\",\"2016-04-12T00:00:00\",\"2016-04-13T00:00:00\",\"2016-04-14T00:00:00\",\"2016-04-15T00:00:00\",\"2016-04-16T00:00:00\",\"2016-04-17T00:00:00\",\"2016-04-18T00:00:00\",\"2016-04-19T00:00:00\",\"2016-04-20T00:00:00\",\"2016-04-21T00:00:00\",\"2016-04-22T00:00:00\",\"2016-04-23T00:00:00\",\"2016-04-24T00:00:00\",\"2016-04-25T00:00:00\",\"2016-04-26T00:00:00\",\"2016-04-27T00:00:00\",\"2016-04-28T00:00:00\",\"2016-04-29T00:00:00\",\"2016-04-12T00:00:00\",\"2016-04-13T00:00:00\",\"2016-04-14T00:00:00\",\"2016-04-15T00:00:00\",\"2016-04-16T00:00:00\",\"2016-04-17T00:00:00\",\"2016-04-18T00:00:00\",\"2016-04-19T00:00:00\",\"2016-04-20T00:00:00\",\"2016-04-21T00:00:00\",\"2016-04-22T00:00:00\",\"2016-04-23T00:00:00\",\"2016-04-24T00:00:00\",\"2016-04-25T00:00:00\",\"2016-04-26T00:00:00\",\"2016-04-27T00:00:00\",\"2016-04-28T00:00:00\",\"2016-04-29T00:00:00\",\"2016-04-30T00:00:00\",\"2016-05-01T00:00:00\",\"2016-05-02T00:00:00\",\"2016-05-03T00:00:00\",\"2016-05-04T00:00:00\",\"2016-05-05T00:00:00\",\"2016-05-06T00:00:00\",\"2016-05-07T00:00:00\",\"2016-05-08T00:00:00\",\"2016-05-09T00:00:00\",\"2016-05-10T00:00:00\",\"2016-05-11T00:00:00\",\"2016-05-12T00:00:00\",\"2016-04-12T00:00:00\",\"2016-04-13T00:00:00\",\"2016-04-14T00:00:00\",\"2016-04-15T00:00:00\",\"2016-04-16T00:00:00\",\"2016-04-17T00:00:00\",\"2016-04-18T00:00:00\",\"2016-04-19T00:00:00\",\"2016-04-20T00:00:00\",\"2016-04-21T00:00:00\",\"2016-04-22T00:00:00\",\"2016-04-23T00:00:00\",\"2016-04-24T00:00:00\",\"2016-04-25T00:00:00\",\"2016-04-26T00:00:00\",\"2016-04-27T00:00:00\",\"2016-04-28T00:00:00\",\"2016-04-29T00:00:00\",\"2016-04-30T00:00:00\",\"2016-05-01T00:00:00\",\"2016-04-12T00:00:00\",\"2016-04-13T00:00:00\",\"2016-04-14T00:00:00\",\"2016-04-15T00:00:00\",\"2016-04-16T00:00:00\",\"2016-04-17T00:00:00\",\"2016-04-18T00:00:00\",\"2016-04-19T00:00:00\",\"2016-04-20T00:00:00\",\"2016-04-21T00:00:00\",\"2016-04-22T00:00:00\",\"2016-04-23T00:00:00\",\"2016-04-24T00:00:00\",\"2016-04-25T00:00:00\",\"2016-04-26T00:00:00\",\"2016-04-27T00:00:00\",\"2016-04-28T00:00:00\",\"2016-04-29T00:00:00\",\"2016-04-30T00:00:00\",\"2016-05-01T00:00:00\",\"2016-05-02T00:00:00\",\"2016-05-03T00:00:00\",\"2016-05-04T00:00:00\",\"2016-05-05T00:00:00\",\"2016-05-06T00:00:00\",\"2016-05-07T00:00:00\",\"2016-05-08T00:00:00\",\"2016-05-09T00:00:00\",\"2016-05-10T00:00:00\",\"2016-05-11T00:00:00\",\"2016-04-12T00:00:00\",\"2016-04-13T00:00:00\",\"2016-04-14T00:00:00\",\"2016-04-15T00:00:00\",\"2016-04-16T00:00:00\",\"2016-04-17T00:00:00\",\"2016-04-18T00:00:00\",\"2016-04-19T00:00:00\",\"2016-04-20T00:00:00\",\"2016-04-21T00:00:00\",\"2016-04-22T00:00:00\",\"2016-04-23T00:00:00\",\"2016-04-24T00:00:00\",\"2016-04-25T00:00:00\",\"2016-04-26T00:00:00\",\"2016-04-27T00:00:00\",\"2016-04-28T00:00:00\",\"2016-04-29T00:00:00\",\"2016-04-30T00:00:00\",\"2016-05-01T00:00:00\",\"2016-05-02T00:00:00\",\"2016-05-03T00:00:00\",\"2016-05-04T00:00:00\",\"2016-05-05T00:00:00\",\"2016-05-06T00:00:00\",\"2016-05-07T00:00:00\",\"2016-05-08T00:00:00\",\"2016-05-09T00:00:00\",\"2016-05-10T00:00:00\",\"2016-05-11T00:00:00\",\"2016-05-12T00:00:00\",\"2016-04-12T00:00:00\",\"2016-04-13T00:00:00\",\"2016-04-14T00:00:00\",\"2016-04-15T00:00:00\",\"2016-04-12T00:00:00\",\"2016-04-13T00:00:00\",\"2016-04-14T00:00:00\",\"2016-04-15T00:00:00\",\"2016-04-16T00:00:00\",\"2016-04-17T00:00:00\",\"2016-04-18T00:00:00\",\"2016-04-19T00:00:00\",\"2016-04-20T00:00:00\",\"2016-04-21T00:00:00\",\"2016-04-22T00:00:00\",\"2016-04-23T00:00:00\",\"2016-04-24T00:00:00\",\"2016-04-25T00:00:00\",\"2016-04-26T00:00:00\",\"2016-04-27T00:00:00\",\"2016-04-28T00:00:00\",\"2016-04-29T00:00:00\",\"2016-04-30T00:00:00\",\"2016-05-01T00:00:00\",\"2016-05-02T00:00:00\",\"2016-05-03T00:00:00\",\"2016-05-04T00:00:00\",\"2016-05-05T00:00:00\",\"2016-05-06T00:00:00\",\"2016-05-07T00:00:00\",\"2016-05-08T00:00:00\",\"2016-05-09T00:00:00\",\"2016-05-10T00:00:00\",\"2016-05-11T00:00:00\",\"2016-05-12T00:00:00\",\"2016-04-12T00:00:00\",\"2016-04-13T00:00:00\",\"2016-04-14T00:00:00\",\"2016-04-15T00:00:00\",\"2016-04-16T00:00:00\",\"2016-04-17T00:00:00\",\"2016-04-18T00:00:00\",\"2016-04-19T00:00:00\",\"2016-04-20T00:00:00\",\"2016-04-21T00:00:00\",\"2016-04-22T00:00:00\",\"2016-04-23T00:00:00\",\"2016-04-24T00:00:00\",\"2016-04-25T00:00:00\",\"2016-04-26T00:00:00\",\"2016-04-27T00:00:00\",\"2016-04-28T00:00:00\",\"2016-04-29T00:00:00\",\"2016-04-30T00:00:00\",\"2016-05-01T00:00:00\",\"2016-05-02T00:00:00\",\"2016-05-03T00:00:00\",\"2016-05-04T00:00:00\",\"2016-05-05T00:00:00\",\"2016-05-06T00:00:00\",\"2016-05-07T00:00:00\",\"2016-05-08T00:00:00\",\"2016-05-09T00:00:00\",\"2016-05-10T00:00:00\",\"2016-05-11T00:00:00\",\"2016-05-12T00:00:00\",\"2016-04-12T00:00:00\",\"2016-04-13T00:00:00\",\"2016-04-14T00:00:00\",\"2016-04-15T00:00:00\",\"2016-04-16T00:00:00\",\"2016-04-17T00:00:00\",\"2016-04-18T00:00:00\",\"2016-04-19T00:00:00\",\"2016-04-20T00:00:00\",\"2016-04-21T00:00:00\",\"2016-04-22T00:00:00\",\"2016-04-23T00:00:00\",\"2016-04-24T00:00:00\",\"2016-04-25T00:00:00\",\"2016-04-26T00:00:00\",\"2016-04-27T00:00:00\",\"2016-04-28T00:00:00\",\"2016-04-29T00:00:00\",\"2016-04-30T00:00:00\",\"2016-05-01T00:00:00\",\"2016-05-02T00:00:00\",\"2016-05-03T00:00:00\",\"2016-05-04T00:00:00\",\"2016-05-05T00:00:00\",\"2016-05-06T00:00:00\",\"2016-05-07T00:00:00\",\"2016-05-08T00:00:00\",\"2016-05-09T00:00:00\",\"2016-05-10T00:00:00\",\"2016-05-11T00:00:00\",\"2016-05-12T00:00:00\",\"2016-04-12T00:00:00\",\"2016-04-13T00:00:00\",\"2016-04-14T00:00:00\",\"2016-04-15T00:00:00\",\"2016-04-16T00:00:00\",\"2016-04-17T00:00:00\",\"2016-04-18T00:00:00\",\"2016-04-19T00:00:00\",\"2016-04-20T00:00:00\",\"2016-04-21T00:00:00\",\"2016-04-22T00:00:00\",\"2016-04-23T00:00:00\",\"2016-04-24T00:00:00\",\"2016-04-25T00:00:00\",\"2016-04-26T00:00:00\",\"2016-04-27T00:00:00\",\"2016-04-28T00:00:00\",\"2016-04-29T00:00:00\",\"2016-04-30T00:00:00\",\"2016-05-01T00:00:00\",\"2016-05-02T00:00:00\",\"2016-05-03T00:00:00\",\"2016-05-04T00:00:00\",\"2016-05-05T00:00:00\",\"2016-05-06T00:00:00\",\"2016-05-07T00:00:00\",\"2016-05-08T00:00:00\",\"2016-05-09T00:00:00\",\"2016-05-10T00:00:00\",\"2016-05-11T00:00:00\",\"2016-05-12T00:00:00\",\"2016-04-12T00:00:00\",\"2016-04-13T00:00:00\",\"2016-04-14T00:00:00\",\"2016-04-15T00:00:00\",\"2016-04-16T00:00:00\",\"2016-04-17T00:00:00\",\"2016-04-18T00:00:00\",\"2016-04-19T00:00:00\",\"2016-04-20T00:00:00\",\"2016-04-21T00:00:00\",\"2016-04-22T00:00:00\",\"2016-04-23T00:00:00\",\"2016-04-24T00:00:00\",\"2016-04-25T00:00:00\",\"2016-04-26T00:00:00\",\"2016-04-27T00:00:00\",\"2016-04-28T00:00:00\",\"2016-04-29T00:00:00\",\"2016-04-30T00:00:00\",\"2016-05-01T00:00:00\",\"2016-05-02T00:00:00\",\"2016-05-03T00:00:00\",\"2016-05-04T00:00:00\",\"2016-05-05T00:00:00\",\"2016-05-06T00:00:00\",\"2016-05-07T00:00:00\",\"2016-05-08T00:00:00\",\"2016-05-09T00:00:00\",\"2016-05-10T00:00:00\",\"2016-05-11T00:00:00\",\"2016-05-12T00:00:00\",\"2016-04-12T00:00:00\",\"2016-04-13T00:00:00\",\"2016-04-14T00:00:00\",\"2016-04-15T00:00:00\",\"2016-04-16T00:00:00\",\"2016-04-17T00:00:00\",\"2016-04-18T00:00:00\",\"2016-04-19T00:00:00\",\"2016-04-20T00:00:00\",\"2016-04-21T00:00:00\",\"2016-04-22T00:00:00\",\"2016-04-23T00:00:00\",\"2016-04-24T00:00:00\",\"2016-04-25T00:00:00\",\"2016-04-26T00:00:00\",\"2016-04-27T00:00:00\",\"2016-04-28T00:00:00\",\"2016-04-29T00:00:00\",\"2016-04-30T00:00:00\",\"2016-05-01T00:00:00\",\"2016-05-02T00:00:00\",\"2016-05-03T00:00:00\",\"2016-05-04T00:00:00\",\"2016-05-05T00:00:00\",\"2016-05-06T00:00:00\",\"2016-05-07T00:00:00\",\"2016-05-08T00:00:00\",\"2016-05-09T00:00:00\",\"2016-05-10T00:00:00\",\"2016-05-11T00:00:00\",\"2016-05-12T00:00:00\",\"2016-04-12T00:00:00\",\"2016-04-13T00:00:00\",\"2016-04-14T00:00:00\",\"2016-04-15T00:00:00\",\"2016-04-16T00:00:00\",\"2016-04-17T00:00:00\",\"2016-04-18T00:00:00\",\"2016-04-19T00:00:00\",\"2016-04-20T00:00:00\",\"2016-04-21T00:00:00\",\"2016-04-22T00:00:00\",\"2016-04-23T00:00:00\",\"2016-04-24T00:00:00\",\"2016-04-25T00:00:00\",\"2016-04-26T00:00:00\",\"2016-04-27T00:00:00\",\"2016-04-28T00:00:00\",\"2016-04-29T00:00:00\",\"2016-04-30T00:00:00\",\"2016-05-01T00:00:00\",\"2016-05-02T00:00:00\",\"2016-05-03T00:00:00\",\"2016-05-04T00:00:00\",\"2016-05-05T00:00:00\",\"2016-05-06T00:00:00\",\"2016-05-07T00:00:00\",\"2016-05-08T00:00:00\",\"2016-05-09T00:00:00\",\"2016-05-10T00:00:00\",\"2016-05-11T00:00:00\",\"2016-04-12T00:00:00\",\"2016-04-13T00:00:00\",\"2016-04-14T00:00:00\",\"2016-04-15T00:00:00\",\"2016-04-16T00:00:00\",\"2016-04-17T00:00:00\",\"2016-04-18T00:00:00\",\"2016-04-19T00:00:00\",\"2016-04-20T00:00:00\",\"2016-04-21T00:00:00\",\"2016-04-22T00:00:00\",\"2016-04-23T00:00:00\",\"2016-04-24T00:00:00\",\"2016-04-25T00:00:00\",\"2016-04-26T00:00:00\",\"2016-04-27T00:00:00\",\"2016-04-28T00:00:00\",\"2016-04-29T00:00:00\",\"2016-04-30T00:00:00\",\"2016-05-01T00:00:00\",\"2016-05-02T00:00:00\",\"2016-05-03T00:00:00\",\"2016-05-04T00:00:00\",\"2016-05-05T00:00:00\",\"2016-05-06T00:00:00\",\"2016-05-07T00:00:00\",\"2016-05-08T00:00:00\",\"2016-05-09T00:00:00\",\"2016-04-12T00:00:00\",\"2016-04-13T00:00:00\",\"2016-04-14T00:00:00\",\"2016-04-15T00:00:00\",\"2016-04-16T00:00:00\",\"2016-04-17T00:00:00\",\"2016-04-18T00:00:00\",\"2016-04-19T00:00:00\",\"2016-04-20T00:00:00\",\"2016-04-21T00:00:00\",\"2016-04-22T00:00:00\",\"2016-04-23T00:00:00\",\"2016-04-24T00:00:00\",\"2016-04-25T00:00:00\",\"2016-04-26T00:00:00\",\"2016-04-27T00:00:00\",\"2016-04-28T00:00:00\",\"2016-04-29T00:00:00\",\"2016-04-30T00:00:00\",\"2016-05-01T00:00:00\",\"2016-05-02T00:00:00\",\"2016-05-03T00:00:00\",\"2016-05-04T00:00:00\",\"2016-05-05T00:00:00\",\"2016-05-06T00:00:00\",\"2016-05-07T00:00:00\",\"2016-05-08T00:00:00\",\"2016-05-09T00:00:00\",\"2016-05-10T00:00:00\",\"2016-04-12T00:00:00\",\"2016-04-13T00:00:00\",\"2016-04-14T00:00:00\",\"2016-04-15T00:00:00\",\"2016-04-16T00:00:00\",\"2016-04-17T00:00:00\",\"2016-04-18T00:00:00\",\"2016-04-19T00:00:00\",\"2016-04-20T00:00:00\",\"2016-04-21T00:00:00\",\"2016-04-22T00:00:00\",\"2016-04-23T00:00:00\",\"2016-04-24T00:00:00\",\"2016-04-25T00:00:00\",\"2016-04-26T00:00:00\",\"2016-04-27T00:00:00\",\"2016-04-28T00:00:00\",\"2016-04-29T00:00:00\",\"2016-04-30T00:00:00\",\"2016-05-01T00:00:00\",\"2016-05-02T00:00:00\",\"2016-05-03T00:00:00\",\"2016-05-04T00:00:00\",\"2016-05-05T00:00:00\",\"2016-05-06T00:00:00\",\"2016-05-07T00:00:00\",\"2016-04-12T00:00:00\",\"2016-04-13T00:00:00\",\"2016-04-14T00:00:00\",\"2016-04-15T00:00:00\",\"2016-04-16T00:00:00\",\"2016-04-17T00:00:00\",\"2016-04-18T00:00:00\",\"2016-04-19T00:00:00\",\"2016-04-20T00:00:00\",\"2016-04-21T00:00:00\",\"2016-04-22T00:00:00\",\"2016-04-23T00:00:00\",\"2016-04-24T00:00:00\",\"2016-04-25T00:00:00\",\"2016-04-26T00:00:00\",\"2016-04-27T00:00:00\",\"2016-04-28T00:00:00\",\"2016-04-29T00:00:00\",\"2016-04-30T00:00:00\",\"2016-05-01T00:00:00\",\"2016-05-02T00:00:00\",\"2016-05-03T00:00:00\",\"2016-05-04T00:00:00\",\"2016-05-05T00:00:00\",\"2016-05-06T00:00:00\",\"2016-05-07T00:00:00\",\"2016-05-08T00:00:00\",\"2016-05-09T00:00:00\",\"2016-05-10T00:00:00\",\"2016-05-11T00:00:00\",\"2016-05-12T00:00:00\",\"2016-04-12T00:00:00\",\"2016-04-13T00:00:00\",\"2016-04-14T00:00:00\",\"2016-04-15T00:00:00\",\"2016-04-16T00:00:00\",\"2016-04-17T00:00:00\",\"2016-04-18T00:00:00\",\"2016-04-19T00:00:00\",\"2016-04-20T00:00:00\",\"2016-04-21T00:00:00\",\"2016-04-22T00:00:00\",\"2016-04-23T00:00:00\",\"2016-04-24T00:00:00\",\"2016-04-25T00:00:00\",\"2016-04-26T00:00:00\",\"2016-04-27T00:00:00\",\"2016-04-28T00:00:00\",\"2016-04-29T00:00:00\",\"2016-04-30T00:00:00\",\"2016-05-01T00:00:00\",\"2016-05-02T00:00:00\",\"2016-05-03T00:00:00\",\"2016-05-04T00:00:00\",\"2016-05-05T00:00:00\",\"2016-05-06T00:00:00\",\"2016-05-07T00:00:00\",\"2016-04-12T00:00:00\",\"2016-04-13T00:00:00\",\"2016-04-14T00:00:00\",\"2016-04-15T00:00:00\",\"2016-04-16T00:00:00\",\"2016-04-17T00:00:00\",\"2016-04-18T00:00:00\",\"2016-04-19T00:00:00\",\"2016-04-20T00:00:00\",\"2016-04-21T00:00:00\",\"2016-04-22T00:00:00\",\"2016-04-23T00:00:00\",\"2016-04-24T00:00:00\",\"2016-04-25T00:00:00\",\"2016-04-26T00:00:00\",\"2016-04-27T00:00:00\",\"2016-04-28T00:00:00\",\"2016-04-29T00:00:00\",\"2016-04-30T00:00:00\",\"2016-05-01T00:00:00\",\"2016-05-02T00:00:00\",\"2016-05-03T00:00:00\",\"2016-05-04T00:00:00\",\"2016-05-05T00:00:00\",\"2016-05-06T00:00:00\",\"2016-05-07T00:00:00\",\"2016-05-08T00:00:00\",\"2016-05-09T00:00:00\",\"2016-05-10T00:00:00\",\"2016-05-11T00:00:00\",\"2016-05-12T00:00:00\",\"2016-04-12T00:00:00\",\"2016-04-13T00:00:00\",\"2016-04-14T00:00:00\",\"2016-04-15T00:00:00\",\"2016-04-16T00:00:00\",\"2016-04-17T00:00:00\",\"2016-04-18T00:00:00\",\"2016-04-19T00:00:00\",\"2016-04-20T00:00:00\",\"2016-04-21T00:00:00\",\"2016-04-22T00:00:00\",\"2016-04-23T00:00:00\",\"2016-04-24T00:00:00\",\"2016-04-25T00:00:00\",\"2016-04-26T00:00:00\",\"2016-04-27T00:00:00\",\"2016-04-28T00:00:00\",\"2016-04-29T00:00:00\",\"2016-04-30T00:00:00\",\"2016-05-01T00:00:00\",\"2016-05-02T00:00:00\",\"2016-05-03T00:00:00\",\"2016-05-04T00:00:00\",\"2016-05-05T00:00:00\",\"2016-05-06T00:00:00\",\"2016-05-07T00:00:00\",\"2016-05-08T00:00:00\",\"2016-05-09T00:00:00\",\"2016-05-10T00:00:00\",\"2016-05-11T00:00:00\",\"2016-05-12T00:00:00\",\"2016-04-12T00:00:00\",\"2016-04-13T00:00:00\",\"2016-04-14T00:00:00\",\"2016-04-15T00:00:00\",\"2016-04-16T00:00:00\",\"2016-04-17T00:00:00\",\"2016-04-18T00:00:00\",\"2016-04-19T00:00:00\",\"2016-04-20T00:00:00\",\"2016-04-21T00:00:00\",\"2016-04-22T00:00:00\",\"2016-04-23T00:00:00\",\"2016-04-24T00:00:00\",\"2016-04-25T00:00:00\",\"2016-04-26T00:00:00\",\"2016-04-27T00:00:00\",\"2016-04-28T00:00:00\",\"2016-04-29T00:00:00\",\"2016-04-30T00:00:00\",\"2016-04-12T00:00:00\",\"2016-04-13T00:00:00\",\"2016-04-14T00:00:00\",\"2016-04-15T00:00:00\",\"2016-04-16T00:00:00\",\"2016-04-17T00:00:00\",\"2016-04-18T00:00:00\",\"2016-04-19T00:00:00\",\"2016-04-20T00:00:00\",\"2016-04-21T00:00:00\",\"2016-04-22T00:00:00\",\"2016-04-23T00:00:00\",\"2016-04-24T00:00:00\",\"2016-04-25T00:00:00\",\"2016-04-26T00:00:00\",\"2016-04-27T00:00:00\",\"2016-04-28T00:00:00\",\"2016-04-29T00:00:00\",\"2016-04-30T00:00:00\",\"2016-05-01T00:00:00\",\"2016-05-02T00:00:00\",\"2016-05-03T00:00:00\",\"2016-05-04T00:00:00\",\"2016-05-05T00:00:00\",\"2016-05-06T00:00:00\",\"2016-05-07T00:00:00\",\"2016-05-08T00:00:00\",\"2016-05-09T00:00:00\",\"2016-05-10T00:00:00\",\"2016-05-11T00:00:00\",\"2016-05-12T00:00:00\",\"2016-04-12T00:00:00\",\"2016-04-13T00:00:00\",\"2016-04-14T00:00:00\",\"2016-04-15T00:00:00\",\"2016-04-16T00:00:00\",\"2016-04-17T00:00:00\",\"2016-04-18T00:00:00\",\"2016-04-19T00:00:00\",\"2016-04-20T00:00:00\",\"2016-04-21T00:00:00\",\"2016-04-22T00:00:00\",\"2016-04-23T00:00:00\",\"2016-04-24T00:00:00\",\"2016-04-25T00:00:00\",\"2016-04-26T00:00:00\",\"2016-04-27T00:00:00\",\"2016-04-28T00:00:00\",\"2016-04-29T00:00:00\",\"2016-04-30T00:00:00\",\"2016-05-01T00:00:00\",\"2016-05-02T00:00:00\",\"2016-05-03T00:00:00\",\"2016-05-04T00:00:00\",\"2016-05-05T00:00:00\",\"2016-05-06T00:00:00\",\"2016-05-07T00:00:00\",\"2016-05-08T00:00:00\",\"2016-05-09T00:00:00\",\"2016-05-10T00:00:00\",\"2016-05-11T00:00:00\",\"2016-05-12T00:00:00\",\"2016-04-12T00:00:00\",\"2016-04-13T00:00:00\",\"2016-04-14T00:00:00\",\"2016-04-15T00:00:00\",\"2016-04-16T00:00:00\",\"2016-04-17T00:00:00\",\"2016-04-18T00:00:00\",\"2016-04-19T00:00:00\",\"2016-04-20T00:00:00\",\"2016-04-21T00:00:00\",\"2016-04-22T00:00:00\",\"2016-04-23T00:00:00\",\"2016-04-24T00:00:00\",\"2016-04-25T00:00:00\",\"2016-04-26T00:00:00\",\"2016-04-27T00:00:00\",\"2016-04-28T00:00:00\",\"2016-04-29T00:00:00\",\"2016-04-30T00:00:00\",\"2016-05-01T00:00:00\",\"2016-05-02T00:00:00\",\"2016-05-03T00:00:00\",\"2016-05-04T00:00:00\",\"2016-05-05T00:00:00\",\"2016-05-06T00:00:00\",\"2016-05-07T00:00:00\",\"2016-05-08T00:00:00\",\"2016-05-09T00:00:00\",\"2016-05-10T00:00:00\",\"2016-04-12T00:00:00\",\"2016-04-13T00:00:00\",\"2016-04-14T00:00:00\",\"2016-04-15T00:00:00\",\"2016-04-16T00:00:00\",\"2016-04-17T00:00:00\",\"2016-04-18T00:00:00\",\"2016-04-19T00:00:00\",\"2016-04-20T00:00:00\",\"2016-04-21T00:00:00\",\"2016-04-22T00:00:00\",\"2016-04-23T00:00:00\",\"2016-04-24T00:00:00\",\"2016-04-25T00:00:00\",\"2016-04-26T00:00:00\",\"2016-04-27T00:00:00\",\"2016-04-28T00:00:00\",\"2016-04-29T00:00:00\",\"2016-04-30T00:00:00\",\"2016-05-01T00:00:00\",\"2016-05-02T00:00:00\",\"2016-05-03T00:00:00\",\"2016-05-04T00:00:00\",\"2016-05-05T00:00:00\",\"2016-05-06T00:00:00\",\"2016-05-07T00:00:00\",\"2016-05-08T00:00:00\",\"2016-05-09T00:00:00\",\"2016-05-10T00:00:00\",\"2016-05-11T00:00:00\",\"2016-05-12T00:00:00\"],\"type\":\"scatter\"},{\"hovertemplate\":\"Average Steps: %{x} \\u003cbr\\u003e%{y}\\u003cextra\\u003e\\u003c\\u002fextra\\u003e\",\"line\":{\"color\":\"grey\",\"dash\":\"dashdot\"},\"mode\":\"lines\",\"name\":\"Average Steps per Date\",\"showlegend\":false,\"x\":[8236.848484848484,7198.727272727273,7743.575757575758,7533.848484848485,8679.15625,6409.25,7896.96875,8048.65625,8162.96875,8243.59375,7446.375,8347.625,7394.40625,7932.78125,7834.0,8078.625,7593.625,7321.53125,8346.0,6895.666666666667,7049.448275862069,8558.724137931034,6763.758620689655,8731.034482758621,7492.6551724137935,7151.241379310345,7049.407407407408,8248.814814814816,7951.423076923077,7519.5,3482.3333333333335],\"y\":[\"2016-04-12T00:00:00\",\"2016-04-13T00:00:00\",\"2016-04-14T00:00:00\",\"2016-04-15T00:00:00\",\"2016-04-16T00:00:00\",\"2016-04-17T00:00:00\",\"2016-04-18T00:00:00\",\"2016-04-19T00:00:00\",\"2016-04-20T00:00:00\",\"2016-04-21T00:00:00\",\"2016-04-22T00:00:00\",\"2016-04-23T00:00:00\",\"2016-04-24T00:00:00\",\"2016-04-25T00:00:00\",\"2016-04-26T00:00:00\",\"2016-04-27T00:00:00\",\"2016-04-28T00:00:00\",\"2016-04-29T00:00:00\",\"2016-04-30T00:00:00\",\"2016-05-01T00:00:00\",\"2016-05-02T00:00:00\",\"2016-05-03T00:00:00\",\"2016-05-04T00:00:00\",\"2016-05-05T00:00:00\",\"2016-05-06T00:00:00\",\"2016-05-07T00:00:00\",\"2016-05-08T00:00:00\",\"2016-05-09T00:00:00\",\"2016-05-10T00:00:00\",\"2016-05-11T00:00:00\",\"2016-05-12T00:00:00\"],\"type\":\"scatter\"}],                        {\"template\":{\"data\":{\"histogram2dcontour\":[{\"type\":\"histogram2dcontour\",\"colorbar\":{\"outlinewidth\":0,\"ticks\":\"\"},\"colorscale\":[[0.0,\"#0d0887\"],[0.1111111111111111,\"#46039f\"],[0.2222222222222222,\"#7201a8\"],[0.3333333333333333,\"#9c179e\"],[0.4444444444444444,\"#bd3786\"],[0.5555555555555556,\"#d8576b\"],[0.6666666666666666,\"#ed7953\"],[0.7777777777777778,\"#fb9f3a\"],[0.8888888888888888,\"#fdca26\"],[1.0,\"#f0f921\"]]}],\"choropleth\":[{\"type\":\"choropleth\",\"colorbar\":{\"outlinewidth\":0,\"ticks\":\"\"}}],\"histogram2d\":[{\"type\":\"histogram2d\",\"colorbar\":{\"outlinewidth\":0,\"ticks\":\"\"},\"colorscale\":[[0.0,\"#0d0887\"],[0.1111111111111111,\"#46039f\"],[0.2222222222222222,\"#7201a8\"],[0.3333333333333333,\"#9c179e\"],[0.4444444444444444,\"#bd3786\"],[0.5555555555555556,\"#d8576b\"],[0.6666666666666666,\"#ed7953\"],[0.7777777777777778,\"#fb9f3a\"],[0.8888888888888888,\"#fdca26\"],[1.0,\"#f0f921\"]]}],\"heatmap\":[{\"type\":\"heatmap\",\"colorbar\":{\"outlinewidth\":0,\"ticks\":\"\"},\"colorscale\":[[0.0,\"#0d0887\"],[0.1111111111111111,\"#46039f\"],[0.2222222222222222,\"#7201a8\"],[0.3333333333333333,\"#9c179e\"],[0.4444444444444444,\"#bd3786\"],[0.5555555555555556,\"#d8576b\"],[0.6666666666666666,\"#ed7953\"],[0.7777777777777778,\"#fb9f3a\"],[0.8888888888888888,\"#fdca26\"],[1.0,\"#f0f921\"]]}],\"heatmapgl\":[{\"type\":\"heatmapgl\",\"colorbar\":{\"outlinewidth\":0,\"ticks\":\"\"},\"colorscale\":[[0.0,\"#0d0887\"],[0.1111111111111111,\"#46039f\"],[0.2222222222222222,\"#7201a8\"],[0.3333333333333333,\"#9c179e\"],[0.4444444444444444,\"#bd3786\"],[0.5555555555555556,\"#d8576b\"],[0.6666666666666666,\"#ed7953\"],[0.7777777777777778,\"#fb9f3a\"],[0.8888888888888888,\"#fdca26\"],[1.0,\"#f0f921\"]]}],\"contourcarpet\":[{\"type\":\"contourcarpet\",\"colorbar\":{\"outlinewidth\":0,\"ticks\":\"\"}}],\"contour\":[{\"type\":\"contour\",\"colorbar\":{\"outlinewidth\":0,\"ticks\":\"\"},\"colorscale\":[[0.0,\"#0d0887\"],[0.1111111111111111,\"#46039f\"],[0.2222222222222222,\"#7201a8\"],[0.3333333333333333,\"#9c179e\"],[0.4444444444444444,\"#bd3786\"],[0.5555555555555556,\"#d8576b\"],[0.6666666666666666,\"#ed7953\"],[0.7777777777777778,\"#fb9f3a\"],[0.8888888888888888,\"#fdca26\"],[1.0,\"#f0f921\"]]}],\"surface\":[{\"type\":\"surface\",\"colorbar\":{\"outlinewidth\":0,\"ticks\":\"\"},\"colorscale\":[[0.0,\"#0d0887\"],[0.1111111111111111,\"#46039f\"],[0.2222222222222222,\"#7201a8\"],[0.3333333333333333,\"#9c179e\"],[0.4444444444444444,\"#bd3786\"],[0.5555555555555556,\"#d8576b\"],[0.6666666666666666,\"#ed7953\"],[0.7777777777777778,\"#fb9f3a\"],[0.8888888888888888,\"#fdca26\"],[1.0,\"#f0f921\"]]}],\"mesh3d\":[{\"type\":\"mesh3d\",\"colorbar\":{\"outlinewidth\":0,\"ticks\":\"\"}}],\"scatter\":[{\"fillpattern\":{\"fillmode\":\"overlay\",\"size\":10,\"solidity\":0.2},\"type\":\"scatter\"}],\"parcoords\":[{\"type\":\"parcoords\",\"line\":{\"colorbar\":{\"outlinewidth\":0,\"ticks\":\"\"}}}],\"scatterpolargl\":[{\"type\":\"scatterpolargl\",\"marker\":{\"colorbar\":{\"outlinewidth\":0,\"ticks\":\"\"}}}],\"bar\":[{\"error_x\":{\"color\":\"#2a3f5f\"},\"error_y\":{\"color\":\"#2a3f5f\"},\"marker\":{\"line\":{\"color\":\"#E5ECF6\",\"width\":0.5},\"pattern\":{\"fillmode\":\"overlay\",\"size\":10,\"solidity\":0.2}},\"type\":\"bar\"}],\"scattergeo\":[{\"type\":\"scattergeo\",\"marker\":{\"colorbar\":{\"outlinewidth\":0,\"ticks\":\"\"}}}],\"scatterpolar\":[{\"type\":\"scatterpolar\",\"marker\":{\"colorbar\":{\"outlinewidth\":0,\"ticks\":\"\"}}}],\"histogram\":[{\"marker\":{\"pattern\":{\"fillmode\":\"overlay\",\"size\":10,\"solidity\":0.2}},\"type\":\"histogram\"}],\"scattergl\":[{\"type\":\"scattergl\",\"marker\":{\"colorbar\":{\"outlinewidth\":0,\"ticks\":\"\"}}}],\"scatter3d\":[{\"type\":\"scatter3d\",\"line\":{\"colorbar\":{\"outlinewidth\":0,\"ticks\":\"\"}},\"marker\":{\"colorbar\":{\"outlinewidth\":0,\"ticks\":\"\"}}}],\"scattermapbox\":[{\"type\":\"scattermapbox\",\"marker\":{\"colorbar\":{\"outlinewidth\":0,\"ticks\":\"\"}}}],\"scatterternary\":[{\"type\":\"scatterternary\",\"marker\":{\"colorbar\":{\"outlinewidth\":0,\"ticks\":\"\"}}}],\"scattercarpet\":[{\"type\":\"scattercarpet\",\"marker\":{\"colorbar\":{\"outlinewidth\":0,\"ticks\":\"\"}}}],\"carpet\":[{\"aaxis\":{\"endlinecolor\":\"#2a3f5f\",\"gridcolor\":\"white\",\"linecolor\":\"white\",\"minorgridcolor\":\"white\",\"startlinecolor\":\"#2a3f5f\"},\"baxis\":{\"endlinecolor\":\"#2a3f5f\",\"gridcolor\":\"white\",\"linecolor\":\"white\",\"minorgridcolor\":\"white\",\"startlinecolor\":\"#2a3f5f\"},\"type\":\"carpet\"}],\"table\":[{\"cells\":{\"fill\":{\"color\":\"#EBF0F8\"},\"line\":{\"color\":\"white\"}},\"header\":{\"fill\":{\"color\":\"#C8D4E3\"},\"line\":{\"color\":\"white\"}},\"type\":\"table\"}],\"barpolar\":[{\"marker\":{\"line\":{\"color\":\"#E5ECF6\",\"width\":0.5},\"pattern\":{\"fillmode\":\"overlay\",\"size\":10,\"solidity\":0.2}},\"type\":\"barpolar\"}],\"pie\":[{\"automargin\":true,\"type\":\"pie\"}]},\"layout\":{\"autotypenumbers\":\"strict\",\"colorway\":[\"#636efa\",\"#EF553B\",\"#00cc96\",\"#ab63fa\",\"#FFA15A\",\"#19d3f3\",\"#FF6692\",\"#B6E880\",\"#FF97FF\",\"#FECB52\"],\"font\":{\"color\":\"#2a3f5f\"},\"hovermode\":\"closest\",\"hoverlabel\":{\"align\":\"left\"},\"paper_bgcolor\":\"white\",\"plot_bgcolor\":\"#E5ECF6\",\"polar\":{\"bgcolor\":\"#E5ECF6\",\"angularaxis\":{\"gridcolor\":\"white\",\"linecolor\":\"white\",\"ticks\":\"\"},\"radialaxis\":{\"gridcolor\":\"white\",\"linecolor\":\"white\",\"ticks\":\"\"}},\"ternary\":{\"bgcolor\":\"#E5ECF6\",\"aaxis\":{\"gridcolor\":\"white\",\"linecolor\":\"white\",\"ticks\":\"\"},\"baxis\":{\"gridcolor\":\"white\",\"linecolor\":\"white\",\"ticks\":\"\"},\"caxis\":{\"gridcolor\":\"white\",\"linecolor\":\"white\",\"ticks\":\"\"}},\"coloraxis\":{\"colorbar\":{\"outlinewidth\":0,\"ticks\":\"\"}},\"colorscale\":{\"sequential\":[[0.0,\"#0d0887\"],[0.1111111111111111,\"#46039f\"],[0.2222222222222222,\"#7201a8\"],[0.3333333333333333,\"#9c179e\"],[0.4444444444444444,\"#bd3786\"],[0.5555555555555556,\"#d8576b\"],[0.6666666666666666,\"#ed7953\"],[0.7777777777777778,\"#fb9f3a\"],[0.8888888888888888,\"#fdca26\"],[1.0,\"#f0f921\"]],\"sequentialminus\":[[0.0,\"#0d0887\"],[0.1111111111111111,\"#46039f\"],[0.2222222222222222,\"#7201a8\"],[0.3333333333333333,\"#9c179e\"],[0.4444444444444444,\"#bd3786\"],[0.5555555555555556,\"#d8576b\"],[0.6666666666666666,\"#ed7953\"],[0.7777777777777778,\"#fb9f3a\"],[0.8888888888888888,\"#fdca26\"],[1.0,\"#f0f921\"]],\"diverging\":[[0,\"#8e0152\"],[0.1,\"#c51b7d\"],[0.2,\"#de77ae\"],[0.3,\"#f1b6da\"],[0.4,\"#fde0ef\"],[0.5,\"#f7f7f7\"],[0.6,\"#e6f5d0\"],[0.7,\"#b8e186\"],[0.8,\"#7fbc41\"],[0.9,\"#4d9221\"],[1,\"#276419\"]]},\"xaxis\":{\"gridcolor\":\"white\",\"linecolor\":\"white\",\"ticks\":\"\",\"title\":{\"standoff\":15},\"zerolinecolor\":\"white\",\"automargin\":true,\"zerolinewidth\":2},\"yaxis\":{\"gridcolor\":\"white\",\"linecolor\":\"white\",\"ticks\":\"\",\"title\":{\"standoff\":15},\"zerolinecolor\":\"white\",\"automargin\":true,\"zerolinewidth\":2},\"scene\":{\"xaxis\":{\"backgroundcolor\":\"#E5ECF6\",\"gridcolor\":\"white\",\"linecolor\":\"white\",\"showbackground\":true,\"ticks\":\"\",\"zerolinecolor\":\"white\",\"gridwidth\":2},\"yaxis\":{\"backgroundcolor\":\"#E5ECF6\",\"gridcolor\":\"white\",\"linecolor\":\"white\",\"showbackground\":true,\"ticks\":\"\",\"zerolinecolor\":\"white\",\"gridwidth\":2},\"zaxis\":{\"backgroundcolor\":\"#E5ECF6\",\"gridcolor\":\"white\",\"linecolor\":\"white\",\"showbackground\":true,\"ticks\":\"\",\"zerolinecolor\":\"white\",\"gridwidth\":2}},\"shapedefaults\":{\"line\":{\"color\":\"#2a3f5f\"}},\"annotationdefaults\":{\"arrowcolor\":\"#2a3f5f\",\"arrowhead\":0,\"arrowwidth\":1},\"geo\":{\"bgcolor\":\"white\",\"landcolor\":\"#E5ECF6\",\"subunitcolor\":\"white\",\"showland\":true,\"showlakes\":true,\"lakecolor\":\"white\"},\"title\":{\"x\":0.05},\"mapbox\":{\"style\":\"light\"}}},\"yaxis\":{\"title\":{\"text\":\"Date\"},\"tickvals\":[\"2016-04-12T00:00:00\",\"2016-04-13T00:00:00\",\"2016-04-14T00:00:00\",\"2016-04-15T00:00:00\",\"2016-04-16T00:00:00\",\"2016-04-17T00:00:00\",\"2016-04-18T00:00:00\",\"2016-04-19T00:00:00\",\"2016-04-20T00:00:00\",\"2016-04-21T00:00:00\",\"2016-04-22T00:00:00\",\"2016-04-23T00:00:00\",\"2016-04-24T00:00:00\",\"2016-04-25T00:00:00\",\"2016-04-26T00:00:00\",\"2016-04-27T00:00:00\",\"2016-04-28T00:00:00\",\"2016-04-29T00:00:00\",\"2016-04-30T00:00:00\",\"2016-05-01T00:00:00\",\"2016-05-02T00:00:00\",\"2016-05-03T00:00:00\",\"2016-05-04T00:00:00\",\"2016-05-05T00:00:00\",\"2016-05-06T00:00:00\",\"2016-05-07T00:00:00\",\"2016-05-08T00:00:00\",\"2016-05-09T00:00:00\",\"2016-05-10T00:00:00\",\"2016-05-11T00:00:00\",\"2016-05-12T00:00:00\",\"2016-04-12T00:00:00\",\"2016-04-13T00:00:00\",\"2016-04-14T00:00:00\",\"2016-04-15T00:00:00\",\"2016-04-16T00:00:00\",\"2016-04-17T00:00:00\",\"2016-04-18T00:00:00\",\"2016-04-19T00:00:00\",\"2016-04-20T00:00:00\",\"2016-04-21T00:00:00\",\"2016-04-22T00:00:00\",\"2016-04-23T00:00:00\",\"2016-04-24T00:00:00\",\"2016-04-25T00:00:00\",\"2016-04-26T00:00:00\",\"2016-04-27T00:00:00\",\"2016-04-28T00:00:00\",\"2016-04-29T00:00:00\",\"2016-04-30T00:00:00\",\"2016-05-01T00:00:00\",\"2016-05-02T00:00:00\",\"2016-05-03T00:00:00\",\"2016-05-04T00:00:00\",\"2016-05-05T00:00:00\",\"2016-05-06T00:00:00\",\"2016-05-07T00:00:00\",\"2016-05-08T00:00:00\",\"2016-05-09T00:00:00\",\"2016-05-10T00:00:00\",\"2016-05-11T00:00:00\",\"2016-05-12T00:00:00\",\"2016-04-12T00:00:00\",\"2016-04-13T00:00:00\",\"2016-04-14T00:00:00\",\"2016-04-15T00:00:00\",\"2016-04-16T00:00:00\",\"2016-04-17T00:00:00\",\"2016-04-18T00:00:00\",\"2016-04-19T00:00:00\",\"2016-04-20T00:00:00\",\"2016-04-21T00:00:00\",\"2016-04-22T00:00:00\",\"2016-04-23T00:00:00\",\"2016-04-24T00:00:00\",\"2016-04-25T00:00:00\",\"2016-04-26T00:00:00\",\"2016-04-27T00:00:00\",\"2016-04-28T00:00:00\",\"2016-04-29T00:00:00\",\"2016-04-30T00:00:00\",\"2016-05-01T00:00:00\",\"2016-05-02T00:00:00\",\"2016-05-03T00:00:00\",\"2016-05-04T00:00:00\",\"2016-05-05T00:00:00\",\"2016-05-06T00:00:00\",\"2016-05-07T00:00:00\",\"2016-05-08T00:00:00\",\"2016-05-09T00:00:00\",\"2016-05-10T00:00:00\",\"2016-05-11T00:00:00\",\"2016-04-12T00:00:00\",\"2016-04-13T00:00:00\",\"2016-04-14T00:00:00\",\"2016-04-15T00:00:00\",\"2016-04-16T00:00:00\",\"2016-04-17T00:00:00\",\"2016-04-18T00:00:00\",\"2016-04-19T00:00:00\",\"2016-04-20T00:00:00\",\"2016-04-21T00:00:00\",\"2016-04-22T00:00:00\",\"2016-04-23T00:00:00\",\"2016-04-24T00:00:00\",\"2016-04-25T00:00:00\",\"2016-04-26T00:00:00\",\"2016-04-27T00:00:00\",\"2016-04-28T00:00:00\",\"2016-04-29T00:00:00\",\"2016-04-30T00:00:00\",\"2016-05-01T00:00:00\",\"2016-05-02T00:00:00\",\"2016-05-03T00:00:00\",\"2016-05-04T00:00:00\",\"2016-05-05T00:00:00\",\"2016-05-06T00:00:00\",\"2016-05-07T00:00:00\",\"2016-05-08T00:00:00\",\"2016-05-09T00:00:00\",\"2016-05-10T00:00:00\",\"2016-05-11T00:00:00\",\"2016-05-12T00:00:00\",\"2016-04-12T00:00:00\",\"2016-04-13T00:00:00\",\"2016-04-14T00:00:00\",\"2016-04-15T00:00:00\",\"2016-04-16T00:00:00\",\"2016-04-17T00:00:00\",\"2016-04-18T00:00:00\",\"2016-04-19T00:00:00\",\"2016-04-20T00:00:00\",\"2016-04-21T00:00:00\",\"2016-04-22T00:00:00\",\"2016-04-23T00:00:00\",\"2016-04-24T00:00:00\",\"2016-04-25T00:00:00\",\"2016-04-26T00:00:00\",\"2016-04-27T00:00:00\",\"2016-04-28T00:00:00\",\"2016-04-29T00:00:00\",\"2016-04-30T00:00:00\",\"2016-05-01T00:00:00\",\"2016-05-02T00:00:00\",\"2016-05-03T00:00:00\",\"2016-05-04T00:00:00\",\"2016-05-05T00:00:00\",\"2016-05-06T00:00:00\",\"2016-05-07T00:00:00\",\"2016-05-08T00:00:00\",\"2016-05-09T00:00:00\",\"2016-05-10T00:00:00\",\"2016-05-11T00:00:00\",\"2016-05-12T00:00:00\",\"2016-04-12T00:00:00\",\"2016-04-13T00:00:00\",\"2016-04-14T00:00:00\",\"2016-04-15T00:00:00\",\"2016-04-16T00:00:00\",\"2016-04-17T00:00:00\",\"2016-04-18T00:00:00\",\"2016-04-19T00:00:00\",\"2016-04-20T00:00:00\",\"2016-04-21T00:00:00\",\"2016-04-22T00:00:00\",\"2016-04-23T00:00:00\",\"2016-04-24T00:00:00\",\"2016-04-25T00:00:00\",\"2016-04-26T00:00:00\",\"2016-04-27T00:00:00\",\"2016-04-28T00:00:00\",\"2016-04-29T00:00:00\",\"2016-04-30T00:00:00\",\"2016-05-01T00:00:00\",\"2016-05-02T00:00:00\",\"2016-05-03T00:00:00\",\"2016-05-04T00:00:00\",\"2016-05-05T00:00:00\",\"2016-05-06T00:00:00\",\"2016-05-07T00:00:00\",\"2016-05-08T00:00:00\",\"2016-05-09T00:00:00\",\"2016-05-10T00:00:00\",\"2016-05-11T00:00:00\",\"2016-05-12T00:00:00\",\"2016-04-12T00:00:00\",\"2016-04-13T00:00:00\",\"2016-04-14T00:00:00\",\"2016-04-15T00:00:00\",\"2016-04-16T00:00:00\",\"2016-04-17T00:00:00\",\"2016-04-18T00:00:00\",\"2016-04-19T00:00:00\",\"2016-04-20T00:00:00\",\"2016-04-21T00:00:00\",\"2016-04-22T00:00:00\",\"2016-04-23T00:00:00\",\"2016-04-24T00:00:00\",\"2016-04-25T00:00:00\",\"2016-04-26T00:00:00\",\"2016-04-27T00:00:00\",\"2016-04-28T00:00:00\",\"2016-04-29T00:00:00\",\"2016-04-30T00:00:00\",\"2016-05-01T00:00:00\",\"2016-05-02T00:00:00\",\"2016-05-03T00:00:00\",\"2016-05-04T00:00:00\",\"2016-05-05T00:00:00\",\"2016-05-06T00:00:00\",\"2016-05-07T00:00:00\",\"2016-05-08T00:00:00\",\"2016-05-09T00:00:00\",\"2016-05-10T00:00:00\",\"2016-05-11T00:00:00\",\"2016-05-12T00:00:00\",\"2016-04-12T00:00:00\",\"2016-04-13T00:00:00\",\"2016-04-14T00:00:00\",\"2016-04-15T00:00:00\",\"2016-04-16T00:00:00\",\"2016-04-17T00:00:00\",\"2016-04-18T00:00:00\",\"2016-04-19T00:00:00\",\"2016-04-20T00:00:00\",\"2016-04-21T00:00:00\",\"2016-04-22T00:00:00\",\"2016-04-23T00:00:00\",\"2016-04-24T00:00:00\",\"2016-04-25T00:00:00\",\"2016-04-26T00:00:00\",\"2016-04-27T00:00:00\",\"2016-04-28T00:00:00\",\"2016-04-29T00:00:00\",\"2016-04-30T00:00:00\",\"2016-05-01T00:00:00\",\"2016-05-02T00:00:00\",\"2016-05-03T00:00:00\",\"2016-05-04T00:00:00\",\"2016-05-05T00:00:00\",\"2016-05-06T00:00:00\",\"2016-05-07T00:00:00\",\"2016-05-08T00:00:00\",\"2016-05-09T00:00:00\",\"2016-05-10T00:00:00\",\"2016-05-11T00:00:00\",\"2016-05-12T00:00:00\",\"2016-04-12T00:00:00\",\"2016-04-13T00:00:00\",\"2016-04-14T00:00:00\",\"2016-04-15T00:00:00\",\"2016-04-16T00:00:00\",\"2016-04-17T00:00:00\",\"2016-04-18T00:00:00\",\"2016-04-19T00:00:00\",\"2016-04-20T00:00:00\",\"2016-04-21T00:00:00\",\"2016-04-22T00:00:00\",\"2016-04-23T00:00:00\",\"2016-04-24T00:00:00\",\"2016-04-25T00:00:00\",\"2016-04-26T00:00:00\",\"2016-04-27T00:00:00\",\"2016-04-28T00:00:00\",\"2016-04-29T00:00:00\",\"2016-04-12T00:00:00\",\"2016-04-13T00:00:00\",\"2016-04-14T00:00:00\",\"2016-04-15T00:00:00\",\"2016-04-16T00:00:00\",\"2016-04-17T00:00:00\",\"2016-04-18T00:00:00\",\"2016-04-19T00:00:00\",\"2016-04-20T00:00:00\",\"2016-04-21T00:00:00\",\"2016-04-22T00:00:00\",\"2016-04-23T00:00:00\",\"2016-04-24T00:00:00\",\"2016-04-25T00:00:00\",\"2016-04-26T00:00:00\",\"2016-04-27T00:00:00\",\"2016-04-28T00:00:00\",\"2016-04-29T00:00:00\",\"2016-04-30T00:00:00\",\"2016-05-01T00:00:00\",\"2016-05-02T00:00:00\",\"2016-05-03T00:00:00\",\"2016-05-04T00:00:00\",\"2016-05-05T00:00:00\",\"2016-05-06T00:00:00\",\"2016-05-07T00:00:00\",\"2016-05-08T00:00:00\",\"2016-05-09T00:00:00\",\"2016-05-10T00:00:00\",\"2016-05-11T00:00:00\",\"2016-05-12T00:00:00\",\"2016-04-12T00:00:00\",\"2016-04-13T00:00:00\",\"2016-04-14T00:00:00\",\"2016-04-15T00:00:00\",\"2016-04-16T00:00:00\",\"2016-04-17T00:00:00\",\"2016-04-18T00:00:00\",\"2016-04-19T00:00:00\",\"2016-04-20T00:00:00\",\"2016-04-21T00:00:00\",\"2016-04-22T00:00:00\",\"2016-04-23T00:00:00\",\"2016-04-24T00:00:00\",\"2016-04-25T00:00:00\",\"2016-04-26T00:00:00\",\"2016-04-27T00:00:00\",\"2016-04-28T00:00:00\",\"2016-04-29T00:00:00\",\"2016-04-30T00:00:00\",\"2016-05-01T00:00:00\",\"2016-04-12T00:00:00\",\"2016-04-13T00:00:00\",\"2016-04-14T00:00:00\",\"2016-04-15T00:00:00\",\"2016-04-16T00:00:00\",\"2016-04-17T00:00:00\",\"2016-04-18T00:00:00\",\"2016-04-19T00:00:00\",\"2016-04-20T00:00:00\",\"2016-04-21T00:00:00\",\"2016-04-22T00:00:00\",\"2016-04-23T00:00:00\",\"2016-04-24T00:00:00\",\"2016-04-25T00:00:00\",\"2016-04-26T00:00:00\",\"2016-04-27T00:00:00\",\"2016-04-28T00:00:00\",\"2016-04-29T00:00:00\",\"2016-04-30T00:00:00\",\"2016-05-01T00:00:00\",\"2016-05-02T00:00:00\",\"2016-05-03T00:00:00\",\"2016-05-04T00:00:00\",\"2016-05-05T00:00:00\",\"2016-05-06T00:00:00\",\"2016-05-07T00:00:00\",\"2016-05-08T00:00:00\",\"2016-05-09T00:00:00\",\"2016-05-10T00:00:00\",\"2016-05-11T00:00:00\",\"2016-04-12T00:00:00\",\"2016-04-13T00:00:00\",\"2016-04-14T00:00:00\",\"2016-04-15T00:00:00\",\"2016-04-16T00:00:00\",\"2016-04-17T00:00:00\",\"2016-04-18T00:00:00\",\"2016-04-19T00:00:00\",\"2016-04-20T00:00:00\",\"2016-04-21T00:00:00\",\"2016-04-22T00:00:00\",\"2016-04-23T00:00:00\",\"2016-04-24T00:00:00\",\"2016-04-25T00:00:00\",\"2016-04-26T00:00:00\",\"2016-04-27T00:00:00\",\"2016-04-28T00:00:00\",\"2016-04-29T00:00:00\",\"2016-04-30T00:00:00\",\"2016-05-01T00:00:00\",\"2016-05-02T00:00:00\",\"2016-05-03T00:00:00\",\"2016-05-04T00:00:00\",\"2016-05-05T00:00:00\",\"2016-05-06T00:00:00\",\"2016-05-07T00:00:00\",\"2016-05-08T00:00:00\",\"2016-05-09T00:00:00\",\"2016-05-10T00:00:00\",\"2016-05-11T00:00:00\",\"2016-05-12T00:00:00\",\"2016-04-12T00:00:00\",\"2016-04-13T00:00:00\",\"2016-04-14T00:00:00\",\"2016-04-15T00:00:00\",\"2016-04-12T00:00:00\",\"2016-04-13T00:00:00\",\"2016-04-14T00:00:00\",\"2016-04-15T00:00:00\",\"2016-04-16T00:00:00\",\"2016-04-17T00:00:00\",\"2016-04-18T00:00:00\",\"2016-04-19T00:00:00\",\"2016-04-20T00:00:00\",\"2016-04-21T00:00:00\",\"2016-04-22T00:00:00\",\"2016-04-23T00:00:00\",\"2016-04-24T00:00:00\",\"2016-04-25T00:00:00\",\"2016-04-26T00:00:00\",\"2016-04-27T00:00:00\",\"2016-04-28T00:00:00\",\"2016-04-29T00:00:00\",\"2016-04-30T00:00:00\",\"2016-05-01T00:00:00\",\"2016-05-02T00:00:00\",\"2016-05-03T00:00:00\",\"2016-05-04T00:00:00\",\"2016-05-05T00:00:00\",\"2016-05-06T00:00:00\",\"2016-05-07T00:00:00\",\"2016-05-08T00:00:00\",\"2016-05-09T00:00:00\",\"2016-05-10T00:00:00\",\"2016-05-11T00:00:00\",\"2016-05-12T00:00:00\",\"2016-04-12T00:00:00\",\"2016-04-13T00:00:00\",\"2016-04-14T00:00:00\",\"2016-04-15T00:00:00\",\"2016-04-16T00:00:00\",\"2016-04-17T00:00:00\",\"2016-04-18T00:00:00\",\"2016-04-19T00:00:00\",\"2016-04-20T00:00:00\",\"2016-04-21T00:00:00\",\"2016-04-22T00:00:00\",\"2016-04-23T00:00:00\",\"2016-04-24T00:00:00\",\"2016-04-25T00:00:00\",\"2016-04-26T00:00:00\",\"2016-04-27T00:00:00\",\"2016-04-28T00:00:00\",\"2016-04-29T00:00:00\",\"2016-04-30T00:00:00\",\"2016-05-01T00:00:00\",\"2016-05-02T00:00:00\",\"2016-05-03T00:00:00\",\"2016-05-04T00:00:00\",\"2016-05-05T00:00:00\",\"2016-05-06T00:00:00\",\"2016-05-07T00:00:00\",\"2016-05-08T00:00:00\",\"2016-05-09T00:00:00\",\"2016-05-10T00:00:00\",\"2016-05-11T00:00:00\",\"2016-05-12T00:00:00\",\"2016-04-12T00:00:00\",\"2016-04-13T00:00:00\",\"2016-04-14T00:00:00\",\"2016-04-15T00:00:00\",\"2016-04-16T00:00:00\",\"2016-04-17T00:00:00\",\"2016-04-18T00:00:00\",\"2016-04-19T00:00:00\",\"2016-04-20T00:00:00\",\"2016-04-21T00:00:00\",\"2016-04-22T00:00:00\",\"2016-04-23T00:00:00\",\"2016-04-24T00:00:00\",\"2016-04-25T00:00:00\",\"2016-04-26T00:00:00\",\"2016-04-27T00:00:00\",\"2016-04-28T00:00:00\",\"2016-04-29T00:00:00\",\"2016-04-30T00:00:00\",\"2016-05-01T00:00:00\",\"2016-05-02T00:00:00\",\"2016-05-03T00:00:00\",\"2016-05-04T00:00:00\",\"2016-05-05T00:00:00\",\"2016-05-06T00:00:00\",\"2016-05-07T00:00:00\",\"2016-05-08T00:00:00\",\"2016-05-09T00:00:00\",\"2016-05-10T00:00:00\",\"2016-05-11T00:00:00\",\"2016-05-12T00:00:00\",\"2016-04-12T00:00:00\",\"2016-04-13T00:00:00\",\"2016-04-14T00:00:00\",\"2016-04-15T00:00:00\",\"2016-04-16T00:00:00\",\"2016-04-17T00:00:00\",\"2016-04-18T00:00:00\",\"2016-04-19T00:00:00\",\"2016-04-20T00:00:00\",\"2016-04-21T00:00:00\",\"2016-04-22T00:00:00\",\"2016-04-23T00:00:00\",\"2016-04-24T00:00:00\",\"2016-04-25T00:00:00\",\"2016-04-26T00:00:00\",\"2016-04-27T00:00:00\",\"2016-04-28T00:00:00\",\"2016-04-29T00:00:00\",\"2016-04-30T00:00:00\",\"2016-05-01T00:00:00\",\"2016-05-02T00:00:00\",\"2016-05-03T00:00:00\",\"2016-05-04T00:00:00\",\"2016-05-05T00:00:00\",\"2016-05-06T00:00:00\",\"2016-05-07T00:00:00\",\"2016-05-08T00:00:00\",\"2016-05-09T00:00:00\",\"2016-05-10T00:00:00\",\"2016-05-11T00:00:00\",\"2016-05-12T00:00:00\",\"2016-04-12T00:00:00\",\"2016-04-13T00:00:00\",\"2016-04-14T00:00:00\",\"2016-04-15T00:00:00\",\"2016-04-16T00:00:00\",\"2016-04-17T00:00:00\",\"2016-04-18T00:00:00\",\"2016-04-19T00:00:00\",\"2016-04-20T00:00:00\",\"2016-04-21T00:00:00\",\"2016-04-22T00:00:00\",\"2016-04-23T00:00:00\",\"2016-04-24T00:00:00\",\"2016-04-25T00:00:00\",\"2016-04-26T00:00:00\",\"2016-04-27T00:00:00\",\"2016-04-28T00:00:00\",\"2016-04-29T00:00:00\",\"2016-04-30T00:00:00\",\"2016-05-01T00:00:00\",\"2016-05-02T00:00:00\",\"2016-05-03T00:00:00\",\"2016-05-04T00:00:00\",\"2016-05-05T00:00:00\",\"2016-05-06T00:00:00\",\"2016-05-07T00:00:00\",\"2016-05-08T00:00:00\",\"2016-05-09T00:00:00\",\"2016-05-10T00:00:00\",\"2016-05-11T00:00:00\",\"2016-05-12T00:00:00\",\"2016-04-12T00:00:00\",\"2016-04-13T00:00:00\",\"2016-04-14T00:00:00\",\"2016-04-15T00:00:00\",\"2016-04-16T00:00:00\",\"2016-04-17T00:00:00\",\"2016-04-18T00:00:00\",\"2016-04-19T00:00:00\",\"2016-04-20T00:00:00\",\"2016-04-21T00:00:00\",\"2016-04-22T00:00:00\",\"2016-04-23T00:00:00\",\"2016-04-24T00:00:00\",\"2016-04-25T00:00:00\",\"2016-04-26T00:00:00\",\"2016-04-27T00:00:00\",\"2016-04-28T00:00:00\",\"2016-04-29T00:00:00\",\"2016-04-30T00:00:00\",\"2016-05-01T00:00:00\",\"2016-05-02T00:00:00\",\"2016-05-03T00:00:00\",\"2016-05-04T00:00:00\",\"2016-05-05T00:00:00\",\"2016-05-06T00:00:00\",\"2016-05-07T00:00:00\",\"2016-05-08T00:00:00\",\"2016-05-09T00:00:00\",\"2016-05-10T00:00:00\",\"2016-05-11T00:00:00\",\"2016-05-12T00:00:00\",\"2016-04-12T00:00:00\",\"2016-04-13T00:00:00\",\"2016-04-14T00:00:00\",\"2016-04-15T00:00:00\",\"2016-04-16T00:00:00\",\"2016-04-17T00:00:00\",\"2016-04-18T00:00:00\",\"2016-04-19T00:00:00\",\"2016-04-20T00:00:00\",\"2016-04-21T00:00:00\",\"2016-04-22T00:00:00\",\"2016-04-23T00:00:00\",\"2016-04-24T00:00:00\",\"2016-04-25T00:00:00\",\"2016-04-26T00:00:00\",\"2016-04-27T00:00:00\",\"2016-04-28T00:00:00\",\"2016-04-29T00:00:00\",\"2016-04-30T00:00:00\",\"2016-05-01T00:00:00\",\"2016-05-02T00:00:00\",\"2016-05-03T00:00:00\",\"2016-05-04T00:00:00\",\"2016-05-05T00:00:00\",\"2016-05-06T00:00:00\",\"2016-05-07T00:00:00\",\"2016-05-08T00:00:00\",\"2016-05-09T00:00:00\",\"2016-05-10T00:00:00\",\"2016-05-11T00:00:00\",\"2016-04-12T00:00:00\",\"2016-04-13T00:00:00\",\"2016-04-14T00:00:00\",\"2016-04-15T00:00:00\",\"2016-04-16T00:00:00\",\"2016-04-17T00:00:00\",\"2016-04-18T00:00:00\",\"2016-04-19T00:00:00\",\"2016-04-20T00:00:00\",\"2016-04-21T00:00:00\",\"2016-04-22T00:00:00\",\"2016-04-23T00:00:00\",\"2016-04-24T00:00:00\",\"2016-04-25T00:00:00\",\"2016-04-26T00:00:00\",\"2016-04-27T00:00:00\",\"2016-04-28T00:00:00\",\"2016-04-29T00:00:00\",\"2016-04-30T00:00:00\",\"2016-05-01T00:00:00\",\"2016-05-02T00:00:00\",\"2016-05-03T00:00:00\",\"2016-05-04T00:00:00\",\"2016-05-05T00:00:00\",\"2016-05-06T00:00:00\",\"2016-05-07T00:00:00\",\"2016-05-08T00:00:00\",\"2016-05-09T00:00:00\",\"2016-04-12T00:00:00\",\"2016-04-13T00:00:00\",\"2016-04-14T00:00:00\",\"2016-04-15T00:00:00\",\"2016-04-16T00:00:00\",\"2016-04-17T00:00:00\",\"2016-04-18T00:00:00\",\"2016-04-19T00:00:00\",\"2016-04-20T00:00:00\",\"2016-04-21T00:00:00\",\"2016-04-22T00:00:00\",\"2016-04-23T00:00:00\",\"2016-04-24T00:00:00\",\"2016-04-25T00:00:00\",\"2016-04-26T00:00:00\",\"2016-04-27T00:00:00\",\"2016-04-28T00:00:00\",\"2016-04-29T00:00:00\",\"2016-04-30T00:00:00\",\"2016-05-01T00:00:00\",\"2016-05-02T00:00:00\",\"2016-05-03T00:00:00\",\"2016-05-04T00:00:00\",\"2016-05-05T00:00:00\",\"2016-05-06T00:00:00\",\"2016-05-07T00:00:00\",\"2016-05-08T00:00:00\",\"2016-05-09T00:00:00\",\"2016-05-10T00:00:00\",\"2016-04-12T00:00:00\",\"2016-04-13T00:00:00\",\"2016-04-14T00:00:00\",\"2016-04-15T00:00:00\",\"2016-04-16T00:00:00\",\"2016-04-17T00:00:00\",\"2016-04-18T00:00:00\",\"2016-04-19T00:00:00\",\"2016-04-20T00:00:00\",\"2016-04-21T00:00:00\",\"2016-04-22T00:00:00\",\"2016-04-23T00:00:00\",\"2016-04-24T00:00:00\",\"2016-04-25T00:00:00\",\"2016-04-26T00:00:00\",\"2016-04-27T00:00:00\",\"2016-04-28T00:00:00\",\"2016-04-29T00:00:00\",\"2016-04-30T00:00:00\",\"2016-05-01T00:00:00\",\"2016-05-02T00:00:00\",\"2016-05-03T00:00:00\",\"2016-05-04T00:00:00\",\"2016-05-05T00:00:00\",\"2016-05-06T00:00:00\",\"2016-05-07T00:00:00\",\"2016-04-12T00:00:00\",\"2016-04-13T00:00:00\",\"2016-04-14T00:00:00\",\"2016-04-15T00:00:00\",\"2016-04-16T00:00:00\",\"2016-04-17T00:00:00\",\"2016-04-18T00:00:00\",\"2016-04-19T00:00:00\",\"2016-04-20T00:00:00\",\"2016-04-21T00:00:00\",\"2016-04-22T00:00:00\",\"2016-04-23T00:00:00\",\"2016-04-24T00:00:00\",\"2016-04-25T00:00:00\",\"2016-04-26T00:00:00\",\"2016-04-27T00:00:00\",\"2016-04-28T00:00:00\",\"2016-04-29T00:00:00\",\"2016-04-30T00:00:00\",\"2016-05-01T00:00:00\",\"2016-05-02T00:00:00\",\"2016-05-03T00:00:00\",\"2016-05-04T00:00:00\",\"2016-05-05T00:00:00\",\"2016-05-06T00:00:00\",\"2016-05-07T00:00:00\",\"2016-05-08T00:00:00\",\"2016-05-09T00:00:00\",\"2016-05-10T00:00:00\",\"2016-05-11T00:00:00\",\"2016-05-12T00:00:00\",\"2016-04-12T00:00:00\",\"2016-04-13T00:00:00\",\"2016-04-14T00:00:00\",\"2016-04-15T00:00:00\",\"2016-04-16T00:00:00\",\"2016-04-17T00:00:00\",\"2016-04-18T00:00:00\",\"2016-04-19T00:00:00\",\"2016-04-20T00:00:00\",\"2016-04-21T00:00:00\",\"2016-04-22T00:00:00\",\"2016-04-23T00:00:00\",\"2016-04-24T00:00:00\",\"2016-04-25T00:00:00\",\"2016-04-26T00:00:00\",\"2016-04-27T00:00:00\",\"2016-04-28T00:00:00\",\"2016-04-29T00:00:00\",\"2016-04-30T00:00:00\",\"2016-05-01T00:00:00\",\"2016-05-02T00:00:00\",\"2016-05-03T00:00:00\",\"2016-05-04T00:00:00\",\"2016-05-05T00:00:00\",\"2016-05-06T00:00:00\",\"2016-05-07T00:00:00\",\"2016-04-12T00:00:00\",\"2016-04-13T00:00:00\",\"2016-04-14T00:00:00\",\"2016-04-15T00:00:00\",\"2016-04-16T00:00:00\",\"2016-04-17T00:00:00\",\"2016-04-18T00:00:00\",\"2016-04-19T00:00:00\",\"2016-04-20T00:00:00\",\"2016-04-21T00:00:00\",\"2016-04-22T00:00:00\",\"2016-04-23T00:00:00\",\"2016-04-24T00:00:00\",\"2016-04-25T00:00:00\",\"2016-04-26T00:00:00\",\"2016-04-27T00:00:00\",\"2016-04-28T00:00:00\",\"2016-04-29T00:00:00\",\"2016-04-30T00:00:00\",\"2016-05-01T00:00:00\",\"2016-05-02T00:00:00\",\"2016-05-03T00:00:00\",\"2016-05-04T00:00:00\",\"2016-05-05T00:00:00\",\"2016-05-06T00:00:00\",\"2016-05-07T00:00:00\",\"2016-05-08T00:00:00\",\"2016-05-09T00:00:00\",\"2016-05-10T00:00:00\",\"2016-05-11T00:00:00\",\"2016-05-12T00:00:00\",\"2016-04-12T00:00:00\",\"2016-04-13T00:00:00\",\"2016-04-14T00:00:00\",\"2016-04-15T00:00:00\",\"2016-04-16T00:00:00\",\"2016-04-17T00:00:00\",\"2016-04-18T00:00:00\",\"2016-04-19T00:00:00\",\"2016-04-20T00:00:00\",\"2016-04-21T00:00:00\",\"2016-04-22T00:00:00\",\"2016-04-23T00:00:00\",\"2016-04-24T00:00:00\",\"2016-04-25T00:00:00\",\"2016-04-26T00:00:00\",\"2016-04-27T00:00:00\",\"2016-04-28T00:00:00\",\"2016-04-29T00:00:00\",\"2016-04-30T00:00:00\",\"2016-05-01T00:00:00\",\"2016-05-02T00:00:00\",\"2016-05-03T00:00:00\",\"2016-05-04T00:00:00\",\"2016-05-05T00:00:00\",\"2016-05-06T00:00:00\",\"2016-05-07T00:00:00\",\"2016-05-08T00:00:00\",\"2016-05-09T00:00:00\",\"2016-05-10T00:00:00\",\"2016-05-11T00:00:00\",\"2016-05-12T00:00:00\",\"2016-04-12T00:00:00\",\"2016-04-13T00:00:00\",\"2016-04-14T00:00:00\",\"2016-04-15T00:00:00\",\"2016-04-16T00:00:00\",\"2016-04-17T00:00:00\",\"2016-04-18T00:00:00\",\"2016-04-19T00:00:00\",\"2016-04-20T00:00:00\",\"2016-04-21T00:00:00\",\"2016-04-22T00:00:00\",\"2016-04-23T00:00:00\",\"2016-04-24T00:00:00\",\"2016-04-25T00:00:00\",\"2016-04-26T00:00:00\",\"2016-04-27T00:00:00\",\"2016-04-28T00:00:00\",\"2016-04-29T00:00:00\",\"2016-04-30T00:00:00\",\"2016-04-12T00:00:00\",\"2016-04-13T00:00:00\",\"2016-04-14T00:00:00\",\"2016-04-15T00:00:00\",\"2016-04-16T00:00:00\",\"2016-04-17T00:00:00\",\"2016-04-18T00:00:00\",\"2016-04-19T00:00:00\",\"2016-04-20T00:00:00\",\"2016-04-21T00:00:00\",\"2016-04-22T00:00:00\",\"2016-04-23T00:00:00\",\"2016-04-24T00:00:00\",\"2016-04-25T00:00:00\",\"2016-04-26T00:00:00\",\"2016-04-27T00:00:00\",\"2016-04-28T00:00:00\",\"2016-04-29T00:00:00\",\"2016-04-30T00:00:00\",\"2016-05-01T00:00:00\",\"2016-05-02T00:00:00\",\"2016-05-03T00:00:00\",\"2016-05-04T00:00:00\",\"2016-05-05T00:00:00\",\"2016-05-06T00:00:00\",\"2016-05-07T00:00:00\",\"2016-05-08T00:00:00\",\"2016-05-09T00:00:00\",\"2016-05-10T00:00:00\",\"2016-05-11T00:00:00\",\"2016-05-12T00:00:00\",\"2016-04-12T00:00:00\",\"2016-04-13T00:00:00\",\"2016-04-14T00:00:00\",\"2016-04-15T00:00:00\",\"2016-04-16T00:00:00\",\"2016-04-17T00:00:00\",\"2016-04-18T00:00:00\",\"2016-04-19T00:00:00\",\"2016-04-20T00:00:00\",\"2016-04-21T00:00:00\",\"2016-04-22T00:00:00\",\"2016-04-23T00:00:00\",\"2016-04-24T00:00:00\",\"2016-04-25T00:00:00\",\"2016-04-26T00:00:00\",\"2016-04-27T00:00:00\",\"2016-04-28T00:00:00\",\"2016-04-29T00:00:00\",\"2016-04-30T00:00:00\",\"2016-05-01T00:00:00\",\"2016-05-02T00:00:00\",\"2016-05-03T00:00:00\",\"2016-05-04T00:00:00\",\"2016-05-05T00:00:00\",\"2016-05-06T00:00:00\",\"2016-05-07T00:00:00\",\"2016-05-08T00:00:00\",\"2016-05-09T00:00:00\",\"2016-05-10T00:00:00\",\"2016-05-11T00:00:00\",\"2016-05-12T00:00:00\",\"2016-04-12T00:00:00\",\"2016-04-13T00:00:00\",\"2016-04-14T00:00:00\",\"2016-04-15T00:00:00\",\"2016-04-16T00:00:00\",\"2016-04-17T00:00:00\",\"2016-04-18T00:00:00\",\"2016-04-19T00:00:00\",\"2016-04-20T00:00:00\",\"2016-04-21T00:00:00\",\"2016-04-22T00:00:00\",\"2016-04-23T00:00:00\",\"2016-04-24T00:00:00\",\"2016-04-25T00:00:00\",\"2016-04-26T00:00:00\",\"2016-04-27T00:00:00\",\"2016-04-28T00:00:00\",\"2016-04-29T00:00:00\",\"2016-04-30T00:00:00\",\"2016-05-01T00:00:00\",\"2016-05-02T00:00:00\",\"2016-05-03T00:00:00\",\"2016-05-04T00:00:00\",\"2016-05-05T00:00:00\",\"2016-05-06T00:00:00\",\"2016-05-07T00:00:00\",\"2016-05-08T00:00:00\",\"2016-05-09T00:00:00\",\"2016-05-10T00:00:00\",\"2016-04-12T00:00:00\",\"2016-04-13T00:00:00\",\"2016-04-14T00:00:00\",\"2016-04-15T00:00:00\",\"2016-04-16T00:00:00\",\"2016-04-17T00:00:00\",\"2016-04-18T00:00:00\",\"2016-04-19T00:00:00\",\"2016-04-20T00:00:00\",\"2016-04-21T00:00:00\",\"2016-04-22T00:00:00\",\"2016-04-23T00:00:00\",\"2016-04-24T00:00:00\",\"2016-04-25T00:00:00\",\"2016-04-26T00:00:00\",\"2016-04-27T00:00:00\",\"2016-04-28T00:00:00\",\"2016-04-29T00:00:00\",\"2016-04-30T00:00:00\",\"2016-05-01T00:00:00\",\"2016-05-02T00:00:00\",\"2016-05-03T00:00:00\",\"2016-05-04T00:00:00\",\"2016-05-05T00:00:00\",\"2016-05-06T00:00:00\",\"2016-05-07T00:00:00\",\"2016-05-08T00:00:00\",\"2016-05-09T00:00:00\",\"2016-05-10T00:00:00\",\"2016-05-11T00:00:00\",\"2016-05-12T00:00:00\"],\"autorange\":\"reversed\"},\"title\":{\"text\":\"Steps per Date for all users\"},\"xaxis\":{\"title\":{\"text\":\"Total number of steps\"}},\"height\":750},                        {\"responsive\": true}                    ).then(function(){\n",
       "                            \n",
       "var gd = document.getElementById('99554dc9-2d3e-4f43-b70c-2fd949da31e4');\n",
       "var x = new MutationObserver(function (mutations, observer) {{\n",
       "        var display = window.getComputedStyle(gd).display;\n",
       "        if (!display || display === 'none') {{\n",
       "            console.log([gd, 'removed!']);\n",
       "            Plotly.purge(gd);\n",
       "            observer.disconnect();\n",
       "        }}\n",
       "}});\n",
       "\n",
       "// Listen for the removal of the full notebook cells\n",
       "var notebookContainer = gd.closest('#notebook-container');\n",
       "if (notebookContainer) {{\n",
       "    x.observe(notebookContainer, {childList: true});\n",
       "}}\n",
       "\n",
       "// Listen for the clearing of the current output cell\n",
       "var outputEl = gd.closest('.output');\n",
       "if (outputEl) {{\n",
       "    x.observe(outputEl, {childList: true});\n",
       "}}\n",
       "\n",
       "                        })                };                });            </script>        </div>"
      ]
     },
     "metadata": {},
     "output_type": "display_data"
    },
    {
     "name": "stdout",
     "output_type": "stream",
     "text": [
      "Number of rows which contain 0 steps taken in a day: 77\n"
     ]
    }
   ],
   "source": [
    "# Calculate average steps per date\n",
    "avg_steps_per_date = df_activity.groupby('ActivityDate')['TotalSteps'].mean()\n",
    "\n",
    "# Create a scatter plot\n",
    "fig = go.Figure(data=go.Scatter(x=df_activity['TotalSteps'], y=df_activity['ActivityDate'], mode='markers', hovertemplate='Steps: %{x}<br>%{y}',\n",
    "                                marker=dict(color=df_activity['TotalSteps'], colorscale='Portland_r', colorbar=dict(title='Total Steps')), name='', showlegend=False))\n",
    "\n",
    "# Add average line\n",
    "fig.add_trace(go.Scatter(x=avg_steps_per_date, y=avg_steps_per_date.index, mode='lines', name='Average Steps per Date', line=dict(color='grey', dash='dashdot'), showlegend=False,\n",
    "                         hovertemplate='Average Steps: %{x} <br>%{y}<extra></extra>'))\n",
    "\n",
    "# Customize layout\n",
    "fig.update_layout(\n",
    "    title='Steps per Date for all users', xaxis_title='Total number of steps', yaxis_title='Date',\n",
    "    yaxis=dict(tickvals=df_activity['ActivityDate'], autorange='reversed'), height=750)\n",
    "\n",
    "# Show plot\n",
    "fig.show()\n",
    "\n",
    "print(\"Number of rows which contain 0 steps taken in a day:\",len(df_activity[df_activity[\"TotalSteps\"] == 0]))"
   ]
  },
  {
   "cell_type": "markdown",
   "id": "dcb859e0",
   "metadata": {
    "papermill": {
     "duration": 0.023493,
     "end_time": "2024-05-16T18:47:36.050579",
     "exception": false,
     "start_time": "2024-05-16T18:47:36.027086",
     "status": "completed"
    },
    "tags": []
   },
   "source": [
    "<p style=\"font-size:18px;\"> Again, no obvious trend was found. Although there does appear to be a sharp drop off in steps on the 12th of May. Going forward, I would advise the stakeholders that more data across a longer timeframe and the location of the users would allow for further analysis to determine if the time of the year and location has an impact on how the users are using the fitness trackers and whether the summer months result in increased fitness for the users.\n",
    "    \n",
    "<p style=\"font-size:18px;\"> To dive deeper into how users were taking steps I used the hourly steps dataset. Which as the name suggests tracks the number of steps each user took per hour. I wanted to see if there was any trends between time of the day and the number of steps users were adding to the step tracker. Before any analysis was completed I wanted to visualize the data to understand the size and datatypes included within this dataset."
   ]
  },
  {
   "cell_type": "code",
   "execution_count": 18,
   "id": "3eb8b842",
   "metadata": {
    "execution": {
     "iopub.execute_input": "2024-05-16T18:47:36.100250Z",
     "iopub.status.busy": "2024-05-16T18:47:36.099782Z",
     "iopub.status.idle": "2024-05-16T18:47:36.117103Z",
     "shell.execute_reply": "2024-05-16T18:47:36.115348Z"
    },
    "papermill": {
     "duration": 0.046431,
     "end_time": "2024-05-16T18:47:36.120373",
     "exception": false,
     "start_time": "2024-05-16T18:47:36.073942",
     "status": "completed"
    },
    "tags": []
   },
   "outputs": [
    {
     "name": "stdout",
     "output_type": "stream",
     "text": [
      "<class 'pandas.core.frame.DataFrame'>\n",
      "RangeIndex: 22099 entries, 0 to 22098\n",
      "Data columns (total 3 columns):\n",
      " #   Column        Non-Null Count  Dtype \n",
      "---  ------        --------------  ----- \n",
      " 0   Id            22099 non-null  int64 \n",
      " 1   ActivityHour  22099 non-null  object\n",
      " 2   StepTotal     22099 non-null  int64 \n",
      "dtypes: int64(2), object(1)\n",
      "memory usage: 518.1+ KB\n",
      "None\n"
     ]
    }
   ],
   "source": [
    "print(df_steps.info())"
   ]
  },
  {
   "cell_type": "markdown",
   "id": "d2e12c3e",
   "metadata": {
    "papermill": {
     "duration": 0.02407,
     "end_time": "2024-05-16T18:47:36.170192",
     "exception": false,
     "start_time": "2024-05-16T18:47:36.146122",
     "status": "completed"
    },
    "tags": []
   },
   "source": [
    "<p style=\"font-size:18px;\"> The above information tells me that there are 3 columns the ID of the user, the hour and the step total for that hour. The first error I noticed is that the \"ActivityHour\" column has the datatype object instead of the correct datetime datatype and so the following code ammends this."
   ]
  },
  {
   "cell_type": "code",
   "execution_count": 19,
   "id": "b0ce46f5",
   "metadata": {
    "execution": {
     "iopub.execute_input": "2024-05-16T18:47:36.221777Z",
     "iopub.status.busy": "2024-05-16T18:47:36.221316Z",
     "iopub.status.idle": "2024-05-16T18:47:36.392743Z",
     "shell.execute_reply": "2024-05-16T18:47:36.391446Z"
    },
    "papermill": {
     "duration": 0.200776,
     "end_time": "2024-05-16T18:47:36.395507",
     "exception": false,
     "start_time": "2024-05-16T18:47:36.194731",
     "status": "completed"
    },
    "tags": []
   },
   "outputs": [
    {
     "data": {
      "text/html": [
       "<div>\n",
       "<style scoped>\n",
       "    .dataframe tbody tr th:only-of-type {\n",
       "        vertical-align: middle;\n",
       "    }\n",
       "\n",
       "    .dataframe tbody tr th {\n",
       "        vertical-align: top;\n",
       "    }\n",
       "\n",
       "    .dataframe thead th {\n",
       "        text-align: right;\n",
       "    }\n",
       "</style>\n",
       "<table border=\"1\" class=\"dataframe\">\n",
       "  <thead>\n",
       "    <tr style=\"text-align: right;\">\n",
       "      <th></th>\n",
       "      <th>Id</th>\n",
       "      <th>ActivityHour</th>\n",
       "      <th>StepTotal</th>\n",
       "    </tr>\n",
       "  </thead>\n",
       "  <tbody>\n",
       "    <tr>\n",
       "      <th>0</th>\n",
       "      <td>1503960366</td>\n",
       "      <td>2016-04-12 00:00:00</td>\n",
       "      <td>373</td>\n",
       "    </tr>\n",
       "    <tr>\n",
       "      <th>1</th>\n",
       "      <td>1503960366</td>\n",
       "      <td>2016-04-12 01:00:00</td>\n",
       "      <td>160</td>\n",
       "    </tr>\n",
       "    <tr>\n",
       "      <th>2</th>\n",
       "      <td>1503960366</td>\n",
       "      <td>2016-04-12 02:00:00</td>\n",
       "      <td>151</td>\n",
       "    </tr>\n",
       "    <tr>\n",
       "      <th>3</th>\n",
       "      <td>1503960366</td>\n",
       "      <td>2016-04-12 03:00:00</td>\n",
       "      <td>0</td>\n",
       "    </tr>\n",
       "    <tr>\n",
       "      <th>4</th>\n",
       "      <td>1503960366</td>\n",
       "      <td>2016-04-12 04:00:00</td>\n",
       "      <td>0</td>\n",
       "    </tr>\n",
       "  </tbody>\n",
       "</table>\n",
       "</div>"
      ],
      "text/plain": [
       "           Id        ActivityHour  StepTotal\n",
       "0  1503960366 2016-04-12 00:00:00        373\n",
       "1  1503960366 2016-04-12 01:00:00        160\n",
       "2  1503960366 2016-04-12 02:00:00        151\n",
       "3  1503960366 2016-04-12 03:00:00          0\n",
       "4  1503960366 2016-04-12 04:00:00          0"
      ]
     },
     "execution_count": 19,
     "metadata": {},
     "output_type": "execute_result"
    }
   ],
   "source": [
    "# Convert \"ActivityHour\" to datetime format\n",
    "df_steps['ActivityHour'] = pd.to_datetime(df_steps['ActivityHour'], format='%m/%d/%Y %I:%M:%S %p')\n",
    "\n",
    "df_steps.head()"
   ]
  },
  {
   "cell_type": "markdown",
   "id": "cef08092",
   "metadata": {
    "papermill": {
     "duration": 0.024017,
     "end_time": "2024-05-16T18:47:36.443933",
     "exception": false,
     "start_time": "2024-05-16T18:47:36.419916",
     "status": "completed"
    },
    "tags": []
   },
   "source": [
    "<p style=\"font-size:18px;\"> Next I could begin prepare the data for analysis. I began by extracting the time from the \"ActivityHour\" column as this would allow me to group the data by the hour of the day regardless of the date. I grouped the data by hour of the day and calculated the average number of steps per hour. I then ensured that the data is in the correct format and ordered the data in chronological order from 12am through to 11pm.    "
   ]
  },
  {
   "cell_type": "code",
   "execution_count": 20,
   "id": "91e28a82",
   "metadata": {
    "execution": {
     "iopub.execute_input": "2024-05-16T18:47:36.495298Z",
     "iopub.status.busy": "2024-05-16T18:47:36.494831Z",
     "iopub.status.idle": "2024-05-16T18:47:36.530909Z",
     "shell.execute_reply": "2024-05-16T18:47:36.529538Z"
    },
    "papermill": {
     "duration": 0.065251,
     "end_time": "2024-05-16T18:47:36.533644",
     "exception": false,
     "start_time": "2024-05-16T18:47:36.468393",
     "status": "completed"
    },
    "tags": []
   },
   "outputs": [],
   "source": [
    "# Extract the time component from \"ActivityHour\"\n",
    "df_steps['ActivityHour'] = df_steps['ActivityHour'].dt.time\n",
    "\n",
    "# Grouping by ActivityHour and calculating the average of StepTotal\n",
    "average_steps_per_hour = df_steps.groupby(df_steps['ActivityHour'])[\"StepTotal\"].mean()\n",
    "\n",
    "# Convert the index to time format\n",
    "average_steps_per_hour.index = pd.to_datetime(average_steps_per_hour.index, format='%H:%M:%S').time\n",
    "\n",
    "# Sort the data by the time index\n",
    "average_steps_per_hour = average_steps_per_hour.sort_index()"
   ]
  },
  {
   "cell_type": "markdown",
   "id": "9daa0c69",
   "metadata": {
    "papermill": {
     "duration": 0.025118,
     "end_time": "2024-05-16T18:47:36.583127",
     "exception": false,
     "start_time": "2024-05-16T18:47:36.558009",
     "status": "completed"
    },
    "tags": []
   },
   "source": [
    "<p style=\"font-size:18px;\"> I could now plot this data on a graph to vizualise the data and see if there were any correlation between the time of the day and the average number of steps taken. Please see the graph below."
   ]
  },
  {
   "cell_type": "code",
   "execution_count": 21,
   "id": "bb56410d",
   "metadata": {
    "execution": {
     "iopub.execute_input": "2024-05-16T18:47:36.636359Z",
     "iopub.status.busy": "2024-05-16T18:47:36.635909Z",
     "iopub.status.idle": "2024-05-16T18:47:36.673501Z",
     "shell.execute_reply": "2024-05-16T18:47:36.672433Z"
    },
    "papermill": {
     "duration": 0.066761,
     "end_time": "2024-05-16T18:47:36.675928",
     "exception": false,
     "start_time": "2024-05-16T18:47:36.609167",
     "status": "completed"
    },
    "tags": []
   },
   "outputs": [
    {
     "data": {
      "text/html": [
       "<div>                            <div id=\"f027714f-ba90-48a4-b2ec-0182eaf8347d\" class=\"plotly-graph-div\" style=\"height:525px; width:100%;\"></div>            <script type=\"text/javascript\">                require([\"plotly\"], function(Plotly) {                    window.PLOTLYENV=window.PLOTLYENV || {};                                    if (document.getElementById(\"f027714f-ba90-48a4-b2ec-0182eaf8347d\")) {                    Plotly.newPlot(                        \"f027714f-ba90-48a4-b2ec-0182eaf8347d\",                        [{\"hovertemplate\":\"Average Steps:%{y}\",\"marker\":{\"color\":[42.188436830835116,23.10289389067524,17.110396570203644,6.426580921757771,12.699570815450643,43.86909871244635,178.50805585392052,306.04940923737917,427.54457572502685,433.3018259935553,481.66523143164693,456.8867313915858,548.6420824295011,537.6981541802388,540.5135722041259,406.3191256830601,496.84564498346197,550.2328918322296,599.1699779249448,583.3907284768212,353.90507726269317,308.1381215469613,237.98783185840708,122.1328903654485],\"colorscale\":[[0.0,\"rgb(12,51,131)\"],[0.25,\"rgb(10,136,186)\"],[0.5,\"rgb(242,211,56)\"],[0.75,\"rgb(242,143,56)\"],[1.0,\"rgb(217,30,30)\"]]},\"name\":\"\",\"x\":[\"00:00\",\"01:00\",\"02:00\",\"03:00\",\"04:00\",\"05:00\",\"06:00\",\"07:00\",\"08:00\",\"09:00\",\"10:00\",\"11:00\",\"12:00\",\"13:00\",\"14:00\",\"15:00\",\"16:00\",\"17:00\",\"18:00\",\"19:00\",\"20:00\",\"21:00\",\"22:00\",\"23:00\"],\"y\":[42.0,23.0,17.0,6.0,13.0,44.0,179.0,306.0,428.0,433.0,482.0,457.0,549.0,538.0,541.0,406.0,497.0,550.0,599.0,583.0,354.0,308.0,238.0,122.0],\"type\":\"bar\"}],                        {\"template\":{\"data\":{\"histogram2dcontour\":[{\"type\":\"histogram2dcontour\",\"colorbar\":{\"outlinewidth\":0,\"ticks\":\"\"},\"colorscale\":[[0.0,\"#0d0887\"],[0.1111111111111111,\"#46039f\"],[0.2222222222222222,\"#7201a8\"],[0.3333333333333333,\"#9c179e\"],[0.4444444444444444,\"#bd3786\"],[0.5555555555555556,\"#d8576b\"],[0.6666666666666666,\"#ed7953\"],[0.7777777777777778,\"#fb9f3a\"],[0.8888888888888888,\"#fdca26\"],[1.0,\"#f0f921\"]]}],\"choropleth\":[{\"type\":\"choropleth\",\"colorbar\":{\"outlinewidth\":0,\"ticks\":\"\"}}],\"histogram2d\":[{\"type\":\"histogram2d\",\"colorbar\":{\"outlinewidth\":0,\"ticks\":\"\"},\"colorscale\":[[0.0,\"#0d0887\"],[0.1111111111111111,\"#46039f\"],[0.2222222222222222,\"#7201a8\"],[0.3333333333333333,\"#9c179e\"],[0.4444444444444444,\"#bd3786\"],[0.5555555555555556,\"#d8576b\"],[0.6666666666666666,\"#ed7953\"],[0.7777777777777778,\"#fb9f3a\"],[0.8888888888888888,\"#fdca26\"],[1.0,\"#f0f921\"]]}],\"heatmap\":[{\"type\":\"heatmap\",\"colorbar\":{\"outlinewidth\":0,\"ticks\":\"\"},\"colorscale\":[[0.0,\"#0d0887\"],[0.1111111111111111,\"#46039f\"],[0.2222222222222222,\"#7201a8\"],[0.3333333333333333,\"#9c179e\"],[0.4444444444444444,\"#bd3786\"],[0.5555555555555556,\"#d8576b\"],[0.6666666666666666,\"#ed7953\"],[0.7777777777777778,\"#fb9f3a\"],[0.8888888888888888,\"#fdca26\"],[1.0,\"#f0f921\"]]}],\"heatmapgl\":[{\"type\":\"heatmapgl\",\"colorbar\":{\"outlinewidth\":0,\"ticks\":\"\"},\"colorscale\":[[0.0,\"#0d0887\"],[0.1111111111111111,\"#46039f\"],[0.2222222222222222,\"#7201a8\"],[0.3333333333333333,\"#9c179e\"],[0.4444444444444444,\"#bd3786\"],[0.5555555555555556,\"#d8576b\"],[0.6666666666666666,\"#ed7953\"],[0.7777777777777778,\"#fb9f3a\"],[0.8888888888888888,\"#fdca26\"],[1.0,\"#f0f921\"]]}],\"contourcarpet\":[{\"type\":\"contourcarpet\",\"colorbar\":{\"outlinewidth\":0,\"ticks\":\"\"}}],\"contour\":[{\"type\":\"contour\",\"colorbar\":{\"outlinewidth\":0,\"ticks\":\"\"},\"colorscale\":[[0.0,\"#0d0887\"],[0.1111111111111111,\"#46039f\"],[0.2222222222222222,\"#7201a8\"],[0.3333333333333333,\"#9c179e\"],[0.4444444444444444,\"#bd3786\"],[0.5555555555555556,\"#d8576b\"],[0.6666666666666666,\"#ed7953\"],[0.7777777777777778,\"#fb9f3a\"],[0.8888888888888888,\"#fdca26\"],[1.0,\"#f0f921\"]]}],\"surface\":[{\"type\":\"surface\",\"colorbar\":{\"outlinewidth\":0,\"ticks\":\"\"},\"colorscale\":[[0.0,\"#0d0887\"],[0.1111111111111111,\"#46039f\"],[0.2222222222222222,\"#7201a8\"],[0.3333333333333333,\"#9c179e\"],[0.4444444444444444,\"#bd3786\"],[0.5555555555555556,\"#d8576b\"],[0.6666666666666666,\"#ed7953\"],[0.7777777777777778,\"#fb9f3a\"],[0.8888888888888888,\"#fdca26\"],[1.0,\"#f0f921\"]]}],\"mesh3d\":[{\"type\":\"mesh3d\",\"colorbar\":{\"outlinewidth\":0,\"ticks\":\"\"}}],\"scatter\":[{\"fillpattern\":{\"fillmode\":\"overlay\",\"size\":10,\"solidity\":0.2},\"type\":\"scatter\"}],\"parcoords\":[{\"type\":\"parcoords\",\"line\":{\"colorbar\":{\"outlinewidth\":0,\"ticks\":\"\"}}}],\"scatterpolargl\":[{\"type\":\"scatterpolargl\",\"marker\":{\"colorbar\":{\"outlinewidth\":0,\"ticks\":\"\"}}}],\"bar\":[{\"error_x\":{\"color\":\"#2a3f5f\"},\"error_y\":{\"color\":\"#2a3f5f\"},\"marker\":{\"line\":{\"color\":\"#E5ECF6\",\"width\":0.5},\"pattern\":{\"fillmode\":\"overlay\",\"size\":10,\"solidity\":0.2}},\"type\":\"bar\"}],\"scattergeo\":[{\"type\":\"scattergeo\",\"marker\":{\"colorbar\":{\"outlinewidth\":0,\"ticks\":\"\"}}}],\"scatterpolar\":[{\"type\":\"scatterpolar\",\"marker\":{\"colorbar\":{\"outlinewidth\":0,\"ticks\":\"\"}}}],\"histogram\":[{\"marker\":{\"pattern\":{\"fillmode\":\"overlay\",\"size\":10,\"solidity\":0.2}},\"type\":\"histogram\"}],\"scattergl\":[{\"type\":\"scattergl\",\"marker\":{\"colorbar\":{\"outlinewidth\":0,\"ticks\":\"\"}}}],\"scatter3d\":[{\"type\":\"scatter3d\",\"line\":{\"colorbar\":{\"outlinewidth\":0,\"ticks\":\"\"}},\"marker\":{\"colorbar\":{\"outlinewidth\":0,\"ticks\":\"\"}}}],\"scattermapbox\":[{\"type\":\"scattermapbox\",\"marker\":{\"colorbar\":{\"outlinewidth\":0,\"ticks\":\"\"}}}],\"scatterternary\":[{\"type\":\"scatterternary\",\"marker\":{\"colorbar\":{\"outlinewidth\":0,\"ticks\":\"\"}}}],\"scattercarpet\":[{\"type\":\"scattercarpet\",\"marker\":{\"colorbar\":{\"outlinewidth\":0,\"ticks\":\"\"}}}],\"carpet\":[{\"aaxis\":{\"endlinecolor\":\"#2a3f5f\",\"gridcolor\":\"white\",\"linecolor\":\"white\",\"minorgridcolor\":\"white\",\"startlinecolor\":\"#2a3f5f\"},\"baxis\":{\"endlinecolor\":\"#2a3f5f\",\"gridcolor\":\"white\",\"linecolor\":\"white\",\"minorgridcolor\":\"white\",\"startlinecolor\":\"#2a3f5f\"},\"type\":\"carpet\"}],\"table\":[{\"cells\":{\"fill\":{\"color\":\"#EBF0F8\"},\"line\":{\"color\":\"white\"}},\"header\":{\"fill\":{\"color\":\"#C8D4E3\"},\"line\":{\"color\":\"white\"}},\"type\":\"table\"}],\"barpolar\":[{\"marker\":{\"line\":{\"color\":\"#E5ECF6\",\"width\":0.5},\"pattern\":{\"fillmode\":\"overlay\",\"size\":10,\"solidity\":0.2}},\"type\":\"barpolar\"}],\"pie\":[{\"automargin\":true,\"type\":\"pie\"}]},\"layout\":{\"autotypenumbers\":\"strict\",\"colorway\":[\"#636efa\",\"#EF553B\",\"#00cc96\",\"#ab63fa\",\"#FFA15A\",\"#19d3f3\",\"#FF6692\",\"#B6E880\",\"#FF97FF\",\"#FECB52\"],\"font\":{\"color\":\"#2a3f5f\"},\"hovermode\":\"closest\",\"hoverlabel\":{\"align\":\"left\"},\"paper_bgcolor\":\"white\",\"plot_bgcolor\":\"#E5ECF6\",\"polar\":{\"bgcolor\":\"#E5ECF6\",\"angularaxis\":{\"gridcolor\":\"white\",\"linecolor\":\"white\",\"ticks\":\"\"},\"radialaxis\":{\"gridcolor\":\"white\",\"linecolor\":\"white\",\"ticks\":\"\"}},\"ternary\":{\"bgcolor\":\"#E5ECF6\",\"aaxis\":{\"gridcolor\":\"white\",\"linecolor\":\"white\",\"ticks\":\"\"},\"baxis\":{\"gridcolor\":\"white\",\"linecolor\":\"white\",\"ticks\":\"\"},\"caxis\":{\"gridcolor\":\"white\",\"linecolor\":\"white\",\"ticks\":\"\"}},\"coloraxis\":{\"colorbar\":{\"outlinewidth\":0,\"ticks\":\"\"}},\"colorscale\":{\"sequential\":[[0.0,\"#0d0887\"],[0.1111111111111111,\"#46039f\"],[0.2222222222222222,\"#7201a8\"],[0.3333333333333333,\"#9c179e\"],[0.4444444444444444,\"#bd3786\"],[0.5555555555555556,\"#d8576b\"],[0.6666666666666666,\"#ed7953\"],[0.7777777777777778,\"#fb9f3a\"],[0.8888888888888888,\"#fdca26\"],[1.0,\"#f0f921\"]],\"sequentialminus\":[[0.0,\"#0d0887\"],[0.1111111111111111,\"#46039f\"],[0.2222222222222222,\"#7201a8\"],[0.3333333333333333,\"#9c179e\"],[0.4444444444444444,\"#bd3786\"],[0.5555555555555556,\"#d8576b\"],[0.6666666666666666,\"#ed7953\"],[0.7777777777777778,\"#fb9f3a\"],[0.8888888888888888,\"#fdca26\"],[1.0,\"#f0f921\"]],\"diverging\":[[0,\"#8e0152\"],[0.1,\"#c51b7d\"],[0.2,\"#de77ae\"],[0.3,\"#f1b6da\"],[0.4,\"#fde0ef\"],[0.5,\"#f7f7f7\"],[0.6,\"#e6f5d0\"],[0.7,\"#b8e186\"],[0.8,\"#7fbc41\"],[0.9,\"#4d9221\"],[1,\"#276419\"]]},\"xaxis\":{\"gridcolor\":\"white\",\"linecolor\":\"white\",\"ticks\":\"\",\"title\":{\"standoff\":15},\"zerolinecolor\":\"white\",\"automargin\":true,\"zerolinewidth\":2},\"yaxis\":{\"gridcolor\":\"white\",\"linecolor\":\"white\",\"ticks\":\"\",\"title\":{\"standoff\":15},\"zerolinecolor\":\"white\",\"automargin\":true,\"zerolinewidth\":2},\"scene\":{\"xaxis\":{\"backgroundcolor\":\"#E5ECF6\",\"gridcolor\":\"white\",\"linecolor\":\"white\",\"showbackground\":true,\"ticks\":\"\",\"zerolinecolor\":\"white\",\"gridwidth\":2},\"yaxis\":{\"backgroundcolor\":\"#E5ECF6\",\"gridcolor\":\"white\",\"linecolor\":\"white\",\"showbackground\":true,\"ticks\":\"\",\"zerolinecolor\":\"white\",\"gridwidth\":2},\"zaxis\":{\"backgroundcolor\":\"#E5ECF6\",\"gridcolor\":\"white\",\"linecolor\":\"white\",\"showbackground\":true,\"ticks\":\"\",\"zerolinecolor\":\"white\",\"gridwidth\":2}},\"shapedefaults\":{\"line\":{\"color\":\"#2a3f5f\"}},\"annotationdefaults\":{\"arrowcolor\":\"#2a3f5f\",\"arrowhead\":0,\"arrowwidth\":1},\"geo\":{\"bgcolor\":\"white\",\"landcolor\":\"#E5ECF6\",\"subunitcolor\":\"white\",\"showland\":true,\"showlakes\":true,\"lakecolor\":\"white\"},\"title\":{\"x\":0.05},\"mapbox\":{\"style\":\"light\"}}},\"xaxis\":{\"title\":{\"text\":\"Activity Hour\"},\"tickangle\":45},\"yaxis\":{\"title\":{\"text\":\"Average Steps\"},\"gridcolor\":\"lightgrey\"},\"title\":{\"text\":\"Average Steps per Hour\"}},                        {\"responsive\": true}                    ).then(function(){\n",
       "                            \n",
       "var gd = document.getElementById('f027714f-ba90-48a4-b2ec-0182eaf8347d');\n",
       "var x = new MutationObserver(function (mutations, observer) {{\n",
       "        var display = window.getComputedStyle(gd).display;\n",
       "        if (!display || display === 'none') {{\n",
       "            console.log([gd, 'removed!']);\n",
       "            Plotly.purge(gd);\n",
       "            observer.disconnect();\n",
       "        }}\n",
       "}});\n",
       "\n",
       "// Listen for the removal of the full notebook cells\n",
       "var notebookContainer = gd.closest('#notebook-container');\n",
       "if (notebookContainer) {{\n",
       "    x.observe(notebookContainer, {childList: true});\n",
       "}}\n",
       "\n",
       "// Listen for the clearing of the current output cell\n",
       "var outputEl = gd.closest('.output');\n",
       "if (outputEl) {{\n",
       "    x.observe(outputEl, {childList: true});\n",
       "}}\n",
       "\n",
       "                        })                };                });            </script>        </div>"
      ]
     },
     "metadata": {},
     "output_type": "display_data"
    }
   ],
   "source": [
    "# Create figure\n",
    "fig = go.Figure(data=[go.Bar(x=[hour.strftime('%H:%M') for hour in average_steps_per_hour.index], y=average_steps_per_hour.values.round(0),\n",
    "                     marker=dict(color=average_steps_per_hour.values, colorscale='Portland'),hovertemplate='Average Steps:%{y}',name='')])\n",
    "\n",
    "# Update layout\n",
    "fig.update_layout(title='Average Steps per Hour', xaxis_title='Activity Hour', yaxis_title='Average Steps',\n",
    "                  xaxis=dict(tickangle=45),yaxis=dict(gridcolor='lightgrey'))\n",
    "\n",
    "fig.show()"
   ]
  },
  {
   "cell_type": "markdown",
   "id": "5e3c69c8",
   "metadata": {
    "papermill": {
     "duration": 0.024698,
     "end_time": "2024-05-16T18:47:36.725924",
     "exception": false,
     "start_time": "2024-05-16T18:47:36.701226",
     "status": "completed"
    },
    "tags": []
   },
   "source": [
    "<p style=\"font-size:18px;\"> The data tells us that on average the 33 people in the data typically start taking steps from 6am til 10pm with the most steps being taken around the lunch period of 12pm til 2pm and the rush hour dinner period of 5pm til 7pm. There appears to be a slight decrease in steps at 3pm which could suggest the users rest slighly after eating/the lunchtime period. Where this graph averages the data per hour will not be relfective of an indivual user and does not show if the the averages steps taken by hour changes dependant on the day i.e. a Saturday vs a Monday.\n",
    "    \n",
    "<p style=\"font-size:18px;\"> I next wanted to pivot away from the step data and see if there is any trends in the activity data as such I plotted the average active minutes by day of the week."
   ]
  },
  {
   "cell_type": "code",
   "execution_count": 22,
   "id": "b6cfdc4e",
   "metadata": {
    "execution": {
     "iopub.execute_input": "2024-05-16T18:47:36.777845Z",
     "iopub.status.busy": "2024-05-16T18:47:36.777392Z",
     "iopub.status.idle": "2024-05-16T18:47:36.808668Z",
     "shell.execute_reply": "2024-05-16T18:47:36.807761Z"
    },
    "papermill": {
     "duration": 0.060402,
     "end_time": "2024-05-16T18:47:36.811486",
     "exception": false,
     "start_time": "2024-05-16T18:47:36.751084",
     "status": "completed"
    },
    "tags": []
   },
   "outputs": [
    {
     "data": {
      "text/html": [
       "<div>                            <div id=\"b9aa6762-74b9-4554-b643-c8f038d31a7d\" class=\"plotly-graph-div\" style=\"height:525px; width:100%;\"></div>            <script type=\"text/javascript\">                require([\"plotly\"], function(Plotly) {                    window.PLOTLYENV=window.PLOTLYENV || {};                                    if (document.getElementById(\"b9aa6762-74b9-4554-b643-c8f038d31a7d\")) {                    Plotly.newPlot(                        \"b9aa6762-74b9-4554-b643-c8f038d31a7d\",                        [{\"hovertemplate\":\"\\u003cb\\u003e%{y:.2f}\\u003c\\u002fb\\u003e mins\",\"mode\":\"markers+lines\",\"name\":\"Total_Active_Mins\",\"x\":[\"Monday\",\"Tuesday\",\"Wednesday\",\"Thursday\",\"Friday\",\"Saturday\",\"Sunday\"],\"y\":[229.17,234.63,223.73,216.79,236.37,244.27,208.49],\"type\":\"scatter\"},{\"hovertemplate\":\"\\u003cb\\u003e%{y:.2f}\\u003c\\u002fb\\u003e mins\",\"mode\":\"markers+lines\",\"name\":\"LightlyActiveMinutes\",\"x\":[\"Monday\",\"Tuesday\",\"Wednesday\",\"Thursday\",\"Friday\",\"Saturday\",\"Sunday\"],\"y\":[192.06,197.34,189.85,185.42,204.2,207.15,173.98],\"type\":\"scatter\"},{\"hovertemplate\":\"\\u003cb\\u003e%{y:.2f}\\u003c\\u002fb\\u003e mins\",\"mode\":\"markers+lines\",\"name\":\"VeryActiveMinutes\",\"x\":[\"Monday\",\"Tuesday\",\"Wednesday\",\"Thursday\",\"Friday\",\"Saturday\",\"Sunday\"],\"y\":[23.11,22.95,20.78,19.41,20.06,21.92,19.98],\"type\":\"scatter\"},{\"hovertemplate\":\"\\u003cb\\u003e%{y:.2f}\\u003c\\u002fb\\u003e mins\",\"mode\":\"markers+lines\",\"name\":\"FairlyActiveMinutes\",\"x\":[\"Monday\",\"Tuesday\",\"Wednesday\",\"Thursday\",\"Friday\",\"Saturday\",\"Sunday\"],\"y\":[14.0,14.34,13.1,11.96,12.11,15.2,14.53],\"type\":\"scatter\"}],                        {\"template\":{\"data\":{\"histogram2dcontour\":[{\"type\":\"histogram2dcontour\",\"colorbar\":{\"outlinewidth\":0,\"ticks\":\"\"},\"colorscale\":[[0.0,\"#0d0887\"],[0.1111111111111111,\"#46039f\"],[0.2222222222222222,\"#7201a8\"],[0.3333333333333333,\"#9c179e\"],[0.4444444444444444,\"#bd3786\"],[0.5555555555555556,\"#d8576b\"],[0.6666666666666666,\"#ed7953\"],[0.7777777777777778,\"#fb9f3a\"],[0.8888888888888888,\"#fdca26\"],[1.0,\"#f0f921\"]]}],\"choropleth\":[{\"type\":\"choropleth\",\"colorbar\":{\"outlinewidth\":0,\"ticks\":\"\"}}],\"histogram2d\":[{\"type\":\"histogram2d\",\"colorbar\":{\"outlinewidth\":0,\"ticks\":\"\"},\"colorscale\":[[0.0,\"#0d0887\"],[0.1111111111111111,\"#46039f\"],[0.2222222222222222,\"#7201a8\"],[0.3333333333333333,\"#9c179e\"],[0.4444444444444444,\"#bd3786\"],[0.5555555555555556,\"#d8576b\"],[0.6666666666666666,\"#ed7953\"],[0.7777777777777778,\"#fb9f3a\"],[0.8888888888888888,\"#fdca26\"],[1.0,\"#f0f921\"]]}],\"heatmap\":[{\"type\":\"heatmap\",\"colorbar\":{\"outlinewidth\":0,\"ticks\":\"\"},\"colorscale\":[[0.0,\"#0d0887\"],[0.1111111111111111,\"#46039f\"],[0.2222222222222222,\"#7201a8\"],[0.3333333333333333,\"#9c179e\"],[0.4444444444444444,\"#bd3786\"],[0.5555555555555556,\"#d8576b\"],[0.6666666666666666,\"#ed7953\"],[0.7777777777777778,\"#fb9f3a\"],[0.8888888888888888,\"#fdca26\"],[1.0,\"#f0f921\"]]}],\"heatmapgl\":[{\"type\":\"heatmapgl\",\"colorbar\":{\"outlinewidth\":0,\"ticks\":\"\"},\"colorscale\":[[0.0,\"#0d0887\"],[0.1111111111111111,\"#46039f\"],[0.2222222222222222,\"#7201a8\"],[0.3333333333333333,\"#9c179e\"],[0.4444444444444444,\"#bd3786\"],[0.5555555555555556,\"#d8576b\"],[0.6666666666666666,\"#ed7953\"],[0.7777777777777778,\"#fb9f3a\"],[0.8888888888888888,\"#fdca26\"],[1.0,\"#f0f921\"]]}],\"contourcarpet\":[{\"type\":\"contourcarpet\",\"colorbar\":{\"outlinewidth\":0,\"ticks\":\"\"}}],\"contour\":[{\"type\":\"contour\",\"colorbar\":{\"outlinewidth\":0,\"ticks\":\"\"},\"colorscale\":[[0.0,\"#0d0887\"],[0.1111111111111111,\"#46039f\"],[0.2222222222222222,\"#7201a8\"],[0.3333333333333333,\"#9c179e\"],[0.4444444444444444,\"#bd3786\"],[0.5555555555555556,\"#d8576b\"],[0.6666666666666666,\"#ed7953\"],[0.7777777777777778,\"#fb9f3a\"],[0.8888888888888888,\"#fdca26\"],[1.0,\"#f0f921\"]]}],\"surface\":[{\"type\":\"surface\",\"colorbar\":{\"outlinewidth\":0,\"ticks\":\"\"},\"colorscale\":[[0.0,\"#0d0887\"],[0.1111111111111111,\"#46039f\"],[0.2222222222222222,\"#7201a8\"],[0.3333333333333333,\"#9c179e\"],[0.4444444444444444,\"#bd3786\"],[0.5555555555555556,\"#d8576b\"],[0.6666666666666666,\"#ed7953\"],[0.7777777777777778,\"#fb9f3a\"],[0.8888888888888888,\"#fdca26\"],[1.0,\"#f0f921\"]]}],\"mesh3d\":[{\"type\":\"mesh3d\",\"colorbar\":{\"outlinewidth\":0,\"ticks\":\"\"}}],\"scatter\":[{\"fillpattern\":{\"fillmode\":\"overlay\",\"size\":10,\"solidity\":0.2},\"type\":\"scatter\"}],\"parcoords\":[{\"type\":\"parcoords\",\"line\":{\"colorbar\":{\"outlinewidth\":0,\"ticks\":\"\"}}}],\"scatterpolargl\":[{\"type\":\"scatterpolargl\",\"marker\":{\"colorbar\":{\"outlinewidth\":0,\"ticks\":\"\"}}}],\"bar\":[{\"error_x\":{\"color\":\"#2a3f5f\"},\"error_y\":{\"color\":\"#2a3f5f\"},\"marker\":{\"line\":{\"color\":\"#E5ECF6\",\"width\":0.5},\"pattern\":{\"fillmode\":\"overlay\",\"size\":10,\"solidity\":0.2}},\"type\":\"bar\"}],\"scattergeo\":[{\"type\":\"scattergeo\",\"marker\":{\"colorbar\":{\"outlinewidth\":0,\"ticks\":\"\"}}}],\"scatterpolar\":[{\"type\":\"scatterpolar\",\"marker\":{\"colorbar\":{\"outlinewidth\":0,\"ticks\":\"\"}}}],\"histogram\":[{\"marker\":{\"pattern\":{\"fillmode\":\"overlay\",\"size\":10,\"solidity\":0.2}},\"type\":\"histogram\"}],\"scattergl\":[{\"type\":\"scattergl\",\"marker\":{\"colorbar\":{\"outlinewidth\":0,\"ticks\":\"\"}}}],\"scatter3d\":[{\"type\":\"scatter3d\",\"line\":{\"colorbar\":{\"outlinewidth\":0,\"ticks\":\"\"}},\"marker\":{\"colorbar\":{\"outlinewidth\":0,\"ticks\":\"\"}}}],\"scattermapbox\":[{\"type\":\"scattermapbox\",\"marker\":{\"colorbar\":{\"outlinewidth\":0,\"ticks\":\"\"}}}],\"scatterternary\":[{\"type\":\"scatterternary\",\"marker\":{\"colorbar\":{\"outlinewidth\":0,\"ticks\":\"\"}}}],\"scattercarpet\":[{\"type\":\"scattercarpet\",\"marker\":{\"colorbar\":{\"outlinewidth\":0,\"ticks\":\"\"}}}],\"carpet\":[{\"aaxis\":{\"endlinecolor\":\"#2a3f5f\",\"gridcolor\":\"white\",\"linecolor\":\"white\",\"minorgridcolor\":\"white\",\"startlinecolor\":\"#2a3f5f\"},\"baxis\":{\"endlinecolor\":\"#2a3f5f\",\"gridcolor\":\"white\",\"linecolor\":\"white\",\"minorgridcolor\":\"white\",\"startlinecolor\":\"#2a3f5f\"},\"type\":\"carpet\"}],\"table\":[{\"cells\":{\"fill\":{\"color\":\"#EBF0F8\"},\"line\":{\"color\":\"white\"}},\"header\":{\"fill\":{\"color\":\"#C8D4E3\"},\"line\":{\"color\":\"white\"}},\"type\":\"table\"}],\"barpolar\":[{\"marker\":{\"line\":{\"color\":\"#E5ECF6\",\"width\":0.5},\"pattern\":{\"fillmode\":\"overlay\",\"size\":10,\"solidity\":0.2}},\"type\":\"barpolar\"}],\"pie\":[{\"automargin\":true,\"type\":\"pie\"}]},\"layout\":{\"autotypenumbers\":\"strict\",\"colorway\":[\"#636efa\",\"#EF553B\",\"#00cc96\",\"#ab63fa\",\"#FFA15A\",\"#19d3f3\",\"#FF6692\",\"#B6E880\",\"#FF97FF\",\"#FECB52\"],\"font\":{\"color\":\"#2a3f5f\"},\"hovermode\":\"closest\",\"hoverlabel\":{\"align\":\"left\"},\"paper_bgcolor\":\"white\",\"plot_bgcolor\":\"#E5ECF6\",\"polar\":{\"bgcolor\":\"#E5ECF6\",\"angularaxis\":{\"gridcolor\":\"white\",\"linecolor\":\"white\",\"ticks\":\"\"},\"radialaxis\":{\"gridcolor\":\"white\",\"linecolor\":\"white\",\"ticks\":\"\"}},\"ternary\":{\"bgcolor\":\"#E5ECF6\",\"aaxis\":{\"gridcolor\":\"white\",\"linecolor\":\"white\",\"ticks\":\"\"},\"baxis\":{\"gridcolor\":\"white\",\"linecolor\":\"white\",\"ticks\":\"\"},\"caxis\":{\"gridcolor\":\"white\",\"linecolor\":\"white\",\"ticks\":\"\"}},\"coloraxis\":{\"colorbar\":{\"outlinewidth\":0,\"ticks\":\"\"}},\"colorscale\":{\"sequential\":[[0.0,\"#0d0887\"],[0.1111111111111111,\"#46039f\"],[0.2222222222222222,\"#7201a8\"],[0.3333333333333333,\"#9c179e\"],[0.4444444444444444,\"#bd3786\"],[0.5555555555555556,\"#d8576b\"],[0.6666666666666666,\"#ed7953\"],[0.7777777777777778,\"#fb9f3a\"],[0.8888888888888888,\"#fdca26\"],[1.0,\"#f0f921\"]],\"sequentialminus\":[[0.0,\"#0d0887\"],[0.1111111111111111,\"#46039f\"],[0.2222222222222222,\"#7201a8\"],[0.3333333333333333,\"#9c179e\"],[0.4444444444444444,\"#bd3786\"],[0.5555555555555556,\"#d8576b\"],[0.6666666666666666,\"#ed7953\"],[0.7777777777777778,\"#fb9f3a\"],[0.8888888888888888,\"#fdca26\"],[1.0,\"#f0f921\"]],\"diverging\":[[0,\"#8e0152\"],[0.1,\"#c51b7d\"],[0.2,\"#de77ae\"],[0.3,\"#f1b6da\"],[0.4,\"#fde0ef\"],[0.5,\"#f7f7f7\"],[0.6,\"#e6f5d0\"],[0.7,\"#b8e186\"],[0.8,\"#7fbc41\"],[0.9,\"#4d9221\"],[1,\"#276419\"]]},\"xaxis\":{\"gridcolor\":\"white\",\"linecolor\":\"white\",\"ticks\":\"\",\"title\":{\"standoff\":15},\"zerolinecolor\":\"white\",\"automargin\":true,\"zerolinewidth\":2},\"yaxis\":{\"gridcolor\":\"white\",\"linecolor\":\"white\",\"ticks\":\"\",\"title\":{\"standoff\":15},\"zerolinecolor\":\"white\",\"automargin\":true,\"zerolinewidth\":2},\"scene\":{\"xaxis\":{\"backgroundcolor\":\"#E5ECF6\",\"gridcolor\":\"white\",\"linecolor\":\"white\",\"showbackground\":true,\"ticks\":\"\",\"zerolinecolor\":\"white\",\"gridwidth\":2},\"yaxis\":{\"backgroundcolor\":\"#E5ECF6\",\"gridcolor\":\"white\",\"linecolor\":\"white\",\"showbackground\":true,\"ticks\":\"\",\"zerolinecolor\":\"white\",\"gridwidth\":2},\"zaxis\":{\"backgroundcolor\":\"#E5ECF6\",\"gridcolor\":\"white\",\"linecolor\":\"white\",\"showbackground\":true,\"ticks\":\"\",\"zerolinecolor\":\"white\",\"gridwidth\":2}},\"shapedefaults\":{\"line\":{\"color\":\"#2a3f5f\"}},\"annotationdefaults\":{\"arrowcolor\":\"#2a3f5f\",\"arrowhead\":0,\"arrowwidth\":1},\"geo\":{\"bgcolor\":\"white\",\"landcolor\":\"#E5ECF6\",\"subunitcolor\":\"white\",\"showland\":true,\"showlakes\":true,\"lakecolor\":\"white\"},\"title\":{\"x\":0.05},\"mapbox\":{\"style\":\"light\"}}},\"yaxis\":{\"title\":{\"text\":\"Average Active Minutes\"},\"range\":[0,250]},\"title\":{\"text\":\"Average Active Minutes by Day of the Week\"},\"xaxis\":{\"title\":{\"text\":\"Day of the Week\"}},\"hovermode\":\"closest\"},                        {\"responsive\": true}                    ).then(function(){\n",
       "                            \n",
       "var gd = document.getElementById('b9aa6762-74b9-4554-b643-c8f038d31a7d');\n",
       "var x = new MutationObserver(function (mutations, observer) {{\n",
       "        var display = window.getComputedStyle(gd).display;\n",
       "        if (!display || display === 'none') {{\n",
       "            console.log([gd, 'removed!']);\n",
       "            Plotly.purge(gd);\n",
       "            observer.disconnect();\n",
       "        }}\n",
       "}});\n",
       "\n",
       "// Listen for the removal of the full notebook cells\n",
       "var notebookContainer = gd.closest('#notebook-container');\n",
       "if (notebookContainer) {{\n",
       "    x.observe(notebookContainer, {childList: true});\n",
       "}}\n",
       "\n",
       "// Listen for the clearing of the current output cell\n",
       "var outputEl = gd.closest('.output');\n",
       "if (outputEl) {{\n",
       "    x.observe(outputEl, {childList: true});\n",
       "}}\n",
       "\n",
       "                        })                };                });            </script>        </div>"
      ]
     },
     "metadata": {},
     "output_type": "display_data"
    },
    {
     "name": "stdout",
     "output_type": "stream",
     "text": [
      "Average active minutes per day across entire dataset: 227.54 ( 3.79 hrs )\n"
     ]
    }
   ],
   "source": [
    "# Group by \"Day_Of_Week\" and calculate the mean of the active minute columns rounded to 2 decimal places\n",
    "average_active_day = df_activity.groupby('Day_of_week', observed=False)[['Total_Active_Mins', 'LightlyActiveMinutes', 'VeryActiveMinutes', 'FairlyActiveMinutes']].mean().round(2)\n",
    "\n",
    "# Reorder days of the week\n",
    "average_active_day = average_active_day.reindex(days_order)\n",
    "\n",
    "# Create figure\n",
    "fig = go.Figure()\n",
    "\n",
    "# Add traces for each active minute column\n",
    "for column in average_active_day.columns:\n",
    "    fig.add_trace(go.Scatter(x=average_active_day.index, y=average_active_day[column], mode='markers+lines', name=column, hovertemplate='<b>%{y:.2f}</b> mins'))\n",
    "\n",
    "# Update layout\n",
    "fig.update_layout(title='Average Active Minutes by Day of the Week',xaxis_title='Day of the Week', yaxis_title='Average Active Minutes', yaxis=dict(range=[0, 250]), hovermode='closest')\n",
    "\n",
    "fig.show()\n",
    "\n",
    "# Calculate and print average active minutes per day across entire dataset\n",
    "print(\"Average active minutes per day across entire dataset:\", df_activity[\"Total_Active_Mins\"].mean().round(2), \"(\", round(df_activity[\"Total_Active_Mins\"].mean() / 60, 2), \"hrs )\")"
   ]
  },
  {
   "cell_type": "markdown",
   "id": "700984bb",
   "metadata": {
    "papermill": {
     "duration": 0.02484,
     "end_time": "2024-05-16T18:47:36.861309",
     "exception": false,
     "start_time": "2024-05-16T18:47:36.836469",
     "status": "completed"
    },
    "tags": []
   },
   "source": [
    "<p style=\"font-size:18px;\"> The graph shows that typically the amount of active minutes per day stays mostly flat with fridays and saturdays showing the highest number of active minutes by a small margin. One thing that does stick out to me is that across every day of the week the users have more \"VeryActiveMinutes\" than \"FairlyActiveMinutes\". I would expect this to be inversed with the very active minutes being the smallest portion of a users day where their heartrate and movement is above the defined threshold.\n",
    "    \n",
    "<p style=\"font-size:18px;\"> On average each user is active for 227 minutes or 3.79 hours per day. To visualize this in a diffrent way I plotted the average active times and sedentary time on a pie chart please see below."
   ]
  },
  {
   "cell_type": "code",
   "execution_count": 23,
   "id": "99d1b842",
   "metadata": {
    "execution": {
     "iopub.execute_input": "2024-05-16T18:47:36.914601Z",
     "iopub.status.busy": "2024-05-16T18:47:36.914131Z",
     "iopub.status.idle": "2024-05-16T18:47:36.951114Z",
     "shell.execute_reply": "2024-05-16T18:47:36.949725Z"
    },
    "papermill": {
     "duration": 0.068458,
     "end_time": "2024-05-16T18:47:36.954918",
     "exception": false,
     "start_time": "2024-05-16T18:47:36.886460",
     "status": "completed"
    },
    "tags": []
   },
   "outputs": [
    {
     "data": {
      "text/html": [
       "<div>                            <div id=\"0d547c34-915a-4fd3-93fd-32f6c5b41a69\" class=\"plotly-graph-div\" style=\"height:525px; width:100%;\"></div>            <script type=\"text/javascript\">                require([\"plotly\"], function(Plotly) {                    window.PLOTLYENV=window.PLOTLYENV || {};                                    if (document.getElementById(\"0d547c34-915a-4fd3-93fd-32f6c5b41a69\")) {                    Plotly.newPlot(                        \"0d547c34-915a-4fd3-93fd-32f6c5b41a69\",                        [{\"hole\":0.5,\"hoverinfo\":\"label+percent+value\",\"hovertemplate\":\"%{label}: %{percent} \\u003cbr\\u003eAverage Hours: %{value}\",\"labels\":[\"Very Active\",\"Fairly Active\",\"Lightly Active\",\"Sedentary\",\"In Bed\"],\"name\":\"\",\"values\":[0.35,0.23,3.21,16.52,7.64],\"type\":\"pie\"}],                        {\"template\":{\"data\":{\"histogram2dcontour\":[{\"type\":\"histogram2dcontour\",\"colorbar\":{\"outlinewidth\":0,\"ticks\":\"\"},\"colorscale\":[[0.0,\"#0d0887\"],[0.1111111111111111,\"#46039f\"],[0.2222222222222222,\"#7201a8\"],[0.3333333333333333,\"#9c179e\"],[0.4444444444444444,\"#bd3786\"],[0.5555555555555556,\"#d8576b\"],[0.6666666666666666,\"#ed7953\"],[0.7777777777777778,\"#fb9f3a\"],[0.8888888888888888,\"#fdca26\"],[1.0,\"#f0f921\"]]}],\"choropleth\":[{\"type\":\"choropleth\",\"colorbar\":{\"outlinewidth\":0,\"ticks\":\"\"}}],\"histogram2d\":[{\"type\":\"histogram2d\",\"colorbar\":{\"outlinewidth\":0,\"ticks\":\"\"},\"colorscale\":[[0.0,\"#0d0887\"],[0.1111111111111111,\"#46039f\"],[0.2222222222222222,\"#7201a8\"],[0.3333333333333333,\"#9c179e\"],[0.4444444444444444,\"#bd3786\"],[0.5555555555555556,\"#d8576b\"],[0.6666666666666666,\"#ed7953\"],[0.7777777777777778,\"#fb9f3a\"],[0.8888888888888888,\"#fdca26\"],[1.0,\"#f0f921\"]]}],\"heatmap\":[{\"type\":\"heatmap\",\"colorbar\":{\"outlinewidth\":0,\"ticks\":\"\"},\"colorscale\":[[0.0,\"#0d0887\"],[0.1111111111111111,\"#46039f\"],[0.2222222222222222,\"#7201a8\"],[0.3333333333333333,\"#9c179e\"],[0.4444444444444444,\"#bd3786\"],[0.5555555555555556,\"#d8576b\"],[0.6666666666666666,\"#ed7953\"],[0.7777777777777778,\"#fb9f3a\"],[0.8888888888888888,\"#fdca26\"],[1.0,\"#f0f921\"]]}],\"heatmapgl\":[{\"type\":\"heatmapgl\",\"colorbar\":{\"outlinewidth\":0,\"ticks\":\"\"},\"colorscale\":[[0.0,\"#0d0887\"],[0.1111111111111111,\"#46039f\"],[0.2222222222222222,\"#7201a8\"],[0.3333333333333333,\"#9c179e\"],[0.4444444444444444,\"#bd3786\"],[0.5555555555555556,\"#d8576b\"],[0.6666666666666666,\"#ed7953\"],[0.7777777777777778,\"#fb9f3a\"],[0.8888888888888888,\"#fdca26\"],[1.0,\"#f0f921\"]]}],\"contourcarpet\":[{\"type\":\"contourcarpet\",\"colorbar\":{\"outlinewidth\":0,\"ticks\":\"\"}}],\"contour\":[{\"type\":\"contour\",\"colorbar\":{\"outlinewidth\":0,\"ticks\":\"\"},\"colorscale\":[[0.0,\"#0d0887\"],[0.1111111111111111,\"#46039f\"],[0.2222222222222222,\"#7201a8\"],[0.3333333333333333,\"#9c179e\"],[0.4444444444444444,\"#bd3786\"],[0.5555555555555556,\"#d8576b\"],[0.6666666666666666,\"#ed7953\"],[0.7777777777777778,\"#fb9f3a\"],[0.8888888888888888,\"#fdca26\"],[1.0,\"#f0f921\"]]}],\"surface\":[{\"type\":\"surface\",\"colorbar\":{\"outlinewidth\":0,\"ticks\":\"\"},\"colorscale\":[[0.0,\"#0d0887\"],[0.1111111111111111,\"#46039f\"],[0.2222222222222222,\"#7201a8\"],[0.3333333333333333,\"#9c179e\"],[0.4444444444444444,\"#bd3786\"],[0.5555555555555556,\"#d8576b\"],[0.6666666666666666,\"#ed7953\"],[0.7777777777777778,\"#fb9f3a\"],[0.8888888888888888,\"#fdca26\"],[1.0,\"#f0f921\"]]}],\"mesh3d\":[{\"type\":\"mesh3d\",\"colorbar\":{\"outlinewidth\":0,\"ticks\":\"\"}}],\"scatter\":[{\"fillpattern\":{\"fillmode\":\"overlay\",\"size\":10,\"solidity\":0.2},\"type\":\"scatter\"}],\"parcoords\":[{\"type\":\"parcoords\",\"line\":{\"colorbar\":{\"outlinewidth\":0,\"ticks\":\"\"}}}],\"scatterpolargl\":[{\"type\":\"scatterpolargl\",\"marker\":{\"colorbar\":{\"outlinewidth\":0,\"ticks\":\"\"}}}],\"bar\":[{\"error_x\":{\"color\":\"#2a3f5f\"},\"error_y\":{\"color\":\"#2a3f5f\"},\"marker\":{\"line\":{\"color\":\"#E5ECF6\",\"width\":0.5},\"pattern\":{\"fillmode\":\"overlay\",\"size\":10,\"solidity\":0.2}},\"type\":\"bar\"}],\"scattergeo\":[{\"type\":\"scattergeo\",\"marker\":{\"colorbar\":{\"outlinewidth\":0,\"ticks\":\"\"}}}],\"scatterpolar\":[{\"type\":\"scatterpolar\",\"marker\":{\"colorbar\":{\"outlinewidth\":0,\"ticks\":\"\"}}}],\"histogram\":[{\"marker\":{\"pattern\":{\"fillmode\":\"overlay\",\"size\":10,\"solidity\":0.2}},\"type\":\"histogram\"}],\"scattergl\":[{\"type\":\"scattergl\",\"marker\":{\"colorbar\":{\"outlinewidth\":0,\"ticks\":\"\"}}}],\"scatter3d\":[{\"type\":\"scatter3d\",\"line\":{\"colorbar\":{\"outlinewidth\":0,\"ticks\":\"\"}},\"marker\":{\"colorbar\":{\"outlinewidth\":0,\"ticks\":\"\"}}}],\"scattermapbox\":[{\"type\":\"scattermapbox\",\"marker\":{\"colorbar\":{\"outlinewidth\":0,\"ticks\":\"\"}}}],\"scatterternary\":[{\"type\":\"scatterternary\",\"marker\":{\"colorbar\":{\"outlinewidth\":0,\"ticks\":\"\"}}}],\"scattercarpet\":[{\"type\":\"scattercarpet\",\"marker\":{\"colorbar\":{\"outlinewidth\":0,\"ticks\":\"\"}}}],\"carpet\":[{\"aaxis\":{\"endlinecolor\":\"#2a3f5f\",\"gridcolor\":\"white\",\"linecolor\":\"white\",\"minorgridcolor\":\"white\",\"startlinecolor\":\"#2a3f5f\"},\"baxis\":{\"endlinecolor\":\"#2a3f5f\",\"gridcolor\":\"white\",\"linecolor\":\"white\",\"minorgridcolor\":\"white\",\"startlinecolor\":\"#2a3f5f\"},\"type\":\"carpet\"}],\"table\":[{\"cells\":{\"fill\":{\"color\":\"#EBF0F8\"},\"line\":{\"color\":\"white\"}},\"header\":{\"fill\":{\"color\":\"#C8D4E3\"},\"line\":{\"color\":\"white\"}},\"type\":\"table\"}],\"barpolar\":[{\"marker\":{\"line\":{\"color\":\"#E5ECF6\",\"width\":0.5},\"pattern\":{\"fillmode\":\"overlay\",\"size\":10,\"solidity\":0.2}},\"type\":\"barpolar\"}],\"pie\":[{\"automargin\":true,\"type\":\"pie\"}]},\"layout\":{\"autotypenumbers\":\"strict\",\"colorway\":[\"#636efa\",\"#EF553B\",\"#00cc96\",\"#ab63fa\",\"#FFA15A\",\"#19d3f3\",\"#FF6692\",\"#B6E880\",\"#FF97FF\",\"#FECB52\"],\"font\":{\"color\":\"#2a3f5f\"},\"hovermode\":\"closest\",\"hoverlabel\":{\"align\":\"left\"},\"paper_bgcolor\":\"white\",\"plot_bgcolor\":\"#E5ECF6\",\"polar\":{\"bgcolor\":\"#E5ECF6\",\"angularaxis\":{\"gridcolor\":\"white\",\"linecolor\":\"white\",\"ticks\":\"\"},\"radialaxis\":{\"gridcolor\":\"white\",\"linecolor\":\"white\",\"ticks\":\"\"}},\"ternary\":{\"bgcolor\":\"#E5ECF6\",\"aaxis\":{\"gridcolor\":\"white\",\"linecolor\":\"white\",\"ticks\":\"\"},\"baxis\":{\"gridcolor\":\"white\",\"linecolor\":\"white\",\"ticks\":\"\"},\"caxis\":{\"gridcolor\":\"white\",\"linecolor\":\"white\",\"ticks\":\"\"}},\"coloraxis\":{\"colorbar\":{\"outlinewidth\":0,\"ticks\":\"\"}},\"colorscale\":{\"sequential\":[[0.0,\"#0d0887\"],[0.1111111111111111,\"#46039f\"],[0.2222222222222222,\"#7201a8\"],[0.3333333333333333,\"#9c179e\"],[0.4444444444444444,\"#bd3786\"],[0.5555555555555556,\"#d8576b\"],[0.6666666666666666,\"#ed7953\"],[0.7777777777777778,\"#fb9f3a\"],[0.8888888888888888,\"#fdca26\"],[1.0,\"#f0f921\"]],\"sequentialminus\":[[0.0,\"#0d0887\"],[0.1111111111111111,\"#46039f\"],[0.2222222222222222,\"#7201a8\"],[0.3333333333333333,\"#9c179e\"],[0.4444444444444444,\"#bd3786\"],[0.5555555555555556,\"#d8576b\"],[0.6666666666666666,\"#ed7953\"],[0.7777777777777778,\"#fb9f3a\"],[0.8888888888888888,\"#fdca26\"],[1.0,\"#f0f921\"]],\"diverging\":[[0,\"#8e0152\"],[0.1,\"#c51b7d\"],[0.2,\"#de77ae\"],[0.3,\"#f1b6da\"],[0.4,\"#fde0ef\"],[0.5,\"#f7f7f7\"],[0.6,\"#e6f5d0\"],[0.7,\"#b8e186\"],[0.8,\"#7fbc41\"],[0.9,\"#4d9221\"],[1,\"#276419\"]]},\"xaxis\":{\"gridcolor\":\"white\",\"linecolor\":\"white\",\"ticks\":\"\",\"title\":{\"standoff\":15},\"zerolinecolor\":\"white\",\"automargin\":true,\"zerolinewidth\":2},\"yaxis\":{\"gridcolor\":\"white\",\"linecolor\":\"white\",\"ticks\":\"\",\"title\":{\"standoff\":15},\"zerolinecolor\":\"white\",\"automargin\":true,\"zerolinewidth\":2},\"scene\":{\"xaxis\":{\"backgroundcolor\":\"#E5ECF6\",\"gridcolor\":\"white\",\"linecolor\":\"white\",\"showbackground\":true,\"ticks\":\"\",\"zerolinecolor\":\"white\",\"gridwidth\":2},\"yaxis\":{\"backgroundcolor\":\"#E5ECF6\",\"gridcolor\":\"white\",\"linecolor\":\"white\",\"showbackground\":true,\"ticks\":\"\",\"zerolinecolor\":\"white\",\"gridwidth\":2},\"zaxis\":{\"backgroundcolor\":\"#E5ECF6\",\"gridcolor\":\"white\",\"linecolor\":\"white\",\"showbackground\":true,\"ticks\":\"\",\"zerolinecolor\":\"white\",\"gridwidth\":2}},\"shapedefaults\":{\"line\":{\"color\":\"#2a3f5f\"}},\"annotationdefaults\":{\"arrowcolor\":\"#2a3f5f\",\"arrowhead\":0,\"arrowwidth\":1},\"geo\":{\"bgcolor\":\"white\",\"landcolor\":\"#E5ECF6\",\"subunitcolor\":\"white\",\"showland\":true,\"showlakes\":true,\"lakecolor\":\"white\"},\"title\":{\"x\":0.05},\"mapbox\":{\"style\":\"light\"}}},\"title\":{\"text\":\"Average Minutes Distribution Per Day\",\"x\":0.5}},                        {\"responsive\": true}                    ).then(function(){\n",
       "                            \n",
       "var gd = document.getElementById('0d547c34-915a-4fd3-93fd-32f6c5b41a69');\n",
       "var x = new MutationObserver(function (mutations, observer) {{\n",
       "        var display = window.getComputedStyle(gd).display;\n",
       "        if (!display || display === 'none') {{\n",
       "            console.log([gd, 'removed!']);\n",
       "            Plotly.purge(gd);\n",
       "            observer.disconnect();\n",
       "        }}\n",
       "}});\n",
       "\n",
       "// Listen for the removal of the full notebook cells\n",
       "var notebookContainer = gd.closest('#notebook-container');\n",
       "if (notebookContainer) {{\n",
       "    x.observe(notebookContainer, {childList: true});\n",
       "}}\n",
       "\n",
       "// Listen for the clearing of the current output cell\n",
       "var outputEl = gd.closest('.output');\n",
       "if (outputEl) {{\n",
       "    x.observe(outputEl, {childList: true});\n",
       "}}\n",
       "\n",
       "                        })                };                });            </script>        </div>"
      ]
     },
     "metadata": {},
     "output_type": "display_data"
    },
    {
     "name": "stdout",
     "output_type": "stream",
     "text": [
      "Total hours in the chart: 27.95\n",
      "Average hours in bed per day: 7.64\n",
      "Average hours out of bed per day: 20.31\n"
     ]
    }
   ],
   "source": [
    "# Calculate average minutes for each activity level\n",
    "avg_veryactive = round(df_activity['VeryActiveMinutes'].mean()/60,2)\n",
    "avg_fairlyactive = round(df_activity['FairlyActiveMinutes'].mean()/60,2)\n",
    "avg_lightlyactive = round(df_activity['LightlyActiveMinutes'].mean()/60,2)\n",
    "avg_sedentary = round(df_activity['SedentaryMinutes'].mean()/60,2)\n",
    "avg_inbed = round(df_activity[df_activity['TotalTimeInBed'] > 0]['TotalTimeInBed'].mean() / 60, 2)\n",
    "\n",
    "# Create a dictionary to hold the average minutes for each activity level\n",
    "activity_minutes = {'Very Active': avg_veryactive, 'Fairly Active': avg_fairlyactive, 'Lightly Active': avg_lightlyactive, 'Sedentary': avg_sedentary, 'In Bed': avg_inbed}\n",
    "\n",
    "\n",
    "# Plotting with Plotly\n",
    "fig = go.Figure(data=[go.Pie(labels=list(activity_minutes.keys()), values=list(activity_minutes.values()), hole=0.5, hoverinfo='label+percent+value', \n",
    "                             hovertemplate='%{label}: %{percent} <br>Average Hours: %{value}', name='')])\n",
    "fig.update_layout(title='Average Minutes Distribution Per Day', title_x=0.5)\n",
    "fig.show()\n",
    "\n",
    "print(\"Total hours in the chart:\",avg_veryactive+avg_fairlyactive+avg_lightlyactive+avg_sedentary+avg_inbed)\n",
    "print(\"Average hours in bed per day:\",avg_inbed)\n",
    "print(\"Average hours out of bed per day:\",round(df_activity['Total_Mins'].mean()/60,2))"
   ]
  },
  {
   "cell_type": "markdown",
   "id": "2c6cfa39",
   "metadata": {
    "papermill": {
     "duration": 0.025578,
     "end_time": "2024-05-16T18:47:37.006170",
     "exception": false,
     "start_time": "2024-05-16T18:47:36.980592",
     "status": "completed"
    },
    "tags": []
   },
   "source": [
    "<p style=\"font-size:18px;\"> Where this pie chart takes an average of the diffrent minute types per day this has resulted in the total pie totalling 27.95hrs which is of course not possible in a 24 hour day. This is due to the total minutes (not including time in bed) having an average of 20.31 hours and the average time in bed being 7.64 hours (for the 24 users who tracked sleep data). \n",
    "    \n",
    "<p style=\"font-size:18px;\"> 3.79hrs of active time per day (on average) is great but when looking at a whole day thats less than 20% of that persons day, of course it would be impossible for someone to be active 100% of the day. However, with the correct strategy it may be possible to increase users active time to 25% of their day. \n",
    "    \n",
    "<p style=\"font-size:18px;\"> I next wanted to look at calories to see how diffrent metrics affected a users burned calories. I began by plotting calories by active minutes for users. Please see the graph below."
   ]
  },
  {
   "cell_type": "code",
   "execution_count": 24,
   "id": "688c44c2",
   "metadata": {
    "execution": {
     "iopub.execute_input": "2024-05-16T18:47:37.061505Z",
     "iopub.status.busy": "2024-05-16T18:47:37.060468Z",
     "iopub.status.idle": "2024-05-16T18:47:40.449071Z",
     "shell.execute_reply": "2024-05-16T18:47:40.447641Z"
    },
    "papermill": {
     "duration": 3.418962,
     "end_time": "2024-05-16T18:47:40.451652",
     "exception": false,
     "start_time": "2024-05-16T18:47:37.032690",
     "status": "completed"
    },
    "tags": []
   },
   "outputs": [
    {
     "data": {
      "text/html": [
       "<div>                            <div id=\"a55fa07c-b761-44f3-bf2f-7617020eb38b\" class=\"plotly-graph-div\" style=\"height:525px; width:100%;\"></div>            <script type=\"text/javascript\">                require([\"plotly\"], function(Plotly) {                    window.PLOTLYENV=window.PLOTLYENV || {};                                    if (document.getElementById(\"a55fa07c-b761-44f3-bf2f-7617020eb38b\")) {                    Plotly.newPlot(                        \"a55fa07c-b761-44f3-bf2f-7617020eb38b\",                        [{\"hovertemplate\":\"Active Mins=%{x}\\u003cbr\\u003eCalories=%{marker.color}\\u003cextra\\u003e\\u003c\\u002fextra\\u003e\",\"legendgroup\":\"\",\"marker\":{\"color\":[1985,1797,1776,1745,1863,1728,1921,2035,1786,1775,1827,1949,1788,2013,1970,2159,1898,1837,1947,1820,2004,1990,1819,1959,1896,1821,1740,1819,1859,1783,0,1432,1411,1572,1344,1463,1554,1604,1435,1446,1467,1470,1562,1617,1492,1402,1670,1401,1404,1655,2690,1497,1334,1368,1370,1341,1474,1427,1328,1393,1359,1002,3199,2902,3226,2750,3493,3011,2806,3300,2430,2140,2344,2677,2413,2497,3123,2489,3108,2498,3846,2696,2580,3324,2222,2463,3328,3404,2987,3008,2799,1276,2030,1860,2130,1725,1657,1793,1814,1366,1349,2062,1827,1645,1347,1347,1347,1348,1992,1856,1763,1541,1348,1742,1549,1589,1351,1347,1347,1347,1347,1347,665,2220,2151,2383,2221,2064,2063,2111,2063,2063,2064,2093,2499,2324,2100,2638,2063,2351,2063,2064,2411,2505,2195,2338,2063,2383,2229,2063,2063,2063,2063,1383,2390,2601,2312,2525,2177,2782,2770,2489,2897,3158,2638,2069,2529,2470,2793,2463,2296,2611,2732,2380,2473,2752,2649,2609,2498,1995,1848,2709,2797,2544,1853,1459,1521,1431,1444,1373,1214,1419,1356,1667,1370,1399,1916,1401,1576,1595,1593,1649,1692,1506,1447,1690,1604,1658,1926,1736,1491,1555,1869,1141,1698,1364,2124,2003,1696,1801,1724,1852,1905,1811,1922,1610,1851,1804,1725,1654,1632,1481,1473,1410,1779,1403,1613,1878,1426,1780,1742,1972,1821,1630,1899,1903,1125,2344,2038,2010,2133,2670,1882,1944,2346,2198,2048,1946,2629,2187,2095,1861,2194,1854,403,1982,2004,1893,2063,2148,1529,1890,1956,2094,1970,2241,2021,1898,1907,1882,1966,1835,1780,1830,1739,1878,1906,2015,1971,1910,1897,2096,1906,1962,1826,1431,1788,2093,2065,1908,1908,1964,2014,1985,1867,2124,1669,1995,1921,2010,2057,2095,1972,2044,1946,1237,1450,1495,1433,1468,1625,1529,1584,1638,1554,1397,1481,1638,1655,1570,1551,1377,1407,1545,1650,1501,1760,1710,1628,1618,1590,1574,1633,1667,1630,52,3654,1981,2011,2951,3051,1990,1995,1980,1980,1980,1980,1980,1980,1980,1980,1980,1980,1980,1980,1980,2207,2828,3879,3429,2704,2975,3089,2785,2926,2645,1120,2286,2306,1776,1527,2115,2135,2302,1985,1884,1464,1632,2200,2220,1792,1886,1945,1880,2314,2236,2324,2367,2175,2092,1593,2270,2235,2282,2530,2266,2158,1792,2345,2260,2232,257,2955,3092,2998,3066,3073,2572,3274,3015,3083,3069,3544,3306,2885,3288,2929,3074,2969,2979,3283,2926,3147,3290,3162,2899,3425,4022,3934,3013,3061,2954,1623,2113,2095,2194,2496,2180,1933,2248,1954,1974,2150,2432,2149,2247,2070,2291,2361,2203,2196,2363,2246,2336,2421,2070,2120,2211,2123,2423,2281,2181,2499,1212,1909,1722,1922,2121,1997,2117,2116,1876,1788,2486,2094,2085,2173,2225,2223,2098,2185,1918,2105,1692,2066,1953,1842,2262,1722,1973,2666,2223,1889,2131,1452,2947,2898,2984,2896,3328,3394,3013,2812,3061,2729,2241,3691,3538,3064,2784,2908,3033,3165,3115,2017,2859,3145,3004,3006,2859,3683,3287,2990,3172,3069,1240,2026,1718,2324,2254,1831,1397,1683,2284,1570,2066,2105,1776,1507,2033,2093,1922,1999,2169,1463,1747,1996,2116,1698,2156,1916,1494,1762,2272,2335,1693,741,3405,2551,4022,4005,4274,4552,3625,3501,3192,4018,3329,3152,4392,3374,3088,3294,3580,3544,4501,4546,3014,3795,2755,3004,2643,1819,1819,2489,3841,1665,1496,1496,1496,2865,2828,2225,2018,2606,2536,4900,2409,2651,2305,1497,2450,2576,1879,2560,2275,2361,2044,1496,1902,2636,1838,2469,2250,1248,2560,2905,2952,2896,2783,3171,2766,2839,2701,2060,2796,2664,2703,2771,2060,2743,2687,2060,2843,3327,2725,2671,2718,2682,2806,2613,2712,2175,0,1841,2400,2507,2127,2225,2067,2798,1841,3727,1841,1922,1841,2053,2484,2584,1841,1993,1841,2280,2319,1841,1843,1841,1841,2496,1032,1994,1718,1466,1756,2173,2027,2039,2046,2174,2179,2086,2571,1705,2194,2012,2034,2182,2254,2002,1740,2162,2072,2086,2066,1850,1947,1659,2105,2361,1855,928,2937,2742,2668,2098,2076,2383,2832,2812,3096,2763,2889,2284,2667,3055,2939,2830,2836,3180,2051,2225,2642,2976,1557,2933,2553,120,2772,2516,2734,2395,1635,1629,2743,2944,2997,2463,2846,1965,2049,2752,2781,2693,2862,2616,2995,2730,2754,2754,2655,2386,2924,2739,2534,2960,2800,2735,1199,3186,3140,3411,3410,2867,3213,3133,3114,3043,3103,2655,3554,3577,3403,2846,2852,3062,2794,2408,1886,1988,3023,2918,2950,2859,3331,3589,2765,2926,2809,1505,2044,1935,1705,1632,1880,2112,1829,1763,1931,2218,1651,2132,1976,1909,1813,2008,1580,1854,0,3635,4079,4163,3666,3363,2572,4157,4092,3787,4236,4044,2908,2741,4005,3763,3061,2884,2982,2660,3369,3491,3784,3110,3783,3644,2799,2685,3721,3586,3788,1976,2650,2654,2443,2505,2693,2439,2536,2668,2647,2883,2944,3012,2889,2547,3093,3142,2757,3513,3164,2596,2894,3212,2516,3266,2683,2810,2940,2947,2846,2804,0,2044,1934,1963,2009,1721,1688,1688,1688,2188,1720,2419,2748,1799,1688,1928,2067,2780,3101,2896,1962,2015,2297,2067,1688,1688,1688,1688,1688,57,3921,3566,3793,3934,4547,3545,2761,3676,3679,3659,3427,3891,3455,3802,2860,3808,3060,2698,4398,2786,2189,2817,3477,3052,4015,4142,2847,3710,2832,3832,1849],\"coloraxis\":\"coloraxis\",\"symbol\":\"circle\"},\"mode\":\"markers\",\"name\":\"\",\"orientation\":\"v\",\"showlegend\":false,\"x\":[366,257,222,272,267,222,291,345,245,238,223,324,282,303,333,332,265,271,303,314,333,328,261,319,319,258,255,263,291,310,0,146,148,236,96,176,164,226,141,151,186,199,227,219,202,140,207,120,150,258,420,179,96,118,117,102,182,152,91,139,112,107,309,181,315,177,305,228,169,341,125,38,86,175,89,103,275,118,283,120,482,173,156,325,52,99,386,301,295,341,186,49,339,248,373,176,147,209,229,10,1,323,220,139,0,0,0,1,302,247,184,82,0,184,87,120,2,0,0,0,0,0,0,55,32,97,51,0,0,17,0,0,0,10,145,82,12,192,0,95,0,0,85,118,27,87,0,108,48,0,0,0,0,0,283,340,292,318,203,388,362,288,387,412,335,249,279,269,354,321,317,342,397,298,321,336,335,328,336,171,135,379,356,307,268,192,238,197,188,150,60,182,141,327,153,162,432,164,260,288,286,331,352,233,191,355,304,345,475,383,229,258,401,17,330,343,328,335,191,245,195,249,267,239,294,138,266,242,204,160,147,82,76,45,234,40,134,236,52,234,204,319,247,145,290,300,128,361,246,255,309,406,257,233,389,323,257,242,427,360,303,227,330,229,4,379,412,331,448,353,168,318,389,405,383,412,363,237,359,316,243,248,249,273,221,341,370,420,347,375,138,372,345,373,319,268,280,395,401,335,356,335,370,376,292,403,206,325,313,416,357,383,385,402,321,172,194,230,242,240,267,274,313,307,264,242,233,344,254,192,272,186,213,218,289,205,343,346,252,280,252,294,296,281,312,13,350,0,3,141,141,2,2,0,0,0,0,0,0,0,0,0,0,0,0,0,42,174,405,276,177,184,263,181,206,144,21,164,160,0,97,0,119,349,228,194,3,68,311,324,34,196,233,197,398,317,353,380,313,240,67,355,321,334,389,331,310,153,390,344,332,2,0,165,264,299,268,201,274,285,289,291,322,278,261,343,261,300,262,265,357,268,241,342,307,250,340,436,323,283,294,282,108,196,194,231,350,225,114,193,121,137,215,317,201,244,179,210,227,236,226,290,240,231,265,180,193,229,138,316,266,231,288,58,318,153,279,309,328,330,360,258,222,459,318,318,395,368,336,353,379,241,329,190,383,268,252,392,202,272,339,375,249,359,247,263,258,271,265,362,380,243,197,291,189,72,483,391,291,225,255,255,298,303,0,240,313,270,254,224,490,326,265,300,286,68,309,226,358,335,288,46,206,346,148,266,311,272,104,263,296,238,227,331,84,237,259,302,224,314,259,96,221,332,366,195,62,242,170,324,368,398,396,276,242,216,359,292,271,416,313,251,269,291,298,415,444,292,317,175,209,136,0,0,115,335,123,0,0,0,519,540,312,241,480,385,324,402,512,362,0,359,458,141,461,343,397,236,0,156,487,133,412,318,197,199,350,363,328,258,268,271,321,258,0,302,33,258,260,0,287,255,0,324,385,268,240,272,239,305,227,251,264,0,0,120,143,58,63,48,207,0,361,0,20,0,40,138,119,0,30,0,96,93,0,1,0,0,122,56,253,174,86,217,333,313,293,271,349,294,303,446,199,348,297,324,334,396,285,215,370,324,335,341,299,328,165,295,371,230,113,416,339,344,202,203,305,363,374,440,391,375,250,419,454,462,399,433,479,200,237,328,419,0,393,304,0,218,212,256,190,3,0,226,260,245,231,270,90,125,237,235,206,263,242,367,303,231,245,192,187,273,271,206,288,201,225,67,247,263,317,298,185,327,303,288,252,276,180,362,344,336,258,253,252,225,159,51,95,274,220,232,195,289,367,226,221,251,71,196,142,78,105,172,203,162,164,239,241,120,247,127,179,141,154,47,166,0,236,299,318,273,227,93,301,293,259,298,284,165,135,274,269,200,160,182,121,208,209,286,196,283,245,158,139,255,228,266,116,203,188,134,65,0,0,131,183,194,211,270,289,252,146,306,211,231,371,347,129,0,0,0,70,190,250,257,180,214,253,0,116,82,84,126,12,0,0,0,149,9,216,285,30,0,80,112,310,400,331,79,101,156,129,0,0,0,0,0,0,404,342,379,388,552,380,225,309,317,321,299,408,292,339,283,336,297,233,351,214,105,251,286,270,345,404,266,309,253,313,161],\"xaxis\":\"x\",\"y\":[1985,1797,1776,1745,1863,1728,1921,2035,1786,1775,1827,1949,1788,2013,1970,2159,1898,1837,1947,1820,2004,1990,1819,1959,1896,1821,1740,1819,1859,1783,0,1432,1411,1572,1344,1463,1554,1604,1435,1446,1467,1470,1562,1617,1492,1402,1670,1401,1404,1655,2690,1497,1334,1368,1370,1341,1474,1427,1328,1393,1359,1002,3199,2902,3226,2750,3493,3011,2806,3300,2430,2140,2344,2677,2413,2497,3123,2489,3108,2498,3846,2696,2580,3324,2222,2463,3328,3404,2987,3008,2799,1276,2030,1860,2130,1725,1657,1793,1814,1366,1349,2062,1827,1645,1347,1347,1347,1348,1992,1856,1763,1541,1348,1742,1549,1589,1351,1347,1347,1347,1347,1347,665,2220,2151,2383,2221,2064,2063,2111,2063,2063,2064,2093,2499,2324,2100,2638,2063,2351,2063,2064,2411,2505,2195,2338,2063,2383,2229,2063,2063,2063,2063,1383,2390,2601,2312,2525,2177,2782,2770,2489,2897,3158,2638,2069,2529,2470,2793,2463,2296,2611,2732,2380,2473,2752,2649,2609,2498,1995,1848,2709,2797,2544,1853,1459,1521,1431,1444,1373,1214,1419,1356,1667,1370,1399,1916,1401,1576,1595,1593,1649,1692,1506,1447,1690,1604,1658,1926,1736,1491,1555,1869,1141,1698,1364,2124,2003,1696,1801,1724,1852,1905,1811,1922,1610,1851,1804,1725,1654,1632,1481,1473,1410,1779,1403,1613,1878,1426,1780,1742,1972,1821,1630,1899,1903,1125,2344,2038,2010,2133,2670,1882,1944,2346,2198,2048,1946,2629,2187,2095,1861,2194,1854,403,1982,2004,1893,2063,2148,1529,1890,1956,2094,1970,2241,2021,1898,1907,1882,1966,1835,1780,1830,1739,1878,1906,2015,1971,1910,1897,2096,1906,1962,1826,1431,1788,2093,2065,1908,1908,1964,2014,1985,1867,2124,1669,1995,1921,2010,2057,2095,1972,2044,1946,1237,1450,1495,1433,1468,1625,1529,1584,1638,1554,1397,1481,1638,1655,1570,1551,1377,1407,1545,1650,1501,1760,1710,1628,1618,1590,1574,1633,1667,1630,52,3654,1981,2011,2951,3051,1990,1995,1980,1980,1980,1980,1980,1980,1980,1980,1980,1980,1980,1980,1980,2207,2828,3879,3429,2704,2975,3089,2785,2926,2645,1120,2286,2306,1776,1527,2115,2135,2302,1985,1884,1464,1632,2200,2220,1792,1886,1945,1880,2314,2236,2324,2367,2175,2092,1593,2270,2235,2282,2530,2266,2158,1792,2345,2260,2232,257,2955,3092,2998,3066,3073,2572,3274,3015,3083,3069,3544,3306,2885,3288,2929,3074,2969,2979,3283,2926,3147,3290,3162,2899,3425,4022,3934,3013,3061,2954,1623,2113,2095,2194,2496,2180,1933,2248,1954,1974,2150,2432,2149,2247,2070,2291,2361,2203,2196,2363,2246,2336,2421,2070,2120,2211,2123,2423,2281,2181,2499,1212,1909,1722,1922,2121,1997,2117,2116,1876,1788,2486,2094,2085,2173,2225,2223,2098,2185,1918,2105,1692,2066,1953,1842,2262,1722,1973,2666,2223,1889,2131,1452,2947,2898,2984,2896,3328,3394,3013,2812,3061,2729,2241,3691,3538,3064,2784,2908,3033,3165,3115,2017,2859,3145,3004,3006,2859,3683,3287,2990,3172,3069,1240,2026,1718,2324,2254,1831,1397,1683,2284,1570,2066,2105,1776,1507,2033,2093,1922,1999,2169,1463,1747,1996,2116,1698,2156,1916,1494,1762,2272,2335,1693,741,3405,2551,4022,4005,4274,4552,3625,3501,3192,4018,3329,3152,4392,3374,3088,3294,3580,3544,4501,4546,3014,3795,2755,3004,2643,1819,1819,2489,3841,1665,1496,1496,1496,2865,2828,2225,2018,2606,2536,4900,2409,2651,2305,1497,2450,2576,1879,2560,2275,2361,2044,1496,1902,2636,1838,2469,2250,1248,2560,2905,2952,2896,2783,3171,2766,2839,2701,2060,2796,2664,2703,2771,2060,2743,2687,2060,2843,3327,2725,2671,2718,2682,2806,2613,2712,2175,0,1841,2400,2507,2127,2225,2067,2798,1841,3727,1841,1922,1841,2053,2484,2584,1841,1993,1841,2280,2319,1841,1843,1841,1841,2496,1032,1994,1718,1466,1756,2173,2027,2039,2046,2174,2179,2086,2571,1705,2194,2012,2034,2182,2254,2002,1740,2162,2072,2086,2066,1850,1947,1659,2105,2361,1855,928,2937,2742,2668,2098,2076,2383,2832,2812,3096,2763,2889,2284,2667,3055,2939,2830,2836,3180,2051,2225,2642,2976,1557,2933,2553,120,2772,2516,2734,2395,1635,1629,2743,2944,2997,2463,2846,1965,2049,2752,2781,2693,2862,2616,2995,2730,2754,2754,2655,2386,2924,2739,2534,2960,2800,2735,1199,3186,3140,3411,3410,2867,3213,3133,3114,3043,3103,2655,3554,3577,3403,2846,2852,3062,2794,2408,1886,1988,3023,2918,2950,2859,3331,3589,2765,2926,2809,1505,2044,1935,1705,1632,1880,2112,1829,1763,1931,2218,1651,2132,1976,1909,1813,2008,1580,1854,0,3635,4079,4163,3666,3363,2572,4157,4092,3787,4236,4044,2908,2741,4005,3763,3061,2884,2982,2660,3369,3491,3784,3110,3783,3644,2799,2685,3721,3586,3788,1976,2650,2654,2443,2505,2693,2439,2536,2668,2647,2883,2944,3012,2889,2547,3093,3142,2757,3513,3164,2596,2894,3212,2516,3266,2683,2810,2940,2947,2846,2804,0,2044,1934,1963,2009,1721,1688,1688,1688,2188,1720,2419,2748,1799,1688,1928,2067,2780,3101,2896,1962,2015,2297,2067,1688,1688,1688,1688,1688,57,3921,3566,3793,3934,4547,3545,2761,3676,3679,3659,3427,3891,3455,3802,2860,3808,3060,2698,4398,2786,2189,2817,3477,3052,4015,4142,2847,3710,2832,3832,1849],\"yaxis\":\"y\",\"type\":\"scatter\"},{\"hovertemplate\":\"\\u003cb\\u003eOLS trendline\\u003c\\u002fb\\u003e\\u003cbr\\u003eCalories = 2.78357 * Total_Active_Mins + 1670.23\\u003cbr\\u003eR\\u003csup\\u003e2\\u003c\\u002fsup\\u003e=0.222782\\u003cbr\\u003e\\u003cbr\\u003eActive Mins=%{x}\\u003cbr\\u003eCalories=%{y} \\u003cb\\u003e(trend)\\u003c\\u002fb\\u003e\\u003cextra\\u003e\\u003c\\u002fextra\\u003e\",\"legendgroup\":\"\",\"marker\":{\"symbol\":\"circle\"},\"mode\":\"lines\",\"name\":\"\",\"showlegend\":false,\"x\":[0,0,0,0,0,0,0,0,0,0,0,0,0,0,0,0,0,0,0,0,0,0,0,0,0,0,0,0,0,0,0,0,0,0,0,0,0,0,0,0,0,0,0,0,0,0,0,0,0,0,0,0,0,0,0,0,0,0,0,0,0,0,0,0,0,0,0,0,0,0,0,0,0,0,0,0,0,0,0,0,0,0,0,1,1,1,2,2,2,2,3,3,3,4,9,10,10,12,12,13,17,17,20,21,27,30,30,32,33,34,38,40,40,42,45,46,47,48,48,49,51,51,52,52,55,56,58,58,60,62,63,65,67,67,68,68,70,71,72,76,78,79,80,82,82,82,82,84,84,85,86,86,87,87,89,90,91,93,93,95,95,96,96,96,96,97,97,99,101,102,103,104,105,105,107,108,108,112,112,113,114,115,116,116,117,118,118,118,119,119,120,120,120,120,120,121,121,122,123,125,125,126,127,128,129,129,131,133,134,134,135,135,136,137,138,138,138,138,139,139,139,140,141,141,141,141,141,141,142,143,144,145,145,146,146,147,147,148,148,149,150,150,151,152,153,153,153,154,156,156,156,158,159,160,160,160,161,162,162,164,164,164,164,165,165,165,166,168,169,170,171,172,172,173,174,174,175,175,176,176,177,177,179,179,179,180,180,180,181,181,182,182,182,183,184,184,184,185,186,186,186,187,188,188,189,190,190,190,191,191,192,192,192,192,193,193,194,194,194,194,195,195,195,196,196,196,196,197,197,197,197,199,199,199,200,200,201,201,201,202,202,202,203,203,203,203,204,204,205,206,206,206,206,206,207,207,208,209,209,209,210,211,211,212,213,214,214,215,215,216,216,217,218,218,219,220,220,221,221,221,222,222,222,223,224,224,225,225,225,225,225,226,226,226,226,226,227,227,227,227,227,227,228,228,228,229,229,229,229,230,230,231,231,231,231,231,231,232,233,233,233,233,233,234,234,235,236,236,236,236,236,237,237,237,237,238,238,238,239,239,239,240,240,240,240,240,241,241,241,241,242,242,242,242,242,242,242,243,243,244,245,245,245,245,245,246,247,247,247,247,247,248,248,249,249,249,249,250,250,250,251,251,251,251,252,252,252,252,252,252,253,253,253,253,254,254,255,255,255,255,255,255,256,257,257,257,257,258,258,258,258,258,258,258,258,258,259,259,259,260,260,260,261,261,261,262,263,263,263,263,263,263,264,264,264,265,265,265,265,265,266,266,266,266,266,267,267,267,268,268,268,268,268,268,268,269,269,269,270,270,270,270,271,271,271,271,271,271,272,272,272,272,272,273,273,273,274,274,274,274,275,276,276,276,278,279,279,280,280,281,282,282,283,283,283,283,283,284,285,285,285,286,286,286,286,287,288,288,288,288,288,288,289,289,289,289,290,290,291,291,291,291,291,291,292,292,292,292,292,293,293,294,294,294,294,295,295,296,296,297,297,298,298,298,298,298,299,299,299,299,300,300,300,301,301,302,302,302,303,303,303,303,303,303,303,304,304,305,305,305,306,307,307,307,309,309,309,309,309,309,310,310,310,311,311,312,312,313,313,313,313,313,313,313,314,314,315,316,316,317,317,317,317,317,317,318,318,318,318,318,318,318,319,319,319,319,321,321,321,321,321,321,322,323,323,323,324,324,324,324,324,324,324,325,325,326,327,327,328,328,328,328,328,328,328,329,330,330,330,331,331,331,331,331,332,332,332,333,333,333,334,334,335,335,335,335,335,335,335,335,336,336,336,336,336,339,339,339,339,340,340,341,341,341,341,342,342,342,343,343,343,343,344,344,344,344,345,345,345,345,346,346,347,347,348,349,349,350,350,350,351,352,353,353,353,354,355,355,356,356,357,357,358,359,359,359,359,360,360,361,361,362,362,362,362,363,363,363,366,366,367,367,368,368,370,370,370,371,371,372,373,373,374,375,375,375,376,379,379,379,379,380,380,380,383,383,383,383,385,385,385,386,387,388,388,389,389,389,390,391,391,392,393,395,395,396,396,397,397,398,398,399,400,401,401,402,402,403,404,404,405,405,406,408,412,412,412,412,415,416,416,416,419,419,420,420,427,432,433,436,440,444,446,448,454,458,459,461,462,475,479,480,482,483,487,490,512,519,540,552],\"xaxis\":\"x\",\"y\":[1670.2288333609536,1670.2288333609536,1670.2288333609536,1670.2288333609536,1670.2288333609536,1670.2288333609536,1670.2288333609536,1670.2288333609536,1670.2288333609536,1670.2288333609536,1670.2288333609536,1670.2288333609536,1670.2288333609536,1670.2288333609536,1670.2288333609536,1670.2288333609536,1670.2288333609536,1670.2288333609536,1670.2288333609536,1670.2288333609536,1670.2288333609536,1670.2288333609536,1670.2288333609536,1670.2288333609536,1670.2288333609536,1670.2288333609536,1670.2288333609536,1670.2288333609536,1670.2288333609536,1670.2288333609536,1670.2288333609536,1670.2288333609536,1670.2288333609536,1670.2288333609536,1670.2288333609536,1670.2288333609536,1670.2288333609536,1670.2288333609536,1670.2288333609536,1670.2288333609536,1670.2288333609536,1670.2288333609536,1670.2288333609536,1670.2288333609536,1670.2288333609536,1670.2288333609536,1670.2288333609536,1670.2288333609536,1670.2288333609536,1670.2288333609536,1670.2288333609536,1670.2288333609536,1670.2288333609536,1670.2288333609536,1670.2288333609536,1670.2288333609536,1670.2288333609536,1670.2288333609536,1670.2288333609536,1670.2288333609536,1670.2288333609536,1670.2288333609536,1670.2288333609536,1670.2288333609536,1670.2288333609536,1670.2288333609536,1670.2288333609536,1670.2288333609536,1670.2288333609536,1670.2288333609536,1670.2288333609536,1670.2288333609536,1670.2288333609536,1670.2288333609536,1670.2288333609536,1670.2288333609536,1670.2288333609536,1670.2288333609536,1670.2288333609536,1670.2288333609536,1670.2288333609536,1670.2288333609536,1670.2288333609536,1673.0124038721542,1673.0124038721542,1673.0124038721542,1675.7959743833549,1675.7959743833549,1675.7959743833549,1675.7959743833549,1678.5795448945555,1678.5795448945555,1678.5795448945555,1681.363115405756,1695.2809679617592,1698.0645384729596,1698.0645384729596,1703.631679495361,1703.631679495361,1706.4152500065616,1717.549532051364,1717.549532051364,1725.900243584966,1728.6838140961665,1745.3852371633702,1753.735948696972,1753.735948696972,1759.3030897193732,1762.086660230574,1764.8702307417745,1776.004512786577,1781.5716538089782,1781.5716538089782,1787.1387948313795,1795.4895063649813,1798.273076876182,1801.0566473873826,1803.8402178985832,1803.8402178985832,1806.6237884097836,1812.190929432185,1812.190929432185,1814.9744999433856,1814.9744999433856,1823.3252114769875,1826.1087819881882,1831.6759230105893,1831.6759230105893,1837.2430640329906,1842.8102050553916,1845.5937755665923,1851.1609165889936,1856.728057611395,1856.728057611395,1859.5116281225955,1859.5116281225955,1865.0787691449966,1867.8623396561973,1870.645910167398,1881.7801922122003,1887.3473332346016,1890.1309037458022,1892.914474257003,1898.4816152794042,1898.4816152794042,1898.4816152794042,1898.4816152794042,1904.0487563018053,1904.0487563018053,1906.832326813006,1909.6158973242066,1909.6158973242066,1912.3994678354072,1912.3994678354072,1917.9666088578083,1920.750179369009,1923.5337498802096,1929.100890902611,1929.100890902611,1934.6680319250122,1934.6680319250122,1937.4516024362129,1937.4516024362129,1937.4516024362129,1937.4516024362129,1940.2351729474133,1940.2351729474133,1945.8023139698146,1951.3694549922157,1954.1530255034163,1956.936596014617,1959.7201665258176,1962.5037370370183,1962.5037370370183,1968.0708780594196,1970.8544485706202,1970.8544485706202,1981.9887306154226,1981.9887306154226,1984.7723011266232,1987.5558716378239,1990.3394421490243,1993.123012660225,1993.123012660225,1995.9065831714256,1998.6901536826263,1998.6901536826263,1998.6901536826263,2001.473724193827,2001.473724193827,2004.2572947050276,2004.2572947050276,2004.2572947050276,2004.2572947050276,2004.2572947050276,2007.0408652162282,2007.0408652162282,2009.8244357274289,2012.6080062386293,2018.1751472610306,2018.1751472610306,2020.9587177722312,2023.742288283432,2026.5258587946323,2029.309429305833,2029.309429305833,2034.8765703282343,2040.4437113506356,2043.2272818618362,2043.2272818618362,2046.0108523730369,2046.0108523730369,2048.7944228842375,2051.577993395438,2054.3615639066384,2054.3615639066384,2054.3615639066384,2054.3615639066384,2057.145134417839,2057.145134417839,2057.145134417839,2059.9287049290397,2062.7122754402403,2062.7122754402403,2062.7122754402403,2062.7122754402403,2062.7122754402403,2062.7122754402403,2065.495845951441,2068.2794164626416,2071.0629869738423,2073.846557485043,2073.846557485043,2076.6301279962436,2076.6301279962436,2079.413698507444,2079.413698507444,2082.197269018645,2082.197269018645,2084.9808395298455,2087.764410041046,2087.764410041046,2090.5479805522464,2093.331551063447,2096.1151215746477,2096.1151215746477,2096.1151215746477,2098.8986920858483,2104.4658331082496,2104.4658331082496,2104.4658331082496,2110.032974130651,2112.8165446418516,2115.6001151530522,2115.6001151530522,2115.6001151530522,2118.383685664253,2121.1672561754535,2121.1672561754535,2126.7343971978544,2126.7343971978544,2126.7343971978544,2126.7343971978544,2129.517967709055,2129.517967709055,2129.517967709055,2132.3015382202557,2137.868679242657,2140.6522497538576,2143.4358202650583,2146.219390776259,2149.0029612874596,2149.0029612874596,2151.7865317986602,2154.570102309861,2154.570102309861,2157.3536728210615,2157.3536728210615,2160.137243332262,2160.137243332262,2162.9208138434624,2162.9208138434624,2168.4879548658637,2168.4879548658637,2168.4879548658637,2171.2715253770643,2171.2715253770643,2171.2715253770643,2174.055095888265,2174.055095888265,2176.8386663994656,2176.8386663994656,2176.8386663994656,2179.6222369106663,2182.405807421867,2182.405807421867,2182.405807421867,2185.1893779330676,2187.9729484442682,2187.9729484442682,2187.9729484442682,2190.756518955469,2193.5400894666695,2193.5400894666695,2196.32365997787,2199.1072304890704,2199.1072304890704,2199.1072304890704,2201.8908010002715,2201.8908010002715,2204.6743715114717,2204.6743715114717,2204.6743715114717,2204.6743715114717,2207.4579420226723,2207.4579420226723,2210.241512533873,2210.241512533873,2210.241512533873,2210.241512533873,2213.0250830450736,2213.0250830450736,2213.0250830450736,2215.8086535562743,2215.8086535562743,2215.8086535562743,2215.8086535562743,2218.592224067475,2218.592224067475,2218.592224067475,2218.592224067475,2224.1593650898762,2224.1593650898762,2224.1593650898762,2226.942935601077,2226.942935601077,2229.7265061122775,2229.7265061122775,2229.7265061122775,2232.510076623478,2232.510076623478,2232.510076623478,2235.2936471346784,2235.2936471346784,2235.2936471346784,2235.2936471346784,2238.0772176458795,2238.0772176458795,2240.8607881570797,2243.6443586682803,2243.6443586682803,2243.6443586682803,2243.6443586682803,2243.6443586682803,2246.427929179481,2246.427929179481,2249.2114996906816,2251.9950702018823,2251.9950702018823,2251.9950702018823,2254.778640713083,2257.5622112242836,2257.5622112242836,2260.3457817354843,2263.129352246685,2265.9129227578856,2265.9129227578856,2268.696493269086,2268.696493269086,2271.4800637802864,2271.4800637802864,2274.2636342914875,2277.0472048026877,2277.0472048026877,2279.8307753138884,2282.614345825089,2282.614345825089,2285.3979163362897,2285.3979163362897,2285.3979163362897,2288.1814868474903,2288.1814868474903,2288.1814868474903,2290.965057358691,2293.7486278698916,2293.7486278698916,2296.5321983810923,2296.5321983810923,2296.5321983810923,2296.5321983810923,2296.5321983810923,2299.315768892293,2299.315768892293,2299.315768892293,2299.315768892293,2299.315768892293,2302.0993394034936,2302.0993394034936,2302.0993394034936,2302.0993394034936,2302.0993394034936,2302.0993394034936,2304.882909914694,2304.882909914694,2304.882909914694,2307.6664804258944,2307.6664804258944,2307.6664804258944,2307.6664804258944,2310.4500509370955,2310.4500509370955,2313.2336214482957,2313.2336214482957,2313.2336214482957,2313.2336214482957,2313.2336214482957,2313.2336214482957,2316.0171919594964,2318.800762470697,2318.800762470697,2318.800762470697,2318.800762470697,2318.800762470697,2321.5843329818977,2321.5843329818977,2324.3679034930983,2327.151474004299,2327.151474004299,2327.151474004299,2327.151474004299,2327.151474004299,2329.9350445154996,2329.9350445154996,2329.9350445154996,2329.9350445154996,2332.7186150267003,2332.7186150267003,2332.7186150267003,2335.502185537901,2335.502185537901,2335.502185537901,2338.2857560491016,2338.2857560491016,2338.2857560491016,2338.2857560491016,2338.2857560491016,2341.069326560302,2341.069326560302,2341.069326560302,2341.069326560302,2343.8528970715024,2343.8528970715024,2343.8528970715024,2343.8528970715024,2343.8528970715024,2343.8528970715024,2343.8528970715024,2346.6364675827035,2346.6364675827035,2349.4200380939037,2352.2036086051044,2352.2036086051044,2352.2036086051044,2352.2036086051044,2352.2036086051044,2354.987179116305,2357.7707496275057,2357.7707496275057,2357.7707496275057,2357.7707496275057,2357.7707496275057,2360.5543201387063,2360.5543201387063,2363.337890649907,2363.337890649907,2363.337890649907,2363.337890649907,2366.1214611611076,2366.1214611611076,2366.1214611611076,2368.9050316723083,2368.9050316723083,2368.9050316723083,2368.9050316723083,2371.688602183509,2371.688602183509,2371.688602183509,2371.688602183509,2371.688602183509,2371.688602183509,2374.4721726947096,2374.4721726947096,2374.4721726947096,2374.4721726947096,2377.25574320591,2377.25574320591,2380.0393137171104,2380.0393137171104,2380.0393137171104,2380.0393137171104,2380.0393137171104,2380.0393137171104,2382.8228842283115,2385.6064547395117,2385.6064547395117,2385.6064547395117,2385.6064547395117,2388.3900252507124,2388.3900252507124,2388.3900252507124,2388.3900252507124,2388.3900252507124,2388.3900252507124,2388.3900252507124,2388.3900252507124,2388.3900252507124,2391.173595761913,2391.173595761913,2391.173595761913,2393.9571662731137,2393.9571662731137,2393.9571662731137,2396.7407367843143,2396.7407367843143,2396.7407367843143,2399.524307295515,2402.3078778067156,2402.3078778067156,2402.3078778067156,2402.3078778067156,2402.3078778067156,2402.3078778067156,2405.0914483179163,2405.0914483179163,2405.0914483179163,2407.875018829117,2407.875018829117,2407.875018829117,2407.875018829117,2407.875018829117,2410.6585893403176,2410.6585893403176,2410.6585893403176,2410.6585893403176,2410.6585893403176,2413.442159851518,2413.442159851518,2413.442159851518,2416.2257303627184,2416.2257303627184,2416.2257303627184,2416.2257303627184,2416.2257303627184,2416.2257303627184,2416.2257303627184,2419.0093008739195,2419.0093008739195,2419.0093008739195,2421.7928713851197,2421.7928713851197,2421.7928713851197,2421.7928713851197,2424.5764418963204,2424.5764418963204,2424.5764418963204,2424.5764418963204,2424.5764418963204,2424.5764418963204,2427.360012407521,2427.360012407521,2427.360012407521,2427.360012407521,2427.360012407521,2430.1435829187217,2430.1435829187217,2430.1435829187217,2432.9271534299223,2432.9271534299223,2432.9271534299223,2432.9271534299223,2435.710723941123,2438.4942944523236,2438.4942944523236,2438.4942944523236,2444.061435474725,2446.8450059859256,2446.8450059859256,2449.6285764971262,2449.6285764971262,2452.4121470083264,2455.1957175195275,2455.1957175195275,2457.9792880307277,2457.9792880307277,2457.9792880307277,2457.9792880307277,2457.9792880307277,2460.7628585419284,2463.546429053129,2463.546429053129,2463.546429053129,2466.3299995643297,2466.3299995643297,2466.3299995643297,2466.3299995643297,2469.1135700755303,2471.897140586731,2471.897140586731,2471.897140586731,2471.897140586731,2471.897140586731,2471.897140586731,2474.6807110979316,2474.6807110979316,2474.6807110979316,2474.6807110979316,2477.4642816091323,2477.4642816091323,2480.247852120333,2480.247852120333,2480.247852120333,2480.247852120333,2480.247852120333,2480.247852120333,2483.0314226315336,2483.0314226315336,2483.0314226315336,2483.0314226315336,2483.0314226315336,2485.8149931427342,2485.8149931427342,2488.5985636539344,2488.5985636539344,2488.5985636539344,2488.5985636539344,2491.3821341651355,2491.3821341651355,2494.1657046763357,2494.1657046763357,2496.949275187537,2496.949275187537,2499.732845698737,2499.732845698737,2499.732845698737,2499.732845698737,2499.732845698737,2502.5164162099377,2502.5164162099377,2502.5164162099377,2502.5164162099377,2505.2999867211383,2505.2999867211383,2505.2999867211383,2508.083557232339,2508.083557232339,2510.8671277435396,2510.8671277435396,2510.8671277435396,2513.6506982547403,2513.6506982547403,2513.6506982547403,2513.6506982547403,2513.6506982547403,2513.6506982547403,2513.6506982547403,2516.434268765941,2516.434268765941,2519.2178392771416,2519.2178392771416,2519.2178392771416,2522.0014097883422,2524.7849802995424,2524.7849802995424,2524.7849802995424,2530.3521213219437,2530.3521213219437,2530.3521213219437,2530.3521213219437,2530.3521213219437,2530.3521213219437,2533.135691833145,2533.135691833145,2533.135691833145,2535.919262344345,2535.919262344345,2538.7028328555457,2538.7028328555457,2541.4864033667463,2541.4864033667463,2541.4864033667463,2541.4864033667463,2541.4864033667463,2541.4864033667463,2541.4864033667463,2544.269973877947,2544.269973877947,2547.0535443891476,2549.8371149003483,2549.8371149003483,2552.620685411549,2552.620685411549,2552.620685411549,2552.620685411549,2552.620685411549,2552.620685411549,2555.4042559227496,2555.4042559227496,2555.4042559227496,2555.4042559227496,2555.4042559227496,2555.4042559227496,2555.4042559227496,2558.1878264339502,2558.1878264339502,2558.1878264339502,2558.1878264339502,2563.7549674563516,2563.7549674563516,2563.7549674563516,2563.7549674563516,2563.7549674563516,2563.7549674563516,2566.5385379675517,2569.322108478753,2569.322108478753,2569.322108478753,2572.105678989953,2572.105678989953,2572.105678989953,2572.105678989953,2572.105678989953,2572.105678989953,2572.105678989953,2574.8892495011537,2574.8892495011537,2577.6728200123544,2580.456390523555,2580.456390523555,2583.2399610347557,2583.2399610347557,2583.2399610347557,2583.2399610347557,2583.2399610347557,2583.2399610347557,2583.2399610347557,2586.0235315459563,2588.807102057157,2588.807102057157,2588.807102057157,2591.5906725683576,2591.5906725683576,2591.5906725683576,2591.5906725683576,2591.5906725683576,2594.3742430795583,2594.3742430795583,2594.3742430795583,2597.157813590759,2597.157813590759,2597.157813590759,2599.9413841019596,2599.9413841019596,2602.7249546131598,2602.7249546131598,2602.7249546131598,2602.7249546131598,2602.7249546131598,2602.7249546131598,2602.7249546131598,2602.7249546131598,2605.508525124361,2605.508525124361,2605.508525124361,2605.508525124361,2605.508525124361,2613.8592366579624,2613.8592366579624,2613.8592366579624,2613.8592366579624,2616.642807169163,2616.642807169163,2619.4263776803637,2619.4263776803637,2619.4263776803637,2619.4263776803637,2622.2099481915643,2622.2099481915643,2622.2099481915643,2624.993518702765,2624.993518702765,2624.993518702765,2624.993518702765,2627.7770892139656,2627.7770892139656,2627.7770892139656,2627.7770892139656,2630.5606597251663,2630.5606597251663,2630.5606597251663,2630.5606597251663,2633.344230236367,2633.344230236367,2636.1278007475676,2636.1278007475676,2638.9113712587678,2641.694941769969,2641.694941769969,2644.478512281169,2644.478512281169,2644.478512281169,2647.2620827923697,2650.0456533035704,2652.829223814771,2652.829223814771,2652.829223814771,2655.6127943259717,2658.3963648371723,2658.3963648371723,2661.179935348373,2661.179935348373,2663.9635058595736,2663.9635058595736,2666.7470763707743,2669.530646881975,2669.530646881975,2669.530646881975,2669.530646881975,2672.3142173931756,2672.3142173931756,2675.0977879043758,2675.0977879043758,2677.881358415577,2677.881358415577,2677.881358415577,2677.881358415577,2680.664928926777,2680.664928926777,2680.664928926777,2689.015640460379,2689.015640460379,2691.7992109715797,2691.7992109715797,2694.5827814827803,2694.5827814827803,2700.1499225051816,2700.1499225051816,2700.1499225051816,2702.9334930163823,2702.9334930163823,2705.7170635275825,2708.5006340387836,2708.5006340387836,2711.2842045499838,2714.067775061185,2714.067775061185,2714.067775061185,2716.851345572385,2725.202057105987,2725.202057105987,2725.202057105987,2725.202057105987,2727.9856276171877,2727.9856276171877,2727.9856276171877,2736.3363391507896,2736.3363391507896,2736.3363391507896,2736.3363391507896,2741.9034801731905,2741.9034801731905,2741.9034801731905,2744.6870506843916,2747.470621195592,2750.254191706793,2750.254191706793,2753.037762217993,2753.037762217993,2753.037762217993,2755.821332729194,2758.6049032403944,2758.6049032403944,2761.388473751595,2764.1720442627957,2769.739185285197,2769.739185285197,2772.5227557963976,2772.5227557963976,2775.3063263075983,2775.3063263075983,2778.0898968187985,2778.0898968187985,2780.8734673299996,2783.6570378412,2786.440608352401,2786.440608352401,2789.224178863601,2789.224178863601,2792.007749374802,2794.7913198860024,2794.7913198860024,2797.574890397203,2797.574890397203,2800.3584609084037,2805.925601930805,2817.0598839756076,2817.0598839756076,2817.0598839756076,2817.0598839756076,2825.410595509209,2828.19416602041,2828.19416602041,2828.19416602041,2836.5448775540117,2836.5448775540117,2839.3284480652123,2839.3284480652123,2858.813441643617,2872.7312941996197,2875.5148647108203,2883.8655762444223,2894.999858289225,2906.134140334027,2911.7012813564284,2917.2684223788297,2933.969845446033,2945.1041274908357,2947.8876980020364,2953.4548390244377,2956.2384095356383,2992.4248261812463,3003.559108226049,3006.342678737249,3011.9098197596504,3014.693390270851,3025.8276723156537,3034.1783838492556,3095.416935095669,3114.901928674073,3173.3569094092863,3206.7597555436937],\"yaxis\":\"y\",\"type\":\"scatter\"}],                        {\"template\":{\"data\":{\"histogram2dcontour\":[{\"type\":\"histogram2dcontour\",\"colorbar\":{\"outlinewidth\":0,\"ticks\":\"\"},\"colorscale\":[[0.0,\"#0d0887\"],[0.1111111111111111,\"#46039f\"],[0.2222222222222222,\"#7201a8\"],[0.3333333333333333,\"#9c179e\"],[0.4444444444444444,\"#bd3786\"],[0.5555555555555556,\"#d8576b\"],[0.6666666666666666,\"#ed7953\"],[0.7777777777777778,\"#fb9f3a\"],[0.8888888888888888,\"#fdca26\"],[1.0,\"#f0f921\"]]}],\"choropleth\":[{\"type\":\"choropleth\",\"colorbar\":{\"outlinewidth\":0,\"ticks\":\"\"}}],\"histogram2d\":[{\"type\":\"histogram2d\",\"colorbar\":{\"outlinewidth\":0,\"ticks\":\"\"},\"colorscale\":[[0.0,\"#0d0887\"],[0.1111111111111111,\"#46039f\"],[0.2222222222222222,\"#7201a8\"],[0.3333333333333333,\"#9c179e\"],[0.4444444444444444,\"#bd3786\"],[0.5555555555555556,\"#d8576b\"],[0.6666666666666666,\"#ed7953\"],[0.7777777777777778,\"#fb9f3a\"],[0.8888888888888888,\"#fdca26\"],[1.0,\"#f0f921\"]]}],\"heatmap\":[{\"type\":\"heatmap\",\"colorbar\":{\"outlinewidth\":0,\"ticks\":\"\"},\"colorscale\":[[0.0,\"#0d0887\"],[0.1111111111111111,\"#46039f\"],[0.2222222222222222,\"#7201a8\"],[0.3333333333333333,\"#9c179e\"],[0.4444444444444444,\"#bd3786\"],[0.5555555555555556,\"#d8576b\"],[0.6666666666666666,\"#ed7953\"],[0.7777777777777778,\"#fb9f3a\"],[0.8888888888888888,\"#fdca26\"],[1.0,\"#f0f921\"]]}],\"heatmapgl\":[{\"type\":\"heatmapgl\",\"colorbar\":{\"outlinewidth\":0,\"ticks\":\"\"},\"colorscale\":[[0.0,\"#0d0887\"],[0.1111111111111111,\"#46039f\"],[0.2222222222222222,\"#7201a8\"],[0.3333333333333333,\"#9c179e\"],[0.4444444444444444,\"#bd3786\"],[0.5555555555555556,\"#d8576b\"],[0.6666666666666666,\"#ed7953\"],[0.7777777777777778,\"#fb9f3a\"],[0.8888888888888888,\"#fdca26\"],[1.0,\"#f0f921\"]]}],\"contourcarpet\":[{\"type\":\"contourcarpet\",\"colorbar\":{\"outlinewidth\":0,\"ticks\":\"\"}}],\"contour\":[{\"type\":\"contour\",\"colorbar\":{\"outlinewidth\":0,\"ticks\":\"\"},\"colorscale\":[[0.0,\"#0d0887\"],[0.1111111111111111,\"#46039f\"],[0.2222222222222222,\"#7201a8\"],[0.3333333333333333,\"#9c179e\"],[0.4444444444444444,\"#bd3786\"],[0.5555555555555556,\"#d8576b\"],[0.6666666666666666,\"#ed7953\"],[0.7777777777777778,\"#fb9f3a\"],[0.8888888888888888,\"#fdca26\"],[1.0,\"#f0f921\"]]}],\"surface\":[{\"type\":\"surface\",\"colorbar\":{\"outlinewidth\":0,\"ticks\":\"\"},\"colorscale\":[[0.0,\"#0d0887\"],[0.1111111111111111,\"#46039f\"],[0.2222222222222222,\"#7201a8\"],[0.3333333333333333,\"#9c179e\"],[0.4444444444444444,\"#bd3786\"],[0.5555555555555556,\"#d8576b\"],[0.6666666666666666,\"#ed7953\"],[0.7777777777777778,\"#fb9f3a\"],[0.8888888888888888,\"#fdca26\"],[1.0,\"#f0f921\"]]}],\"mesh3d\":[{\"type\":\"mesh3d\",\"colorbar\":{\"outlinewidth\":0,\"ticks\":\"\"}}],\"scatter\":[{\"fillpattern\":{\"fillmode\":\"overlay\",\"size\":10,\"solidity\":0.2},\"type\":\"scatter\"}],\"parcoords\":[{\"type\":\"parcoords\",\"line\":{\"colorbar\":{\"outlinewidth\":0,\"ticks\":\"\"}}}],\"scatterpolargl\":[{\"type\":\"scatterpolargl\",\"marker\":{\"colorbar\":{\"outlinewidth\":0,\"ticks\":\"\"}}}],\"bar\":[{\"error_x\":{\"color\":\"#2a3f5f\"},\"error_y\":{\"color\":\"#2a3f5f\"},\"marker\":{\"line\":{\"color\":\"#E5ECF6\",\"width\":0.5},\"pattern\":{\"fillmode\":\"overlay\",\"size\":10,\"solidity\":0.2}},\"type\":\"bar\"}],\"scattergeo\":[{\"type\":\"scattergeo\",\"marker\":{\"colorbar\":{\"outlinewidth\":0,\"ticks\":\"\"}}}],\"scatterpolar\":[{\"type\":\"scatterpolar\",\"marker\":{\"colorbar\":{\"outlinewidth\":0,\"ticks\":\"\"}}}],\"histogram\":[{\"marker\":{\"pattern\":{\"fillmode\":\"overlay\",\"size\":10,\"solidity\":0.2}},\"type\":\"histogram\"}],\"scattergl\":[{\"type\":\"scattergl\",\"marker\":{\"colorbar\":{\"outlinewidth\":0,\"ticks\":\"\"}}}],\"scatter3d\":[{\"type\":\"scatter3d\",\"line\":{\"colorbar\":{\"outlinewidth\":0,\"ticks\":\"\"}},\"marker\":{\"colorbar\":{\"outlinewidth\":0,\"ticks\":\"\"}}}],\"scattermapbox\":[{\"type\":\"scattermapbox\",\"marker\":{\"colorbar\":{\"outlinewidth\":0,\"ticks\":\"\"}}}],\"scatterternary\":[{\"type\":\"scatterternary\",\"marker\":{\"colorbar\":{\"outlinewidth\":0,\"ticks\":\"\"}}}],\"scattercarpet\":[{\"type\":\"scattercarpet\",\"marker\":{\"colorbar\":{\"outlinewidth\":0,\"ticks\":\"\"}}}],\"carpet\":[{\"aaxis\":{\"endlinecolor\":\"#2a3f5f\",\"gridcolor\":\"white\",\"linecolor\":\"white\",\"minorgridcolor\":\"white\",\"startlinecolor\":\"#2a3f5f\"},\"baxis\":{\"endlinecolor\":\"#2a3f5f\",\"gridcolor\":\"white\",\"linecolor\":\"white\",\"minorgridcolor\":\"white\",\"startlinecolor\":\"#2a3f5f\"},\"type\":\"carpet\"}],\"table\":[{\"cells\":{\"fill\":{\"color\":\"#EBF0F8\"},\"line\":{\"color\":\"white\"}},\"header\":{\"fill\":{\"color\":\"#C8D4E3\"},\"line\":{\"color\":\"white\"}},\"type\":\"table\"}],\"barpolar\":[{\"marker\":{\"line\":{\"color\":\"#E5ECF6\",\"width\":0.5},\"pattern\":{\"fillmode\":\"overlay\",\"size\":10,\"solidity\":0.2}},\"type\":\"barpolar\"}],\"pie\":[{\"automargin\":true,\"type\":\"pie\"}]},\"layout\":{\"autotypenumbers\":\"strict\",\"colorway\":[\"#636efa\",\"#EF553B\",\"#00cc96\",\"#ab63fa\",\"#FFA15A\",\"#19d3f3\",\"#FF6692\",\"#B6E880\",\"#FF97FF\",\"#FECB52\"],\"font\":{\"color\":\"#2a3f5f\"},\"hovermode\":\"closest\",\"hoverlabel\":{\"align\":\"left\"},\"paper_bgcolor\":\"white\",\"plot_bgcolor\":\"#E5ECF6\",\"polar\":{\"bgcolor\":\"#E5ECF6\",\"angularaxis\":{\"gridcolor\":\"white\",\"linecolor\":\"white\",\"ticks\":\"\"},\"radialaxis\":{\"gridcolor\":\"white\",\"linecolor\":\"white\",\"ticks\":\"\"}},\"ternary\":{\"bgcolor\":\"#E5ECF6\",\"aaxis\":{\"gridcolor\":\"white\",\"linecolor\":\"white\",\"ticks\":\"\"},\"baxis\":{\"gridcolor\":\"white\",\"linecolor\":\"white\",\"ticks\":\"\"},\"caxis\":{\"gridcolor\":\"white\",\"linecolor\":\"white\",\"ticks\":\"\"}},\"coloraxis\":{\"colorbar\":{\"outlinewidth\":0,\"ticks\":\"\"}},\"colorscale\":{\"sequential\":[[0.0,\"#0d0887\"],[0.1111111111111111,\"#46039f\"],[0.2222222222222222,\"#7201a8\"],[0.3333333333333333,\"#9c179e\"],[0.4444444444444444,\"#bd3786\"],[0.5555555555555556,\"#d8576b\"],[0.6666666666666666,\"#ed7953\"],[0.7777777777777778,\"#fb9f3a\"],[0.8888888888888888,\"#fdca26\"],[1.0,\"#f0f921\"]],\"sequentialminus\":[[0.0,\"#0d0887\"],[0.1111111111111111,\"#46039f\"],[0.2222222222222222,\"#7201a8\"],[0.3333333333333333,\"#9c179e\"],[0.4444444444444444,\"#bd3786\"],[0.5555555555555556,\"#d8576b\"],[0.6666666666666666,\"#ed7953\"],[0.7777777777777778,\"#fb9f3a\"],[0.8888888888888888,\"#fdca26\"],[1.0,\"#f0f921\"]],\"diverging\":[[0,\"#8e0152\"],[0.1,\"#c51b7d\"],[0.2,\"#de77ae\"],[0.3,\"#f1b6da\"],[0.4,\"#fde0ef\"],[0.5,\"#f7f7f7\"],[0.6,\"#e6f5d0\"],[0.7,\"#b8e186\"],[0.8,\"#7fbc41\"],[0.9,\"#4d9221\"],[1,\"#276419\"]]},\"xaxis\":{\"gridcolor\":\"white\",\"linecolor\":\"white\",\"ticks\":\"\",\"title\":{\"standoff\":15},\"zerolinecolor\":\"white\",\"automargin\":true,\"zerolinewidth\":2},\"yaxis\":{\"gridcolor\":\"white\",\"linecolor\":\"white\",\"ticks\":\"\",\"title\":{\"standoff\":15},\"zerolinecolor\":\"white\",\"automargin\":true,\"zerolinewidth\":2},\"scene\":{\"xaxis\":{\"backgroundcolor\":\"#E5ECF6\",\"gridcolor\":\"white\",\"linecolor\":\"white\",\"showbackground\":true,\"ticks\":\"\",\"zerolinecolor\":\"white\",\"gridwidth\":2},\"yaxis\":{\"backgroundcolor\":\"#E5ECF6\",\"gridcolor\":\"white\",\"linecolor\":\"white\",\"showbackground\":true,\"ticks\":\"\",\"zerolinecolor\":\"white\",\"gridwidth\":2},\"zaxis\":{\"backgroundcolor\":\"#E5ECF6\",\"gridcolor\":\"white\",\"linecolor\":\"white\",\"showbackground\":true,\"ticks\":\"\",\"zerolinecolor\":\"white\",\"gridwidth\":2}},\"shapedefaults\":{\"line\":{\"color\":\"#2a3f5f\"}},\"annotationdefaults\":{\"arrowcolor\":\"#2a3f5f\",\"arrowhead\":0,\"arrowwidth\":1},\"geo\":{\"bgcolor\":\"white\",\"landcolor\":\"#E5ECF6\",\"subunitcolor\":\"white\",\"showland\":true,\"showlakes\":true,\"lakecolor\":\"white\"},\"title\":{\"x\":0.05},\"mapbox\":{\"style\":\"light\"}}},\"xaxis\":{\"anchor\":\"y\",\"domain\":[0.0,1.0],\"title\":{\"text\":\"Active Mins\"}},\"yaxis\":{\"anchor\":\"x\",\"domain\":[0.0,1.0],\"title\":{\"text\":\"Calories\"}},\"coloraxis\":{\"colorbar\":{\"title\":{\"text\":\"Calories\"}},\"colorscale\":[[0.0,\"#440154\"],[0.1111111111111111,\"#482878\"],[0.2222222222222222,\"#3e4989\"],[0.3333333333333333,\"#31688e\"],[0.4444444444444444,\"#26828e\"],[0.5555555555555556,\"#1f9e89\"],[0.6666666666666666,\"#35b779\"],[0.7777777777777778,\"#6ece58\"],[0.8888888888888888,\"#b5de2b\"],[1.0,\"#fde725\"]]},\"legend\":{\"tracegroupgap\":0},\"title\":{\"text\":\"Calories by Active Mins\"},\"annotations\":[{\"showarrow\":false,\"text\":\"Correlation: 0.47\",\"x\":542,\"y\":542}]},                        {\"responsive\": true}                    ).then(function(){\n",
       "                            \n",
       "var gd = document.getElementById('a55fa07c-b761-44f3-bf2f-7617020eb38b');\n",
       "var x = new MutationObserver(function (mutations, observer) {{\n",
       "        var display = window.getComputedStyle(gd).display;\n",
       "        if (!display || display === 'none') {{\n",
       "            console.log([gd, 'removed!']);\n",
       "            Plotly.purge(gd);\n",
       "            observer.disconnect();\n",
       "        }}\n",
       "}});\n",
       "\n",
       "// Listen for the removal of the full notebook cells\n",
       "var notebookContainer = gd.closest('#notebook-container');\n",
       "if (notebookContainer) {{\n",
       "    x.observe(notebookContainer, {childList: true});\n",
       "}}\n",
       "\n",
       "// Listen for the clearing of the current output cell\n",
       "var outputEl = gd.closest('.output');\n",
       "if (outputEl) {{\n",
       "    x.observe(outputEl, {childList: true});\n",
       "}}\n",
       "\n",
       "                        })                };                });            </script>        </div>"
      ]
     },
     "metadata": {},
     "output_type": "display_data"
    },
    {
     "name": "stdout",
     "output_type": "stream",
     "text": [
      "Number of days in which a user was active less than 5 minutes: 94\n",
      "Percentage of days in which a user was active less than 5 minutes: 10.0 %\n"
     ]
    }
   ],
   "source": [
    "# Calculate correlation coefficient\n",
    "correlation = np.corrcoef(df_activity['Total_Active_Mins'], df_activity['Calories'])[0, 1]\n",
    "\n",
    "# Create the scatter plot with trendline using Plotly Express\n",
    "fig = px.scatter(df_activity, x='Total_Active_Mins', y='Calories', trendline=\"ols\", labels={'Total_Active_Mins': 'Active Mins', 'Calories': 'Calories'}, \n",
    "                 title='Calories by Active Mins', color='Calories', color_continuous_scale='viridis')  \n",
    "\n",
    "# Add correlation coefficient annotation\n",
    "fig.add_annotation(x=df_activity['Total_Active_Mins'].max() - 10, y=df_activity['Total_Active_Mins'].max() - 10, text=f'Correlation: {correlation:.2f}', showarrow=False)\n",
    "\n",
    "# Show plot\n",
    "fig.show()\n",
    "\n",
    "print(\"Number of days in which a user was active less than 5 minutes:\",len(df_activity[df_activity[\"Total_Active_Mins\"] < 5]))\n",
    "print(\"Percentage of days in which a user was active less than 5 minutes:\",(len(df_activity[df_activity[\"Total_Active_Mins\"] < 5])/len(df_activity))*100, \"%\")\n"
   ]
  },
  {
   "cell_type": "markdown",
   "id": "f1f666fc",
   "metadata": {
    "papermill": {
     "duration": 0.026059,
     "end_time": "2024-05-16T18:47:40.503950",
     "exception": false,
     "start_time": "2024-05-16T18:47:40.477891",
     "status": "completed"
    },
    "tags": []
   },
   "source": [
    "<p style=\"font-size:18px;\"> As expected there is a positive corelation between the minutes a user was active and the calories were burned. One thing that did stick out to me was the number of users who had 0 or near zero active minutes per day. I wrote an additonal line of code to confirm the number of days in which users spend less than 5 minutes active. 94 days on no activity thats a huge value, thats 10% of the entire data set! I wonder if there was a reason for this, were these recovery days for the users or was it by choice not to be active?\n",
    "    \n",
    "<p style=\"font-size:18px;\"> I decided to look at another metric. I wanted to see how steps impacted on calories burnt so I plotted the graph below."
   ]
  },
  {
   "cell_type": "code",
   "execution_count": 25,
   "id": "2f23ff0a",
   "metadata": {
    "execution": {
     "iopub.execute_input": "2024-05-16T18:47:40.559280Z",
     "iopub.status.busy": "2024-05-16T18:47:40.558557Z",
     "iopub.status.idle": "2024-05-16T18:47:40.653137Z",
     "shell.execute_reply": "2024-05-16T18:47:40.651826Z"
    },
    "papermill": {
     "duration": 0.125372,
     "end_time": "2024-05-16T18:47:40.655669",
     "exception": false,
     "start_time": "2024-05-16T18:47:40.530297",
     "status": "completed"
    },
    "tags": []
   },
   "outputs": [
    {
     "data": {
      "text/html": [
       "<div>                            <div id=\"c3bb0491-7c53-45ca-9c40-dd64391d9a82\" class=\"plotly-graph-div\" style=\"height:525px; width:100%;\"></div>            <script type=\"text/javascript\">                require([\"plotly\"], function(Plotly) {                    window.PLOTLYENV=window.PLOTLYENV || {};                                    if (document.getElementById(\"c3bb0491-7c53-45ca-9c40-dd64391d9a82\")) {                    Plotly.newPlot(                        \"c3bb0491-7c53-45ca-9c40-dd64391d9a82\",                        [{\"hovertemplate\":\"Total Steps=%{x}\\u003cbr\\u003eCalories=%{marker.color}\\u003cextra\\u003e\\u003c\\u002fextra\\u003e\",\"legendgroup\":\"\",\"marker\":{\"color\":[1985,1797,1776,1745,1863,1728,1921,2035,1786,1775,1827,1949,1788,2013,1970,2159,1898,1837,1947,1820,2004,1990,1819,1959,1896,1821,1740,1819,1859,1783,0,1432,1411,1572,1344,1463,1554,1604,1435,1446,1467,1470,1562,1617,1492,1402,1670,1401,1404,1655,2690,1497,1334,1368,1370,1341,1474,1427,1328,1393,1359,1002,3199,2902,3226,2750,3493,3011,2806,3300,2430,2140,2344,2677,2413,2497,3123,2489,3108,2498,3846,2696,2580,3324,2222,2463,3328,3404,2987,3008,2799,1276,2030,1860,2130,1725,1657,1793,1814,1366,1349,2062,1827,1645,1347,1347,1347,1348,1992,1856,1763,1541,1348,1742,1549,1589,1351,1347,1347,1347,1347,1347,665,2220,2151,2383,2221,2064,2063,2111,2063,2063,2064,2093,2499,2324,2100,2638,2063,2351,2063,2064,2411,2505,2195,2338,2063,2383,2229,2063,2063,2063,2063,1383,2390,2601,2312,2525,2177,2782,2770,2489,2897,3158,2638,2069,2529,2470,2793,2463,2296,2611,2732,2380,2473,2752,2649,2609,2498,1995,1848,2709,2797,2544,1853,1459,1521,1431,1444,1373,1214,1419,1356,1667,1370,1399,1916,1401,1576,1595,1593,1649,1692,1506,1447,1690,1604,1658,1926,1736,1491,1555,1869,1141,1698,1364,2124,2003,1696,1801,1724,1852,1905,1811,1922,1610,1851,1804,1725,1654,1632,1481,1473,1410,1779,1403,1613,1878,1426,1780,1742,1972,1821,1630,1899,1903,1125,2344,2038,2010,2133,2670,1882,1944,2346,2198,2048,1946,2629,2187,2095,1861,2194,1854,403,1982,2004,1893,2063,2148,1529,1890,1956,2094,1970,2241,2021,1898,1907,1882,1966,1835,1780,1830,1739,1878,1906,2015,1971,1910,1897,2096,1906,1962,1826,1431,1788,2093,2065,1908,1908,1964,2014,1985,1867,2124,1669,1995,1921,2010,2057,2095,1972,2044,1946,1237,1450,1495,1433,1468,1625,1529,1584,1638,1554,1397,1481,1638,1655,1570,1551,1377,1407,1545,1650,1501,1760,1710,1628,1618,1590,1574,1633,1667,1630,52,3654,1981,2011,2951,3051,1990,1995,1980,1980,1980,1980,1980,1980,1980,1980,1980,1980,1980,1980,1980,2207,2828,3879,3429,2704,2975,3089,2785,2926,2645,1120,2286,2306,1776,1527,2115,2135,2302,1985,1884,1464,1632,2200,2220,1792,1886,1945,1880,2314,2236,2324,2367,2175,2092,1593,2270,2235,2282,2530,2266,2158,1792,2345,2260,2232,257,2955,3092,2998,3066,3073,2572,3274,3015,3083,3069,3544,3306,2885,3288,2929,3074,2969,2979,3283,2926,3147,3290,3162,2899,3425,4022,3934,3013,3061,2954,1623,2113,2095,2194,2496,2180,1933,2248,1954,1974,2150,2432,2149,2247,2070,2291,2361,2203,2196,2363,2246,2336,2421,2070,2120,2211,2123,2423,2281,2181,2499,1212,1909,1722,1922,2121,1997,2117,2116,1876,1788,2486,2094,2085,2173,2225,2223,2098,2185,1918,2105,1692,2066,1953,1842,2262,1722,1973,2666,2223,1889,2131,1452,2947,2898,2984,2896,3328,3394,3013,2812,3061,2729,2241,3691,3538,3064,2784,2908,3033,3165,3115,2017,2859,3145,3004,3006,2859,3683,3287,2990,3172,3069,1240,2026,1718,2324,2254,1831,1397,1683,2284,1570,2066,2105,1776,1507,2033,2093,1922,1999,2169,1463,1747,1996,2116,1698,2156,1916,1494,1762,2272,2335,1693,741,3405,2551,4022,4005,4274,4552,3625,3501,3192,4018,3329,3152,4392,3374,3088,3294,3580,3544,4501,4546,3014,3795,2755,3004,2643,1819,1819,2489,3841,1665,1496,1496,1496,2865,2828,2225,2018,2606,2536,4900,2409,2651,2305,1497,2450,2576,1879,2560,2275,2361,2044,1496,1902,2636,1838,2469,2250,1248,2560,2905,2952,2896,2783,3171,2766,2839,2701,2060,2796,2664,2703,2771,2060,2743,2687,2060,2843,3327,2725,2671,2718,2682,2806,2613,2712,2175,0,1841,2400,2507,2127,2225,2067,2798,1841,3727,1841,1922,1841,2053,2484,2584,1841,1993,1841,2280,2319,1841,1843,1841,1841,2496,1032,1994,1718,1466,1756,2173,2027,2039,2046,2174,2179,2086,2571,1705,2194,2012,2034,2182,2254,2002,1740,2162,2072,2086,2066,1850,1947,1659,2105,2361,1855,928,2937,2742,2668,2098,2076,2383,2832,2812,3096,2763,2889,2284,2667,3055,2939,2830,2836,3180,2051,2225,2642,2976,1557,2933,2553,120,2772,2516,2734,2395,1635,1629,2743,2944,2997,2463,2846,1965,2049,2752,2781,2693,2862,2616,2995,2730,2754,2754,2655,2386,2924,2739,2534,2960,2800,2735,1199,3186,3140,3411,3410,2867,3213,3133,3114,3043,3103,2655,3554,3577,3403,2846,2852,3062,2794,2408,1886,1988,3023,2918,2950,2859,3331,3589,2765,2926,2809,1505,2044,1935,1705,1632,1880,2112,1829,1763,1931,2218,1651,2132,1976,1909,1813,2008,1580,1854,0,3635,4079,4163,3666,3363,2572,4157,4092,3787,4236,4044,2908,2741,4005,3763,3061,2884,2982,2660,3369,3491,3784,3110,3783,3644,2799,2685,3721,3586,3788,1976,2650,2654,2443,2505,2693,2439,2536,2668,2647,2883,2944,3012,2889,2547,3093,3142,2757,3513,3164,2596,2894,3212,2516,3266,2683,2810,2940,2947,2846,2804,0,2044,1934,1963,2009,1721,1688,1688,1688,2188,1720,2419,2748,1799,1688,1928,2067,2780,3101,2896,1962,2015,2297,2067,1688,1688,1688,1688,1688,57,3921,3566,3793,3934,4547,3545,2761,3676,3679,3659,3427,3891,3455,3802,2860,3808,3060,2698,4398,2786,2189,2817,3477,3052,4015,4142,2847,3710,2832,3832,1849],\"coloraxis\":\"coloraxis\",\"symbol\":\"circle\"},\"mode\":\"markers\",\"name\":\"\",\"orientation\":\"v\",\"showlegend\":false,\"x\":[13162,10735,10460,9762,12669,9705,13019,15506,10544,9819,12764,14371,10039,15355,13755,18134,13154,11181,14673,10602,14727,15103,11100,14070,12159,11992,10060,12022,12207,12770,0,8163,7007,9107,1510,5370,6175,10536,2916,4974,6349,4026,8538,6076,6497,2826,8367,2759,2390,6474,36019,7155,2100,2193,2470,1727,2104,3427,1732,2969,3134,2971,10694,8001,11037,5263,15300,8757,7132,11256,2436,1223,3673,6637,3321,3580,9919,3032,9405,3176,18213,6132,3758,12850,2309,4363,9787,13372,6724,6643,9167,1329,6697,4929,7937,3844,3414,4525,4597,197,8,8054,5372,3570,0,0,0,4,6907,4920,4014,2573,0,4059,2080,2237,44,0,0,0,0,0,0,678,356,2163,980,0,0,244,0,0,0,149,2945,2090,152,3761,0,1675,0,0,2704,3790,1326,1786,0,2091,1510,0,0,0,0,0,11875,12024,10690,11034,10100,15112,14131,11548,15112,12453,12954,6001,13481,11369,10119,10159,10140,10245,18387,10538,10379,12183,11768,11895,10227,6708,3292,13379,12798,13272,9117,4414,4993,3335,3821,2547,838,3325,2424,7222,2467,2915,12357,3490,6017,5933,6088,6375,7604,4729,3609,7018,5992,6564,12167,8198,4193,5528,10685,254,8580,8891,10725,7275,3973,5205,5057,6198,6559,5997,7192,3404,5583,5079,4165,3588,3409,1715,1532,924,4571,772,3634,7443,1201,5202,4878,7379,5161,3090,6227,6424,2661,10113,10352,10129,10465,22244,5472,8247,6711,10999,10080,7804,16901,9471,9482,5980,11423,5439,42,8796,7618,7910,8482,9685,2524,7762,7948,9202,8859,7286,9317,6873,7373,8242,3516,7913,7365,8452,7399,7525,7412,8278,8314,7063,4940,8168,7726,8275,6440,7566,4747,9715,8844,7451,6905,8199,6798,7711,4880,8857,3843,7396,6731,5995,8283,7904,5512,9135,5250,3077,8856,10035,7641,9010,13459,10415,11663,12414,11658,6093,8911,12058,14112,11177,11388,7193,7114,10645,13238,10414,16520,14335,13559,12312,11677,11550,13585,14687,13072,746,8539,0,108,1882,1982,16,62,0,0,0,0,0,0,0,0,0,0,0,0,0,475,4496,10252,11728,4369,6132,5862,4556,5546,3689,590,5394,5974,0,3984,7753,8204,10210,5664,4744,29,2276,8925,8954,3702,4500,4935,4081,9259,9899,10780,10817,7990,8221,1251,9261,9648,10429,13658,9524,7937,3672,10378,9487,9129,17,10122,10993,8863,8758,6580,4660,11009,10181,10553,10055,12139,13236,10243,12961,9461,11193,10074,9232,12533,10255,10096,12727,12375,9603,13175,22770,17298,10218,10299,10201,3369,3276,2961,3974,7198,3945,2268,6155,2064,2072,3809,6831,4363,5002,3385,6326,7243,4493,4676,6222,5232,6910,7502,2923,3800,4514,5183,7303,5275,3915,9105,768,5135,4978,6799,7795,7289,9634,8940,5401,4803,13743,9601,6890,8563,8095,9148,9557,9451,7833,10319,3428,7891,5267,5232,10611,3755,8237,6543,11451,6435,9108,6307,7213,6877,7860,6506,11140,12692,9105,6708,8793,6530,1664,15126,15050,9167,6108,7047,9023,9930,10144,0,7245,9454,8161,8614,6943,14370,12857,8232,10613,9810,2752,11596,4832,17022,16556,5771,655,3727,15482,2713,12346,11682,4112,1807,10946,11886,10538,11393,12764,1202,5164,9769,12848,4249,14331,9632,1868,6083,11611,16358,4926,3121,8135,5077,8596,12087,14269,12231,9893,12574,8330,10830,9172,7638,15764,6393,5325,6805,9841,7924,12363,13368,7439,11045,5206,7550,4950,0,0,3421,8869,4038,0,0,0,14019,14450,7150,5153,11135,10449,19542,8206,11495,7623,0,9543,9411,3403,9592,6987,8915,4933,0,2997,9799,3365,7336,7328,4477,4562,7142,7671,9501,8301,7851,6885,7142,6361,0,6238,0,5896,7802,0,5565,5731,0,6744,9837,6781,6047,5832,6339,6116,5510,7706,6277,0,0,4053,5162,1282,4732,2497,8294,0,10771,0,637,0,2153,6474,7091,0,703,0,2503,2487,0,9,0,0,4697,1967,10199,5652,1551,5563,13217,10145,11404,10742,13928,11835,10725,20031,5029,13239,10433,10320,12627,10762,10081,5454,12912,12109,10147,10524,5908,6815,4188,12342,15448,6722,3587,14172,12862,11179,5273,4631,8059,14816,14194,15566,13744,15299,8093,11085,18229,15090,13541,15128,20067,3761,5600,13041,14510,0,15010,11459,0,11317,5813,9123,8585,31,0,9827,10688,14365,9469,9753,2817,3520,10091,10387,11107,11584,7881,14560,12390,10052,10288,10988,8564,12461,12827,10677,13566,14433,9572,3789,18060,16433,20159,20669,14549,18827,17076,15929,15108,16057,10520,22359,22988,20500,12685,12422,15447,12315,7135,1170,1969,15484,14581,14990,13953,19769,22026,12465,14810,12209,4998,9033,8053,5234,2672,9256,10204,5151,4212,6466,11268,2824,9282,8905,6829,4562,10232,2718,6260,0,7626,12386,13318,14461,11207,2132,13630,13070,9388,15148,12200,5709,3703,12405,16208,7359,5417,6175,2946,11419,6064,8712,7875,8567,7045,4468,2943,8382,6582,9143,4561,5014,5571,3135,3430,5319,3008,3864,5697,5273,8538,8687,9423,8286,4503,10499,12474,6174,15168,10085,4512,8469,12015,3588,12427,5843,6117,9217,9877,8240,8701,0,2564,1320,1219,2483,244,0,0,0,3147,144,4068,5245,400,0,1321,1758,6157,8360,7174,1619,1831,2421,2283,0,0,0,0,0,0,23186,15337,21129,13422,29326,15118,11423,18785,19948,19377,18258,11200,16674,12986,11101,23629,14890,9733,27745,10930,4790,10818,18193,14055,21727,12332,10686,20226,10733,21420,8064],\"xaxis\":\"x\",\"y\":[1985,1797,1776,1745,1863,1728,1921,2035,1786,1775,1827,1949,1788,2013,1970,2159,1898,1837,1947,1820,2004,1990,1819,1959,1896,1821,1740,1819,1859,1783,0,1432,1411,1572,1344,1463,1554,1604,1435,1446,1467,1470,1562,1617,1492,1402,1670,1401,1404,1655,2690,1497,1334,1368,1370,1341,1474,1427,1328,1393,1359,1002,3199,2902,3226,2750,3493,3011,2806,3300,2430,2140,2344,2677,2413,2497,3123,2489,3108,2498,3846,2696,2580,3324,2222,2463,3328,3404,2987,3008,2799,1276,2030,1860,2130,1725,1657,1793,1814,1366,1349,2062,1827,1645,1347,1347,1347,1348,1992,1856,1763,1541,1348,1742,1549,1589,1351,1347,1347,1347,1347,1347,665,2220,2151,2383,2221,2064,2063,2111,2063,2063,2064,2093,2499,2324,2100,2638,2063,2351,2063,2064,2411,2505,2195,2338,2063,2383,2229,2063,2063,2063,2063,1383,2390,2601,2312,2525,2177,2782,2770,2489,2897,3158,2638,2069,2529,2470,2793,2463,2296,2611,2732,2380,2473,2752,2649,2609,2498,1995,1848,2709,2797,2544,1853,1459,1521,1431,1444,1373,1214,1419,1356,1667,1370,1399,1916,1401,1576,1595,1593,1649,1692,1506,1447,1690,1604,1658,1926,1736,1491,1555,1869,1141,1698,1364,2124,2003,1696,1801,1724,1852,1905,1811,1922,1610,1851,1804,1725,1654,1632,1481,1473,1410,1779,1403,1613,1878,1426,1780,1742,1972,1821,1630,1899,1903,1125,2344,2038,2010,2133,2670,1882,1944,2346,2198,2048,1946,2629,2187,2095,1861,2194,1854,403,1982,2004,1893,2063,2148,1529,1890,1956,2094,1970,2241,2021,1898,1907,1882,1966,1835,1780,1830,1739,1878,1906,2015,1971,1910,1897,2096,1906,1962,1826,1431,1788,2093,2065,1908,1908,1964,2014,1985,1867,2124,1669,1995,1921,2010,2057,2095,1972,2044,1946,1237,1450,1495,1433,1468,1625,1529,1584,1638,1554,1397,1481,1638,1655,1570,1551,1377,1407,1545,1650,1501,1760,1710,1628,1618,1590,1574,1633,1667,1630,52,3654,1981,2011,2951,3051,1990,1995,1980,1980,1980,1980,1980,1980,1980,1980,1980,1980,1980,1980,1980,2207,2828,3879,3429,2704,2975,3089,2785,2926,2645,1120,2286,2306,1776,1527,2115,2135,2302,1985,1884,1464,1632,2200,2220,1792,1886,1945,1880,2314,2236,2324,2367,2175,2092,1593,2270,2235,2282,2530,2266,2158,1792,2345,2260,2232,257,2955,3092,2998,3066,3073,2572,3274,3015,3083,3069,3544,3306,2885,3288,2929,3074,2969,2979,3283,2926,3147,3290,3162,2899,3425,4022,3934,3013,3061,2954,1623,2113,2095,2194,2496,2180,1933,2248,1954,1974,2150,2432,2149,2247,2070,2291,2361,2203,2196,2363,2246,2336,2421,2070,2120,2211,2123,2423,2281,2181,2499,1212,1909,1722,1922,2121,1997,2117,2116,1876,1788,2486,2094,2085,2173,2225,2223,2098,2185,1918,2105,1692,2066,1953,1842,2262,1722,1973,2666,2223,1889,2131,1452,2947,2898,2984,2896,3328,3394,3013,2812,3061,2729,2241,3691,3538,3064,2784,2908,3033,3165,3115,2017,2859,3145,3004,3006,2859,3683,3287,2990,3172,3069,1240,2026,1718,2324,2254,1831,1397,1683,2284,1570,2066,2105,1776,1507,2033,2093,1922,1999,2169,1463,1747,1996,2116,1698,2156,1916,1494,1762,2272,2335,1693,741,3405,2551,4022,4005,4274,4552,3625,3501,3192,4018,3329,3152,4392,3374,3088,3294,3580,3544,4501,4546,3014,3795,2755,3004,2643,1819,1819,2489,3841,1665,1496,1496,1496,2865,2828,2225,2018,2606,2536,4900,2409,2651,2305,1497,2450,2576,1879,2560,2275,2361,2044,1496,1902,2636,1838,2469,2250,1248,2560,2905,2952,2896,2783,3171,2766,2839,2701,2060,2796,2664,2703,2771,2060,2743,2687,2060,2843,3327,2725,2671,2718,2682,2806,2613,2712,2175,0,1841,2400,2507,2127,2225,2067,2798,1841,3727,1841,1922,1841,2053,2484,2584,1841,1993,1841,2280,2319,1841,1843,1841,1841,2496,1032,1994,1718,1466,1756,2173,2027,2039,2046,2174,2179,2086,2571,1705,2194,2012,2034,2182,2254,2002,1740,2162,2072,2086,2066,1850,1947,1659,2105,2361,1855,928,2937,2742,2668,2098,2076,2383,2832,2812,3096,2763,2889,2284,2667,3055,2939,2830,2836,3180,2051,2225,2642,2976,1557,2933,2553,120,2772,2516,2734,2395,1635,1629,2743,2944,2997,2463,2846,1965,2049,2752,2781,2693,2862,2616,2995,2730,2754,2754,2655,2386,2924,2739,2534,2960,2800,2735,1199,3186,3140,3411,3410,2867,3213,3133,3114,3043,3103,2655,3554,3577,3403,2846,2852,3062,2794,2408,1886,1988,3023,2918,2950,2859,3331,3589,2765,2926,2809,1505,2044,1935,1705,1632,1880,2112,1829,1763,1931,2218,1651,2132,1976,1909,1813,2008,1580,1854,0,3635,4079,4163,3666,3363,2572,4157,4092,3787,4236,4044,2908,2741,4005,3763,3061,2884,2982,2660,3369,3491,3784,3110,3783,3644,2799,2685,3721,3586,3788,1976,2650,2654,2443,2505,2693,2439,2536,2668,2647,2883,2944,3012,2889,2547,3093,3142,2757,3513,3164,2596,2894,3212,2516,3266,2683,2810,2940,2947,2846,2804,0,2044,1934,1963,2009,1721,1688,1688,1688,2188,1720,2419,2748,1799,1688,1928,2067,2780,3101,2896,1962,2015,2297,2067,1688,1688,1688,1688,1688,57,3921,3566,3793,3934,4547,3545,2761,3676,3679,3659,3427,3891,3455,3802,2860,3808,3060,2698,4398,2786,2189,2817,3477,3052,4015,4142,2847,3710,2832,3832,1849],\"yaxis\":\"y\",\"type\":\"scatter\"},{\"hovertemplate\":\"\\u003cb\\u003eOLS trendline\\u003c\\u002fb\\u003e\\u003cbr\\u003eCalories = 0.0835133 * TotalSteps + 1665.74\\u003cbr\\u003eR\\u003csup\\u003e2\\u003c\\u002fsup\\u003e=0.349953\\u003cbr\\u003e\\u003cbr\\u003eTotal Steps=%{x}\\u003cbr\\u003eCalories=%{y} \\u003cb\\u003e(trend)\\u003c\\u002fb\\u003e\\u003cextra\\u003e\\u003c\\u002fextra\\u003e\",\"legendgroup\":\"\",\"marker\":{\"symbol\":\"circle\"},\"mode\":\"lines\",\"name\":\"\",\"showlegend\":false,\"x\":[0,0,0,0,0,0,0,0,0,0,0,0,0,0,0,0,0,0,0,0,0,0,0,0,0,0,0,0,0,0,0,0,0,0,0,0,0,0,0,0,0,0,0,0,0,0,0,0,0,0,0,0,0,0,0,0,0,0,0,0,0,0,0,0,0,0,0,0,0,0,0,0,0,0,0,0,0,4,8,9,16,17,29,31,42,44,62,108,144,149,152,197,244,244,254,356,400,475,590,637,655,678,703,746,768,772,838,924,980,1170,1201,1202,1219,1223,1251,1282,1320,1321,1326,1329,1510,1510,1532,1551,1619,1664,1675,1715,1727,1732,1758,1786,1807,1831,1868,1882,1967,1969,1982,2064,2072,2080,2090,2091,2100,2104,2132,2153,2163,2193,2237,2268,2276,2283,2309,2390,2421,2424,2436,2467,2470,2483,2487,2497,2503,2524,2547,2564,2573,2661,2672,2704,2713,2718,2752,2759,2817,2824,2826,2915,2916,2923,2943,2945,2946,2961,2969,2971,2997,3008,3032,3077,3090,3121,3134,3135,3147,3176,3276,3292,3321,3325,3335,3365,3369,3385,3403,3404,3409,3414,3421,3427,3428,3430,3490,3516,3520,3570,3580,3587,3588,3588,3609,3634,3672,3673,3689,3702,3703,3727,3755,3758,3761,3761,3789,3790,3800,3809,3821,3843,3844,3864,3915,3945,3973,3974,3984,4014,4026,4038,4053,4059,4068,4081,4112,4165,4188,4193,4212,4249,4363,4363,4369,4414,4468,4477,4493,4496,4500,4503,4512,4514,4525,4556,4561,4562,4562,4571,4597,4631,4660,4676,4697,4729,4732,4744,4747,4790,4803,4832,4878,4880,4920,4926,4929,4933,4935,4940,4950,4974,4978,4993,4998,5002,5014,5029,5057,5077,5079,5135,5151,5153,5161,5162,5164,5183,5202,5205,5206,5232,5232,5234,5245,5250,5263,5267,5273,5273,5275,5319,5325,5370,5372,5394,5401,5417,5439,5454,5472,5510,5512,5528,5546,5563,5565,5571,5583,5600,5652,5664,5697,5709,5731,5771,5813,5832,5843,5862,5896,5908,5933,5974,5980,5992,5995,5997,6001,6017,6047,6064,6076,6083,6088,6093,6108,6116,6117,6132,6132,6155,6157,6174,6175,6175,6198,6222,6227,6238,6260,6277,6307,6326,6339,6349,6361,6375,6393,6424,6435,6440,6466,6474,6474,6497,6506,6530,6543,6559,6564,6580,6582,6637,6643,6697,6708,6708,6711,6722,6724,6731,6744,6781,6798,6799,6805,6815,6829,6831,6873,6877,6885,6890,6905,6907,6910,6943,6987,7007,7018,7045,7047,7063,7091,7114,7132,7135,7142,7142,7150,7155,7174,7192,7193,7198,7213,7222,7243,7245,7275,7286,7289,7303,7328,7336,7359,7365,7373,7379,7396,7399,7412,7439,7443,7451,7502,7525,7550,7566,7604,7618,7623,7626,7638,7641,7671,7706,7711,7726,7753,7762,7795,7802,7804,7833,7851,7860,7875,7881,7891,7904,7910,7913,7924,7937,7937,7948,7990,8001,8053,8054,8059,8064,8093,8095,8135,8161,8163,8168,8198,8199,8204,8206,8221,8232,8237,8240,8242,8247,8275,8278,8283,8286,8294,8301,8314,8330,8360,8367,8382,8452,8469,8482,8538,8538,8539,8563,8564,8567,8580,8585,8596,8614,8687,8701,8712,8757,8758,8793,8796,8844,8856,8857,8859,8863,8869,8891,8905,8911,8915,8925,8940,8954,9010,9023,9033,9105,9105,9107,9108,9117,9123,9129,9135,9143,9148,9167,9167,9172,9202,9217,9232,9256,9259,9261,9282,9317,9388,9405,9411,9423,9451,9454,9461,9469,9471,9482,9487,9501,9524,9543,9557,9572,9592,9601,9603,9632,9634,9648,9685,9705,9715,9733,9753,9762,9769,9787,9799,9810,9819,9827,9837,9841,9877,9893,9899,9919,9930,10035,10039,10052,10055,10060,10074,10080,10081,10085,10091,10096,10100,10113,10119,10122,10129,10140,10144,10145,10147,10159,10181,10199,10201,10204,10210,10218,10227,10232,10243,10245,10252,10255,10288,10299,10319,10320,10352,10378,10379,10387,10414,10415,10429,10433,10449,10460,10465,10499,10520,10524,10536,10538,10538,10544,10553,10602,10611,10613,10645,10677,10685,10686,10688,10690,10694,10725,10725,10733,10735,10742,10762,10771,10780,10817,10818,10830,10930,10946,10988,10993,10999,11009,11034,11037,11045,11085,11100,11101,11107,11135,11140,11177,11179,11181,11193,11200,11207,11256,11268,11317,11369,11388,11393,11404,11419,11423,11423,11451,11459,11495,11548,11550,11584,11596,11611,11658,11663,11677,11682,11728,11768,11835,11875,11886,11895,11992,12015,12022,12024,12058,12087,12109,12139,12159,12167,12183,12200,12207,12209,12231,12312,12315,12332,12342,12346,12357,12363,12375,12386,12390,12405,12414,12422,12427,12453,12461,12465,12474,12533,12574,12627,12669,12685,12692,12727,12764,12764,12770,12798,12827,12848,12850,12857,12862,12912,12954,12961,12986,13019,13041,13070,13072,13154,13162,13175,13217,13236,13238,13239,13272,13318,13368,13372,13379,13422,13459,13481,13541,13559,13566,13585,13630,13658,13743,13744,13755,13928,13953,14019,14055,14070,14112,14131,14172,14194,14269,14331,14335,14365,14370,14371,14433,14450,14461,14510,14549,14560,14581,14673,14687,14727,14810,14816,14890,14990,15010,15050,15090,15103,15108,15112,15112,15118,15126,15128,15148,15168,15299,15300,15337,15355,15447,15448,15482,15484,15506,15566,15764,15929,16057,16208,16358,16433,16520,16556,16674,16901,17022,17076,17298,18060,18134,18193,18213,18229,18258,18387,18785,18827,19377,19542,19769,19948,20031,20067,20159,20226,20500,20669,21129,21420,21727,22026,22244,22359,22770,22988,23186,23629,27745,29326,36019],\"xaxis\":\"x\",\"y\":[1665.7426768758332,1665.7426768758332,1665.7426768758332,1665.7426768758332,1665.7426768758332,1665.7426768758332,1665.7426768758332,1665.7426768758332,1665.7426768758332,1665.7426768758332,1665.7426768758332,1665.7426768758332,1665.7426768758332,1665.7426768758332,1665.7426768758332,1665.7426768758332,1665.7426768758332,1665.7426768758332,1665.7426768758332,1665.7426768758332,1665.7426768758332,1665.7426768758332,1665.7426768758332,1665.7426768758332,1665.7426768758332,1665.7426768758332,1665.7426768758332,1665.7426768758332,1665.7426768758332,1665.7426768758332,1665.7426768758332,1665.7426768758332,1665.7426768758332,1665.7426768758332,1665.7426768758332,1665.7426768758332,1665.7426768758332,1665.7426768758332,1665.7426768758332,1665.7426768758332,1665.7426768758332,1665.7426768758332,1665.7426768758332,1665.7426768758332,1665.7426768758332,1665.7426768758332,1665.7426768758332,1665.7426768758332,1665.7426768758332,1665.7426768758332,1665.7426768758332,1665.7426768758332,1665.7426768758332,1665.7426768758332,1665.7426768758332,1665.7426768758332,1665.7426768758332,1665.7426768758332,1665.7426768758332,1665.7426768758332,1665.7426768758332,1665.7426768758332,1665.7426768758332,1665.7426768758332,1665.7426768758332,1665.7426768758332,1665.7426768758332,1665.7426768758332,1665.7426768758332,1665.7426768758332,1665.7426768758332,1665.7426768758332,1665.7426768758332,1665.7426768758332,1665.7426768758332,1665.7426768758332,1665.7426768758332,1666.0767299580434,1666.4107830402536,1666.494296310806,1667.0788892046737,1667.1624024752264,1668.1645617218567,1668.3315882629618,1669.2502342390396,1669.4172607801447,1670.9204996500903,1674.762110095507,1677.7685878353982,1678.1861541881608,1678.4366939998185,1682.1947911746825,1686.1199148906517,1686.1199148906517,1686.955047596177,1695.4734011925354,1699.1479850968472,1705.4114803882871,1715.0155065018287,1718.9406302177977,1720.4438690877435,1722.3646743104516,1724.452506074265,1728.0435767080241,1729.8808686601799,1730.2149217423898,1735.7267975988573,1742.9089388663751,1747.5856820173171,1763.4532034222987,1766.0421148094272,1766.1256280799798,1767.545353679373,1767.8794067615831,1770.217778337054,1772.8066897241827,1775.9801940051789,1776.0637072757315,1776.4812736284941,1776.7318134401517,1791.8477154101604,1791.8477154101604,1793.6850073623161,1795.2717595028143,1800.9506619003866,1804.7087590752508,1805.6274050513287,1808.9679358734302,1809.9700951200605,1810.387661472823,1812.559006507189,1814.89737808266,1816.6511567642633,1818.6554752575241,1821.745466267968,1822.9146520557033,1830.0132800526687,1830.1803065937738,1831.2659791109568,1838.1140672962647,1838.7821734606848,1839.4502796251052,1840.2854123306306,1840.368925601183,1841.1205450361558,1841.454598118366,1843.792969693837,1845.5467483754403,1846.3818810809655,1848.8872791975416,1852.561863101853,1855.1507744889816,1855.818880653402,1856.4034735472696,1858.5748185816356,1865.3393934963908,1867.9283048835196,1868.178844695177,1869.1810039418074,1871.7699153289361,1872.0204551405936,1873.1061276577766,1873.4401807399868,1874.275313445512,1874.7763930688272,1876.5301717504306,1878.450976973139,1879.8707025725319,1880.6223220075049,1887.9714898161278,1888.8901357922057,1891.5625604498869,1892.3141798848596,1892.7317462376222,1895.5711974364085,1896.1557903302762,1900.9995600223233,1901.584152916191,1901.751179457296,1909.1838605364715,1909.2673738070241,1909.8519667008918,1911.5222321119425,1911.6892586530475,1911.7727719236002,1913.0254709818882,1913.6935771463084,1913.8606036874135,1916.0319487217794,1916.9505946978572,1918.954913191118,1922.7130103659822,1923.7986828831652,1926.3875942702937,1927.4732667874766,1927.5567800580293,1928.5589393046596,1930.980824150683,1939.3321512059365,1940.6683635347772,1943.0902483808006,1943.4243014630108,1944.259434168536,1946.764832285112,1947.0988853673223,1948.4350976961628,1949.9383365661083,1950.021849836661,1950.4394161894236,1950.8569825421864,1951.441575436054,1951.9426550593694,1952.0261683299218,1952.193194871027,1957.2039911041788,1959.3753361385448,1959.709389220755,1963.8850527483817,1964.720185453907,1965.3047783477748,1965.3882916183275,1965.3882916183275,1967.1420702999305,1969.2299020637438,1972.4034063447402,1972.4869196152927,1973.8231319441334,1974.9088044613163,1974.9923177318688,1976.9966362251296,1979.3350078006006,1979.5855476122583,1979.8360874239158,1979.8360874239158,1982.1744589993868,1982.2579722699393,1983.0931049754647,1983.8447244104375,1984.8468836570678,1986.6841756092235,1986.7676888797762,1988.4379542908268,1992.6971310890062,1995.2025292055823,1997.540900781053,1997.6244140516058,1998.459546757131,2000.964944873707,2001.9671041203374,2002.9692633669679,2004.221962425256,2004.7230420485712,2005.474661483544,2006.560334000727,2009.1492453878554,2013.5754487271397,2015.496253949848,2015.9138203026107,2017.500572443109,2020.5905634535527,2030.1110762965416,2030.1110762965416,2030.6121559198568,2034.370253094721,2038.8799697045579,2039.6315891395307,2040.9678014683711,2041.2183412800287,2041.5523943622388,2041.8029341738966,2042.5545536088694,2042.7215801499744,2043.6402261260523,2046.2291375131808,2046.6467038659434,2046.730217136496,2046.730217136496,2047.4818365714689,2049.6531816058346,2052.492632804621,2054.9145176506445,2056.250729979485,2058.004508661088,2060.6769333187694,2060.9274731304267,2061.9296323770573,2062.180172188715,2065.771242822474,2066.856915339657,2069.27880018568,2073.120410631097,2073.287437172202,2076.6279679943036,2077.1290476176187,2077.3795874292764,2077.713640511486,2077.8806670525914,2078.298233405354,2079.1333661108793,2081.1376846041403,2081.4717376863505,2082.7244367446383,2083.1420030974014,2083.476056179611,2084.4782154262416,2085.73091448453,2088.0692860600006,2089.7395514710515,2089.9065780121564,2094.5833211630984,2095.919533491939,2096.086560033044,2096.7546661974643,2096.8381794680167,2097.005206009122,2098.59195814962,2100.178710290118,2100.429250101776,2100.512763372328,2102.684108406694,2102.684108406694,2102.8511349477994,2103.769780923877,2104.1873472766397,2105.2730197938226,2105.607072876033,2106.1081524993483,2106.1081524993483,2106.275179040453,2109.9497629447646,2110.4508425680797,2114.208939742944,2114.375966284049,2116.2132582362046,2116.7978511300726,2118.1340634589133,2119.971355411069,2121.224054469357,2122.7272933393024,2125.900797620299,2126.067824161404,2127.4040364902444,2128.90727536019,2130.327000959583,2130.4940275006884,2130.9951071240034,2131.997266370634,2133.416991970027,2137.759682038759,2138.761841285389,2141.517779213623,2142.5199384602533,2144.357230412409,2147.6977612345104,2151.205318597717,2152.792070738215,2153.710716714293,2155.297468854791,2158.1369200535773,2159.1390793002074,2161.226911064021,2164.650955156675,2165.15203477999,2166.1541940266206,2166.404733838278,2166.5717603793832,2166.9058134615934,2168.2420257904337,2170.7474239070098,2172.167149506403,2173.1693087530334,2173.753901646901,2174.171467999664,2174.5890343524266,2175.8417334107144,2176.5098395751347,2176.593352845687,2177.8460519039754,2177.8460519039754,2179.7668571266836,2179.933883667789,2181.353609267182,2181.4371225377345,2181.4371225377345,2183.3579277604426,2185.3622462537032,2185.7798126064663,2186.698458582544,2188.5357505346997,2189.955476134093,2192.460874250669,2194.047626391167,2195.13329890835,2195.9684316138755,2196.9705908605056,2198.1397766482414,2199.643015518187,2202.2319269053155,2203.150572881393,2203.5681392341558,2205.7394842685217,2206.407590432942,2206.407590432942,2208.3283956556506,2209.0800150906234,2211.084333583884,2212.170006101067,2213.5062184299077,2213.9237847826703,2215.259997111511,2215.427023652616,2220.0202535330054,2220.5213331563205,2225.0310497661576,2225.9496957422352,2225.9496957422352,2226.200235553893,2227.1188815299706,2227.285908071076,2227.8705009649434,2228.9561734821264,2232.0461644925704,2233.4658900919635,2233.549403362516,2234.050482985831,2234.885615691356,2236.054801479092,2236.221828020197,2239.7293853834035,2240.0634384656137,2240.731544630034,2241.1491109827966,2242.4018100410844,2242.5688365821898,2242.819376393847,2245.575314322081,2249.2498982263924,2250.9201636374432,2251.838809613521,2254.0936679184397,2254.2606944595445,2255.5969067883852,2257.935278363856,2259.856083586564,2261.35932245651,2261.6098622681675,2262.1944551620354,2262.1944551620354,2262.8625613264558,2263.2801276792184,2264.8668798197164,2266.370118689662,2266.453631960215,2266.871198312977,2268.1238973712652,2268.875516806238,2270.6292954878413,2270.796322028946,2273.3017201455223,2274.2203661216004,2274.470905933258,2275.6400917209935,2277.7279234848065,2278.396029649227,2280.3168348719355,2280.8179144952505,2281.486020659671,2281.987100282986,2283.406825882379,2283.657365694037,2284.7430382112198,2286.997896516138,2287.3319495983483,2288.0000557627686,2292.2592325609476,2294.180037783656,2296.267869547469,2297.60408187631,2300.7775861573064,2301.9467719450417,2302.3643382978044,2302.614878109462,2303.6170373560926,2303.86757716775,2306.372975284326,2309.2959397536647,2309.7135061064273,2310.9662051647156,2313.221063469634,2313.9726829046067,2316.7286208328405,2317.313213726708,2317.4802402678133,2319.9021251138365,2321.405363983782,2322.156983418755,2323.409682477043,2323.910762100358,2324.745894805884,2325.831567323067,2326.332646946382,2326.5831867580396,2327.501832734117,2328.5875052513,2328.5875052513,2329.5061512273783,2333.0137085905844,2333.9323545666625,2338.2750446353944,2338.358557905947,2338.7761242587094,2339.193690611472,2341.6155754574957,2341.7826019986005,2345.1231328207023,2347.294477855068,2347.461504396173,2347.8790707489356,2350.3844688655117,2350.467982136064,2350.885548488827,2351.052575029932,2352.3052740882204,2353.223920064298,2353.6414864170606,2353.8920262287184,2354.059052769823,2354.4766191225863,2356.814990698057,2357.0655305097143,2357.4830968624774,2357.7336366741347,2358.401742838555,2358.986335732423,2360.072008249606,2361.408220578446,2363.9136186950223,2364.49821158889,2365.750910647178,2371.5968395858554,2373.0165651852485,2374.1022377024315,2378.7789808533735,2378.7789808533735,2378.862494123926,2380.866812617187,2380.9503258877394,2381.200865699397,2382.28653821658,2382.7041045693427,2383.622750545421,2385.1259894153663,2391.222458165701,2392.391643953437,2393.3102899295145,2397.0683871043784,2397.1519003749313,2400.07486484427,2400.3254046559277,2404.334041642449,2405.3362008890795,2405.4197141596323,2405.586740700737,2405.9207937829474,2406.4218734062624,2408.259165358418,2409.4283511461535,2409.929430769469,2410.263483851679,2411.0986165572044,2412.3513156154922,2413.520501403228,2418.1972445541696,2419.282917071353,2420.1180497768783,2426.1310052566605,2426.1310052566605,2426.298031797766,2426.3815450683182,2427.133164503291,2427.634244126606,2428.1353237499216,2428.6364033732366,2429.304509537657,2429.7220758904195,2431.3088280309175,2431.3088280309175,2431.7263943836806,2434.2317925002567,2435.4844915585445,2436.737190616833,2438.7415091100934,2438.992048921751,2439.159075462856,2440.9128541444593,2443.835818613798,2449.765260823028,2451.184986422421,2451.686066045736,2452.6882252923665,2455.0265968678377,2455.277136679495,2455.861729573363,2456.5298357377833,2456.696862278888,2457.6155082549662,2458.033074607729,2459.2022603954642,2461.1230656181724,2462.709817758671,2463.8790035464062,2465.1317026046945,2466.801968015745,2467.5535874507177,2467.720613991823,2470.1424988378462,2470.3095253789515,2471.478711166687,2474.568702177131,2476.2389675881814,2477.0741002937066,2478.577339163652,2480.247604574703,2480.999224009676,2481.5838169035437,2483.0870557734893,2484.08921502012,2485.0078609961975,2485.7594804311702,2486.4275865955906,2487.262719301116,2487.596772383326,2490.6032501232175,2491.939462452058,2492.4405420753733,2494.1108074864237,2495.029453462502,2503.798346870518,2504.132399952728,2505.218072469911,2505.4686122815683,2505.8861786343314,2507.0553644220668,2507.556444045382,2507.639957315934,2507.9740103981444,2508.47509002146,2508.8926563742225,2509.2267094564327,2510.3123819736156,2510.8134615969307,2511.0640014085884,2511.6485943024563,2512.567240278534,2512.901293360744,2512.9848066312966,2513.151833172402,2514.153992419032,2515.991284371188,2517.4945232411337,2517.6615497822386,2517.9120895938963,2518.4131692172114,2519.0812753816317,2519.8328948166045,2520.250461169367,2521.169107145445,2521.33613368655,2521.920726580418,2522.1712663920753,2524.927204320309,2525.8458502963867,2527.5161157074376,2527.59962897799,2530.2720536356715,2532.443398670037,2532.52691194059,2533.19501810501,2535.4498764099285,2535.533389680481,2536.7025754682163,2537.0366285504265,2538.372840879267,2539.2914868553453,2539.7090532081074,2542.5485044068937,2544.302283088497,2544.636336170707,2545.6384954173377,2545.8055219584426,2545.8055219584426,2546.306601581758,2547.058221016731,2551.150371273805,2551.9019907087777,2552.0690172498826,2554.741441907564,2557.413866565245,2558.0819727296653,2558.1654860002177,2558.332512541323,2558.499539082428,2558.833592164638,2561.4225035517666,2561.4225035517666,2562.090609716187,2562.257636257292,2562.8422291511597,2564.5124945622106,2565.2641139971834,2566.015733432156,2569.1057244426,2569.1892377131526,2570.1913969597827,2578.542724015036,2579.878936343877,2583.3864937070834,2583.804060059846,2584.305139683161,2585.1402723886868,2587.2281041525,2587.4786439641575,2588.146750128578,2591.487280950679,2592.739980008967,2592.8234932795194,2593.324572902835,2595.6629444783057,2596.0805108310688,2599.1705018415123,2599.337528382617,2599.5045549237225,2600.506714170353,2601.0913070642205,2601.6758999580884,2605.7680502151625,2606.770209461793,2610.862359718867,2615.205049787599,2616.791801928097,2617.20936828086,2618.1280142569376,2619.380713315226,2619.7147663974356,2619.7147663974356,2622.053137972907,2622.721244137327,2625.7277218772183,2630.1539252165026,2630.320951757608,2633.160402956394,2634.162562203024,2635.4152612613125,2639.3403849772812,2639.7579513300443,2640.9271371177797,2641.3447034705423,2645.1863139159586,2648.5268447380604,2654.12223386508,2657.4627646871813,2658.3814106632594,2659.133030098232,2667.233817341828,2669.154622564536,2669.739215458404,2669.906241999509,2672.745693198295,2675.167578044319,2677.0048699964746,2679.5102681130506,2681.1805335241015,2681.8486396885214,2683.184852017362,2684.6045776167553,2685.1891705106227,2685.356197051728,2687.1934890038838,2693.958063918639,2694.208603730297,2695.6283293296897,2696.4634620352153,2696.797515117425,2697.716161093503,2698.217240716818,2699.2193999634487,2700.138045939527,2700.4720990217365,2701.724798080025,2702.4764175149976,2703.144523679418,2703.5620900321805,2705.7334350665465,2706.401541230967,2706.735594313177,2707.4872137481498,2712.4144967107495,2715.8385408034032,2720.2647441426875,2723.7723015058937,2725.1085138347344,2725.6931067286023,2728.616071197941,2731.7060622083845,2731.7060622083845,2732.2071418317,2734.545513407171,2736.9673982531945,2738.7211769347978,2738.8882034759026,2739.4727963697705,2739.890362722533,2744.0660262501597,2747.5735836133663,2748.158176507234,2750.2460082710477,2753.001946199281,2754.839238151437,2757.26112299746,2757.4281495385653,2764.2762377238732,2764.9443438882936,2766.0300164054765,2769.5375737686827,2771.124325909181,2771.291352450286,2771.374865720839,2774.1308036490723,2777.972414094489,2782.1480776221156,2782.4821307043258,2783.0667235981937,2786.6577942319527,2789.7477852423963,2791.585077194552,2796.595873427704,2798.0991122976498,2798.683705191517,2800.2704573320157,2804.0285545068796,2806.366926082351,2813.465554079316,2813.549067349869,2814.4677133259465,2828.915509131535,2831.0033408953486,2836.5152167518154,2839.521694491707,2840.774393549995,2844.2819509132014,2845.8687030536994,2849.2927471463536,2851.130039098509,2857.3935343899493,2862.5713571642063,2862.9054102464165,2865.4108083629926,2865.828374715755,2865.911887986308,2871.089710760565,2872.5094363599583,2873.428082336036,2877.5202325931104,2880.777250144659,2881.6958961207365,2883.4496748023403,2891.132895693173,2892.302081480909,2895.64261230301,2902.5742137588704,2903.075293382186,2909.255275403073,2917.606602458327,2919.2768678693774,2922.6173986914787,2925.95792951358,2927.0436020307634,2927.4611683835255,2927.795221465736,2927.795221465736,2928.296301089051,2928.964407253471,2929.1314337945764,2930.8016992056273,2932.4719646166777,2943.4122030590597,2943.495716329612,2946.585707340056,2948.088946210002,2955.772167100835,2955.8556803713873,2958.6951315701735,2958.862158111279,2960.6994500634346,2965.710246296587,2982.2458738659884,2996.0255635071567,3006.715262137881,3019.325765991314,3031.8527565741942,3038.116251865634,3045.3819064037043,3048.388384143596,3058.242950068795,3077.20046248422,3087.305568221077,3091.8152848309137,3110.355230893577,3173.9923430546078,3180.172325075496,3185.099608038095,3186.769873449146,3188.106085777986,3190.52797062401,3201.301182525287,3234.539464205195,3238.0470215684018,3283.9793203722957,3297.759010013464,3316.716522428889,3331.6653978577933,3338.5969993136537,3341.603477053545,3349.286697944378,3354.882087071398,3377.764723202792,3391.878465926171,3430.2945703803366,3454.5969321111243,3480.235506170752,3505.20597406596,3523.4118670464127,3533.0158931599544,3567.339847357046,3585.5457403374985,3602.0813679069,3639.077746761673,3982.8183683559055,4114.852849099463,4673.807168907577],\"yaxis\":\"y\",\"type\":\"scatter\"}],                        {\"template\":{\"data\":{\"histogram2dcontour\":[{\"type\":\"histogram2dcontour\",\"colorbar\":{\"outlinewidth\":0,\"ticks\":\"\"},\"colorscale\":[[0.0,\"#0d0887\"],[0.1111111111111111,\"#46039f\"],[0.2222222222222222,\"#7201a8\"],[0.3333333333333333,\"#9c179e\"],[0.4444444444444444,\"#bd3786\"],[0.5555555555555556,\"#d8576b\"],[0.6666666666666666,\"#ed7953\"],[0.7777777777777778,\"#fb9f3a\"],[0.8888888888888888,\"#fdca26\"],[1.0,\"#f0f921\"]]}],\"choropleth\":[{\"type\":\"choropleth\",\"colorbar\":{\"outlinewidth\":0,\"ticks\":\"\"}}],\"histogram2d\":[{\"type\":\"histogram2d\",\"colorbar\":{\"outlinewidth\":0,\"ticks\":\"\"},\"colorscale\":[[0.0,\"#0d0887\"],[0.1111111111111111,\"#46039f\"],[0.2222222222222222,\"#7201a8\"],[0.3333333333333333,\"#9c179e\"],[0.4444444444444444,\"#bd3786\"],[0.5555555555555556,\"#d8576b\"],[0.6666666666666666,\"#ed7953\"],[0.7777777777777778,\"#fb9f3a\"],[0.8888888888888888,\"#fdca26\"],[1.0,\"#f0f921\"]]}],\"heatmap\":[{\"type\":\"heatmap\",\"colorbar\":{\"outlinewidth\":0,\"ticks\":\"\"},\"colorscale\":[[0.0,\"#0d0887\"],[0.1111111111111111,\"#46039f\"],[0.2222222222222222,\"#7201a8\"],[0.3333333333333333,\"#9c179e\"],[0.4444444444444444,\"#bd3786\"],[0.5555555555555556,\"#d8576b\"],[0.6666666666666666,\"#ed7953\"],[0.7777777777777778,\"#fb9f3a\"],[0.8888888888888888,\"#fdca26\"],[1.0,\"#f0f921\"]]}],\"heatmapgl\":[{\"type\":\"heatmapgl\",\"colorbar\":{\"outlinewidth\":0,\"ticks\":\"\"},\"colorscale\":[[0.0,\"#0d0887\"],[0.1111111111111111,\"#46039f\"],[0.2222222222222222,\"#7201a8\"],[0.3333333333333333,\"#9c179e\"],[0.4444444444444444,\"#bd3786\"],[0.5555555555555556,\"#d8576b\"],[0.6666666666666666,\"#ed7953\"],[0.7777777777777778,\"#fb9f3a\"],[0.8888888888888888,\"#fdca26\"],[1.0,\"#f0f921\"]]}],\"contourcarpet\":[{\"type\":\"contourcarpet\",\"colorbar\":{\"outlinewidth\":0,\"ticks\":\"\"}}],\"contour\":[{\"type\":\"contour\",\"colorbar\":{\"outlinewidth\":0,\"ticks\":\"\"},\"colorscale\":[[0.0,\"#0d0887\"],[0.1111111111111111,\"#46039f\"],[0.2222222222222222,\"#7201a8\"],[0.3333333333333333,\"#9c179e\"],[0.4444444444444444,\"#bd3786\"],[0.5555555555555556,\"#d8576b\"],[0.6666666666666666,\"#ed7953\"],[0.7777777777777778,\"#fb9f3a\"],[0.8888888888888888,\"#fdca26\"],[1.0,\"#f0f921\"]]}],\"surface\":[{\"type\":\"surface\",\"colorbar\":{\"outlinewidth\":0,\"ticks\":\"\"},\"colorscale\":[[0.0,\"#0d0887\"],[0.1111111111111111,\"#46039f\"],[0.2222222222222222,\"#7201a8\"],[0.3333333333333333,\"#9c179e\"],[0.4444444444444444,\"#bd3786\"],[0.5555555555555556,\"#d8576b\"],[0.6666666666666666,\"#ed7953\"],[0.7777777777777778,\"#fb9f3a\"],[0.8888888888888888,\"#fdca26\"],[1.0,\"#f0f921\"]]}],\"mesh3d\":[{\"type\":\"mesh3d\",\"colorbar\":{\"outlinewidth\":0,\"ticks\":\"\"}}],\"scatter\":[{\"fillpattern\":{\"fillmode\":\"overlay\",\"size\":10,\"solidity\":0.2},\"type\":\"scatter\"}],\"parcoords\":[{\"type\":\"parcoords\",\"line\":{\"colorbar\":{\"outlinewidth\":0,\"ticks\":\"\"}}}],\"scatterpolargl\":[{\"type\":\"scatterpolargl\",\"marker\":{\"colorbar\":{\"outlinewidth\":0,\"ticks\":\"\"}}}],\"bar\":[{\"error_x\":{\"color\":\"#2a3f5f\"},\"error_y\":{\"color\":\"#2a3f5f\"},\"marker\":{\"line\":{\"color\":\"#E5ECF6\",\"width\":0.5},\"pattern\":{\"fillmode\":\"overlay\",\"size\":10,\"solidity\":0.2}},\"type\":\"bar\"}],\"scattergeo\":[{\"type\":\"scattergeo\",\"marker\":{\"colorbar\":{\"outlinewidth\":0,\"ticks\":\"\"}}}],\"scatterpolar\":[{\"type\":\"scatterpolar\",\"marker\":{\"colorbar\":{\"outlinewidth\":0,\"ticks\":\"\"}}}],\"histogram\":[{\"marker\":{\"pattern\":{\"fillmode\":\"overlay\",\"size\":10,\"solidity\":0.2}},\"type\":\"histogram\"}],\"scattergl\":[{\"type\":\"scattergl\",\"marker\":{\"colorbar\":{\"outlinewidth\":0,\"ticks\":\"\"}}}],\"scatter3d\":[{\"type\":\"scatter3d\",\"line\":{\"colorbar\":{\"outlinewidth\":0,\"ticks\":\"\"}},\"marker\":{\"colorbar\":{\"outlinewidth\":0,\"ticks\":\"\"}}}],\"scattermapbox\":[{\"type\":\"scattermapbox\",\"marker\":{\"colorbar\":{\"outlinewidth\":0,\"ticks\":\"\"}}}],\"scatterternary\":[{\"type\":\"scatterternary\",\"marker\":{\"colorbar\":{\"outlinewidth\":0,\"ticks\":\"\"}}}],\"scattercarpet\":[{\"type\":\"scattercarpet\",\"marker\":{\"colorbar\":{\"outlinewidth\":0,\"ticks\":\"\"}}}],\"carpet\":[{\"aaxis\":{\"endlinecolor\":\"#2a3f5f\",\"gridcolor\":\"white\",\"linecolor\":\"white\",\"minorgridcolor\":\"white\",\"startlinecolor\":\"#2a3f5f\"},\"baxis\":{\"endlinecolor\":\"#2a3f5f\",\"gridcolor\":\"white\",\"linecolor\":\"white\",\"minorgridcolor\":\"white\",\"startlinecolor\":\"#2a3f5f\"},\"type\":\"carpet\"}],\"table\":[{\"cells\":{\"fill\":{\"color\":\"#EBF0F8\"},\"line\":{\"color\":\"white\"}},\"header\":{\"fill\":{\"color\":\"#C8D4E3\"},\"line\":{\"color\":\"white\"}},\"type\":\"table\"}],\"barpolar\":[{\"marker\":{\"line\":{\"color\":\"#E5ECF6\",\"width\":0.5},\"pattern\":{\"fillmode\":\"overlay\",\"size\":10,\"solidity\":0.2}},\"type\":\"barpolar\"}],\"pie\":[{\"automargin\":true,\"type\":\"pie\"}]},\"layout\":{\"autotypenumbers\":\"strict\",\"colorway\":[\"#636efa\",\"#EF553B\",\"#00cc96\",\"#ab63fa\",\"#FFA15A\",\"#19d3f3\",\"#FF6692\",\"#B6E880\",\"#FF97FF\",\"#FECB52\"],\"font\":{\"color\":\"#2a3f5f\"},\"hovermode\":\"closest\",\"hoverlabel\":{\"align\":\"left\"},\"paper_bgcolor\":\"white\",\"plot_bgcolor\":\"#E5ECF6\",\"polar\":{\"bgcolor\":\"#E5ECF6\",\"angularaxis\":{\"gridcolor\":\"white\",\"linecolor\":\"white\",\"ticks\":\"\"},\"radialaxis\":{\"gridcolor\":\"white\",\"linecolor\":\"white\",\"ticks\":\"\"}},\"ternary\":{\"bgcolor\":\"#E5ECF6\",\"aaxis\":{\"gridcolor\":\"white\",\"linecolor\":\"white\",\"ticks\":\"\"},\"baxis\":{\"gridcolor\":\"white\",\"linecolor\":\"white\",\"ticks\":\"\"},\"caxis\":{\"gridcolor\":\"white\",\"linecolor\":\"white\",\"ticks\":\"\"}},\"coloraxis\":{\"colorbar\":{\"outlinewidth\":0,\"ticks\":\"\"}},\"colorscale\":{\"sequential\":[[0.0,\"#0d0887\"],[0.1111111111111111,\"#46039f\"],[0.2222222222222222,\"#7201a8\"],[0.3333333333333333,\"#9c179e\"],[0.4444444444444444,\"#bd3786\"],[0.5555555555555556,\"#d8576b\"],[0.6666666666666666,\"#ed7953\"],[0.7777777777777778,\"#fb9f3a\"],[0.8888888888888888,\"#fdca26\"],[1.0,\"#f0f921\"]],\"sequentialminus\":[[0.0,\"#0d0887\"],[0.1111111111111111,\"#46039f\"],[0.2222222222222222,\"#7201a8\"],[0.3333333333333333,\"#9c179e\"],[0.4444444444444444,\"#bd3786\"],[0.5555555555555556,\"#d8576b\"],[0.6666666666666666,\"#ed7953\"],[0.7777777777777778,\"#fb9f3a\"],[0.8888888888888888,\"#fdca26\"],[1.0,\"#f0f921\"]],\"diverging\":[[0,\"#8e0152\"],[0.1,\"#c51b7d\"],[0.2,\"#de77ae\"],[0.3,\"#f1b6da\"],[0.4,\"#fde0ef\"],[0.5,\"#f7f7f7\"],[0.6,\"#e6f5d0\"],[0.7,\"#b8e186\"],[0.8,\"#7fbc41\"],[0.9,\"#4d9221\"],[1,\"#276419\"]]},\"xaxis\":{\"gridcolor\":\"white\",\"linecolor\":\"white\",\"ticks\":\"\",\"title\":{\"standoff\":15},\"zerolinecolor\":\"white\",\"automargin\":true,\"zerolinewidth\":2},\"yaxis\":{\"gridcolor\":\"white\",\"linecolor\":\"white\",\"ticks\":\"\",\"title\":{\"standoff\":15},\"zerolinecolor\":\"white\",\"automargin\":true,\"zerolinewidth\":2},\"scene\":{\"xaxis\":{\"backgroundcolor\":\"#E5ECF6\",\"gridcolor\":\"white\",\"linecolor\":\"white\",\"showbackground\":true,\"ticks\":\"\",\"zerolinecolor\":\"white\",\"gridwidth\":2},\"yaxis\":{\"backgroundcolor\":\"#E5ECF6\",\"gridcolor\":\"white\",\"linecolor\":\"white\",\"showbackground\":true,\"ticks\":\"\",\"zerolinecolor\":\"white\",\"gridwidth\":2},\"zaxis\":{\"backgroundcolor\":\"#E5ECF6\",\"gridcolor\":\"white\",\"linecolor\":\"white\",\"showbackground\":true,\"ticks\":\"\",\"zerolinecolor\":\"white\",\"gridwidth\":2}},\"shapedefaults\":{\"line\":{\"color\":\"#2a3f5f\"}},\"annotationdefaults\":{\"arrowcolor\":\"#2a3f5f\",\"arrowhead\":0,\"arrowwidth\":1},\"geo\":{\"bgcolor\":\"white\",\"landcolor\":\"#E5ECF6\",\"subunitcolor\":\"white\",\"showland\":true,\"showlakes\":true,\"lakecolor\":\"white\"},\"title\":{\"x\":0.05},\"mapbox\":{\"style\":\"light\"}}},\"xaxis\":{\"anchor\":\"y\",\"domain\":[0.0,1.0],\"title\":{\"text\":\"Total Steps\"}},\"yaxis\":{\"anchor\":\"x\",\"domain\":[0.0,1.0],\"title\":{\"text\":\"Calories\"}},\"coloraxis\":{\"colorbar\":{\"title\":{\"text\":\"Calories\"}},\"colorscale\":[[0.0,\"#440154\"],[0.1111111111111111,\"#482878\"],[0.2222222222222222,\"#3e4989\"],[0.3333333333333333,\"#31688e\"],[0.4444444444444444,\"#26828e\"],[0.5555555555555556,\"#1f9e89\"],[0.6666666666666666,\"#35b779\"],[0.7777777777777778,\"#6ece58\"],[0.8888888888888888,\"#b5de2b\"],[1.0,\"#fde725\"]]},\"legend\":{\"tracegroupgap\":0},\"title\":{\"text\":\"Calories by Total Steps\"},\"annotations\":[{\"showarrow\":false,\"text\":\"Correlation: 0.59\",\"x\":33519,\"y\":500}]},                        {\"responsive\": true}                    ).then(function(){\n",
       "                            \n",
       "var gd = document.getElementById('c3bb0491-7c53-45ca-9c40-dd64391d9a82');\n",
       "var x = new MutationObserver(function (mutations, observer) {{\n",
       "        var display = window.getComputedStyle(gd).display;\n",
       "        if (!display || display === 'none') {{\n",
       "            console.log([gd, 'removed!']);\n",
       "            Plotly.purge(gd);\n",
       "            observer.disconnect();\n",
       "        }}\n",
       "}});\n",
       "\n",
       "// Listen for the removal of the full notebook cells\n",
       "var notebookContainer = gd.closest('#notebook-container');\n",
       "if (notebookContainer) {{\n",
       "    x.observe(notebookContainer, {childList: true});\n",
       "}}\n",
       "\n",
       "// Listen for the clearing of the current output cell\n",
       "var outputEl = gd.closest('.output');\n",
       "if (outputEl) {{\n",
       "    x.observe(outputEl, {childList: true});\n",
       "}}\n",
       "\n",
       "                        })                };                });            </script>        </div>"
      ]
     },
     "metadata": {},
     "output_type": "display_data"
    },
    {
     "name": "stdout",
     "output_type": "stream",
     "text": [
      "Number of days in which a user took less than 500 steps: 98\n",
      "Percentage of days in which a user took less than 500 steps: 10.0 %\n"
     ]
    }
   ],
   "source": [
    "# Calculate correlation coefficient\n",
    "correlation = np.corrcoef(df_activity['TotalSteps'], df_activity['Calories'])[0, 1]\n",
    "\n",
    "# Create the scatter plot with trendline using Plotly Express\n",
    "fig = px.scatter(df_activity, x='TotalSteps', y='Calories', trendline=\"ols\", labels={'TotalSteps': 'Total Steps', 'Calories': 'Calories'}, \n",
    "                 title='Calories by Total Steps', color='Calories', color_continuous_scale='viridis')  \n",
    "\n",
    "# Add correlation coefficient annotation\n",
    "fig.add_annotation(x=df_activity['TotalSteps'].max() - 2500, y=df_activity['Calories'].max() - 4400, text=f'Correlation: {correlation:.2f}', showarrow=False)\n",
    "\n",
    "# Show plot\n",
    "fig.show()\n",
    "\n",
    "print(\"Number of days in which a user took less than 500 steps:\",len(df_activity[df_activity[\"TotalSteps\"] < 500]))\n",
    "print(\"Percentage of days in which a user took less than 500 steps:\",round((len(df_activity[df_activity[\"TotalSteps\"] < 500])/len(df_activity)),2)*100, \"%\")"
   ]
  },
  {
   "cell_type": "markdown",
   "id": "e9be00c2",
   "metadata": {
    "papermill": {
     "duration": 0.026848,
     "end_time": "2024-05-16T18:47:40.709634",
     "exception": false,
     "start_time": "2024-05-16T18:47:40.682786",
     "status": "completed"
    },
    "tags": []
   },
   "source": [
    "<p style=\"font-size:18px;\"> Again I expected there to be a postive correlation, this time the corelation was higher between steps and calories when compared to calories and active minutes. Once again the thing that suprized me the most was the number of days in which users took less than 500 steps. 98 days in which users did not complete 500 steps or once again 10% of the data. I thought this could not be correct surely?  I realized that some of the data might be inaccurate, on average an adult burns around 2000 kcals per day (slightly less for women) so if someone was wearing a fitness tracker all day even without moving the body will burn calories by resting and sleeping. My realistic range would be from around 1200 calories and above, so any days in which a user burned less than 1200 would be a concern for me. Could these users only tracked data for a small portion of the day? Could the users be children or elderly? could the tracker not be working as intended? unfortunately I do not have these answers put it is cruital to raise these points to the stakeholders.\n",
    "    \n",
    "<p style=\"font-size:18px;\"> I remembered from my earlier analysis that the 12th of May was showing a much lower average steps per user so I wanted to see wheather there may be a pattern and that the data from this date could be anomalous. I wrote the following code which totals the number of rows which less than 1400 calories on the 12th of May and the entire dataset."
   ]
  },
  {
   "cell_type": "code",
   "execution_count": 26,
   "id": "7f1e690c",
   "metadata": {
    "execution": {
     "iopub.execute_input": "2024-05-16T18:47:40.766044Z",
     "iopub.status.busy": "2024-05-16T18:47:40.765316Z",
     "iopub.status.idle": "2024-05-16T18:47:40.778073Z",
     "shell.execute_reply": "2024-05-16T18:47:40.776941Z"
    },
    "papermill": {
     "duration": 0.044311,
     "end_time": "2024-05-16T18:47:40.780854",
     "exception": false,
     "start_time": "2024-05-16T18:47:40.736543",
     "status": "completed"
    },
    "tags": []
   },
   "outputs": [
    {
     "name": "stdout",
     "output_type": "stream",
     "text": [
      "Number of rows on the 12th of May with less than 1200 Calories: 10\n",
      "Number of rows in entire datase with less than 1200 Calories: 18\n",
      "Percentage of potential anonymous rows on the 12th of May: 77.78 %\n"
     ]
    }
   ],
   "source": [
    "print(\"Number of rows on the 12th of May with less than 1200 Calories:\",len(df_activity[(df_activity['ActivityDate'] == '2016-05-12') & (df_activity['Calories'] < 1200)]))\n",
    "print(\"Number of rows in entire datase with less than 1200 Calories:\",len((df_activity[df_activity['Calories'] < 1200])))\n",
    "print(\"Percentage of potential anonymous rows on the 12th of May:\", \n",
    "      round(len(df_activity[(df_activity['ActivityDate'] == '2016-05-12') & (df_activity['Calories'] < 1400)]) / len(df_activity[df_activity['Calories'] < 1200]) * 100, 2), \"%\")"
   ]
  },
  {
   "cell_type": "markdown",
   "id": "f12ab47c",
   "metadata": {
    "papermill": {
     "duration": 0.02644,
     "end_time": "2024-05-16T18:47:40.834087",
     "exception": false,
     "start_time": "2024-05-16T18:47:40.807647",
     "status": "completed"
    },
    "tags": []
   },
   "source": [
    "<p style=\"font-size:18px;\"> This suggests to me that the data from the 12th of May could be inaccurate and misleading. With a total of 18 rows which could be inaccurate, this is just under 2% of the entire dataset, With the 12th of May making up 77.78% of the rows with less than 1200 calories. At this stage I feel confident that these values are inaccurate and should be removed. However I cannot say this with 100% certainty and it would be a question which would be raised to the stakeholders to understand is there a reason why the 12th of May is showing a large amount of anomalous data.\n",
    "    \n",
    "<p style=\"font-size:18px;\"> Next I wanted to look at the sleep data and see if there were any trends I could identify. I plotted every users sleep data by date and added an average line to determine the average sleep per date."
   ]
  },
  {
   "cell_type": "code",
   "execution_count": 27,
   "id": "07a1a3ae",
   "metadata": {
    "execution": {
     "iopub.execute_input": "2024-05-16T18:47:40.890032Z",
     "iopub.status.busy": "2024-05-16T18:47:40.889612Z",
     "iopub.status.idle": "2024-05-16T18:47:40.937248Z",
     "shell.execute_reply": "2024-05-16T18:47:40.935584Z"
    },
    "papermill": {
     "duration": 0.079373,
     "end_time": "2024-05-16T18:47:40.940412",
     "exception": false,
     "start_time": "2024-05-16T18:47:40.861039",
     "status": "completed"
    },
    "tags": []
   },
   "outputs": [
    {
     "data": {
      "text/html": [
       "<div>                            <div id=\"532a94ec-f92a-4f60-abc7-e37e33cb36c0\" class=\"plotly-graph-div\" style=\"height:750px; width:100%;\"></div>            <script type=\"text/javascript\">                require([\"plotly\"], function(Plotly) {                    window.PLOTLYENV=window.PLOTLYENV || {};                                    if (document.getElementById(\"532a94ec-f92a-4f60-abc7-e37e33cb36c0\")) {                    Plotly.newPlot(                        \"532a94ec-f92a-4f60-abc7-e37e33cb36c0\",                        [{\"hovertemplate\":\"Hours Sleep: %{x}\\u003cbr\\u003e%{y}\",\"marker\":{\"color\":[327.0,384.0,412.0,340.0,700.0,304.0,360.0,325.0,361.0,430.0,277.0,245.0,366.0,341.0,404.0,369.0,277.0,273.0,247.0,334.0,331.0,594.0,338.0,383.0,285.0,119.0,124.0,796.0,137.0,644.0,722.0,590.0,750.0,398.0,475.0,296.0,166.0,503.0,531.0,545.0,523.0,524.0,437.0,498.0,461.0,477.0,520.0,522.0,555.0,506.0,508.0,513.0,490.0,573.0,527.0,511.0,538.0,468.0,524.0,511.0,541.0,531.0,357.0,523.0,456.0,61.0,467.0,445.0,452.0,556.0,500.0,465.0,460.0,405.0,374.0,442.0,433.0,436.0,448.0,408.0,411.0,274.0,295.0,291.0,424.0,283.0,381.0,412.0,219.0,152.0,332.0,355.0,235.0,310.0,262.0,250.0,349.0,261.0,333.0,237.0,383.0,230.0,292.0,213.0,318.0,323.0,237.0,259.0,312.0,501.0,77.0,322.0,478.0,226.0,385.0,364.0,442.0,535.0,465.0,506.0,515.0,461.0,523.0,59.0,533.0,692.0,467.0,488.0,505.0,286.0,497.0,523.0,490.0,484.0,478.0,474.0,450.0,507.0,602.0,535.0,487.0,529.0,302.0,499.0,426.0,619.0,99.0,329.0,421.0,442.0,82.0,478.0,552.0,319.0,439.0,428.0,409.0,547.0,368.0,390.0,471.0,472.0,529.0,62.0,354.0,469.0,429.0,370.0,441.0,337.0,462.0,98.0,388.0,439.0,436.0,388.0,328.0,353.0,332.0,419.0,106.0,322.0,439.0,502.0,417.0,337.0,462.0,374.0,401.0,361.0,457.0,405.0,499.0,483.0,126.0,103.0,171.0,115.0,123.0,425.0,400.0,384.0,253.0,382.0,591.0,293.0,457.0,454.0,425.0,465.0,480.0,370.0,421.0,432.0,442.0,433.0,479.0,327.0,412.0,414.0,404.0,520.0,435.0,416.0,354.0,404.0,441.0,455.0,357.0,377.0,651.0,350.0,520.0,357.0,658.0,399.0,322.0,631.0,553.0,433.0,412.0,347.0,421.0,450.0,775.0,622.0,409.0,380.0,447.0,419.0,400.0,442.0,568.0,453.0,418.0,463.0,438.0,419.0,432.0,477.0,392.0,406.0,549.0,527.0,449.0,447.0,414.0,338.0,384.0,543.0,421.0,354.0,424.0,361.0,459.0,412.0,379.0,525.0,508.0,603.0,74.0,504.0,431.0,380.0,336.0,493.0,465.0,474.0,508.0,480.0,492.0,353.0,542.0,393.0,600.0,507.0,392.0,658.0,498.0,555.0,492.0,235.0,423.0,391.0,366.0,630.0,508.0,370.0,357.0,427.0,442.0,476.0,418.0,451.0,425.0,528.0,511.0,400.0,441.0,455.0,440.0,433.0,422.0,411.0,466.0,394.0,442.0,467.0,443.0,298.0,541.0,489.0,469.0,452.0,516.0,79.0,58.0,514.0,451.0,472.0,377.0,472.0,492.0,390.0,428.0,681.0,446.0,485.0,469.0,354.0,485.0,388.0,440.0,456.0,420.0,322.0,530.0,481.0,427.0,451.0,444.0,486.0,331.0,74.0,338.0,447.0,424.0,513.0,611.0,525.0,398.0,387.0,381.0,396.0,441.0,565.0,458.0,388.0,550.0,531.0,506.0,527.0,468.0,475.0,351.0,405.0,441.0,381.0,323.0,459.0,545.0,359.0,342.0,368.0,496.0,458.0,531.0,486.0,363.0,528.0,391.0,339.0,423.0,402.0,398.0,343.0,503.0,415.0,516.0,439.0],\"colorscale\":[[0.0,\"rgb(12,51,131)\"],[0.25,\"rgb(10,136,186)\"],[0.5,\"rgb(242,211,56)\"],[0.75,\"rgb(242,143,56)\"],[1.0,\"rgb(217,30,30)\"]]},\"mode\":\"markers\",\"name\":\"\",\"x\":[\"2016-04-12T00:00:00\",\"2016-04-13T00:00:00\",\"2016-04-15T00:00:00\",\"2016-04-16T00:00:00\",\"2016-04-17T00:00:00\",\"2016-04-19T00:00:00\",\"2016-04-20T00:00:00\",\"2016-04-21T00:00:00\",\"2016-04-23T00:00:00\",\"2016-04-24T00:00:00\",\"2016-04-25T00:00:00\",\"2016-04-26T00:00:00\",\"2016-04-28T00:00:00\",\"2016-04-29T00:00:00\",\"2016-04-30T00:00:00\",\"2016-05-01T00:00:00\",\"2016-05-02T00:00:00\",\"2016-05-03T00:00:00\",\"2016-05-05T00:00:00\",\"2016-05-06T00:00:00\",\"2016-05-07T00:00:00\",\"2016-05-08T00:00:00\",\"2016-05-09T00:00:00\",\"2016-05-10T00:00:00\",\"2016-05-11T00:00:00\",\"2016-04-29T00:00:00\",\"2016-04-30T00:00:00\",\"2016-05-02T00:00:00\",\"2016-05-08T00:00:00\",\"2016-04-15T00:00:00\",\"2016-04-30T00:00:00\",\"2016-05-01T00:00:00\",\"2016-04-12T00:00:00\",\"2016-04-13T00:00:00\",\"2016-04-15T00:00:00\",\"2016-04-26T00:00:00\",\"2016-04-28T00:00:00\",\"2016-04-12T00:00:00\",\"2016-04-13T00:00:00\",\"2016-04-14T00:00:00\",\"2016-04-15T00:00:00\",\"2016-04-16T00:00:00\",\"2016-04-17T00:00:00\",\"2016-04-19T00:00:00\",\"2016-04-20T00:00:00\",\"2016-04-21T00:00:00\",\"2016-04-22T00:00:00\",\"2016-04-23T00:00:00\",\"2016-04-24T00:00:00\",\"2016-04-25T00:00:00\",\"2016-04-27T00:00:00\",\"2016-04-28T00:00:00\",\"2016-04-29T00:00:00\",\"2016-04-30T00:00:00\",\"2016-05-01T00:00:00\",\"2016-05-02T00:00:00\",\"2016-05-04T00:00:00\",\"2016-05-05T00:00:00\",\"2016-05-06T00:00:00\",\"2016-05-07T00:00:00\",\"2016-05-08T00:00:00\",\"2016-05-09T00:00:00\",\"2016-05-10T00:00:00\",\"2016-05-11T00:00:00\",\"2016-05-12T00:00:00\",\"2016-04-23T00:00:00\",\"2016-04-13T00:00:00\",\"2016-04-14T00:00:00\",\"2016-04-15T00:00:00\",\"2016-04-17T00:00:00\",\"2016-04-18T00:00:00\",\"2016-04-19T00:00:00\",\"2016-04-21T00:00:00\",\"2016-04-22T00:00:00\",\"2016-04-23T00:00:00\",\"2016-04-24T00:00:00\",\"2016-04-25T00:00:00\",\"2016-04-26T00:00:00\",\"2016-04-27T00:00:00\",\"2016-04-28T00:00:00\",\"2016-04-29T00:00:00\",\"2016-04-12T00:00:00\",\"2016-04-13T00:00:00\",\"2016-04-14T00:00:00\",\"2016-04-15T00:00:00\",\"2016-04-16T00:00:00\",\"2016-04-17T00:00:00\",\"2016-04-18T00:00:00\",\"2016-04-19T00:00:00\",\"2016-04-20T00:00:00\",\"2016-04-21T00:00:00\",\"2016-04-22T00:00:00\",\"2016-04-23T00:00:00\",\"2016-04-24T00:00:00\",\"2016-04-25T00:00:00\",\"2016-04-26T00:00:00\",\"2016-04-27T00:00:00\",\"2016-04-28T00:00:00\",\"2016-04-29T00:00:00\",\"2016-04-30T00:00:00\",\"2016-05-01T00:00:00\",\"2016-05-02T00:00:00\",\"2016-05-03T00:00:00\",\"2016-05-04T00:00:00\",\"2016-05-05T00:00:00\",\"2016-05-06T00:00:00\",\"2016-05-07T00:00:00\",\"2016-05-08T00:00:00\",\"2016-05-10T00:00:00\",\"2016-04-12T00:00:00\",\"2016-04-16T00:00:00\",\"2016-05-03T00:00:00\",\"2016-05-04T00:00:00\",\"2016-05-05T00:00:00\",\"2016-05-06T00:00:00\",\"2016-05-08T00:00:00\",\"2016-05-10T00:00:00\",\"2016-04-14T00:00:00\",\"2016-04-15T00:00:00\",\"2016-04-16T00:00:00\",\"2016-04-18T00:00:00\",\"2016-04-19T00:00:00\",\"2016-04-20T00:00:00\",\"2016-04-21T00:00:00\",\"2016-04-22T00:00:00\",\"2016-04-23T00:00:00\",\"2016-04-24T00:00:00\",\"2016-04-25T00:00:00\",\"2016-04-26T00:00:00\",\"2016-04-27T00:00:00\",\"2016-04-28T00:00:00\",\"2016-04-29T00:00:00\",\"2016-04-30T00:00:00\",\"2016-05-01T00:00:00\",\"2016-05-02T00:00:00\",\"2016-05-03T00:00:00\",\"2016-05-06T00:00:00\",\"2016-05-07T00:00:00\",\"2016-05-08T00:00:00\",\"2016-05-09T00:00:00\",\"2016-05-10T00:00:00\",\"2016-05-11T00:00:00\",\"2016-05-12T00:00:00\",\"2016-04-15T00:00:00\",\"2016-04-16T00:00:00\",\"2016-04-17T00:00:00\",\"2016-04-18T00:00:00\",\"2016-04-19T00:00:00\",\"2016-04-20T00:00:00\",\"2016-04-21T00:00:00\",\"2016-04-22T00:00:00\",\"2016-04-23T00:00:00\",\"2016-04-24T00:00:00\",\"2016-04-26T00:00:00\",\"2016-04-27T00:00:00\",\"2016-04-28T00:00:00\",\"2016-04-30T00:00:00\",\"2016-05-01T00:00:00\",\"2016-05-02T00:00:00\",\"2016-05-04T00:00:00\",\"2016-05-05T00:00:00\",\"2016-05-07T00:00:00\",\"2016-05-08T00:00:00\",\"2016-05-09T00:00:00\",\"2016-05-10T00:00:00\",\"2016-05-11T00:00:00\",\"2016-04-12T00:00:00\",\"2016-04-13T00:00:00\",\"2016-04-14T00:00:00\",\"2016-04-15T00:00:00\",\"2016-04-16T00:00:00\",\"2016-04-17T00:00:00\",\"2016-04-19T00:00:00\",\"2016-04-20T00:00:00\",\"2016-04-21T00:00:00\",\"2016-04-22T00:00:00\",\"2016-04-25T00:00:00\",\"2016-04-26T00:00:00\",\"2016-04-27T00:00:00\",\"2016-04-28T00:00:00\",\"2016-04-29T00:00:00\",\"2016-04-30T00:00:00\",\"2016-05-01T00:00:00\",\"2016-05-02T00:00:00\",\"2016-05-03T00:00:00\",\"2016-05-04T00:00:00\",\"2016-05-05T00:00:00\",\"2016-05-06T00:00:00\",\"2016-05-07T00:00:00\",\"2016-05-08T00:00:00\",\"2016-05-09T00:00:00\",\"2016-05-10T00:00:00\",\"2016-05-11T00:00:00\",\"2016-05-12T00:00:00\",\"2016-04-21T00:00:00\",\"2016-04-26T00:00:00\",\"2016-04-29T00:00:00\",\"2016-05-01T00:00:00\",\"2016-05-08T00:00:00\",\"2016-04-12T00:00:00\",\"2016-04-13T00:00:00\",\"2016-04-14T00:00:00\",\"2016-04-15T00:00:00\",\"2016-04-16T00:00:00\",\"2016-04-17T00:00:00\",\"2016-04-18T00:00:00\",\"2016-04-19T00:00:00\",\"2016-04-20T00:00:00\",\"2016-04-21T00:00:00\",\"2016-04-23T00:00:00\",\"2016-04-24T00:00:00\",\"2016-04-25T00:00:00\",\"2016-04-26T00:00:00\",\"2016-04-27T00:00:00\",\"2016-04-28T00:00:00\",\"2016-04-29T00:00:00\",\"2016-04-30T00:00:00\",\"2016-05-03T00:00:00\",\"2016-05-04T00:00:00\",\"2016-05-05T00:00:00\",\"2016-05-06T00:00:00\",\"2016-05-07T00:00:00\",\"2016-05-09T00:00:00\",\"2016-05-10T00:00:00\",\"2016-05-11T00:00:00\",\"2016-05-12T00:00:00\",\"2016-04-12T00:00:00\",\"2016-04-13T00:00:00\",\"2016-04-14T00:00:00\",\"2016-04-15T00:00:00\",\"2016-04-16T00:00:00\",\"2016-04-17T00:00:00\",\"2016-04-18T00:00:00\",\"2016-04-19T00:00:00\",\"2016-04-20T00:00:00\",\"2016-04-21T00:00:00\",\"2016-04-22T00:00:00\",\"2016-04-23T00:00:00\",\"2016-04-24T00:00:00\",\"2016-04-25T00:00:00\",\"2016-04-26T00:00:00\",\"2016-04-27T00:00:00\",\"2016-04-28T00:00:00\",\"2016-04-29T00:00:00\",\"2016-04-30T00:00:00\",\"2016-05-01T00:00:00\",\"2016-05-02T00:00:00\",\"2016-05-03T00:00:00\",\"2016-05-04T00:00:00\",\"2016-05-05T00:00:00\",\"2016-05-06T00:00:00\",\"2016-05-07T00:00:00\",\"2016-05-08T00:00:00\",\"2016-05-09T00:00:00\",\"2016-05-10T00:00:00\",\"2016-05-11T00:00:00\",\"2016-05-12T00:00:00\",\"2016-04-12T00:00:00\",\"2016-04-13T00:00:00\",\"2016-04-14T00:00:00\",\"2016-04-15T00:00:00\",\"2016-04-16T00:00:00\",\"2016-04-17T00:00:00\",\"2016-04-18T00:00:00\",\"2016-04-19T00:00:00\",\"2016-04-20T00:00:00\",\"2016-04-21T00:00:00\",\"2016-04-22T00:00:00\",\"2016-04-23T00:00:00\",\"2016-04-24T00:00:00\",\"2016-04-25T00:00:00\",\"2016-04-26T00:00:00\",\"2016-04-27T00:00:00\",\"2016-04-28T00:00:00\",\"2016-04-29T00:00:00\",\"2016-04-30T00:00:00\",\"2016-05-01T00:00:00\",\"2016-05-02T00:00:00\",\"2016-05-03T00:00:00\",\"2016-05-04T00:00:00\",\"2016-05-05T00:00:00\",\"2016-05-10T00:00:00\",\"2016-05-11T00:00:00\",\"2016-04-16T00:00:00\",\"2016-04-17T00:00:00\",\"2016-04-18T00:00:00\",\"2016-04-19T00:00:00\",\"2016-04-20T00:00:00\",\"2016-04-21T00:00:00\",\"2016-04-22T00:00:00\",\"2016-04-23T00:00:00\",\"2016-04-24T00:00:00\",\"2016-04-27T00:00:00\",\"2016-04-28T00:00:00\",\"2016-04-29T00:00:00\",\"2016-05-01T00:00:00\",\"2016-05-05T00:00:00\",\"2016-05-06T00:00:00\",\"2016-05-07T00:00:00\",\"2016-05-08T00:00:00\",\"2016-05-09T00:00:00\",\"2016-04-13T00:00:00\",\"2016-04-14T00:00:00\",\"2016-04-15T00:00:00\",\"2016-04-12T00:00:00\",\"2016-04-13T00:00:00\",\"2016-04-14T00:00:00\",\"2016-04-15T00:00:00\",\"2016-04-16T00:00:00\",\"2016-04-17T00:00:00\",\"2016-04-18T00:00:00\",\"2016-04-19T00:00:00\",\"2016-04-20T00:00:00\",\"2016-04-21T00:00:00\",\"2016-04-22T00:00:00\",\"2016-04-23T00:00:00\",\"2016-04-24T00:00:00\",\"2016-04-25T00:00:00\",\"2016-04-26T00:00:00\",\"2016-04-27T00:00:00\",\"2016-04-28T00:00:00\",\"2016-04-29T00:00:00\",\"2016-04-30T00:00:00\",\"2016-05-01T00:00:00\",\"2016-05-02T00:00:00\",\"2016-05-03T00:00:00\",\"2016-05-04T00:00:00\",\"2016-05-05T00:00:00\",\"2016-05-06T00:00:00\",\"2016-05-07T00:00:00\",\"2016-05-08T00:00:00\",\"2016-05-09T00:00:00\",\"2016-05-10T00:00:00\",\"2016-05-11T00:00:00\",\"2016-05-12T00:00:00\",\"2016-04-16T00:00:00\",\"2016-05-01T00:00:00\",\"2016-04-12T00:00:00\",\"2016-04-13T00:00:00\",\"2016-04-14T00:00:00\",\"2016-04-15T00:00:00\",\"2016-04-19T00:00:00\",\"2016-04-20T00:00:00\",\"2016-04-21T00:00:00\",\"2016-04-22T00:00:00\",\"2016-04-24T00:00:00\",\"2016-04-25T00:00:00\",\"2016-04-26T00:00:00\",\"2016-04-27T00:00:00\",\"2016-04-28T00:00:00\",\"2016-04-30T00:00:00\",\"2016-05-01T00:00:00\",\"2016-05-02T00:00:00\",\"2016-05-03T00:00:00\",\"2016-05-04T00:00:00\",\"2016-05-06T00:00:00\",\"2016-05-07T00:00:00\",\"2016-05-08T00:00:00\",\"2016-05-09T00:00:00\",\"2016-05-11T00:00:00\",\"2016-05-12T00:00:00\",\"2016-04-20T00:00:00\",\"2016-04-23T00:00:00\",\"2016-05-07T00:00:00\",\"2016-04-12T00:00:00\",\"2016-04-13T00:00:00\",\"2016-04-14T00:00:00\",\"2016-04-15T00:00:00\",\"2016-04-16T00:00:00\",\"2016-04-17T00:00:00\",\"2016-04-18T00:00:00\",\"2016-04-19T00:00:00\",\"2016-04-20T00:00:00\",\"2016-04-21T00:00:00\",\"2016-04-22T00:00:00\",\"2016-04-23T00:00:00\",\"2016-04-24T00:00:00\",\"2016-04-25T00:00:00\",\"2016-04-26T00:00:00\",\"2016-04-27T00:00:00\",\"2016-04-28T00:00:00\",\"2016-04-29T00:00:00\",\"2016-04-30T00:00:00\",\"2016-05-01T00:00:00\",\"2016-05-02T00:00:00\",\"2016-05-03T00:00:00\",\"2016-05-04T00:00:00\",\"2016-05-05T00:00:00\",\"2016-05-06T00:00:00\",\"2016-05-07T00:00:00\",\"2016-05-08T00:00:00\",\"2016-05-09T00:00:00\",\"2016-05-10T00:00:00\",\"2016-05-11T00:00:00\",\"2016-05-12T00:00:00\",\"2016-04-12T00:00:00\",\"2016-04-13T00:00:00\",\"2016-04-14T00:00:00\",\"2016-04-15T00:00:00\",\"2016-04-20T00:00:00\",\"2016-04-22T00:00:00\",\"2016-04-23T00:00:00\",\"2016-04-27T00:00:00\",\"2016-04-28T00:00:00\",\"2016-04-29T00:00:00\",\"2016-04-30T00:00:00\",\"2016-05-01T00:00:00\",\"2016-05-02T00:00:00\",\"2016-05-03T00:00:00\",\"2016-05-04T00:00:00\"],\"y\":[5.45,6.4,6.87,5.67,11.67,5.07,6.0,5.42,6.02,7.17,4.62,4.08,6.1,5.68,6.73,6.15,4.62,4.55,4.12,5.57,5.52,9.9,5.63,6.38,4.75,1.98,2.07,13.27,2.28,10.73,12.03,9.83,12.5,6.63,7.92,4.93,2.77,8.38,8.85,9.08,8.72,8.73,7.28,8.3,7.68,7.95,8.67,8.7,9.25,8.43,8.47,8.55,8.17,9.55,8.78,8.52,8.97,7.8,8.73,8.52,9.02,8.85,5.95,8.72,7.6,1.02,7.78,7.42,7.53,9.27,8.33,7.75,7.67,6.75,6.23,7.37,7.22,7.27,7.47,6.8,6.85,4.57,4.92,4.85,7.07,4.72,6.35,6.87,3.65,2.53,5.53,5.92,3.92,5.17,4.37,4.17,5.82,4.35,5.55,3.95,6.38,3.83,4.87,3.55,5.3,5.38,3.95,4.32,5.2,8.35,1.28,5.37,7.97,3.77,6.42,6.07,7.37,8.92,7.75,8.43,8.58,7.68,8.72,0.98,8.88,11.53,7.78,8.13,8.42,4.77,8.28,8.72,8.17,8.07,7.97,7.9,7.5,8.45,10.03,8.92,8.12,8.82,5.03,8.32,7.1,10.32,1.65,5.48,7.02,7.37,1.37,7.97,9.2,5.32,7.32,7.13,6.82,9.12,6.13,6.5,7.85,7.87,8.82,1.03,5.9,7.82,7.15,6.17,7.35,5.62,7.7,1.63,6.47,7.32,7.27,6.47,5.47,5.88,5.53,6.98,1.77,5.37,7.32,8.37,6.95,5.62,7.7,6.23,6.68,6.02,7.62,6.75,8.32,8.05,2.1,1.72,2.85,1.92,2.05,7.08,6.67,6.4,4.22,6.37,9.85,4.88,7.62,7.57,7.08,7.75,8.0,6.17,7.02,7.2,7.37,7.22,7.98,5.45,6.87,6.9,6.73,8.67,7.25,6.93,5.9,6.73,7.35,7.58,5.95,6.28,10.85,5.83,8.67,5.95,10.97,6.65,5.37,10.52,9.22,7.22,6.87,5.78,7.02,7.5,12.92,10.37,6.82,6.33,7.45,6.98,6.67,7.37,9.47,7.55,6.97,7.72,7.3,6.98,7.2,7.95,6.53,6.77,9.15,8.78,7.48,7.45,6.9,5.63,6.4,9.05,7.02,5.9,7.07,6.02,7.65,6.87,6.32,8.75,8.47,10.05,1.23,8.4,7.18,6.33,5.6,8.22,7.75,7.9,8.47,8.0,8.2,5.88,9.03,6.55,10.0,8.45,6.53,10.97,8.3,9.25,8.2,3.92,7.05,6.52,6.1,10.5,8.47,6.17,5.95,7.12,7.37,7.93,6.97,7.52,7.08,8.8,8.52,6.67,7.35,7.58,7.33,7.22,7.03,6.85,7.77,6.57,7.37,7.78,7.38,4.97,9.02,8.15,7.82,7.53,8.6,1.32,0.97,8.57,7.52,7.87,6.28,7.87,8.2,6.5,7.13,11.35,7.43,8.08,7.82,5.9,8.08,6.47,7.33,7.6,7.0,5.37,8.83,8.02,7.12,7.52,7.4,8.1,5.52,1.23,5.63,7.45,7.07,8.55,10.18,8.75,6.63,6.45,6.35,6.6,7.35,9.42,7.63,6.47,9.17,8.85,8.43,8.78,7.8,7.92,5.85,6.75,7.35,6.35,5.38,7.65,9.08,5.98,5.7,6.13,8.27,7.63,8.85,8.1,6.05,8.8,6.52,5.65,7.05,6.7,6.63,5.72,8.38,6.92,8.6,7.32],\"type\":\"scatter\"},{\"hovertemplate\":\"Average Hours Sleep: %{x}\\u003cbr\\u003e%{y}\",\"line\":{\"color\":\"grey\",\"dash\":\"dashdot\"},\"mode\":\"lines\",\"name\":\"\",\"x\":[\"2016-04-12T00:00:00\",\"2016-04-13T00:00:00\",\"2016-04-14T00:00:00\",\"2016-04-15T00:00:00\",\"2016-04-16T00:00:00\",\"2016-04-17T00:00:00\",\"2016-04-18T00:00:00\",\"2016-04-19T00:00:00\",\"2016-04-20T00:00:00\",\"2016-04-21T00:00:00\",\"2016-04-22T00:00:00\",\"2016-04-23T00:00:00\",\"2016-04-24T00:00:00\",\"2016-04-25T00:00:00\",\"2016-04-26T00:00:00\",\"2016-04-27T00:00:00\",\"2016-04-28T00:00:00\",\"2016-04-29T00:00:00\",\"2016-04-30T00:00:00\",\"2016-05-01T00:00:00\",\"2016-05-02T00:00:00\",\"2016-05-03T00:00:00\",\"2016-05-04T00:00:00\",\"2016-05-05T00:00:00\",\"2016-05-06T00:00:00\",\"2016-05-07T00:00:00\",\"2016-05-08T00:00:00\",\"2016-05-09T00:00:00\",\"2016-05-10T00:00:00\",\"2016-05-11T00:00:00\",\"2016-05-12T00:00:00\"],\"y\":[7.365384615384615,7.173809523809524,7.420512820512821,7.124509803921569,6.5285714285714285,7.734722222222222,6.998333333333333,6.817857142857142,7.437777777777778,6.266666666666667,6.5487179487179485,7.175555555555556,8.121794871794872,6.6,6.154761904761904,7.125,6.642708333333333,6.437777777777778,7.405555555555555,7.080208333333333,7.394871794871794,6.616666666666666,7.166666666666667,6.026388888888889,6.861111111111112,6.769230769230769,7.3809523809523805,6.9363636363636365,6.790277777777778,7.3090909090909095,7.372916666666667],\"type\":\"scatter\"}],                        {\"template\":{\"data\":{\"histogram2dcontour\":[{\"type\":\"histogram2dcontour\",\"colorbar\":{\"outlinewidth\":0,\"ticks\":\"\"},\"colorscale\":[[0.0,\"#0d0887\"],[0.1111111111111111,\"#46039f\"],[0.2222222222222222,\"#7201a8\"],[0.3333333333333333,\"#9c179e\"],[0.4444444444444444,\"#bd3786\"],[0.5555555555555556,\"#d8576b\"],[0.6666666666666666,\"#ed7953\"],[0.7777777777777778,\"#fb9f3a\"],[0.8888888888888888,\"#fdca26\"],[1.0,\"#f0f921\"]]}],\"choropleth\":[{\"type\":\"choropleth\",\"colorbar\":{\"outlinewidth\":0,\"ticks\":\"\"}}],\"histogram2d\":[{\"type\":\"histogram2d\",\"colorbar\":{\"outlinewidth\":0,\"ticks\":\"\"},\"colorscale\":[[0.0,\"#0d0887\"],[0.1111111111111111,\"#46039f\"],[0.2222222222222222,\"#7201a8\"],[0.3333333333333333,\"#9c179e\"],[0.4444444444444444,\"#bd3786\"],[0.5555555555555556,\"#d8576b\"],[0.6666666666666666,\"#ed7953\"],[0.7777777777777778,\"#fb9f3a\"],[0.8888888888888888,\"#fdca26\"],[1.0,\"#f0f921\"]]}],\"heatmap\":[{\"type\":\"heatmap\",\"colorbar\":{\"outlinewidth\":0,\"ticks\":\"\"},\"colorscale\":[[0.0,\"#0d0887\"],[0.1111111111111111,\"#46039f\"],[0.2222222222222222,\"#7201a8\"],[0.3333333333333333,\"#9c179e\"],[0.4444444444444444,\"#bd3786\"],[0.5555555555555556,\"#d8576b\"],[0.6666666666666666,\"#ed7953\"],[0.7777777777777778,\"#fb9f3a\"],[0.8888888888888888,\"#fdca26\"],[1.0,\"#f0f921\"]]}],\"heatmapgl\":[{\"type\":\"heatmapgl\",\"colorbar\":{\"outlinewidth\":0,\"ticks\":\"\"},\"colorscale\":[[0.0,\"#0d0887\"],[0.1111111111111111,\"#46039f\"],[0.2222222222222222,\"#7201a8\"],[0.3333333333333333,\"#9c179e\"],[0.4444444444444444,\"#bd3786\"],[0.5555555555555556,\"#d8576b\"],[0.6666666666666666,\"#ed7953\"],[0.7777777777777778,\"#fb9f3a\"],[0.8888888888888888,\"#fdca26\"],[1.0,\"#f0f921\"]]}],\"contourcarpet\":[{\"type\":\"contourcarpet\",\"colorbar\":{\"outlinewidth\":0,\"ticks\":\"\"}}],\"contour\":[{\"type\":\"contour\",\"colorbar\":{\"outlinewidth\":0,\"ticks\":\"\"},\"colorscale\":[[0.0,\"#0d0887\"],[0.1111111111111111,\"#46039f\"],[0.2222222222222222,\"#7201a8\"],[0.3333333333333333,\"#9c179e\"],[0.4444444444444444,\"#bd3786\"],[0.5555555555555556,\"#d8576b\"],[0.6666666666666666,\"#ed7953\"],[0.7777777777777778,\"#fb9f3a\"],[0.8888888888888888,\"#fdca26\"],[1.0,\"#f0f921\"]]}],\"surface\":[{\"type\":\"surface\",\"colorbar\":{\"outlinewidth\":0,\"ticks\":\"\"},\"colorscale\":[[0.0,\"#0d0887\"],[0.1111111111111111,\"#46039f\"],[0.2222222222222222,\"#7201a8\"],[0.3333333333333333,\"#9c179e\"],[0.4444444444444444,\"#bd3786\"],[0.5555555555555556,\"#d8576b\"],[0.6666666666666666,\"#ed7953\"],[0.7777777777777778,\"#fb9f3a\"],[0.8888888888888888,\"#fdca26\"],[1.0,\"#f0f921\"]]}],\"mesh3d\":[{\"type\":\"mesh3d\",\"colorbar\":{\"outlinewidth\":0,\"ticks\":\"\"}}],\"scatter\":[{\"fillpattern\":{\"fillmode\":\"overlay\",\"size\":10,\"solidity\":0.2},\"type\":\"scatter\"}],\"parcoords\":[{\"type\":\"parcoords\",\"line\":{\"colorbar\":{\"outlinewidth\":0,\"ticks\":\"\"}}}],\"scatterpolargl\":[{\"type\":\"scatterpolargl\",\"marker\":{\"colorbar\":{\"outlinewidth\":0,\"ticks\":\"\"}}}],\"bar\":[{\"error_x\":{\"color\":\"#2a3f5f\"},\"error_y\":{\"color\":\"#2a3f5f\"},\"marker\":{\"line\":{\"color\":\"#E5ECF6\",\"width\":0.5},\"pattern\":{\"fillmode\":\"overlay\",\"size\":10,\"solidity\":0.2}},\"type\":\"bar\"}],\"scattergeo\":[{\"type\":\"scattergeo\",\"marker\":{\"colorbar\":{\"outlinewidth\":0,\"ticks\":\"\"}}}],\"scatterpolar\":[{\"type\":\"scatterpolar\",\"marker\":{\"colorbar\":{\"outlinewidth\":0,\"ticks\":\"\"}}}],\"histogram\":[{\"marker\":{\"pattern\":{\"fillmode\":\"overlay\",\"size\":10,\"solidity\":0.2}},\"type\":\"histogram\"}],\"scattergl\":[{\"type\":\"scattergl\",\"marker\":{\"colorbar\":{\"outlinewidth\":0,\"ticks\":\"\"}}}],\"scatter3d\":[{\"type\":\"scatter3d\",\"line\":{\"colorbar\":{\"outlinewidth\":0,\"ticks\":\"\"}},\"marker\":{\"colorbar\":{\"outlinewidth\":0,\"ticks\":\"\"}}}],\"scattermapbox\":[{\"type\":\"scattermapbox\",\"marker\":{\"colorbar\":{\"outlinewidth\":0,\"ticks\":\"\"}}}],\"scatterternary\":[{\"type\":\"scatterternary\",\"marker\":{\"colorbar\":{\"outlinewidth\":0,\"ticks\":\"\"}}}],\"scattercarpet\":[{\"type\":\"scattercarpet\",\"marker\":{\"colorbar\":{\"outlinewidth\":0,\"ticks\":\"\"}}}],\"carpet\":[{\"aaxis\":{\"endlinecolor\":\"#2a3f5f\",\"gridcolor\":\"white\",\"linecolor\":\"white\",\"minorgridcolor\":\"white\",\"startlinecolor\":\"#2a3f5f\"},\"baxis\":{\"endlinecolor\":\"#2a3f5f\",\"gridcolor\":\"white\",\"linecolor\":\"white\",\"minorgridcolor\":\"white\",\"startlinecolor\":\"#2a3f5f\"},\"type\":\"carpet\"}],\"table\":[{\"cells\":{\"fill\":{\"color\":\"#EBF0F8\"},\"line\":{\"color\":\"white\"}},\"header\":{\"fill\":{\"color\":\"#C8D4E3\"},\"line\":{\"color\":\"white\"}},\"type\":\"table\"}],\"barpolar\":[{\"marker\":{\"line\":{\"color\":\"#E5ECF6\",\"width\":0.5},\"pattern\":{\"fillmode\":\"overlay\",\"size\":10,\"solidity\":0.2}},\"type\":\"barpolar\"}],\"pie\":[{\"automargin\":true,\"type\":\"pie\"}]},\"layout\":{\"autotypenumbers\":\"strict\",\"colorway\":[\"#636efa\",\"#EF553B\",\"#00cc96\",\"#ab63fa\",\"#FFA15A\",\"#19d3f3\",\"#FF6692\",\"#B6E880\",\"#FF97FF\",\"#FECB52\"],\"font\":{\"color\":\"#2a3f5f\"},\"hovermode\":\"closest\",\"hoverlabel\":{\"align\":\"left\"},\"paper_bgcolor\":\"white\",\"plot_bgcolor\":\"#E5ECF6\",\"polar\":{\"bgcolor\":\"#E5ECF6\",\"angularaxis\":{\"gridcolor\":\"white\",\"linecolor\":\"white\",\"ticks\":\"\"},\"radialaxis\":{\"gridcolor\":\"white\",\"linecolor\":\"white\",\"ticks\":\"\"}},\"ternary\":{\"bgcolor\":\"#E5ECF6\",\"aaxis\":{\"gridcolor\":\"white\",\"linecolor\":\"white\",\"ticks\":\"\"},\"baxis\":{\"gridcolor\":\"white\",\"linecolor\":\"white\",\"ticks\":\"\"},\"caxis\":{\"gridcolor\":\"white\",\"linecolor\":\"white\",\"ticks\":\"\"}},\"coloraxis\":{\"colorbar\":{\"outlinewidth\":0,\"ticks\":\"\"}},\"colorscale\":{\"sequential\":[[0.0,\"#0d0887\"],[0.1111111111111111,\"#46039f\"],[0.2222222222222222,\"#7201a8\"],[0.3333333333333333,\"#9c179e\"],[0.4444444444444444,\"#bd3786\"],[0.5555555555555556,\"#d8576b\"],[0.6666666666666666,\"#ed7953\"],[0.7777777777777778,\"#fb9f3a\"],[0.8888888888888888,\"#fdca26\"],[1.0,\"#f0f921\"]],\"sequentialminus\":[[0.0,\"#0d0887\"],[0.1111111111111111,\"#46039f\"],[0.2222222222222222,\"#7201a8\"],[0.3333333333333333,\"#9c179e\"],[0.4444444444444444,\"#bd3786\"],[0.5555555555555556,\"#d8576b\"],[0.6666666666666666,\"#ed7953\"],[0.7777777777777778,\"#fb9f3a\"],[0.8888888888888888,\"#fdca26\"],[1.0,\"#f0f921\"]],\"diverging\":[[0,\"#8e0152\"],[0.1,\"#c51b7d\"],[0.2,\"#de77ae\"],[0.3,\"#f1b6da\"],[0.4,\"#fde0ef\"],[0.5,\"#f7f7f7\"],[0.6,\"#e6f5d0\"],[0.7,\"#b8e186\"],[0.8,\"#7fbc41\"],[0.9,\"#4d9221\"],[1,\"#276419\"]]},\"xaxis\":{\"gridcolor\":\"white\",\"linecolor\":\"white\",\"ticks\":\"\",\"title\":{\"standoff\":15},\"zerolinecolor\":\"white\",\"automargin\":true,\"zerolinewidth\":2},\"yaxis\":{\"gridcolor\":\"white\",\"linecolor\":\"white\",\"ticks\":\"\",\"title\":{\"standoff\":15},\"zerolinecolor\":\"white\",\"automargin\":true,\"zerolinewidth\":2},\"scene\":{\"xaxis\":{\"backgroundcolor\":\"#E5ECF6\",\"gridcolor\":\"white\",\"linecolor\":\"white\",\"showbackground\":true,\"ticks\":\"\",\"zerolinecolor\":\"white\",\"gridwidth\":2},\"yaxis\":{\"backgroundcolor\":\"#E5ECF6\",\"gridcolor\":\"white\",\"linecolor\":\"white\",\"showbackground\":true,\"ticks\":\"\",\"zerolinecolor\":\"white\",\"gridwidth\":2},\"zaxis\":{\"backgroundcolor\":\"#E5ECF6\",\"gridcolor\":\"white\",\"linecolor\":\"white\",\"showbackground\":true,\"ticks\":\"\",\"zerolinecolor\":\"white\",\"gridwidth\":2}},\"shapedefaults\":{\"line\":{\"color\":\"#2a3f5f\"}},\"annotationdefaults\":{\"arrowcolor\":\"#2a3f5f\",\"arrowhead\":0,\"arrowwidth\":1},\"geo\":{\"bgcolor\":\"white\",\"landcolor\":\"#E5ECF6\",\"subunitcolor\":\"white\",\"showland\":true,\"showlakes\":true,\"lakecolor\":\"white\"},\"title\":{\"x\":0.05},\"mapbox\":{\"style\":\"light\"}}},\"xaxis\":{\"title\":{\"text\":\"Date\"},\"tickvals\":[\"2016-04-12T00:00:00\",\"2016-04-13T00:00:00\",\"2016-04-15T00:00:00\",\"2016-04-16T00:00:00\",\"2016-04-17T00:00:00\",\"2016-04-19T00:00:00\",\"2016-04-20T00:00:00\",\"2016-04-21T00:00:00\",\"2016-04-23T00:00:00\",\"2016-04-24T00:00:00\",\"2016-04-25T00:00:00\",\"2016-04-26T00:00:00\",\"2016-04-28T00:00:00\",\"2016-04-29T00:00:00\",\"2016-04-30T00:00:00\",\"2016-05-01T00:00:00\",\"2016-05-02T00:00:00\",\"2016-05-03T00:00:00\",\"2016-05-05T00:00:00\",\"2016-05-06T00:00:00\",\"2016-05-07T00:00:00\",\"2016-05-08T00:00:00\",\"2016-05-09T00:00:00\",\"2016-05-10T00:00:00\",\"2016-05-11T00:00:00\",\"2016-04-29T00:00:00\",\"2016-04-30T00:00:00\",\"2016-05-02T00:00:00\",\"2016-05-08T00:00:00\",\"2016-04-15T00:00:00\",\"2016-04-30T00:00:00\",\"2016-05-01T00:00:00\",\"2016-04-12T00:00:00\",\"2016-04-13T00:00:00\",\"2016-04-15T00:00:00\",\"2016-04-26T00:00:00\",\"2016-04-28T00:00:00\",\"2016-04-12T00:00:00\",\"2016-04-13T00:00:00\",\"2016-04-14T00:00:00\",\"2016-04-15T00:00:00\",\"2016-04-16T00:00:00\",\"2016-04-17T00:00:00\",\"2016-04-19T00:00:00\",\"2016-04-20T00:00:00\",\"2016-04-21T00:00:00\",\"2016-04-22T00:00:00\",\"2016-04-23T00:00:00\",\"2016-04-24T00:00:00\",\"2016-04-25T00:00:00\",\"2016-04-27T00:00:00\",\"2016-04-28T00:00:00\",\"2016-04-29T00:00:00\",\"2016-04-30T00:00:00\",\"2016-05-01T00:00:00\",\"2016-05-02T00:00:00\",\"2016-05-04T00:00:00\",\"2016-05-05T00:00:00\",\"2016-05-06T00:00:00\",\"2016-05-07T00:00:00\",\"2016-05-08T00:00:00\",\"2016-05-09T00:00:00\",\"2016-05-10T00:00:00\",\"2016-05-11T00:00:00\",\"2016-05-12T00:00:00\",\"2016-04-23T00:00:00\",\"2016-04-13T00:00:00\",\"2016-04-14T00:00:00\",\"2016-04-15T00:00:00\",\"2016-04-17T00:00:00\",\"2016-04-18T00:00:00\",\"2016-04-19T00:00:00\",\"2016-04-21T00:00:00\",\"2016-04-22T00:00:00\",\"2016-04-23T00:00:00\",\"2016-04-24T00:00:00\",\"2016-04-25T00:00:00\",\"2016-04-26T00:00:00\",\"2016-04-27T00:00:00\",\"2016-04-28T00:00:00\",\"2016-04-29T00:00:00\",\"2016-04-12T00:00:00\",\"2016-04-13T00:00:00\",\"2016-04-14T00:00:00\",\"2016-04-15T00:00:00\",\"2016-04-16T00:00:00\",\"2016-04-17T00:00:00\",\"2016-04-18T00:00:00\",\"2016-04-19T00:00:00\",\"2016-04-20T00:00:00\",\"2016-04-21T00:00:00\",\"2016-04-22T00:00:00\",\"2016-04-23T00:00:00\",\"2016-04-24T00:00:00\",\"2016-04-25T00:00:00\",\"2016-04-26T00:00:00\",\"2016-04-27T00:00:00\",\"2016-04-28T00:00:00\",\"2016-04-29T00:00:00\",\"2016-04-30T00:00:00\",\"2016-05-01T00:00:00\",\"2016-05-02T00:00:00\",\"2016-05-03T00:00:00\",\"2016-05-04T00:00:00\",\"2016-05-05T00:00:00\",\"2016-05-06T00:00:00\",\"2016-05-07T00:00:00\",\"2016-05-08T00:00:00\",\"2016-05-10T00:00:00\",\"2016-04-12T00:00:00\",\"2016-04-16T00:00:00\",\"2016-05-03T00:00:00\",\"2016-05-04T00:00:00\",\"2016-05-05T00:00:00\",\"2016-05-06T00:00:00\",\"2016-05-08T00:00:00\",\"2016-05-10T00:00:00\",\"2016-04-14T00:00:00\",\"2016-04-15T00:00:00\",\"2016-04-16T00:00:00\",\"2016-04-18T00:00:00\",\"2016-04-19T00:00:00\",\"2016-04-20T00:00:00\",\"2016-04-21T00:00:00\",\"2016-04-22T00:00:00\",\"2016-04-23T00:00:00\",\"2016-04-24T00:00:00\",\"2016-04-25T00:00:00\",\"2016-04-26T00:00:00\",\"2016-04-27T00:00:00\",\"2016-04-28T00:00:00\",\"2016-04-29T00:00:00\",\"2016-04-30T00:00:00\",\"2016-05-01T00:00:00\",\"2016-05-02T00:00:00\",\"2016-05-03T00:00:00\",\"2016-05-06T00:00:00\",\"2016-05-07T00:00:00\",\"2016-05-08T00:00:00\",\"2016-05-09T00:00:00\",\"2016-05-10T00:00:00\",\"2016-05-11T00:00:00\",\"2016-05-12T00:00:00\",\"2016-04-15T00:00:00\",\"2016-04-16T00:00:00\",\"2016-04-17T00:00:00\",\"2016-04-18T00:00:00\",\"2016-04-19T00:00:00\",\"2016-04-20T00:00:00\",\"2016-04-21T00:00:00\",\"2016-04-22T00:00:00\",\"2016-04-23T00:00:00\",\"2016-04-24T00:00:00\",\"2016-04-26T00:00:00\",\"2016-04-27T00:00:00\",\"2016-04-28T00:00:00\",\"2016-04-30T00:00:00\",\"2016-05-01T00:00:00\",\"2016-05-02T00:00:00\",\"2016-05-04T00:00:00\",\"2016-05-05T00:00:00\",\"2016-05-07T00:00:00\",\"2016-05-08T00:00:00\",\"2016-05-09T00:00:00\",\"2016-05-10T00:00:00\",\"2016-05-11T00:00:00\",\"2016-04-12T00:00:00\",\"2016-04-13T00:00:00\",\"2016-04-14T00:00:00\",\"2016-04-15T00:00:00\",\"2016-04-16T00:00:00\",\"2016-04-17T00:00:00\",\"2016-04-19T00:00:00\",\"2016-04-20T00:00:00\",\"2016-04-21T00:00:00\",\"2016-04-22T00:00:00\",\"2016-04-25T00:00:00\",\"2016-04-26T00:00:00\",\"2016-04-27T00:00:00\",\"2016-04-28T00:00:00\",\"2016-04-29T00:00:00\",\"2016-04-30T00:00:00\",\"2016-05-01T00:00:00\",\"2016-05-02T00:00:00\",\"2016-05-03T00:00:00\",\"2016-05-04T00:00:00\",\"2016-05-05T00:00:00\",\"2016-05-06T00:00:00\",\"2016-05-07T00:00:00\",\"2016-05-08T00:00:00\",\"2016-05-09T00:00:00\",\"2016-05-10T00:00:00\",\"2016-05-11T00:00:00\",\"2016-05-12T00:00:00\",\"2016-04-21T00:00:00\",\"2016-04-26T00:00:00\",\"2016-04-29T00:00:00\",\"2016-05-01T00:00:00\",\"2016-05-08T00:00:00\",\"2016-04-12T00:00:00\",\"2016-04-13T00:00:00\",\"2016-04-14T00:00:00\",\"2016-04-15T00:00:00\",\"2016-04-16T00:00:00\",\"2016-04-17T00:00:00\",\"2016-04-18T00:00:00\",\"2016-04-19T00:00:00\",\"2016-04-20T00:00:00\",\"2016-04-21T00:00:00\",\"2016-04-23T00:00:00\",\"2016-04-24T00:00:00\",\"2016-04-25T00:00:00\",\"2016-04-26T00:00:00\",\"2016-04-27T00:00:00\",\"2016-04-28T00:00:00\",\"2016-04-29T00:00:00\",\"2016-04-30T00:00:00\",\"2016-05-03T00:00:00\",\"2016-05-04T00:00:00\",\"2016-05-05T00:00:00\",\"2016-05-06T00:00:00\",\"2016-05-07T00:00:00\",\"2016-05-09T00:00:00\",\"2016-05-10T00:00:00\",\"2016-05-11T00:00:00\",\"2016-05-12T00:00:00\",\"2016-04-12T00:00:00\",\"2016-04-13T00:00:00\",\"2016-04-14T00:00:00\",\"2016-04-15T00:00:00\",\"2016-04-16T00:00:00\",\"2016-04-17T00:00:00\",\"2016-04-18T00:00:00\",\"2016-04-19T00:00:00\",\"2016-04-20T00:00:00\",\"2016-04-21T00:00:00\",\"2016-04-22T00:00:00\",\"2016-04-23T00:00:00\",\"2016-04-24T00:00:00\",\"2016-04-25T00:00:00\",\"2016-04-26T00:00:00\",\"2016-04-27T00:00:00\",\"2016-04-28T00:00:00\",\"2016-04-29T00:00:00\",\"2016-04-30T00:00:00\",\"2016-05-01T00:00:00\",\"2016-05-02T00:00:00\",\"2016-05-03T00:00:00\",\"2016-05-04T00:00:00\",\"2016-05-05T00:00:00\",\"2016-05-06T00:00:00\",\"2016-05-07T00:00:00\",\"2016-05-08T00:00:00\",\"2016-05-09T00:00:00\",\"2016-05-10T00:00:00\",\"2016-05-11T00:00:00\",\"2016-05-12T00:00:00\",\"2016-04-12T00:00:00\",\"2016-04-13T00:00:00\",\"2016-04-14T00:00:00\",\"2016-04-15T00:00:00\",\"2016-04-16T00:00:00\",\"2016-04-17T00:00:00\",\"2016-04-18T00:00:00\",\"2016-04-19T00:00:00\",\"2016-04-20T00:00:00\",\"2016-04-21T00:00:00\",\"2016-04-22T00:00:00\",\"2016-04-23T00:00:00\",\"2016-04-24T00:00:00\",\"2016-04-25T00:00:00\",\"2016-04-26T00:00:00\",\"2016-04-27T00:00:00\",\"2016-04-28T00:00:00\",\"2016-04-29T00:00:00\",\"2016-04-30T00:00:00\",\"2016-05-01T00:00:00\",\"2016-05-02T00:00:00\",\"2016-05-03T00:00:00\",\"2016-05-04T00:00:00\",\"2016-05-05T00:00:00\",\"2016-05-10T00:00:00\",\"2016-05-11T00:00:00\",\"2016-04-16T00:00:00\",\"2016-04-17T00:00:00\",\"2016-04-18T00:00:00\",\"2016-04-19T00:00:00\",\"2016-04-20T00:00:00\",\"2016-04-21T00:00:00\",\"2016-04-22T00:00:00\",\"2016-04-23T00:00:00\",\"2016-04-24T00:00:00\",\"2016-04-27T00:00:00\",\"2016-04-28T00:00:00\",\"2016-04-29T00:00:00\",\"2016-05-01T00:00:00\",\"2016-05-05T00:00:00\",\"2016-05-06T00:00:00\",\"2016-05-07T00:00:00\",\"2016-05-08T00:00:00\",\"2016-05-09T00:00:00\",\"2016-04-13T00:00:00\",\"2016-04-14T00:00:00\",\"2016-04-15T00:00:00\",\"2016-04-12T00:00:00\",\"2016-04-13T00:00:00\",\"2016-04-14T00:00:00\",\"2016-04-15T00:00:00\",\"2016-04-16T00:00:00\",\"2016-04-17T00:00:00\",\"2016-04-18T00:00:00\",\"2016-04-19T00:00:00\",\"2016-04-20T00:00:00\",\"2016-04-21T00:00:00\",\"2016-04-22T00:00:00\",\"2016-04-23T00:00:00\",\"2016-04-24T00:00:00\",\"2016-04-25T00:00:00\",\"2016-04-26T00:00:00\",\"2016-04-27T00:00:00\",\"2016-04-28T00:00:00\",\"2016-04-29T00:00:00\",\"2016-04-30T00:00:00\",\"2016-05-01T00:00:00\",\"2016-05-02T00:00:00\",\"2016-05-03T00:00:00\",\"2016-05-04T00:00:00\",\"2016-05-05T00:00:00\",\"2016-05-06T00:00:00\",\"2016-05-07T00:00:00\",\"2016-05-08T00:00:00\",\"2016-05-09T00:00:00\",\"2016-05-10T00:00:00\",\"2016-05-11T00:00:00\",\"2016-05-12T00:00:00\",\"2016-04-16T00:00:00\",\"2016-05-01T00:00:00\",\"2016-04-12T00:00:00\",\"2016-04-13T00:00:00\",\"2016-04-14T00:00:00\",\"2016-04-15T00:00:00\",\"2016-04-19T00:00:00\",\"2016-04-20T00:00:00\",\"2016-04-21T00:00:00\",\"2016-04-22T00:00:00\",\"2016-04-24T00:00:00\",\"2016-04-25T00:00:00\",\"2016-04-26T00:00:00\",\"2016-04-27T00:00:00\",\"2016-04-28T00:00:00\",\"2016-04-30T00:00:00\",\"2016-05-01T00:00:00\",\"2016-05-02T00:00:00\",\"2016-05-03T00:00:00\",\"2016-05-04T00:00:00\",\"2016-05-06T00:00:00\",\"2016-05-07T00:00:00\",\"2016-05-08T00:00:00\",\"2016-05-09T00:00:00\",\"2016-05-11T00:00:00\",\"2016-05-12T00:00:00\",\"2016-04-20T00:00:00\",\"2016-04-23T00:00:00\",\"2016-05-07T00:00:00\",\"2016-04-12T00:00:00\",\"2016-04-13T00:00:00\",\"2016-04-14T00:00:00\",\"2016-04-15T00:00:00\",\"2016-04-16T00:00:00\",\"2016-04-17T00:00:00\",\"2016-04-18T00:00:00\",\"2016-04-19T00:00:00\",\"2016-04-20T00:00:00\",\"2016-04-21T00:00:00\",\"2016-04-22T00:00:00\",\"2016-04-23T00:00:00\",\"2016-04-24T00:00:00\",\"2016-04-25T00:00:00\",\"2016-04-26T00:00:00\",\"2016-04-27T00:00:00\",\"2016-04-28T00:00:00\",\"2016-04-29T00:00:00\",\"2016-04-30T00:00:00\",\"2016-05-01T00:00:00\",\"2016-05-02T00:00:00\",\"2016-05-03T00:00:00\",\"2016-05-04T00:00:00\",\"2016-05-05T00:00:00\",\"2016-05-06T00:00:00\",\"2016-05-07T00:00:00\",\"2016-05-08T00:00:00\",\"2016-05-09T00:00:00\",\"2016-05-10T00:00:00\",\"2016-05-11T00:00:00\",\"2016-05-12T00:00:00\",\"2016-04-12T00:00:00\",\"2016-04-13T00:00:00\",\"2016-04-14T00:00:00\",\"2016-04-15T00:00:00\",\"2016-04-20T00:00:00\",\"2016-04-22T00:00:00\",\"2016-04-23T00:00:00\",\"2016-04-27T00:00:00\",\"2016-04-28T00:00:00\",\"2016-04-29T00:00:00\",\"2016-04-30T00:00:00\",\"2016-05-01T00:00:00\",\"2016-05-02T00:00:00\",\"2016-05-03T00:00:00\",\"2016-05-04T00:00:00\"],\"tickangle\":-30},\"title\":{\"text\":\"Hours sleep per Date for all users\"},\"yaxis\":{\"title\":{\"text\":\"Hours of sleep\"}},\"height\":750},                        {\"responsive\": true}                    ).then(function(){\n",
       "                            \n",
       "var gd = document.getElementById('532a94ec-f92a-4f60-abc7-e37e33cb36c0');\n",
       "var x = new MutationObserver(function (mutations, observer) {{\n",
       "        var display = window.getComputedStyle(gd).display;\n",
       "        if (!display || display === 'none') {{\n",
       "            console.log([gd, 'removed!']);\n",
       "            Plotly.purge(gd);\n",
       "            observer.disconnect();\n",
       "        }}\n",
       "}});\n",
       "\n",
       "// Listen for the removal of the full notebook cells\n",
       "var notebookContainer = gd.closest('#notebook-container');\n",
       "if (notebookContainer) {{\n",
       "    x.observe(notebookContainer, {childList: true});\n",
       "}}\n",
       "\n",
       "// Listen for the clearing of the current output cell\n",
       "var outputEl = gd.closest('.output');\n",
       "if (outputEl) {{\n",
       "    x.observe(outputEl, {childList: true});\n",
       "}}\n",
       "\n",
       "                        })                };                });            </script>        </div>"
      ]
     },
     "metadata": {},
     "output_type": "display_data"
    },
    {
     "name": "stdout",
     "output_type": "stream",
     "text": [
      "Average hours slept across entire dataset: 6.99\n"
     ]
    }
   ],
   "source": [
    "# Filter DataFrame to include only rows where TotalMinutesAsleep is greater than 0\n",
    "sleep_data = df_activity[df_activity['TotalMinutesAsleep'] > 0]\n",
    "\n",
    "# Calculate average hours of sleep per day\n",
    "average_hours_of_sleep_per_day = sleep_data.groupby('ActivityDate')['TotalMinutesAsleep'].mean() / 60\n",
    "\n",
    "# Create a scatter plot\n",
    "fig = go.Figure(data=go.Scatter(x=sleep_data['ActivityDate'], y=round(sleep_data['TotalMinutesAsleep'] / 60,2), mode='markers',\n",
    "                                hovertemplate='Hours Sleep: %{x}<br>%{y}', marker=dict(color=sleep_data['TotalMinutesAsleep'], colorscale='Portland'), name=''))\n",
    "\n",
    "# Customize layout\n",
    "fig.update_layout(title='Hours sleep per Date for all users', xaxis_title='Date', yaxis_title='Hours of sleep',\n",
    "                  xaxis=dict(tickvals=sleep_data['ActivityDate'], tickangle=-30), height=750)\n",
    "\n",
    "# Add a line for the average hours of sleep per day\n",
    "fig.add_trace(go.Scatter(x=average_hours_of_sleep_per_day.index, y=average_hours_of_sleep_per_day, mode='lines',\n",
    "                         line=dict(color='grey', dash='dashdot'), hovertemplate='Average Hours Sleep: %{x}<br>%{y}',\n",
    "                         name=''))\n",
    "\n",
    "# Show plot\n",
    "fig.show()\n",
    "\n",
    "print(\"Average hours slept across entire dataset:\", round(sleep_data['TotalMinutesAsleep'].mean() / 60,2))"
   ]
  },
  {
   "cell_type": "markdown",
   "id": "cb513052",
   "metadata": {
    "papermill": {
     "duration": 0.028163,
     "end_time": "2024-05-16T18:47:40.996859",
     "exception": false,
     "start_time": "2024-05-16T18:47:40.968696",
     "status": "completed"
    },
    "tags": []
   },
   "source": [
    "<p style=\"font-size:18px;\"> Very interesting. the average sleep per user is between 6-8 hours per user yet there is a large range and diffrence between the uses getting the most sleep and users getting the lowest amount of sleep. On several dates users are getting less than 4 hours sleep. I thought there must be a reason for this, are the users raising children? work rotatating shifts? why would these users be getting so little sleep? I dug deeper into the dates and found that the days in which the users are getting the lowest amounts of sleep are the weekends. This suggests to me that those users were likely going out and staying out late on a Friday/Saturday/Sunday hence the lack of sleep.\n",
    "    \n",
    "<p style=\"font-size:18px;\"> To visualize the averages better I plotted the averages on a easy to see bar chart."
   ]
  },
  {
   "cell_type": "code",
   "execution_count": 28,
   "id": "50d2562e",
   "metadata": {
    "execution": {
     "iopub.execute_input": "2024-05-16T18:47:41.056387Z",
     "iopub.status.busy": "2024-05-16T18:47:41.055902Z",
     "iopub.status.idle": "2024-05-16T18:47:41.076930Z",
     "shell.execute_reply": "2024-05-16T18:47:41.075639Z"
    },
    "papermill": {
     "duration": 0.054009,
     "end_time": "2024-05-16T18:47:41.079365",
     "exception": false,
     "start_time": "2024-05-16T18:47:41.025356",
     "status": "completed"
    },
    "tags": []
   },
   "outputs": [
    {
     "data": {
      "text/html": [
       "<div>                            <div id=\"2f4dc575-599a-457f-8586-6aa79cc8c8b9\" class=\"plotly-graph-div\" style=\"height:750px; width:100%;\"></div>            <script type=\"text/javascript\">                require([\"plotly\"], function(Plotly) {                    window.PLOTLYENV=window.PLOTLYENV || {};                                    if (document.getElementById(\"2f4dc575-599a-457f-8586-6aa79cc8c8b9\")) {                    Plotly.newPlot(                        \"2f4dc575-599a-457f-8586-6aa79cc8c8b9\",                        [{\"hovertemplate\":\"Average Hours Sleep: %{y}\",\"name\":\"\",\"x\":[\"Monday\",\"Tuesday\",\"Wednesday\",\"Thursday\",\"Friday\",\"Saturday\",\"Sunday\"],\"y\":[6.99,6.74,7.24,6.69,6.76,6.98,7.55],\"type\":\"bar\"}],                        {\"template\":{\"data\":{\"histogram2dcontour\":[{\"type\":\"histogram2dcontour\",\"colorbar\":{\"outlinewidth\":0,\"ticks\":\"\"},\"colorscale\":[[0.0,\"#0d0887\"],[0.1111111111111111,\"#46039f\"],[0.2222222222222222,\"#7201a8\"],[0.3333333333333333,\"#9c179e\"],[0.4444444444444444,\"#bd3786\"],[0.5555555555555556,\"#d8576b\"],[0.6666666666666666,\"#ed7953\"],[0.7777777777777778,\"#fb9f3a\"],[0.8888888888888888,\"#fdca26\"],[1.0,\"#f0f921\"]]}],\"choropleth\":[{\"type\":\"choropleth\",\"colorbar\":{\"outlinewidth\":0,\"ticks\":\"\"}}],\"histogram2d\":[{\"type\":\"histogram2d\",\"colorbar\":{\"outlinewidth\":0,\"ticks\":\"\"},\"colorscale\":[[0.0,\"#0d0887\"],[0.1111111111111111,\"#46039f\"],[0.2222222222222222,\"#7201a8\"],[0.3333333333333333,\"#9c179e\"],[0.4444444444444444,\"#bd3786\"],[0.5555555555555556,\"#d8576b\"],[0.6666666666666666,\"#ed7953\"],[0.7777777777777778,\"#fb9f3a\"],[0.8888888888888888,\"#fdca26\"],[1.0,\"#f0f921\"]]}],\"heatmap\":[{\"type\":\"heatmap\",\"colorbar\":{\"outlinewidth\":0,\"ticks\":\"\"},\"colorscale\":[[0.0,\"#0d0887\"],[0.1111111111111111,\"#46039f\"],[0.2222222222222222,\"#7201a8\"],[0.3333333333333333,\"#9c179e\"],[0.4444444444444444,\"#bd3786\"],[0.5555555555555556,\"#d8576b\"],[0.6666666666666666,\"#ed7953\"],[0.7777777777777778,\"#fb9f3a\"],[0.8888888888888888,\"#fdca26\"],[1.0,\"#f0f921\"]]}],\"heatmapgl\":[{\"type\":\"heatmapgl\",\"colorbar\":{\"outlinewidth\":0,\"ticks\":\"\"},\"colorscale\":[[0.0,\"#0d0887\"],[0.1111111111111111,\"#46039f\"],[0.2222222222222222,\"#7201a8\"],[0.3333333333333333,\"#9c179e\"],[0.4444444444444444,\"#bd3786\"],[0.5555555555555556,\"#d8576b\"],[0.6666666666666666,\"#ed7953\"],[0.7777777777777778,\"#fb9f3a\"],[0.8888888888888888,\"#fdca26\"],[1.0,\"#f0f921\"]]}],\"contourcarpet\":[{\"type\":\"contourcarpet\",\"colorbar\":{\"outlinewidth\":0,\"ticks\":\"\"}}],\"contour\":[{\"type\":\"contour\",\"colorbar\":{\"outlinewidth\":0,\"ticks\":\"\"},\"colorscale\":[[0.0,\"#0d0887\"],[0.1111111111111111,\"#46039f\"],[0.2222222222222222,\"#7201a8\"],[0.3333333333333333,\"#9c179e\"],[0.4444444444444444,\"#bd3786\"],[0.5555555555555556,\"#d8576b\"],[0.6666666666666666,\"#ed7953\"],[0.7777777777777778,\"#fb9f3a\"],[0.8888888888888888,\"#fdca26\"],[1.0,\"#f0f921\"]]}],\"surface\":[{\"type\":\"surface\",\"colorbar\":{\"outlinewidth\":0,\"ticks\":\"\"},\"colorscale\":[[0.0,\"#0d0887\"],[0.1111111111111111,\"#46039f\"],[0.2222222222222222,\"#7201a8\"],[0.3333333333333333,\"#9c179e\"],[0.4444444444444444,\"#bd3786\"],[0.5555555555555556,\"#d8576b\"],[0.6666666666666666,\"#ed7953\"],[0.7777777777777778,\"#fb9f3a\"],[0.8888888888888888,\"#fdca26\"],[1.0,\"#f0f921\"]]}],\"mesh3d\":[{\"type\":\"mesh3d\",\"colorbar\":{\"outlinewidth\":0,\"ticks\":\"\"}}],\"scatter\":[{\"fillpattern\":{\"fillmode\":\"overlay\",\"size\":10,\"solidity\":0.2},\"type\":\"scatter\"}],\"parcoords\":[{\"type\":\"parcoords\",\"line\":{\"colorbar\":{\"outlinewidth\":0,\"ticks\":\"\"}}}],\"scatterpolargl\":[{\"type\":\"scatterpolargl\",\"marker\":{\"colorbar\":{\"outlinewidth\":0,\"ticks\":\"\"}}}],\"bar\":[{\"error_x\":{\"color\":\"#2a3f5f\"},\"error_y\":{\"color\":\"#2a3f5f\"},\"marker\":{\"line\":{\"color\":\"#E5ECF6\",\"width\":0.5},\"pattern\":{\"fillmode\":\"overlay\",\"size\":10,\"solidity\":0.2}},\"type\":\"bar\"}],\"scattergeo\":[{\"type\":\"scattergeo\",\"marker\":{\"colorbar\":{\"outlinewidth\":0,\"ticks\":\"\"}}}],\"scatterpolar\":[{\"type\":\"scatterpolar\",\"marker\":{\"colorbar\":{\"outlinewidth\":0,\"ticks\":\"\"}}}],\"histogram\":[{\"marker\":{\"pattern\":{\"fillmode\":\"overlay\",\"size\":10,\"solidity\":0.2}},\"type\":\"histogram\"}],\"scattergl\":[{\"type\":\"scattergl\",\"marker\":{\"colorbar\":{\"outlinewidth\":0,\"ticks\":\"\"}}}],\"scatter3d\":[{\"type\":\"scatter3d\",\"line\":{\"colorbar\":{\"outlinewidth\":0,\"ticks\":\"\"}},\"marker\":{\"colorbar\":{\"outlinewidth\":0,\"ticks\":\"\"}}}],\"scattermapbox\":[{\"type\":\"scattermapbox\",\"marker\":{\"colorbar\":{\"outlinewidth\":0,\"ticks\":\"\"}}}],\"scatterternary\":[{\"type\":\"scatterternary\",\"marker\":{\"colorbar\":{\"outlinewidth\":0,\"ticks\":\"\"}}}],\"scattercarpet\":[{\"type\":\"scattercarpet\",\"marker\":{\"colorbar\":{\"outlinewidth\":0,\"ticks\":\"\"}}}],\"carpet\":[{\"aaxis\":{\"endlinecolor\":\"#2a3f5f\",\"gridcolor\":\"white\",\"linecolor\":\"white\",\"minorgridcolor\":\"white\",\"startlinecolor\":\"#2a3f5f\"},\"baxis\":{\"endlinecolor\":\"#2a3f5f\",\"gridcolor\":\"white\",\"linecolor\":\"white\",\"minorgridcolor\":\"white\",\"startlinecolor\":\"#2a3f5f\"},\"type\":\"carpet\"}],\"table\":[{\"cells\":{\"fill\":{\"color\":\"#EBF0F8\"},\"line\":{\"color\":\"white\"}},\"header\":{\"fill\":{\"color\":\"#C8D4E3\"},\"line\":{\"color\":\"white\"}},\"type\":\"table\"}],\"barpolar\":[{\"marker\":{\"line\":{\"color\":\"#E5ECF6\",\"width\":0.5},\"pattern\":{\"fillmode\":\"overlay\",\"size\":10,\"solidity\":0.2}},\"type\":\"barpolar\"}],\"pie\":[{\"automargin\":true,\"type\":\"pie\"}]},\"layout\":{\"autotypenumbers\":\"strict\",\"colorway\":[\"#636efa\",\"#EF553B\",\"#00cc96\",\"#ab63fa\",\"#FFA15A\",\"#19d3f3\",\"#FF6692\",\"#B6E880\",\"#FF97FF\",\"#FECB52\"],\"font\":{\"color\":\"#2a3f5f\"},\"hovermode\":\"closest\",\"hoverlabel\":{\"align\":\"left\"},\"paper_bgcolor\":\"white\",\"plot_bgcolor\":\"#E5ECF6\",\"polar\":{\"bgcolor\":\"#E5ECF6\",\"angularaxis\":{\"gridcolor\":\"white\",\"linecolor\":\"white\",\"ticks\":\"\"},\"radialaxis\":{\"gridcolor\":\"white\",\"linecolor\":\"white\",\"ticks\":\"\"}},\"ternary\":{\"bgcolor\":\"#E5ECF6\",\"aaxis\":{\"gridcolor\":\"white\",\"linecolor\":\"white\",\"ticks\":\"\"},\"baxis\":{\"gridcolor\":\"white\",\"linecolor\":\"white\",\"ticks\":\"\"},\"caxis\":{\"gridcolor\":\"white\",\"linecolor\":\"white\",\"ticks\":\"\"}},\"coloraxis\":{\"colorbar\":{\"outlinewidth\":0,\"ticks\":\"\"}},\"colorscale\":{\"sequential\":[[0.0,\"#0d0887\"],[0.1111111111111111,\"#46039f\"],[0.2222222222222222,\"#7201a8\"],[0.3333333333333333,\"#9c179e\"],[0.4444444444444444,\"#bd3786\"],[0.5555555555555556,\"#d8576b\"],[0.6666666666666666,\"#ed7953\"],[0.7777777777777778,\"#fb9f3a\"],[0.8888888888888888,\"#fdca26\"],[1.0,\"#f0f921\"]],\"sequentialminus\":[[0.0,\"#0d0887\"],[0.1111111111111111,\"#46039f\"],[0.2222222222222222,\"#7201a8\"],[0.3333333333333333,\"#9c179e\"],[0.4444444444444444,\"#bd3786\"],[0.5555555555555556,\"#d8576b\"],[0.6666666666666666,\"#ed7953\"],[0.7777777777777778,\"#fb9f3a\"],[0.8888888888888888,\"#fdca26\"],[1.0,\"#f0f921\"]],\"diverging\":[[0,\"#8e0152\"],[0.1,\"#c51b7d\"],[0.2,\"#de77ae\"],[0.3,\"#f1b6da\"],[0.4,\"#fde0ef\"],[0.5,\"#f7f7f7\"],[0.6,\"#e6f5d0\"],[0.7,\"#b8e186\"],[0.8,\"#7fbc41\"],[0.9,\"#4d9221\"],[1,\"#276419\"]]},\"xaxis\":{\"gridcolor\":\"white\",\"linecolor\":\"white\",\"ticks\":\"\",\"title\":{\"standoff\":15},\"zerolinecolor\":\"white\",\"automargin\":true,\"zerolinewidth\":2},\"yaxis\":{\"gridcolor\":\"white\",\"linecolor\":\"white\",\"ticks\":\"\",\"title\":{\"standoff\":15},\"zerolinecolor\":\"white\",\"automargin\":true,\"zerolinewidth\":2},\"scene\":{\"xaxis\":{\"backgroundcolor\":\"#E5ECF6\",\"gridcolor\":\"white\",\"linecolor\":\"white\",\"showbackground\":true,\"ticks\":\"\",\"zerolinecolor\":\"white\",\"gridwidth\":2},\"yaxis\":{\"backgroundcolor\":\"#E5ECF6\",\"gridcolor\":\"white\",\"linecolor\":\"white\",\"showbackground\":true,\"ticks\":\"\",\"zerolinecolor\":\"white\",\"gridwidth\":2},\"zaxis\":{\"backgroundcolor\":\"#E5ECF6\",\"gridcolor\":\"white\",\"linecolor\":\"white\",\"showbackground\":true,\"ticks\":\"\",\"zerolinecolor\":\"white\",\"gridwidth\":2}},\"shapedefaults\":{\"line\":{\"color\":\"#2a3f5f\"}},\"annotationdefaults\":{\"arrowcolor\":\"#2a3f5f\",\"arrowhead\":0,\"arrowwidth\":1},\"geo\":{\"bgcolor\":\"white\",\"landcolor\":\"#E5ECF6\",\"subunitcolor\":\"white\",\"showland\":true,\"showlakes\":true,\"lakecolor\":\"white\"},\"title\":{\"x\":0.05},\"mapbox\":{\"style\":\"light\"}}},\"title\":{\"text\":\"Average Hours of Sleep per Day of the Week\"},\"xaxis\":{\"title\":{\"text\":\"Day of the Week\"}},\"yaxis\":{\"title\":{\"text\":\"Average Hours of Sleep\"}},\"height\":750},                        {\"responsive\": true}                    ).then(function(){\n",
       "                            \n",
       "var gd = document.getElementById('2f4dc575-599a-457f-8586-6aa79cc8c8b9');\n",
       "var x = new MutationObserver(function (mutations, observer) {{\n",
       "        var display = window.getComputedStyle(gd).display;\n",
       "        if (!display || display === 'none') {{\n",
       "            console.log([gd, 'removed!']);\n",
       "            Plotly.purge(gd);\n",
       "            observer.disconnect();\n",
       "        }}\n",
       "}});\n",
       "\n",
       "// Listen for the removal of the full notebook cells\n",
       "var notebookContainer = gd.closest('#notebook-container');\n",
       "if (notebookContainer) {{\n",
       "    x.observe(notebookContainer, {childList: true});\n",
       "}}\n",
       "\n",
       "// Listen for the clearing of the current output cell\n",
       "var outputEl = gd.closest('.output');\n",
       "if (outputEl) {{\n",
       "    x.observe(outputEl, {childList: true});\n",
       "}}\n",
       "\n",
       "                        })                };                });            </script>        </div>"
      ]
     },
     "metadata": {},
     "output_type": "display_data"
    }
   ],
   "source": [
    "# Calculate average hours of sleep per day of the week\n",
    "sleep_data_day = sleep_data.groupby('Day_of_week')['TotalMinutesAsleep'].mean() / 60\n",
    "sleep_data_day = sleep_data_day.reindex(days_order)\n",
    "\n",
    "# Create a bar graph\n",
    "fig = go.Figure(go.Bar(x=sleep_data_day.index, y=round(sleep_data_day, 2), hovertemplate='Average Hours Sleep: %{y}', name=''))\n",
    "\n",
    "# Customize layout\n",
    "fig.update_layout(title='Average Hours of Sleep per Day of the Week', xaxis_title='Day of the Week', yaxis_title='Average Hours of Sleep', height=750)\n",
    "\n",
    "# Show plot\n",
    "fig.show()"
   ]
  },
  {
   "cell_type": "markdown",
   "id": "82df8382",
   "metadata": {
    "papermill": {
     "duration": 0.027921,
     "end_time": "2024-05-16T18:47:41.135883",
     "exception": false,
     "start_time": "2024-05-16T18:47:41.107962",
     "status": "completed"
    },
    "tags": []
   },
   "source": [
    "<p style=\"font-size:18px;\"> Its great to see on average the users are getting around 7 hours of sleep per night however as seen by my previous graph there is a massive range in the data in some cases from 12hrs to 2hrs sleep. Science has shown how important sleep is to a persons health so I wanted to determine how good the users sleep actually is as such I wanted to plot the frequency of sleep duration on a pie chart to vizualise this."
   ]
  },
  {
   "cell_type": "code",
   "execution_count": 29,
   "id": "a392c2cb",
   "metadata": {
    "execution": {
     "iopub.execute_input": "2024-05-16T18:47:41.194710Z",
     "iopub.status.busy": "2024-05-16T18:47:41.194306Z",
     "iopub.status.idle": "2024-05-16T18:47:41.232176Z",
     "shell.execute_reply": "2024-05-16T18:47:41.231322Z"
    },
    "papermill": {
     "duration": 0.070106,
     "end_time": "2024-05-16T18:47:41.234658",
     "exception": false,
     "start_time": "2024-05-16T18:47:41.164552",
     "status": "completed"
    },
    "tags": []
   },
   "outputs": [
    {
     "data": {
      "text/html": [
       "<div>                            <div id=\"8abd395e-1c95-4025-ab6a-23f5af102f9c\" class=\"plotly-graph-div\" style=\"height:525px; width:100%;\"></div>            <script type=\"text/javascript\">                require([\"plotly\"], function(Plotly) {                    window.PLOTLYENV=window.PLOTLYENV || {};                                    if (document.getElementById(\"8abd395e-1c95-4025-ab6a-23f5af102f9c\")) {                    Plotly.newPlot(                        \"8abd395e-1c95-4025-ab6a-23f5af102f9c\",                        [{\"hole\":0.5,\"hovertemplate\":\"\\u003cb\\u003e%{label}\\u003c\\u002fb\\u003e\\u003cbr\\u003eNumber of days: %{value}\\u003cextra\\u003e\\u003c\\u002fextra\\u003e\",\"labels\":[\"Less than 7 hours sleep\",\"7 - 9 hours sleep\",\"More than 9 hours sleep\"],\"marker\":{\"colors\":[\"red\",\"green\",\"orange\"],\"line\":{\"color\":\"#FFFFFF\",\"width\":2}},\"values\":[181,190,39],\"type\":\"pie\"}],                        {\"title\":{\"text\":\"Frequencies of Hours Slept\"},\"template\":{\"data\":{\"histogram2dcontour\":[{\"type\":\"histogram2dcontour\",\"colorbar\":{\"outlinewidth\":0,\"ticks\":\"\"},\"colorscale\":[[0.0,\"#0d0887\"],[0.1111111111111111,\"#46039f\"],[0.2222222222222222,\"#7201a8\"],[0.3333333333333333,\"#9c179e\"],[0.4444444444444444,\"#bd3786\"],[0.5555555555555556,\"#d8576b\"],[0.6666666666666666,\"#ed7953\"],[0.7777777777777778,\"#fb9f3a\"],[0.8888888888888888,\"#fdca26\"],[1.0,\"#f0f921\"]]}],\"choropleth\":[{\"type\":\"choropleth\",\"colorbar\":{\"outlinewidth\":0,\"ticks\":\"\"}}],\"histogram2d\":[{\"type\":\"histogram2d\",\"colorbar\":{\"outlinewidth\":0,\"ticks\":\"\"},\"colorscale\":[[0.0,\"#0d0887\"],[0.1111111111111111,\"#46039f\"],[0.2222222222222222,\"#7201a8\"],[0.3333333333333333,\"#9c179e\"],[0.4444444444444444,\"#bd3786\"],[0.5555555555555556,\"#d8576b\"],[0.6666666666666666,\"#ed7953\"],[0.7777777777777778,\"#fb9f3a\"],[0.8888888888888888,\"#fdca26\"],[1.0,\"#f0f921\"]]}],\"heatmap\":[{\"type\":\"heatmap\",\"colorbar\":{\"outlinewidth\":0,\"ticks\":\"\"},\"colorscale\":[[0.0,\"#0d0887\"],[0.1111111111111111,\"#46039f\"],[0.2222222222222222,\"#7201a8\"],[0.3333333333333333,\"#9c179e\"],[0.4444444444444444,\"#bd3786\"],[0.5555555555555556,\"#d8576b\"],[0.6666666666666666,\"#ed7953\"],[0.7777777777777778,\"#fb9f3a\"],[0.8888888888888888,\"#fdca26\"],[1.0,\"#f0f921\"]]}],\"heatmapgl\":[{\"type\":\"heatmapgl\",\"colorbar\":{\"outlinewidth\":0,\"ticks\":\"\"},\"colorscale\":[[0.0,\"#0d0887\"],[0.1111111111111111,\"#46039f\"],[0.2222222222222222,\"#7201a8\"],[0.3333333333333333,\"#9c179e\"],[0.4444444444444444,\"#bd3786\"],[0.5555555555555556,\"#d8576b\"],[0.6666666666666666,\"#ed7953\"],[0.7777777777777778,\"#fb9f3a\"],[0.8888888888888888,\"#fdca26\"],[1.0,\"#f0f921\"]]}],\"contourcarpet\":[{\"type\":\"contourcarpet\",\"colorbar\":{\"outlinewidth\":0,\"ticks\":\"\"}}],\"contour\":[{\"type\":\"contour\",\"colorbar\":{\"outlinewidth\":0,\"ticks\":\"\"},\"colorscale\":[[0.0,\"#0d0887\"],[0.1111111111111111,\"#46039f\"],[0.2222222222222222,\"#7201a8\"],[0.3333333333333333,\"#9c179e\"],[0.4444444444444444,\"#bd3786\"],[0.5555555555555556,\"#d8576b\"],[0.6666666666666666,\"#ed7953\"],[0.7777777777777778,\"#fb9f3a\"],[0.8888888888888888,\"#fdca26\"],[1.0,\"#f0f921\"]]}],\"surface\":[{\"type\":\"surface\",\"colorbar\":{\"outlinewidth\":0,\"ticks\":\"\"},\"colorscale\":[[0.0,\"#0d0887\"],[0.1111111111111111,\"#46039f\"],[0.2222222222222222,\"#7201a8\"],[0.3333333333333333,\"#9c179e\"],[0.4444444444444444,\"#bd3786\"],[0.5555555555555556,\"#d8576b\"],[0.6666666666666666,\"#ed7953\"],[0.7777777777777778,\"#fb9f3a\"],[0.8888888888888888,\"#fdca26\"],[1.0,\"#f0f921\"]]}],\"mesh3d\":[{\"type\":\"mesh3d\",\"colorbar\":{\"outlinewidth\":0,\"ticks\":\"\"}}],\"scatter\":[{\"fillpattern\":{\"fillmode\":\"overlay\",\"size\":10,\"solidity\":0.2},\"type\":\"scatter\"}],\"parcoords\":[{\"type\":\"parcoords\",\"line\":{\"colorbar\":{\"outlinewidth\":0,\"ticks\":\"\"}}}],\"scatterpolargl\":[{\"type\":\"scatterpolargl\",\"marker\":{\"colorbar\":{\"outlinewidth\":0,\"ticks\":\"\"}}}],\"bar\":[{\"error_x\":{\"color\":\"#2a3f5f\"},\"error_y\":{\"color\":\"#2a3f5f\"},\"marker\":{\"line\":{\"color\":\"#E5ECF6\",\"width\":0.5},\"pattern\":{\"fillmode\":\"overlay\",\"size\":10,\"solidity\":0.2}},\"type\":\"bar\"}],\"scattergeo\":[{\"type\":\"scattergeo\",\"marker\":{\"colorbar\":{\"outlinewidth\":0,\"ticks\":\"\"}}}],\"scatterpolar\":[{\"type\":\"scatterpolar\",\"marker\":{\"colorbar\":{\"outlinewidth\":0,\"ticks\":\"\"}}}],\"histogram\":[{\"marker\":{\"pattern\":{\"fillmode\":\"overlay\",\"size\":10,\"solidity\":0.2}},\"type\":\"histogram\"}],\"scattergl\":[{\"type\":\"scattergl\",\"marker\":{\"colorbar\":{\"outlinewidth\":0,\"ticks\":\"\"}}}],\"scatter3d\":[{\"type\":\"scatter3d\",\"line\":{\"colorbar\":{\"outlinewidth\":0,\"ticks\":\"\"}},\"marker\":{\"colorbar\":{\"outlinewidth\":0,\"ticks\":\"\"}}}],\"scattermapbox\":[{\"type\":\"scattermapbox\",\"marker\":{\"colorbar\":{\"outlinewidth\":0,\"ticks\":\"\"}}}],\"scatterternary\":[{\"type\":\"scatterternary\",\"marker\":{\"colorbar\":{\"outlinewidth\":0,\"ticks\":\"\"}}}],\"scattercarpet\":[{\"type\":\"scattercarpet\",\"marker\":{\"colorbar\":{\"outlinewidth\":0,\"ticks\":\"\"}}}],\"carpet\":[{\"aaxis\":{\"endlinecolor\":\"#2a3f5f\",\"gridcolor\":\"white\",\"linecolor\":\"white\",\"minorgridcolor\":\"white\",\"startlinecolor\":\"#2a3f5f\"},\"baxis\":{\"endlinecolor\":\"#2a3f5f\",\"gridcolor\":\"white\",\"linecolor\":\"white\",\"minorgridcolor\":\"white\",\"startlinecolor\":\"#2a3f5f\"},\"type\":\"carpet\"}],\"table\":[{\"cells\":{\"fill\":{\"color\":\"#EBF0F8\"},\"line\":{\"color\":\"white\"}},\"header\":{\"fill\":{\"color\":\"#C8D4E3\"},\"line\":{\"color\":\"white\"}},\"type\":\"table\"}],\"barpolar\":[{\"marker\":{\"line\":{\"color\":\"#E5ECF6\",\"width\":0.5},\"pattern\":{\"fillmode\":\"overlay\",\"size\":10,\"solidity\":0.2}},\"type\":\"barpolar\"}],\"pie\":[{\"automargin\":true,\"type\":\"pie\"}]},\"layout\":{\"autotypenumbers\":\"strict\",\"colorway\":[\"#636efa\",\"#EF553B\",\"#00cc96\",\"#ab63fa\",\"#FFA15A\",\"#19d3f3\",\"#FF6692\",\"#B6E880\",\"#FF97FF\",\"#FECB52\"],\"font\":{\"color\":\"#2a3f5f\"},\"hovermode\":\"closest\",\"hoverlabel\":{\"align\":\"left\"},\"paper_bgcolor\":\"white\",\"plot_bgcolor\":\"#E5ECF6\",\"polar\":{\"bgcolor\":\"#E5ECF6\",\"angularaxis\":{\"gridcolor\":\"white\",\"linecolor\":\"white\",\"ticks\":\"\"},\"radialaxis\":{\"gridcolor\":\"white\",\"linecolor\":\"white\",\"ticks\":\"\"}},\"ternary\":{\"bgcolor\":\"#E5ECF6\",\"aaxis\":{\"gridcolor\":\"white\",\"linecolor\":\"white\",\"ticks\":\"\"},\"baxis\":{\"gridcolor\":\"white\",\"linecolor\":\"white\",\"ticks\":\"\"},\"caxis\":{\"gridcolor\":\"white\",\"linecolor\":\"white\",\"ticks\":\"\"}},\"coloraxis\":{\"colorbar\":{\"outlinewidth\":0,\"ticks\":\"\"}},\"colorscale\":{\"sequential\":[[0.0,\"#0d0887\"],[0.1111111111111111,\"#46039f\"],[0.2222222222222222,\"#7201a8\"],[0.3333333333333333,\"#9c179e\"],[0.4444444444444444,\"#bd3786\"],[0.5555555555555556,\"#d8576b\"],[0.6666666666666666,\"#ed7953\"],[0.7777777777777778,\"#fb9f3a\"],[0.8888888888888888,\"#fdca26\"],[1.0,\"#f0f921\"]],\"sequentialminus\":[[0.0,\"#0d0887\"],[0.1111111111111111,\"#46039f\"],[0.2222222222222222,\"#7201a8\"],[0.3333333333333333,\"#9c179e\"],[0.4444444444444444,\"#bd3786\"],[0.5555555555555556,\"#d8576b\"],[0.6666666666666666,\"#ed7953\"],[0.7777777777777778,\"#fb9f3a\"],[0.8888888888888888,\"#fdca26\"],[1.0,\"#f0f921\"]],\"diverging\":[[0,\"#8e0152\"],[0.1,\"#c51b7d\"],[0.2,\"#de77ae\"],[0.3,\"#f1b6da\"],[0.4,\"#fde0ef\"],[0.5,\"#f7f7f7\"],[0.6,\"#e6f5d0\"],[0.7,\"#b8e186\"],[0.8,\"#7fbc41\"],[0.9,\"#4d9221\"],[1,\"#276419\"]]},\"xaxis\":{\"gridcolor\":\"white\",\"linecolor\":\"white\",\"ticks\":\"\",\"title\":{\"standoff\":15},\"zerolinecolor\":\"white\",\"automargin\":true,\"zerolinewidth\":2},\"yaxis\":{\"gridcolor\":\"white\",\"linecolor\":\"white\",\"ticks\":\"\",\"title\":{\"standoff\":15},\"zerolinecolor\":\"white\",\"automargin\":true,\"zerolinewidth\":2},\"scene\":{\"xaxis\":{\"backgroundcolor\":\"#E5ECF6\",\"gridcolor\":\"white\",\"linecolor\":\"white\",\"showbackground\":true,\"ticks\":\"\",\"zerolinecolor\":\"white\",\"gridwidth\":2},\"yaxis\":{\"backgroundcolor\":\"#E5ECF6\",\"gridcolor\":\"white\",\"linecolor\":\"white\",\"showbackground\":true,\"ticks\":\"\",\"zerolinecolor\":\"white\",\"gridwidth\":2},\"zaxis\":{\"backgroundcolor\":\"#E5ECF6\",\"gridcolor\":\"white\",\"linecolor\":\"white\",\"showbackground\":true,\"ticks\":\"\",\"zerolinecolor\":\"white\",\"gridwidth\":2}},\"shapedefaults\":{\"line\":{\"color\":\"#2a3f5f\"}},\"annotationdefaults\":{\"arrowcolor\":\"#2a3f5f\",\"arrowhead\":0,\"arrowwidth\":1},\"geo\":{\"bgcolor\":\"white\",\"landcolor\":\"#E5ECF6\",\"subunitcolor\":\"white\",\"showland\":true,\"showlakes\":true,\"lakecolor\":\"white\"},\"title\":{\"x\":0.05},\"mapbox\":{\"style\":\"light\"}}}},                        {\"responsive\": true}                    ).then(function(){\n",
       "                            \n",
       "var gd = document.getElementById('8abd395e-1c95-4025-ab6a-23f5af102f9c');\n",
       "var x = new MutationObserver(function (mutations, observer) {{\n",
       "        var display = window.getComputedStyle(gd).display;\n",
       "        if (!display || display === 'none') {{\n",
       "            console.log([gd, 'removed!']);\n",
       "            Plotly.purge(gd);\n",
       "            observer.disconnect();\n",
       "        }}\n",
       "}});\n",
       "\n",
       "// Listen for the removal of the full notebook cells\n",
       "var notebookContainer = gd.closest('#notebook-container');\n",
       "if (notebookContainer) {{\n",
       "    x.observe(notebookContainer, {childList: true});\n",
       "}}\n",
       "\n",
       "// Listen for the clearing of the current output cell\n",
       "var outputEl = gd.closest('.output');\n",
       "if (outputEl) {{\n",
       "    x.observe(outputEl, {childList: true});\n",
       "}}\n",
       "\n",
       "                        })                };                });            </script>        </div>"
      ]
     },
     "metadata": {},
     "output_type": "display_data"
    }
   ],
   "source": [
    "# Count the number of rows meeting the criteria for each category\n",
    "count_less_than_7 = df_activity[(df_activity['TotalMinutesAsleep'] < 7 * 60) & (df_activity['TotalMinutesAsleep'] > 0)].shape[0]\n",
    "count_between_7_and_9 = df_activity[(df_activity['TotalMinutesAsleep'] >= 7 * 60) & (df_activity['TotalMinutesAsleep'] < 9 * 60)].shape[0]\n",
    "count_greater_than_9 = df_activity[df_activity['TotalMinutesAsleep'] >= 9 * 60].shape[0]\n",
    "\n",
    "\n",
    "# Create pie chart trace\n",
    "pie_chart_trace = go.Pie(labels=['Less than 7 hours sleep', '7 - 9 hours sleep', 'More than 9 hours sleep'],\n",
    "                         values=[count_less_than_7, count_between_7_and_9, count_greater_than_9],\n",
    "                         marker=dict(colors=['red', 'green', 'orange'],line=dict(color='#FFFFFF', width=2)), hole=0.5,\n",
    "                         hovertemplate='<b>%{label}</b><br>Number of days: %{value}<extra></extra>')\n",
    "\n",
    "# Create layout\n",
    "layout = go.Layout(title='Frequencies of Hours Slept')  \n",
    "                                                            \n",
    "\n",
    "# Create figure\n",
    "fig = go.Figure(data=[pie_chart_trace], layout=layout)\n",
    "\n",
    "# Show plot\n",
    "fig.show()"
   ]
  },
  {
   "cell_type": "markdown",
   "id": "7d65156c",
   "metadata": {
    "papermill": {
     "duration": 0.028115,
     "end_time": "2024-05-16T18:47:41.292294",
     "exception": false,
     "start_time": "2024-05-16T18:47:41.264179",
     "status": "completed"
    },
    "tags": []
   },
   "source": [
    "<p style=\"font-size:18px;\"> Wow! There is a huge number of days in which users are getting less than 7 hours of sleep. This is definatley somthing which should be improved upon.\n",
    "    \n",
    "<p style=\"font-size:18px;\"> I feel I have a good understanding of the data and the story the data tells. From here I will summarize my finding and make recommendations on how Bellabeat can improve their service and guide their marketing strategy going forward."
   ]
  },
  {
   "cell_type": "markdown",
   "id": "4a80307a",
   "metadata": {
    "papermill": {
     "duration": 0.027902,
     "end_time": "2024-05-16T18:47:41.348495",
     "exception": false,
     "start_time": "2024-05-16T18:47:41.320593",
     "status": "completed"
    },
    "tags": []
   },
   "source": [
    "# **Summary**\n",
    "    \n",
    "***"
   ]
  },
  {
   "cell_type": "markdown",
   "id": "e0e42a0d",
   "metadata": {
    "papermill": {
     "duration": 0.028193,
     "end_time": "2024-05-16T18:47:41.405012",
     "exception": false,
     "start_time": "2024-05-16T18:47:41.376819",
     "status": "completed"
    },
    "tags": []
   },
   "source": [
    "<p style=\"font-size:18px;\">Thank you for getting this far in my notebook there has been a lot of information to explore and analyse. In this section I will summarize my findings and make suggestions on how this data could be used to guide Bellabeat's future marketing strategy.\n",
    "\n",
    "<p style=\"font-size:18px;\">Ive decided to break this section down into smaller more managable chunks in which I will discuss the missing data, steps, activity and sleep.\n",
    "\n",
    "<p style=\"font-size:18px;\"><strong>Missing data</strong>\n",
    "<br>Throuout my data exploration I found several areas of the data which appeared to be missing or inaccurate. The first of which was the total number of minutes of data tracked in a day. I managed to reduce this to 336 rows (just under 36%) in which the total data tracked per day did not equal 1440 minutes. Of which there were 155 rows which contained more minutes of tracked data than is possible in a day. This lead me to believe either the fitness trackers have been double counting the tracking data or the fitness tracker was removed.\n",
    "\n",
    "<p style=\"font-size:18px;\"><strong>Steps</strong>\n",
    "<br>The data on steps taken per user per day gave a good insight into how many steps users are taking a day and the time in which users are taking the most amount of steps. However I also found that there is 77 rows (over 8% of the total data) where the users took 0 steps in a day which is alarming. This made me question the validity of the data as this suggests to me that either the users did not wear their fitness trackers on these days. Did users who took 0 steps not leave their bed or go toilet in this 24 hour period? Or that there was an error with the fitness tracker in which steps were not counted. On average the users were taking over 7,600 steps per day which is great and science has shown the health benifits of walking. There are many diffrent reports suggesting the optimal number of steps an adult should take to stay healthy and typically this range is anywhere from 6,000 to 12,000. I belive that 7,600 on average is great but I also belive that there are ways in which Bellabeat could increase this.\n",
    "\n",
    "<p style=\"font-size:18px;\"><strong>Activity</strong>\n",
    "<br>Overall I would consider the users in this dataset to be quite active with the average active minutes being 227.54 ( 3.79 hrs ) per day. The majority of that active time being lightly active with just over 30 minutes of either fairly active or very active time per day on average. The data shows that typically Saturdays are the most active days and Sundays are the least. Although, I belive that Bellabeat could make changes to their service to prompt users to be more active. When looking at calories burned per day I found that both the number of active minutes and steps per day had a positive correlation on the number of calories burned. However I did also discover that 10% of the data was from users who took less than 500 steps per day and 10% of the data was from users who had less than 5 active minutes per day. It is unclear to me wheather this data is correct although not impossible, it is unlikely. What stood out to me more was the fact that in the data 18 days users had burnt less than 1200 calories in a day. An average man burns between 2000 - 2400 calories per day and an average woman burns between 1600 - 2000 calories per day. So for there to be 18 days in which a person burnt less than 1200 raises a red flag, even if these users did no activity or movement all day the average person would burn 1300+ calories in a day. One factor which could be causing this is the age of the user, if the user is over 70 years old or younger than 20 years old this would impact the calories they burn. Alternatively these users may not be wearing their fitness trackers for the full 24 hour period as a result this would track a lower number of calories burnt. More research and data would be required to confirm this. \n",
    "    \n",
    "    \n",
    "<p style=\"font-size:18px;\"><strong>Sleep</strong>\n",
    "<br>The amount of sleep across the users is okay with an average sleep time of 6.99 hours across the entire dataset. When looking into this further I found that typically on sundays the users got the most sleep and Thursdays the users got the least sleep. Although the average sleep across the dataset was 6.99 hours I noticed that there were several days in which some users were getting less than 4 hours of sleep. Further investigation revealed that these outliers were on the nights of the weekend (Friday, Saturday and Sunday). This suggested that on these nights the users were likely going out for drinks, nighclubs or shows which went deep into the night hence the shorter amount of sleep. Despite looking at the average hours of sleep per day and across the dataset this only paints part of the picture and may not be representative of the full data as such I wanted to see the frequencys within the data frame of users who got less than 7 hours sleep, between 7 and 9 hours sleep and more than 9 hours sleep. A typical adult requires 7-9 hours of sleep each night so I wanted to see how often this was occuring and to my suprize despite the average sleep per night being 6.99 hours 55.81% of the days in the data set the users achived 7 or more hours sleep. On the other hand that does mean over 44% of the users recived less than 7 hours of sleep each night which is a concern. "
   ]
  },
  {
   "cell_type": "markdown",
   "id": "2aae5a5f",
   "metadata": {
    "papermill": {
     "duration": 0.028179,
     "end_time": "2024-05-16T18:47:41.461790",
     "exception": false,
     "start_time": "2024-05-16T18:47:41.433611",
     "status": "completed"
    },
    "tags": []
   },
   "source": [
    "# **Conclusion**\n",
    "    \n",
    "***"
   ]
  },
  {
   "cell_type": "markdown",
   "id": "e84a7dd3",
   "metadata": {
    "papermill": {
     "duration": 0.027985,
     "end_time": "2024-05-16T18:47:41.517937",
     "exception": false,
     "start_time": "2024-05-16T18:47:41.489952",
     "status": "completed"
    },
    "tags": []
   },
   "source": [
    "<p style=\"font-size:18px;\"> Now that I have a good understanding of the data I want to make my recommendation to Bellabeat and their cofounder and Chief Creative Officer, Urška Sršen. I feel there are many ways in which Bellabeat can improve their service to customers which can help them grow their market share and profits. I will break my recommendations down into their own paragraphs which detail and explain why I have made these recommendations.\n",
    "    \n",
    "<p style=\"font-size:18px;\"><strong>More data</strong>\n",
    "<br>The data provided is good for the most part however I have found several inconsistencies within the data which could be resolved with more data and better data collection. For example it would be good to track the total minutes of data for each day as currenly throughout my analysis I have found that for 35% of the data the total minutes in a day does not add up to 1440 minutes and it is not clear if this is a tracking error, if the user had intenionally stopped tracking data or wheather the tracking device lost power. It would be great to see this breakdown as it would allow for better insights and a more comprehensive analysis. Alternatively it would be great to track or identify the times in which the device is not tracking data for example charging time per day could be tracked or duration of time when the device is not worn. These little extra pieces of data would make the data more complete and allow for greater insights. \n",
    "    \n",
    "<p style=\"font-size:18px;\"> Another benifit to more data would be the ability to see if users use the devices diffrently over diffrent periods of the year. The current data is from the 12th of April to the 12th of May. However the insights from this data may not be applicable to how a user will use the device in December. Data gathered over a year or longer period of time may grant better insights and further improve Bellabeats marketing strategy. It may be determined that during the summer users are more active than the winter months or that the first week of each month users show a high number of steps than the rest of the month for example. The more data the more insights and a better marketing strategy can be determined.\n",
    "    \n",
    "<p style=\"font-size:18px;\"> The Final benifit to having more data is to identify if diffrent ages groups and fitness levels are using the device diffrently. Who is the core target audience? younger users, older users? Athletes or people trying to lose weight? Understanding the core audince will help Bellabeat make decisions which will better market to these users or alternatively understand why certain customers may not be using their device and introduce ways to appeal to these customers.     \n",
    "    \n",
    "<p style=\"font-size:18px;\"><strong>Goals</strong>\n",
    "<br>Although it is great to see that average steps per day across all users is 7,600 could this be improved? There were many cases in which users were taking less than 500 steps per day. The science is showing that for a person to be healthy and reduce the chances of premature death they should be taking anywhere from 4000 steps per day at a minimum. By having users set daily goals gives the users somthing to work towards and may motive a user to take more steps or spend a longer time being active. To further incentivse users to complete their goals Bellabeat could offer addional information and highlight the health benifits of walking extra steps or spending those few more minutes being active. Additionally Bellabeat could offer digital badges which shows a user has completed their goals for X number of days or is in the top X% of users for that month. These could then be shown off on the users profile and shown as a mini digital trophy case of achivements which the users can look back on.\n",
    "    \n",
    "<p style=\"font-size:18px;\"> In additonal to goals there could be challenges for example walk X number of steps in a month or spend X minutes active. To further encorage users Bellabeat could work with other fitness brands to offer a reward to people who complete these challenges. For example fitness brand \"Nadidas\" could offer 5% saving on their store to users who complete the Nadidas 70,000 steps a week challenge. Alternatively the users who complete a challenge are entered into a raffle to win fintness related accessories or clothing.\n",
    "    \n",
    "\n",
    "<p style=\"font-size:18px;\"><strong>Leaderboards and friendships</strong>\n",
    "<br>To introduce friendly competition and support, Bellabeat could offer friendships and leaderboards. Friendships to allow users to support their friends and encorage them to be active and healthy whilst also being a way share and promote a users achivements such as most steps in a day, most active minutes in a month etc. Combined with a weekly leaderboard which shows a user their weekly fitness compared to their friends or local comunity could help drive motiviation and achive a greater fitness level for users. This idea could also be combined with the previous idea of goals such that you can see if a friend has achived their goals and if not you are able to cheer them on and support them.\n",
    "    \n",
    "<p style=\"font-size:18px;\"><strong>Alerts and notifications</strong>\n",
    "<br>The Final recommendation I have is to give alerts and notifications to users who are not as active as they want to be. When setting up a fitness tracker it would be ideal to understand why a user is using the tracker for example a user wants to lose weight, monitor their fitness or improve their fitness. With this understanding in mind lets take the user who wants to lose weight for example if that user has remained static for over an hour the user can receive an alert or notificiation to advise them to get up and take some steps. This again could be linked to a users goals such that if a user is half way to a goal they get a notification that they are half way there and to keep going. This small boost of motivation may spur users to be more active and have a higher likelyhood of hitting their goals.\n",
    "    \n",
    "<p style=\"font-size:18px;\">These are my recommendations for Bellabeat and the team. I hope this analysis has been useful and provided insight to how the users have been using their fitness trackers and ways in which Bellabeat could adjust their marketing strategy to improve customer satisfaction and attract more customers.\n",
    "    \n",
    "<p style=\"font-size:18px;\"><strong>Many thanks for reading please feel free to comment and add any feedback or recommendations.\n",
    "    "
   ]
  }
 ],
 "metadata": {
  "kaggle": {
   "accelerator": "none",
   "dataSources": [
    {
     "datasetId": 1041311,
     "sourceId": 7746251,
     "sourceType": "datasetVersion"
    }
   ],
   "dockerImageVersionId": 30698,
   "isGpuEnabled": false,
   "isInternetEnabled": true,
   "language": "python",
   "sourceType": "notebook"
  },
  "kernelspec": {
   "display_name": "Python 3",
   "language": "python",
   "name": "python3"
  },
  "language_info": {
   "codemirror_mode": {
    "name": "ipython",
    "version": 3
   },
   "file_extension": ".py",
   "mimetype": "text/x-python",
   "name": "python",
   "nbconvert_exporter": "python",
   "pygments_lexer": "ipython3",
   "version": "3.10.13"
  },
  "papermill": {
   "default_parameters": {},
   "duration": 16.855812,
   "end_time": "2024-05-16T18:47:42.673194",
   "environment_variables": {},
   "exception": null,
   "input_path": "__notebook__.ipynb",
   "output_path": "__notebook__.ipynb",
   "parameters": {},
   "start_time": "2024-05-16T18:47:25.817382",
   "version": "2.5.0"
  }
 },
 "nbformat": 4,
 "nbformat_minor": 5
}
