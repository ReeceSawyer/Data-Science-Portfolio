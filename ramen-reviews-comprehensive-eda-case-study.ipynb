{
 "cells": [
  {
   "cell_type": "markdown",
   "id": "cd589261",
   "metadata": {
    "papermill": {
     "duration": 0.020015,
     "end_time": "2024-07-20T15:59:17.335087",
     "exception": false,
     "start_time": "2024-07-20T15:59:17.315072",
     "status": "completed"
    },
    "tags": []
   },
   "source": [
    "# **Introduction**\n",
    "\n",
    "***\n",
    "\n",
    "<p style=\"font-size:18px;\"> This data set contains 4650 ramen reviews from Hans \"The Ramen Rater\" Lienesch. Taken from his website (https://www.theramenrater.com/resources-2/the-list/)\n",
    "\n",
    "<p style=\"font-size:18px;\"> The Ramen Rater started reviewing ramen in 2002 and hasn't stopped since although each review is not dated they are in order as per the 'Review #' column. A total of 4650 reviews over 21 years equates to a whopping 221 ramen reviews on average per year!\n",
    "\n",
    "<p style=\"font-size:18px;\"> The purpose of this case study is to explore and analyze the data to determine which ramen has the best reviews and whether the flavor or country of manufacture impacts the number of stars a ramen receives. I will begin by importing and cleaning the data before analyzing and visualizing the data."
   ]
  },
  {
   "cell_type": "code",
   "execution_count": 1,
   "id": "652b6c4b",
   "metadata": {
    "_cell_guid": "b1076dfc-b9ad-4769-8c92-a6c4dae69d19",
    "_uuid": "8f2839f25d086af736a60e9eeb907d3b93b6e0e5",
    "execution": {
     "iopub.execute_input": "2024-07-20T15:59:17.376548Z",
     "iopub.status.busy": "2024-07-20T15:59:17.376158Z",
     "iopub.status.idle": "2024-07-20T15:59:19.141941Z",
     "shell.execute_reply": "2024-07-20T15:59:19.140610Z"
    },
    "papermill": {
     "duration": 1.789503,
     "end_time": "2024-07-20T15:59:19.144684",
     "exception": false,
     "start_time": "2024-07-20T15:59:17.355181",
     "status": "completed"
    },
    "tags": []
   },
   "outputs": [
    {
     "name": "stdout",
     "output_type": "stream",
     "text": [
      "Libaries Imported\n"
     ]
    }
   ],
   "source": [
    "import pandas as pd\n",
    "import numpy as np\n",
    "import plotly.express as px\n",
    "\n",
    "import warnings\n",
    "warnings.filterwarnings(\"ignore\")\n",
    "\n",
    "print(\"Libaries Imported\")"
   ]
  },
  {
   "cell_type": "code",
   "execution_count": 2,
   "id": "689bb78f",
   "metadata": {
    "execution": {
     "iopub.execute_input": "2024-07-20T15:59:19.190210Z",
     "iopub.status.busy": "2024-07-20T15:59:19.188973Z",
     "iopub.status.idle": "2024-07-20T15:59:19.251589Z",
     "shell.execute_reply": "2024-07-20T15:59:19.250465Z"
    },
    "papermill": {
     "duration": 0.087005,
     "end_time": "2024-07-20T15:59:19.254265",
     "exception": false,
     "start_time": "2024-07-20T15:59:19.167260",
     "status": "completed"
    },
    "tags": []
   },
   "outputs": [
    {
     "data": {
      "text/html": [
       "<div>\n",
       "<style scoped>\n",
       "    .dataframe tbody tr th:only-of-type {\n",
       "        vertical-align: middle;\n",
       "    }\n",
       "\n",
       "    .dataframe tbody tr th {\n",
       "        vertical-align: top;\n",
       "    }\n",
       "\n",
       "    .dataframe thead th {\n",
       "        text-align: right;\n",
       "    }\n",
       "</style>\n",
       "<table border=\"1\" class=\"dataframe\">\n",
       "  <thead>\n",
       "    <tr style=\"text-align: right;\">\n",
       "      <th></th>\n",
       "      <th>Review #</th>\n",
       "      <th>Brand</th>\n",
       "      <th>Variety</th>\n",
       "      <th>Style</th>\n",
       "      <th>Country</th>\n",
       "      <th>Stars</th>\n",
       "      <th>T</th>\n",
       "    </tr>\n",
       "  </thead>\n",
       "  <tbody>\n",
       "    <tr>\n",
       "      <th>0</th>\n",
       "      <td>4650</td>\n",
       "      <td>Jasmine</td>\n",
       "      <td>XXL Bihun Segera Penang White Curry</td>\n",
       "      <td>Pack</td>\n",
       "      <td>Malaysia</td>\n",
       "      <td>5</td>\n",
       "      <td>NaN</td>\n",
       "    </tr>\n",
       "    <tr>\n",
       "      <th>1</th>\n",
       "      <td>4649</td>\n",
       "      <td>Indomie</td>\n",
       "      <td>Mi Instan Mi Keriting Goreng Spesial</td>\n",
       "      <td>Pack</td>\n",
       "      <td>Indonesia</td>\n",
       "      <td>5</td>\n",
       "      <td>NaN</td>\n",
       "    </tr>\n",
       "    <tr>\n",
       "      <th>2</th>\n",
       "      <td>4648</td>\n",
       "      <td>MAMA</td>\n",
       "      <td>Oriental Kitchen Dried Instant Noodles Truffle...</td>\n",
       "      <td>Pack</td>\n",
       "      <td>Thailand</td>\n",
       "      <td>4.5</td>\n",
       "      <td>NaN</td>\n",
       "    </tr>\n",
       "    <tr>\n",
       "      <th>3</th>\n",
       "      <td>4647</td>\n",
       "      <td>Ottogi</td>\n",
       "      <td>Jin Jjajang Smoked Black Bean Flavor</td>\n",
       "      <td>Pack</td>\n",
       "      <td>United States</td>\n",
       "      <td>4.5</td>\n",
       "      <td>NaN</td>\n",
       "    </tr>\n",
       "    <tr>\n",
       "      <th>4</th>\n",
       "      <td>4646</td>\n",
       "      <td>Samyang Foods</td>\n",
       "      <td>Samyand Ramen</td>\n",
       "      <td>Pack</td>\n",
       "      <td>United States</td>\n",
       "      <td>5</td>\n",
       "      <td>NaN</td>\n",
       "    </tr>\n",
       "  </tbody>\n",
       "</table>\n",
       "</div>"
      ],
      "text/plain": [
       "   Review #          Brand                                            Variety  \\\n",
       "0      4650        Jasmine                XXL Bihun Segera Penang White Curry   \n",
       "1      4649        Indomie               Mi Instan Mi Keriting Goreng Spesial   \n",
       "2      4648           MAMA  Oriental Kitchen Dried Instant Noodles Truffle...   \n",
       "3      4647         Ottogi               Jin Jjajang Smoked Black Bean Flavor   \n",
       "4      4646  Samyang Foods                                      Samyand Ramen   \n",
       "\n",
       "  Style        Country Stars   T  \n",
       "0  Pack       Malaysia     5 NaN  \n",
       "1  Pack      Indonesia     5 NaN  \n",
       "2  Pack       Thailand   4.5 NaN  \n",
       "3  Pack  United States   4.5 NaN  \n",
       "4  Pack  United States     5 NaN  "
      ]
     },
     "execution_count": 2,
     "metadata": {},
     "output_type": "execute_result"
    }
   ],
   "source": [
    "df = pd.read_csv(\"/kaggle/input/ramen-ratings-2024/The-Big-List-20231127-Reviews-to-4650.csv\")\n",
    "\n",
    "df.head()"
   ]
  },
  {
   "cell_type": "markdown",
   "id": "76b59ad3",
   "metadata": {
    "papermill": {
     "duration": 0.020178,
     "end_time": "2024-07-20T15:59:19.294598",
     "exception": false,
     "start_time": "2024-07-20T15:59:19.274420",
     "status": "completed"
    },
    "tags": []
   },
   "source": [
    "# **Data Cleaning**\n",
    "\n",
    "***"
   ]
  },
  {
   "cell_type": "markdown",
   "id": "0ca13eee",
   "metadata": {
    "papermill": {
     "duration": 0.019602,
     "end_time": "2024-07-20T15:59:19.335094",
     "exception": false,
     "start_time": "2024-07-20T15:59:19.315492",
     "status": "completed"
    },
    "tags": []
   },
   "source": [
    "<p style=\"font-size:18px;\">  In this section of the case study I will clean the data to ensure that there are no missing or incorrect values. I will begin by checking the number of non-null values per column and the number of unique values per column."
   ]
  },
  {
   "cell_type": "code",
   "execution_count": 3,
   "id": "ca383090",
   "metadata": {
    "execution": {
     "iopub.execute_input": "2024-07-20T15:59:19.377075Z",
     "iopub.status.busy": "2024-07-20T15:59:19.376648Z",
     "iopub.status.idle": "2024-07-20T15:59:19.415675Z",
     "shell.execute_reply": "2024-07-20T15:59:19.413364Z"
    },
    "papermill": {
     "duration": 0.063424,
     "end_time": "2024-07-20T15:59:19.418484",
     "exception": false,
     "start_time": "2024-07-20T15:59:19.355060",
     "status": "completed"
    },
    "tags": []
   },
   "outputs": [
    {
     "name": "stdout",
     "output_type": "stream",
     "text": [
      "<class 'pandas.core.frame.DataFrame'>\n",
      "RangeIndex: 4650 entries, 0 to 4649\n",
      "Data columns (total 7 columns):\n",
      " #   Column    Non-Null Count  Dtype  \n",
      "---  ------    --------------  -----  \n",
      " 0   Review #  4650 non-null   int64  \n",
      " 1   Brand     4650 non-null   object \n",
      " 2   Variety   4650 non-null   object \n",
      " 3   Style     4650 non-null   object \n",
      " 4   Country   4650 non-null   object \n",
      " 5   Stars     4648 non-null   object \n",
      " 6   T         0 non-null      float64\n",
      "dtypes: float64(1), int64(1), object(5)\n",
      "memory usage: 254.4+ KB\n",
      "----------------------------------------\n",
      "----------------------------------------\n",
      "Unique values per column:\n"
     ]
    },
    {
     "data": {
      "text/plain": [
       "Review #    4650\n",
       "Brand        698\n",
       "Variety     4325\n",
       "Style         10\n",
       "Country       54\n",
       "Stars         53\n",
       "T              0\n",
       "dtype: int64"
      ]
     },
     "execution_count": 3,
     "metadata": {},
     "output_type": "execute_result"
    }
   ],
   "source": [
    "df.info()\n",
    "print(\"----------------------------------------\")\n",
    "print(\"----------------------------------------\")\n",
    "print(\"Unique values per column:\")\n",
    "df.nunique()"
   ]
  },
  {
   "cell_type": "markdown",
   "id": "05088e90",
   "metadata": {
    "papermill": {
     "duration": 0.020131,
     "end_time": "2024-07-20T15:59:19.459538",
     "exception": false,
     "start_time": "2024-07-20T15:59:19.439407",
     "status": "completed"
    },
    "tags": []
   },
   "source": [
    "<p style=\"font-size:18px;\"> From this I can see that with the exception of the columns \"Stars\" and \"T\" all the other columns contain 4650 values. Where the column T only contains null values this column can be removed. In addition it looks like there are 2 missing values from the stars column which will have to be dropped."
   ]
  },
  {
   "cell_type": "code",
   "execution_count": 4,
   "id": "97c90c9a",
   "metadata": {
    "execution": {
     "iopub.execute_input": "2024-07-20T15:59:19.503029Z",
     "iopub.status.busy": "2024-07-20T15:59:19.502609Z",
     "iopub.status.idle": "2024-07-20T15:59:19.513928Z",
     "shell.execute_reply": "2024-07-20T15:59:19.512393Z"
    },
    "papermill": {
     "duration": 0.036106,
     "end_time": "2024-07-20T15:59:19.516442",
     "exception": false,
     "start_time": "2024-07-20T15:59:19.480336",
     "status": "completed"
    },
    "tags": []
   },
   "outputs": [
    {
     "name": "stdout",
     "output_type": "stream",
     "text": [
      "Column Dropped\n"
     ]
    }
   ],
   "source": [
    "df = df.drop('T', axis=1)\n",
    "print(\"Column Dropped\")"
   ]
  },
  {
   "cell_type": "markdown",
   "id": "e80967ba",
   "metadata": {
    "papermill": {
     "duration": 0.020839,
     "end_time": "2024-07-20T15:59:19.557569",
     "exception": false,
     "start_time": "2024-07-20T15:59:19.536730",
     "status": "completed"
    },
    "tags": []
   },
   "source": [
    "<p style=\"font-size:18px;\"> There appears to be a huge number of unique values in stars. I was expecting 11 values (If you include half stars) or 21 values if you include quarter stars but something doesn't seem right if there are 53 unique values. To check this I will print out all the unique values below."
   ]
  },
  {
   "cell_type": "code",
   "execution_count": 5,
   "id": "ecbd6b41",
   "metadata": {
    "execution": {
     "iopub.execute_input": "2024-07-20T15:59:19.600380Z",
     "iopub.status.busy": "2024-07-20T15:59:19.599967Z",
     "iopub.status.idle": "2024-07-20T15:59:19.608200Z",
     "shell.execute_reply": "2024-07-20T15:59:19.607066Z"
    },
    "papermill": {
     "duration": 0.032523,
     "end_time": "2024-07-20T15:59:19.610870",
     "exception": false,
     "start_time": "2024-07-20T15:59:19.578347",
     "status": "completed"
    },
    "tags": []
   },
   "outputs": [
    {
     "data": {
      "text/plain": [
       "array(['5', '4.5', '3.75', '3.5', '2.5', '4.25', '4', '3.25', '1.5', '2',\n",
       "       'Detail of the lid (click to enlarge). ', '1', nan, '3', '1.75',\n",
       "       '435', '2.75', '0', '0.25', '2.25', '4.75', '35', '0.5', '0.75',\n",
       "       '1.25', 'NS', 'NR', '3.5/2.5', '4/4', '5/5', '4.5/5', '5/2.5',\n",
       "       '5/4', '4.25/5', 'Unrated', '3.50', '1.1', '2.1', '0.9', '3.1',\n",
       "       '4.125', '3.125', '2.125', '2.9', '0.1', '2.8', '3.7', '3.4',\n",
       "       '3.6', '2.85', '2.3', '3.2', '3.65', '1.8'], dtype=object)"
      ]
     },
     "execution_count": 5,
     "metadata": {},
     "output_type": "execute_result"
    }
   ],
   "source": [
    "df['Stars'].unique()"
   ]
  },
  {
   "cell_type": "markdown",
   "id": "6aab5ee1",
   "metadata": {
    "papermill": {
     "duration": 0.026279,
     "end_time": "2024-07-20T15:59:19.663240",
     "exception": false,
     "start_time": "2024-07-20T15:59:19.636961",
     "status": "completed"
    },
    "tags": []
   },
   "source": [
    "<p style=\"font-size:18px;\"> It appears that the rating system is a bit unconventional. For the most part the reviews are what I would expect but there are several odd values such as 3.6, 2.85, 0.9, 2.125. I cross referenced the reviews in this dataset vs the data source (https://www.theramenrater.com/resources-2/the-list/) The Ramen Rater notes that:\n",
    "    \n",
    "> <p style=\"font-size:18px;\">These reviews are based on my personal preferences, not on sales of popularity. Scores are in .25 increments – rounding is NOT recommended. Think of letter grading; a 3.5 score out of 5 stars – (3.5 * 2) * 10 = 70 = C. So, rounding a 3.5 to a 4.0 doesn’t reflect it correctly.\n",
    "I started reviewing in 2002. I’m a stay at home dad and have very poor vision – typos may be in there here and there, but the whole set is pretty cleaned up as to such idiosyncrasies.\n",
    "    \n",
    "<p style=\"font-size:18px;\"> With this knowledge in mind I will go though and round the star's value to the nearest 0.25 and remove/amend invalid values. to begin I find out how many rows have the string ratings."
   ]
  },
  {
   "cell_type": "code",
   "execution_count": 6,
   "id": "e9f9b57d",
   "metadata": {
    "execution": {
     "iopub.execute_input": "2024-07-20T15:59:19.707848Z",
     "iopub.status.busy": "2024-07-20T15:59:19.707204Z",
     "iopub.status.idle": "2024-07-20T15:59:19.726751Z",
     "shell.execute_reply": "2024-07-20T15:59:19.725276Z"
    },
    "papermill": {
     "duration": 0.044826,
     "end_time": "2024-07-20T15:59:19.729375",
     "exception": false,
     "start_time": "2024-07-20T15:59:19.684549",
     "status": "completed"
    },
    "tags": []
   },
   "outputs": [
    {
     "name": "stdout",
     "output_type": "stream",
     "text": [
      "Number of non-numeric values: 16\n"
     ]
    },
    {
     "data": {
      "text/plain": [
       "82      Detail of the lid (click to enlarge). \n",
       "1217                                        NS\n",
       "1500                                        NR\n",
       "1501                                        NR\n",
       "2009                                        NR\n",
       "2038                                   3.5/2.5\n",
       "2039                                       4/4\n",
       "2040                                       5/5\n",
       "2041                                     4.5/5\n",
       "2042                                     5/2.5\n",
       "2043                                       5/4\n",
       "2044                                    4.25/5\n",
       "2045                                    4.25/5\n",
       "2102                                   Unrated\n",
       "2192                                   Unrated\n",
       "3063                                   Unrated\n",
       "Name: Stars, dtype: object"
      ]
     },
     "execution_count": 6,
     "metadata": {},
     "output_type": "execute_result"
    }
   ],
   "source": [
    "# Function to check if a value is numeric\n",
    "def is_numeric(value):\n",
    "    try:\n",
    "        float(value)\n",
    "        return True\n",
    "    except ValueError:\n",
    "        return False\n",
    "\n",
    "# Apply the function to the 'Stars' column to filter non-numeric values\n",
    "non_numeric_values = df[~df['Stars'].apply(is_numeric)]['Stars']\n",
    "\n",
    "print(\"Number of non-numeric values:\",len(non_numeric_values))\n",
    "non_numeric_values"
   ]
  },
  {
   "cell_type": "markdown",
   "id": "44962a84",
   "metadata": {
    "papermill": {
     "duration": 0.026176,
     "end_time": "2024-07-20T15:59:19.776519",
     "exception": false,
     "start_time": "2024-07-20T15:59:19.750343",
     "status": "completed"
    },
    "tags": []
   },
   "source": [
    "<p style=\"font-size:18px;\"> It appears that there are 16 values which require cleaning. Some values where there has been no rating can be removed as there is no way to infer the correct rating. It also seems that some of the values are correct but have been put in an invalid format i.e. 4.25/5 instead of just 4.25. Where possible I will amend the handful of values which are not formatted correctly and remove the rows which do not have a review."
   ]
  },
  {
   "cell_type": "code",
   "execution_count": 7,
   "id": "d57bd873",
   "metadata": {
    "execution": {
     "iopub.execute_input": "2024-07-20T15:59:19.826929Z",
     "iopub.status.busy": "2024-07-20T15:59:19.825799Z",
     "iopub.status.idle": "2024-07-20T15:59:19.846338Z",
     "shell.execute_reply": "2024-07-20T15:59:19.845171Z"
    },
    "papermill": {
     "duration": 0.04887,
     "end_time": "2024-07-20T15:59:19.849033",
     "exception": false,
     "start_time": "2024-07-20T15:59:19.800163",
     "status": "completed"
    },
    "tags": []
   },
   "outputs": [
    {
     "data": {
      "text/plain": [
       "array(['5', '4.5', '3.75', '3.5', '2.5', '4.25', '4', '3.25', '1.5', '2',\n",
       "       '1', nan, '3', '1.75', '4.35', '2.75', '0', '0.25', '2.25', '4.75',\n",
       "       '0.5', '0.75', '1.25', '3.50', '1.1', '2.1', '0.9', '3.1', '4.125',\n",
       "       '3.125', '2.125', '2.9', '0.1', '2.8', '3.7', '3.4', '3.6', '2.85',\n",
       "       '2.3', '3.2', '3.65', '1.8'], dtype=object)"
      ]
     },
     "execution_count": 7,
     "metadata": {},
     "output_type": "execute_result"
    }
   ],
   "source": [
    "values_to_drop = [\"Detail of the lid (click to enlarge). \", \"NS\", \"NR\", \"Unrated\", \"3.5/2.5\"]\n",
    "df = df[~df['Stars'].isin(values_to_drop)]\n",
    "\n",
    "values_to_replace = {\"5/5\": \"5\",\"4/4\": \"5\",\"4.5/5\": \"4.5\",\"5/2.5\": \"2.5\",\"5/4\": \"4\",\"4.25/5\": \"4.25\", \"35\":\"3.5\", \"435\":\"4.35\"}\n",
    "df['Stars'] = df['Stars'].replace(values_to_replace)\n",
    "\n",
    "df['Stars'].unique()"
   ]
  },
  {
   "cell_type": "markdown",
   "id": "e174298a",
   "metadata": {
    "papermill": {
     "duration": 0.021605,
     "end_time": "2024-07-20T15:59:19.893276",
     "exception": false,
     "start_time": "2024-07-20T15:59:19.871671",
     "status": "completed"
    },
    "tags": []
   },
   "source": [
    "<p style=\"font-size:18px;\"> This looks much better but there still appears to be one several NaN values in the dataset."
   ]
  },
  {
   "cell_type": "code",
   "execution_count": 8,
   "id": "a60d2bcd",
   "metadata": {
    "execution": {
     "iopub.execute_input": "2024-07-20T15:59:19.944258Z",
     "iopub.status.busy": "2024-07-20T15:59:19.943705Z",
     "iopub.status.idle": "2024-07-20T15:59:19.953335Z",
     "shell.execute_reply": "2024-07-20T15:59:19.952207Z"
    },
    "papermill": {
     "duration": 0.041187,
     "end_time": "2024-07-20T15:59:19.956299",
     "exception": false,
     "start_time": "2024-07-20T15:59:19.915112",
     "status": "completed"
    },
    "tags": []
   },
   "outputs": [
    {
     "data": {
      "text/plain": [
       "2"
      ]
     },
     "execution_count": 8,
     "metadata": {},
     "output_type": "execute_result"
    }
   ],
   "source": [
    "df['Stars'].isna().sum()"
   ]
  },
  {
   "cell_type": "markdown",
   "id": "f4e076e2",
   "metadata": {
    "papermill": {
     "duration": 0.021782,
     "end_time": "2024-07-20T15:59:20.003466",
     "exception": false,
     "start_time": "2024-07-20T15:59:19.981684",
     "status": "completed"
    },
    "tags": []
   },
   "source": [
    "<p style=\"font-size:18px;\"> Where there are only 2 rows which have NaN values I will remove these rows as well. The Stars column now only contains numeric values and can be converted from object datatype to float datatype."
   ]
  },
  {
   "cell_type": "code",
   "execution_count": 9,
   "id": "32861ec8",
   "metadata": {
    "execution": {
     "iopub.execute_input": "2024-07-20T15:59:20.050535Z",
     "iopub.status.busy": "2024-07-20T15:59:20.049962Z",
     "iopub.status.idle": "2024-07-20T15:59:20.065530Z",
     "shell.execute_reply": "2024-07-20T15:59:20.064017Z"
    },
    "papermill": {
     "duration": 0.041614,
     "end_time": "2024-07-20T15:59:20.068211",
     "exception": false,
     "start_time": "2024-07-20T15:59:20.026597",
     "status": "completed"
    },
    "tags": []
   },
   "outputs": [
    {
     "name": "stdout",
     "output_type": "stream",
     "text": [
      "Total length of dataset: 4639\n"
     ]
    }
   ],
   "source": [
    "df = df.dropna(subset=['Stars'])\n",
    "\n",
    "# Converting \"Stars\" to float datatype\n",
    "df['Stars'] = df['Stars'].astype('float')\n",
    "\n",
    "print(\"Total length of dataset:\",len(df))"
   ]
  },
  {
   "cell_type": "markdown",
   "id": "0bd3e5cb",
   "metadata": {
    "papermill": {
     "duration": 0.021725,
     "end_time": "2024-07-20T15:59:20.111605",
     "exception": false,
     "start_time": "2024-07-20T15:59:20.089880",
     "status": "completed"
    },
    "tags": []
   },
   "source": [
    "<p style=\"font-size:18px;\"> By removing the rows which contain null values or unusable data the total dataset has been reduced by 11 rows from the maximum 4650 to 4639.\n",
    "\n",
    "<p style=\"font-size:18px;\"> Next I need to identify how many reviews have incorrect values (any values which are not divisible by 0.25)"
   ]
  },
  {
   "cell_type": "code",
   "execution_count": 10,
   "id": "6793df1b",
   "metadata": {
    "execution": {
     "iopub.execute_input": "2024-07-20T15:59:20.166542Z",
     "iopub.status.busy": "2024-07-20T15:59:20.165262Z",
     "iopub.status.idle": "2024-07-20T15:59:20.189556Z",
     "shell.execute_reply": "2024-07-20T15:59:20.188181Z"
    },
    "papermill": {
     "duration": 0.05305,
     "end_time": "2024-07-20T15:59:20.192322",
     "exception": false,
     "start_time": "2024-07-20T15:59:20.139272",
     "status": "completed"
    },
    "tags": []
   },
   "outputs": [
    {
     "name": "stdout",
     "output_type": "stream",
     "text": [
      "Number of star errors: 24\n"
     ]
    },
    {
     "data": {
      "text/html": [
       "<div>\n",
       "<style scoped>\n",
       "    .dataframe tbody tr th:only-of-type {\n",
       "        vertical-align: middle;\n",
       "    }\n",
       "\n",
       "    .dataframe tbody tr th {\n",
       "        vertical-align: top;\n",
       "    }\n",
       "\n",
       "    .dataframe thead th {\n",
       "        text-align: right;\n",
       "    }\n",
       "</style>\n",
       "<table border=\"1\" class=\"dataframe\">\n",
       "  <thead>\n",
       "    <tr style=\"text-align: right;\">\n",
       "      <th></th>\n",
       "      <th>Review #</th>\n",
       "      <th>Brand</th>\n",
       "      <th>Variety</th>\n",
       "      <th>Style</th>\n",
       "      <th>Country</th>\n",
       "      <th>Stars</th>\n",
       "    </tr>\n",
       "  </thead>\n",
       "  <tbody>\n",
       "    <tr>\n",
       "      <th>119</th>\n",
       "      <td>4531</td>\n",
       "      <td>Shoo Loong Kan</td>\n",
       "      <td>Lan Zhou La Mian</td>\n",
       "      <td>Box</td>\n",
       "      <td>China</td>\n",
       "      <td>4.350</td>\n",
       "    </tr>\n",
       "    <tr>\n",
       "      <th>4015</th>\n",
       "      <td>635</td>\n",
       "      <td>Ottogi</td>\n",
       "      <td>Buckwheat Bibim Ramyon</td>\n",
       "      <td>Pack</td>\n",
       "      <td>South Korea</td>\n",
       "      <td>1.100</td>\n",
       "    </tr>\n",
       "    <tr>\n",
       "      <th>4063</th>\n",
       "      <td>587</td>\n",
       "      <td>Sunlight</td>\n",
       "      <td>Steam Vermicelli</td>\n",
       "      <td>Pack</td>\n",
       "      <td>Taiwan</td>\n",
       "      <td>2.100</td>\n",
       "    </tr>\n",
       "    <tr>\n",
       "      <th>4115</th>\n",
       "      <td>535</td>\n",
       "      <td>Wai Wai</td>\n",
       "      <td>Chicken Flavor</td>\n",
       "      <td>Pack</td>\n",
       "      <td>Thailand</td>\n",
       "      <td>0.900</td>\n",
       "    </tr>\n",
       "    <tr>\n",
       "      <th>4116</th>\n",
       "      <td>534</td>\n",
       "      <td>Mama</td>\n",
       "      <td>Pho Ga</td>\n",
       "      <td>Pack</td>\n",
       "      <td>Thailand</td>\n",
       "      <td>3.100</td>\n",
       "    </tr>\n",
       "    <tr>\n",
       "      <th>4238</th>\n",
       "      <td>412</td>\n",
       "      <td>Maruchan</td>\n",
       "      <td>Midori No Tanuki</td>\n",
       "      <td>Bowl</td>\n",
       "      <td>Japan</td>\n",
       "      <td>4.125</td>\n",
       "    </tr>\n",
       "    <tr>\n",
       "      <th>4304</th>\n",
       "      <td>346</td>\n",
       "      <td>Paldo</td>\n",
       "      <td>Bowl Noodle Spicy Artificial Chicken</td>\n",
       "      <td>Bowl</td>\n",
       "      <td>South Korea</td>\n",
       "      <td>3.125</td>\n",
       "    </tr>\n",
       "    <tr>\n",
       "      <th>4316</th>\n",
       "      <td>334</td>\n",
       "      <td>Nissin</td>\n",
       "      <td>Big Cup Noodles Beef</td>\n",
       "      <td>Cup</td>\n",
       "      <td>United States</td>\n",
       "      <td>2.125</td>\n",
       "    </tr>\n",
       "    <tr>\n",
       "      <th>4460</th>\n",
       "      <td>190</td>\n",
       "      <td>Maggi</td>\n",
       "      <td>Perencah Tom Yam</td>\n",
       "      <td>Pack</td>\n",
       "      <td>Malaysia</td>\n",
       "      <td>2.900</td>\n",
       "    </tr>\n",
       "    <tr>\n",
       "      <th>4474</th>\n",
       "      <td>176</td>\n",
       "      <td>Paldo</td>\n",
       "      <td>Dosirac Pork</td>\n",
       "      <td>Tray</td>\n",
       "      <td>South Korea</td>\n",
       "      <td>4.125</td>\n",
       "    </tr>\n",
       "    <tr>\n",
       "      <th>4522</th>\n",
       "      <td>128</td>\n",
       "      <td>Mama</td>\n",
       "      <td>Artificial PA-LO Duck</td>\n",
       "      <td>Pack</td>\n",
       "      <td>Thailand</td>\n",
       "      <td>0.100</td>\n",
       "    </tr>\n",
       "    <tr>\n",
       "      <th>4523</th>\n",
       "      <td>127</td>\n",
       "      <td>Vifon</td>\n",
       "      <td>Mi Chay Vegetarian</td>\n",
       "      <td>Pack</td>\n",
       "      <td>Vietnam</td>\n",
       "      <td>2.800</td>\n",
       "    </tr>\n",
       "    <tr>\n",
       "      <th>4527</th>\n",
       "      <td>123</td>\n",
       "      <td>Wai Wai</td>\n",
       "      <td>Minced Pork Soeng Kreung</td>\n",
       "      <td>Pack</td>\n",
       "      <td>Thailand</td>\n",
       "      <td>3.700</td>\n",
       "    </tr>\n",
       "    <tr>\n",
       "      <th>4531</th>\n",
       "      <td>119</td>\n",
       "      <td>Ve Wong</td>\n",
       "      <td>Artificial Pork &amp; Chicken</td>\n",
       "      <td>Pack</td>\n",
       "      <td>Taiwan</td>\n",
       "      <td>3.400</td>\n",
       "    </tr>\n",
       "    <tr>\n",
       "      <th>4534</th>\n",
       "      <td>116</td>\n",
       "      <td>Mama</td>\n",
       "      <td>Nam Vang</td>\n",
       "      <td>Pack</td>\n",
       "      <td>Thailand</td>\n",
       "      <td>3.600</td>\n",
       "    </tr>\n",
       "    <tr>\n",
       "      <th>4535</th>\n",
       "      <td>115</td>\n",
       "      <td>Ottogi</td>\n",
       "      <td>Miso Ramyun</td>\n",
       "      <td>Pack</td>\n",
       "      <td>South Korea</td>\n",
       "      <td>2.800</td>\n",
       "    </tr>\n",
       "    <tr>\n",
       "      <th>4536</th>\n",
       "      <td>114</td>\n",
       "      <td>Samyang</td>\n",
       "      <td>Kimchi</td>\n",
       "      <td>Pack</td>\n",
       "      <td>South Korea</td>\n",
       "      <td>2.900</td>\n",
       "    </tr>\n",
       "    <tr>\n",
       "      <th>4541</th>\n",
       "      <td>109</td>\n",
       "      <td>Mama</td>\n",
       "      <td>Pad Thai</td>\n",
       "      <td>Pack</td>\n",
       "      <td>Thailand</td>\n",
       "      <td>3.100</td>\n",
       "    </tr>\n",
       "    <tr>\n",
       "      <th>4543</th>\n",
       "      <td>107</td>\n",
       "      <td>Ottogi</td>\n",
       "      <td>Pow Crunch Teriyaki</td>\n",
       "      <td>Pack</td>\n",
       "      <td>South Korea</td>\n",
       "      <td>1.100</td>\n",
       "    </tr>\n",
       "    <tr>\n",
       "      <th>4550</th>\n",
       "      <td>100</td>\n",
       "      <td>Unif / Tung-I</td>\n",
       "      <td>Artificial Chinese Beef</td>\n",
       "      <td>Pack</td>\n",
       "      <td>Taiwan</td>\n",
       "      <td>2.850</td>\n",
       "    </tr>\n",
       "    <tr>\n",
       "      <th>4560</th>\n",
       "      <td>90</td>\n",
       "      <td>Long Kow</td>\n",
       "      <td>Crystal Noodle Six Kinds Of Mushrooms</td>\n",
       "      <td>Pack</td>\n",
       "      <td>China</td>\n",
       "      <td>2.300</td>\n",
       "    </tr>\n",
       "    <tr>\n",
       "      <th>4561</th>\n",
       "      <td>89</td>\n",
       "      <td>Unif</td>\n",
       "      <td>100 Artificial Stewed Pork Chop</td>\n",
       "      <td>Pack</td>\n",
       "      <td>Taiwan</td>\n",
       "      <td>3.200</td>\n",
       "    </tr>\n",
       "    <tr>\n",
       "      <th>4564</th>\n",
       "      <td>86</td>\n",
       "      <td>Unif / Tung-I</td>\n",
       "      <td>Onion Flavor</td>\n",
       "      <td>Pack</td>\n",
       "      <td>Taiwan</td>\n",
       "      <td>3.650</td>\n",
       "    </tr>\n",
       "    <tr>\n",
       "      <th>4566</th>\n",
       "      <td>84</td>\n",
       "      <td>Samyang</td>\n",
       "      <td>Kalgug-Su Assorted Clam</td>\n",
       "      <td>Pack</td>\n",
       "      <td>South Korea</td>\n",
       "      <td>1.800</td>\n",
       "    </tr>\n",
       "  </tbody>\n",
       "</table>\n",
       "</div>"
      ],
      "text/plain": [
       "      Review #           Brand                                Variety Style  \\\n",
       "119       4531  Shoo Loong Kan                       Lan Zhou La Mian   Box   \n",
       "4015       635          Ottogi                 Buckwheat Bibim Ramyon  Pack   \n",
       "4063       587        Sunlight                       Steam Vermicelli  Pack   \n",
       "4115       535         Wai Wai                         Chicken Flavor  Pack   \n",
       "4116       534            Mama                                 Pho Ga  Pack   \n",
       "4238       412        Maruchan                       Midori No Tanuki  Bowl   \n",
       "4304       346           Paldo   Bowl Noodle Spicy Artificial Chicken  Bowl   \n",
       "4316       334          Nissin                   Big Cup Noodles Beef   Cup   \n",
       "4460       190           Maggi                       Perencah Tom Yam  Pack   \n",
       "4474       176           Paldo                           Dosirac Pork  Tray   \n",
       "4522       128            Mama                  Artificial PA-LO Duck  Pack   \n",
       "4523       127           Vifon                     Mi Chay Vegetarian  Pack   \n",
       "4527       123         Wai Wai               Minced Pork Soeng Kreung  Pack   \n",
       "4531       119         Ve Wong              Artificial Pork & Chicken  Pack   \n",
       "4534       116            Mama                               Nam Vang  Pack   \n",
       "4535       115          Ottogi                            Miso Ramyun  Pack   \n",
       "4536       114         Samyang                                 Kimchi  Pack   \n",
       "4541       109            Mama                               Pad Thai  Pack   \n",
       "4543       107          Ottogi                    Pow Crunch Teriyaki  Pack   \n",
       "4550       100   Unif / Tung-I                Artificial Chinese Beef  Pack   \n",
       "4560        90        Long Kow  Crystal Noodle Six Kinds Of Mushrooms  Pack   \n",
       "4561        89            Unif        100 Artificial Stewed Pork Chop  Pack   \n",
       "4564        86   Unif / Tung-I                           Onion Flavor  Pack   \n",
       "4566        84         Samyang                Kalgug-Su Assorted Clam  Pack   \n",
       "\n",
       "            Country  Stars  \n",
       "119           China  4.350  \n",
       "4015    South Korea  1.100  \n",
       "4063         Taiwan  2.100  \n",
       "4115       Thailand  0.900  \n",
       "4116       Thailand  3.100  \n",
       "4238          Japan  4.125  \n",
       "4304    South Korea  3.125  \n",
       "4316  United States  2.125  \n",
       "4460       Malaysia  2.900  \n",
       "4474    South Korea  4.125  \n",
       "4522       Thailand  0.100  \n",
       "4523        Vietnam  2.800  \n",
       "4527       Thailand  3.700  \n",
       "4531         Taiwan  3.400  \n",
       "4534       Thailand  3.600  \n",
       "4535    South Korea  2.800  \n",
       "4536    South Korea  2.900  \n",
       "4541       Thailand  3.100  \n",
       "4543    South Korea  1.100  \n",
       "4550         Taiwan  2.850  \n",
       "4560          China  2.300  \n",
       "4561         Taiwan  3.200  \n",
       "4564         Taiwan  3.650  \n",
       "4566    South Korea  1.800  "
      ]
     },
     "execution_count": 10,
     "metadata": {},
     "output_type": "execute_result"
    }
   ],
   "source": [
    "star_errors = df[df['Stars'] % 0.25 != 0]\n",
    "\n",
    "print(\"Number of star errors:\", len(star_errors))\n",
    "star_errors"
   ]
  },
  {
   "cell_type": "markdown",
   "id": "19ae5bf2",
   "metadata": {
    "papermill": {
     "duration": 0.021582,
     "end_time": "2024-07-20T15:59:20.236011",
     "exception": false,
     "start_time": "2024-07-20T15:59:20.214429",
     "status": "completed"
    },
    "tags": []
   },
   "source": [
    "<p style=\"font-size:18px;\"> In total there are 24 values which need amending. As these reviews do not follow the star rating system as defined by The Ramen Rater. "
   ]
  },
  {
   "cell_type": "code",
   "execution_count": 11,
   "id": "18939b0c",
   "metadata": {
    "execution": {
     "iopub.execute_input": "2024-07-20T15:59:20.281343Z",
     "iopub.status.busy": "2024-07-20T15:59:20.280912Z",
     "iopub.status.idle": "2024-07-20T15:59:20.293878Z",
     "shell.execute_reply": "2024-07-20T15:59:20.292771Z"
    },
    "papermill": {
     "duration": 0.038645,
     "end_time": "2024-07-20T15:59:20.296396",
     "exception": false,
     "start_time": "2024-07-20T15:59:20.257751",
     "status": "completed"
    },
    "tags": []
   },
   "outputs": [
    {
     "data": {
      "text/plain": [
       "array([0.  , 0.25, 0.5 , 0.75, 1.  , 1.25, 1.5 , 1.75, 2.  , 2.25, 2.5 ,\n",
       "       2.75, 3.  , 3.25, 3.5 , 3.75, 4.  , 4.25, 4.5 , 4.75, 5.  ])"
      ]
     },
     "execution_count": 11,
     "metadata": {},
     "output_type": "execute_result"
    }
   ],
   "source": [
    "# Ensures rounding up of the 0.125 Values\n",
    "df['Stars'] = (df['Stars'] + 0.001)\n",
    "\n",
    "# Apply the rounding function to the 'Stars' column\n",
    "df['Stars'] = (df['Stars'] * 4).round() / 4\n",
    "\n",
    "# Unique Star values sorted in accending order\n",
    "np.sort(df['Stars'].unique())"
   ]
  },
  {
   "cell_type": "markdown",
   "id": "a4aaa467",
   "metadata": {
    "papermill": {
     "duration": 0.082399,
     "end_time": "2024-07-20T15:59:20.401538",
     "exception": false,
     "start_time": "2024-07-20T15:59:20.319139",
     "status": "completed"
    },
    "tags": []
   },
   "source": [
    "<p style=\"font-size:18px;\"> All the values have been amended and the star columns now only contain values from 0 to 5 in 0.25 increments.\n",
    "    \n",
    "<p style=\"font-size:18px;\"> To continue it is important to check all the columns are clean and correct. I decided to look at the \"Style\" column next."
   ]
  },
  {
   "cell_type": "code",
   "execution_count": 12,
   "id": "4e1bd075",
   "metadata": {
    "execution": {
     "iopub.execute_input": "2024-07-20T15:59:20.448498Z",
     "iopub.status.busy": "2024-07-20T15:59:20.447524Z",
     "iopub.status.idle": "2024-07-20T15:59:20.459069Z",
     "shell.execute_reply": "2024-07-20T15:59:20.457871Z"
    },
    "papermill": {
     "duration": 0.038589,
     "end_time": "2024-07-20T15:59:20.462237",
     "exception": false,
     "start_time": "2024-07-20T15:59:20.423648",
     "status": "completed"
    },
    "tags": []
   },
   "outputs": [
    {
     "data": {
      "text/plain": [
       "Style\n",
       "Pack          2478\n",
       "Bowl           926\n",
       "Cup            908\n",
       "Tray           207\n",
       "Box            113\n",
       "Restaurant       3\n",
       "Boowl            1\n",
       "Bottle           1\n",
       "Can              1\n",
       "Bar              1\n",
       "Name: count, dtype: int64"
      ]
     },
     "execution_count": 12,
     "metadata": {},
     "output_type": "execute_result"
    }
   ],
   "source": [
    "df['Style'].value_counts()"
   ]
  },
  {
   "cell_type": "markdown",
   "id": "671d12d8",
   "metadata": {
    "papermill": {
     "duration": 0.022285,
     "end_time": "2024-07-20T15:59:20.510533",
     "exception": false,
     "start_time": "2024-07-20T15:59:20.488248",
     "status": "completed"
    },
    "tags": []
   },
   "source": [
    "<p style=\"font-size:18px;\"> Unfortunately there is one spelling mistake where \"Bowl\" has been inputted as \"Boowl\" so I will correct this. In addition there are several styles which only appear in a handful of rows, where these styles are too few I will group them together and change their style to \"Other\"."
   ]
  },
  {
   "cell_type": "code",
   "execution_count": 13,
   "id": "670548de",
   "metadata": {
    "execution": {
     "iopub.execute_input": "2024-07-20T15:59:20.557926Z",
     "iopub.status.busy": "2024-07-20T15:59:20.556926Z",
     "iopub.status.idle": "2024-07-20T15:59:20.571977Z",
     "shell.execute_reply": "2024-07-20T15:59:20.570606Z"
    },
    "papermill": {
     "duration": 0.041639,
     "end_time": "2024-07-20T15:59:20.574726",
     "exception": false,
     "start_time": "2024-07-20T15:59:20.533087",
     "status": "completed"
    },
    "tags": []
   },
   "outputs": [
    {
     "data": {
      "text/plain": [
       "Style\n",
       "Pack     2478\n",
       "Bowl      927\n",
       "Cup       908\n",
       "Tray      207\n",
       "Box       113\n",
       "Other       6\n",
       "Name: count, dtype: int64"
      ]
     },
     "execution_count": 13,
     "metadata": {},
     "output_type": "execute_result"
    }
   ],
   "source": [
    "df['Style'] = df['Style'].replace('Boowl', 'Bowl')\n",
    "df.loc[df['Style'].isin(['Restaurant', 'Bottle', 'Can', 'Bar']), 'Style'] = 'Other'\n",
    "df['Style'].value_counts()"
   ]
  },
  {
   "cell_type": "markdown",
   "id": "49a30f08",
   "metadata": {
    "papermill": {
     "duration": 0.022796,
     "end_time": "2024-07-20T15:59:20.620305",
     "exception": false,
     "start_time": "2024-07-20T15:59:20.597509",
     "status": "completed"
    },
    "tags": []
   },
   "source": [
    "<p style=\"font-size:18px;\"> Now That I was confident that the data was cleaned and usable I used the describe function within pandas which gives me a quick overview of the data per column."
   ]
  },
  {
   "cell_type": "code",
   "execution_count": 14,
   "id": "8607d6f8",
   "metadata": {
    "execution": {
     "iopub.execute_input": "2024-07-20T15:59:20.668555Z",
     "iopub.status.busy": "2024-07-20T15:59:20.668041Z",
     "iopub.status.idle": "2024-07-20T15:59:20.711426Z",
     "shell.execute_reply": "2024-07-20T15:59:20.710247Z"
    },
    "papermill": {
     "duration": 0.071649,
     "end_time": "2024-07-20T15:59:20.714650",
     "exception": false,
     "start_time": "2024-07-20T15:59:20.643001",
     "status": "completed"
    },
    "tags": []
   },
   "outputs": [
    {
     "data": {
      "text/html": [
       "<div>\n",
       "<style scoped>\n",
       "    .dataframe tbody tr th:only-of-type {\n",
       "        vertical-align: middle;\n",
       "    }\n",
       "\n",
       "    .dataframe tbody tr th {\n",
       "        vertical-align: top;\n",
       "    }\n",
       "\n",
       "    .dataframe thead th {\n",
       "        text-align: right;\n",
       "    }\n",
       "</style>\n",
       "<table border=\"1\" class=\"dataframe\">\n",
       "  <thead>\n",
       "    <tr style=\"text-align: right;\">\n",
       "      <th></th>\n",
       "      <th>Review #</th>\n",
       "      <th>Brand</th>\n",
       "      <th>Variety</th>\n",
       "      <th>Style</th>\n",
       "      <th>Country</th>\n",
       "      <th>Stars</th>\n",
       "    </tr>\n",
       "  </thead>\n",
       "  <tbody>\n",
       "    <tr>\n",
       "      <th>count</th>\n",
       "      <td>4639.000000</td>\n",
       "      <td>4639</td>\n",
       "      <td>4639</td>\n",
       "      <td>4639</td>\n",
       "      <td>4639</td>\n",
       "      <td>4639.000000</td>\n",
       "    </tr>\n",
       "    <tr>\n",
       "      <th>unique</th>\n",
       "      <td>NaN</td>\n",
       "      <td>695</td>\n",
       "      <td>4316</td>\n",
       "      <td>6</td>\n",
       "      <td>54</td>\n",
       "      <td>NaN</td>\n",
       "    </tr>\n",
       "    <tr>\n",
       "      <th>top</th>\n",
       "      <td>NaN</td>\n",
       "      <td>Nissin</td>\n",
       "      <td>Miso Ramen</td>\n",
       "      <td>Pack</td>\n",
       "      <td>Japan</td>\n",
       "      <td>NaN</td>\n",
       "    </tr>\n",
       "    <tr>\n",
       "      <th>freq</th>\n",
       "      <td>NaN</td>\n",
       "      <td>566</td>\n",
       "      <td>12</td>\n",
       "      <td>2478</td>\n",
       "      <td>949</td>\n",
       "      <td>NaN</td>\n",
       "    </tr>\n",
       "    <tr>\n",
       "      <th>mean</th>\n",
       "      <td>2323.494072</td>\n",
       "      <td>NaN</td>\n",
       "      <td>NaN</td>\n",
       "      <td>NaN</td>\n",
       "      <td>NaN</td>\n",
       "      <td>3.741108</td>\n",
       "    </tr>\n",
       "    <tr>\n",
       "      <th>std</th>\n",
       "      <td>1342.722277</td>\n",
       "      <td>NaN</td>\n",
       "      <td>NaN</td>\n",
       "      <td>NaN</td>\n",
       "      <td>NaN</td>\n",
       "      <td>1.071223</td>\n",
       "    </tr>\n",
       "    <tr>\n",
       "      <th>min</th>\n",
       "      <td>1.000000</td>\n",
       "      <td>NaN</td>\n",
       "      <td>NaN</td>\n",
       "      <td>NaN</td>\n",
       "      <td>NaN</td>\n",
       "      <td>0.000000</td>\n",
       "    </tr>\n",
       "    <tr>\n",
       "      <th>25%</th>\n",
       "      <td>1160.500000</td>\n",
       "      <td>NaN</td>\n",
       "      <td>NaN</td>\n",
       "      <td>NaN</td>\n",
       "      <td>NaN</td>\n",
       "      <td>3.500000</td>\n",
       "    </tr>\n",
       "    <tr>\n",
       "      <th>50%</th>\n",
       "      <td>2321.000000</td>\n",
       "      <td>NaN</td>\n",
       "      <td>NaN</td>\n",
       "      <td>NaN</td>\n",
       "      <td>NaN</td>\n",
       "      <td>3.750000</td>\n",
       "    </tr>\n",
       "    <tr>\n",
       "      <th>75%</th>\n",
       "      <td>3487.500000</td>\n",
       "      <td>NaN</td>\n",
       "      <td>NaN</td>\n",
       "      <td>NaN</td>\n",
       "      <td>NaN</td>\n",
       "      <td>4.500000</td>\n",
       "    </tr>\n",
       "    <tr>\n",
       "      <th>max</th>\n",
       "      <td>4650.000000</td>\n",
       "      <td>NaN</td>\n",
       "      <td>NaN</td>\n",
       "      <td>NaN</td>\n",
       "      <td>NaN</td>\n",
       "      <td>5.000000</td>\n",
       "    </tr>\n",
       "  </tbody>\n",
       "</table>\n",
       "</div>"
      ],
      "text/plain": [
       "           Review #   Brand     Variety Style Country        Stars\n",
       "count   4639.000000    4639        4639  4639    4639  4639.000000\n",
       "unique          NaN     695        4316     6      54          NaN\n",
       "top             NaN  Nissin  Miso Ramen  Pack   Japan          NaN\n",
       "freq            NaN     566          12  2478     949          NaN\n",
       "mean    2323.494072     NaN         NaN   NaN     NaN     3.741108\n",
       "std     1342.722277     NaN         NaN   NaN     NaN     1.071223\n",
       "min        1.000000     NaN         NaN   NaN     NaN     0.000000\n",
       "25%     1160.500000     NaN         NaN   NaN     NaN     3.500000\n",
       "50%     2321.000000     NaN         NaN   NaN     NaN     3.750000\n",
       "75%     3487.500000     NaN         NaN   NaN     NaN     4.500000\n",
       "max     4650.000000     NaN         NaN   NaN     NaN     5.000000"
      ]
     },
     "execution_count": 14,
     "metadata": {},
     "output_type": "execute_result"
    }
   ],
   "source": [
    "df.describe(include='all')"
   ]
  },
  {
   "cell_type": "markdown",
   "id": "090921e4",
   "metadata": {
    "papermill": {
     "duration": 0.02269,
     "end_time": "2024-07-20T15:59:20.768064",
     "exception": false,
     "start_time": "2024-07-20T15:59:20.745374",
     "status": "completed"
    },
    "tags": []
   },
   "source": [
    "<p style=\"font-size:18px;\"> I wanted to ensure that the data no longer contained any null values before moving onto the next stage of this case study."
   ]
  },
  {
   "cell_type": "code",
   "execution_count": 15,
   "id": "08e2460b",
   "metadata": {
    "execution": {
     "iopub.execute_input": "2024-07-20T15:59:20.817500Z",
     "iopub.status.busy": "2024-07-20T15:59:20.816402Z",
     "iopub.status.idle": "2024-07-20T15:59:20.831281Z",
     "shell.execute_reply": "2024-07-20T15:59:20.829856Z"
    },
    "papermill": {
     "duration": 0.042511,
     "end_time": "2024-07-20T15:59:20.833917",
     "exception": false,
     "start_time": "2024-07-20T15:59:20.791406",
     "status": "completed"
    },
    "tags": []
   },
   "outputs": [
    {
     "data": {
      "text/plain": [
       "Review #    0\n",
       "Brand       0\n",
       "Variety     0\n",
       "Style       0\n",
       "Country     0\n",
       "Stars       0\n",
       "dtype: int64"
      ]
     },
     "execution_count": 15,
     "metadata": {},
     "output_type": "execute_result"
    }
   ],
   "source": [
    "df.isna().sum()"
   ]
  },
  {
   "cell_type": "markdown",
   "id": "ce49b2c0",
   "metadata": {
    "papermill": {
     "duration": 0.025584,
     "end_time": "2024-07-20T15:59:20.882669",
     "exception": false,
     "start_time": "2024-07-20T15:59:20.857085",
     "status": "completed"
    },
    "tags": []
   },
   "source": [
    "# **Feature Engineering**\n",
    "\n",
    "***"
   ]
  },
  {
   "cell_type": "markdown",
   "id": "8a0259e6",
   "metadata": {
    "papermill": {
     "duration": 0.023851,
     "end_time": "2024-07-20T15:59:20.930298",
     "exception": false,
     "start_time": "2024-07-20T15:59:20.906447",
     "status": "completed"
    },
    "tags": []
   },
   "source": [
    "<p style=\"font-size:18px;\"> To explore the data further I wanted to determine if there were any trends which could be identified from the flavors of the ramen. To do this I split the string in the 'Variety' column into individual words then counted the frequency of each word to identify the most common words within the variety column. From this I hope to identify the most common flavors."
   ]
  },
  {
   "cell_type": "code",
   "execution_count": 16,
   "id": "c41aee6f",
   "metadata": {
    "execution": {
     "iopub.execute_input": "2024-07-20T15:59:20.988005Z",
     "iopub.status.busy": "2024-07-20T15:59:20.987476Z",
     "iopub.status.idle": "2024-07-20T15:59:21.038034Z",
     "shell.execute_reply": "2024-07-20T15:59:21.036990Z"
    },
    "papermill": {
     "duration": 0.085392,
     "end_time": "2024-07-20T15:59:21.040557",
     "exception": false,
     "start_time": "2024-07-20T15:59:20.955165",
     "status": "completed"
    },
    "tags": []
   },
   "outputs": [
    {
     "data": {
      "text/html": [
       "<div>\n",
       "<style scoped>\n",
       "    .dataframe tbody tr th:only-of-type {\n",
       "        vertical-align: middle;\n",
       "    }\n",
       "\n",
       "    .dataframe tbody tr th {\n",
       "        vertical-align: top;\n",
       "    }\n",
       "\n",
       "    .dataframe thead th {\n",
       "        text-align: right;\n",
       "    }\n",
       "</style>\n",
       "<table border=\"1\" class=\"dataframe\">\n",
       "  <thead>\n",
       "    <tr style=\"text-align: right;\">\n",
       "      <th></th>\n",
       "      <th>Word</th>\n",
       "      <th>Frequency</th>\n",
       "    </tr>\n",
       "  </thead>\n",
       "  <tbody>\n",
       "    <tr>\n",
       "      <th>0</th>\n",
       "      <td>noodles</td>\n",
       "      <td>1048</td>\n",
       "    </tr>\n",
       "    <tr>\n",
       "      <th>1</th>\n",
       "      <td>noodle</td>\n",
       "      <td>970</td>\n",
       "    </tr>\n",
       "    <tr>\n",
       "      <th>2</th>\n",
       "      <td>ramen</td>\n",
       "      <td>902</td>\n",
       "    </tr>\n",
       "    <tr>\n",
       "      <th>3</th>\n",
       "      <td>flavor</td>\n",
       "      <td>650</td>\n",
       "    </tr>\n",
       "    <tr>\n",
       "      <th>4</th>\n",
       "      <td>instant</td>\n",
       "      <td>637</td>\n",
       "    </tr>\n",
       "    <tr>\n",
       "      <th>5</th>\n",
       "      <td>flavour</td>\n",
       "      <td>577</td>\n",
       "    </tr>\n",
       "    <tr>\n",
       "      <th>6</th>\n",
       "      <td>chicken</td>\n",
       "      <td>528</td>\n",
       "    </tr>\n",
       "    <tr>\n",
       "      <th>7</th>\n",
       "      <td>spicy</td>\n",
       "      <td>527</td>\n",
       "    </tr>\n",
       "  </tbody>\n",
       "</table>\n",
       "</div>"
      ],
      "text/plain": [
       "      Word  Frequency\n",
       "0  noodles       1048\n",
       "1   noodle        970\n",
       "2    ramen        902\n",
       "3   flavor        650\n",
       "4  instant        637\n",
       "5  flavour        577\n",
       "6  chicken        528\n",
       "7    spicy        527"
      ]
     },
     "execution_count": 16,
     "metadata": {},
     "output_type": "execute_result"
    }
   ],
   "source": [
    "# Lowercase all strings in the \"Variety\" column\n",
    "df['Variety'] = df['Variety'].str.lower()\n",
    "\n",
    "# Split each string into words\n",
    "df['Words'] = df['Variety'].str.split()\n",
    "\n",
    "# Explode the list of words into separate rows\n",
    "words_df = df.explode('Words')\n",
    "\n",
    "# Count the frequency of each word\n",
    "word_counts_df = words_df['Words'].value_counts().reset_index()\n",
    "word_counts_df.columns = ['Word', 'Frequency']\n",
    "\n",
    "word_counts_df[(word_counts_df['Frequency'] >= 500) & (word_counts_df['Frequency'] <= 2000)]"
   ]
  },
  {
   "cell_type": "markdown",
   "id": "e21a40d9",
   "metadata": {
    "papermill": {
     "duration": 0.02738,
     "end_time": "2024-07-20T15:59:21.091479",
     "exception": false,
     "start_time": "2024-07-20T15:59:21.064099",
     "status": "completed"
    },
    "tags": []
   },
   "source": [
    "<p style=\"font-size:18px;\"> Although a manual task by changing the frequency of the most common words I was able to identify the most common flavors. I stored these flavors in a list called \"flavors\"\n",
    "    \n",
    "<p style=\"font-size:18px;\"> With the most common flavors identified I wrote a function which looks for a flavor in the list \"flavors\" if there is a match the identified flavor is added to a new column in the dataframe called \"Flavor\". Although this approach is not perfect it quickly allows for the flavor of each ramen to be identified without manually checking and amending every row."
   ]
  },
  {
   "cell_type": "code",
   "execution_count": 17,
   "id": "0899322d",
   "metadata": {
    "execution": {
     "iopub.execute_input": "2024-07-20T15:59:21.151706Z",
     "iopub.status.busy": "2024-07-20T15:59:21.151187Z",
     "iopub.status.idle": "2024-07-20T15:59:21.211015Z",
     "shell.execute_reply": "2024-07-20T15:59:21.209769Z"
    },
    "papermill": {
     "duration": 0.095715,
     "end_time": "2024-07-20T15:59:21.214384",
     "exception": false,
     "start_time": "2024-07-20T15:59:21.118669",
     "status": "completed"
    },
    "tags": []
   },
   "outputs": [
    {
     "data": {
      "text/html": [
       "<div>\n",
       "<style scoped>\n",
       "    .dataframe tbody tr th:only-of-type {\n",
       "        vertical-align: middle;\n",
       "    }\n",
       "\n",
       "    .dataframe tbody tr th {\n",
       "        vertical-align: top;\n",
       "    }\n",
       "\n",
       "    .dataframe thead th {\n",
       "        text-align: right;\n",
       "    }\n",
       "</style>\n",
       "<table border=\"1\" class=\"dataframe\">\n",
       "  <thead>\n",
       "    <tr style=\"text-align: right;\">\n",
       "      <th></th>\n",
       "      <th>Review #</th>\n",
       "      <th>Brand</th>\n",
       "      <th>Variety</th>\n",
       "      <th>Style</th>\n",
       "      <th>Country</th>\n",
       "      <th>Stars</th>\n",
       "      <th>Words</th>\n",
       "      <th>Flavor</th>\n",
       "    </tr>\n",
       "  </thead>\n",
       "  <tbody>\n",
       "    <tr>\n",
       "      <th>0</th>\n",
       "      <td>4650</td>\n",
       "      <td>Jasmine</td>\n",
       "      <td>xxl bihun segera penang white curry</td>\n",
       "      <td>Pack</td>\n",
       "      <td>Malaysia</td>\n",
       "      <td>5.0</td>\n",
       "      <td>[xxl, bihun, segera, penang, white, curry]</td>\n",
       "      <td>curry</td>\n",
       "    </tr>\n",
       "    <tr>\n",
       "      <th>1</th>\n",
       "      <td>4649</td>\n",
       "      <td>Indomie</td>\n",
       "      <td>mi instan mi keriting goreng spesial</td>\n",
       "      <td>Pack</td>\n",
       "      <td>Indonesia</td>\n",
       "      <td>5.0</td>\n",
       "      <td>[mi, instan, mi, keriting, goreng, spesial]</td>\n",
       "      <td>goreng</td>\n",
       "    </tr>\n",
       "    <tr>\n",
       "      <th>2</th>\n",
       "      <td>4648</td>\n",
       "      <td>MAMA</td>\n",
       "      <td>oriental kitchen dried instant noodles truffle...</td>\n",
       "      <td>Pack</td>\n",
       "      <td>Thailand</td>\n",
       "      <td>4.5</td>\n",
       "      <td>[oriental, kitchen, dried, instant, noodles, t...</td>\n",
       "      <td>None</td>\n",
       "    </tr>\n",
       "  </tbody>\n",
       "</table>\n",
       "</div>"
      ],
      "text/plain": [
       "   Review #    Brand                                            Variety Style  \\\n",
       "0      4650  Jasmine                xxl bihun segera penang white curry  Pack   \n",
       "1      4649  Indomie               mi instan mi keriting goreng spesial  Pack   \n",
       "2      4648     MAMA  oriental kitchen dried instant noodles truffle...  Pack   \n",
       "\n",
       "     Country  Stars                                              Words  Flavor  \n",
       "0   Malaysia    5.0         [xxl, bihun, segera, penang, white, curry]   curry  \n",
       "1  Indonesia    5.0        [mi, instan, mi, keriting, goreng, spesial]  goreng  \n",
       "2   Thailand    4.5  [oriental, kitchen, dried, instant, noodles, t...    None  "
      ]
     },
     "execution_count": 17,
     "metadata": {},
     "output_type": "execute_result"
    }
   ],
   "source": [
    "# List of possible flavors\n",
    "flavors = [\"chicken\", \"spicy\", \"beef\", \"hot\", \"curry\", \"shrimp\", \"seafood\", \"pork\", \"tonkotsu\",\"yakisoba\", \"miso\", \n",
    "           \"goreng\", \"sesame\", \"shoyu\",\"vermicelli\",\"soy\", \"vegtable\", \"kimchi\", \"chili\", \"vegetable\", \"vegetarian\",\n",
    "           \"laksa\", \"mushroom\", \"crab\", \"pepper\", \"tomato\", \"cheese\", \"buldak\", \"prawn\"]\n",
    "\n",
    "# Function to extract flavors\n",
    "def extract_flavor(variety, flavors):\n",
    "    for flavor in flavors:\n",
    "        if flavor.lower() in variety.lower():\n",
    "            return flavor\n",
    "    return None\n",
    "\n",
    "# Apply the function to the dataframe\n",
    "df['Flavor'] = df['Variety'].apply(lambda x: extract_flavor(x, flavors))\n",
    "\n",
    "df.head(3)"
   ]
  },
  {
   "cell_type": "markdown",
   "id": "d5d2822a",
   "metadata": {
    "papermill": {
     "duration": 0.024585,
     "end_time": "2024-07-20T15:59:21.271934",
     "exception": false,
     "start_time": "2024-07-20T15:59:21.247349",
     "status": "completed"
    },
    "tags": []
   },
   "source": [
    "<p style=\"font-size:18px;\">  To ensure this approach was working as intended I decided to review the rows which did not contain a flavor in the newly created \"Flavor\" column. The rows which did not contain a flavor appeared to either have no flavor in the \"Variety\" column or a niche/unusual flavor."
   ]
  },
  {
   "cell_type": "code",
   "execution_count": 18,
   "id": "572b3e5c",
   "metadata": {
    "execution": {
     "iopub.execute_input": "2024-07-20T15:59:21.328385Z",
     "iopub.status.busy": "2024-07-20T15:59:21.327927Z",
     "iopub.status.idle": "2024-07-20T15:59:21.356698Z",
     "shell.execute_reply": "2024-07-20T15:59:21.355345Z"
    },
    "papermill": {
     "duration": 0.062806,
     "end_time": "2024-07-20T15:59:21.359285",
     "exception": false,
     "start_time": "2024-07-20T15:59:21.296479",
     "status": "completed"
    },
    "tags": []
   },
   "outputs": [
    {
     "name": "stdout",
     "output_type": "stream",
     "text": [
      "Number of rows without a flavor: 1452\n"
     ]
    },
    {
     "data": {
      "text/html": [
       "<div>\n",
       "<style scoped>\n",
       "    .dataframe tbody tr th:only-of-type {\n",
       "        vertical-align: middle;\n",
       "    }\n",
       "\n",
       "    .dataframe tbody tr th {\n",
       "        vertical-align: top;\n",
       "    }\n",
       "\n",
       "    .dataframe thead th {\n",
       "        text-align: right;\n",
       "    }\n",
       "</style>\n",
       "<table border=\"1\" class=\"dataframe\">\n",
       "  <thead>\n",
       "    <tr style=\"text-align: right;\">\n",
       "      <th></th>\n",
       "      <th>Review #</th>\n",
       "      <th>Brand</th>\n",
       "      <th>Variety</th>\n",
       "      <th>Style</th>\n",
       "      <th>Country</th>\n",
       "      <th>Stars</th>\n",
       "      <th>Words</th>\n",
       "      <th>Flavor</th>\n",
       "    </tr>\n",
       "  </thead>\n",
       "  <tbody>\n",
       "    <tr>\n",
       "      <th>2</th>\n",
       "      <td>4648</td>\n",
       "      <td>MAMA</td>\n",
       "      <td>oriental kitchen dried instant noodles truffle...</td>\n",
       "      <td>Pack</td>\n",
       "      <td>Thailand</td>\n",
       "      <td>4.5</td>\n",
       "      <td>[oriental, kitchen, dried, instant, noodles, t...</td>\n",
       "      <td>None</td>\n",
       "    </tr>\n",
       "    <tr>\n",
       "      <th>3</th>\n",
       "      <td>4647</td>\n",
       "      <td>Ottogi</td>\n",
       "      <td>jin jjajang smoked black bean flavor</td>\n",
       "      <td>Pack</td>\n",
       "      <td>United States</td>\n",
       "      <td>4.5</td>\n",
       "      <td>[jin, jjajang, smoked, black, bean, flavor]</td>\n",
       "      <td>None</td>\n",
       "    </tr>\n",
       "    <tr>\n",
       "      <th>4</th>\n",
       "      <td>4646</td>\n",
       "      <td>Samyang Foods</td>\n",
       "      <td>samyand ramen</td>\n",
       "      <td>Pack</td>\n",
       "      <td>United States</td>\n",
       "      <td>5.0</td>\n",
       "      <td>[samyand, ramen]</td>\n",
       "      <td>None</td>\n",
       "    </tr>\n",
       "  </tbody>\n",
       "</table>\n",
       "</div>"
      ],
      "text/plain": [
       "   Review #          Brand                                            Variety  \\\n",
       "2      4648           MAMA  oriental kitchen dried instant noodles truffle...   \n",
       "3      4647         Ottogi               jin jjajang smoked black bean flavor   \n",
       "4      4646  Samyang Foods                                      samyand ramen   \n",
       "\n",
       "  Style        Country  Stars  \\\n",
       "2  Pack       Thailand    4.5   \n",
       "3  Pack  United States    4.5   \n",
       "4  Pack  United States    5.0   \n",
       "\n",
       "                                               Words Flavor  \n",
       "2  [oriental, kitchen, dried, instant, noodles, t...   None  \n",
       "3        [jin, jjajang, smoked, black, bean, flavor]   None  \n",
       "4                                   [samyand, ramen]   None  "
      ]
     },
     "execution_count": 18,
     "metadata": {},
     "output_type": "execute_result"
    }
   ],
   "source": [
    "print(\"Number of rows without a flavor:\", len(df[df['Flavor'].isna()]))\n",
    "df[df['Flavor'].isna()].head(3)"
   ]
  },
  {
   "cell_type": "markdown",
   "id": "5567dedc",
   "metadata": {
    "papermill": {
     "duration": 0.026303,
     "end_time": "2024-07-20T15:59:21.410280",
     "exception": false,
     "start_time": "2024-07-20T15:59:21.383977",
     "status": "completed"
    },
    "tags": []
   },
   "source": [
    "<p style=\"font-size:18px;\"> It looks like my approach has worked well and only 1452 of the total 4639 rows did not have a flavor attributed to them. To ensure that every row had a value in the \"Flavor\" column I filled all the null values with \"other\". To keep the dataframe clean I then decided to drop the created \"Words'' column as this would provide no further benefit."
   ]
  },
  {
   "cell_type": "code",
   "execution_count": 19,
   "id": "17e97251",
   "metadata": {
    "execution": {
     "iopub.execute_input": "2024-07-20T15:59:21.460907Z",
     "iopub.status.busy": "2024-07-20T15:59:21.460469Z",
     "iopub.status.idle": "2024-07-20T15:59:21.479022Z",
     "shell.execute_reply": "2024-07-20T15:59:21.477822Z"
    },
    "papermill": {
     "duration": 0.046768,
     "end_time": "2024-07-20T15:59:21.481744",
     "exception": false,
     "start_time": "2024-07-20T15:59:21.434976",
     "status": "completed"
    },
    "tags": []
   },
   "outputs": [
    {
     "data": {
      "text/html": [
       "<div>\n",
       "<style scoped>\n",
       "    .dataframe tbody tr th:only-of-type {\n",
       "        vertical-align: middle;\n",
       "    }\n",
       "\n",
       "    .dataframe tbody tr th {\n",
       "        vertical-align: top;\n",
       "    }\n",
       "\n",
       "    .dataframe thead th {\n",
       "        text-align: right;\n",
       "    }\n",
       "</style>\n",
       "<table border=\"1\" class=\"dataframe\">\n",
       "  <thead>\n",
       "    <tr style=\"text-align: right;\">\n",
       "      <th></th>\n",
       "      <th>Review #</th>\n",
       "      <th>Brand</th>\n",
       "      <th>Variety</th>\n",
       "      <th>Style</th>\n",
       "      <th>Country</th>\n",
       "      <th>Stars</th>\n",
       "      <th>Flavor</th>\n",
       "    </tr>\n",
       "  </thead>\n",
       "  <tbody>\n",
       "    <tr>\n",
       "      <th>0</th>\n",
       "      <td>4650</td>\n",
       "      <td>Jasmine</td>\n",
       "      <td>xxl bihun segera penang white curry</td>\n",
       "      <td>Pack</td>\n",
       "      <td>Malaysia</td>\n",
       "      <td>5.0</td>\n",
       "      <td>curry</td>\n",
       "    </tr>\n",
       "    <tr>\n",
       "      <th>1</th>\n",
       "      <td>4649</td>\n",
       "      <td>Indomie</td>\n",
       "      <td>mi instan mi keriting goreng spesial</td>\n",
       "      <td>Pack</td>\n",
       "      <td>Indonesia</td>\n",
       "      <td>5.0</td>\n",
       "      <td>goreng</td>\n",
       "    </tr>\n",
       "    <tr>\n",
       "      <th>2</th>\n",
       "      <td>4648</td>\n",
       "      <td>MAMA</td>\n",
       "      <td>oriental kitchen dried instant noodles truffle...</td>\n",
       "      <td>Pack</td>\n",
       "      <td>Thailand</td>\n",
       "      <td>4.5</td>\n",
       "      <td>other</td>\n",
       "    </tr>\n",
       "    <tr>\n",
       "      <th>3</th>\n",
       "      <td>4647</td>\n",
       "      <td>Ottogi</td>\n",
       "      <td>jin jjajang smoked black bean flavor</td>\n",
       "      <td>Pack</td>\n",
       "      <td>United States</td>\n",
       "      <td>4.5</td>\n",
       "      <td>other</td>\n",
       "    </tr>\n",
       "    <tr>\n",
       "      <th>4</th>\n",
       "      <td>4646</td>\n",
       "      <td>Samyang Foods</td>\n",
       "      <td>samyand ramen</td>\n",
       "      <td>Pack</td>\n",
       "      <td>United States</td>\n",
       "      <td>5.0</td>\n",
       "      <td>other</td>\n",
       "    </tr>\n",
       "  </tbody>\n",
       "</table>\n",
       "</div>"
      ],
      "text/plain": [
       "   Review #          Brand                                            Variety  \\\n",
       "0      4650        Jasmine                xxl bihun segera penang white curry   \n",
       "1      4649        Indomie               mi instan mi keriting goreng spesial   \n",
       "2      4648           MAMA  oriental kitchen dried instant noodles truffle...   \n",
       "3      4647         Ottogi               jin jjajang smoked black bean flavor   \n",
       "4      4646  Samyang Foods                                      samyand ramen   \n",
       "\n",
       "  Style        Country  Stars  Flavor  \n",
       "0  Pack       Malaysia    5.0   curry  \n",
       "1  Pack      Indonesia    5.0  goreng  \n",
       "2  Pack       Thailand    4.5   other  \n",
       "3  Pack  United States    4.5   other  \n",
       "4  Pack  United States    5.0   other  "
      ]
     },
     "execution_count": 19,
     "metadata": {},
     "output_type": "execute_result"
    }
   ],
   "source": [
    "df['Flavor'] = df['Flavor'].fillna('other')\n",
    "df = df.drop('Words', axis=1)\n",
    "df.head()"
   ]
  },
  {
   "cell_type": "markdown",
   "id": "e0f760cf",
   "metadata": {
    "papermill": {
     "duration": 0.024031,
     "end_time": "2024-07-20T15:59:21.530760",
     "exception": false,
     "start_time": "2024-07-20T15:59:21.506729",
     "status": "completed"
    },
    "tags": []
   },
   "source": [
    "<p style=\"font-size:18px;\"> Next I wanted to ensure that all the countries in the \"Country\" column were correct. I listed all the unique values in the \"Country\" column that would allow me to quickly determine if there were any mistakes."
   ]
  },
  {
   "cell_type": "code",
   "execution_count": 20,
   "id": "ced310c9",
   "metadata": {
    "execution": {
     "iopub.execute_input": "2024-07-20T15:59:21.581594Z",
     "iopub.status.busy": "2024-07-20T15:59:21.581171Z",
     "iopub.status.idle": "2024-07-20T15:59:21.590413Z",
     "shell.execute_reply": "2024-07-20T15:59:21.588962Z"
    },
    "papermill": {
     "duration": 0.037813,
     "end_time": "2024-07-20T15:59:21.593048",
     "exception": false,
     "start_time": "2024-07-20T15:59:21.555235",
     "status": "completed"
    },
    "tags": []
   },
   "outputs": [
    {
     "data": {
      "text/plain": [
       "'Australia, Bangladesh, Brazil, Cambodia, Canada, China, Colombia, Dubai, Estonia, Fiji, Finland, France, Germany, Ghana, Holland, Hong Kong, Hungary, India, Indonesia, Ireland, Israel, Italy, Japan, Malaysia, Mexico, Myanmar, Nepal, Netherlands, New Zealand, Nigeria, Pakistan, Peru, Philippines, Phillippines, Phlippines, Poland, Portugal, Russia, Russian Federation, Sarawak, Serbia, Singapore, Souh Korea, South Korea, Spain, Sweden, Taiwan, Thailand, UK, USA, Ukraine, United Kingdom, United States, Vietnam'"
      ]
     },
     "execution_count": 20,
     "metadata": {},
     "output_type": "execute_result"
    }
   ],
   "source": [
    "unique_countries = sorted(df['Country'].unique())\n",
    "unique_countries_str = \", \".join(unique_countries)\n",
    "unique_countries_str"
   ]
  },
  {
   "cell_type": "markdown",
   "id": "78de0a86",
   "metadata": {
    "papermill": {
     "duration": 0.024915,
     "end_time": "2024-07-20T15:59:21.643027",
     "exception": false,
     "start_time": "2024-07-20T15:59:21.618112",
     "status": "completed"
    },
    "tags": []
   },
   "source": [
    "<p style=\"font-size:18px;\"> Unfortunately I found several mistakes which I wanted to correct. I found either spelling mistakes, cities being used instead of country names and abbreviated names being used. It is important for me to fix these mistakes as it will allow me to plot the data on a geographical map using plotly in my data analysis."
   ]
  },
  {
   "cell_type": "code",
   "execution_count": 21,
   "id": "fedcd225",
   "metadata": {
    "execution": {
     "iopub.execute_input": "2024-07-20T15:59:21.693963Z",
     "iopub.status.busy": "2024-07-20T15:59:21.693251Z",
     "iopub.status.idle": "2024-07-20T15:59:21.705687Z",
     "shell.execute_reply": "2024-07-20T15:59:21.704686Z"
    },
    "papermill": {
     "duration": 0.040515,
     "end_time": "2024-07-20T15:59:21.708159",
     "exception": false,
     "start_time": "2024-07-20T15:59:21.667644",
     "status": "completed"
    },
    "tags": []
   },
   "outputs": [],
   "source": [
    "corrections = {  \n",
    "    'Sarawak': 'Malaysia',\n",
    "    'Holland': 'Netherlands',\n",
    "    'Phillippines': 'Philippines',\n",
    "    'Phlippines': 'Philippines',\n",
    "    'Russian Federation': 'Russia',\n",
    "    'Souh Korea': 'South Korea',\n",
    "    'UK': 'United Kingdom',\n",
    "    'United States': 'United States of America',\n",
    "    'USA': 'United States of America',\n",
    "    'Dubai' : 'United Arab Emirates',\n",
    "    'Hong Kong' : 'China'\n",
    "}\n",
    "\n",
    "df['Country'] = df['Country'].replace(corrections)"
   ]
  },
  {
   "cell_type": "markdown",
   "id": "9e685d7d",
   "metadata": {
    "papermill": {
     "duration": 0.025713,
     "end_time": "2024-07-20T15:59:21.758420",
     "exception": false,
     "start_time": "2024-07-20T15:59:21.732707",
     "status": "completed"
    },
    "tags": []
   },
   "source": [
    "<p style=\"font-size:18px;\"> Once I was happy that all the countries had the correct name I decided to add all the country ISO alpha 3 codes into the data as this would be required to plot the data on a plotly map. Although this was a manual and slightly tedious task once completed I knew it would help with my data analysis."
   ]
  },
  {
   "cell_type": "code",
   "execution_count": 22,
   "id": "7aae3626",
   "metadata": {
    "execution": {
     "iopub.execute_input": "2024-07-20T15:59:21.810296Z",
     "iopub.status.busy": "2024-07-20T15:59:21.809250Z",
     "iopub.status.idle": "2024-07-20T15:59:21.833360Z",
     "shell.execute_reply": "2024-07-20T15:59:21.832203Z"
    },
    "papermill": {
     "duration": 0.052803,
     "end_time": "2024-07-20T15:59:21.835912",
     "exception": false,
     "start_time": "2024-07-20T15:59:21.783109",
     "status": "completed"
    },
    "tags": []
   },
   "outputs": [
    {
     "data": {
      "text/html": [
       "<div>\n",
       "<style scoped>\n",
       "    .dataframe tbody tr th:only-of-type {\n",
       "        vertical-align: middle;\n",
       "    }\n",
       "\n",
       "    .dataframe tbody tr th {\n",
       "        vertical-align: top;\n",
       "    }\n",
       "\n",
       "    .dataframe thead th {\n",
       "        text-align: right;\n",
       "    }\n",
       "</style>\n",
       "<table border=\"1\" class=\"dataframe\">\n",
       "  <thead>\n",
       "    <tr style=\"text-align: right;\">\n",
       "      <th></th>\n",
       "      <th>Review #</th>\n",
       "      <th>Brand</th>\n",
       "      <th>Variety</th>\n",
       "      <th>Style</th>\n",
       "      <th>Country</th>\n",
       "      <th>Stars</th>\n",
       "      <th>Flavor</th>\n",
       "      <th>ISO_CC</th>\n",
       "    </tr>\n",
       "  </thead>\n",
       "  <tbody>\n",
       "    <tr>\n",
       "      <th>0</th>\n",
       "      <td>4650</td>\n",
       "      <td>Jasmine</td>\n",
       "      <td>xxl bihun segera penang white curry</td>\n",
       "      <td>Pack</td>\n",
       "      <td>Malaysia</td>\n",
       "      <td>5.0</td>\n",
       "      <td>curry</td>\n",
       "      <td>MYS</td>\n",
       "    </tr>\n",
       "    <tr>\n",
       "      <th>1</th>\n",
       "      <td>4649</td>\n",
       "      <td>Indomie</td>\n",
       "      <td>mi instan mi keriting goreng spesial</td>\n",
       "      <td>Pack</td>\n",
       "      <td>Indonesia</td>\n",
       "      <td>5.0</td>\n",
       "      <td>goreng</td>\n",
       "      <td>IDN</td>\n",
       "    </tr>\n",
       "    <tr>\n",
       "      <th>2</th>\n",
       "      <td>4648</td>\n",
       "      <td>MAMA</td>\n",
       "      <td>oriental kitchen dried instant noodles truffle...</td>\n",
       "      <td>Pack</td>\n",
       "      <td>Thailand</td>\n",
       "      <td>4.5</td>\n",
       "      <td>other</td>\n",
       "      <td>THA</td>\n",
       "    </tr>\n",
       "    <tr>\n",
       "      <th>3</th>\n",
       "      <td>4647</td>\n",
       "      <td>Ottogi</td>\n",
       "      <td>jin jjajang smoked black bean flavor</td>\n",
       "      <td>Pack</td>\n",
       "      <td>United States of America</td>\n",
       "      <td>4.5</td>\n",
       "      <td>other</td>\n",
       "      <td>USA</td>\n",
       "    </tr>\n",
       "    <tr>\n",
       "      <th>4</th>\n",
       "      <td>4646</td>\n",
       "      <td>Samyang Foods</td>\n",
       "      <td>samyand ramen</td>\n",
       "      <td>Pack</td>\n",
       "      <td>United States of America</td>\n",
       "      <td>5.0</td>\n",
       "      <td>other</td>\n",
       "      <td>USA</td>\n",
       "    </tr>\n",
       "  </tbody>\n",
       "</table>\n",
       "</div>"
      ],
      "text/plain": [
       "   Review #          Brand                                            Variety  \\\n",
       "0      4650        Jasmine                xxl bihun segera penang white curry   \n",
       "1      4649        Indomie               mi instan mi keriting goreng spesial   \n",
       "2      4648           MAMA  oriental kitchen dried instant noodles truffle...   \n",
       "3      4647         Ottogi               jin jjajang smoked black bean flavor   \n",
       "4      4646  Samyang Foods                                      samyand ramen   \n",
       "\n",
       "  Style                   Country  Stars  Flavor ISO_CC  \n",
       "0  Pack                  Malaysia    5.0   curry    MYS  \n",
       "1  Pack                 Indonesia    5.0  goreng    IDN  \n",
       "2  Pack                  Thailand    4.5   other    THA  \n",
       "3  Pack  United States of America    4.5   other    USA  \n",
       "4  Pack  United States of America    5.0   other    USA  "
      ]
     },
     "execution_count": 22,
     "metadata": {},
     "output_type": "execute_result"
    }
   ],
   "source": [
    "# Manually mapping country names to ISO codes\n",
    "country_to_iso = {\n",
    "    'Australia': 'AUS',\n",
    "    'Bangladesh': 'BGD',\n",
    "    'Brazil': 'BRA',\n",
    "    'Cambodia': 'KHM',\n",
    "    'Canada': 'CAN',\n",
    "    'China': 'CHN',\n",
    "    'Colombia': 'COL',\n",
    "    'Estonia': 'EST',\n",
    "    'Fiji': 'FJI',\n",
    "    'Finland': 'FIN',\n",
    "    'France': 'FRA',\n",
    "    'Germany': 'DEU',\n",
    "    'Ghana': 'GHA',\n",
    "    'Hong Kong': 'HKG',\n",
    "    'Hungary': 'HUN',\n",
    "    'India': 'IND',\n",
    "    'Indonesia': 'IDN',\n",
    "    'Ireland': 'IRL',\n",
    "    'Israel': 'ISR',\n",
    "    'Italy': 'ITA',\n",
    "    'Japan': 'JPN',\n",
    "    'Malaysia': 'MYS',\n",
    "    'Mexico': 'MEX',\n",
    "    'Myanmar': 'MMR',\n",
    "    'Nepal': 'NPL',\n",
    "    'Netherlands': 'NLD',\n",
    "    'New Zealand': 'NZL',\n",
    "    'Nigeria': 'NGA',\n",
    "    'Pakistan': 'PAK',\n",
    "    'Peru': 'PER',\n",
    "    'Philippines': 'PHL',\n",
    "    'Poland': 'POL',\n",
    "    'Portugal': 'PRT',\n",
    "    'Russia': 'RUS',\n",
    "    'Serbia': 'SRB',\n",
    "    'Singapore': 'SGP',\n",
    "    'South Korea': 'KOR',\n",
    "    'Spain': 'ESP',\n",
    "    'Sweden': 'SWE',\n",
    "    'Taiwan': 'TWN',\n",
    "    'Thailand': 'THA',\n",
    "    'Ukraine': 'UKR',\n",
    "    'United Arab Emirates': 'ARE',\n",
    "    'United Kingdom': 'GBR',\n",
    "    'United States of America': 'USA',\n",
    "    'Vietnam': 'VNM'\n",
    "}\n",
    "\n",
    "# Adding a new column with ISO codes\n",
    "df['ISO_CC'] = df['Country'].map(country_to_iso)\n",
    "\n",
    "df.head()"
   ]
  },
  {
   "cell_type": "markdown",
   "id": "26f68ff1",
   "metadata": {
    "papermill": {
     "duration": 0.024514,
     "end_time": "2024-07-20T15:59:21.885668",
     "exception": false,
     "start_time": "2024-07-20T15:59:21.861154",
     "status": "completed"
    },
    "tags": []
   },
   "source": [
    "<p style=\"font-size:18px;\"> The data is now looking great. I am happy that all the columns have been cleaned and corrected. With the addition of the Flavor and ISO country code columns I would be able to analyze the data in further detail and create more striking visuals."
   ]
  },
  {
   "cell_type": "markdown",
   "id": "653856fd",
   "metadata": {
    "papermill": {
     "duration": 0.024393,
     "end_time": "2024-07-20T15:59:21.934823",
     "exception": false,
     "start_time": "2024-07-20T15:59:21.910430",
     "status": "completed"
    },
    "tags": []
   },
   "source": [
    "# **Data Analysis**\n",
    "\n",
    "***"
   ]
  },
  {
   "cell_type": "markdown",
   "id": "a1b3c80c",
   "metadata": {
    "papermill": {
     "duration": 0.024317,
     "end_time": "2024-07-20T15:59:21.985660",
     "exception": false,
     "start_time": "2024-07-20T15:59:21.961343",
     "status": "completed"
    },
    "tags": []
   },
   "source": [
    "<p style=\"font-size:18px;\"> With the data cleaned and ready the next step is to now analyse the data and find trends, patterns and insights. I want to explore how the ramen raters reviews differ per country, if his taste has changed over time and how the brand and style of ramen may impact the score the ramen rater gives a ramen. \n",
    "    \n",
    "<p style=\"font-size:18px;\"> To begin I wanted to explore the average reviews per country so I created a dataframe which calculates the average number of stars per country and the number of reviews for each country."
   ]
  },
  {
   "cell_type": "code",
   "execution_count": 23,
   "id": "026d9929",
   "metadata": {
    "execution": {
     "iopub.execute_input": "2024-07-20T15:59:22.038854Z",
     "iopub.status.busy": "2024-07-20T15:59:22.038445Z",
     "iopub.status.idle": "2024-07-20T15:59:22.066956Z",
     "shell.execute_reply": "2024-07-20T15:59:22.065781Z"
    },
    "papermill": {
     "duration": 0.059215,
     "end_time": "2024-07-20T15:59:22.069534",
     "exception": false,
     "start_time": "2024-07-20T15:59:22.010319",
     "status": "completed"
    },
    "tags": []
   },
   "outputs": [
    {
     "data": {
      "text/html": [
       "<div>\n",
       "<style scoped>\n",
       "    .dataframe tbody tr th:only-of-type {\n",
       "        vertical-align: middle;\n",
       "    }\n",
       "\n",
       "    .dataframe tbody tr th {\n",
       "        vertical-align: top;\n",
       "    }\n",
       "\n",
       "    .dataframe thead th {\n",
       "        text-align: right;\n",
       "    }\n",
       "</style>\n",
       "<table border=\"1\" class=\"dataframe\">\n",
       "  <thead>\n",
       "    <tr style=\"text-align: right;\">\n",
       "      <th></th>\n",
       "      <th>Country</th>\n",
       "      <th>ISO_CC</th>\n",
       "      <th>Review_Count</th>\n",
       "      <th>Avg_Stars</th>\n",
       "    </tr>\n",
       "  </thead>\n",
       "  <tbody>\n",
       "    <tr>\n",
       "      <th>0</th>\n",
       "      <td>Australia</td>\n",
       "      <td>AUS</td>\n",
       "      <td>26</td>\n",
       "      <td>3.27</td>\n",
       "    </tr>\n",
       "    <tr>\n",
       "      <th>1</th>\n",
       "      <td>Bangladesh</td>\n",
       "      <td>BGD</td>\n",
       "      <td>15</td>\n",
       "      <td>3.28</td>\n",
       "    </tr>\n",
       "    <tr>\n",
       "      <th>2</th>\n",
       "      <td>Brazil</td>\n",
       "      <td>BRA</td>\n",
       "      <td>32</td>\n",
       "      <td>3.62</td>\n",
       "    </tr>\n",
       "  </tbody>\n",
       "</table>\n",
       "</div>"
      ],
      "text/plain": [
       "      Country ISO_CC  Review_Count  Avg_Stars\n",
       "0   Australia    AUS            26       3.27\n",
       "1  Bangladesh    BGD            15       3.28\n",
       "2      Brazil    BRA            32       3.62"
      ]
     },
     "execution_count": 23,
     "metadata": {},
     "output_type": "execute_result"
    }
   ],
   "source": [
    "# Calculate average stars per country\n",
    "avg_stars = df.groupby('Country').agg(\n",
    "    ISO_CC=('ISO_CC', 'first'),\n",
    "    Review_Count=('Stars', 'size'),\n",
    "    Avg_Stars=('Stars', 'mean')\n",
    ").reset_index().round(2)\n",
    "\n",
    "avg_stars.head(3)"
   ]
  },
  {
   "cell_type": "markdown",
   "id": "344d356c",
   "metadata": {
    "papermill": {
     "duration": 0.02561,
     "end_time": "2024-07-20T15:59:22.121495",
     "exception": false,
     "start_time": "2024-07-20T15:59:22.095885",
     "status": "completed"
    },
    "tags": []
   },
   "source": [
    "<p style=\"font-size:18px;\"> With the dataframe created I could now plot this data on a map using plotly. Which would create an interactive and visually striking map with minimal code."
   ]
  },
  {
   "cell_type": "code",
   "execution_count": 24,
   "id": "d34a6780",
   "metadata": {
    "execution": {
     "iopub.execute_input": "2024-07-20T15:59:22.175727Z",
     "iopub.status.busy": "2024-07-20T15:59:22.175322Z",
     "iopub.status.idle": "2024-07-20T15:59:22.567839Z",
     "shell.execute_reply": "2024-07-20T15:59:22.566658Z"
    },
    "papermill": {
     "duration": 0.424462,
     "end_time": "2024-07-20T15:59:22.571301",
     "exception": false,
     "start_time": "2024-07-20T15:59:22.146839",
     "status": "completed"
    },
    "tags": []
   },
   "outputs": [
    {
     "data": {
      "text/html": [
       "        <script type=\"text/javascript\">\n",
       "        window.PlotlyConfig = {MathJaxConfig: 'local'};\n",
       "        if (window.MathJax && window.MathJax.Hub && window.MathJax.Hub.Config) {window.MathJax.Hub.Config({SVG: {font: \"STIX-Web\"}});}\n",
       "        if (typeof require !== 'undefined') {\n",
       "        require.undef(\"plotly\");\n",
       "        requirejs.config({\n",
       "            paths: {\n",
       "                'plotly': ['https://cdn.plot.ly/plotly-2.27.0.min']\n",
       "            }\n",
       "        });\n",
       "        require(['plotly'], function(Plotly) {\n",
       "            window._Plotly = Plotly;\n",
       "        });\n",
       "        }\n",
       "        </script>\n",
       "        "
      ]
     },
     "metadata": {},
     "output_type": "display_data"
    },
    {
     "data": {
      "text/html": [
       "<div>                            <div id=\"ecc8be15-4755-4980-a4e9-561d1da211e9\" class=\"plotly-graph-div\" style=\"height:1000px; width:1100px;\"></div>            <script type=\"text/javascript\">                require([\"plotly\"], function(Plotly) {                    window.PLOTLYENV=window.PLOTLYENV || {};                                    if (document.getElementById(\"ecc8be15-4755-4980-a4e9-561d1da211e9\")) {                    Plotly.newPlot(                        \"ecc8be15-4755-4980-a4e9-561d1da211e9\",                        [{\"colorbar\":{\"title\":{\"text\":\"Avg Stars\"}},\"colorscale\":[[0.0,\"rgb(165,0,38)\"],[0.1,\"rgb(215,48,39)\"],[0.2,\"rgb(244,109,67)\"],[0.3,\"rgb(253,174,97)\"],[0.4,\"rgb(254,224,139)\"],[0.5,\"rgb(255,255,191)\"],[0.6,\"rgb(217,239,139)\"],[0.7,\"rgb(166,217,106)\"],[0.8,\"rgb(102,189,99)\"],[0.9,\"rgb(26,152,80)\"],[1.0,\"rgb(0,104,55)\"]],\"hoverinfo\":\"text\",\"locations\":[\"AUS\",\"BGD\",\"BRA\",\"KHM\",\"CAN\",\"CHN\",\"COL\",\"EST\",\"FJI\",\"FIN\",\"FRA\",\"DEU\",\"GHA\",\"HUN\",\"IND\",\"IDN\",\"IRL\",\"ISR\",\"ITA\",\"JPN\",\"MYS\",\"MEX\",\"MMR\",\"NPL\",\"NLD\",\"NZL\",\"NGA\",\"PAK\",\"PER\",\"PHL\",\"POL\",\"PRT\",\"RUS\",\"SRB\",\"SGP\",\"KOR\",\"ESP\",\"SWE\",\"TWN\",\"THA\",\"UKR\",\"ARE\",\"GBR\",\"USA\",\"VNM\"],\"marker\":{\"line\":{\"width\":0.5}},\"text\":[\"Australia\\u003cbr\\u003e3.27 Average Stars\\u003cbr\\u003e26 Number of Reviews\",\"Bangladesh\\u003cbr\\u003e3.28 Average Stars\\u003cbr\\u003e15 Number of Reviews\",\"Brazil\\u003cbr\\u003e3.62 Average Stars\\u003cbr\\u003e32 Number of Reviews\",\"Cambodia\\u003cbr\\u003e4.2 Average Stars\\u003cbr\\u003e5 Number of Reviews\",\"Canada\\u003cbr\\u003e2.33 Average Stars\\u003cbr\\u003e56 Number of Reviews\",\"China\\u003cbr\\u003e3.74 Average Stars\\u003cbr\\u003e542 Number of Reviews\",\"Colombia\\u003cbr\\u003e3.29 Average Stars\\u003cbr\\u003e6 Number of Reviews\",\"Estonia\\u003cbr\\u003e3.5 Average Stars\\u003cbr\\u003e2 Number of Reviews\",\"Fiji\\u003cbr\\u003e3.88 Average Stars\\u003cbr\\u003e4 Number of Reviews\",\"Finland\\u003cbr\\u003e3.58 Average Stars\\u003cbr\\u003e3 Number of Reviews\",\"France\\u003cbr\\u003e4.33 Average Stars\\u003cbr\\u003e6 Number of Reviews\",\"Germany\\u003cbr\\u003e3.53 Average Stars\\u003cbr\\u003e38 Number of Reviews\",\"Ghana\\u003cbr\\u003e3.5 Average Stars\\u003cbr\\u003e2 Number of Reviews\",\"Hungary\\u003cbr\\u003e3.61 Average Stars\\u003cbr\\u003e9 Number of Reviews\",\"India\\u003cbr\\u003e3.51 Average Stars\\u003cbr\\u003e48 Number of Reviews\",\"Indonesia\\u003cbr\\u003e4.16 Average Stars\\u003cbr\\u003e195 Number of Reviews\",\"Ireland\\u003cbr\\u003e1.5 Average Stars\\u003cbr\\u003e4 Number of Reviews\",\"Israel\\u003cbr\\u003e3.0 Average Stars\\u003cbr\\u003e3 Number of Reviews\",\"Italy\\u003cbr\\u003e2.75 Average Stars\\u003cbr\\u003e4 Number of Reviews\",\"Japan\\u003cbr\\u003e3.83 Average Stars\\u003cbr\\u003e949 Number of Reviews\",\"Malaysia\\u003cbr\\u003e4.23 Average Stars\\u003cbr\\u003e257 Number of Reviews\",\"Mexico\\u003cbr\\u003e3.61 Average Stars\\u003cbr\\u003e32 Number of Reviews\",\"Myanmar\\u003cbr\\u003e3.95 Average Stars\\u003cbr\\u003e14 Number of Reviews\",\"Nepal\\u003cbr\\u003e3.52 Average Stars\\u003cbr\\u003e14 Number of Reviews\",\"Netherlands\\u003cbr\\u003e2.71 Average Stars\\u003cbr\\u003e20 Number of Reviews\",\"New Zealand\\u003cbr\\u003e3.0 Average Stars\\u003cbr\\u003e1 Number of Reviews\",\"Nigeria\\u003cbr\\u003e2.38 Average Stars\\u003cbr\\u003e2 Number of Reviews\",\"Pakistan\\u003cbr\\u003e3.27 Average Stars\\u003cbr\\u003e15 Number of Reviews\",\"Peru\\u003cbr\\u003e3.38 Average Stars\\u003cbr\\u003e4 Number of Reviews\",\"Philippines\\u003cbr\\u003e3.46 Average Stars\\u003cbr\\u003e56 Number of Reviews\",\"Poland\\u003cbr\\u003e3.08 Average Stars\\u003cbr\\u003e6 Number of Reviews\",\"Portugal\\u003cbr\\u003e2.0 Average Stars\\u003cbr\\u003e1 Number of Reviews\",\"Russia\\u003cbr\\u003e3.57 Average Stars\\u003cbr\\u003e7 Number of Reviews\",\"Serbia\\u003cbr\\u003e2.3 Average Stars\\u003cbr\\u003e5 Number of Reviews\",\"Singapore\\u003cbr\\u003e4.09 Average Stars\\u003cbr\\u003e154 Number of Reviews\",\"South Korea\\u003cbr\\u003e3.89 Average Stars\\u003cbr\\u003e461 Number of Reviews\",\"Spain\\u003cbr\\u003e4.0 Average Stars\\u003cbr\\u003e3 Number of Reviews\",\"Sweden\\u003cbr\\u003e3.25 Average Stars\\u003cbr\\u003e3 Number of Reviews\",\"Taiwan\\u003cbr\\u003e3.96 Average Stars\\u003cbr\\u003e446 Number of Reviews\",\"Thailand\\u003cbr\\u003e3.51 Average Stars\\u003cbr\\u003e241 Number of Reviews\",\"Ukraine\\u003cbr\\u003e3.58 Average Stars\\u003cbr\\u003e3 Number of Reviews\",\"United Arab Emirates\\u003cbr\\u003e3.58 Average Stars\\u003cbr\\u003e3 Number of Reviews\",\"United Kingdom\\u003cbr\\u003e3.02 Average Stars\\u003cbr\\u003e83 Number of Reviews\",\"United States of America\\u003cbr\\u003e3.58 Average Stars\\u003cbr\\u003e721 Number of Reviews\",\"Vietnam\\u003cbr\\u003e3.25 Average Stars\\u003cbr\\u003e138 Number of Reviews\"],\"z\":[3.27,3.28,3.62,4.2,2.33,3.74,3.29,3.5,3.88,3.58,4.33,3.53,3.5,3.61,3.51,4.16,1.5,3.0,2.75,3.83,4.23,3.61,3.95,3.52,2.71,3.0,2.38,3.27,3.38,3.46,3.08,2.0,3.57,2.3,4.09,3.89,4.0,3.25,3.96,3.51,3.58,3.58,3.02,3.58,3.25],\"zmax\":5,\"zmin\":0,\"type\":\"choropleth\"}],                        {\"template\":{\"data\":{\"histogram2dcontour\":[{\"type\":\"histogram2dcontour\",\"colorbar\":{\"outlinewidth\":0,\"ticks\":\"\"},\"colorscale\":[[0.0,\"#0d0887\"],[0.1111111111111111,\"#46039f\"],[0.2222222222222222,\"#7201a8\"],[0.3333333333333333,\"#9c179e\"],[0.4444444444444444,\"#bd3786\"],[0.5555555555555556,\"#d8576b\"],[0.6666666666666666,\"#ed7953\"],[0.7777777777777778,\"#fb9f3a\"],[0.8888888888888888,\"#fdca26\"],[1.0,\"#f0f921\"]]}],\"choropleth\":[{\"type\":\"choropleth\",\"colorbar\":{\"outlinewidth\":0,\"ticks\":\"\"}}],\"histogram2d\":[{\"type\":\"histogram2d\",\"colorbar\":{\"outlinewidth\":0,\"ticks\":\"\"},\"colorscale\":[[0.0,\"#0d0887\"],[0.1111111111111111,\"#46039f\"],[0.2222222222222222,\"#7201a8\"],[0.3333333333333333,\"#9c179e\"],[0.4444444444444444,\"#bd3786\"],[0.5555555555555556,\"#d8576b\"],[0.6666666666666666,\"#ed7953\"],[0.7777777777777778,\"#fb9f3a\"],[0.8888888888888888,\"#fdca26\"],[1.0,\"#f0f921\"]]}],\"heatmap\":[{\"type\":\"heatmap\",\"colorbar\":{\"outlinewidth\":0,\"ticks\":\"\"},\"colorscale\":[[0.0,\"#0d0887\"],[0.1111111111111111,\"#46039f\"],[0.2222222222222222,\"#7201a8\"],[0.3333333333333333,\"#9c179e\"],[0.4444444444444444,\"#bd3786\"],[0.5555555555555556,\"#d8576b\"],[0.6666666666666666,\"#ed7953\"],[0.7777777777777778,\"#fb9f3a\"],[0.8888888888888888,\"#fdca26\"],[1.0,\"#f0f921\"]]}],\"heatmapgl\":[{\"type\":\"heatmapgl\",\"colorbar\":{\"outlinewidth\":0,\"ticks\":\"\"},\"colorscale\":[[0.0,\"#0d0887\"],[0.1111111111111111,\"#46039f\"],[0.2222222222222222,\"#7201a8\"],[0.3333333333333333,\"#9c179e\"],[0.4444444444444444,\"#bd3786\"],[0.5555555555555556,\"#d8576b\"],[0.6666666666666666,\"#ed7953\"],[0.7777777777777778,\"#fb9f3a\"],[0.8888888888888888,\"#fdca26\"],[1.0,\"#f0f921\"]]}],\"contourcarpet\":[{\"type\":\"contourcarpet\",\"colorbar\":{\"outlinewidth\":0,\"ticks\":\"\"}}],\"contour\":[{\"type\":\"contour\",\"colorbar\":{\"outlinewidth\":0,\"ticks\":\"\"},\"colorscale\":[[0.0,\"#0d0887\"],[0.1111111111111111,\"#46039f\"],[0.2222222222222222,\"#7201a8\"],[0.3333333333333333,\"#9c179e\"],[0.4444444444444444,\"#bd3786\"],[0.5555555555555556,\"#d8576b\"],[0.6666666666666666,\"#ed7953\"],[0.7777777777777778,\"#fb9f3a\"],[0.8888888888888888,\"#fdca26\"],[1.0,\"#f0f921\"]]}],\"surface\":[{\"type\":\"surface\",\"colorbar\":{\"outlinewidth\":0,\"ticks\":\"\"},\"colorscale\":[[0.0,\"#0d0887\"],[0.1111111111111111,\"#46039f\"],[0.2222222222222222,\"#7201a8\"],[0.3333333333333333,\"#9c179e\"],[0.4444444444444444,\"#bd3786\"],[0.5555555555555556,\"#d8576b\"],[0.6666666666666666,\"#ed7953\"],[0.7777777777777778,\"#fb9f3a\"],[0.8888888888888888,\"#fdca26\"],[1.0,\"#f0f921\"]]}],\"mesh3d\":[{\"type\":\"mesh3d\",\"colorbar\":{\"outlinewidth\":0,\"ticks\":\"\"}}],\"scatter\":[{\"fillpattern\":{\"fillmode\":\"overlay\",\"size\":10,\"solidity\":0.2},\"type\":\"scatter\"}],\"parcoords\":[{\"type\":\"parcoords\",\"line\":{\"colorbar\":{\"outlinewidth\":0,\"ticks\":\"\"}}}],\"scatterpolargl\":[{\"type\":\"scatterpolargl\",\"marker\":{\"colorbar\":{\"outlinewidth\":0,\"ticks\":\"\"}}}],\"bar\":[{\"error_x\":{\"color\":\"#2a3f5f\"},\"error_y\":{\"color\":\"#2a3f5f\"},\"marker\":{\"line\":{\"color\":\"#E5ECF6\",\"width\":0.5},\"pattern\":{\"fillmode\":\"overlay\",\"size\":10,\"solidity\":0.2}},\"type\":\"bar\"}],\"scattergeo\":[{\"type\":\"scattergeo\",\"marker\":{\"colorbar\":{\"outlinewidth\":0,\"ticks\":\"\"}}}],\"scatterpolar\":[{\"type\":\"scatterpolar\",\"marker\":{\"colorbar\":{\"outlinewidth\":0,\"ticks\":\"\"}}}],\"histogram\":[{\"marker\":{\"pattern\":{\"fillmode\":\"overlay\",\"size\":10,\"solidity\":0.2}},\"type\":\"histogram\"}],\"scattergl\":[{\"type\":\"scattergl\",\"marker\":{\"colorbar\":{\"outlinewidth\":0,\"ticks\":\"\"}}}],\"scatter3d\":[{\"type\":\"scatter3d\",\"line\":{\"colorbar\":{\"outlinewidth\":0,\"ticks\":\"\"}},\"marker\":{\"colorbar\":{\"outlinewidth\":0,\"ticks\":\"\"}}}],\"scattermapbox\":[{\"type\":\"scattermapbox\",\"marker\":{\"colorbar\":{\"outlinewidth\":0,\"ticks\":\"\"}}}],\"scatterternary\":[{\"type\":\"scatterternary\",\"marker\":{\"colorbar\":{\"outlinewidth\":0,\"ticks\":\"\"}}}],\"scattercarpet\":[{\"type\":\"scattercarpet\",\"marker\":{\"colorbar\":{\"outlinewidth\":0,\"ticks\":\"\"}}}],\"carpet\":[{\"aaxis\":{\"endlinecolor\":\"#2a3f5f\",\"gridcolor\":\"white\",\"linecolor\":\"white\",\"minorgridcolor\":\"white\",\"startlinecolor\":\"#2a3f5f\"},\"baxis\":{\"endlinecolor\":\"#2a3f5f\",\"gridcolor\":\"white\",\"linecolor\":\"white\",\"minorgridcolor\":\"white\",\"startlinecolor\":\"#2a3f5f\"},\"type\":\"carpet\"}],\"table\":[{\"cells\":{\"fill\":{\"color\":\"#EBF0F8\"},\"line\":{\"color\":\"white\"}},\"header\":{\"fill\":{\"color\":\"#C8D4E3\"},\"line\":{\"color\":\"white\"}},\"type\":\"table\"}],\"barpolar\":[{\"marker\":{\"line\":{\"color\":\"#E5ECF6\",\"width\":0.5},\"pattern\":{\"fillmode\":\"overlay\",\"size\":10,\"solidity\":0.2}},\"type\":\"barpolar\"}],\"pie\":[{\"automargin\":true,\"type\":\"pie\"}]},\"layout\":{\"autotypenumbers\":\"strict\",\"colorway\":[\"#636efa\",\"#EF553B\",\"#00cc96\",\"#ab63fa\",\"#FFA15A\",\"#19d3f3\",\"#FF6692\",\"#B6E880\",\"#FF97FF\",\"#FECB52\"],\"font\":{\"color\":\"#2a3f5f\"},\"hovermode\":\"closest\",\"hoverlabel\":{\"align\":\"left\"},\"paper_bgcolor\":\"white\",\"plot_bgcolor\":\"#E5ECF6\",\"polar\":{\"bgcolor\":\"#E5ECF6\",\"angularaxis\":{\"gridcolor\":\"white\",\"linecolor\":\"white\",\"ticks\":\"\"},\"radialaxis\":{\"gridcolor\":\"white\",\"linecolor\":\"white\",\"ticks\":\"\"}},\"ternary\":{\"bgcolor\":\"#E5ECF6\",\"aaxis\":{\"gridcolor\":\"white\",\"linecolor\":\"white\",\"ticks\":\"\"},\"baxis\":{\"gridcolor\":\"white\",\"linecolor\":\"white\",\"ticks\":\"\"},\"caxis\":{\"gridcolor\":\"white\",\"linecolor\":\"white\",\"ticks\":\"\"}},\"coloraxis\":{\"colorbar\":{\"outlinewidth\":0,\"ticks\":\"\"}},\"colorscale\":{\"sequential\":[[0.0,\"#0d0887\"],[0.1111111111111111,\"#46039f\"],[0.2222222222222222,\"#7201a8\"],[0.3333333333333333,\"#9c179e\"],[0.4444444444444444,\"#bd3786\"],[0.5555555555555556,\"#d8576b\"],[0.6666666666666666,\"#ed7953\"],[0.7777777777777778,\"#fb9f3a\"],[0.8888888888888888,\"#fdca26\"],[1.0,\"#f0f921\"]],\"sequentialminus\":[[0.0,\"#0d0887\"],[0.1111111111111111,\"#46039f\"],[0.2222222222222222,\"#7201a8\"],[0.3333333333333333,\"#9c179e\"],[0.4444444444444444,\"#bd3786\"],[0.5555555555555556,\"#d8576b\"],[0.6666666666666666,\"#ed7953\"],[0.7777777777777778,\"#fb9f3a\"],[0.8888888888888888,\"#fdca26\"],[1.0,\"#f0f921\"]],\"diverging\":[[0,\"#8e0152\"],[0.1,\"#c51b7d\"],[0.2,\"#de77ae\"],[0.3,\"#f1b6da\"],[0.4,\"#fde0ef\"],[0.5,\"#f7f7f7\"],[0.6,\"#e6f5d0\"],[0.7,\"#b8e186\"],[0.8,\"#7fbc41\"],[0.9,\"#4d9221\"],[1,\"#276419\"]]},\"xaxis\":{\"gridcolor\":\"white\",\"linecolor\":\"white\",\"ticks\":\"\",\"title\":{\"standoff\":15},\"zerolinecolor\":\"white\",\"automargin\":true,\"zerolinewidth\":2},\"yaxis\":{\"gridcolor\":\"white\",\"linecolor\":\"white\",\"ticks\":\"\",\"title\":{\"standoff\":15},\"zerolinecolor\":\"white\",\"automargin\":true,\"zerolinewidth\":2},\"scene\":{\"xaxis\":{\"backgroundcolor\":\"#E5ECF6\",\"gridcolor\":\"white\",\"linecolor\":\"white\",\"showbackground\":true,\"ticks\":\"\",\"zerolinecolor\":\"white\",\"gridwidth\":2},\"yaxis\":{\"backgroundcolor\":\"#E5ECF6\",\"gridcolor\":\"white\",\"linecolor\":\"white\",\"showbackground\":true,\"ticks\":\"\",\"zerolinecolor\":\"white\",\"gridwidth\":2},\"zaxis\":{\"backgroundcolor\":\"#E5ECF6\",\"gridcolor\":\"white\",\"linecolor\":\"white\",\"showbackground\":true,\"ticks\":\"\",\"zerolinecolor\":\"white\",\"gridwidth\":2}},\"shapedefaults\":{\"line\":{\"color\":\"#2a3f5f\"}},\"annotationdefaults\":{\"arrowcolor\":\"#2a3f5f\",\"arrowhead\":0,\"arrowwidth\":1},\"geo\":{\"bgcolor\":\"white\",\"landcolor\":\"#E5ECF6\",\"subunitcolor\":\"white\",\"showland\":true,\"showlakes\":true,\"lakecolor\":\"white\"},\"title\":{\"x\":0.05},\"mapbox\":{\"style\":\"light\"}}},\"title\":{\"text\":\"Average Reviews by Country\"},\"geo\":{\"projection\":{\"type\":\"miller\"},\"showcoastlines\":false,\"landcolor\":\"white\",\"showocean\":true,\"oceancolor\":\"lightblue\",\"showcountries\":true,\"countrycolor\":\"grey\"},\"width\":1100,\"height\":1000},                        {\"responsive\": true}                    ).then(function(){\n",
       "                            \n",
       "var gd = document.getElementById('ecc8be15-4755-4980-a4e9-561d1da211e9');\n",
       "var x = new MutationObserver(function (mutations, observer) {{\n",
       "        var display = window.getComputedStyle(gd).display;\n",
       "        if (!display || display === 'none') {{\n",
       "            console.log([gd, 'removed!']);\n",
       "            Plotly.purge(gd);\n",
       "            observer.disconnect();\n",
       "        }}\n",
       "}});\n",
       "\n",
       "// Listen for the removal of the full notebook cells\n",
       "var notebookContainer = gd.closest('#notebook-container');\n",
       "if (notebookContainer) {{\n",
       "    x.observe(notebookContainer, {childList: true});\n",
       "}}\n",
       "\n",
       "// Listen for the clearing of the current output cell\n",
       "var outputEl = gd.closest('.output');\n",
       "if (outputEl) {{\n",
       "    x.observe(outputEl, {childList: true});\n",
       "}}\n",
       "\n",
       "                        })                };                });            </script>        </div>"
      ]
     },
     "metadata": {},
     "output_type": "display_data"
    },
    {
     "name": "stdout",
     "output_type": "stream",
     "text": [
      "Please note that Singapore is not displayed on this map.\n",
      "Singapore has 154 reviews and 4.09 average stars\n",
      "---------------------------------------------------\n",
      "Average stars accross entire data set: 3.74\n"
     ]
    }
   ],
   "source": [
    "import plotly.graph_objects as go\n",
    "\n",
    "hover_text = (avg_stars['Country'] + '<br>' + avg_stars['Avg_Stars'].astype(str) + ' Average Stars' + \n",
    "              '<br>' + avg_stars[\"Review_Count\"].astype(str) + ' Number of Reviews')\n",
    "\n",
    "fig = go.Figure(data=go.Choropleth(locations=avg_stars['ISO_CC'],z=avg_stars['Avg_Stars'],\n",
    "    text=hover_text, hoverinfo='text', colorscale='RdYlGn', zmin=0, zmax=5,\n",
    "    marker_line_width=0.5, colorbar_title='Avg Stars'))\n",
    "\n",
    "fig.update_layout(title_text='Average Reviews by Country',width=1100, height=1000,\n",
    "    geo=dict(showcoastlines=False, projection_type='miller', landcolor=\"white\",\n",
    "        showocean=True, oceancolor=\"lightblue\", showcountries=True, countrycolor=\"grey\"))\n",
    "\n",
    "fig.show()\n",
    "\n",
    "print(\"Please note that Singapore is not displayed on this map.\")\n",
    "print(\"Singapore has 154 reviews and 4.09 average stars\")\n",
    "print(\"---------------------------------------------------\")\n",
    "print(\"Average stars accross entire data set:\",df[\"Stars\"].mean().round(2))"
   ]
  },
  {
   "cell_type": "markdown",
   "id": "55c22842",
   "metadata": {
    "papermill": {
     "duration": 0.025335,
     "end_time": "2024-07-20T15:59:22.622957",
     "exception": false,
     "start_time": "2024-07-20T15:59:22.597622",
     "status": "completed"
    },
    "tags": []
   },
   "source": [
    "<p style=\"font-size:18px;\"> Wow this is great to see! For the most part each country appears to have an average star rating in the 3-4 range. However there are a few outliers which are outside of this norm such as Ireland, Canada and Portugal (to name a few) which have a lower average star rating compared to the other countries. By looking into this further, many of the countries have less than 5 reviews as such there is too little data on several countries to accurately say that the averages are correct.\n",
    "    \n",
    "<p style=\"font-size:18px;\"> Knowing this I decided to plot this map again but only to show the countries which have a minimum of 5 reviews."
   ]
  },
  {
   "cell_type": "code",
   "execution_count": 25,
   "id": "9af7ce93",
   "metadata": {
    "execution": {
     "iopub.execute_input": "2024-07-20T15:59:22.676478Z",
     "iopub.status.busy": "2024-07-20T15:59:22.676033Z",
     "iopub.status.idle": "2024-07-20T15:59:22.705385Z",
     "shell.execute_reply": "2024-07-20T15:59:22.704309Z"
    },
    "papermill": {
     "duration": 0.059863,
     "end_time": "2024-07-20T15:59:22.708639",
     "exception": false,
     "start_time": "2024-07-20T15:59:22.648776",
     "status": "completed"
    },
    "tags": []
   },
   "outputs": [
    {
     "data": {
      "text/html": [
       "<div>                            <div id=\"f8ac029b-fbc0-4734-a234-0259ed359e9b\" class=\"plotly-graph-div\" style=\"height:1000px; width:1100px;\"></div>            <script type=\"text/javascript\">                require([\"plotly\"], function(Plotly) {                    window.PLOTLYENV=window.PLOTLYENV || {};                                    if (document.getElementById(\"f8ac029b-fbc0-4734-a234-0259ed359e9b\")) {                    Plotly.newPlot(                        \"f8ac029b-fbc0-4734-a234-0259ed359e9b\",                        [{\"colorbar\":{\"title\":{\"text\":\"Avg Stars\"}},\"colorscale\":[[0.0,\"rgb(165,0,38)\"],[0.1,\"rgb(215,48,39)\"],[0.2,\"rgb(244,109,67)\"],[0.3,\"rgb(253,174,97)\"],[0.4,\"rgb(254,224,139)\"],[0.5,\"rgb(255,255,191)\"],[0.6,\"rgb(217,239,139)\"],[0.7,\"rgb(166,217,106)\"],[0.8,\"rgb(102,189,99)\"],[0.9,\"rgb(26,152,80)\"],[1.0,\"rgb(0,104,55)\"]],\"hoverinfo\":\"text\",\"locations\":[\"AUS\",\"BGD\",\"BRA\",\"KHM\",\"CAN\",\"CHN\",\"COL\",\"FRA\",\"DEU\",\"HUN\",\"IND\",\"IDN\",\"JPN\",\"MYS\",\"MEX\",\"MMR\",\"NPL\",\"NLD\",\"PAK\",\"PHL\",\"POL\",\"RUS\",\"SRB\",\"SGP\",\"KOR\",\"TWN\",\"THA\",\"GBR\",\"USA\",\"VNM\"],\"marker\":{\"line\":{\"width\":0.5}},\"text\":[\"Australia\\u003cbr\\u003e3.27 Average Stars\\u003cbr\\u003e26 Number of Reviews\",\"Bangladesh\\u003cbr\\u003e3.28 Average Stars\\u003cbr\\u003e15 Number of Reviews\",\"Brazil\\u003cbr\\u003e3.62 Average Stars\\u003cbr\\u003e32 Number of Reviews\",\"Cambodia\\u003cbr\\u003e4.2 Average Stars\\u003cbr\\u003e5 Number of Reviews\",\"Canada\\u003cbr\\u003e2.33 Average Stars\\u003cbr\\u003e56 Number of Reviews\",\"China\\u003cbr\\u003e3.74 Average Stars\\u003cbr\\u003e542 Number of Reviews\",\"Colombia\\u003cbr\\u003e3.29 Average Stars\\u003cbr\\u003e6 Number of Reviews\",\"France\\u003cbr\\u003e4.33 Average Stars\\u003cbr\\u003e6 Number of Reviews\",\"Germany\\u003cbr\\u003e3.53 Average Stars\\u003cbr\\u003e38 Number of Reviews\",\"Hungary\\u003cbr\\u003e3.61 Average Stars\\u003cbr\\u003e9 Number of Reviews\",\"India\\u003cbr\\u003e3.51 Average Stars\\u003cbr\\u003e48 Number of Reviews\",\"Indonesia\\u003cbr\\u003e4.16 Average Stars\\u003cbr\\u003e195 Number of Reviews\",\"Japan\\u003cbr\\u003e3.83 Average Stars\\u003cbr\\u003e949 Number of Reviews\",\"Malaysia\\u003cbr\\u003e4.23 Average Stars\\u003cbr\\u003e257 Number of Reviews\",\"Mexico\\u003cbr\\u003e3.61 Average Stars\\u003cbr\\u003e32 Number of Reviews\",\"Myanmar\\u003cbr\\u003e3.95 Average Stars\\u003cbr\\u003e14 Number of Reviews\",\"Nepal\\u003cbr\\u003e3.52 Average Stars\\u003cbr\\u003e14 Number of Reviews\",\"Netherlands\\u003cbr\\u003e2.71 Average Stars\\u003cbr\\u003e20 Number of Reviews\",\"Pakistan\\u003cbr\\u003e3.27 Average Stars\\u003cbr\\u003e15 Number of Reviews\",\"Philippines\\u003cbr\\u003e3.46 Average Stars\\u003cbr\\u003e56 Number of Reviews\",\"Poland\\u003cbr\\u003e3.08 Average Stars\\u003cbr\\u003e6 Number of Reviews\",\"Russia\\u003cbr\\u003e3.57 Average Stars\\u003cbr\\u003e7 Number of Reviews\",\"Serbia\\u003cbr\\u003e2.3 Average Stars\\u003cbr\\u003e5 Number of Reviews\",\"Singapore\\u003cbr\\u003e4.09 Average Stars\\u003cbr\\u003e154 Number of Reviews\",\"South Korea\\u003cbr\\u003e3.89 Average Stars\\u003cbr\\u003e461 Number of Reviews\",\"Taiwan\\u003cbr\\u003e3.96 Average Stars\\u003cbr\\u003e446 Number of Reviews\",\"Thailand\\u003cbr\\u003e3.51 Average Stars\\u003cbr\\u003e241 Number of Reviews\",\"United Kingdom\\u003cbr\\u003e3.02 Average Stars\\u003cbr\\u003e83 Number of Reviews\",\"United States of America\\u003cbr\\u003e3.58 Average Stars\\u003cbr\\u003e721 Number of Reviews\",\"Vietnam\\u003cbr\\u003e3.25 Average Stars\\u003cbr\\u003e138 Number of Reviews\"],\"z\":[3.27,3.28,3.62,4.2,2.33,3.74,3.29,4.33,3.53,3.61,3.51,4.16,3.83,4.23,3.61,3.95,3.52,2.71,3.27,3.46,3.08,3.57,2.3,4.09,3.89,3.96,3.51,3.02,3.58,3.25],\"zmax\":5,\"zmin\":0,\"type\":\"choropleth\"}],                        {\"template\":{\"data\":{\"histogram2dcontour\":[{\"type\":\"histogram2dcontour\",\"colorbar\":{\"outlinewidth\":0,\"ticks\":\"\"},\"colorscale\":[[0.0,\"#0d0887\"],[0.1111111111111111,\"#46039f\"],[0.2222222222222222,\"#7201a8\"],[0.3333333333333333,\"#9c179e\"],[0.4444444444444444,\"#bd3786\"],[0.5555555555555556,\"#d8576b\"],[0.6666666666666666,\"#ed7953\"],[0.7777777777777778,\"#fb9f3a\"],[0.8888888888888888,\"#fdca26\"],[1.0,\"#f0f921\"]]}],\"choropleth\":[{\"type\":\"choropleth\",\"colorbar\":{\"outlinewidth\":0,\"ticks\":\"\"}}],\"histogram2d\":[{\"type\":\"histogram2d\",\"colorbar\":{\"outlinewidth\":0,\"ticks\":\"\"},\"colorscale\":[[0.0,\"#0d0887\"],[0.1111111111111111,\"#46039f\"],[0.2222222222222222,\"#7201a8\"],[0.3333333333333333,\"#9c179e\"],[0.4444444444444444,\"#bd3786\"],[0.5555555555555556,\"#d8576b\"],[0.6666666666666666,\"#ed7953\"],[0.7777777777777778,\"#fb9f3a\"],[0.8888888888888888,\"#fdca26\"],[1.0,\"#f0f921\"]]}],\"heatmap\":[{\"type\":\"heatmap\",\"colorbar\":{\"outlinewidth\":0,\"ticks\":\"\"},\"colorscale\":[[0.0,\"#0d0887\"],[0.1111111111111111,\"#46039f\"],[0.2222222222222222,\"#7201a8\"],[0.3333333333333333,\"#9c179e\"],[0.4444444444444444,\"#bd3786\"],[0.5555555555555556,\"#d8576b\"],[0.6666666666666666,\"#ed7953\"],[0.7777777777777778,\"#fb9f3a\"],[0.8888888888888888,\"#fdca26\"],[1.0,\"#f0f921\"]]}],\"heatmapgl\":[{\"type\":\"heatmapgl\",\"colorbar\":{\"outlinewidth\":0,\"ticks\":\"\"},\"colorscale\":[[0.0,\"#0d0887\"],[0.1111111111111111,\"#46039f\"],[0.2222222222222222,\"#7201a8\"],[0.3333333333333333,\"#9c179e\"],[0.4444444444444444,\"#bd3786\"],[0.5555555555555556,\"#d8576b\"],[0.6666666666666666,\"#ed7953\"],[0.7777777777777778,\"#fb9f3a\"],[0.8888888888888888,\"#fdca26\"],[1.0,\"#f0f921\"]]}],\"contourcarpet\":[{\"type\":\"contourcarpet\",\"colorbar\":{\"outlinewidth\":0,\"ticks\":\"\"}}],\"contour\":[{\"type\":\"contour\",\"colorbar\":{\"outlinewidth\":0,\"ticks\":\"\"},\"colorscale\":[[0.0,\"#0d0887\"],[0.1111111111111111,\"#46039f\"],[0.2222222222222222,\"#7201a8\"],[0.3333333333333333,\"#9c179e\"],[0.4444444444444444,\"#bd3786\"],[0.5555555555555556,\"#d8576b\"],[0.6666666666666666,\"#ed7953\"],[0.7777777777777778,\"#fb9f3a\"],[0.8888888888888888,\"#fdca26\"],[1.0,\"#f0f921\"]]}],\"surface\":[{\"type\":\"surface\",\"colorbar\":{\"outlinewidth\":0,\"ticks\":\"\"},\"colorscale\":[[0.0,\"#0d0887\"],[0.1111111111111111,\"#46039f\"],[0.2222222222222222,\"#7201a8\"],[0.3333333333333333,\"#9c179e\"],[0.4444444444444444,\"#bd3786\"],[0.5555555555555556,\"#d8576b\"],[0.6666666666666666,\"#ed7953\"],[0.7777777777777778,\"#fb9f3a\"],[0.8888888888888888,\"#fdca26\"],[1.0,\"#f0f921\"]]}],\"mesh3d\":[{\"type\":\"mesh3d\",\"colorbar\":{\"outlinewidth\":0,\"ticks\":\"\"}}],\"scatter\":[{\"fillpattern\":{\"fillmode\":\"overlay\",\"size\":10,\"solidity\":0.2},\"type\":\"scatter\"}],\"parcoords\":[{\"type\":\"parcoords\",\"line\":{\"colorbar\":{\"outlinewidth\":0,\"ticks\":\"\"}}}],\"scatterpolargl\":[{\"type\":\"scatterpolargl\",\"marker\":{\"colorbar\":{\"outlinewidth\":0,\"ticks\":\"\"}}}],\"bar\":[{\"error_x\":{\"color\":\"#2a3f5f\"},\"error_y\":{\"color\":\"#2a3f5f\"},\"marker\":{\"line\":{\"color\":\"#E5ECF6\",\"width\":0.5},\"pattern\":{\"fillmode\":\"overlay\",\"size\":10,\"solidity\":0.2}},\"type\":\"bar\"}],\"scattergeo\":[{\"type\":\"scattergeo\",\"marker\":{\"colorbar\":{\"outlinewidth\":0,\"ticks\":\"\"}}}],\"scatterpolar\":[{\"type\":\"scatterpolar\",\"marker\":{\"colorbar\":{\"outlinewidth\":0,\"ticks\":\"\"}}}],\"histogram\":[{\"marker\":{\"pattern\":{\"fillmode\":\"overlay\",\"size\":10,\"solidity\":0.2}},\"type\":\"histogram\"}],\"scattergl\":[{\"type\":\"scattergl\",\"marker\":{\"colorbar\":{\"outlinewidth\":0,\"ticks\":\"\"}}}],\"scatter3d\":[{\"type\":\"scatter3d\",\"line\":{\"colorbar\":{\"outlinewidth\":0,\"ticks\":\"\"}},\"marker\":{\"colorbar\":{\"outlinewidth\":0,\"ticks\":\"\"}}}],\"scattermapbox\":[{\"type\":\"scattermapbox\",\"marker\":{\"colorbar\":{\"outlinewidth\":0,\"ticks\":\"\"}}}],\"scatterternary\":[{\"type\":\"scatterternary\",\"marker\":{\"colorbar\":{\"outlinewidth\":0,\"ticks\":\"\"}}}],\"scattercarpet\":[{\"type\":\"scattercarpet\",\"marker\":{\"colorbar\":{\"outlinewidth\":0,\"ticks\":\"\"}}}],\"carpet\":[{\"aaxis\":{\"endlinecolor\":\"#2a3f5f\",\"gridcolor\":\"white\",\"linecolor\":\"white\",\"minorgridcolor\":\"white\",\"startlinecolor\":\"#2a3f5f\"},\"baxis\":{\"endlinecolor\":\"#2a3f5f\",\"gridcolor\":\"white\",\"linecolor\":\"white\",\"minorgridcolor\":\"white\",\"startlinecolor\":\"#2a3f5f\"},\"type\":\"carpet\"}],\"table\":[{\"cells\":{\"fill\":{\"color\":\"#EBF0F8\"},\"line\":{\"color\":\"white\"}},\"header\":{\"fill\":{\"color\":\"#C8D4E3\"},\"line\":{\"color\":\"white\"}},\"type\":\"table\"}],\"barpolar\":[{\"marker\":{\"line\":{\"color\":\"#E5ECF6\",\"width\":0.5},\"pattern\":{\"fillmode\":\"overlay\",\"size\":10,\"solidity\":0.2}},\"type\":\"barpolar\"}],\"pie\":[{\"automargin\":true,\"type\":\"pie\"}]},\"layout\":{\"autotypenumbers\":\"strict\",\"colorway\":[\"#636efa\",\"#EF553B\",\"#00cc96\",\"#ab63fa\",\"#FFA15A\",\"#19d3f3\",\"#FF6692\",\"#B6E880\",\"#FF97FF\",\"#FECB52\"],\"font\":{\"color\":\"#2a3f5f\"},\"hovermode\":\"closest\",\"hoverlabel\":{\"align\":\"left\"},\"paper_bgcolor\":\"white\",\"plot_bgcolor\":\"#E5ECF6\",\"polar\":{\"bgcolor\":\"#E5ECF6\",\"angularaxis\":{\"gridcolor\":\"white\",\"linecolor\":\"white\",\"ticks\":\"\"},\"radialaxis\":{\"gridcolor\":\"white\",\"linecolor\":\"white\",\"ticks\":\"\"}},\"ternary\":{\"bgcolor\":\"#E5ECF6\",\"aaxis\":{\"gridcolor\":\"white\",\"linecolor\":\"white\",\"ticks\":\"\"},\"baxis\":{\"gridcolor\":\"white\",\"linecolor\":\"white\",\"ticks\":\"\"},\"caxis\":{\"gridcolor\":\"white\",\"linecolor\":\"white\",\"ticks\":\"\"}},\"coloraxis\":{\"colorbar\":{\"outlinewidth\":0,\"ticks\":\"\"}},\"colorscale\":{\"sequential\":[[0.0,\"#0d0887\"],[0.1111111111111111,\"#46039f\"],[0.2222222222222222,\"#7201a8\"],[0.3333333333333333,\"#9c179e\"],[0.4444444444444444,\"#bd3786\"],[0.5555555555555556,\"#d8576b\"],[0.6666666666666666,\"#ed7953\"],[0.7777777777777778,\"#fb9f3a\"],[0.8888888888888888,\"#fdca26\"],[1.0,\"#f0f921\"]],\"sequentialminus\":[[0.0,\"#0d0887\"],[0.1111111111111111,\"#46039f\"],[0.2222222222222222,\"#7201a8\"],[0.3333333333333333,\"#9c179e\"],[0.4444444444444444,\"#bd3786\"],[0.5555555555555556,\"#d8576b\"],[0.6666666666666666,\"#ed7953\"],[0.7777777777777778,\"#fb9f3a\"],[0.8888888888888888,\"#fdca26\"],[1.0,\"#f0f921\"]],\"diverging\":[[0,\"#8e0152\"],[0.1,\"#c51b7d\"],[0.2,\"#de77ae\"],[0.3,\"#f1b6da\"],[0.4,\"#fde0ef\"],[0.5,\"#f7f7f7\"],[0.6,\"#e6f5d0\"],[0.7,\"#b8e186\"],[0.8,\"#7fbc41\"],[0.9,\"#4d9221\"],[1,\"#276419\"]]},\"xaxis\":{\"gridcolor\":\"white\",\"linecolor\":\"white\",\"ticks\":\"\",\"title\":{\"standoff\":15},\"zerolinecolor\":\"white\",\"automargin\":true,\"zerolinewidth\":2},\"yaxis\":{\"gridcolor\":\"white\",\"linecolor\":\"white\",\"ticks\":\"\",\"title\":{\"standoff\":15},\"zerolinecolor\":\"white\",\"automargin\":true,\"zerolinewidth\":2},\"scene\":{\"xaxis\":{\"backgroundcolor\":\"#E5ECF6\",\"gridcolor\":\"white\",\"linecolor\":\"white\",\"showbackground\":true,\"ticks\":\"\",\"zerolinecolor\":\"white\",\"gridwidth\":2},\"yaxis\":{\"backgroundcolor\":\"#E5ECF6\",\"gridcolor\":\"white\",\"linecolor\":\"white\",\"showbackground\":true,\"ticks\":\"\",\"zerolinecolor\":\"white\",\"gridwidth\":2},\"zaxis\":{\"backgroundcolor\":\"#E5ECF6\",\"gridcolor\":\"white\",\"linecolor\":\"white\",\"showbackground\":true,\"ticks\":\"\",\"zerolinecolor\":\"white\",\"gridwidth\":2}},\"shapedefaults\":{\"line\":{\"color\":\"#2a3f5f\"}},\"annotationdefaults\":{\"arrowcolor\":\"#2a3f5f\",\"arrowhead\":0,\"arrowwidth\":1},\"geo\":{\"bgcolor\":\"white\",\"landcolor\":\"#E5ECF6\",\"subunitcolor\":\"white\",\"showland\":true,\"showlakes\":true,\"lakecolor\":\"white\"},\"title\":{\"x\":0.05},\"mapbox\":{\"style\":\"light\"}}},\"title\":{\"text\":\"Average Reviews by Country\"},\"geo\":{\"projection\":{\"type\":\"miller\"},\"showcoastlines\":false,\"landcolor\":\"white\",\"showocean\":true,\"oceancolor\":\"lightblue\",\"showcountries\":true,\"countrycolor\":\"grey\"},\"width\":1100,\"height\":1000},                        {\"responsive\": true}                    ).then(function(){\n",
       "                            \n",
       "var gd = document.getElementById('f8ac029b-fbc0-4734-a234-0259ed359e9b');\n",
       "var x = new MutationObserver(function (mutations, observer) {{\n",
       "        var display = window.getComputedStyle(gd).display;\n",
       "        if (!display || display === 'none') {{\n",
       "            console.log([gd, 'removed!']);\n",
       "            Plotly.purge(gd);\n",
       "            observer.disconnect();\n",
       "        }}\n",
       "}});\n",
       "\n",
       "// Listen for the removal of the full notebook cells\n",
       "var notebookContainer = gd.closest('#notebook-container');\n",
       "if (notebookContainer) {{\n",
       "    x.observe(notebookContainer, {childList: true});\n",
       "}}\n",
       "\n",
       "// Listen for the clearing of the current output cell\n",
       "var outputEl = gd.closest('.output');\n",
       "if (outputEl) {{\n",
       "    x.observe(outputEl, {childList: true});\n",
       "}}\n",
       "\n",
       "                        })                };                });            </script>        </div>"
      ]
     },
     "metadata": {},
     "output_type": "display_data"
    },
    {
     "name": "stdout",
     "output_type": "stream",
     "text": [
      "Please note that Singapore is not displayed on this map.\n",
      "Singapore has 154 reviews and 4.09 average stars\n"
     ]
    }
   ],
   "source": [
    "avg_stars_filtered = avg_stars[avg_stars[\"Review_Count\"] >= 5]\n",
    "\n",
    "hover_text = (avg_stars_filtered['Country'] + '<br>' + avg_stars_filtered['Avg_Stars'].astype(str) + ' Average Stars' + \n",
    "              '<br>' + avg_stars_filtered[\"Review_Count\"].astype(str) + ' Number of Reviews')\n",
    "\n",
    "fig = go.Figure(data=go.Choropleth(locations=avg_stars_filtered['ISO_CC'],z=avg_stars_filtered['Avg_Stars'],\n",
    "    text=hover_text, hoverinfo='text', colorscale='RdYlGn', zmin=0, zmax=5, marker_line_width=0.5,\n",
    "    colorbar_title='Avg Stars'))\n",
    "\n",
    "fig.update_layout(\n",
    "    title_text='Average Reviews by Country', width=1100, height=1000,\n",
    "    geo=dict(showcoastlines=False, projection_type='miller', landcolor=\"white\",\n",
    "        showocean=True, oceancolor=\"lightblue\", showcountries=True, countrycolor=\"grey\"),)\n",
    "\n",
    "fig.show()\n",
    "\n",
    "print(\"Please note that Singapore is not displayed on this map.\")\n",
    "print(\"Singapore has 154 reviews and 4.09 average stars\")"
   ]
  },
  {
   "cell_type": "markdown",
   "id": "06d644ec",
   "metadata": {
    "papermill": {
     "duration": 0.028987,
     "end_time": "2024-07-20T15:59:22.764446",
     "exception": false,
     "start_time": "2024-07-20T15:59:22.735459",
     "status": "completed"
    },
    "tags": []
   },
   "source": [
    "<p style=\"font-size:18px;\"> Next I wanted to see if the Ramen Raters reviews improved by country over time. This would help determine if a particular country has improved their Ramen over the 21+ years in which the Ramen Rater has been reviewing ramen. I decided to plot every review by country to see if there were any obvious trends."
   ]
  },
  {
   "cell_type": "code",
   "execution_count": 26,
   "id": "b3db343c",
   "metadata": {
    "execution": {
     "iopub.execute_input": "2024-07-20T15:59:22.820438Z",
     "iopub.status.busy": "2024-07-20T15:59:22.820000Z",
     "iopub.status.idle": "2024-07-20T15:59:24.854501Z",
     "shell.execute_reply": "2024-07-20T15:59:24.853077Z"
    },
    "papermill": {
     "duration": 2.066162,
     "end_time": "2024-07-20T15:59:24.857631",
     "exception": false,
     "start_time": "2024-07-20T15:59:22.791469",
     "status": "completed"
    },
    "tags": []
   },
   "outputs": [
    {
     "data": {
      "text/html": [
       "<div>                            <div id=\"7e14cfb0-d1b4-49d3-87cf-7c11d11be0ed\" class=\"plotly-graph-div\" style=\"height:525px; width:100%;\"></div>            <script type=\"text/javascript\">                require([\"plotly\"], function(Plotly) {                    window.PLOTLYENV=window.PLOTLYENV || {};                                    if (document.getElementById(\"7e14cfb0-d1b4-49d3-87cf-7c11d11be0ed\")) {                    Plotly.newPlot(                        \"7e14cfb0-d1b4-49d3-87cf-7c11d11be0ed\",                        [{\"hovertemplate\":\"Review Number: %{x} \\u003cbr\\u003e Stars: %{y}\",\"legendgroup\":\"Malaysia\",\"marker\":{\"color\":\"#636efa\",\"symbol\":\"circle\"},\"mode\":\"markers\",\"name\":\"Malaysia\",\"showlegend\":true,\"x\":[4650,4645,4640,4604,4602,4596,4593,4590,4587,4576,4573,4572,4569,4567,4564,4561,4558,4556,4555,4546,4540,4539,4537,4507,4378,4292,4289,4112,4070,4062,4058,4055,3982,3954,3938,3926,3925,3921,3851,3840,3755,3736,3715,3713,3708,3681,3651,3620,3600,3565,3560,3559,3522,3514,3503,3489,3481,3473,3472,3469,3465,3454,3437,3399,3298,3286,3284,3236,3215,3211,3202,3165,3122,3105,3092,3091,3090,3089,3088,3087,3074,3071,3064,3055,3025,2884,2877,2819,2808,2803,2763,2762,2761,2760,2757,2748,2741,2679,2584,2552,2510,2500,2479,2430,2392,2377,2299,2222,2192,2129,2097,2091,2050,2046,2043,2038,2031,2026,2015,1989,1981,1978,1977,1970,1965,1942,1900,1874,1866,1862,1849,1848,1839,1838,1837,1836,1835,1834,1833,1823,1817,1810,1806,1794,1793,1792,1791,1790,1789,1788,1787,1785,1781,1769,1758,1747,1742,1736,1732,1722,1720,1717,1713,1711,1708,1706,1705,1699,1697,1680,1676,1671,1664,1654,1653,1652,1651,1644,1639,1632,1629,1623,1620,1617,1614,1608,1606,1596,1591,1590,1589,1588,1586,1585,1584,1583,1582,1579,1573,1571,1569,1561,1557,1553,1550,1545,1534,1525,1518,1514,1508,1500,1495,1484,1464,1445,1439,1434,1425,1410,1393,1362,1361,1360,1359,1358,1357,1356,1355,1354,1353,1352,1351,1350,1349,1348,1342,1326,1319,1276,1240,1230,1223,1195,1087,1059,926,923,906,844,778,743,691,679,457,405,190],\"xaxis\":\"x\",\"y\":[5.0,3.75,3.75,5.0,4.0,4.5,5.0,3.5,3.75,5.0,3.75,5.0,4.5,4.0,5.0,4.0,5.0,5.0,5.0,4.0,5.0,4.0,5.0,5.0,3.5,5.0,5.0,5.0,5.0,5.0,3.75,5.0,1.5,4.0,5.0,4.5,4.5,5.0,5.0,2.5,5.0,3.5,4.0,3.5,5.0,4.5,3.5,3.5,3.75,4.0,5.0,4.5,4.75,5.0,5.0,5.0,5.0,5.0,5.0,5.0,3.75,5.0,5.0,5.0,5.0,3.75,4.25,5.0,1.5,4.5,5.0,4.5,3.75,2.5,5.0,4.0,5.0,5.0,5.0,5.0,4.25,3.75,3.25,4.25,3.75,3.75,2.5,3.75,0.25,4.25,3.5,5.0,5.0,5.0,5.0,5.0,5.0,5.0,4.75,5.0,5.0,5.0,4.0,5.0,5.0,5.0,3.0,5.0,5.0,5.0,5.0,5.0,5.0,3.75,5.0,1.5,5.0,4.75,5.0,5.0,5.0,5.0,5.0,5.0,5.0,3.5,5.0,2.5,5.0,3.75,3.5,5.0,5.0,4.5,5.0,5.0,5.0,5.0,3.75,4.0,4.0,5.0,3.5,3.0,3.5,3.5,4.25,4.5,3.5,3.0,4.0,3.5,5.0,5.0,3.5,3.5,4.5,5.0,3.25,4.5,5.0,4.0,5.0,4.0,4.0,4.75,4.5,3.5,5.0,4.5,4.25,5.0,2.0,5.0,5.0,5.0,3.75,2.0,3.75,3.0,3.5,5.0,3.25,5.0,5.0,4.5,4.0,3.0,3.5,3.75,3.75,3.5,3.75,5.0,3.75,4.0,4.0,4.0,4.75,3.5,4.0,4.5,3.5,3.75,5.0,5.0,3.75,3.75,4.5,4.5,5.0,5.0,3.75,3.75,4.75,5.0,3.5,3.5,4.5,3.25,4.25,3.5,5.0,3.75,5.0,4.0,5.0,3.25,3.25,4.75,3.75,3.75,4.0,5.0,4.5,3.75,4.5,3.75,4.25,4.25,4.0,4.0,2.5,2.5,5.0,3.25,2.75,3.5,5.0,4.0,2.5,3.75,2.0,3.25,4.5,3.25,3.0],\"yaxis\":\"y\",\"type\":\"scattergl\",\"visible\":\"legendonly\"},{\"hovertemplate\":\"Review Number: %{x} \\u003cbr\\u003e Stars: %{y}\",\"legendgroup\":\"Indonesia\",\"marker\":{\"color\":\"#EF553B\",\"symbol\":\"circle\"},\"mode\":\"markers\",\"name\":\"Indonesia\",\"showlegend\":true,\"x\":[4649,4643,4631,4627,4607,4601,4599,4597,4595,4592,4588,4583,4581,4578,4513,4503,4489,4431,4398,4393,4106,4105,4104,4103,4102,4050,4009,3989,3907,3906,3885,3844,3758,3705,3679,3632,3603,3602,3601,3556,3486,3462,3423,3270,3268,3083,3051,3050,3008,2971,2923,2908,2798,2771,2665,2664,2663,2662,2661,2660,2659,2658,2657,2656,2655,2654,2653,2652,2651,2549,2507,2463,2438,2417,2399,2374,2075,2052,1922,1856,1822,1750,1737,1721,1670,1603,1494,1406,1402,1390,1340,1331,1313,1311,1297,1267,1266,1265,1264,1262,1261,1260,1259,1258,1257,1256,1239,1232,1221,1215,1214,1203,1191,1177,1175,1173,1161,1135,1126,1120,1114,1109,1101,1098,1082,909,901,895,892,882,876,870,867,863,858,852,838,834,818,814,810,807,802,794,789,785,779,776,774,771,765,757,740,734,733,732,731,730,729,728,727,726,725,724,723,715,686,685,682,676,655,651,556,552,549,542,435,434,343,232,231,105,102,76,75,53,52,51,50,49,48,47,46,45,44],\"xaxis\":\"x\",\"y\":[5.0,5.0,2.5,4.0,5.0,2.5,3.25,5.0,5.0,3.75,3.75,4.5,5.0,4.5,5.0,5.0,5.0,5.0,5.0,5.0,5.0,5.0,5.0,5.0,5.0,5.0,5.0,3.5,2.0,3.75,3.0,4.5,4.5,2.0,3.5,3.5,4.75,5.0,5.0,3.5,4.5,5.0,3.5,5.0,3.5,3.5,5.0,5.0,5.0,5.0,5.0,5.0,5.0,5.0,3.5,3.25,5.0,3.75,5.0,3.75,3.5,3.25,5.0,4.5,2.75,4.0,4.0,4.25,5.0,4.5,4.0,3.25,5.0,3.75,4.0,4.5,4.5,3.5,1.5,5.0,3.5,5.0,3.75,4.25,3.75,5.0,3.5,3.75,3.75,4.75,2.75,3.75,3.25,4.0,3.25,3.75,4.0,3.75,4.25,3.75,3.75,5.0,3.75,4.5,4.0,4.25,4.0,3.25,4.5,4.75,5.0,3.5,4.0,4.0,4.25,3.5,3.75,4.25,4.0,4.75,4.0,4.25,4.25,3.75,4.5,4.25,3.5,5.0,4.5,5.0,3.25,3.75,4.0,5.0,4.5,4.0,4.0,3.75,4.0,3.5,4.25,4.0,4.5,4.75,4.0,3.5,3.75,3.75,2.25,4.0,4.5,4.25,5.0,5.0,4.5,4.25,3.25,5.0,5.0,5.0,4.0,4.0,5.0,3.5,5.0,5.0,4.5,2.75,4.25,4.75,3.0,4.0,4.75,3.0,4.0,3.0,4.25,4.5,4.5,5.0,4.5,5.0,1.5,2.5,4.5,2.0,4.0,5.0,5.0,4.5,3.0,5.0,3.0,5.0,4.25],\"yaxis\":\"y\",\"type\":\"scattergl\",\"visible\":\"legendonly\"},{\"hovertemplate\":\"Review Number: %{x} \\u003cbr\\u003e Stars: %{y}\",\"legendgroup\":\"Thailand\",\"marker\":{\"color\":\"#00cc96\",\"symbol\":\"circle\"},\"mode\":\"markers\",\"name\":\"Thailand\",\"showlegend\":true,\"x\":[4648,4313,4238,4237,4236,4219,4211,4182,4082,4045,4005,3997,3992,3986,3981,3978,3955,3952,3808,3807,3806,3805,3804,3803,3799,3797,3793,3792,3791,3690,3689,3657,3463,3288,3228,3200,3180,3144,3097,3037,2986,2981,2973,2920,2855,2839,2828,2825,2785,2736,2570,2432,2376,2317,2266,2254,2235,2211,2184,2183,2182,2181,2180,2179,2178,2177,2176,2175,2174,2173,2172,2171,2124,2123,2122,2121,2120,2119,2118,2117,2116,2115,2114,2113,2112,2058,2012,1957,1949,1928,1871,1867,1832,1819,1808,1807,1803,1797,1759,1749,1738,1719,1715,1703,1696,1695,1694,1691,1668,1662,1656,1635,1625,1598,1577,1568,1560,1552,1537,1520,1513,1492,1478,1477,1475,1474,1473,1472,1471,1470,1468,1467,1466,1404,1370,1339,1324,1320,1309,1302,1294,1255,1251,1237,1212,1205,1199,1112,1032,1004,994,944,940,937,922,915,902,875,865,856,833,820,808,804,790,773,768,767,766,707,689,665,654,647,642,638,631,605,598,590,563,559,554,546,541,537,535,534,531,530,527,503,502,464,439,411,389,368,331,329,326,325,321,307,304,281,276,275,273,267,258,255,246,242,224,193,179,178,172,167,159,158,146,143,140,136,128,126,123,116,109,106,94,92,87,41,35,29,4,3,2],\"xaxis\":\"x\",\"y\":[4.5,4.25,5.0,4.0,3.75,3.75,5.0,5.0,3.75,3.75,3.0,3.75,3.5,5.0,4.25,3.5,3.75,3.5,3.5,3.75,3.5,5.0,5.0,3.75,3.5,3.5,5.0,3.5,4.5,4.25,4.0,5.0,4.0,4.0,3.5,3.5,3.75,5.0,4.0,3.5,3.75,3.5,5.0,3.75,4.25,3.75,4.0,5.0,5.0,3.75,5.0,3.5,3.25,3.5,3.5,3.0,3.75,3.0,2.75,3.5,3.5,3.5,2.75,5.0,3.75,3.75,5.0,3.5,5.0,3.5,3.75,4.0,3.5,5.0,4.75,3.5,3.5,3.5,3.25,3.75,4.0,4.0,3.5,3.75,3.75,3.75,2.0,4.0,3.5,3.0,3.75,4.0,3.5,5.0,3.5,3.5,4.0,3.5,4.0,5.0,4.25,2.5,3.75,3.5,5.0,5.0,4.75,3.5,3.5,5.0,3.5,2.75,5.0,4.0,3.75,3.5,3.75,3.5,3.75,3.0,4.0,4.0,4.0,4.0,3.25,4.0,5.0,3.75,5.0,3.5,5.0,4.5,5.0,4.0,3.25,3.75,3.5,3.75,3.75,5.0,3.0,3.25,3.5,3.5,3.5,3.5,3.75,3.75,4.0,3.0,3.25,3.0,3.5,3.75,1.25,3.5,3.25,2.5,3.0,4.75,3.5,3.75,3.5,1.75,1.5,3.5,0.25,1.75,3.75,3.25,2.5,3.25,3.25,3.5,2.75,3.0,1.25,3.5,3.25,3.5,3.25,3.0,3.5,3.5,3.5,2.0,1.0,3.0,3.25,3.5,2.75,1.0,2.0,3.25,3.0,3.25,2.75,3.5,4.5,3.5,4.0,3.5,4.75,2.75,3.5,3.0,3.25,3.75,2.5,2.0,3.25,3.75,3.0,2.0,2.75,2.5,3.0,2.0,3.75,2.5,1.75,2.5,2.5,2.75,5.0,5.0,0.0,1.5,3.75,3.5,3.0,0.5,2.5,2.0,2.75,0.5,3.0,3.5,1.0,2.0,2.0],\"yaxis\":\"y\",\"type\":\"scattergl\",\"visible\":\"legendonly\"},{\"hovertemplate\":\"Review Number: %{x} \\u003cbr\\u003e Stars: %{y}\",\"legendgroup\":\"United States of America\",\"marker\":{\"color\":\"#ab63fa\",\"symbol\":\"circle\"},\"mode\":\"markers\",\"name\":\"United States of America\",\"showlegend\":true,\"x\":[4647,4646,4628,4625,4621,4620,4617,4614,4610,4605,4598,4552,4550,4532,4528,4525,4521,4518,4516,4514,4512,4509,4506,4505,4504,4497,4490,4480,4479,4477,4468,4466,4464,4463,4461,4459,4458,4457,4454,4451,4450,4449,4448,4446,4445,4444,4442,4441,4440,4437,4436,4435,4433,4432,4428,4427,4422,4420,4415,4412,4411,4409,4408,4407,4406,4404,4402,4401,4397,4390,4389,4388,4365,4358,4355,4354,4353,4352,4343,4342,4337,4324,4315,4314,4311,4310,4309,4303,4300,4297,4295,4287,4286,4285,4284,4283,4279,4277,4276,4274,4272,4271,4269,4268,4266,4264,4262,4258,4255,4254,4250,4246,4245,4244,4243,4242,4241,4240,4235,4234,4218,4216,4214,4212,4210,4206,4205,4202,4192,4187,4184,4177,4174,4166,4162,4153,4150,4148,4140,4139,4138,4137,4135,4134,4133,4131,4130,4129,4126,4125,4123,4121,4119,4116,4111,4101,4100,4098,4097,4095,4094,4091,4089,4088,4076,4074,4067,4066,4064,4061,4060,4059,4051,4043,4040,4035,4034,4033,4032,4025,4021,4020,4018,4017,4016,4015,4013,4007,4004,4003,4001,3998,3977,3976,3973,3972,3971,3964,3963,3958,3956,3945,3939,3929,3923,3922,3912,3909,3889,3877,3875,3871,3870,3868,3858,3853,3849,3847,3845,3843,3842,3841,3839,3836,3833,3831,3829,3827,3825,3824,3823,3821,3812,3794,3790,3789,3787,3785,3784,3781,3778,3776,3775,3773,3769,3768,3763,3760,3757,3750,3749,3748,3744,3733,3731,3728,3727,3723,3721,3703,3688,3685,3680,3671,3670,3669,3668,3664,3656,3655,3654,3653,3650,3649,3648,3647,3641,3626,3592,3591,3585,3567,3566,3562,3551,3550,3535,3513,3496,3494,3492,3491,3478,3476,3466,3444,3440,3426,3417,3412,3406,3401,3394,3386,3385,3384,3380,3374,3372,3370,3367,3366,3365,3358,3356,3355,3347,3336,3334,3331,3327,3295,3293,3280,3269,3267,3256,3255,3253,3250,3244,3239,3233,3222,3203,3191,3188,3184,3182,3173,3158,3151,3148,3118,3094,3073,3068,3061,3060,3056,3028,3023,3022,3017,3016,3015,2996,2987,2983,2964,2950,2939,2931,2910,2909,2875,2867,2850,2848,2838,2832,2816,2796,2795,2794,2793,2792,2791,2790,2789,2788,2734,2697,2696,2689,2676,2666,2630,2611,2610,2609,2608,2607,2606,2605,2586,2585,2578,2569,2563,2559,2557,2544,2541,2538,2535,2513,2470,2460,2431,2426,2412,2411,2410,2409,2408,2403,2389,2383,2379,2327,2315,2298,2277,2276,2267,2262,2259,2256,2248,2246,2239,2227,2208,2205,2203,2170,2147,2145,2142,2132,2105,2103,2098,2072,2064,2056,2053,2007,1969,1968,1958,1955,1951,1936,1926,1921,1917,1913,1910,1891,1875,1864,1857,1852,1850,1846,1824,1821,1802,1800,1799,1786,1765,1761,1753,1741,1698,1678,1641,1622,1597,1563,1544,1503,1497,1485,1479,1463,1444,1443,1441,1427,1422,1407,1395,1392,1366,1345,1344,1343,1337,1336,1335,1334,1333,1332,1310,1284,1253,1246,1242,1225,1196,1178,1172,1165,1155,1130,1125,1117,1115,1066,1065,1064,1063,1062,1061,1060,1046,1045,1039,1016,1015,1011,1003,1000,996,990,984,983,982,981,980,979,978,977,973,971,970,969,968,967,966,965,962,960,947,946,938,936,935,934,930,924,920,919,912,911,908,905,900,889,888,887,886,885,884,883,878,877,872,862,859,850,849,843,837,799,792,783,782,772,769,761,760,759,754,752,750,749,748,747,736,721,719,717,713,709,704,703,701,699,698,697,696,690,667,664,659,656,612,600,596,595,582,581,572,540,529,526,517,515,500,496,481,480,476,475,472,471,470,469,465,462,459,454,453,440,425,420,416,403,388,387,386,379,373,371,361,360,359,356,354,353,352,351,350,338,337,334,333,320,319,317,308,278,268,265,263,260,257,256,253,252,251,241,238,226,221,218,216,215,214,213,212,209,207,205,204,203,202,201,200,183,166,156,154,153,142,137,108,104,67,66,65,64,34,23,10,1],\"xaxis\":\"x\",\"y\":[4.5,5.0,4.0,5.0,4.5,3.75,4.0,5.0,4.0,4.0,3.5,4.5,5.0,4.25,3.75,4.0,3.75,2.5,2.5,5.0,2.0,0.0,5.0,5.0,0.25,4.5,5.0,5.0,3.75,3.5,3.5,5.0,5.0,3.5,3.75,5.0,4.0,4.5,5.0,4.75,5.0,5.0,5.0,3.0,3.5,3.75,3.75,4.0,3.5,4.0,5.0,5.0,5.0,0.0,5.0,5.0,3.5,3.75,3.5,4.0,1.0,4.0,5.0,5.0,4.5,3.75,4.0,3.0,4.0,5.0,4.25,3.5,4.5,3.5,0.0,3.0,4.75,4.5,3.0,0.0,5.0,0.0,2.75,0.75,3.75,5.0,3.5,3.25,3.5,4.5,0.0,2.0,5.0,3.75,0.0,1.25,0.0,0.0,2.75,4.0,3.5,2.75,0.25,5.0,3.75,3.5,5.0,0.0,0.0,5.0,3.5,3.5,3.75,4.25,4.0,3.75,5.0,4.0,5.0,4.5,4.5,2.0,4.0,3.75,3.75,4.0,1.0,3.75,0.0,3.75,5.0,3.75,1.0,5.0,5.0,2.0,3.75,1.0,1.5,3.5,2.0,1.75,3.5,4.75,5.0,5.0,3.5,5.0,2.0,3.5,3.0,5.0,4.5,2.75,3.75,4.0,3.75,5.0,3.75,3.75,5.0,0.25,3.5,5.0,5.0,4.0,0.25,3.0,5.0,3.75,4.5,4.5,5.0,4.0,5.0,5.0,5.0,5.0,3.5,5.0,5.0,4.75,4.5,4.25,3.75,5.0,5.0,5.0,4.0,3.75,5.0,3.75,1.0,3.75,3.75,3.0,4.0,5.0,5.0,4.0,4.75,3.5,0.25,2.25,5.0,5.0,3.75,3.5,3.75,3.75,4.25,0.0,4.0,3.5,4.5,3.5,4.0,3.0,5.0,3.5,1.75,4.0,3.5,3.5,5.0,2.0,3.0,0.5,3.5,2.0,4.0,3.5,1.0,4.5,4.5,5.0,3.75,0.0,5.0,3.75,1.5,4.0,3.5,3.75,2.0,1.5,1.75,4.5,4.0,4.0,3.75,5.0,3.0,3.75,2.75,2.75,3.5,4.0,3.75,3.5,5.0,5.0,3.0,4.5,3.0,3.5,3.75,2.0,4.0,5.0,4.5,5.0,3.75,3.25,5.0,5.0,5.0,5.0,3.75,4.5,4.0,5.0,5.0,3.5,2.75,5.0,5.0,4.0,4.0,4.0,4.0,4.5,4.25,3.5,3.75,3.75,5.0,3.75,3.75,3.5,3.5,0.25,3.0,2.25,2.75,3.75,5.0,2.5,4.5,3.5,5.0,5.0,5.0,3.5,1.0,4.0,0.5,3.5,5.0,3.5,5.0,2.0,3.5,1.25,5.0,4.0,4.5,4.5,4.75,1.0,3.75,5.0,2.0,4.0,2.75,4.0,3.5,3.25,3.25,5.0,0.0,5.0,5.0,5.0,2.0,3.5,3.25,3.75,5.0,4.0,4.5,3.75,5.0,2.0,4.5,5.0,4.0,4.25,2.0,4.75,3.5,4.5,5.0,2.75,5.0,5.0,0.0,2.0,4.0,3.5,4.25,3.0,5.0,1.5,4.0,3.75,3.75,5.0,4.25,4.0,4.5,3.25,3.25,5.0,4.0,5.0,4.75,3.75,5.0,5.0,4.5,2.5,4.0,4.25,4.25,5.0,5.0,2.25,5.0,5.0,5.0,4.75,1.5,5.0,5.0,5.0,3.5,3.75,5.0,3.75,0.0,3.25,3.75,3.75,3.5,3.75,4.75,4.0,3.5,2.5,3.5,3.0,3.75,2.75,3.0,2.0,4.5,3.75,3.25,4.5,3.5,3.5,3.75,0.25,3.5,3.75,3.75,3.0,2.75,3.75,5.0,3.0,0.0,5.0,5.0,5.0,0.0,3.75,3.75,4.75,3.5,4.0,4.75,4.25,1.0,4.0,3.5,0.25,0.0,3.0,3.5,5.0,5.0,3.25,3.25,4.5,4.5,5.0,3.25,3.5,0.25,2.5,4.25,3.5,1.0,3.5,2.5,4.0,5.0,0.0,4.0,4.0,4.25,1.5,3.25,3.5,5.0,3.5,3.5,3.5,4.25,3.5,3.75,3.0,5.0,4.25,4.0,4.25,2.25,4.0,3.25,4.25,3.75,4.0,3.75,3.75,3.75,3.0,4.25,3.75,4.0,4.0,3.75,3.5,5.0,2.75,3.75,5.0,3.5,5.0,4.25,3.75,3.5,4.25,4.0,3.75,3.75,4.0,3.75,4.0,3.5,4.25,3.5,2.75,4.0,4.5,4.25,4.0,2.75,5.0,3.75,5.0,4.0,4.0,4.0,5.0,4.5,4.0,4.25,2.0,4.0,3.0,4.5,4.0,3.75,4.25,3.25,4.0,1.75,3.75,5.0,3.5,5.0,3.5,3.75,3.0,3.5,3.75,3.75,3.5,3.25,3.5,4.0,4.25,4.0,4.75,5.0,4.0,4.5,3.75,4.25,5.0,4.25,3.75,4.0,3.5,3.5,4.5,4.25,4.5,3.0,3.25,3.5,3.25,3.5,3.25,3.75,3.75,3.5,3.75,5.0,3.75,3.5,3.25,4.0,3.25,3.25,4.0,3.25,4.0,3.5,4.0,3.5,4.0,3.25,3.5,3.75,3.0,2.75,3.0,3.75,1.75,3.25,1.5,3.75,2.5,2.75,3.0,3.25,2.0,1.5,4.25,2.5,2.5,2.75,3.75,3.25,1.75,3.25,3.75,1.5,3.25,3.5,2.75,3.5,3.0,1.5,3.25,2.75,4.5,3.5,3.75,2.25,2.75,3.75,0.0,2.5,2.75,3.75,1.25,2.5,3.75,2.75,3.0,3.25,2.75,3.0,3.5,2.25,5.0,2.25,2.25,4.0,3.75,4.0,3.75,3.0,3.5,3.5,1.5,3.5,3.5,3.5,4.25,3.25,3.5,4.0,4.0,4.0,3.75,3.0,2.75,2.0,2.0,4.0,3.75,3.0,3.5,4.5,2.5,2.0,3.25,3.5,4.5,2.0,3.25,3.0,1.75,1.75,4.5,1.75,2.0,2.0,2.0,4.0,2.5,3.5,2.0,4.5,1.5,0.5],\"yaxis\":\"y\",\"type\":\"scattergl\",\"visible\":true},{\"hovertemplate\":\"Review Number: %{x} \\u003cbr\\u003e Stars: %{y}\",\"legendgroup\":\"Japan\",\"marker\":{\"color\":\"#FFA15A\",\"symbol\":\"circle\"},\"mode\":\"markers\",\"name\":\"Japan\",\"showlegend\":true,\"x\":[4644,4641,4639,4638,4637,4633,4629,4626,4618,4616,4613,4609,4594,4591,4589,4585,4584,4582,4580,4577,4574,4570,4562,4559,4553,4548,4547,4545,4543,4542,4538,4536,4534,4530,4526,4524,4523,4522,4520,4519,4517,4515,4511,4510,4508,4499,4496,4494,4491,4488,4487,4486,4485,4484,4465,4462,4460,4456,4455,4453,4434,4426,4425,4400,4396,4394,4392,4391,4387,4386,4385,4384,4383,4382,4381,4380,4379,4377,4376,4375,4374,4373,4371,4370,4367,4363,4360,4351,4348,4340,4339,4338,4336,4335,4334,4333,4332,4331,4329,4328,4325,4322,4319,4318,4317,4316,4308,4265,4263,4260,4233,4232,4231,4230,4229,4228,4227,4226,4225,4224,4223,4222,4221,4220,4208,4203,4201,4197,4195,4194,4188,4185,4183,4181,4180,4178,4175,4173,4172,4171,4170,4169,4168,4167,4158,4157,4156,4154,4149,4146,4144,4127,4113,4110,4108,4107,4099,4093,4092,4090,4086,4085,4084,4083,4081,4079,4078,4077,4075,4073,4069,4065,4063,4057,4056,4054,4053,4049,4047,4044,4041,4039,4038,4036,4029,4028,4027,4026,4024,4023,4019,4014,4002,4000,3987,3979,3975,3974,3970,3969,3968,3966,3965,3962,3960,3957,3953,3951,3950,3946,3943,3942,3941,3940,3936,3934,3933,3931,3919,3918,3916,3915,3913,3910,3897,3895,3894,3893,3892,3888,3887,3886,3873,3865,3855,3850,3848,3838,3835,3832,3830,3828,3816,3814,3810,3809,3802,3801,3800,3798,3783,3779,3767,3741,3739,3737,3734,3730,3729,3726,3720,3718,3717,3712,3710,3709,3707,3706,3702,3698,3695,3694,3693,3692,3687,3686,3683,3676,3663,3662,3652,3642,3635,3634,3623,3619,3614,3599,3594,3590,3589,3588,3583,3564,3563,3557,3555,3554,3552,3549,3546,3541,3540,3537,3536,3531,3528,3525,3524,3521,3520,3517,3515,3505,3504,3500,3497,3493,3490,3487,3480,3479,3477,3470,3467,3464,3458,3456,3453,3452,3447,3445,3443,3441,3439,3435,3432,3431,3430,3424,3422,3419,3411,3409,3405,3403,3395,3393,3391,3389,3387,3382,3377,3375,3373,3360,3359,3357,3351,3345,3343,3337,3332,3325,3324,3319,3318,3317,3316,3315,3313,3309,3306,3305,3304,3302,3300,3299,3294,3292,3291,3290,3289,3287,3277,3274,3273,3272,3264,3261,3260,3259,3258,3251,3249,3247,3245,3243,3242,3241,3238,3235,3231,3227,3225,3223,3220,3219,3218,3216,3212,3209,3208,3206,3204,3199,3197,3195,3193,3185,3179,3178,3176,3175,3169,3168,3166,3164,3162,3161,3154,3152,3141,3135,3134,3133,3129,3128,3127,3126,3124,3119,3116,3113,3111,3110,3102,3095,3086,3085,3084,3078,3077,3075,3065,3063,3062,3059,3057,3043,3041,3031,3029,3027,3024,3021,3018,3014,3013,3011,3009,3002,3001,3000,2998,2994,2988,2985,2984,2980,2979,2975,2974,2968,2967,2959,2954,2953,2952,2951,2948,2944,2943,2940,2936,2933,2929,2926,2919,2918,2916,2915,2914,2912,2911,2906,2905,2901,2899,2896,2894,2891,2889,2879,2871,2868,2856,2854,2853,2852,2849,2847,2846,2843,2841,2837,2833,2831,2829,2827,2826,2824,2822,2820,2818,2815,2809,2807,2805,2804,2801,2799,2797,2786,2776,2774,2770,2765,2759,2754,2753,2751,2749,2745,2744,2742,2731,2727,2725,2722,2719,2717,2715,2713,2711,2710,2707,2705,2703,2699,2690,2687,2686,2683,2681,2675,2671,2667,2647,2642,2640,2636,2635,2633,2631,2629,2627,2624,2622,2613,2600,2598,2595,2592,2591,2583,2582,2580,2574,2573,2572,2567,2553,2546,2542,2534,2532,2529,2525,2522,2518,2517,2516,2514,2505,2480,2475,2473,2468,2461,2459,2441,2437,2433,2429,2427,2419,2418,2415,2393,2371,2359,2355,2353,2348,2323,2322,2320,2316,2305,2302,2294,2289,2283,2278,2265,2261,2255,2252,2247,2237,2236,2232,2230,2228,2226,2221,2214,2206,2195,2190,2185,2163,2160,2146,2141,2133,2128,2126,2106,2102,2099,2096,2070,2066,2060,2055,2048,2039,2035,2030,2027,2019,2004,2003,2002,2001,2000,1999,1998,1997,1996,1995,1994,1993,1992,1991,1990,1987,1983,1979,1976,1971,1967,1959,1956,1950,1946,1943,1940,1938,1927,1920,1919,1915,1911,1908,1903,1897,1895,1893,1890,1872,1868,1860,1858,1855,1851,1844,1831,1818,1815,1809,1796,1784,1768,1763,1760,1752,1746,1739,1728,1712,1702,1701,1631,1626,1621,1613,1609,1607,1604,1594,1578,1570,1567,1565,1551,1548,1539,1521,1516,1509,1501,1493,1482,1446,1438,1428,1420,1416,1401,1396,1387,1386,1385,1384,1383,1382,1381,1380,1379,1378,1377,1376,1375,1374,1346,1330,1321,1318,1312,1307,1287,1281,1263,1247,1241,1238,1229,1228,1220,1219,1207,1202,1200,1197,1190,1189,1184,1179,1176,1174,1170,1168,1162,1159,1152,1138,1136,1129,1123,1122,1116,1106,1103,1083,1071,1069,1067,1051,1047,1038,1033,1014,997,976,964,959,958,957,956,955,954,953,916,914,904,874,847,830,825,819,805,791,756,738,722,702,700,695,669,662,661,652,646,639,636,622,619,617,615,576,571,567,560,550,543,539,521,514,511,497,483,482,473,460,452,451,421,419,412,401,392,391,390,384,363,345,340,335,295,286,247,244,243,240,234,229,222,198,195,185,184,182,180,170,168,162,160,151,149,148,147,145,130,125,124,85,83,82,79,78,77,74,73,72,71,70,63,31,30,28,27,26,25,24,13,12],\"xaxis\":\"x\",\"y\":[3.75,3.5,2.5,3.75,3.5,5.0,4.0,2.5,4.5,5.0,5.0,3.5,3.5,5.0,3.75,4.0,2.0,3.75,3.75,3.75,3.5,2.0,1.5,4.0,2.0,3.0,1.75,3.5,5.0,4.25,4.0,2.0,3.5,3.0,3.75,2.0,4.0,2.0,3.5,4.0,3.5,3.5,2.75,3.5,3.5,3.0,5.0,3.25,5.0,5.0,3.75,3.25,5.0,5.0,2.25,3.5,4.5,0.0,5.0,5.0,5.0,4.5,4.75,1.5,4.5,2.0,4.5,5.0,4.0,3.75,3.5,3.0,3.5,3.5,4.0,3.75,3.5,4.0,2.0,3.25,3.75,1.5,3.5,1.5,4.0,4.5,3.25,3.5,4.75,1.5,2.0,5.0,3.5,5.0,4.0,4.0,3.75,5.0,4.25,4.25,5.0,0.5,3.75,3.75,4.0,4.0,5.0,3.5,3.5,4.0,3.75,4.0,3.75,5.0,5.0,4.0,5.0,3.25,4.0,5.0,3.5,3.25,4.0,4.0,3.75,3.0,5.0,3.0,2.0,5.0,2.0,4.0,4.0,3.0,4.25,2.5,5.0,1.5,1.0,2.5,4.0,5.0,3.5,4.0,1.5,2.0,3.75,2.5,5.0,3.5,3.0,1.0,2.75,3.75,4.5,2.5,2.25,3.25,3.75,3.5,4.0,5.0,4.75,3.5,3.25,5.0,3.5,4.5,4.75,3.0,4.75,3.25,5.0,5.0,3.75,0.5,0.5,5.0,3.0,1.5,3.5,2.75,3.75,4.5,3.0,3.5,3.75,4.0,5.0,5.0,4.5,4.5,3.75,4.25,3.5,5.0,3.75,0.25,3.5,3.75,5.0,4.5,5.0,4.0,2.5,4.75,2.5,4.5,3.75,0.0,3.5,1.0,5.0,5.0,5.0,5.0,4.25,5.0,2.5,4.0,5.0,2.75,4.0,4.5,3.5,5.0,5.0,3.5,3.25,5.0,3.5,4.0,4.25,4.5,2.5,3.5,2.5,3.5,2.0,5.0,5.0,3.75,5.0,3.5,3.5,3.75,5.0,4.5,3.5,4.75,4.5,1.0,2.5,2.0,3.5,5.0,3.5,4.0,4.25,5.0,4.25,3.5,4.75,4.0,2.5,5.0,3.75,3.5,5.0,3.5,5.0,3.5,3.75,3.75,4.5,3.5,5.0,3.25,4.5,4.0,0.75,3.25,0.0,3.5,3.5,3.75,3.75,3.25,3.75,4.0,3.5,3.5,3.5,3.0,4.0,5.0,4.75,5.0,4.0,4.0,3.5,3.5,3.5,4.25,4.5,4.5,4.5,5.0,4.25,5.0,3.75,4.75,4.0,0.0,2.5,1.5,4.0,3.75,4.0,3.0,4.0,3.5,4.25,5.0,3.75,5.0,1.0,4.0,5.0,4.0,3.5,4.5,4.5,3.0,3.5,1.5,5.0,2.5,3.75,4.25,3.5,3.5,4.0,2.0,4.0,3.5,4.0,3.5,5.0,4.5,3.0,5.0,3.75,4.25,0.0,4.5,3.5,3.5,3.0,3.5,2.5,5.0,5.0,4.75,4.0,1.5,4.5,5.0,3.75,4.0,5.0,5.0,4.5,3.25,5.0,4.25,4.0,5.0,5.0,3.25,4.0,3.75,5.0,3.25,5.0,3.75,4.0,4.25,4.0,4.5,5.0,4.5,4.0,4.5,2.5,4.5,4.0,4.5,3.75,1.0,4.0,3.5,5.0,5.0,3.5,4.0,4.0,5.0,2.25,2.5,5.0,5.0,3.75,3.5,3.75,3.75,4.0,4.5,4.0,2.0,2.0,2.5,5.0,3.5,3.5,2.75,3.75,3.5,3.75,5.0,3.0,5.0,5.0,5.0,5.0,0.5,0.0,5.0,3.75,5.0,4.5,4.0,3.5,3.5,4.0,4.0,4.0,3.5,5.0,4.25,3.5,5.0,2.75,2.0,3.75,3.75,4.75,2.0,3.5,4.0,2.5,3.5,2.5,4.0,5.0,3.75,4.5,4.75,3.75,4.5,4.75,4.5,5.0,3.75,3.5,2.5,5.0,5.0,3.75,3.5,5.0,3.5,5.0,4.0,3.5,3.5,4.5,3.5,3.75,5.0,3.5,5.0,2.75,3.75,1.5,2.5,3.5,4.0,3.5,4.25,4.5,3.0,1.0,3.75,5.0,5.0,3.0,4.5,3.25,3.0,3.5,3.5,4.5,3.75,5.0,5.0,4.5,3.5,3.75,4.0,5.0,3.5,3.25,4.5,3.25,3.5,4.5,4.5,5.0,2.75,4.5,4.0,5.0,3.5,4.75,3.5,0.5,5.0,3.75,3.5,5.0,0.25,5.0,3.0,4.75,3.5,4.5,5.0,3.25,3.75,3.5,4.0,0.0,5.0,5.0,4.75,3.5,3.75,2.75,3.5,4.25,3.5,4.5,1.5,1.0,5.0,3.75,4.5,4.5,4.5,4.25,5.0,4.25,3.5,3.75,4.0,4.5,3.5,4.0,3.5,3.75,1.0,3.75,4.25,0.0,2.75,5.0,4.75,3.75,5.0,5.0,4.0,4.5,5.0,4.25,5.0,4.25,3.75,4.0,3.75,0.25,4.5,4.75,3.75,1.5,4.0,4.75,4.5,3.5,5.0,4.0,4.5,3.5,4.5,3.5,4.25,4.75,2.0,4.25,4.5,3.5,5.0,4.5,3.75,4.0,2.5,5.0,4.5,5.0,3.0,3.5,1.5,3.5,3.5,3.25,5.0,2.5,4.0,5.0,3.5,5.0,3.5,3.75,4.5,4.75,2.75,4.0,5.0,5.0,4.5,5.0,4.25,4.5,4.0,5.0,2.75,4.5,4.25,4.75,5.0,4.75,5.0,4.25,5.0,3.25,5.0,5.0,4.0,5.0,3.5,5.0,4.0,4.0,1.75,5.0,5.0,5.0,3.75,5.0,3.5,3.75,5.0,3.75,3.75,5.0,3.75,3.5,5.0,5.0,5.0,4.25,4.0,5.0,5.0,5.0,4.5,4.5,5.0,4.5,4.0,3.0,4.25,3.5,4.5,4.0,0.0,4.0,4.75,5.0,5.0,5.0,3.5,0.75,4.5,4.5,5.0,4.75,4.5,3.5,5.0,5.0,4.5,5.0,4.0,2.75,5.0,3.0,3.5,5.0,4.0,4.5,4.0,4.75,4.75,5.0,5.0,4.5,4.5,4.75,4.25,4.5,3.25,4.5,2.75,4.25,4.0,2.75,3.0,3.25,0.25,2.75,1.0,2.25,4.0,5.0,4.25,2.5,3.5,3.75,3.5,5.0,3.75,3.5,3.25,4.25,4.0,4.5,3.5,3.0,3.75,2.0,3.75,4.75,4.0,4.5,3.75,3.0,4.75,4.75,5.0,3.75,4.0,5.0,4.25,3.75,4.0,3.25,3.75,5.0,3.75,4.0,3.75,3.75,5.0,2.25,4.25,4.0,3.75,5.0,2.5,3.75,3.0,3.5,5.0,3.25,3.75,4.5,3.75,5.0,3.5,4.25,3.5,4.0,3.75,3.25,4.75,5.0,4.0,4.75,5.0,3.5,4.25,4.25,5.0,4.5,5.0,4.75,4.0,5.0,3.75,3.75,4.0,4.25,3.75,4.25,4.25,4.0,5.0,3.25,4.25,4.25,5.0,4.0,3.25,4.75,4.25,4.0,4.75,3.5,3.25,4.5,3.25,4.0,1.25,1.0,3.75,3.75,3.5,4.5,5.0,4.5,4.0,4.25,4.25,5.0,4.25,5.0,4.75,4.75,4.75,3.75,4.5,3.75,3.25,3.5,4.0,4.25,4.75,3.0,4.25,3.0,2.75,4.0,4.5,4.5,4.5,5.0,4.0,4.0,2.75,4.25,4.25,4.25,5.0,4.25,4.0,4.0,3.5,3.5,4.0,3.5,4.5,4.0,3.0,4.75,4.5,4.5,3.75,3.75,3.0,4.25,3.0,3.75,3.75,3.25,4.75,3.5,3.75,3.75,1.5,3.0,4.0,3.75,5.0,3.5,3.5,3.0,5.0,3.75,2.0,2.75,3.25,2.5,3.25,4.0,3.5,3.5,2.5,4.0,3.0,4.0,1.0,5.0,4.0,4.0,3.0,2.0,5.0,2.5],\"yaxis\":\"y\",\"type\":\"scattergl\",\"visible\":\"legendonly\"},{\"hovertemplate\":\"Review Number: %{x} \\u003cbr\\u003e Stars: %{y}\",\"legendgroup\":\"Taiwan\",\"marker\":{\"color\":\"#19d3f3\",\"symbol\":\"circle\"},\"mode\":\"markers\",\"name\":\"Taiwan\",\"showlegend\":true,\"x\":[4642,4635,4632,4630,4623,4615,4612,4606,4600,4586,4571,4565,4563,4544,4541,4482,4481,4443,4418,4399,4357,4312,4294,4291,4281,4273,4239,4213,4200,4199,4198,4193,4191,4190,4179,4155,4152,4151,4145,4143,4124,4120,4117,4109,4080,4072,4052,4011,4008,3999,3959,3949,3944,3935,3924,3917,3914,3911,3878,3857,3782,3777,3772,3766,3761,3756,3754,3753,3747,3743,3742,3722,3714,3704,3675,3674,3673,3672,3644,3638,3618,3617,3584,3553,3548,3539,3523,3519,3485,3471,3468,3450,3428,3413,3410,3392,3390,3352,3340,3333,3330,3328,3322,3312,3308,3297,3278,3265,3254,3252,3240,3230,3201,3198,3192,3183,3174,3167,3163,3160,3157,3139,3131,3117,3114,3109,3104,3103,3100,3081,3080,3079,3070,3069,3054,3052,3040,3039,3038,3036,3035,3034,3033,3032,3026,3010,3004,2978,2977,2969,2963,2947,2946,2945,2941,2937,2935,2930,2927,2925,2917,2913,2904,2900,2888,2887,2886,2885,2883,2870,2866,2865,2864,2863,2862,2861,2860,2859,2858,2857,2851,2845,2844,2842,2834,2830,2823,2814,2813,2812,2811,2810,2800,2782,2781,2780,2779,2778,2777,2773,2772,2768,2766,2764,2756,2755,2752,2746,2740,2739,2738,2737,2733,2730,2726,2724,2706,2700,2695,2672,2645,2604,2579,2577,2540,2515,2512,2501,2482,2478,2477,2472,2462,2439,2434,2428,2423,2421,2414,2407,2385,2375,2352,2330,2318,2313,2312,2311,2273,2264,2260,2249,2218,2216,2191,2168,2164,2162,2158,2156,2155,2154,2153,2152,2151,2150,2149,2148,2109,2108,2093,2071,2047,2036,2014,2005,1986,1966,1952,1944,1935,1934,1933,1932,1873,1843,1842,1841,1840,1830,1829,1828,1820,1779,1762,1756,1751,1744,1730,1729,1727,1725,1710,1700,1679,1673,1667,1648,1640,1638,1627,1618,1600,1592,1574,1547,1541,1511,1488,1486,1462,1440,1417,1413,1411,1397,1369,1328,1317,1305,1296,1295,1280,1275,1274,1268,1248,1231,1210,1206,1201,1192,1180,1166,1153,1131,1097,1096,1095,1094,1093,1092,1091,1090,1089,1088,1081,1080,1079,1078,1077,1076,1075,1074,1073,1072,1058,1057,1056,1055,1054,1053,1052,1035,864,817,788,762,741,708,706,666,643,630,623,610,609,603,601,587,586,585,564,520,509,498,478,458,456,449,448,445,436,432,431,424,418,415,413,385,378,347,322,318,316,315,300,293,274,270,250,249,220,191,173,164,152,138,135,132,131,119,103,101,100,99,98,95,89,86,81,80,68,58,43,8],\"xaxis\":\"x\",\"y\":[5.0,5.0,5.0,5.0,5.0,4.5,5.0,5.0,5.0,5.0,5.0,5.0,5.0,5.0,3.5,5.0,5.0,5.0,5.0,3.0,4.0,5.0,5.0,4.5,5.0,3.5,2.5,2.75,5.0,5.0,5.0,4.25,4.75,2.0,0.25,5.0,3.5,5.0,3.25,3.75,5.0,3.0,4.5,5.0,3.5,3.25,2.25,4.0,4.0,5.0,4.0,5.0,5.0,4.75,5.0,5.0,5.0,5.0,5.0,5.0,5.0,5.0,5.0,4.0,4.0,5.0,4.0,4.5,5.0,5.0,5.0,5.0,5.0,4.5,4.25,4.5,5.0,4.75,4.5,5.0,5.0,5.0,4.0,5.0,3.75,2.0,5.0,2.0,4.25,3.75,5.0,0.0,4.0,5.0,4.0,5.0,5.0,5.0,5.0,3.5,5.0,5.0,4.5,3.5,5.0,5.0,5.0,5.0,5.0,5.0,4.0,5.0,5.0,5.0,5.0,4.0,3.75,1.5,3.0,5.0,5.0,4.0,5.0,3.75,5.0,5.0,5.0,5.0,5.0,1.25,1.0,5.0,5.0,4.5,5.0,5.0,4.0,4.0,4.0,5.0,5.0,5.0,4.0,4.75,5.0,3.5,4.0,5.0,5.0,2.5,5.0,5.0,3.5,1.75,2.5,5.0,3.5,1.0,5.0,5.0,4.75,5.0,4.25,3.5,3.0,5.0,5.0,2.0,2.0,5.0,5.0,5.0,3.5,3.5,5.0,5.0,3.75,4.0,4.5,5.0,4.25,3.75,4.0,3.25,3.25,3.75,4.25,4.5,3.5,5.0,2.75,3.75,4.5,2.0,4.5,2.0,5.0,3.25,3.5,3.5,4.0,3.75,4.25,3.75,5.0,3.5,3.5,4.25,3.75,3.25,5.0,4.0,3.25,5.0,4.25,4.0,5.0,4.0,4.0,5.0,5.0,5.0,1.0,2.75,3.25,5.0,5.0,4.0,4.75,5.0,5.0,3.5,5.0,5.0,4.25,5.0,3.5,5.0,5.0,4.5,4.75,5.0,1.25,4.0,5.0,3.5,5.0,3.75,4.25,0.5,5.0,3.75,4.0,3.0,4.0,5.0,5.0,5.0,5.0,2.25,3.5,4.0,3.75,5.0,4.75,3.25,5.0,4.5,4.25,1.0,2.0,5.0,4.5,4.25,4.5,4.5,4.25,3.75,3.75,5.0,3.75,5.0,4.5,3.75,0.0,4.5,5.0,4.0,3.25,4.75,5.0,5.0,1.5,3.25,4.0,4.25,5.0,5.0,4.5,2.75,5.0,3.25,5.0,4.0,3.5,3.5,5.0,4.25,2.0,5.0,2.5,2.5,5.0,5.0,3.5,4.25,3.75,3.25,5.0,5.0,2.25,3.0,1.75,5.0,4.0,4.0,3.25,3.75,2.5,3.75,3.5,3.25,5.0,4.5,3.75,3.25,4.0,3.75,4.0,1.0,4.25,3.75,3.75,5.0,4.0,3.75,3.75,3.5,3.25,4.25,4.5,5.0,4.0,3.25,4.25,3.75,3.25,3.5,5.0,3.75,5.0,3.75,5.0,4.25,3.75,4.0,4.0,3.5,5.0,5.0,3.75,4.0,4.25,3.5,3.5,3.75,4.75,1.5,2.75,2.75,4.25,1.5,3.25,1.25,3.25,3.25,3.75,3.75,4.0,2.0,3.25,1.5,3.75,0.25,4.0,0.0,1.75,3.75,3.75,4.25,3.75,2.25,3.75,2.5,2.75,3.25,3.75,3.75,4.25,1.25,3.75,1.75,3.75,3.25,3.5,2.75,5.0,0.0,4.0,2.0,3.75,3.75,3.0,3.25,1.5,3.75,4.5,3.0,3.25,3.5,3.25,3.5,3.0,4.25,2.75,2.75,2.5,1.0,3.25,3.75,3.5,3.5,4.0,3.0,0.0,3.0],\"yaxis\":\"y\",\"type\":\"scattergl\",\"visible\":\"legendonly\"},{\"hovertemplate\":\"Review Number: %{x} \\u003cbr\\u003e Stars: %{y}\",\"legendgroup\":\"China\",\"marker\":{\"color\":\"#FF6692\",\"symbol\":\"circle\"},\"mode\":\"markers\",\"name\":\"China\",\"showlegend\":true,\"x\":[4636,4608,4560,4549,4535,4531,4529,4527,4423,4414,4405,4369,4366,4361,4347,4344,4341,4330,4327,4323,4321,4307,4306,4304,4301,4299,4298,4293,4288,4278,4270,4267,4261,4259,4256,4253,4251,4248,4247,4217,4215,4209,4207,4196,4189,4164,4163,4161,4160,4142,4141,4115,4096,4087,4071,4048,4046,4037,4022,4012,3994,3993,3990,3988,3983,3980,3961,3937,3932,3930,3928,3920,3905,3904,3903,3902,3900,3899,3896,3891,3890,3882,3881,3879,3876,3874,3872,3866,3864,3863,3860,3822,3819,3818,3815,3786,3780,3771,3770,3759,3752,3751,3740,3735,3719,3711,3701,3700,3699,3697,3691,3682,3666,3660,3659,3646,3643,3640,3639,3633,3631,3630,3629,3628,3622,3621,3615,3613,3611,3598,3597,3596,3595,3593,3587,3582,3581,3580,3579,3578,3577,3576,3575,3574,3573,3572,3571,3570,3569,3568,3545,3542,3533,3532,3530,3529,3527,3526,3488,3484,3449,3438,3425,3420,3408,3402,3400,3378,3364,3363,3361,3354,3346,3342,3341,3282,3275,3263,3214,3207,3171,3159,3155,3143,3132,3130,3123,3121,3106,3098,3093,3049,3048,3044,3030,3019,3006,3003,2999,2995,2993,2976,2960,2932,2928,2903,2902,2872,2869,2836,2835,2821,2817,2806,2802,2767,2750,2743,2732,2721,2716,2708,2702,2693,2691,2682,2673,2670,2638,2632,2619,2615,2601,2596,2590,2588,2566,2560,2547,2539,2531,2503,2471,2466,2465,2440,2436,2425,2420,2416,2413,2406,2405,2401,2398,2395,2394,2390,2388,2387,2384,2381,2378,2372,2362,2361,2358,2357,2350,2347,2328,2326,2321,2314,2309,2306,2300,2297,2295,2293,2292,2290,2288,2287,2286,2284,2281,2280,2279,2275,2272,2271,2268,2263,2258,2257,2250,2245,2244,2243,2241,2233,2229,2225,2217,2209,2207,2202,2194,2189,2186,2166,2157,2139,2138,2137,2136,2135,2134,2130,2111,2092,2090,2089,2088,2087,2086,2085,2084,2083,2082,2081,2080,2079,2078,2077,2076,2069,2065,2063,2061,2059,2051,2044,2041,2032,2020,2008,2006,1984,1982,1972,1948,1924,1898,1863,1825,1812,1801,1778,1777,1776,1775,1774,1773,1772,1771,1770,1740,1735,1723,1714,1704,1690,1689,1688,1687,1686,1685,1684,1683,1682,1681,1675,1661,1660,1655,1649,1630,1624,1616,1615,1605,1595,1572,1559,1546,1540,1538,1535,1512,1510,1504,1502,1496,1483,1481,1437,1436,1421,1415,1412,1409,1365,1364,1363,1327,1323,1304,1301,1289,1288,1269,1254,1245,1244,1243,1235,1226,1218,1217,1213,1211,1208,1188,1163,1158,1154,1133,1121,1111,1108,1107,1050,1044,1043,1042,1036,1010,1007,1005,972,942,931,928,898,880,871,866,860,854,851,848,842,840,832,821,815,812,803,798,795,784,775,770,758,746,739,712,705,693,687,684,677,657,653,650,640,634,629,624,614,584,580,579,558,545,532,525,524,523,518,513,507,505,499,491,489,488,487,486,455,446,428,414,402,400,393,377,376,370,364,358,301,296,290,285,284,282,210,208,181,165,139,133,122,90,69,57,56,55,54],\"xaxis\":\"x\",\"y\":[4.25,4.0,5.0,5.0,5.0,4.25,3.5,5.0,4.5,3.75,3.75,4.75,5.0,5.0,5.0,3.5,4.0,4.75,3.75,2.75,5.0,3.5,5.0,4.0,3.5,5.0,5.0,3.25,2.5,5.0,3.0,4.75,5.0,4.0,5.0,2.0,5.0,5.0,5.0,2.5,3.25,0.0,4.25,4.0,5.0,5.0,4.25,4.0,5.0,2.5,5.0,4.5,3.5,3.25,4.0,1.0,5.0,5.0,3.5,4.0,5.0,3.75,3.0,2.75,4.5,5.0,1.75,3.0,5.0,3.5,0.5,3.25,3.0,4.0,0.0,3.5,4.0,5.0,4.5,5.0,3.25,3.5,5.0,4.0,5.0,3.5,5.0,3.5,3.5,3.0,4.5,4.5,5.0,3.0,4.75,3.5,3.75,3.5,4.5,4.0,4.0,3.5,3.75,4.5,5.0,5.0,3.5,5.0,4.5,4.5,5.0,4.0,5.0,4.5,5.0,4.0,3.75,4.25,5.0,5.0,4.5,3.75,3.5,4.5,5.0,4.0,3.75,4.5,5.0,3.5,3.5,4.5,5.0,3.5,3.75,4.0,4.5,4.5,3.75,5.0,4.0,3.5,3.75,4.5,3.5,1.25,4.5,5.0,5.0,4.5,3.5,5.0,4.5,5.0,3.5,4.25,5.0,4.0,3.25,3.5,2.5,3.25,4.0,4.0,3.5,3.75,1.0,0.0,3.5,5.0,4.5,0.0,5.0,3.75,4.0,4.0,4.25,5.0,4.0,3.5,4.25,1.5,2.5,3.75,5.0,5.0,3.75,3.75,5.0,3.75,1.0,4.0,3.5,4.5,5.0,5.0,3.75,2.75,4.25,4.0,5.0,3.75,5.0,2.75,3.25,3.5,3.75,0.25,4.5,3.75,3.5,4.5,3.75,5.0,5.0,5.0,5.0,3.5,4.0,2.25,4.0,5.0,4.0,4.25,5.0,3.75,5.0,3.75,2.0,3.0,3.25,5.0,4.75,4.75,3.25,2.5,5.0,4.25,4.0,3.75,4.25,0.0,5.0,4.0,3.75,4.5,4.75,5.0,3.75,4.25,2.5,0.25,4.0,5.0,1.0,4.25,3.75,3.75,4.25,3.5,4.25,4.75,4.5,4.0,3.75,5.0,4.0,5.0,4.0,3.0,2.75,3.75,5.0,4.0,3.5,4.0,4.0,3.25,4.0,5.0,4.5,5.0,4.0,0.0,4.25,3.75,3.5,4.0,4.5,3.75,3.5,5.0,4.5,4.25,4.25,2.25,4.0,3.5,3.75,3.75,3.5,3.75,4.0,3.75,4.75,5.0,3.0,4.25,3.5,4.0,3.5,4.0,3.75,3.75,3.5,4.25,4.0,2.0,3.75,4.25,3.75,4.0,5.0,5.0,4.0,4.0,5.0,5.0,5.0,5.0,4.0,4.0,4.0,5.0,4.0,5.0,3.75,3.75,3.0,3.25,4.25,2.5,3.5,3.0,4.5,3.75,3.5,3.5,3.75,5.0,4.25,2.75,1.5,3.5,3.0,0.0,4.5,4.25,3.75,5.0,3.5,5.0,4.25,5.0,4.0,5.0,3.5,4.5,4.25,4.0,3.75,3.75,3.75,4.0,5.0,3.75,3.75,3.5,4.0,4.5,5.0,4.0,3.75,4.5,3.75,3.0,3.0,4.25,2.5,3.0,3.5,4.0,3.5,5.0,3.75,4.0,3.5,4.25,4.5,3.5,1.75,3.25,4.25,4.0,4.5,4.0,3.5,3.0,3.5,2.75,0.5,4.0,3.5,3.5,1.75,2.75,3.0,2.0,4.75,3.25,4.0,3.75,2.5,2.75,3.5,3.75,1.75,3.75,3.75,3.75,3.5,0.5,3.0,3.5,3.0,3.25,4.0,3.5,3.75,3.75,3.25,3.5,3.5,3.0,3.25,3.0,5.0,3.5,3.75,4.5,2.75,3.0,3.25,3.75,4.0,1.5,2.75,4.0,4.0,2.75,3.5,3.5,3.5,3.75,3.75,3.75,5.0,3.25,3.75,4.0,3.0,2.75,3.25,3.0,3.5,3.25,1.25,3.5,3.25,3.5,2.25,3.75,3.75,4.5,3.75,4.0,4.0,4.25,0.5,4.25,3.75,2.5,0.0,0.0,1.75,1.5,3.5,4.25,3.75,3.75,4.5,4.5,4.0,3.75,3.5,4.75,3.75,3.25,3.5,2.75,3.0,0.25,2.25,3.75,2.5,3.0,4.25,2.0,4.0,2.75,5.0,2.5,3.75,4.5,3.25,3.0,4.5,4.5,4.25,2.5,4.25,2.0,3.5,1.75,0.0,4.0,2.25,1.75,3.0,1.0,1.0,3.0],\"yaxis\":\"y\",\"type\":\"scattergl\",\"visible\":\"legendonly\"},{\"hovertemplate\":\"Review Number: %{x} \\u003cbr\\u003e Stars: %{y}\",\"legendgroup\":\"South Korea\",\"marker\":{\"color\":\"#B6E880\",\"symbol\":\"circle\"},\"mode\":\"markers\",\"name\":\"South Korea\",\"showlegend\":true,\"x\":[4634,4624,4611,4575,4533,4483,4475,4467,4452,4438,4430,4424,4421,4419,4417,4413,4403,4395,4372,4368,4362,4359,4356,4350,4349,4305,4302,4296,4290,4280,4275,4204,4128,4068,4031,4030,4010,4006,3995,3991,3985,3967,3948,3927,3867,3834,3738,3724,3716,3684,3678,3677,3667,3665,3661,3658,3637,3636,3627,3625,3586,3534,3516,3512,3502,3498,3475,3460,3459,3457,3455,3451,3448,3442,3436,3434,3429,3427,3421,3404,3398,3396,3388,3379,3368,3339,3335,3323,3320,3314,3311,3307,3303,3296,3283,3281,3279,3276,3271,3266,3257,3248,3237,3221,3213,3205,3172,3156,3147,3140,3107,3101,3067,3047,3045,3012,3005,2982,2970,2956,2942,2934,2924,2922,2895,2892,2878,2874,2873,2840,2787,2784,2783,2769,2758,2729,2723,2680,2668,2650,2648,2644,2637,2634,2628,2623,2620,2616,2614,2603,2597,2594,2589,2581,2575,2568,2561,2555,2550,2533,2530,2526,2523,2519,2511,2508,2504,2483,2481,2476,2474,2467,2464,2424,2397,2391,2382,2380,2370,2369,2368,2367,2366,2365,2364,2363,2356,2345,2324,2319,2291,2282,2270,2240,2234,2220,2212,2187,2161,2140,2104,2101,2094,2067,2037,2018,2017,1974,1892,1827,1780,1766,1754,1677,1674,1658,1650,1643,1634,1601,1593,1580,1575,1523,1515,1498,1491,1480,1430,1426,1418,1414,1400,1394,1388,1372,1347,1322,1316,1314,1308,1300,1298,1290,1283,1278,1272,1250,1236,1224,1198,1194,1187,1183,1181,1160,1134,1124,1113,1110,1105,1070,1048,1037,1031,1030,1029,1028,1027,1026,1025,1024,1023,1022,1021,1020,1019,1018,1017,1008,1001,998,989,986,975,950,933,932,927,925,921,918,913,910,907,903,894,893,881,879,868,857,853,845,841,839,829,828,827,826,824,823,822,809,806,787,780,764,755,753,751,745,735,718,714,711,692,688,683,681,678,675,674,673,663,658,648,645,644,635,633,632,626,621,618,606,602,594,593,578,570,568,566,561,553,536,533,522,516,512,508,506,501,495,493,490,485,484,479,477,468,463,461,450,444,442,441,438,437,423,407,399,398,395,394,380,369,355,349,348,346,344,342,336,332,328,324,323,314,313,309,306,303,302,298,297,294,292,291,289,288,287,283,280,279,271,269,245,239,225,219,217,206,199,197,192,188,187,186,176,175,171,169,161,150,144,141,134,129,121,120,118,117,115,114,113,112,111,107,88,84,22,21,20,19,18,16,15,14,11,9],\"xaxis\":\"x\",\"y\":[5.0,4.5,1.5,5.0,5.0,5.0,5.0,5.0,3.75,4.5,3.75,5.0,4.5,5.0,1.0,2.5,5.0,3.5,5.0,3.5,3.5,3.5,4.5,5.0,4.25,1.25,3.5,3.5,3.5,4.25,3.75,4.0,4.5,4.5,3.5,4.0,5.0,3.5,3.25,4.5,5.0,4.0,3.5,4.0,3.5,4.5,4.0,4.25,4.5,4.5,4.0,4.25,3.75,2.5,4.25,4.0,4.0,4.0,5.0,4.0,3.5,3.75,4.0,3.5,3.5,3.75,3.75,4.0,4.5,4.5,3.75,5.0,2.0,5.0,3.5,3.5,5.0,5.0,4.0,5.0,5.0,2.25,5.0,5.0,4.0,5.0,4.5,5.0,3.75,5.0,4.0,5.0,5.0,5.0,5.0,5.0,3.5,4.0,4.0,4.0,4.0,5.0,5.0,5.0,4.5,3.75,3.5,5.0,4.0,5.0,3.5,3.75,5.0,3.5,4.0,4.0,3.75,4.0,3.75,3.75,3.5,3.75,5.0,3.75,4.0,5.0,5.0,4.0,5.0,4.5,3.5,4.0,3.75,3.5,5.0,4.0,3.5,4.25,3.25,4.25,3.75,5.0,4.5,4.5,2.0,3.75,3.75,3.5,3.75,2.5,5.0,4.75,4.0,2.0,4.75,4.25,4.0,4.25,5.0,5.0,2.0,4.5,4.5,1.0,5.0,3.75,3.0,5.0,3.75,4.0,4.25,3.5,2.0,3.75,4.0,5.0,0.5,3.75,4.5,4.25,3.75,4.0,5.0,5.0,4.0,4.0,4.0,5.0,5.0,3.5,3.5,5.0,3.75,3.25,4.5,5.0,3.75,5.0,5.0,5.0,4.0,4.0,5.0,4.5,3.5,4.0,0.0,5.0,4.0,5.0,4.5,3.5,5.0,5.0,3.5,5.0,4.25,3.5,3.5,5.0,4.25,3.75,5.0,5.0,4.0,3.5,3.75,4.0,4.0,4.0,1.0,5.0,3.75,4.5,3.75,3.75,4.0,4.0,2.75,5.0,5.0,5.0,4.0,4.5,4.0,3.25,3.5,3.75,3.25,4.0,5.0,4.0,3.5,5.0,4.0,3.75,4.0,4.25,3.5,4.5,5.0,4.0,3.5,4.0,4.0,3.75,5.0,4.0,4.0,3.75,3.75,3.5,4.5,5.0,4.25,4.75,4.0,4.25,3.75,3.5,3.5,4.5,4.0,4.0,4.5,3.75,4.5,5.0,4.75,3.75,3.5,4.5,4.25,4.25,4.0,3.5,3.0,3.25,3.25,5.0,3.75,4.25,4.5,4.25,4.0,2.0,4.75,3.5,4.75,5.0,5.0,5.0,3.5,4.0,3.5,5.0,3.5,3.5,4.25,4.25,5.0,5.0,2.75,3.75,3.75,4.25,3.75,3.75,4.75,3.75,4.0,4.75,5.0,3.25,4.0,3.5,3.75,3.75,3.75,1.0,3.5,2.75,3.5,3.5,2.75,4.0,3.5,3.5,4.0,4.75,2.5,4.0,5.0,3.25,2.75,4.25,4.75,4.25,3.5,3.75,3.75,2.5,3.25,3.25,3.0,5.0,3.0,4.25,3.75,3.0,3.75,3.0,3.5,3.25,3.25,4.5,3.75,3.75,3.25,3.0,3.5,3.75,3.75,3.0,3.5,3.75,3.75,2.5,3.25,3.5,3.25,3.75,3.5,3.5,3.75,4.5,3.5,3.5,2.5,4.25,3.75,3.75,3.25,3.75,2.75,3.25,3.75,3.75,3.0,2.0,3.25,3.75,4.0,4.0,3.75,3.5,3.5,3.75,1.75,3.75,2.75,4.0,3.0,2.0,2.25,4.25,4.0,4.0,3.5,4.25,3.0,3.75,2.25,0.0,4.25,3.5,2.5,2.25,3.5,4.0,4.0,3.75,4.0,2.75,3.0,4.0,3.75,3.25,1.0,3.25,1.75,3.75,4.0,3.5,4.0,3.5,3.5,2.5,3.5,2.0,2.0],\"yaxis\":\"y\",\"type\":\"scattergl\",\"visible\":\"legendonly\"},{\"hovertemplate\":\"Review Number: %{x} \\u003cbr\\u003e Stars: %{y}\",\"legendgroup\":\"Singapore\",\"marker\":{\"color\":\"#FF97FF\",\"symbol\":\"circle\"},\"mode\":\"markers\",\"name\":\"Singapore\",\"showlegend\":true,\"x\":[4622,4603,4566,4557,4551,4474,4471,4447,4282,4132,3859,3826,3817,3732,3544,3499,3482,3446,3210,3196,3096,3007,2921,2890,2882,2881,2880,2747,2735,2714,2709,2701,2698,2692,2688,2684,2677,2674,2669,2649,2643,2625,2618,2617,2602,2571,2565,2558,2551,2545,2543,2537,2528,2524,2521,2520,2506,2499,2469,2457,2456,2455,2454,2453,2452,2451,2450,2449,2448,2447,2446,2445,2444,2443,2404,2400,2223,2215,2169,2131,2125,2100,2095,1985,1953,1947,1925,1914,1907,1901,1888,1887,1886,1885,1884,1883,1882,1881,1880,1879,1878,1877,1876,1734,1619,1562,1542,1524,1507,1461,1460,1459,1458,1457,1456,1455,1454,1453,1452,1451,1450,1449,1448,1447,1442,1435,1433,1432,1431,1398,1325,1306,1293,1282,1271,1137,1068,992,991,637,608,519,510,494,427,365,248,237,236,235,233,223,33,32],\"xaxis\":\"x\",\"y\":[5.0,5.0,4.5,1.0,5.0,4.0,0.0,4.25,5.0,5.0,4.5,4.5,4.0,5.0,4.0,3.75,2.25,5.0,5.0,5.0,5.0,4.25,5.0,4.75,5.0,3.5,3.5,3.5,3.5,3.5,4.0,3.5,4.0,1.0,5.0,2.0,4.0,3.5,4.0,4.25,4.5,5.0,5.0,5.0,3.25,2.5,3.5,5.0,4.0,5.0,5.0,5.0,5.0,5.0,4.5,5.0,3.75,5.0,3.5,3.5,4.25,5.0,3.25,4.5,5.0,5.0,4.0,5.0,3.5,3.0,5.0,4.25,5.0,3.75,5.0,5.0,3.75,5.0,4.0,4.0,3.75,4.0,5.0,5.0,5.0,5.0,5.0,5.0,5.0,5.0,3.5,4.25,3.75,3.0,4.5,4.0,4.75,3.5,3.75,3.5,5.0,4.5,3.75,4.25,3.75,2.75,2.5,3.5,3.5,4.0,3.75,4.0,3.75,3.75,3.5,3.75,4.0,5.0,3.75,4.0,5.0,4.0,4.25,4.0,3.5,4.0,3.75,5.0,5.0,3.0,3.25,2.5,4.25,2.75,5.0,3.75,3.75,5.0,5.0,2.5,5.0,2.0,3.75,3.5,5.0,3.25,4.75,3.0,5.0,4.25,3.5,4.25,3.75,3.5],\"yaxis\":\"y\",\"type\":\"scattergl\",\"visible\":\"legendonly\"},{\"hovertemplate\":\"Review Number: %{x} \\u003cbr\\u003e Stars: %{y}\",\"legendgroup\":\"Bangladesh\",\"marker\":{\"color\":\"#FECB52\",\"symbol\":\"circle\"},\"mode\":\"markers\",\"name\":\"Bangladesh\",\"showlegend\":true,\"x\":[4619,4501,4469,3189,3112,3072,3042,2962,2325,2310,1945,1845,1805,1755,1692],\"xaxis\":\"x\",\"y\":[3.25,3.25,1.0,2.25,3.75,3.0,3.0,3.75,4.0,4.0,3.5,3.25,4.0,4.0,3.25],\"yaxis\":\"y\",\"type\":\"scattergl\",\"visible\":\"legendonly\"},{\"hovertemplate\":\"Review Number: %{x} \\u003cbr\\u003e Stars: %{y}\",\"legendgroup\":\"Australia\",\"marker\":{\"color\":\"#636efa\",\"symbol\":\"circle\"},\"mode\":\"markers\",\"name\":\"Australia\",\"showlegend\":true,\"x\":[4579,3138,3137,3136,2349,2308,2301,2296,2285,2274,2253,2231,2219,2188,2165,2127,2068,2054,2042,2034,2029,2011,1980,987,961,948],\"xaxis\":\"x\",\"y\":[3.5,5.0,5.0,5.0,2.75,3.5,2.75,2.5,3.0,3.5,3.75,3.75,1.0,2.5,3.0,2.25,5.0,3.25,4.25,3.25,2.0,2.0,3.5,2.75,2.75,3.5],\"yaxis\":\"y\",\"type\":\"scattergl\",\"visible\":\"legendonly\"},{\"hovertemplate\":\"Review Number: %{x} \\u003cbr\\u003e Stars: %{y}\",\"legendgroup\":\"Philippines\",\"marker\":{\"color\":\"#EF553B\",\"symbol\":\"circle\"},\"mode\":\"markers\",\"name\":\"Philippines\",\"showlegend\":true,\"x\":[4502,4476,4042,3883,3190,3181,3146,2961,2694,1645,1611,1532,1531,1530,1529,1528,1527,1526,1408,1285,1128,744,660,628,599,547,538,443,433,430,429,410,409,397,383,382,366,357,339,312,310,305,299,230,227,174,157,155,110,93,40,39,38,37,36,17],\"xaxis\":\"x\",\"y\":[5.0,5.0,4.0,4.0,4.25,3.75,4.25,3.75,3.5,3.75,4.0,4.5,3.75,4.0,4.0,3.25,4.5,3.75,3.5,3.25,3.25,3.25,3.75,3.5,4.0,5.0,0.5,4.0,3.25,5.0,3.75,3.75,4.0,3.0,2.75,2.5,2.75,4.0,4.5,1.75,2.5,3.75,3.75,3.75,1.75,0.25,2.0,4.75,1.5,4.5,3.0,3.0,3.0,3.0,3.0,2.5],\"yaxis\":\"y\",\"type\":\"scattergl\",\"visible\":\"legendonly\"},{\"hovertemplate\":\"Review Number: %{x} \\u003cbr\\u003e Stars: %{y}\",\"legendgroup\":\"Brazil\",\"marker\":{\"color\":\"#00cc96\",\"symbol\":\"circle\"},\"mode\":\"markers\",\"name\":\"Brazil\",\"showlegend\":true,\"x\":[4500,4498,4492,4473,4470,4439,4416,4410,3547,3538,3474,3418,3397,3383,3371,3350,3344,3326,3310,3186,3142,3020,2992,2990,2966,2907,2893,2204,2144,2107,2040,1973],\"xaxis\":\"x\",\"y\":[3.75,3.5,3.75,3.5,3.0,3.5,5.0,2.5,3.5,3.25,3.5,3.75,2.0,3.5,4.0,1.0,3.5,3.75,3.5,3.75,3.75,3.5,3.5,4.25,3.75,4.75,3.5,4.25,3.5,4.5,5.0,4.25],\"yaxis\":\"y\",\"type\":\"scattergl\",\"visible\":\"legendonly\"},{\"hovertemplate\":\"Review Number: %{x} \\u003cbr\\u003e Stars: %{y}\",\"legendgroup\":\"Pakistan\",\"marker\":{\"color\":\"#ab63fa\",\"symbol\":\"circle\"},\"mode\":\"markers\",\"name\":\"Pakistan\",\"showlegend\":true,\"x\":[4495,4429,3898,3884,3856,3813,2346,2210,2193,1657,1636,1612,1505,1391,504],\"xaxis\":\"x\",\"y\":[3.75,3.75,3.0,5.0,3.75,3.5,1.0,3.75,2.5,2.75,3.25,3.25,3.25,3.5,3.0],\"yaxis\":\"y\",\"type\":\"scattergl\",\"visible\":\"legendonly\"},{\"hovertemplate\":\"Review Number: %{x} \\u003cbr\\u003e Stars: %{y}\",\"legendgroup\":\"Vietnam\",\"marker\":{\"color\":\"#FFA15A\",\"symbol\":\"circle\"},\"mode\":\"markers\",\"name\":\"Vietnam\",\"showlegend\":true,\"x\":[4493,4478,4472,4364,4346,4326,4176,4165,4122,4118,3984,3762,3746,3725,3645,3610,3609,3608,3607,3606,3605,3604,3558,3543,3495,3407,3125,2876,2728,2718,2562,2527,2435,2354,2213,2143,1906,1816,1726,1718,1669,1666,1665,1663,1659,1646,1633,1610,1602,1581,1564,1536,1533,1522,1499,1423,1419,1399,1329,1291,1277,1156,1085,1013,929,917,896,891,890,873,869,861,855,846,836,831,816,801,796,781,737,716,710,694,680,670,668,641,627,620,613,589,588,583,573,569,492,474,467,466,447,426,422,417,408,406,404,396,381,375,374,367,362,341,330,327,311,277,272,266,264,262,261,259,254,228,211,194,177,163,127,97,96,91,42,7,6,5],\"xaxis\":\"x\",\"y\":[3.5,5.0,3.75,3.75,4.0,3.25,2.0,3.5,3.75,3.0,3.5,3.25,4.25,5.0,3.5,5.0,3.5,3.5,3.75,3.5,3.5,4.5,3.75,0.5,4.5,2.0,3.5,3.5,0.25,3.5,4.0,0.0,3.5,5.0,3.75,3.25,3.5,3.25,3.0,2.5,1.25,3.0,1.5,4.0,2.75,4.0,3.5,3.0,3.5,2.75,3.0,3.25,3.75,3.25,3.25,3.0,3.5,3.75,1.25,3.25,2.0,3.75,3.5,3.5,3.75,3.25,3.5,2.75,3.5,3.5,3.25,3.25,4.25,3.75,3.5,3.25,3.75,3.75,3.0,3.0,2.5,3.75,2.75,3.5,2.75,3.5,2.0,3.0,3.75,1.25,3.0,4.25,2.75,2.25,2.0,3.0,2.75,3.75,1.75,3.5,4.75,3.0,4.0,3.5,2.25,3.75,3.75,4.25,4.25,0.5,3.75,3.25,4.5,3.75,3.25,3.5,2.0,4.0,3.5,4.0,3.75,3.75,3.75,4.0,4.0,2.0,3.5,3.5,3.75,3.5,2.75,2.5,3.75,2.75,2.75,1.0,2.5,3.5],\"yaxis\":\"y\",\"type\":\"scattergl\",\"visible\":\"legendonly\"},{\"hovertemplate\":\"Review Number: %{x} \\u003cbr\\u003e Stars: %{y}\",\"legendgroup\":\"India\",\"marker\":{\"color\":\"#19d3f3\",\"symbol\":\"circle\"},\"mode\":\"markers\",\"name\":\"India\",\"showlegend\":true,\"x\":[4345,4320,3901,3696,3624,3616,3612,2712,2704,2685,2678,2646,2639,2626,2621,2599,2587,2576,2564,2556,2509,2402,2373,2360,2351,2329,2304,2269,2224,2033,1599,1576,1566,1556,1543,1519,1506,1489,1405,763,616,574,196,189,62,61,60,59],\"xaxis\":\"x\",\"y\":[4.75,4.5,3.25,4.0,5.0,3.5,5.0,5.0,3.5,3.5,0.0,3.5,4.0,3.5,3.5,3.75,4.25,3.75,3.75,4.25,3.5,3.75,4.5,1.5,4.0,4.5,5.0,3.5,4.0,2.5,3.5,3.75,3.25,3.75,3.75,3.5,3.75,3.25,3.75,3.25,2.0,3.75,1.5,3.0,1.5,2.5,2.0,3.5],\"yaxis\":\"y\",\"type\":\"scattergl\",\"visible\":\"legendonly\"},{\"hovertemplate\":\"Review Number: %{x} \\u003cbr\\u003e Stars: %{y}\",\"legendgroup\":\"United Kingdom\",\"marker\":{\"color\":\"#FF6692\",\"symbol\":\"circle\"},\"mode\":\"markers\",\"name\":\"United Kingdom\",\"showlegend\":true,\"x\":[4257,4252,4249,4159,4147,4136,4114,3511,3510,3509,3508,3507,3506,3232,2201,2200,2199,2198,2197,2196,2025,2024,2023,2022,2021,1963,1962,1961,1960,1555,1424,1403,1389,1373,1367,1338,1315,1286,1279,1273,1270,1252,1234,1216,1209,1185,1182,1171,1167,1157,1132,1119,1102,1086,1041,999,995,985,974,963,952,949,945,941,939,672,671,649,625,611,607,604,597,592,591,577,575,565,562,557,555,551,548],\"xaxis\":\"x\",\"y\":[0.0,0.0,0.5,3.5,3.0,3.5,3.75,5.0,4.25,5.0,3.5,4.5,4.25,3.5,2.0,5.0,3.0,2.5,5.0,3.25,2.0,2.5,0.0,3.0,5.0,3.75,3.5,4.25,4.0,3.5,1.5,0.5,1.75,2.0,1.5,1.5,2.75,3.25,3.5,3.25,5.0,2.25,2.75,1.0,3.25,3.25,3.75,3.0,3.75,4.25,1.5,3.75,3.0,3.0,4.0,1.5,3.0,1.0,2.25,3.25,3.5,3.5,2.75,3.75,3.75,3.0,3.0,3.75,4.0,2.0,1.5,2.0,3.5,3.25,2.5,3.0,3.5,4.0,4.25,3.75,2.75,3.25,3.75],\"yaxis\":\"y\",\"type\":\"scattergl\",\"visible\":\"legendonly\"},{\"hovertemplate\":\"Review Number: %{x} \\u003cbr\\u003e Stars: %{y}\",\"legendgroup\":\"Germany\",\"marker\":{\"color\":\"#B6E880\",\"symbol\":\"circle\"},\"mode\":\"markers\",\"name\":\"Germany\",\"showlegend\":true,\"x\":[3996,3947,3908,3869,3862,3852,3846,3837,3820,3796,2949,2498,2497,2496,2495,2494,2493,2491,2490,2489,2488,2487,2486,2485,2484,1975,1916,1869,1813,1733,1637,1490,1476,1469,1465,1368,1222,1193],\"xaxis\":\"x\",\"y\":[3.75,3.25,2.75,3.0,3.75,3.75,3.25,3.25,3.5,3.75,2.0,3.75,3.75,4.5,3.75,3.5,3.75,5.0,3.5,3.0,3.75,4.5,3.5,3.0,4.0,3.25,3.0,3.5,4.25,3.75,3.0,3.5,3.5,3.25,3.5,3.0,3.75,3.75],\"yaxis\":\"y\",\"type\":\"scattergl\",\"visible\":\"legendonly\"},{\"hovertemplate\":\"Review Number: %{x} \\u003cbr\\u003e Stars: %{y}\",\"legendgroup\":\"Russia\",\"marker\":{\"color\":\"#FF97FF\",\"symbol\":\"circle\"},\"mode\":\"markers\",\"name\":\"Russia\",\"showlegend\":true,\"x\":[3880,3518,3226,3187,3058,2991,2897],\"xaxis\":\"x\",\"y\":[4.5,3.25,3.75,3.75,3.25,3.25,3.25],\"yaxis\":\"y\",\"type\":\"scattergl\",\"visible\":\"legendonly\"},{\"hovertemplate\":\"Review Number: %{x} \\u003cbr\\u003e Stars: %{y}\",\"legendgroup\":\"Serbia\",\"marker\":{\"color\":\"#FECB52\",\"symbol\":\"circle\"},\"mode\":\"markers\",\"name\":\"Serbia\",\"showlegend\":true,\"x\":[3861,3854,3795,3774,3764],\"xaxis\":\"x\",\"y\":[3.5,1.5,2.0,3.5,1.0],\"yaxis\":\"y\",\"type\":\"scattergl\",\"visible\":\"legendonly\"},{\"hovertemplate\":\"Review Number: %{x} \\u003cbr\\u003e Stars: %{y}\",\"legendgroup\":\"Ireland\",\"marker\":{\"color\":\"#636efa\",\"symbol\":\"circle\"},\"mode\":\"markers\",\"name\":\"Ireland\",\"showlegend\":true,\"x\":[3811,3788,3765,3745],\"xaxis\":\"x\",\"y\":[1.25,1.25,1.75,1.75],\"yaxis\":\"y\",\"type\":\"scattergl\",\"visible\":\"legendonly\"},{\"hovertemplate\":\"Review Number: %{x} \\u003cbr\\u003e Stars: %{y}\",\"legendgroup\":\"Peru\",\"marker\":{\"color\":\"#EF553B\",\"symbol\":\"circle\"},\"mode\":\"markers\",\"name\":\"Peru\",\"showlegend\":true,\"x\":[3561,3369,3285,3262],\"xaxis\":\"x\",\"y\":[3.5,3.25,3.75,3.0],\"yaxis\":\"y\",\"type\":\"scattergl\",\"visible\":\"legendonly\"},{\"hovertemplate\":\"Review Number: %{x} \\u003cbr\\u003e Stars: %{y}\",\"legendgroup\":\"Spain\",\"marker\":{\"color\":\"#00cc96\",\"symbol\":\"circle\"},\"mode\":\"markers\",\"name\":\"Spain\",\"showlegend\":true,\"x\":[3501,3353,3301],\"xaxis\":\"x\",\"y\":[3.5,4.0,4.5],\"yaxis\":\"y\",\"type\":\"scattergl\",\"visible\":\"legendonly\"},{\"hovertemplate\":\"Review Number: %{x} \\u003cbr\\u003e Stars: %{y}\",\"legendgroup\":\"France\",\"marker\":{\"color\":\"#ab63fa\",\"symbol\":\"circle\"},\"mode\":\"markers\",\"name\":\"France\",\"showlegend\":true,\"x\":[3483,3461,3177,3170,3153,3145],\"xaxis\":\"x\",\"y\":[4.25,5.0,3.75,4.0,5.0,4.0],\"yaxis\":\"y\",\"type\":\"scattergl\",\"visible\":\"legendonly\"},{\"hovertemplate\":\"Review Number: %{x} \\u003cbr\\u003e Stars: %{y}\",\"legendgroup\":\"Israel\",\"marker\":{\"color\":\"#FFA15A\",\"symbol\":\"circle\"},\"mode\":\"markers\",\"name\":\"Israel\",\"showlegend\":true,\"x\":[3416,3415,3414],\"xaxis\":\"x\",\"y\":[3.5,2.0,3.5],\"yaxis\":\"y\",\"type\":\"scattergl\",\"visible\":\"legendonly\"},{\"hovertemplate\":\"Review Number: %{x} \\u003cbr\\u003e Stars: %{y}\",\"legendgroup\":\"Mexico\",\"marker\":{\"color\":\"#19d3f3\",\"symbol\":\"circle\"},\"mode\":\"markers\",\"name\":\"Mexico\",\"showlegend\":true,\"x\":[3381,3362,3338,3329,3120,3099,3066,2442,2422,2344,2343,2342,2341,2340,2339,2338,2337,2336,2335,2334,2333,2332,2331,2307,2303,2251,2159,2074,2062,2057,2049,2028],\"xaxis\":\"x\",\"y\":[1.0,3.5,4.0,3.75,4.25,5.0,4.0,3.5,3.25,3.5,3.75,3.75,3.5,3.75,3.25,3.5,2.75,3.25,5.0,3.5,3.75,3.75,4.0,4.0,3.25,3.75,3.25,3.5,3.75,3.75,3.5,3.5],\"yaxis\":\"y\",\"type\":\"scattergl\",\"visible\":\"legendonly\"},{\"hovertemplate\":\"Review Number: %{x} \\u003cbr\\u003e Stars: %{y}\",\"legendgroup\":\"Canada\",\"marker\":{\"color\":\"#FF6692\",\"symbol\":\"circle\"},\"mode\":\"markers\",\"name\":\"Canada\",\"showlegend\":true,\"x\":[3376,3349,3348,3321,3234,3224,3217,3194,3115,3076,2997,2972,2958,2957,2720,2242,2167,2110,2073,2045,2016,2013,1795,1782,1748,1707,1672,1647,1642,1628,1558,1549,1371,1341,1303,1299,1227,1169,1164,1127,1118,1104,1084,1049,1040,1034,1009,1002,835,813,811,800,793,786,777,372],\"xaxis\":\"x\",\"y\":[3.25,3.0,3.5,3.5,3.5,4.0,0.0,1.5,2.0,3.75,4.25,0.0,3.75,3.25,0.0,2.75,2.5,3.0,4.0,3.5,3.5,3.5,0.0,0.0,3.0,3.5,3.25,2.75,0.25,0.0,2.0,5.0,0.0,5.0,1.5,1.0,0.5,1.75,2.0,2.75,2.75,3.5,1.5,2.0,1.0,2.25,2.0,2.0,2.5,2.0,1.75,3.0,1.75,3.0,2.75,0.5],\"yaxis\":\"y\",\"type\":\"scattergl\",\"visible\":\"legendonly\"},{\"hovertemplate\":\"Review Number: %{x} \\u003cbr\\u003e Stars: %{y}\",\"legendgroup\":\"Portugal\",\"marker\":{\"color\":\"#B6E880\",\"symbol\":\"circle\"},\"mode\":\"markers\",\"name\":\"Portugal\",\"showlegend\":true,\"x\":[3246],\"xaxis\":\"x\",\"y\":[2.0],\"yaxis\":\"y\",\"type\":\"scattergl\",\"visible\":\"legendonly\"},{\"hovertemplate\":\"Review Number: %{x} \\u003cbr\\u003e Stars: %{y}\",\"legendgroup\":\"Italy\",\"marker\":{\"color\":\"#FF97FF\",\"symbol\":\"circle\"},\"mode\":\"markers\",\"name\":\"Italy\",\"showlegend\":true,\"x\":[3229,3046,2938,2898],\"xaxis\":\"x\",\"y\":[1.0,2.5,3.75,3.75],\"yaxis\":\"y\",\"type\":\"scattergl\",\"visible\":\"legendonly\"},{\"hovertemplate\":\"Review Number: %{x} \\u003cbr\\u003e Stars: %{y}\",\"legendgroup\":\"New Zealand\",\"marker\":{\"color\":\"#FECB52\",\"symbol\":\"circle\"},\"mode\":\"markers\",\"name\":\"New Zealand\",\"showlegend\":true,\"x\":[3108],\"xaxis\":\"x\",\"y\":[3.0],\"yaxis\":\"y\",\"type\":\"scattergl\",\"visible\":\"legendonly\"},{\"hovertemplate\":\"Review Number: %{x} \\u003cbr\\u003e Stars: %{y}\",\"legendgroup\":\"Ukraine\",\"marker\":{\"color\":\"#636efa\",\"symbol\":\"circle\"},\"mode\":\"markers\",\"name\":\"Ukraine\",\"showlegend\":true,\"x\":[3082,2989,2955],\"xaxis\":\"x\",\"y\":[3.5,3.5,3.75],\"yaxis\":\"y\",\"type\":\"scattergl\",\"visible\":\"legendonly\"},{\"hovertemplate\":\"Review Number: %{x} \\u003cbr\\u003e Stars: %{y}\",\"legendgroup\":\"Netherlands\",\"marker\":{\"color\":\"#EF553B\",\"symbol\":\"circle\"},\"mode\":\"markers\",\"name\":\"Netherlands\",\"showlegend\":true,\"x\":[3053,2009,1954,1941,1930,1923,1918,1899,1861,1847,1814,1811,1798,1783,1757,1745,1012,993,544,528],\"xaxis\":\"x\",\"y\":[3.0,2.75,2.0,2.5,0.25,0.5,3.5,1.5,0.5,3.0,3.0,3.5,2.75,4.5,3.25,3.5,3.5,3.5,3.5,3.75],\"yaxis\":\"y\",\"type\":\"scattergl\",\"visible\":\"legendonly\"},{\"hovertemplate\":\"Review Number: %{x} \\u003cbr\\u003e Stars: %{y}\",\"legendgroup\":\"Poland\",\"marker\":{\"color\":\"#00cc96\",\"symbol\":\"circle\"},\"mode\":\"markers\",\"name\":\"Poland\",\"showlegend\":true,\"x\":[2965,2775,1006,988,951,943],\"xaxis\":\"x\",\"y\":[2.0,2.0,4.0,3.25,4.0,3.25],\"yaxis\":\"y\",\"type\":\"scattergl\",\"visible\":\"legendonly\"},{\"hovertemplate\":\"Review Number: %{x} \\u003cbr\\u003e Stars: %{y}\",\"legendgroup\":\"Nigeria\",\"marker\":{\"color\":\"#ab63fa\",\"symbol\":\"circle\"},\"mode\":\"markers\",\"name\":\"Nigeria\",\"showlegend\":true,\"x\":[2593,2502],\"xaxis\":\"x\",\"y\":[3.25,1.5],\"yaxis\":\"y\",\"type\":\"scattergl\",\"visible\":\"legendonly\"},{\"hovertemplate\":\"Review Number: %{x} \\u003cbr\\u003e Stars: %{y}\",\"legendgroup\":\"Ghana\",\"marker\":{\"color\":\"#FFA15A\",\"symbol\":\"circle\"},\"mode\":\"markers\",\"name\":\"Ghana\",\"showlegend\":true,\"x\":[2554,2536],\"xaxis\":\"x\",\"y\":[3.5,3.5],\"yaxis\":\"y\",\"type\":\"scattergl\",\"visible\":\"legendonly\"},{\"hovertemplate\":\"Review Number: %{x} \\u003cbr\\u003e Stars: %{y}\",\"legendgroup\":\"Hungary\",\"marker\":{\"color\":\"#19d3f3\",\"symbol\":\"circle\"},\"mode\":\"markers\",\"name\":\"Hungary\",\"showlegend\":true,\"x\":[2492,1931,1909,1904,1896,1870,1853,1804,1709],\"xaxis\":\"x\",\"y\":[3.75,3.75,3.5,3.0,3.5,2.75,3.5,4.75,4.0],\"yaxis\":\"y\",\"type\":\"scattergl\",\"visible\":\"legendonly\"},{\"hovertemplate\":\"Review Number: %{x} \\u003cbr\\u003e Stars: %{y}\",\"legendgroup\":\"Fiji\",\"marker\":{\"color\":\"#FF6692\",\"symbol\":\"circle\"},\"mode\":\"markers\",\"name\":\"Fiji\",\"showlegend\":true,\"x\":[2396,2386,899,897],\"xaxis\":\"x\",\"y\":[3.25,4.0,4.25,4.0],\"yaxis\":\"y\",\"type\":\"scattergl\",\"visible\":\"legendonly\"},{\"hovertemplate\":\"Review Number: %{x} \\u003cbr\\u003e Stars: %{y}\",\"legendgroup\":\"Nepal\",\"marker\":{\"color\":\"#B6E880\",\"symbol\":\"circle\"},\"mode\":\"markers\",\"name\":\"Nepal\",\"showlegend\":true,\"x\":[2238,1151,1150,1149,1148,1147,1146,1145,1144,1143,1142,1141,1140,1139],\"xaxis\":\"x\",\"y\":[0.5,3.75,3.5,3.5,3.5,3.5,3.5,3.75,3.5,4.25,4.0,3.25,5.0,3.75],\"yaxis\":\"y\",\"type\":\"scattergl\",\"visible\":\"legendonly\"},{\"hovertemplate\":\"Review Number: %{x} \\u003cbr\\u003e Stars: %{y}\",\"legendgroup\":\"Myanmar\",\"marker\":{\"color\":\"#FF97FF\",\"symbol\":\"circle\"},\"mode\":\"markers\",\"name\":\"Myanmar\",\"showlegend\":true,\"x\":[2010,1988,1964,1939,1937,1912,1902,1894,1889,1865,1854,1743,1716,1693],\"xaxis\":\"x\",\"y\":[3.75,3.5,5.0,5.0,3.75,3.75,5.0,2.75,2.75,3.5,3.5,4.5,3.5,5.0],\"yaxis\":\"y\",\"type\":\"scattergl\",\"visible\":\"legendonly\"},{\"hovertemplate\":\"Review Number: %{x} \\u003cbr\\u003e Stars: %{y}\",\"legendgroup\":\"Cambodia\",\"marker\":{\"color\":\"#FECB52\",\"symbol\":\"circle\"},\"mode\":\"markers\",\"name\":\"Cambodia\",\"showlegend\":true,\"x\":[1929,1859,1826,1767,1731],\"xaxis\":\"x\",\"y\":[3.5,5.0,3.5,4.0,5.0],\"yaxis\":\"y\",\"type\":\"scattergl\",\"visible\":\"legendonly\"},{\"hovertemplate\":\"Review Number: %{x} \\u003cbr\\u003e Stars: %{y}\",\"legendgroup\":\"Finland\",\"marker\":{\"color\":\"#636efa\",\"symbol\":\"circle\"},\"mode\":\"markers\",\"name\":\"Finland\",\"showlegend\":true,\"x\":[1905,1764,1724],\"xaxis\":\"x\",\"y\":[3.5,3.75,3.5],\"yaxis\":\"y\",\"type\":\"scattergl\",\"visible\":\"legendonly\"},{\"hovertemplate\":\"Review Number: %{x} \\u003cbr\\u003e Stars: %{y}\",\"legendgroup\":\"Sweden\",\"marker\":{\"color\":\"#EF553B\",\"symbol\":\"circle\"},\"mode\":\"markers\",\"name\":\"Sweden\",\"showlegend\":true,\"x\":[1554,1517,1487],\"xaxis\":\"x\",\"y\":[3.0,3.5,3.25],\"yaxis\":\"y\",\"type\":\"scattergl\",\"visible\":\"legendonly\"},{\"hovertemplate\":\"Review Number: %{x} \\u003cbr\\u003e Stars: %{y}\",\"legendgroup\":\"Colombia\",\"marker\":{\"color\":\"#00cc96\",\"symbol\":\"circle\"},\"mode\":\"markers\",\"name\":\"Colombia\",\"showlegend\":true,\"x\":[1429,1292,1249,1233,1204,1186],\"xaxis\":\"x\",\"y\":[3.5,3.0,2.75,3.25,3.5,3.75],\"yaxis\":\"y\",\"type\":\"scattergl\",\"visible\":\"legendonly\"},{\"hovertemplate\":\"Review Number: %{x} \\u003cbr\\u003e Stars: %{y}\",\"legendgroup\":\"Estonia\",\"marker\":{\"color\":\"#ab63fa\",\"symbol\":\"circle\"},\"mode\":\"markers\",\"name\":\"Estonia\",\"showlegend\":true,\"x\":[1100,1099],\"xaxis\":\"x\",\"y\":[3.75,3.25],\"yaxis\":\"y\",\"type\":\"scattergl\",\"visible\":\"legendonly\"},{\"hovertemplate\":\"Review Number: %{x} \\u003cbr\\u003e Stars: %{y}\",\"legendgroup\":\"United Arab Emirates\",\"marker\":{\"color\":\"#FFA15A\",\"symbol\":\"circle\"},\"mode\":\"markers\",\"name\":\"United Arab Emirates\",\"showlegend\":true,\"x\":[797,742,720],\"xaxis\":\"x\",\"y\":[3.75,3.25,3.75],\"yaxis\":\"y\",\"type\":\"scattergl\",\"visible\":\"legendonly\"}],                        {\"template\":{\"data\":{\"histogram2dcontour\":[{\"type\":\"histogram2dcontour\",\"colorbar\":{\"outlinewidth\":0,\"ticks\":\"\"},\"colorscale\":[[0.0,\"#0d0887\"],[0.1111111111111111,\"#46039f\"],[0.2222222222222222,\"#7201a8\"],[0.3333333333333333,\"#9c179e\"],[0.4444444444444444,\"#bd3786\"],[0.5555555555555556,\"#d8576b\"],[0.6666666666666666,\"#ed7953\"],[0.7777777777777778,\"#fb9f3a\"],[0.8888888888888888,\"#fdca26\"],[1.0,\"#f0f921\"]]}],\"choropleth\":[{\"type\":\"choropleth\",\"colorbar\":{\"outlinewidth\":0,\"ticks\":\"\"}}],\"histogram2d\":[{\"type\":\"histogram2d\",\"colorbar\":{\"outlinewidth\":0,\"ticks\":\"\"},\"colorscale\":[[0.0,\"#0d0887\"],[0.1111111111111111,\"#46039f\"],[0.2222222222222222,\"#7201a8\"],[0.3333333333333333,\"#9c179e\"],[0.4444444444444444,\"#bd3786\"],[0.5555555555555556,\"#d8576b\"],[0.6666666666666666,\"#ed7953\"],[0.7777777777777778,\"#fb9f3a\"],[0.8888888888888888,\"#fdca26\"],[1.0,\"#f0f921\"]]}],\"heatmap\":[{\"type\":\"heatmap\",\"colorbar\":{\"outlinewidth\":0,\"ticks\":\"\"},\"colorscale\":[[0.0,\"#0d0887\"],[0.1111111111111111,\"#46039f\"],[0.2222222222222222,\"#7201a8\"],[0.3333333333333333,\"#9c179e\"],[0.4444444444444444,\"#bd3786\"],[0.5555555555555556,\"#d8576b\"],[0.6666666666666666,\"#ed7953\"],[0.7777777777777778,\"#fb9f3a\"],[0.8888888888888888,\"#fdca26\"],[1.0,\"#f0f921\"]]}],\"heatmapgl\":[{\"type\":\"heatmapgl\",\"colorbar\":{\"outlinewidth\":0,\"ticks\":\"\"},\"colorscale\":[[0.0,\"#0d0887\"],[0.1111111111111111,\"#46039f\"],[0.2222222222222222,\"#7201a8\"],[0.3333333333333333,\"#9c179e\"],[0.4444444444444444,\"#bd3786\"],[0.5555555555555556,\"#d8576b\"],[0.6666666666666666,\"#ed7953\"],[0.7777777777777778,\"#fb9f3a\"],[0.8888888888888888,\"#fdca26\"],[1.0,\"#f0f921\"]]}],\"contourcarpet\":[{\"type\":\"contourcarpet\",\"colorbar\":{\"outlinewidth\":0,\"ticks\":\"\"}}],\"contour\":[{\"type\":\"contour\",\"colorbar\":{\"outlinewidth\":0,\"ticks\":\"\"},\"colorscale\":[[0.0,\"#0d0887\"],[0.1111111111111111,\"#46039f\"],[0.2222222222222222,\"#7201a8\"],[0.3333333333333333,\"#9c179e\"],[0.4444444444444444,\"#bd3786\"],[0.5555555555555556,\"#d8576b\"],[0.6666666666666666,\"#ed7953\"],[0.7777777777777778,\"#fb9f3a\"],[0.8888888888888888,\"#fdca26\"],[1.0,\"#f0f921\"]]}],\"surface\":[{\"type\":\"surface\",\"colorbar\":{\"outlinewidth\":0,\"ticks\":\"\"},\"colorscale\":[[0.0,\"#0d0887\"],[0.1111111111111111,\"#46039f\"],[0.2222222222222222,\"#7201a8\"],[0.3333333333333333,\"#9c179e\"],[0.4444444444444444,\"#bd3786\"],[0.5555555555555556,\"#d8576b\"],[0.6666666666666666,\"#ed7953\"],[0.7777777777777778,\"#fb9f3a\"],[0.8888888888888888,\"#fdca26\"],[1.0,\"#f0f921\"]]}],\"mesh3d\":[{\"type\":\"mesh3d\",\"colorbar\":{\"outlinewidth\":0,\"ticks\":\"\"}}],\"scatter\":[{\"fillpattern\":{\"fillmode\":\"overlay\",\"size\":10,\"solidity\":0.2},\"type\":\"scatter\"}],\"parcoords\":[{\"type\":\"parcoords\",\"line\":{\"colorbar\":{\"outlinewidth\":0,\"ticks\":\"\"}}}],\"scatterpolargl\":[{\"type\":\"scatterpolargl\",\"marker\":{\"colorbar\":{\"outlinewidth\":0,\"ticks\":\"\"}}}],\"bar\":[{\"error_x\":{\"color\":\"#2a3f5f\"},\"error_y\":{\"color\":\"#2a3f5f\"},\"marker\":{\"line\":{\"color\":\"#E5ECF6\",\"width\":0.5},\"pattern\":{\"fillmode\":\"overlay\",\"size\":10,\"solidity\":0.2}},\"type\":\"bar\"}],\"scattergeo\":[{\"type\":\"scattergeo\",\"marker\":{\"colorbar\":{\"outlinewidth\":0,\"ticks\":\"\"}}}],\"scatterpolar\":[{\"type\":\"scatterpolar\",\"marker\":{\"colorbar\":{\"outlinewidth\":0,\"ticks\":\"\"}}}],\"histogram\":[{\"marker\":{\"pattern\":{\"fillmode\":\"overlay\",\"size\":10,\"solidity\":0.2}},\"type\":\"histogram\"}],\"scattergl\":[{\"type\":\"scattergl\",\"marker\":{\"colorbar\":{\"outlinewidth\":0,\"ticks\":\"\"}}}],\"scatter3d\":[{\"type\":\"scatter3d\",\"line\":{\"colorbar\":{\"outlinewidth\":0,\"ticks\":\"\"}},\"marker\":{\"colorbar\":{\"outlinewidth\":0,\"ticks\":\"\"}}}],\"scattermapbox\":[{\"type\":\"scattermapbox\",\"marker\":{\"colorbar\":{\"outlinewidth\":0,\"ticks\":\"\"}}}],\"scatterternary\":[{\"type\":\"scatterternary\",\"marker\":{\"colorbar\":{\"outlinewidth\":0,\"ticks\":\"\"}}}],\"scattercarpet\":[{\"type\":\"scattercarpet\",\"marker\":{\"colorbar\":{\"outlinewidth\":0,\"ticks\":\"\"}}}],\"carpet\":[{\"aaxis\":{\"endlinecolor\":\"#2a3f5f\",\"gridcolor\":\"white\",\"linecolor\":\"white\",\"minorgridcolor\":\"white\",\"startlinecolor\":\"#2a3f5f\"},\"baxis\":{\"endlinecolor\":\"#2a3f5f\",\"gridcolor\":\"white\",\"linecolor\":\"white\",\"minorgridcolor\":\"white\",\"startlinecolor\":\"#2a3f5f\"},\"type\":\"carpet\"}],\"table\":[{\"cells\":{\"fill\":{\"color\":\"#EBF0F8\"},\"line\":{\"color\":\"white\"}},\"header\":{\"fill\":{\"color\":\"#C8D4E3\"},\"line\":{\"color\":\"white\"}},\"type\":\"table\"}],\"barpolar\":[{\"marker\":{\"line\":{\"color\":\"#E5ECF6\",\"width\":0.5},\"pattern\":{\"fillmode\":\"overlay\",\"size\":10,\"solidity\":0.2}},\"type\":\"barpolar\"}],\"pie\":[{\"automargin\":true,\"type\":\"pie\"}]},\"layout\":{\"autotypenumbers\":\"strict\",\"colorway\":[\"#636efa\",\"#EF553B\",\"#00cc96\",\"#ab63fa\",\"#FFA15A\",\"#19d3f3\",\"#FF6692\",\"#B6E880\",\"#FF97FF\",\"#FECB52\"],\"font\":{\"color\":\"#2a3f5f\"},\"hovermode\":\"closest\",\"hoverlabel\":{\"align\":\"left\"},\"paper_bgcolor\":\"white\",\"plot_bgcolor\":\"#E5ECF6\",\"polar\":{\"bgcolor\":\"#E5ECF6\",\"angularaxis\":{\"gridcolor\":\"white\",\"linecolor\":\"white\",\"ticks\":\"\"},\"radialaxis\":{\"gridcolor\":\"white\",\"linecolor\":\"white\",\"ticks\":\"\"}},\"ternary\":{\"bgcolor\":\"#E5ECF6\",\"aaxis\":{\"gridcolor\":\"white\",\"linecolor\":\"white\",\"ticks\":\"\"},\"baxis\":{\"gridcolor\":\"white\",\"linecolor\":\"white\",\"ticks\":\"\"},\"caxis\":{\"gridcolor\":\"white\",\"linecolor\":\"white\",\"ticks\":\"\"}},\"coloraxis\":{\"colorbar\":{\"outlinewidth\":0,\"ticks\":\"\"}},\"colorscale\":{\"sequential\":[[0.0,\"#0d0887\"],[0.1111111111111111,\"#46039f\"],[0.2222222222222222,\"#7201a8\"],[0.3333333333333333,\"#9c179e\"],[0.4444444444444444,\"#bd3786\"],[0.5555555555555556,\"#d8576b\"],[0.6666666666666666,\"#ed7953\"],[0.7777777777777778,\"#fb9f3a\"],[0.8888888888888888,\"#fdca26\"],[1.0,\"#f0f921\"]],\"sequentialminus\":[[0.0,\"#0d0887\"],[0.1111111111111111,\"#46039f\"],[0.2222222222222222,\"#7201a8\"],[0.3333333333333333,\"#9c179e\"],[0.4444444444444444,\"#bd3786\"],[0.5555555555555556,\"#d8576b\"],[0.6666666666666666,\"#ed7953\"],[0.7777777777777778,\"#fb9f3a\"],[0.8888888888888888,\"#fdca26\"],[1.0,\"#f0f921\"]],\"diverging\":[[0,\"#8e0152\"],[0.1,\"#c51b7d\"],[0.2,\"#de77ae\"],[0.3,\"#f1b6da\"],[0.4,\"#fde0ef\"],[0.5,\"#f7f7f7\"],[0.6,\"#e6f5d0\"],[0.7,\"#b8e186\"],[0.8,\"#7fbc41\"],[0.9,\"#4d9221\"],[1,\"#276419\"]]},\"xaxis\":{\"gridcolor\":\"white\",\"linecolor\":\"white\",\"ticks\":\"\",\"title\":{\"standoff\":15},\"zerolinecolor\":\"white\",\"automargin\":true,\"zerolinewidth\":2},\"yaxis\":{\"gridcolor\":\"white\",\"linecolor\":\"white\",\"ticks\":\"\",\"title\":{\"standoff\":15},\"zerolinecolor\":\"white\",\"automargin\":true,\"zerolinewidth\":2},\"scene\":{\"xaxis\":{\"backgroundcolor\":\"#E5ECF6\",\"gridcolor\":\"white\",\"linecolor\":\"white\",\"showbackground\":true,\"ticks\":\"\",\"zerolinecolor\":\"white\",\"gridwidth\":2},\"yaxis\":{\"backgroundcolor\":\"#E5ECF6\",\"gridcolor\":\"white\",\"linecolor\":\"white\",\"showbackground\":true,\"ticks\":\"\",\"zerolinecolor\":\"white\",\"gridwidth\":2},\"zaxis\":{\"backgroundcolor\":\"#E5ECF6\",\"gridcolor\":\"white\",\"linecolor\":\"white\",\"showbackground\":true,\"ticks\":\"\",\"zerolinecolor\":\"white\",\"gridwidth\":2}},\"shapedefaults\":{\"line\":{\"color\":\"#2a3f5f\"}},\"annotationdefaults\":{\"arrowcolor\":\"#2a3f5f\",\"arrowhead\":0,\"arrowwidth\":1},\"geo\":{\"bgcolor\":\"white\",\"landcolor\":\"#E5ECF6\",\"subunitcolor\":\"white\",\"showland\":true,\"showlakes\":true,\"lakecolor\":\"white\"},\"title\":{\"x\":0.05},\"mapbox\":{\"style\":\"light\"}}},\"xaxis\":{\"anchor\":\"y\",\"domain\":[0.0,1.0],\"title\":{\"text\":\"Review Number\"}},\"yaxis\":{\"anchor\":\"x\",\"domain\":[0.0,1.0],\"title\":{\"text\":\"Stars\"},\"range\":[-0.2,5.2]},\"legend\":{\"title\":{\"text\":\"Country\"},\"tracegroupgap\":0},\"title\":{\"text\":\"Stars vs Time per Country\"}},                        {\"responsive\": true}                    ).then(function(){\n",
       "                            \n",
       "var gd = document.getElementById('7e14cfb0-d1b4-49d3-87cf-7c11d11be0ed');\n",
       "var x = new MutationObserver(function (mutations, observer) {{\n",
       "        var display = window.getComputedStyle(gd).display;\n",
       "        if (!display || display === 'none') {{\n",
       "            console.log([gd, 'removed!']);\n",
       "            Plotly.purge(gd);\n",
       "            observer.disconnect();\n",
       "        }}\n",
       "}});\n",
       "\n",
       "// Listen for the removal of the full notebook cells\n",
       "var notebookContainer = gd.closest('#notebook-container');\n",
       "if (notebookContainer) {{\n",
       "    x.observe(notebookContainer, {childList: true});\n",
       "}}\n",
       "\n",
       "// Listen for the clearing of the current output cell\n",
       "var outputEl = gd.closest('.output');\n",
       "if (outputEl) {{\n",
       "    x.observe(outputEl, {childList: true});\n",
       "}}\n",
       "\n",
       "                        })                };                });            </script>        </div>"
      ]
     },
     "metadata": {},
     "output_type": "display_data"
    }
   ],
   "source": [
    "# Scatter Plot\n",
    "fig = px.scatter(df, x='Review #', y='Stars', color='Country',\n",
    "                 title='Stars vs Time per Country',\n",
    "                 labels={'Stars': 'Stars', 'Review #': 'Review Number'})\n",
    "\n",
    "# Update hover template for all traces\n",
    "fig.update_traces(hovertemplate= 'Review Number: %{x} <br> Stars: %{y}')\n",
    "\n",
    "# Hide all styles except 'Pack'\n",
    "fig.for_each_trace(lambda trace: trace.update(visible='legendonly') if trace.name != 'United States of America' else trace.update(visible=True))\n",
    "\n",
    "# Lock the y-axis range\n",
    "fig.update_layout(yaxis=dict(range=[df['Stars'].min() - 0.2, df['Stars'].max() + 0.2]))\n",
    "\n",
    "fig.show()"
   ]
  },
  {
   "cell_type": "markdown",
   "id": "8bffa37a",
   "metadata": {
    "papermill": {
     "duration": 0.027689,
     "end_time": "2024-07-20T15:59:24.912572",
     "exception": false,
     "start_time": "2024-07-20T15:59:24.884883",
     "status": "completed"
    },
    "tags": []
   },
   "source": [
    "<p style=\"font-size:18px;\"> Although this is interesting to see, it is hard to see if there is any correlation between reviews over time by country. To help simplify this I have decided to create a correlation dataframe which calculates the correlation between time (review number) and stars by each country such that each country has an easy to understand correlation number. From this dataframe I am then able to visualise this data using a barchart."
   ]
  },
  {
   "cell_type": "code",
   "execution_count": 27,
   "id": "b5824048",
   "metadata": {
    "execution": {
     "iopub.execute_input": "2024-07-20T15:59:24.969182Z",
     "iopub.status.busy": "2024-07-20T15:59:24.968745Z",
     "iopub.status.idle": "2024-07-20T15:59:25.138431Z",
     "shell.execute_reply": "2024-07-20T15:59:25.137026Z"
    },
    "papermill": {
     "duration": 0.201508,
     "end_time": "2024-07-20T15:59:25.141194",
     "exception": false,
     "start_time": "2024-07-20T15:59:24.939686",
     "status": "completed"
    },
    "tags": []
   },
   "outputs": [
    {
     "name": "stdout",
     "output_type": "stream",
     "text": [
      "       Country  Correlation\n",
      "0       Russia        0.765\n",
      "1        India        0.495\n",
      "2     Thailand        0.482\n",
      "3  Philippines        0.433\n",
      "4     Pakistan        0.393\n",
      "----------------------------\n"
     ]
    },
    {
     "data": {
      "text/html": [
       "<div>                            <div id=\"1cc98d82-6b16-4471-86f3-5a81a979e19d\" class=\"plotly-graph-div\" style=\"height:525px; width:100%;\"></div>            <script type=\"text/javascript\">                require([\"plotly\"], function(Plotly) {                    window.PLOTLYENV=window.PLOTLYENV || {};                                    if (document.getElementById(\"1cc98d82-6b16-4471-86f3-5a81a979e19d\")) {                    Plotly.newPlot(                        \"1cc98d82-6b16-4471-86f3-5a81a979e19d\",                        [{\"alignmentgroup\":\"True\",\"hovertemplate\":\"Country = \\u003cb\\u003e%{x}\\u003c\\u002fb\\u003e\\u003cbr\\u003eCorrelation = \\u003cb\\u003e%{y}\\u003c\\u002fb\\u003e\",\"legendgroup\":\"\",\"marker\":{\"color\":[0.765,0.495,0.482,0.433,0.393,0.37,0.367,0.346,0.269,0.249,0.226,0.217,0.196,0.143,0.12,0.104,0.071,-0.006,-0.051,-0.068,-0.078,-0.085,-0.104,-0.122,-0.304,-0.33,-0.466,-0.566,-0.895,-0.924],\"coloraxis\":\"coloraxis\",\"pattern\":{\"shape\":\"\"}},\"name\":\"\",\"offsetgroup\":\"\",\"orientation\":\"v\",\"showlegend\":false,\"textposition\":\"auto\",\"x\":[\"Russia\",\"India\",\"Thailand\",\"Philippines\",\"Pakistan\",\"France\",\"Taiwan\",\"Australia\",\"China\",\"South Korea\",\"Serbia\",\"Canada\",\"Malaysia\",\"Indonesia\",\"Vietnam\",\"United States of America\",\"Singapore\",\"United Kingdom\",\"Mexico\",\"Hungary\",\"Colombia\",\"Japan\",\"Germany\",\"Myanmar\",\"Brazil\",\"Netherlands\",\"Cambodia\",\"Bangladesh\",\"Nepal\",\"Poland\"],\"xaxis\":\"x\",\"y\":[0.765,0.495,0.482,0.433,0.393,0.37,0.367,0.346,0.269,0.249,0.226,0.217,0.196,0.143,0.12,0.104,0.071,-0.006,-0.051,-0.068,-0.078,-0.085,-0.104,-0.122,-0.304,-0.33,-0.466,-0.566,-0.895,-0.924],\"yaxis\":\"y\",\"type\":\"bar\"}],                        {\"template\":{\"data\":{\"histogram2dcontour\":[{\"type\":\"histogram2dcontour\",\"colorbar\":{\"outlinewidth\":0,\"ticks\":\"\"},\"colorscale\":[[0.0,\"#0d0887\"],[0.1111111111111111,\"#46039f\"],[0.2222222222222222,\"#7201a8\"],[0.3333333333333333,\"#9c179e\"],[0.4444444444444444,\"#bd3786\"],[0.5555555555555556,\"#d8576b\"],[0.6666666666666666,\"#ed7953\"],[0.7777777777777778,\"#fb9f3a\"],[0.8888888888888888,\"#fdca26\"],[1.0,\"#f0f921\"]]}],\"choropleth\":[{\"type\":\"choropleth\",\"colorbar\":{\"outlinewidth\":0,\"ticks\":\"\"}}],\"histogram2d\":[{\"type\":\"histogram2d\",\"colorbar\":{\"outlinewidth\":0,\"ticks\":\"\"},\"colorscale\":[[0.0,\"#0d0887\"],[0.1111111111111111,\"#46039f\"],[0.2222222222222222,\"#7201a8\"],[0.3333333333333333,\"#9c179e\"],[0.4444444444444444,\"#bd3786\"],[0.5555555555555556,\"#d8576b\"],[0.6666666666666666,\"#ed7953\"],[0.7777777777777778,\"#fb9f3a\"],[0.8888888888888888,\"#fdca26\"],[1.0,\"#f0f921\"]]}],\"heatmap\":[{\"type\":\"heatmap\",\"colorbar\":{\"outlinewidth\":0,\"ticks\":\"\"},\"colorscale\":[[0.0,\"#0d0887\"],[0.1111111111111111,\"#46039f\"],[0.2222222222222222,\"#7201a8\"],[0.3333333333333333,\"#9c179e\"],[0.4444444444444444,\"#bd3786\"],[0.5555555555555556,\"#d8576b\"],[0.6666666666666666,\"#ed7953\"],[0.7777777777777778,\"#fb9f3a\"],[0.8888888888888888,\"#fdca26\"],[1.0,\"#f0f921\"]]}],\"heatmapgl\":[{\"type\":\"heatmapgl\",\"colorbar\":{\"outlinewidth\":0,\"ticks\":\"\"},\"colorscale\":[[0.0,\"#0d0887\"],[0.1111111111111111,\"#46039f\"],[0.2222222222222222,\"#7201a8\"],[0.3333333333333333,\"#9c179e\"],[0.4444444444444444,\"#bd3786\"],[0.5555555555555556,\"#d8576b\"],[0.6666666666666666,\"#ed7953\"],[0.7777777777777778,\"#fb9f3a\"],[0.8888888888888888,\"#fdca26\"],[1.0,\"#f0f921\"]]}],\"contourcarpet\":[{\"type\":\"contourcarpet\",\"colorbar\":{\"outlinewidth\":0,\"ticks\":\"\"}}],\"contour\":[{\"type\":\"contour\",\"colorbar\":{\"outlinewidth\":0,\"ticks\":\"\"},\"colorscale\":[[0.0,\"#0d0887\"],[0.1111111111111111,\"#46039f\"],[0.2222222222222222,\"#7201a8\"],[0.3333333333333333,\"#9c179e\"],[0.4444444444444444,\"#bd3786\"],[0.5555555555555556,\"#d8576b\"],[0.6666666666666666,\"#ed7953\"],[0.7777777777777778,\"#fb9f3a\"],[0.8888888888888888,\"#fdca26\"],[1.0,\"#f0f921\"]]}],\"surface\":[{\"type\":\"surface\",\"colorbar\":{\"outlinewidth\":0,\"ticks\":\"\"},\"colorscale\":[[0.0,\"#0d0887\"],[0.1111111111111111,\"#46039f\"],[0.2222222222222222,\"#7201a8\"],[0.3333333333333333,\"#9c179e\"],[0.4444444444444444,\"#bd3786\"],[0.5555555555555556,\"#d8576b\"],[0.6666666666666666,\"#ed7953\"],[0.7777777777777778,\"#fb9f3a\"],[0.8888888888888888,\"#fdca26\"],[1.0,\"#f0f921\"]]}],\"mesh3d\":[{\"type\":\"mesh3d\",\"colorbar\":{\"outlinewidth\":0,\"ticks\":\"\"}}],\"scatter\":[{\"fillpattern\":{\"fillmode\":\"overlay\",\"size\":10,\"solidity\":0.2},\"type\":\"scatter\"}],\"parcoords\":[{\"type\":\"parcoords\",\"line\":{\"colorbar\":{\"outlinewidth\":0,\"ticks\":\"\"}}}],\"scatterpolargl\":[{\"type\":\"scatterpolargl\",\"marker\":{\"colorbar\":{\"outlinewidth\":0,\"ticks\":\"\"}}}],\"bar\":[{\"error_x\":{\"color\":\"#2a3f5f\"},\"error_y\":{\"color\":\"#2a3f5f\"},\"marker\":{\"line\":{\"color\":\"#E5ECF6\",\"width\":0.5},\"pattern\":{\"fillmode\":\"overlay\",\"size\":10,\"solidity\":0.2}},\"type\":\"bar\"}],\"scattergeo\":[{\"type\":\"scattergeo\",\"marker\":{\"colorbar\":{\"outlinewidth\":0,\"ticks\":\"\"}}}],\"scatterpolar\":[{\"type\":\"scatterpolar\",\"marker\":{\"colorbar\":{\"outlinewidth\":0,\"ticks\":\"\"}}}],\"histogram\":[{\"marker\":{\"pattern\":{\"fillmode\":\"overlay\",\"size\":10,\"solidity\":0.2}},\"type\":\"histogram\"}],\"scattergl\":[{\"type\":\"scattergl\",\"marker\":{\"colorbar\":{\"outlinewidth\":0,\"ticks\":\"\"}}}],\"scatter3d\":[{\"type\":\"scatter3d\",\"line\":{\"colorbar\":{\"outlinewidth\":0,\"ticks\":\"\"}},\"marker\":{\"colorbar\":{\"outlinewidth\":0,\"ticks\":\"\"}}}],\"scattermapbox\":[{\"type\":\"scattermapbox\",\"marker\":{\"colorbar\":{\"outlinewidth\":0,\"ticks\":\"\"}}}],\"scatterternary\":[{\"type\":\"scatterternary\",\"marker\":{\"colorbar\":{\"outlinewidth\":0,\"ticks\":\"\"}}}],\"scattercarpet\":[{\"type\":\"scattercarpet\",\"marker\":{\"colorbar\":{\"outlinewidth\":0,\"ticks\":\"\"}}}],\"carpet\":[{\"aaxis\":{\"endlinecolor\":\"#2a3f5f\",\"gridcolor\":\"white\",\"linecolor\":\"white\",\"minorgridcolor\":\"white\",\"startlinecolor\":\"#2a3f5f\"},\"baxis\":{\"endlinecolor\":\"#2a3f5f\",\"gridcolor\":\"white\",\"linecolor\":\"white\",\"minorgridcolor\":\"white\",\"startlinecolor\":\"#2a3f5f\"},\"type\":\"carpet\"}],\"table\":[{\"cells\":{\"fill\":{\"color\":\"#EBF0F8\"},\"line\":{\"color\":\"white\"}},\"header\":{\"fill\":{\"color\":\"#C8D4E3\"},\"line\":{\"color\":\"white\"}},\"type\":\"table\"}],\"barpolar\":[{\"marker\":{\"line\":{\"color\":\"#E5ECF6\",\"width\":0.5},\"pattern\":{\"fillmode\":\"overlay\",\"size\":10,\"solidity\":0.2}},\"type\":\"barpolar\"}],\"pie\":[{\"automargin\":true,\"type\":\"pie\"}]},\"layout\":{\"autotypenumbers\":\"strict\",\"colorway\":[\"#636efa\",\"#EF553B\",\"#00cc96\",\"#ab63fa\",\"#FFA15A\",\"#19d3f3\",\"#FF6692\",\"#B6E880\",\"#FF97FF\",\"#FECB52\"],\"font\":{\"color\":\"#2a3f5f\"},\"hovermode\":\"closest\",\"hoverlabel\":{\"align\":\"left\"},\"paper_bgcolor\":\"white\",\"plot_bgcolor\":\"#E5ECF6\",\"polar\":{\"bgcolor\":\"#E5ECF6\",\"angularaxis\":{\"gridcolor\":\"white\",\"linecolor\":\"white\",\"ticks\":\"\"},\"radialaxis\":{\"gridcolor\":\"white\",\"linecolor\":\"white\",\"ticks\":\"\"}},\"ternary\":{\"bgcolor\":\"#E5ECF6\",\"aaxis\":{\"gridcolor\":\"white\",\"linecolor\":\"white\",\"ticks\":\"\"},\"baxis\":{\"gridcolor\":\"white\",\"linecolor\":\"white\",\"ticks\":\"\"},\"caxis\":{\"gridcolor\":\"white\",\"linecolor\":\"white\",\"ticks\":\"\"}},\"coloraxis\":{\"colorbar\":{\"outlinewidth\":0,\"ticks\":\"\"}},\"colorscale\":{\"sequential\":[[0.0,\"#0d0887\"],[0.1111111111111111,\"#46039f\"],[0.2222222222222222,\"#7201a8\"],[0.3333333333333333,\"#9c179e\"],[0.4444444444444444,\"#bd3786\"],[0.5555555555555556,\"#d8576b\"],[0.6666666666666666,\"#ed7953\"],[0.7777777777777778,\"#fb9f3a\"],[0.8888888888888888,\"#fdca26\"],[1.0,\"#f0f921\"]],\"sequentialminus\":[[0.0,\"#0d0887\"],[0.1111111111111111,\"#46039f\"],[0.2222222222222222,\"#7201a8\"],[0.3333333333333333,\"#9c179e\"],[0.4444444444444444,\"#bd3786\"],[0.5555555555555556,\"#d8576b\"],[0.6666666666666666,\"#ed7953\"],[0.7777777777777778,\"#fb9f3a\"],[0.8888888888888888,\"#fdca26\"],[1.0,\"#f0f921\"]],\"diverging\":[[0,\"#8e0152\"],[0.1,\"#c51b7d\"],[0.2,\"#de77ae\"],[0.3,\"#f1b6da\"],[0.4,\"#fde0ef\"],[0.5,\"#f7f7f7\"],[0.6,\"#e6f5d0\"],[0.7,\"#b8e186\"],[0.8,\"#7fbc41\"],[0.9,\"#4d9221\"],[1,\"#276419\"]]},\"xaxis\":{\"gridcolor\":\"white\",\"linecolor\":\"white\",\"ticks\":\"\",\"title\":{\"standoff\":15},\"zerolinecolor\":\"white\",\"automargin\":true,\"zerolinewidth\":2},\"yaxis\":{\"gridcolor\":\"white\",\"linecolor\":\"white\",\"ticks\":\"\",\"title\":{\"standoff\":15},\"zerolinecolor\":\"white\",\"automargin\":true,\"zerolinewidth\":2},\"scene\":{\"xaxis\":{\"backgroundcolor\":\"#E5ECF6\",\"gridcolor\":\"white\",\"linecolor\":\"white\",\"showbackground\":true,\"ticks\":\"\",\"zerolinecolor\":\"white\",\"gridwidth\":2},\"yaxis\":{\"backgroundcolor\":\"#E5ECF6\",\"gridcolor\":\"white\",\"linecolor\":\"white\",\"showbackground\":true,\"ticks\":\"\",\"zerolinecolor\":\"white\",\"gridwidth\":2},\"zaxis\":{\"backgroundcolor\":\"#E5ECF6\",\"gridcolor\":\"white\",\"linecolor\":\"white\",\"showbackground\":true,\"ticks\":\"\",\"zerolinecolor\":\"white\",\"gridwidth\":2}},\"shapedefaults\":{\"line\":{\"color\":\"#2a3f5f\"}},\"annotationdefaults\":{\"arrowcolor\":\"#2a3f5f\",\"arrowhead\":0,\"arrowwidth\":1},\"geo\":{\"bgcolor\":\"white\",\"landcolor\":\"#E5ECF6\",\"subunitcolor\":\"white\",\"showland\":true,\"showlakes\":true,\"lakecolor\":\"white\"},\"title\":{\"x\":0.05},\"mapbox\":{\"style\":\"light\"}}},\"xaxis\":{\"anchor\":\"y\",\"domain\":[0.0,1.0],\"title\":{\"text\":\"Country \"}},\"yaxis\":{\"anchor\":\"x\",\"domain\":[0.0,1.0],\"title\":{\"text\":\"Correlation Coefficient \"}},\"coloraxis\":{\"colorbar\":{\"title\":{\"text\":\"Correlation Coefficient \"}},\"colorscale\":[[0.0,\"rgb(12,51,131)\"],[0.25,\"rgb(10,136,186)\"],[0.5,\"rgb(242,211,56)\"],[0.75,\"rgb(242,143,56)\"],[1.0,\"rgb(217,30,30)\"]]},\"legend\":{\"tracegroupgap\":0},\"title\":{\"text\":\"Correlation of Time and Stars by Country\"},\"barmode\":\"relative\"},                        {\"responsive\": true}                    ).then(function(){\n",
       "                            \n",
       "var gd = document.getElementById('1cc98d82-6b16-4471-86f3-5a81a979e19d');\n",
       "var x = new MutationObserver(function (mutations, observer) {{\n",
       "        var display = window.getComputedStyle(gd).display;\n",
       "        if (!display || display === 'none') {{\n",
       "            console.log([gd, 'removed!']);\n",
       "            Plotly.purge(gd);\n",
       "            observer.disconnect();\n",
       "        }}\n",
       "}});\n",
       "\n",
       "// Listen for the removal of the full notebook cells\n",
       "var notebookContainer = gd.closest('#notebook-container');\n",
       "if (notebookContainer) {{\n",
       "    x.observe(notebookContainer, {childList: true});\n",
       "}}\n",
       "\n",
       "// Listen for the clearing of the current output cell\n",
       "var outputEl = gd.closest('.output');\n",
       "if (outputEl) {{\n",
       "    x.observe(outputEl, {childList: true});\n",
       "}}\n",
       "\n",
       "                        })                };                });            </script>        </div>"
      ]
     },
     "metadata": {},
     "output_type": "display_data"
    }
   ],
   "source": [
    "# Correlation Dataframe\n",
    "country_counts = df['Country'].value_counts()\n",
    "filtered_df = df[df['Country'].isin(country_counts[country_counts >= 5].index)]\n",
    "\n",
    "correlation_df = filtered_df.groupby('Country').apply(lambda x: x['Review #'].corr(x['Stars'])).round(3).reset_index()\n",
    "correlation_df.columns = ['Country', 'Correlation']\n",
    "\n",
    "sorted_correlations = correlation_df.sort_values(by='Correlation', ascending=False).reset_index(drop=True)\n",
    "\n",
    "print(sorted_correlations.head())\n",
    "print(\"----------------------------\")\n",
    "\n",
    "# Bar Chart Plot\n",
    "fig = px.bar(sorted_correlations, x='Country', y='Correlation', title='Correlation of Time and Stars by Country',\n",
    "             labels={'Correlation': 'Correlation Coefficient ', 'Country': 'Country '}, color='Correlation',color_continuous_scale='portland')\n",
    "\n",
    "fig.update_traces(hovertemplate='Country = <b>%{x}</b><br>Correlation = <b>%{y}</b>')\n",
    "\n",
    "\n",
    "fig.show()"
   ]
  },
  {
   "cell_type": "markdown",
   "id": "8da58a1d",
   "metadata": {
    "papermill": {
     "duration": 0.028196,
     "end_time": "2024-07-20T15:59:25.197763",
     "exception": false,
     "start_time": "2024-07-20T15:59:25.169567",
     "status": "completed"
    },
    "tags": []
   },
   "source": [
    "<p style=\"font-size:18px;\"> Wow this is great to see! This suggests that Russia, India and Thailand have shown the greatest ramen improvement over time. On the other hand Poland, Nepal and Bangladesh have shown the greatest deterioration.\n",
    "    \n",
    "<p style=\"font-size:18px;\"> Moving on I wanted to explore how different brands may impact a review. I created a dataframe which calculates the number of reviews by brand and the average stars per brand. Please see below."
   ]
  },
  {
   "cell_type": "code",
   "execution_count": 28,
   "id": "f74c4321",
   "metadata": {
    "execution": {
     "iopub.execute_input": "2024-07-20T15:59:25.254693Z",
     "iopub.status.busy": "2024-07-20T15:59:25.254267Z",
     "iopub.status.idle": "2024-07-20T15:59:25.278663Z",
     "shell.execute_reply": "2024-07-20T15:59:25.277135Z"
    },
    "papermill": {
     "duration": 0.056316,
     "end_time": "2024-07-20T15:59:25.281559",
     "exception": false,
     "start_time": "2024-07-20T15:59:25.225243",
     "status": "completed"
    },
    "tags": []
   },
   "outputs": [
    {
     "data": {
      "text/html": [
       "<div>\n",
       "<style scoped>\n",
       "    .dataframe tbody tr th:only-of-type {\n",
       "        vertical-align: middle;\n",
       "    }\n",
       "\n",
       "    .dataframe tbody tr th {\n",
       "        vertical-align: top;\n",
       "    }\n",
       "\n",
       "    .dataframe thead th {\n",
       "        text-align: right;\n",
       "    }\n",
       "</style>\n",
       "<table border=\"1\" class=\"dataframe\">\n",
       "  <thead>\n",
       "    <tr style=\"text-align: right;\">\n",
       "      <th></th>\n",
       "      <th>Brand</th>\n",
       "      <th>Review_Count</th>\n",
       "      <th>Avg_Stars</th>\n",
       "    </tr>\n",
       "  </thead>\n",
       "  <tbody>\n",
       "    <tr>\n",
       "      <th>398</th>\n",
       "      <td>Nissin</td>\n",
       "      <td>566</td>\n",
       "      <td>3.86</td>\n",
       "    </tr>\n",
       "    <tr>\n",
       "      <th>328</th>\n",
       "      <td>Maruchan</td>\n",
       "      <td>182</td>\n",
       "      <td>3.66</td>\n",
       "    </tr>\n",
       "    <tr>\n",
       "      <th>374</th>\n",
       "      <td>Myojo</td>\n",
       "      <td>152</td>\n",
       "      <td>3.93</td>\n",
       "    </tr>\n",
       "  </tbody>\n",
       "</table>\n",
       "</div>"
      ],
      "text/plain": [
       "        Brand  Review_Count  Avg_Stars\n",
       "398    Nissin           566       3.86\n",
       "328  Maruchan           182       3.66\n",
       "374     Myojo           152       3.93"
      ]
     },
     "execution_count": 28,
     "metadata": {},
     "output_type": "execute_result"
    }
   ],
   "source": [
    "Brand_df = df.groupby('Brand').agg(Review_Count=('Brand', 'size'),\n",
    "            Avg_Stars=('Stars', 'mean')).round(2).reset_index()\n",
    "\n",
    "Brand_df = Brand_df.sort_values(by='Review_Count', ascending=False)\n",
    "\n",
    "Brand_df.head(3)"
   ]
  },
  {
   "cell_type": "markdown",
   "id": "d5b9113a",
   "metadata": {
    "papermill": {
     "duration": 0.028705,
     "end_time": "2024-07-20T15:59:25.339664",
     "exception": false,
     "start_time": "2024-07-20T15:59:25.310959",
     "status": "completed"
    },
    "tags": []
   },
   "source": [
    "<p style=\"font-size:18px;\"> With my newly created datafame I wanted to visualise this data so I decided to plot the data on a bar chart with the X axis representing the number of reviews and the colour of each bar representing the average reviews."
   ]
  },
  {
   "cell_type": "code",
   "execution_count": 29,
   "id": "08c3c48e",
   "metadata": {
    "execution": {
     "iopub.execute_input": "2024-07-20T15:59:25.398557Z",
     "iopub.status.busy": "2024-07-20T15:59:25.398143Z",
     "iopub.status.idle": "2024-07-20T15:59:25.485743Z",
     "shell.execute_reply": "2024-07-20T15:59:25.484551Z"
    },
    "papermill": {
     "duration": 0.119785,
     "end_time": "2024-07-20T15:59:25.488323",
     "exception": false,
     "start_time": "2024-07-20T15:59:25.368538",
     "status": "completed"
    },
    "tags": []
   },
   "outputs": [
    {
     "data": {
      "text/html": [
       "<div>                            <div id=\"ec3c4cf0-9241-410c-b28c-f4d2be59f03b\" class=\"plotly-graph-div\" style=\"height:525px; width:100%;\"></div>            <script type=\"text/javascript\">                require([\"plotly\"], function(Plotly) {                    window.PLOTLYENV=window.PLOTLYENV || {};                                    if (document.getElementById(\"ec3c4cf0-9241-410c-b28c-f4d2be59f03b\")) {                    Plotly.newPlot(                        \"ec3c4cf0-9241-410c-b28c-f4d2be59f03b\",                        [{\"alignmentgroup\":\"True\",\"customdata\":[[3.86],[3.66],[3.93],[4.03],[4.13],[3.67],[4.05],[3.23],[3.62],[4.07],[3.56],[4.07],[4.89],[4.01],[3.02],[3.62],[3.96],[3.93],[3.31],[3.54],[3.29],[2.84],[3.91],[3.73],[3.87],[4.2],[3.77],[3.52],[4.44],[4.08],[4.1],[4.34],[3.51],[3.67],[4.02],[3.88],[4.73],[4.19],[3.49],[3.34],[4.0],[3.62],[3.75],[2.59],[3.57],[4.2],[1.89],[2.92],[4.12],[3.5]],\"hovertemplate\":\"\\u003cb\\u003e%{x}\\u003c\\u002fb\\u003e\\u003cbr\\u003eNumber of Reviews: %{y}\\u003cbr\\u003eAverage Stars: %{customdata:.2f}\",\"legendgroup\":\"\",\"marker\":{\"color\":[3.86,3.66,3.93,4.03,4.13,3.67,4.05,3.23,3.62,4.07,3.56,4.07,4.89,4.01,3.02,3.62,3.96,3.93,3.31,3.54,3.29,2.84,3.91,3.73,3.87,4.2,3.77,3.52,4.44,4.08,4.1,4.34,3.51,3.67,4.02,3.88,4.73,4.19,3.49,3.34,4.0,3.62,3.75,2.59,3.57,4.2,1.89,2.92,4.12,3.5],\"coloraxis\":\"coloraxis\",\"pattern\":{\"shape\":\"\"}},\"name\":\"\",\"offsetgroup\":\"\",\"orientation\":\"v\",\"showlegend\":false,\"textposition\":\"auto\",\"x\":[\"Nissin\",\"Maruchan\",\"Myojo\",\"Nongshim\",\"Samyang Foods\",\"Sapporo Ichiban\",\"Paldo\",\"Acecook\",\"Mama\",\"Indomie\",\"Ottogi\",\"Sau Tao\",\"MyKuali\",\"MAMA\",\"Vifon\",\"Maggi\",\"KOKA\",\"Mamee\",\"Lucky Me!\",\"Vina Acecook\",\"Ve Wong\",\"Wai Wai\",\"JML\",\"Wei Lih\",\"Master Kong\",\"Itsuki\",\"Sichuan Baijia\",\"Vedan\",\"A-Sha\",\"A-Sha Dry Noodle\",\"Wu-Mu\",\"Vite Ramen\",\"Doll\",\"Menraku\",\"New Touch\",\"Yum Yum\",\"Mom's Dry Noodle\",\"Marutai\",\"Itomen\",\"Samyang\",\"Uni-President\",\"Daikoku\",\"Koka\",\"Annie Chun's\",\"Little Cook\",\"Mi Sedaap\",\"Mr. Noodles\",\"Batchelors\",\"Sakurai Foods\",\"Kamfen\"],\"xaxis\":\"x\",\"y\":[566,182,152,136,121,103,97,91,71,68,59,49,42,41,40,40,39,38,35,34,34,31,29,29,29,29,28,28,27,26,26,25,24,24,24,23,22,20,19,19,19,18,18,17,17,16,16,16,15,15],\"yaxis\":\"y\",\"type\":\"bar\"}],                        {\"template\":{\"data\":{\"histogram2dcontour\":[{\"type\":\"histogram2dcontour\",\"colorbar\":{\"outlinewidth\":0,\"ticks\":\"\"},\"colorscale\":[[0.0,\"#0d0887\"],[0.1111111111111111,\"#46039f\"],[0.2222222222222222,\"#7201a8\"],[0.3333333333333333,\"#9c179e\"],[0.4444444444444444,\"#bd3786\"],[0.5555555555555556,\"#d8576b\"],[0.6666666666666666,\"#ed7953\"],[0.7777777777777778,\"#fb9f3a\"],[0.8888888888888888,\"#fdca26\"],[1.0,\"#f0f921\"]]}],\"choropleth\":[{\"type\":\"choropleth\",\"colorbar\":{\"outlinewidth\":0,\"ticks\":\"\"}}],\"histogram2d\":[{\"type\":\"histogram2d\",\"colorbar\":{\"outlinewidth\":0,\"ticks\":\"\"},\"colorscale\":[[0.0,\"#0d0887\"],[0.1111111111111111,\"#46039f\"],[0.2222222222222222,\"#7201a8\"],[0.3333333333333333,\"#9c179e\"],[0.4444444444444444,\"#bd3786\"],[0.5555555555555556,\"#d8576b\"],[0.6666666666666666,\"#ed7953\"],[0.7777777777777778,\"#fb9f3a\"],[0.8888888888888888,\"#fdca26\"],[1.0,\"#f0f921\"]]}],\"heatmap\":[{\"type\":\"heatmap\",\"colorbar\":{\"outlinewidth\":0,\"ticks\":\"\"},\"colorscale\":[[0.0,\"#0d0887\"],[0.1111111111111111,\"#46039f\"],[0.2222222222222222,\"#7201a8\"],[0.3333333333333333,\"#9c179e\"],[0.4444444444444444,\"#bd3786\"],[0.5555555555555556,\"#d8576b\"],[0.6666666666666666,\"#ed7953\"],[0.7777777777777778,\"#fb9f3a\"],[0.8888888888888888,\"#fdca26\"],[1.0,\"#f0f921\"]]}],\"heatmapgl\":[{\"type\":\"heatmapgl\",\"colorbar\":{\"outlinewidth\":0,\"ticks\":\"\"},\"colorscale\":[[0.0,\"#0d0887\"],[0.1111111111111111,\"#46039f\"],[0.2222222222222222,\"#7201a8\"],[0.3333333333333333,\"#9c179e\"],[0.4444444444444444,\"#bd3786\"],[0.5555555555555556,\"#d8576b\"],[0.6666666666666666,\"#ed7953\"],[0.7777777777777778,\"#fb9f3a\"],[0.8888888888888888,\"#fdca26\"],[1.0,\"#f0f921\"]]}],\"contourcarpet\":[{\"type\":\"contourcarpet\",\"colorbar\":{\"outlinewidth\":0,\"ticks\":\"\"}}],\"contour\":[{\"type\":\"contour\",\"colorbar\":{\"outlinewidth\":0,\"ticks\":\"\"},\"colorscale\":[[0.0,\"#0d0887\"],[0.1111111111111111,\"#46039f\"],[0.2222222222222222,\"#7201a8\"],[0.3333333333333333,\"#9c179e\"],[0.4444444444444444,\"#bd3786\"],[0.5555555555555556,\"#d8576b\"],[0.6666666666666666,\"#ed7953\"],[0.7777777777777778,\"#fb9f3a\"],[0.8888888888888888,\"#fdca26\"],[1.0,\"#f0f921\"]]}],\"surface\":[{\"type\":\"surface\",\"colorbar\":{\"outlinewidth\":0,\"ticks\":\"\"},\"colorscale\":[[0.0,\"#0d0887\"],[0.1111111111111111,\"#46039f\"],[0.2222222222222222,\"#7201a8\"],[0.3333333333333333,\"#9c179e\"],[0.4444444444444444,\"#bd3786\"],[0.5555555555555556,\"#d8576b\"],[0.6666666666666666,\"#ed7953\"],[0.7777777777777778,\"#fb9f3a\"],[0.8888888888888888,\"#fdca26\"],[1.0,\"#f0f921\"]]}],\"mesh3d\":[{\"type\":\"mesh3d\",\"colorbar\":{\"outlinewidth\":0,\"ticks\":\"\"}}],\"scatter\":[{\"fillpattern\":{\"fillmode\":\"overlay\",\"size\":10,\"solidity\":0.2},\"type\":\"scatter\"}],\"parcoords\":[{\"type\":\"parcoords\",\"line\":{\"colorbar\":{\"outlinewidth\":0,\"ticks\":\"\"}}}],\"scatterpolargl\":[{\"type\":\"scatterpolargl\",\"marker\":{\"colorbar\":{\"outlinewidth\":0,\"ticks\":\"\"}}}],\"bar\":[{\"error_x\":{\"color\":\"#2a3f5f\"},\"error_y\":{\"color\":\"#2a3f5f\"},\"marker\":{\"line\":{\"color\":\"#E5ECF6\",\"width\":0.5},\"pattern\":{\"fillmode\":\"overlay\",\"size\":10,\"solidity\":0.2}},\"type\":\"bar\"}],\"scattergeo\":[{\"type\":\"scattergeo\",\"marker\":{\"colorbar\":{\"outlinewidth\":0,\"ticks\":\"\"}}}],\"scatterpolar\":[{\"type\":\"scatterpolar\",\"marker\":{\"colorbar\":{\"outlinewidth\":0,\"ticks\":\"\"}}}],\"histogram\":[{\"marker\":{\"pattern\":{\"fillmode\":\"overlay\",\"size\":10,\"solidity\":0.2}},\"type\":\"histogram\"}],\"scattergl\":[{\"type\":\"scattergl\",\"marker\":{\"colorbar\":{\"outlinewidth\":0,\"ticks\":\"\"}}}],\"scatter3d\":[{\"type\":\"scatter3d\",\"line\":{\"colorbar\":{\"outlinewidth\":0,\"ticks\":\"\"}},\"marker\":{\"colorbar\":{\"outlinewidth\":0,\"ticks\":\"\"}}}],\"scattermapbox\":[{\"type\":\"scattermapbox\",\"marker\":{\"colorbar\":{\"outlinewidth\":0,\"ticks\":\"\"}}}],\"scatterternary\":[{\"type\":\"scatterternary\",\"marker\":{\"colorbar\":{\"outlinewidth\":0,\"ticks\":\"\"}}}],\"scattercarpet\":[{\"type\":\"scattercarpet\",\"marker\":{\"colorbar\":{\"outlinewidth\":0,\"ticks\":\"\"}}}],\"carpet\":[{\"aaxis\":{\"endlinecolor\":\"#2a3f5f\",\"gridcolor\":\"white\",\"linecolor\":\"white\",\"minorgridcolor\":\"white\",\"startlinecolor\":\"#2a3f5f\"},\"baxis\":{\"endlinecolor\":\"#2a3f5f\",\"gridcolor\":\"white\",\"linecolor\":\"white\",\"minorgridcolor\":\"white\",\"startlinecolor\":\"#2a3f5f\"},\"type\":\"carpet\"}],\"table\":[{\"cells\":{\"fill\":{\"color\":\"#EBF0F8\"},\"line\":{\"color\":\"white\"}},\"header\":{\"fill\":{\"color\":\"#C8D4E3\"},\"line\":{\"color\":\"white\"}},\"type\":\"table\"}],\"barpolar\":[{\"marker\":{\"line\":{\"color\":\"#E5ECF6\",\"width\":0.5},\"pattern\":{\"fillmode\":\"overlay\",\"size\":10,\"solidity\":0.2}},\"type\":\"barpolar\"}],\"pie\":[{\"automargin\":true,\"type\":\"pie\"}]},\"layout\":{\"autotypenumbers\":\"strict\",\"colorway\":[\"#636efa\",\"#EF553B\",\"#00cc96\",\"#ab63fa\",\"#FFA15A\",\"#19d3f3\",\"#FF6692\",\"#B6E880\",\"#FF97FF\",\"#FECB52\"],\"font\":{\"color\":\"#2a3f5f\"},\"hovermode\":\"closest\",\"hoverlabel\":{\"align\":\"left\"},\"paper_bgcolor\":\"white\",\"plot_bgcolor\":\"#E5ECF6\",\"polar\":{\"bgcolor\":\"#E5ECF6\",\"angularaxis\":{\"gridcolor\":\"white\",\"linecolor\":\"white\",\"ticks\":\"\"},\"radialaxis\":{\"gridcolor\":\"white\",\"linecolor\":\"white\",\"ticks\":\"\"}},\"ternary\":{\"bgcolor\":\"#E5ECF6\",\"aaxis\":{\"gridcolor\":\"white\",\"linecolor\":\"white\",\"ticks\":\"\"},\"baxis\":{\"gridcolor\":\"white\",\"linecolor\":\"white\",\"ticks\":\"\"},\"caxis\":{\"gridcolor\":\"white\",\"linecolor\":\"white\",\"ticks\":\"\"}},\"coloraxis\":{\"colorbar\":{\"outlinewidth\":0,\"ticks\":\"\"}},\"colorscale\":{\"sequential\":[[0.0,\"#0d0887\"],[0.1111111111111111,\"#46039f\"],[0.2222222222222222,\"#7201a8\"],[0.3333333333333333,\"#9c179e\"],[0.4444444444444444,\"#bd3786\"],[0.5555555555555556,\"#d8576b\"],[0.6666666666666666,\"#ed7953\"],[0.7777777777777778,\"#fb9f3a\"],[0.8888888888888888,\"#fdca26\"],[1.0,\"#f0f921\"]],\"sequentialminus\":[[0.0,\"#0d0887\"],[0.1111111111111111,\"#46039f\"],[0.2222222222222222,\"#7201a8\"],[0.3333333333333333,\"#9c179e\"],[0.4444444444444444,\"#bd3786\"],[0.5555555555555556,\"#d8576b\"],[0.6666666666666666,\"#ed7953\"],[0.7777777777777778,\"#fb9f3a\"],[0.8888888888888888,\"#fdca26\"],[1.0,\"#f0f921\"]],\"diverging\":[[0,\"#8e0152\"],[0.1,\"#c51b7d\"],[0.2,\"#de77ae\"],[0.3,\"#f1b6da\"],[0.4,\"#fde0ef\"],[0.5,\"#f7f7f7\"],[0.6,\"#e6f5d0\"],[0.7,\"#b8e186\"],[0.8,\"#7fbc41\"],[0.9,\"#4d9221\"],[1,\"#276419\"]]},\"xaxis\":{\"gridcolor\":\"white\",\"linecolor\":\"white\",\"ticks\":\"\",\"title\":{\"standoff\":15},\"zerolinecolor\":\"white\",\"automargin\":true,\"zerolinewidth\":2},\"yaxis\":{\"gridcolor\":\"white\",\"linecolor\":\"white\",\"ticks\":\"\",\"title\":{\"standoff\":15},\"zerolinecolor\":\"white\",\"automargin\":true,\"zerolinewidth\":2},\"scene\":{\"xaxis\":{\"backgroundcolor\":\"#E5ECF6\",\"gridcolor\":\"white\",\"linecolor\":\"white\",\"showbackground\":true,\"ticks\":\"\",\"zerolinecolor\":\"white\",\"gridwidth\":2},\"yaxis\":{\"backgroundcolor\":\"#E5ECF6\",\"gridcolor\":\"white\",\"linecolor\":\"white\",\"showbackground\":true,\"ticks\":\"\",\"zerolinecolor\":\"white\",\"gridwidth\":2},\"zaxis\":{\"backgroundcolor\":\"#E5ECF6\",\"gridcolor\":\"white\",\"linecolor\":\"white\",\"showbackground\":true,\"ticks\":\"\",\"zerolinecolor\":\"white\",\"gridwidth\":2}},\"shapedefaults\":{\"line\":{\"color\":\"#2a3f5f\"}},\"annotationdefaults\":{\"arrowcolor\":\"#2a3f5f\",\"arrowhead\":0,\"arrowwidth\":1},\"geo\":{\"bgcolor\":\"white\",\"landcolor\":\"#E5ECF6\",\"subunitcolor\":\"white\",\"showland\":true,\"showlakes\":true,\"lakecolor\":\"white\"},\"title\":{\"x\":0.05},\"mapbox\":{\"style\":\"light\"}}},\"xaxis\":{\"anchor\":\"y\",\"domain\":[0.0,1.0],\"title\":{\"text\":\"Brand\"},\"tickangle\":-70},\"yaxis\":{\"anchor\":\"x\",\"domain\":[0.0,1.0],\"title\":{\"text\":\"Number of Reviews\"}},\"coloraxis\":{\"colorbar\":{\"title\":{\"text\":\"Avg_Stars\"}},\"colorscale\":[[0.0,\"rgb(12,51,131)\"],[0.25,\"rgb(10,136,186)\"],[0.5,\"rgb(242,211,56)\"],[0.75,\"rgb(242,143,56)\"],[1.0,\"rgb(217,30,30)\"]]},\"legend\":{\"tracegroupgap\":0},\"title\":{\"text\":\"Frequency of Reviews per Brand\"},\"barmode\":\"relative\"},                        {\"responsive\": true}                    ).then(function(){\n",
       "                            \n",
       "var gd = document.getElementById('ec3c4cf0-9241-410c-b28c-f4d2be59f03b');\n",
       "var x = new MutationObserver(function (mutations, observer) {{\n",
       "        var display = window.getComputedStyle(gd).display;\n",
       "        if (!display || display === 'none') {{\n",
       "            console.log([gd, 'removed!']);\n",
       "            Plotly.purge(gd);\n",
       "            observer.disconnect();\n",
       "        }}\n",
       "}});\n",
       "\n",
       "// Listen for the removal of the full notebook cells\n",
       "var notebookContainer = gd.closest('#notebook-container');\n",
       "if (notebookContainer) {{\n",
       "    x.observe(notebookContainer, {childList: true});\n",
       "}}\n",
       "\n",
       "// Listen for the clearing of the current output cell\n",
       "var outputEl = gd.closest('.output');\n",
       "if (outputEl) {{\n",
       "    x.observe(outputEl, {childList: true});\n",
       "}}\n",
       "\n",
       "                        })                };                });            </script>        </div>"
      ]
     },
     "metadata": {},
     "output_type": "display_data"
    }
   ],
   "source": [
    "fig = px.bar(Brand_df.head(50), x='Brand', y='Review_Count', color='Avg_Stars', \n",
    "             title='Frequency of Reviews per Brand',\n",
    "             labels={'Brand': 'Brand', 'Review_Count': 'Number of Reviews'},\n",
    "             hover_data={'Avg_Stars': ':.2f'},\n",
    "             color_continuous_scale='Portland')\n",
    "\n",
    "fig.update_layout(xaxis_tickangle=-70)\n",
    "\n",
    "fig.update_traces(hovertemplate='<b>%{x}</b><br>Number of Reviews: %{y}<br>Average Stars: %{customdata:.2f}')\n",
    "\n",
    "fig.show()"
   ]
  },
  {
   "cell_type": "markdown",
   "id": "c8e092b3",
   "metadata": {
    "papermill": {
     "duration": 0.029274,
     "end_time": "2024-07-20T15:59:25.546295",
     "exception": false,
     "start_time": "2024-07-20T15:59:25.517021",
     "status": "completed"
    },
    "tags": []
   },
   "source": [
    "<p style=\"font-size:18px;\"> The data shows that for the most part each brand has an average star rating of between 3-4 however there are a few notable outliers. \"Mykuali\" and \"Mom's Dry Noodle\" have the highest average brand scores. Whereas \"Mr. Noodles\", \"Annie Chun's\" and \"Wai Wai\" have the lowest average scores.\n",
    "    \n",
    "<p style=\"font-size:18px;\"> Where the bar chart shows averages I wanted to see if there was a correlation between time and a brand's scores. This would determine if over time a brand has made improvements and their scores have increased or if a brand has had a decline and their scores have decreased. Like before I decided to create a bar chart to visualise this rather than using a scatter graph."
   ]
  },
  {
   "cell_type": "code",
   "execution_count": 30,
   "id": "4dfdcaf8",
   "metadata": {
    "execution": {
     "iopub.execute_input": "2024-07-20T15:59:25.607082Z",
     "iopub.status.busy": "2024-07-20T15:59:25.606652Z",
     "iopub.status.idle": "2024-07-20T15:59:25.729034Z",
     "shell.execute_reply": "2024-07-20T15:59:25.727848Z"
    },
    "papermill": {
     "duration": 0.156114,
     "end_time": "2024-07-20T15:59:25.731847",
     "exception": false,
     "start_time": "2024-07-20T15:59:25.575733",
     "status": "completed"
    },
    "tags": []
   },
   "outputs": [
    {
     "name": "stdout",
     "output_type": "stream",
     "text": [
      "         Brand  Correlation\n",
      "0       Kamfen        0.816\n",
      "1  Little Cook        0.588\n",
      "2         Mama        0.582\n",
      "3      Samyang        0.483\n",
      "4      Sau Tao        0.449\n",
      "----------------------------\n"
     ]
    },
    {
     "data": {
      "text/html": [
       "<div>                            <div id=\"7ae611e6-7a31-4b2c-b35c-d1115a03d736\" class=\"plotly-graph-div\" style=\"height:525px; width:100%;\"></div>            <script type=\"text/javascript\">                require([\"plotly\"], function(Plotly) {                    window.PLOTLYENV=window.PLOTLYENV || {};                                    if (document.getElementById(\"7ae611e6-7a31-4b2c-b35c-d1115a03d736\")) {                    Plotly.newPlot(                        \"7ae611e6-7a31-4b2c-b35c-d1115a03d736\",                        [{\"alignmentgroup\":\"True\",\"hovertemplate\":\"Brand = \\u003cb\\u003e%{x}\\u003c\\u002fb\\u003e\\u003cbr\\u003eCorrelation = \\u003cb\\u003e%{y}\\u003c\\u002fb\\u003e\",\"legendgroup\":\"\",\"marker\":{\"color\":[0.816,0.588,0.582,0.483,0.449,0.432,0.403,0.368,0.367,0.362,0.362,0.354,0.339,0.28,0.238,0.233,0.221,0.21,0.175,0.154,0.151,0.144,0.14,0.121,0.116,0.088,0.071,0.065,0.032,0.006,-0.009,-0.01,-0.029,-0.052,-0.059,-0.076,-0.081,-0.099,-0.122,-0.162,-0.254,-0.273,-0.284,-0.355,-0.438,-0.449,-0.456,-0.498,-0.744,-0.746],\"coloraxis\":\"coloraxis\",\"pattern\":{\"shape\":\"\"}},\"name\":\"\",\"offsetgroup\":\"\",\"orientation\":\"v\",\"showlegend\":false,\"textposition\":\"auto\",\"x\":[\"Kamfen\",\"Little Cook\",\"Mama\",\"Samyang\",\"Sau Tao\",\"Wu-Mu\",\"Ottogi\",\"MAMA\",\"Lucky Me!\",\"Vedan\",\"JML\",\"Yum Yum\",\"Wei Lih\",\"Doll\",\"Maggi\",\"Ve Wong\",\"Paldo\",\"Itsuki\",\"Mi Sedaap\",\"Myojo\",\"Maruchan\",\"Samyang Foods\",\"Vite Ramen\",\"Nongshim\",\"Vifon\",\"Acecook\",\"Nissin\",\"Mamee\",\"Wai Wai\",\"Sichuan Baijia\",\"Sakurai Foods\",\"Mom's Dry Noodle\",\"Indomie\",\"A-Sha Dry Noodle\",\"Master Kong\",\"A-Sha\",\"Uni-President\",\"Sapporo Ichiban\",\"Marutai\",\"MyKuali\",\"New Touch\",\"KOKA\",\"Itomen\",\"Daikoku\",\"Menraku\",\"Batchelors\",\"Vina Acecook\",\"Koka\",\"Annie Chun's\",\"Mr. Noodles\"],\"xaxis\":\"x\",\"y\":[0.816,0.588,0.582,0.483,0.449,0.432,0.403,0.368,0.367,0.362,0.362,0.354,0.339,0.28,0.238,0.233,0.221,0.21,0.175,0.154,0.151,0.144,0.14,0.121,0.116,0.088,0.071,0.065,0.032,0.006,-0.009,-0.01,-0.029,-0.052,-0.059,-0.076,-0.081,-0.099,-0.122,-0.162,-0.254,-0.273,-0.284,-0.355,-0.438,-0.449,-0.456,-0.498,-0.744,-0.746],\"yaxis\":\"y\",\"type\":\"bar\"}],                        {\"template\":{\"data\":{\"histogram2dcontour\":[{\"type\":\"histogram2dcontour\",\"colorbar\":{\"outlinewidth\":0,\"ticks\":\"\"},\"colorscale\":[[0.0,\"#0d0887\"],[0.1111111111111111,\"#46039f\"],[0.2222222222222222,\"#7201a8\"],[0.3333333333333333,\"#9c179e\"],[0.4444444444444444,\"#bd3786\"],[0.5555555555555556,\"#d8576b\"],[0.6666666666666666,\"#ed7953\"],[0.7777777777777778,\"#fb9f3a\"],[0.8888888888888888,\"#fdca26\"],[1.0,\"#f0f921\"]]}],\"choropleth\":[{\"type\":\"choropleth\",\"colorbar\":{\"outlinewidth\":0,\"ticks\":\"\"}}],\"histogram2d\":[{\"type\":\"histogram2d\",\"colorbar\":{\"outlinewidth\":0,\"ticks\":\"\"},\"colorscale\":[[0.0,\"#0d0887\"],[0.1111111111111111,\"#46039f\"],[0.2222222222222222,\"#7201a8\"],[0.3333333333333333,\"#9c179e\"],[0.4444444444444444,\"#bd3786\"],[0.5555555555555556,\"#d8576b\"],[0.6666666666666666,\"#ed7953\"],[0.7777777777777778,\"#fb9f3a\"],[0.8888888888888888,\"#fdca26\"],[1.0,\"#f0f921\"]]}],\"heatmap\":[{\"type\":\"heatmap\",\"colorbar\":{\"outlinewidth\":0,\"ticks\":\"\"},\"colorscale\":[[0.0,\"#0d0887\"],[0.1111111111111111,\"#46039f\"],[0.2222222222222222,\"#7201a8\"],[0.3333333333333333,\"#9c179e\"],[0.4444444444444444,\"#bd3786\"],[0.5555555555555556,\"#d8576b\"],[0.6666666666666666,\"#ed7953\"],[0.7777777777777778,\"#fb9f3a\"],[0.8888888888888888,\"#fdca26\"],[1.0,\"#f0f921\"]]}],\"heatmapgl\":[{\"type\":\"heatmapgl\",\"colorbar\":{\"outlinewidth\":0,\"ticks\":\"\"},\"colorscale\":[[0.0,\"#0d0887\"],[0.1111111111111111,\"#46039f\"],[0.2222222222222222,\"#7201a8\"],[0.3333333333333333,\"#9c179e\"],[0.4444444444444444,\"#bd3786\"],[0.5555555555555556,\"#d8576b\"],[0.6666666666666666,\"#ed7953\"],[0.7777777777777778,\"#fb9f3a\"],[0.8888888888888888,\"#fdca26\"],[1.0,\"#f0f921\"]]}],\"contourcarpet\":[{\"type\":\"contourcarpet\",\"colorbar\":{\"outlinewidth\":0,\"ticks\":\"\"}}],\"contour\":[{\"type\":\"contour\",\"colorbar\":{\"outlinewidth\":0,\"ticks\":\"\"},\"colorscale\":[[0.0,\"#0d0887\"],[0.1111111111111111,\"#46039f\"],[0.2222222222222222,\"#7201a8\"],[0.3333333333333333,\"#9c179e\"],[0.4444444444444444,\"#bd3786\"],[0.5555555555555556,\"#d8576b\"],[0.6666666666666666,\"#ed7953\"],[0.7777777777777778,\"#fb9f3a\"],[0.8888888888888888,\"#fdca26\"],[1.0,\"#f0f921\"]]}],\"surface\":[{\"type\":\"surface\",\"colorbar\":{\"outlinewidth\":0,\"ticks\":\"\"},\"colorscale\":[[0.0,\"#0d0887\"],[0.1111111111111111,\"#46039f\"],[0.2222222222222222,\"#7201a8\"],[0.3333333333333333,\"#9c179e\"],[0.4444444444444444,\"#bd3786\"],[0.5555555555555556,\"#d8576b\"],[0.6666666666666666,\"#ed7953\"],[0.7777777777777778,\"#fb9f3a\"],[0.8888888888888888,\"#fdca26\"],[1.0,\"#f0f921\"]]}],\"mesh3d\":[{\"type\":\"mesh3d\",\"colorbar\":{\"outlinewidth\":0,\"ticks\":\"\"}}],\"scatter\":[{\"fillpattern\":{\"fillmode\":\"overlay\",\"size\":10,\"solidity\":0.2},\"type\":\"scatter\"}],\"parcoords\":[{\"type\":\"parcoords\",\"line\":{\"colorbar\":{\"outlinewidth\":0,\"ticks\":\"\"}}}],\"scatterpolargl\":[{\"type\":\"scatterpolargl\",\"marker\":{\"colorbar\":{\"outlinewidth\":0,\"ticks\":\"\"}}}],\"bar\":[{\"error_x\":{\"color\":\"#2a3f5f\"},\"error_y\":{\"color\":\"#2a3f5f\"},\"marker\":{\"line\":{\"color\":\"#E5ECF6\",\"width\":0.5},\"pattern\":{\"fillmode\":\"overlay\",\"size\":10,\"solidity\":0.2}},\"type\":\"bar\"}],\"scattergeo\":[{\"type\":\"scattergeo\",\"marker\":{\"colorbar\":{\"outlinewidth\":0,\"ticks\":\"\"}}}],\"scatterpolar\":[{\"type\":\"scatterpolar\",\"marker\":{\"colorbar\":{\"outlinewidth\":0,\"ticks\":\"\"}}}],\"histogram\":[{\"marker\":{\"pattern\":{\"fillmode\":\"overlay\",\"size\":10,\"solidity\":0.2}},\"type\":\"histogram\"}],\"scattergl\":[{\"type\":\"scattergl\",\"marker\":{\"colorbar\":{\"outlinewidth\":0,\"ticks\":\"\"}}}],\"scatter3d\":[{\"type\":\"scatter3d\",\"line\":{\"colorbar\":{\"outlinewidth\":0,\"ticks\":\"\"}},\"marker\":{\"colorbar\":{\"outlinewidth\":0,\"ticks\":\"\"}}}],\"scattermapbox\":[{\"type\":\"scattermapbox\",\"marker\":{\"colorbar\":{\"outlinewidth\":0,\"ticks\":\"\"}}}],\"scatterternary\":[{\"type\":\"scatterternary\",\"marker\":{\"colorbar\":{\"outlinewidth\":0,\"ticks\":\"\"}}}],\"scattercarpet\":[{\"type\":\"scattercarpet\",\"marker\":{\"colorbar\":{\"outlinewidth\":0,\"ticks\":\"\"}}}],\"carpet\":[{\"aaxis\":{\"endlinecolor\":\"#2a3f5f\",\"gridcolor\":\"white\",\"linecolor\":\"white\",\"minorgridcolor\":\"white\",\"startlinecolor\":\"#2a3f5f\"},\"baxis\":{\"endlinecolor\":\"#2a3f5f\",\"gridcolor\":\"white\",\"linecolor\":\"white\",\"minorgridcolor\":\"white\",\"startlinecolor\":\"#2a3f5f\"},\"type\":\"carpet\"}],\"table\":[{\"cells\":{\"fill\":{\"color\":\"#EBF0F8\"},\"line\":{\"color\":\"white\"}},\"header\":{\"fill\":{\"color\":\"#C8D4E3\"},\"line\":{\"color\":\"white\"}},\"type\":\"table\"}],\"barpolar\":[{\"marker\":{\"line\":{\"color\":\"#E5ECF6\",\"width\":0.5},\"pattern\":{\"fillmode\":\"overlay\",\"size\":10,\"solidity\":0.2}},\"type\":\"barpolar\"}],\"pie\":[{\"automargin\":true,\"type\":\"pie\"}]},\"layout\":{\"autotypenumbers\":\"strict\",\"colorway\":[\"#636efa\",\"#EF553B\",\"#00cc96\",\"#ab63fa\",\"#FFA15A\",\"#19d3f3\",\"#FF6692\",\"#B6E880\",\"#FF97FF\",\"#FECB52\"],\"font\":{\"color\":\"#2a3f5f\"},\"hovermode\":\"closest\",\"hoverlabel\":{\"align\":\"left\"},\"paper_bgcolor\":\"white\",\"plot_bgcolor\":\"#E5ECF6\",\"polar\":{\"bgcolor\":\"#E5ECF6\",\"angularaxis\":{\"gridcolor\":\"white\",\"linecolor\":\"white\",\"ticks\":\"\"},\"radialaxis\":{\"gridcolor\":\"white\",\"linecolor\":\"white\",\"ticks\":\"\"}},\"ternary\":{\"bgcolor\":\"#E5ECF6\",\"aaxis\":{\"gridcolor\":\"white\",\"linecolor\":\"white\",\"ticks\":\"\"},\"baxis\":{\"gridcolor\":\"white\",\"linecolor\":\"white\",\"ticks\":\"\"},\"caxis\":{\"gridcolor\":\"white\",\"linecolor\":\"white\",\"ticks\":\"\"}},\"coloraxis\":{\"colorbar\":{\"outlinewidth\":0,\"ticks\":\"\"}},\"colorscale\":{\"sequential\":[[0.0,\"#0d0887\"],[0.1111111111111111,\"#46039f\"],[0.2222222222222222,\"#7201a8\"],[0.3333333333333333,\"#9c179e\"],[0.4444444444444444,\"#bd3786\"],[0.5555555555555556,\"#d8576b\"],[0.6666666666666666,\"#ed7953\"],[0.7777777777777778,\"#fb9f3a\"],[0.8888888888888888,\"#fdca26\"],[1.0,\"#f0f921\"]],\"sequentialminus\":[[0.0,\"#0d0887\"],[0.1111111111111111,\"#46039f\"],[0.2222222222222222,\"#7201a8\"],[0.3333333333333333,\"#9c179e\"],[0.4444444444444444,\"#bd3786\"],[0.5555555555555556,\"#d8576b\"],[0.6666666666666666,\"#ed7953\"],[0.7777777777777778,\"#fb9f3a\"],[0.8888888888888888,\"#fdca26\"],[1.0,\"#f0f921\"]],\"diverging\":[[0,\"#8e0152\"],[0.1,\"#c51b7d\"],[0.2,\"#de77ae\"],[0.3,\"#f1b6da\"],[0.4,\"#fde0ef\"],[0.5,\"#f7f7f7\"],[0.6,\"#e6f5d0\"],[0.7,\"#b8e186\"],[0.8,\"#7fbc41\"],[0.9,\"#4d9221\"],[1,\"#276419\"]]},\"xaxis\":{\"gridcolor\":\"white\",\"linecolor\":\"white\",\"ticks\":\"\",\"title\":{\"standoff\":15},\"zerolinecolor\":\"white\",\"automargin\":true,\"zerolinewidth\":2},\"yaxis\":{\"gridcolor\":\"white\",\"linecolor\":\"white\",\"ticks\":\"\",\"title\":{\"standoff\":15},\"zerolinecolor\":\"white\",\"automargin\":true,\"zerolinewidth\":2},\"scene\":{\"xaxis\":{\"backgroundcolor\":\"#E5ECF6\",\"gridcolor\":\"white\",\"linecolor\":\"white\",\"showbackground\":true,\"ticks\":\"\",\"zerolinecolor\":\"white\",\"gridwidth\":2},\"yaxis\":{\"backgroundcolor\":\"#E5ECF6\",\"gridcolor\":\"white\",\"linecolor\":\"white\",\"showbackground\":true,\"ticks\":\"\",\"zerolinecolor\":\"white\",\"gridwidth\":2},\"zaxis\":{\"backgroundcolor\":\"#E5ECF6\",\"gridcolor\":\"white\",\"linecolor\":\"white\",\"showbackground\":true,\"ticks\":\"\",\"zerolinecolor\":\"white\",\"gridwidth\":2}},\"shapedefaults\":{\"line\":{\"color\":\"#2a3f5f\"}},\"annotationdefaults\":{\"arrowcolor\":\"#2a3f5f\",\"arrowhead\":0,\"arrowwidth\":1},\"geo\":{\"bgcolor\":\"white\",\"landcolor\":\"#E5ECF6\",\"subunitcolor\":\"white\",\"showland\":true,\"showlakes\":true,\"lakecolor\":\"white\"},\"title\":{\"x\":0.05},\"mapbox\":{\"style\":\"light\"}}},\"xaxis\":{\"anchor\":\"y\",\"domain\":[0.0,1.0],\"title\":{\"text\":\"Brand \"},\"tickangle\":-65},\"yaxis\":{\"anchor\":\"x\",\"domain\":[0.0,1.0],\"title\":{\"text\":\"Correlation Coefficient \"}},\"coloraxis\":{\"colorbar\":{\"title\":{\"text\":\"Correlation Coefficient \"}},\"colorscale\":[[0.0,\"rgb(12,51,131)\"],[0.25,\"rgb(10,136,186)\"],[0.5,\"rgb(242,211,56)\"],[0.75,\"rgb(242,143,56)\"],[1.0,\"rgb(217,30,30)\"]]},\"legend\":{\"tracegroupgap\":0},\"title\":{\"text\":\"Correlation of Time and Stars by the Top 50 Brands\"},\"barmode\":\"relative\"},                        {\"responsive\": true}                    ).then(function(){\n",
       "                            \n",
       "var gd = document.getElementById('7ae611e6-7a31-4b2c-b35c-d1115a03d736');\n",
       "var x = new MutationObserver(function (mutations, observer) {{\n",
       "        var display = window.getComputedStyle(gd).display;\n",
       "        if (!display || display === 'none') {{\n",
       "            console.log([gd, 'removed!']);\n",
       "            Plotly.purge(gd);\n",
       "            observer.disconnect();\n",
       "        }}\n",
       "}});\n",
       "\n",
       "// Listen for the removal of the full notebook cells\n",
       "var notebookContainer = gd.closest('#notebook-container');\n",
       "if (notebookContainer) {{\n",
       "    x.observe(notebookContainer, {childList: true});\n",
       "}}\n",
       "\n",
       "// Listen for the clearing of the current output cell\n",
       "var outputEl = gd.closest('.output');\n",
       "if (outputEl) {{\n",
       "    x.observe(outputEl, {childList: true});\n",
       "}}\n",
       "\n",
       "                        })                };                });            </script>        </div>"
      ]
     },
     "metadata": {},
     "output_type": "display_data"
    }
   ],
   "source": [
    "brand_counts = df['Brand'].value_counts()\n",
    "filtered_df = df[df['Brand'].isin(brand_counts[brand_counts >= 15].index)]\n",
    "\n",
    "correlation_df = filtered_df.groupby('Brand').apply(lambda x: x['Review #'].corr(x['Stars'])).round(3).reset_index()\n",
    "correlation_df.columns = ['Brand', 'Correlation']\n",
    "\n",
    "sorted_correlations = correlation_df.sort_values(by='Correlation', ascending=False).reset_index(drop=True)\n",
    "\n",
    "print(sorted_correlations.head())\n",
    "print(\"----------------------------\")\n",
    "\n",
    "# Bar Chart Plot\n",
    "fig = px.bar(sorted_correlations, x='Brand', y='Correlation', title='Correlation of Time and Stars by the Top 50 Brands',\n",
    "             labels={'Correlation': 'Correlation Coefficient ', 'Brand': 'Brand '}, color='Correlation',color_continuous_scale='portland')\n",
    "\n",
    "fig.update_traces(hovertemplate='Brand = <b>%{x}</b><br>Correlation = <b>%{y}</b>')\n",
    "\n",
    "fig.update_layout(xaxis_tickangle=-65)\n",
    "\n",
    "fig.show()"
   ]
  },
  {
   "cell_type": "markdown",
   "id": "f2af9a94",
   "metadata": {
    "papermill": {
     "duration": 0.028438,
     "end_time": "2024-07-20T15:59:25.789490",
     "exception": false,
     "start_time": "2024-07-20T15:59:25.761052",
     "status": "completed"
    },
    "tags": []
   },
   "source": [
    "<p style=\"font-size:18px;\"> I wanted to see if the Ramen Raters' taste changed over time. To visualise this I decided to plot each review by flavour to see if there was any correlation between time and reviews. To begin I created a dataframe which groups the reviews by flavour and calculates the average stars by flavour. From this I could then plot each flavour on a scatter plot to visualise the data."
   ]
  },
  {
   "cell_type": "code",
   "execution_count": 31,
   "id": "ae660b4e",
   "metadata": {
    "execution": {
     "iopub.execute_input": "2024-07-20T15:59:25.849247Z",
     "iopub.status.busy": "2024-07-20T15:59:25.848836Z",
     "iopub.status.idle": "2024-07-20T15:59:25.978244Z",
     "shell.execute_reply": "2024-07-20T15:59:25.977022Z"
    },
    "papermill": {
     "duration": 0.162812,
     "end_time": "2024-07-20T15:59:25.980976",
     "exception": false,
     "start_time": "2024-07-20T15:59:25.818164",
     "status": "completed"
    },
    "tags": []
   },
   "outputs": [
    {
     "name": "stdout",
     "output_type": "stream",
     "text": [
      "        Flavor  Review_Count  Avg_Stars\n",
      "12    mushroom            37       2.76\n",
      "26  vegetarian            45       3.06\n",
      "25   vegetable            69       3.41\n",
      "------------------------------------\n"
     ]
    },
    {
     "data": {
      "text/html": [
       "<div>                            <div id=\"1ca0806d-5de9-4abd-ae66-e9aaebce53e9\" class=\"plotly-graph-div\" style=\"height:800px; width:1100px;\"></div>            <script type=\"text/javascript\">                require([\"plotly\"], function(Plotly) {                    window.PLOTLYENV=window.PLOTLYENV || {};                                    if (document.getElementById(\"1ca0806d-5de9-4abd-ae66-e9aaebce53e9\")) {                    Plotly.newPlot(                        \"1ca0806d-5de9-4abd-ae66-e9aaebce53e9\",                        [{\"customdata\":[[37],[45],[69],[532],[145],[122],[288],[139],[29],[99],[49],[91],[1452],[43],[121],[458],[25],[32],[82],[59],[84],[109],[38],[26],[124],[191],[25],[86],[39]],\"hovertemplate\":\"Flavor: \\u003cb\\u003e%{y}\\u003c\\u002fb\\u003e \\u003cbr\\u003eAverage Stars: \\u003cb\\u003e%{x}\\u003c\\u002fb\\u003e \\u003cbr\\u003eNumber of reviews: \\u003cb\\u003e%{customdata}\\u003c\\u002fb\\u003e\",\"legendgroup\":\"\",\"marker\":{\"color\":[37,45,69,532,145,122,288,139,29,99,49,91,1452,43,121,458,25,32,82,59,84,109,38,26,124,191,25,86,39],\"coloraxis\":\"coloraxis\",\"symbol\":\"circle\"},\"mode\":\"markers\",\"name\":\"\",\"orientation\":\"h\",\"showlegend\":false,\"x\":[2.76,3.06,3.41,3.52,3.53,3.56,3.61,3.62,3.65,3.67,3.72,3.73,3.75,3.77,3.78,3.81,3.82,3.83,3.87,3.92,3.94,3.94,3.98,4.04,4.05,4.08,4.24,4.32,4.37],\"xaxis\":\"x\",\"y\":[\"mushroom\",\"vegetarian\",\"vegetable\",\"chicken\",\"shrimp\",\"hot\",\"beef\",\"pork\",\"cheese\",\"miso\",\"vermicelli\",\"soy\",\"other\",\"chili\",\"seafood\",\"spicy\",\"pepper\",\"tomato\",\"shoyu\",\"kimchi\",\"sesame\",\"yakisoba\",\"crab\",\"prawn\",\"tonkotsu\",\"curry\",\"buldak\",\"goreng\",\"laksa\"],\"yaxis\":\"y\",\"type\":\"scatter\"}],                        {\"template\":{\"data\":{\"histogram2dcontour\":[{\"type\":\"histogram2dcontour\",\"colorbar\":{\"outlinewidth\":0,\"ticks\":\"\"},\"colorscale\":[[0.0,\"#0d0887\"],[0.1111111111111111,\"#46039f\"],[0.2222222222222222,\"#7201a8\"],[0.3333333333333333,\"#9c179e\"],[0.4444444444444444,\"#bd3786\"],[0.5555555555555556,\"#d8576b\"],[0.6666666666666666,\"#ed7953\"],[0.7777777777777778,\"#fb9f3a\"],[0.8888888888888888,\"#fdca26\"],[1.0,\"#f0f921\"]]}],\"choropleth\":[{\"type\":\"choropleth\",\"colorbar\":{\"outlinewidth\":0,\"ticks\":\"\"}}],\"histogram2d\":[{\"type\":\"histogram2d\",\"colorbar\":{\"outlinewidth\":0,\"ticks\":\"\"},\"colorscale\":[[0.0,\"#0d0887\"],[0.1111111111111111,\"#46039f\"],[0.2222222222222222,\"#7201a8\"],[0.3333333333333333,\"#9c179e\"],[0.4444444444444444,\"#bd3786\"],[0.5555555555555556,\"#d8576b\"],[0.6666666666666666,\"#ed7953\"],[0.7777777777777778,\"#fb9f3a\"],[0.8888888888888888,\"#fdca26\"],[1.0,\"#f0f921\"]]}],\"heatmap\":[{\"type\":\"heatmap\",\"colorbar\":{\"outlinewidth\":0,\"ticks\":\"\"},\"colorscale\":[[0.0,\"#0d0887\"],[0.1111111111111111,\"#46039f\"],[0.2222222222222222,\"#7201a8\"],[0.3333333333333333,\"#9c179e\"],[0.4444444444444444,\"#bd3786\"],[0.5555555555555556,\"#d8576b\"],[0.6666666666666666,\"#ed7953\"],[0.7777777777777778,\"#fb9f3a\"],[0.8888888888888888,\"#fdca26\"],[1.0,\"#f0f921\"]]}],\"heatmapgl\":[{\"type\":\"heatmapgl\",\"colorbar\":{\"outlinewidth\":0,\"ticks\":\"\"},\"colorscale\":[[0.0,\"#0d0887\"],[0.1111111111111111,\"#46039f\"],[0.2222222222222222,\"#7201a8\"],[0.3333333333333333,\"#9c179e\"],[0.4444444444444444,\"#bd3786\"],[0.5555555555555556,\"#d8576b\"],[0.6666666666666666,\"#ed7953\"],[0.7777777777777778,\"#fb9f3a\"],[0.8888888888888888,\"#fdca26\"],[1.0,\"#f0f921\"]]}],\"contourcarpet\":[{\"type\":\"contourcarpet\",\"colorbar\":{\"outlinewidth\":0,\"ticks\":\"\"}}],\"contour\":[{\"type\":\"contour\",\"colorbar\":{\"outlinewidth\":0,\"ticks\":\"\"},\"colorscale\":[[0.0,\"#0d0887\"],[0.1111111111111111,\"#46039f\"],[0.2222222222222222,\"#7201a8\"],[0.3333333333333333,\"#9c179e\"],[0.4444444444444444,\"#bd3786\"],[0.5555555555555556,\"#d8576b\"],[0.6666666666666666,\"#ed7953\"],[0.7777777777777778,\"#fb9f3a\"],[0.8888888888888888,\"#fdca26\"],[1.0,\"#f0f921\"]]}],\"surface\":[{\"type\":\"surface\",\"colorbar\":{\"outlinewidth\":0,\"ticks\":\"\"},\"colorscale\":[[0.0,\"#0d0887\"],[0.1111111111111111,\"#46039f\"],[0.2222222222222222,\"#7201a8\"],[0.3333333333333333,\"#9c179e\"],[0.4444444444444444,\"#bd3786\"],[0.5555555555555556,\"#d8576b\"],[0.6666666666666666,\"#ed7953\"],[0.7777777777777778,\"#fb9f3a\"],[0.8888888888888888,\"#fdca26\"],[1.0,\"#f0f921\"]]}],\"mesh3d\":[{\"type\":\"mesh3d\",\"colorbar\":{\"outlinewidth\":0,\"ticks\":\"\"}}],\"scatter\":[{\"fillpattern\":{\"fillmode\":\"overlay\",\"size\":10,\"solidity\":0.2},\"type\":\"scatter\"}],\"parcoords\":[{\"type\":\"parcoords\",\"line\":{\"colorbar\":{\"outlinewidth\":0,\"ticks\":\"\"}}}],\"scatterpolargl\":[{\"type\":\"scatterpolargl\",\"marker\":{\"colorbar\":{\"outlinewidth\":0,\"ticks\":\"\"}}}],\"bar\":[{\"error_x\":{\"color\":\"#2a3f5f\"},\"error_y\":{\"color\":\"#2a3f5f\"},\"marker\":{\"line\":{\"color\":\"#E5ECF6\",\"width\":0.5},\"pattern\":{\"fillmode\":\"overlay\",\"size\":10,\"solidity\":0.2}},\"type\":\"bar\"}],\"scattergeo\":[{\"type\":\"scattergeo\",\"marker\":{\"colorbar\":{\"outlinewidth\":0,\"ticks\":\"\"}}}],\"scatterpolar\":[{\"type\":\"scatterpolar\",\"marker\":{\"colorbar\":{\"outlinewidth\":0,\"ticks\":\"\"}}}],\"histogram\":[{\"marker\":{\"pattern\":{\"fillmode\":\"overlay\",\"size\":10,\"solidity\":0.2}},\"type\":\"histogram\"}],\"scattergl\":[{\"type\":\"scattergl\",\"marker\":{\"colorbar\":{\"outlinewidth\":0,\"ticks\":\"\"}}}],\"scatter3d\":[{\"type\":\"scatter3d\",\"line\":{\"colorbar\":{\"outlinewidth\":0,\"ticks\":\"\"}},\"marker\":{\"colorbar\":{\"outlinewidth\":0,\"ticks\":\"\"}}}],\"scattermapbox\":[{\"type\":\"scattermapbox\",\"marker\":{\"colorbar\":{\"outlinewidth\":0,\"ticks\":\"\"}}}],\"scatterternary\":[{\"type\":\"scatterternary\",\"marker\":{\"colorbar\":{\"outlinewidth\":0,\"ticks\":\"\"}}}],\"scattercarpet\":[{\"type\":\"scattercarpet\",\"marker\":{\"colorbar\":{\"outlinewidth\":0,\"ticks\":\"\"}}}],\"carpet\":[{\"aaxis\":{\"endlinecolor\":\"#2a3f5f\",\"gridcolor\":\"white\",\"linecolor\":\"white\",\"minorgridcolor\":\"white\",\"startlinecolor\":\"#2a3f5f\"},\"baxis\":{\"endlinecolor\":\"#2a3f5f\",\"gridcolor\":\"white\",\"linecolor\":\"white\",\"minorgridcolor\":\"white\",\"startlinecolor\":\"#2a3f5f\"},\"type\":\"carpet\"}],\"table\":[{\"cells\":{\"fill\":{\"color\":\"#EBF0F8\"},\"line\":{\"color\":\"white\"}},\"header\":{\"fill\":{\"color\":\"#C8D4E3\"},\"line\":{\"color\":\"white\"}},\"type\":\"table\"}],\"barpolar\":[{\"marker\":{\"line\":{\"color\":\"#E5ECF6\",\"width\":0.5},\"pattern\":{\"fillmode\":\"overlay\",\"size\":10,\"solidity\":0.2}},\"type\":\"barpolar\"}],\"pie\":[{\"automargin\":true,\"type\":\"pie\"}]},\"layout\":{\"autotypenumbers\":\"strict\",\"colorway\":[\"#636efa\",\"#EF553B\",\"#00cc96\",\"#ab63fa\",\"#FFA15A\",\"#19d3f3\",\"#FF6692\",\"#B6E880\",\"#FF97FF\",\"#FECB52\"],\"font\":{\"color\":\"#2a3f5f\"},\"hovermode\":\"closest\",\"hoverlabel\":{\"align\":\"left\"},\"paper_bgcolor\":\"white\",\"plot_bgcolor\":\"#E5ECF6\",\"polar\":{\"bgcolor\":\"#E5ECF6\",\"angularaxis\":{\"gridcolor\":\"white\",\"linecolor\":\"white\",\"ticks\":\"\"},\"radialaxis\":{\"gridcolor\":\"white\",\"linecolor\":\"white\",\"ticks\":\"\"}},\"ternary\":{\"bgcolor\":\"#E5ECF6\",\"aaxis\":{\"gridcolor\":\"white\",\"linecolor\":\"white\",\"ticks\":\"\"},\"baxis\":{\"gridcolor\":\"white\",\"linecolor\":\"white\",\"ticks\":\"\"},\"caxis\":{\"gridcolor\":\"white\",\"linecolor\":\"white\",\"ticks\":\"\"}},\"coloraxis\":{\"colorbar\":{\"outlinewidth\":0,\"ticks\":\"\"}},\"colorscale\":{\"sequential\":[[0.0,\"#0d0887\"],[0.1111111111111111,\"#46039f\"],[0.2222222222222222,\"#7201a8\"],[0.3333333333333333,\"#9c179e\"],[0.4444444444444444,\"#bd3786\"],[0.5555555555555556,\"#d8576b\"],[0.6666666666666666,\"#ed7953\"],[0.7777777777777778,\"#fb9f3a\"],[0.8888888888888888,\"#fdca26\"],[1.0,\"#f0f921\"]],\"sequentialminus\":[[0.0,\"#0d0887\"],[0.1111111111111111,\"#46039f\"],[0.2222222222222222,\"#7201a8\"],[0.3333333333333333,\"#9c179e\"],[0.4444444444444444,\"#bd3786\"],[0.5555555555555556,\"#d8576b\"],[0.6666666666666666,\"#ed7953\"],[0.7777777777777778,\"#fb9f3a\"],[0.8888888888888888,\"#fdca26\"],[1.0,\"#f0f921\"]],\"diverging\":[[0,\"#8e0152\"],[0.1,\"#c51b7d\"],[0.2,\"#de77ae\"],[0.3,\"#f1b6da\"],[0.4,\"#fde0ef\"],[0.5,\"#f7f7f7\"],[0.6,\"#e6f5d0\"],[0.7,\"#b8e186\"],[0.8,\"#7fbc41\"],[0.9,\"#4d9221\"],[1,\"#276419\"]]},\"xaxis\":{\"gridcolor\":\"white\",\"linecolor\":\"white\",\"ticks\":\"\",\"title\":{\"standoff\":15},\"zerolinecolor\":\"white\",\"automargin\":true,\"zerolinewidth\":2},\"yaxis\":{\"gridcolor\":\"white\",\"linecolor\":\"white\",\"ticks\":\"\",\"title\":{\"standoff\":15},\"zerolinecolor\":\"white\",\"automargin\":true,\"zerolinewidth\":2},\"scene\":{\"xaxis\":{\"backgroundcolor\":\"#E5ECF6\",\"gridcolor\":\"white\",\"linecolor\":\"white\",\"showbackground\":true,\"ticks\":\"\",\"zerolinecolor\":\"white\",\"gridwidth\":2},\"yaxis\":{\"backgroundcolor\":\"#E5ECF6\",\"gridcolor\":\"white\",\"linecolor\":\"white\",\"showbackground\":true,\"ticks\":\"\",\"zerolinecolor\":\"white\",\"gridwidth\":2},\"zaxis\":{\"backgroundcolor\":\"#E5ECF6\",\"gridcolor\":\"white\",\"linecolor\":\"white\",\"showbackground\":true,\"ticks\":\"\",\"zerolinecolor\":\"white\",\"gridwidth\":2}},\"shapedefaults\":{\"line\":{\"color\":\"#2a3f5f\"}},\"annotationdefaults\":{\"arrowcolor\":\"#2a3f5f\",\"arrowhead\":0,\"arrowwidth\":1},\"geo\":{\"bgcolor\":\"white\",\"landcolor\":\"#E5ECF6\",\"subunitcolor\":\"white\",\"showland\":true,\"showlakes\":true,\"lakecolor\":\"white\"},\"title\":{\"x\":0.05},\"mapbox\":{\"style\":\"light\"}}},\"xaxis\":{\"anchor\":\"y\",\"domain\":[0.0,1.0],\"title\":{\"text\":\"Average Stars\"},\"range\":[0,5]},\"yaxis\":{\"anchor\":\"x\",\"domain\":[0.0,1.0],\"title\":{\"text\":\"Flavor\"},\"categoryorder\":\"array\",\"categoryarray\":[\"mushroom\",\"vegetarian\",\"vegetable\",\"chicken\",\"shrimp\",\"hot\",\"beef\",\"pork\",\"cheese\",\"miso\",\"vermicelli\",\"soy\",\"other\",\"chili\",\"seafood\",\"spicy\",\"pepper\",\"tomato\",\"shoyu\",\"kimchi\",\"sesame\",\"yakisoba\",\"crab\",\"prawn\",\"tonkotsu\",\"curry\",\"buldak\",\"goreng\",\"laksa\"]},\"coloraxis\":{\"colorbar\":{\"title\":{\"text\":\"Number of Reviews\"}},\"colorscale\":[[0.0,\"rgb(12,51,131)\"],[0.25,\"rgb(10,136,186)\"],[0.5,\"rgb(242,211,56)\"],[0.75,\"rgb(242,143,56)\"],[1.0,\"rgb(217,30,30)\"]]},\"legend\":{\"tracegroupgap\":0},\"title\":{\"text\":\"Flavor vs Average Stars\"},\"width\":1100,\"height\":800},                        {\"responsive\": true}                    ).then(function(){\n",
       "                            \n",
       "var gd = document.getElementById('1ca0806d-5de9-4abd-ae66-e9aaebce53e9');\n",
       "var x = new MutationObserver(function (mutations, observer) {{\n",
       "        var display = window.getComputedStyle(gd).display;\n",
       "        if (!display || display === 'none') {{\n",
       "            console.log([gd, 'removed!']);\n",
       "            Plotly.purge(gd);\n",
       "            observer.disconnect();\n",
       "        }}\n",
       "}});\n",
       "\n",
       "// Listen for the removal of the full notebook cells\n",
       "var notebookContainer = gd.closest('#notebook-container');\n",
       "if (notebookContainer) {{\n",
       "    x.observe(notebookContainer, {childList: true});\n",
       "}}\n",
       "\n",
       "// Listen for the clearing of the current output cell\n",
       "var outputEl = gd.closest('.output');\n",
       "if (outputEl) {{\n",
       "    x.observe(outputEl, {childList: true});\n",
       "}}\n",
       "\n",
       "                        })                };                });            </script>        </div>"
      ]
     },
     "metadata": {},
     "output_type": "display_data"
    }
   ],
   "source": [
    "# Flavor dataframe\n",
    "flavor_df = df.groupby('Flavor').agg(Review_Count=('Flavor', 'size'),\n",
    "            Avg_Stars=('Stars', 'mean')).round(2).reset_index()\n",
    "\n",
    "flavor_df = flavor_df.sort_values(by='Avg_Stars', ascending=True)\n",
    "\n",
    "print(flavor_df.head(3))\n",
    "print(\"------------------------------------\")\n",
    "\n",
    "# Scatter plot using Plotly Express\n",
    "fig = px.scatter(flavor_df, x='Avg_Stars', y='Flavor', color='Review_Count',\n",
    "                 title='Flavor vs Average Stars',\n",
    "                 labels={'Flavor': 'Flavor', 'Review_Count': 'Number of Reviews', 'Avg_Stars': 'Average Stars'},\n",
    "                 hover_data=['Review_Count'], color_continuous_scale='Portland')\n",
    "\n",
    "fig.update_traces(hovertemplate= \"Flavor: <b>%{y}</b> <br>\" + \"Average Stars: <b>%{x}</b> <br>\"\n",
    "                  +\"Number of reviews: <b>%{customdata}</b>\")\n",
    "\n",
    "fig.update_layout(width=1100,height=800,\n",
    "                  yaxis_title='Flavor',xaxis_title='Average Stars',\n",
    "                  xaxis=dict(range=[0, 5]),\n",
    "                  yaxis=dict(categoryorder='array', categoryarray=flavor_df['Flavor']))\n",
    "\n",
    "fig.show()"
   ]
  },
  {
   "cell_type": "markdown",
   "id": "e04b9198",
   "metadata": {
    "papermill": {
     "duration": 0.031118,
     "end_time": "2024-07-20T15:59:26.041795",
     "exception": false,
     "start_time": "2024-07-20T15:59:26.010677",
     "status": "completed"
    },
    "tags": []
   },
   "source": [
    "<p style=\"font-size:18px;\"> This is very interesting. It appears that the Ramen Rater tends to prefer ramen which have the flavours laksa, goreng and buldak. Overall it appears that the Ramen Rater has a preference to more spicy flavours. On the other hand the least liked flavours appear to be vegetable related with flavours with the lowest average rating being vegetable, vegetarian and mushroom.\n",
    "\n",
    "<p style=\"font-size:18px;\"> To take this one step further I wanted to see if there is a correlation between the flavours and stars over time. I plotted the bar chart below to show this."
   ]
  },
  {
   "cell_type": "code",
   "execution_count": 32,
   "id": "e0d498b6",
   "metadata": {
    "execution": {
     "iopub.execute_input": "2024-07-20T15:59:26.105055Z",
     "iopub.status.busy": "2024-07-20T15:59:26.104591Z",
     "iopub.status.idle": "2024-07-20T15:59:26.212625Z",
     "shell.execute_reply": "2024-07-20T15:59:26.211067Z"
    },
    "papermill": {
     "duration": 0.14305,
     "end_time": "2024-07-20T15:59:26.215457",
     "exception": false,
     "start_time": "2024-07-20T15:59:26.072407",
     "status": "completed"
    },
    "tags": []
   },
   "outputs": [
    {
     "name": "stdout",
     "output_type": "stream",
     "text": [
      "       Flavor  Correlation\n",
      "0  vermicelli        0.516\n",
      "1  vegetarian        0.378\n",
      "2       laksa        0.346\n",
      "3        pork        0.328\n",
      "4       chili        0.317\n",
      "----------------------------\n"
     ]
    },
    {
     "data": {
      "text/html": [
       "<div>                            <div id=\"b3a39aad-5ccf-4b8c-aa89-c5c8618a7d25\" class=\"plotly-graph-div\" style=\"height:525px; width:100%;\"></div>            <script type=\"text/javascript\">                require([\"plotly\"], function(Plotly) {                    window.PLOTLYENV=window.PLOTLYENV || {};                                    if (document.getElementById(\"b3a39aad-5ccf-4b8c-aa89-c5c8618a7d25\")) {                    Plotly.newPlot(                        \"b3a39aad-5ccf-4b8c-aa89-c5c8618a7d25\",                        [{\"alignmentgroup\":\"True\",\"hovertemplate\":\"Flavor = \\u003cb\\u003e%{x}\\u003c\\u002fb\\u003e\\u003cbr\\u003eCorrelation = \\u003cb\\u003e%{y}\\u003c\\u002fb\\u003e\",\"legendgroup\":\"\",\"marker\":{\"color\":[0.516,0.378,0.346,0.328,0.317,0.295,0.244,0.216,0.209,0.205,0.191,0.174,0.171,0.165,0.164,0.149,0.147,0.129,0.127,0.114,0.112,0.091,-0.015,-0.019,-0.049,-0.162,-0.201,-0.234,-0.294],\"coloraxis\":\"coloraxis\",\"pattern\":{\"shape\":\"\"}},\"name\":\"\",\"offsetgroup\":\"\",\"orientation\":\"v\",\"showlegend\":false,\"textposition\":\"auto\",\"x\":[\"vermicelli\",\"vegetarian\",\"laksa\",\"pork\",\"chili\",\"seafood\",\"kimchi\",\"prawn\",\"goreng\",\"beef\",\"soy\",\"chicken\",\"spicy\",\"buldak\",\"vegetable\",\"crab\",\"hot\",\"shrimp\",\"other\",\"miso\",\"sesame\",\"pepper\",\"curry\",\"mushroom\",\"tonkotsu\",\"shoyu\",\"cheese\",\"yakisoba\",\"tomato\"],\"xaxis\":\"x\",\"y\":[0.516,0.378,0.346,0.328,0.317,0.295,0.244,0.216,0.209,0.205,0.191,0.174,0.171,0.165,0.164,0.149,0.147,0.129,0.127,0.114,0.112,0.091,-0.015,-0.019,-0.049,-0.162,-0.201,-0.234,-0.294],\"yaxis\":\"y\",\"type\":\"bar\"}],                        {\"template\":{\"data\":{\"histogram2dcontour\":[{\"type\":\"histogram2dcontour\",\"colorbar\":{\"outlinewidth\":0,\"ticks\":\"\"},\"colorscale\":[[0.0,\"#0d0887\"],[0.1111111111111111,\"#46039f\"],[0.2222222222222222,\"#7201a8\"],[0.3333333333333333,\"#9c179e\"],[0.4444444444444444,\"#bd3786\"],[0.5555555555555556,\"#d8576b\"],[0.6666666666666666,\"#ed7953\"],[0.7777777777777778,\"#fb9f3a\"],[0.8888888888888888,\"#fdca26\"],[1.0,\"#f0f921\"]]}],\"choropleth\":[{\"type\":\"choropleth\",\"colorbar\":{\"outlinewidth\":0,\"ticks\":\"\"}}],\"histogram2d\":[{\"type\":\"histogram2d\",\"colorbar\":{\"outlinewidth\":0,\"ticks\":\"\"},\"colorscale\":[[0.0,\"#0d0887\"],[0.1111111111111111,\"#46039f\"],[0.2222222222222222,\"#7201a8\"],[0.3333333333333333,\"#9c179e\"],[0.4444444444444444,\"#bd3786\"],[0.5555555555555556,\"#d8576b\"],[0.6666666666666666,\"#ed7953\"],[0.7777777777777778,\"#fb9f3a\"],[0.8888888888888888,\"#fdca26\"],[1.0,\"#f0f921\"]]}],\"heatmap\":[{\"type\":\"heatmap\",\"colorbar\":{\"outlinewidth\":0,\"ticks\":\"\"},\"colorscale\":[[0.0,\"#0d0887\"],[0.1111111111111111,\"#46039f\"],[0.2222222222222222,\"#7201a8\"],[0.3333333333333333,\"#9c179e\"],[0.4444444444444444,\"#bd3786\"],[0.5555555555555556,\"#d8576b\"],[0.6666666666666666,\"#ed7953\"],[0.7777777777777778,\"#fb9f3a\"],[0.8888888888888888,\"#fdca26\"],[1.0,\"#f0f921\"]]}],\"heatmapgl\":[{\"type\":\"heatmapgl\",\"colorbar\":{\"outlinewidth\":0,\"ticks\":\"\"},\"colorscale\":[[0.0,\"#0d0887\"],[0.1111111111111111,\"#46039f\"],[0.2222222222222222,\"#7201a8\"],[0.3333333333333333,\"#9c179e\"],[0.4444444444444444,\"#bd3786\"],[0.5555555555555556,\"#d8576b\"],[0.6666666666666666,\"#ed7953\"],[0.7777777777777778,\"#fb9f3a\"],[0.8888888888888888,\"#fdca26\"],[1.0,\"#f0f921\"]]}],\"contourcarpet\":[{\"type\":\"contourcarpet\",\"colorbar\":{\"outlinewidth\":0,\"ticks\":\"\"}}],\"contour\":[{\"type\":\"contour\",\"colorbar\":{\"outlinewidth\":0,\"ticks\":\"\"},\"colorscale\":[[0.0,\"#0d0887\"],[0.1111111111111111,\"#46039f\"],[0.2222222222222222,\"#7201a8\"],[0.3333333333333333,\"#9c179e\"],[0.4444444444444444,\"#bd3786\"],[0.5555555555555556,\"#d8576b\"],[0.6666666666666666,\"#ed7953\"],[0.7777777777777778,\"#fb9f3a\"],[0.8888888888888888,\"#fdca26\"],[1.0,\"#f0f921\"]]}],\"surface\":[{\"type\":\"surface\",\"colorbar\":{\"outlinewidth\":0,\"ticks\":\"\"},\"colorscale\":[[0.0,\"#0d0887\"],[0.1111111111111111,\"#46039f\"],[0.2222222222222222,\"#7201a8\"],[0.3333333333333333,\"#9c179e\"],[0.4444444444444444,\"#bd3786\"],[0.5555555555555556,\"#d8576b\"],[0.6666666666666666,\"#ed7953\"],[0.7777777777777778,\"#fb9f3a\"],[0.8888888888888888,\"#fdca26\"],[1.0,\"#f0f921\"]]}],\"mesh3d\":[{\"type\":\"mesh3d\",\"colorbar\":{\"outlinewidth\":0,\"ticks\":\"\"}}],\"scatter\":[{\"fillpattern\":{\"fillmode\":\"overlay\",\"size\":10,\"solidity\":0.2},\"type\":\"scatter\"}],\"parcoords\":[{\"type\":\"parcoords\",\"line\":{\"colorbar\":{\"outlinewidth\":0,\"ticks\":\"\"}}}],\"scatterpolargl\":[{\"type\":\"scatterpolargl\",\"marker\":{\"colorbar\":{\"outlinewidth\":0,\"ticks\":\"\"}}}],\"bar\":[{\"error_x\":{\"color\":\"#2a3f5f\"},\"error_y\":{\"color\":\"#2a3f5f\"},\"marker\":{\"line\":{\"color\":\"#E5ECF6\",\"width\":0.5},\"pattern\":{\"fillmode\":\"overlay\",\"size\":10,\"solidity\":0.2}},\"type\":\"bar\"}],\"scattergeo\":[{\"type\":\"scattergeo\",\"marker\":{\"colorbar\":{\"outlinewidth\":0,\"ticks\":\"\"}}}],\"scatterpolar\":[{\"type\":\"scatterpolar\",\"marker\":{\"colorbar\":{\"outlinewidth\":0,\"ticks\":\"\"}}}],\"histogram\":[{\"marker\":{\"pattern\":{\"fillmode\":\"overlay\",\"size\":10,\"solidity\":0.2}},\"type\":\"histogram\"}],\"scattergl\":[{\"type\":\"scattergl\",\"marker\":{\"colorbar\":{\"outlinewidth\":0,\"ticks\":\"\"}}}],\"scatter3d\":[{\"type\":\"scatter3d\",\"line\":{\"colorbar\":{\"outlinewidth\":0,\"ticks\":\"\"}},\"marker\":{\"colorbar\":{\"outlinewidth\":0,\"ticks\":\"\"}}}],\"scattermapbox\":[{\"type\":\"scattermapbox\",\"marker\":{\"colorbar\":{\"outlinewidth\":0,\"ticks\":\"\"}}}],\"scatterternary\":[{\"type\":\"scatterternary\",\"marker\":{\"colorbar\":{\"outlinewidth\":0,\"ticks\":\"\"}}}],\"scattercarpet\":[{\"type\":\"scattercarpet\",\"marker\":{\"colorbar\":{\"outlinewidth\":0,\"ticks\":\"\"}}}],\"carpet\":[{\"aaxis\":{\"endlinecolor\":\"#2a3f5f\",\"gridcolor\":\"white\",\"linecolor\":\"white\",\"minorgridcolor\":\"white\",\"startlinecolor\":\"#2a3f5f\"},\"baxis\":{\"endlinecolor\":\"#2a3f5f\",\"gridcolor\":\"white\",\"linecolor\":\"white\",\"minorgridcolor\":\"white\",\"startlinecolor\":\"#2a3f5f\"},\"type\":\"carpet\"}],\"table\":[{\"cells\":{\"fill\":{\"color\":\"#EBF0F8\"},\"line\":{\"color\":\"white\"}},\"header\":{\"fill\":{\"color\":\"#C8D4E3\"},\"line\":{\"color\":\"white\"}},\"type\":\"table\"}],\"barpolar\":[{\"marker\":{\"line\":{\"color\":\"#E5ECF6\",\"width\":0.5},\"pattern\":{\"fillmode\":\"overlay\",\"size\":10,\"solidity\":0.2}},\"type\":\"barpolar\"}],\"pie\":[{\"automargin\":true,\"type\":\"pie\"}]},\"layout\":{\"autotypenumbers\":\"strict\",\"colorway\":[\"#636efa\",\"#EF553B\",\"#00cc96\",\"#ab63fa\",\"#FFA15A\",\"#19d3f3\",\"#FF6692\",\"#B6E880\",\"#FF97FF\",\"#FECB52\"],\"font\":{\"color\":\"#2a3f5f\"},\"hovermode\":\"closest\",\"hoverlabel\":{\"align\":\"left\"},\"paper_bgcolor\":\"white\",\"plot_bgcolor\":\"#E5ECF6\",\"polar\":{\"bgcolor\":\"#E5ECF6\",\"angularaxis\":{\"gridcolor\":\"white\",\"linecolor\":\"white\",\"ticks\":\"\"},\"radialaxis\":{\"gridcolor\":\"white\",\"linecolor\":\"white\",\"ticks\":\"\"}},\"ternary\":{\"bgcolor\":\"#E5ECF6\",\"aaxis\":{\"gridcolor\":\"white\",\"linecolor\":\"white\",\"ticks\":\"\"},\"baxis\":{\"gridcolor\":\"white\",\"linecolor\":\"white\",\"ticks\":\"\"},\"caxis\":{\"gridcolor\":\"white\",\"linecolor\":\"white\",\"ticks\":\"\"}},\"coloraxis\":{\"colorbar\":{\"outlinewidth\":0,\"ticks\":\"\"}},\"colorscale\":{\"sequential\":[[0.0,\"#0d0887\"],[0.1111111111111111,\"#46039f\"],[0.2222222222222222,\"#7201a8\"],[0.3333333333333333,\"#9c179e\"],[0.4444444444444444,\"#bd3786\"],[0.5555555555555556,\"#d8576b\"],[0.6666666666666666,\"#ed7953\"],[0.7777777777777778,\"#fb9f3a\"],[0.8888888888888888,\"#fdca26\"],[1.0,\"#f0f921\"]],\"sequentialminus\":[[0.0,\"#0d0887\"],[0.1111111111111111,\"#46039f\"],[0.2222222222222222,\"#7201a8\"],[0.3333333333333333,\"#9c179e\"],[0.4444444444444444,\"#bd3786\"],[0.5555555555555556,\"#d8576b\"],[0.6666666666666666,\"#ed7953\"],[0.7777777777777778,\"#fb9f3a\"],[0.8888888888888888,\"#fdca26\"],[1.0,\"#f0f921\"]],\"diverging\":[[0,\"#8e0152\"],[0.1,\"#c51b7d\"],[0.2,\"#de77ae\"],[0.3,\"#f1b6da\"],[0.4,\"#fde0ef\"],[0.5,\"#f7f7f7\"],[0.6,\"#e6f5d0\"],[0.7,\"#b8e186\"],[0.8,\"#7fbc41\"],[0.9,\"#4d9221\"],[1,\"#276419\"]]},\"xaxis\":{\"gridcolor\":\"white\",\"linecolor\":\"white\",\"ticks\":\"\",\"title\":{\"standoff\":15},\"zerolinecolor\":\"white\",\"automargin\":true,\"zerolinewidth\":2},\"yaxis\":{\"gridcolor\":\"white\",\"linecolor\":\"white\",\"ticks\":\"\",\"title\":{\"standoff\":15},\"zerolinecolor\":\"white\",\"automargin\":true,\"zerolinewidth\":2},\"scene\":{\"xaxis\":{\"backgroundcolor\":\"#E5ECF6\",\"gridcolor\":\"white\",\"linecolor\":\"white\",\"showbackground\":true,\"ticks\":\"\",\"zerolinecolor\":\"white\",\"gridwidth\":2},\"yaxis\":{\"backgroundcolor\":\"#E5ECF6\",\"gridcolor\":\"white\",\"linecolor\":\"white\",\"showbackground\":true,\"ticks\":\"\",\"zerolinecolor\":\"white\",\"gridwidth\":2},\"zaxis\":{\"backgroundcolor\":\"#E5ECF6\",\"gridcolor\":\"white\",\"linecolor\":\"white\",\"showbackground\":true,\"ticks\":\"\",\"zerolinecolor\":\"white\",\"gridwidth\":2}},\"shapedefaults\":{\"line\":{\"color\":\"#2a3f5f\"}},\"annotationdefaults\":{\"arrowcolor\":\"#2a3f5f\",\"arrowhead\":0,\"arrowwidth\":1},\"geo\":{\"bgcolor\":\"white\",\"landcolor\":\"#E5ECF6\",\"subunitcolor\":\"white\",\"showland\":true,\"showlakes\":true,\"lakecolor\":\"white\"},\"title\":{\"x\":0.05},\"mapbox\":{\"style\":\"light\"}}},\"xaxis\":{\"anchor\":\"y\",\"domain\":[0.0,1.0],\"title\":{\"text\":\"Flavor \"},\"tickangle\":-65},\"yaxis\":{\"anchor\":\"x\",\"domain\":[0.0,1.0],\"title\":{\"text\":\"Correlation Coefficient \"}},\"coloraxis\":{\"colorbar\":{\"title\":{\"text\":\"Correlation Coefficient \"}},\"colorscale\":[[0.0,\"rgb(12,51,131)\"],[0.25,\"rgb(10,136,186)\"],[0.5,\"rgb(242,211,56)\"],[0.75,\"rgb(242,143,56)\"],[1.0,\"rgb(217,30,30)\"]]},\"legend\":{\"tracegroupgap\":0},\"title\":{\"text\":\"Correlation of Time and Stars by the Flavor\"},\"barmode\":\"relative\"},                        {\"responsive\": true}                    ).then(function(){\n",
       "                            \n",
       "var gd = document.getElementById('b3a39aad-5ccf-4b8c-aa89-c5c8618a7d25');\n",
       "var x = new MutationObserver(function (mutations, observer) {{\n",
       "        var display = window.getComputedStyle(gd).display;\n",
       "        if (!display || display === 'none') {{\n",
       "            console.log([gd, 'removed!']);\n",
       "            Plotly.purge(gd);\n",
       "            observer.disconnect();\n",
       "        }}\n",
       "}});\n",
       "\n",
       "// Listen for the removal of the full notebook cells\n",
       "var notebookContainer = gd.closest('#notebook-container');\n",
       "if (notebookContainer) {{\n",
       "    x.observe(notebookContainer, {childList: true});\n",
       "}}\n",
       "\n",
       "// Listen for the clearing of the current output cell\n",
       "var outputEl = gd.closest('.output');\n",
       "if (outputEl) {{\n",
       "    x.observe(outputEl, {childList: true});\n",
       "}}\n",
       "\n",
       "                        })                };                });            </script>        </div>"
      ]
     },
     "metadata": {},
     "output_type": "display_data"
    }
   ],
   "source": [
    "flavor_counts = df['Flavor'].value_counts()\n",
    "filtered_df = df[df['Flavor'].isin(flavor_counts[flavor_counts >= 15].index)]\n",
    "\n",
    "correlation_df = filtered_df.groupby('Flavor').apply(lambda x: x['Review #'].corr(x['Stars'])).round(3).reset_index()\n",
    "correlation_df.columns = ['Flavor', 'Correlation']\n",
    "\n",
    "sorted_correlations = correlation_df.sort_values(by='Correlation', ascending=False).reset_index(drop=True)\n",
    "\n",
    "print(sorted_correlations.head())\n",
    "print(\"----------------------------\")\n",
    "\n",
    "# Bar Chart Plot\n",
    "fig = px.bar(sorted_correlations, x='Flavor', y='Correlation', title='Correlation of Time and Stars by the Flavor',\n",
    "             labels={'Correlation': 'Correlation Coefficient ', 'Flavor': 'Flavor '}, color='Correlation',color_continuous_scale='portland')\n",
    "\n",
    "fig.update_traces(hovertemplate='Flavor = <b>%{x}</b><br>Correlation = <b>%{y}</b>')\n",
    "\n",
    "fig.update_layout(xaxis_tickangle=-65)\n",
    "\n",
    "fig.show()"
   ]
  },
  {
   "cell_type": "markdown",
   "id": "70e6fbe6",
   "metadata": {
    "papermill": {
     "duration": 0.029286,
     "end_time": "2024-07-20T15:59:26.274856",
     "exception": false,
     "start_time": "2024-07-20T15:59:26.245570",
     "status": "completed"
    },
    "tags": []
   },
   "source": [
    "<p style=\"font-size:18px;\"> It does appear that with time most of the flavours have a positive correlation with the star rating. Although vegetarian ramen is one of the least liked flavours (based on average stars) it does have a positive correlation which could suggest that with time the Ramen Rater is starting to prefer vegetarian ramen or that the world of vegetarian ramen has improved over the years and the flavour and products have been better refined with time.\n",
    "\n",
    "<p style=\"font-size:18px;\"> Finally I wanted to explore the style of the ramen and how the style could impact reviews. Once again I created a dataframe which groups the reviews by style and calculates the average stars per style."
   ]
  },
  {
   "cell_type": "code",
   "execution_count": 33,
   "id": "5bd1014b",
   "metadata": {
    "execution": {
     "iopub.execute_input": "2024-07-20T15:59:26.336655Z",
     "iopub.status.busy": "2024-07-20T15:59:26.336221Z",
     "iopub.status.idle": "2024-07-20T15:59:26.359658Z",
     "shell.execute_reply": "2024-07-20T15:59:26.358482Z"
    },
    "papermill": {
     "duration": 0.058336,
     "end_time": "2024-07-20T15:59:26.362674",
     "exception": false,
     "start_time": "2024-07-20T15:59:26.304338",
     "status": "completed"
    },
    "tags": []
   },
   "outputs": [
    {
     "data": {
      "text/html": [
       "<div>\n",
       "<style scoped>\n",
       "    .dataframe tbody tr th:only-of-type {\n",
       "        vertical-align: middle;\n",
       "    }\n",
       "\n",
       "    .dataframe tbody tr th {\n",
       "        vertical-align: top;\n",
       "    }\n",
       "\n",
       "    .dataframe thead th {\n",
       "        text-align: right;\n",
       "    }\n",
       "</style>\n",
       "<table border=\"1\" class=\"dataframe\">\n",
       "  <thead>\n",
       "    <tr style=\"text-align: right;\">\n",
       "      <th></th>\n",
       "      <th>Style</th>\n",
       "      <th>Review_Count</th>\n",
       "      <th>Avg_Stars</th>\n",
       "    </tr>\n",
       "  </thead>\n",
       "  <tbody>\n",
       "    <tr>\n",
       "      <th>1</th>\n",
       "      <td>Box</td>\n",
       "      <td>113</td>\n",
       "      <td>4.24</td>\n",
       "    </tr>\n",
       "    <tr>\n",
       "      <th>3</th>\n",
       "      <td>Other</td>\n",
       "      <td>6</td>\n",
       "      <td>3.88</td>\n",
       "    </tr>\n",
       "    <tr>\n",
       "      <th>4</th>\n",
       "      <td>Pack</td>\n",
       "      <td>2478</td>\n",
       "      <td>3.85</td>\n",
       "    </tr>\n",
       "    <tr>\n",
       "      <th>0</th>\n",
       "      <td>Bowl</td>\n",
       "      <td>927</td>\n",
       "      <td>3.68</td>\n",
       "    </tr>\n",
       "    <tr>\n",
       "      <th>5</th>\n",
       "      <td>Tray</td>\n",
       "      <td>207</td>\n",
       "      <td>3.57</td>\n",
       "    </tr>\n",
       "    <tr>\n",
       "      <th>2</th>\n",
       "      <td>Cup</td>\n",
       "      <td>908</td>\n",
       "      <td>3.49</td>\n",
       "    </tr>\n",
       "  </tbody>\n",
       "</table>\n",
       "</div>"
      ],
      "text/plain": [
       "   Style  Review_Count  Avg_Stars\n",
       "1    Box           113       4.24\n",
       "3  Other             6       3.88\n",
       "4   Pack          2478       3.85\n",
       "0   Bowl           927       3.68\n",
       "5   Tray           207       3.57\n",
       "2    Cup           908       3.49"
      ]
     },
     "execution_count": 33,
     "metadata": {},
     "output_type": "execute_result"
    }
   ],
   "source": [
    "style_df = df.groupby('Style').agg(Review_Count=('Style', 'size'),\n",
    "            Avg_Stars=('Stars', 'mean')).round(2).reset_index()\n",
    "\n",
    "style_df = style_df.sort_values(by='Avg_Stars', ascending=False)\n",
    "\n",
    "style_df.head(6)"
   ]
  },
  {
   "cell_type": "markdown",
   "id": "af441671",
   "metadata": {
    "papermill": {
     "duration": 0.029755,
     "end_time": "2024-07-20T15:59:26.423321",
     "exception": false,
     "start_time": "2024-07-20T15:59:26.393566",
     "status": "completed"
    },
    "tags": []
   },
   "source": [
    "<p style=\"font-size:18px;\"> With the dataframe created I can now plot this data. I decided to plot a pie chart to visualise the makeup of the dataframe and the percentage of each style in the dataframe. On top of this I wanted to visualise each review by style and finally I wanted to calculate the correlation between style and stars over time to see if over time if there has been an improvement in styles stars."
   ]
  },
  {
   "cell_type": "code",
   "execution_count": 34,
   "id": "9e818454",
   "metadata": {
    "execution": {
     "iopub.execute_input": "2024-07-20T15:59:26.487010Z",
     "iopub.status.busy": "2024-07-20T15:59:26.486582Z",
     "iopub.status.idle": "2024-07-20T15:59:26.692651Z",
     "shell.execute_reply": "2024-07-20T15:59:26.691314Z"
    },
    "papermill": {
     "duration": 0.240461,
     "end_time": "2024-07-20T15:59:26.695468",
     "exception": false,
     "start_time": "2024-07-20T15:59:26.455007",
     "status": "completed"
    },
    "tags": []
   },
   "outputs": [
    {
     "data": {
      "text/html": [
       "<div>                            <div id=\"f99fbec1-a4b3-4240-a39b-d8f3eadfcfb3\" class=\"plotly-graph-div\" style=\"height:600px; width:800px;\"></div>            <script type=\"text/javascript\">                require([\"plotly\"], function(Plotly) {                    window.PLOTLYENV=window.PLOTLYENV || {};                                    if (document.getElementById(\"f99fbec1-a4b3-4240-a39b-d8f3eadfcfb3\")) {                    Plotly.newPlot(                        \"f99fbec1-a4b3-4240-a39b-d8f3eadfcfb3\",                        [{\"customdata\":[[4.24],[3.88],[3.85],[3.68],[3.57],[3.49]],\"domain\":{\"x\":[0.0,1.0],\"y\":[0.0,1.0]},\"hovertemplate\":\"%{label} \\u003cbr\\u003e Review count: %{value} (%{percent})\\u003cbr\\u003e Average Stars: %{customdata[0]}\",\"labels\":[\"Box\",\"Other\",\"Pack\",\"Bowl\",\"Tray\",\"Cup\"],\"legendgroup\":\"\",\"name\":\"\",\"showlegend\":true,\"values\":[113,6,2478,927,207,908],\"type\":\"pie\"}],                        {\"template\":{\"data\":{\"histogram2dcontour\":[{\"type\":\"histogram2dcontour\",\"colorbar\":{\"outlinewidth\":0,\"ticks\":\"\"},\"colorscale\":[[0.0,\"#0d0887\"],[0.1111111111111111,\"#46039f\"],[0.2222222222222222,\"#7201a8\"],[0.3333333333333333,\"#9c179e\"],[0.4444444444444444,\"#bd3786\"],[0.5555555555555556,\"#d8576b\"],[0.6666666666666666,\"#ed7953\"],[0.7777777777777778,\"#fb9f3a\"],[0.8888888888888888,\"#fdca26\"],[1.0,\"#f0f921\"]]}],\"choropleth\":[{\"type\":\"choropleth\",\"colorbar\":{\"outlinewidth\":0,\"ticks\":\"\"}}],\"histogram2d\":[{\"type\":\"histogram2d\",\"colorbar\":{\"outlinewidth\":0,\"ticks\":\"\"},\"colorscale\":[[0.0,\"#0d0887\"],[0.1111111111111111,\"#46039f\"],[0.2222222222222222,\"#7201a8\"],[0.3333333333333333,\"#9c179e\"],[0.4444444444444444,\"#bd3786\"],[0.5555555555555556,\"#d8576b\"],[0.6666666666666666,\"#ed7953\"],[0.7777777777777778,\"#fb9f3a\"],[0.8888888888888888,\"#fdca26\"],[1.0,\"#f0f921\"]]}],\"heatmap\":[{\"type\":\"heatmap\",\"colorbar\":{\"outlinewidth\":0,\"ticks\":\"\"},\"colorscale\":[[0.0,\"#0d0887\"],[0.1111111111111111,\"#46039f\"],[0.2222222222222222,\"#7201a8\"],[0.3333333333333333,\"#9c179e\"],[0.4444444444444444,\"#bd3786\"],[0.5555555555555556,\"#d8576b\"],[0.6666666666666666,\"#ed7953\"],[0.7777777777777778,\"#fb9f3a\"],[0.8888888888888888,\"#fdca26\"],[1.0,\"#f0f921\"]]}],\"heatmapgl\":[{\"type\":\"heatmapgl\",\"colorbar\":{\"outlinewidth\":0,\"ticks\":\"\"},\"colorscale\":[[0.0,\"#0d0887\"],[0.1111111111111111,\"#46039f\"],[0.2222222222222222,\"#7201a8\"],[0.3333333333333333,\"#9c179e\"],[0.4444444444444444,\"#bd3786\"],[0.5555555555555556,\"#d8576b\"],[0.6666666666666666,\"#ed7953\"],[0.7777777777777778,\"#fb9f3a\"],[0.8888888888888888,\"#fdca26\"],[1.0,\"#f0f921\"]]}],\"contourcarpet\":[{\"type\":\"contourcarpet\",\"colorbar\":{\"outlinewidth\":0,\"ticks\":\"\"}}],\"contour\":[{\"type\":\"contour\",\"colorbar\":{\"outlinewidth\":0,\"ticks\":\"\"},\"colorscale\":[[0.0,\"#0d0887\"],[0.1111111111111111,\"#46039f\"],[0.2222222222222222,\"#7201a8\"],[0.3333333333333333,\"#9c179e\"],[0.4444444444444444,\"#bd3786\"],[0.5555555555555556,\"#d8576b\"],[0.6666666666666666,\"#ed7953\"],[0.7777777777777778,\"#fb9f3a\"],[0.8888888888888888,\"#fdca26\"],[1.0,\"#f0f921\"]]}],\"surface\":[{\"type\":\"surface\",\"colorbar\":{\"outlinewidth\":0,\"ticks\":\"\"},\"colorscale\":[[0.0,\"#0d0887\"],[0.1111111111111111,\"#46039f\"],[0.2222222222222222,\"#7201a8\"],[0.3333333333333333,\"#9c179e\"],[0.4444444444444444,\"#bd3786\"],[0.5555555555555556,\"#d8576b\"],[0.6666666666666666,\"#ed7953\"],[0.7777777777777778,\"#fb9f3a\"],[0.8888888888888888,\"#fdca26\"],[1.0,\"#f0f921\"]]}],\"mesh3d\":[{\"type\":\"mesh3d\",\"colorbar\":{\"outlinewidth\":0,\"ticks\":\"\"}}],\"scatter\":[{\"fillpattern\":{\"fillmode\":\"overlay\",\"size\":10,\"solidity\":0.2},\"type\":\"scatter\"}],\"parcoords\":[{\"type\":\"parcoords\",\"line\":{\"colorbar\":{\"outlinewidth\":0,\"ticks\":\"\"}}}],\"scatterpolargl\":[{\"type\":\"scatterpolargl\",\"marker\":{\"colorbar\":{\"outlinewidth\":0,\"ticks\":\"\"}}}],\"bar\":[{\"error_x\":{\"color\":\"#2a3f5f\"},\"error_y\":{\"color\":\"#2a3f5f\"},\"marker\":{\"line\":{\"color\":\"#E5ECF6\",\"width\":0.5},\"pattern\":{\"fillmode\":\"overlay\",\"size\":10,\"solidity\":0.2}},\"type\":\"bar\"}],\"scattergeo\":[{\"type\":\"scattergeo\",\"marker\":{\"colorbar\":{\"outlinewidth\":0,\"ticks\":\"\"}}}],\"scatterpolar\":[{\"type\":\"scatterpolar\",\"marker\":{\"colorbar\":{\"outlinewidth\":0,\"ticks\":\"\"}}}],\"histogram\":[{\"marker\":{\"pattern\":{\"fillmode\":\"overlay\",\"size\":10,\"solidity\":0.2}},\"type\":\"histogram\"}],\"scattergl\":[{\"type\":\"scattergl\",\"marker\":{\"colorbar\":{\"outlinewidth\":0,\"ticks\":\"\"}}}],\"scatter3d\":[{\"type\":\"scatter3d\",\"line\":{\"colorbar\":{\"outlinewidth\":0,\"ticks\":\"\"}},\"marker\":{\"colorbar\":{\"outlinewidth\":0,\"ticks\":\"\"}}}],\"scattermapbox\":[{\"type\":\"scattermapbox\",\"marker\":{\"colorbar\":{\"outlinewidth\":0,\"ticks\":\"\"}}}],\"scatterternary\":[{\"type\":\"scatterternary\",\"marker\":{\"colorbar\":{\"outlinewidth\":0,\"ticks\":\"\"}}}],\"scattercarpet\":[{\"type\":\"scattercarpet\",\"marker\":{\"colorbar\":{\"outlinewidth\":0,\"ticks\":\"\"}}}],\"carpet\":[{\"aaxis\":{\"endlinecolor\":\"#2a3f5f\",\"gridcolor\":\"white\",\"linecolor\":\"white\",\"minorgridcolor\":\"white\",\"startlinecolor\":\"#2a3f5f\"},\"baxis\":{\"endlinecolor\":\"#2a3f5f\",\"gridcolor\":\"white\",\"linecolor\":\"white\",\"minorgridcolor\":\"white\",\"startlinecolor\":\"#2a3f5f\"},\"type\":\"carpet\"}],\"table\":[{\"cells\":{\"fill\":{\"color\":\"#EBF0F8\"},\"line\":{\"color\":\"white\"}},\"header\":{\"fill\":{\"color\":\"#C8D4E3\"},\"line\":{\"color\":\"white\"}},\"type\":\"table\"}],\"barpolar\":[{\"marker\":{\"line\":{\"color\":\"#E5ECF6\",\"width\":0.5},\"pattern\":{\"fillmode\":\"overlay\",\"size\":10,\"solidity\":0.2}},\"type\":\"barpolar\"}],\"pie\":[{\"automargin\":true,\"type\":\"pie\"}]},\"layout\":{\"autotypenumbers\":\"strict\",\"colorway\":[\"#636efa\",\"#EF553B\",\"#00cc96\",\"#ab63fa\",\"#FFA15A\",\"#19d3f3\",\"#FF6692\",\"#B6E880\",\"#FF97FF\",\"#FECB52\"],\"font\":{\"color\":\"#2a3f5f\"},\"hovermode\":\"closest\",\"hoverlabel\":{\"align\":\"left\"},\"paper_bgcolor\":\"white\",\"plot_bgcolor\":\"#E5ECF6\",\"polar\":{\"bgcolor\":\"#E5ECF6\",\"angularaxis\":{\"gridcolor\":\"white\",\"linecolor\":\"white\",\"ticks\":\"\"},\"radialaxis\":{\"gridcolor\":\"white\",\"linecolor\":\"white\",\"ticks\":\"\"}},\"ternary\":{\"bgcolor\":\"#E5ECF6\",\"aaxis\":{\"gridcolor\":\"white\",\"linecolor\":\"white\",\"ticks\":\"\"},\"baxis\":{\"gridcolor\":\"white\",\"linecolor\":\"white\",\"ticks\":\"\"},\"caxis\":{\"gridcolor\":\"white\",\"linecolor\":\"white\",\"ticks\":\"\"}},\"coloraxis\":{\"colorbar\":{\"outlinewidth\":0,\"ticks\":\"\"}},\"colorscale\":{\"sequential\":[[0.0,\"#0d0887\"],[0.1111111111111111,\"#46039f\"],[0.2222222222222222,\"#7201a8\"],[0.3333333333333333,\"#9c179e\"],[0.4444444444444444,\"#bd3786\"],[0.5555555555555556,\"#d8576b\"],[0.6666666666666666,\"#ed7953\"],[0.7777777777777778,\"#fb9f3a\"],[0.8888888888888888,\"#fdca26\"],[1.0,\"#f0f921\"]],\"sequentialminus\":[[0.0,\"#0d0887\"],[0.1111111111111111,\"#46039f\"],[0.2222222222222222,\"#7201a8\"],[0.3333333333333333,\"#9c179e\"],[0.4444444444444444,\"#bd3786\"],[0.5555555555555556,\"#d8576b\"],[0.6666666666666666,\"#ed7953\"],[0.7777777777777778,\"#fb9f3a\"],[0.8888888888888888,\"#fdca26\"],[1.0,\"#f0f921\"]],\"diverging\":[[0,\"#8e0152\"],[0.1,\"#c51b7d\"],[0.2,\"#de77ae\"],[0.3,\"#f1b6da\"],[0.4,\"#fde0ef\"],[0.5,\"#f7f7f7\"],[0.6,\"#e6f5d0\"],[0.7,\"#b8e186\"],[0.8,\"#7fbc41\"],[0.9,\"#4d9221\"],[1,\"#276419\"]]},\"xaxis\":{\"gridcolor\":\"white\",\"linecolor\":\"white\",\"ticks\":\"\",\"title\":{\"standoff\":15},\"zerolinecolor\":\"white\",\"automargin\":true,\"zerolinewidth\":2},\"yaxis\":{\"gridcolor\":\"white\",\"linecolor\":\"white\",\"ticks\":\"\",\"title\":{\"standoff\":15},\"zerolinecolor\":\"white\",\"automargin\":true,\"zerolinewidth\":2},\"scene\":{\"xaxis\":{\"backgroundcolor\":\"#E5ECF6\",\"gridcolor\":\"white\",\"linecolor\":\"white\",\"showbackground\":true,\"ticks\":\"\",\"zerolinecolor\":\"white\",\"gridwidth\":2},\"yaxis\":{\"backgroundcolor\":\"#E5ECF6\",\"gridcolor\":\"white\",\"linecolor\":\"white\",\"showbackground\":true,\"ticks\":\"\",\"zerolinecolor\":\"white\",\"gridwidth\":2},\"zaxis\":{\"backgroundcolor\":\"#E5ECF6\",\"gridcolor\":\"white\",\"linecolor\":\"white\",\"showbackground\":true,\"ticks\":\"\",\"zerolinecolor\":\"white\",\"gridwidth\":2}},\"shapedefaults\":{\"line\":{\"color\":\"#2a3f5f\"}},\"annotationdefaults\":{\"arrowcolor\":\"#2a3f5f\",\"arrowhead\":0,\"arrowwidth\":1},\"geo\":{\"bgcolor\":\"white\",\"landcolor\":\"#E5ECF6\",\"subunitcolor\":\"white\",\"showland\":true,\"showlakes\":true,\"lakecolor\":\"white\"},\"title\":{\"x\":0.05},\"mapbox\":{\"style\":\"light\"}}},\"legend\":{\"tracegroupgap\":0},\"title\":{\"text\":\"Top 10 Styles by Review Count\"},\"width\":800,\"height\":600},                        {\"responsive\": true}                    ).then(function(){\n",
       "                            \n",
       "var gd = document.getElementById('f99fbec1-a4b3-4240-a39b-d8f3eadfcfb3');\n",
       "var x = new MutationObserver(function (mutations, observer) {{\n",
       "        var display = window.getComputedStyle(gd).display;\n",
       "        if (!display || display === 'none') {{\n",
       "            console.log([gd, 'removed!']);\n",
       "            Plotly.purge(gd);\n",
       "            observer.disconnect();\n",
       "        }}\n",
       "}});\n",
       "\n",
       "// Listen for the removal of the full notebook cells\n",
       "var notebookContainer = gd.closest('#notebook-container');\n",
       "if (notebookContainer) {{\n",
       "    x.observe(notebookContainer, {childList: true});\n",
       "}}\n",
       "\n",
       "// Listen for the clearing of the current output cell\n",
       "var outputEl = gd.closest('.output');\n",
       "if (outputEl) {{\n",
       "    x.observe(outputEl, {childList: true});\n",
       "}}\n",
       "\n",
       "                        })                };                });            </script>        </div>"
      ]
     },
     "metadata": {},
     "output_type": "display_data"
    },
    {
     "data": {
      "text/html": [
       "<div>                            <div id=\"e8c5d1e6-1f22-4b7a-ac1e-17d66f386a0e\" class=\"plotly-graph-div\" style=\"height:525px; width:100%;\"></div>            <script type=\"text/javascript\">                require([\"plotly\"], function(Plotly) {                    window.PLOTLYENV=window.PLOTLYENV || {};                                    if (document.getElementById(\"e8c5d1e6-1f22-4b7a-ac1e-17d66f386a0e\")) {                    Plotly.newPlot(                        \"e8c5d1e6-1f22-4b7a-ac1e-17d66f386a0e\",                        [{\"hovertemplate\":\"Review Number: %{x} \\u003cbr\\u003e Stars: %{y}\",\"legendgroup\":\"Pack\",\"marker\":{\"color\":\"#636efa\",\"symbol\":\"circle\"},\"mode\":\"markers\",\"name\":\"Pack\",\"showlegend\":true,\"x\":[4650,4649,4648,4647,4646,4645,4643,4640,4635,4634,4632,4631,4627,4625,4619,4610,4608,4607,4606,4604,4601,4599,4597,4596,4595,4593,4592,4588,4587,4586,4583,4581,4579,4578,4576,4575,4571,4569,4565,4564,4561,4560,4559,4558,4556,4555,4550,4549,4546,4544,4543,4541,4540,4539,4537,4536,4535,4533,4532,4530,4529,4527,4525,4513,4507,4505,4503,4502,4501,4500,4498,4497,4495,4492,4489,4483,4480,4478,4476,4475,4473,4470,4469,4468,4467,4466,4459,4458,4457,4454,4452,4451,4450,4449,4448,4446,4445,4444,4442,4441,4439,4438,4437,4436,4431,4429,4424,4422,4421,4418,4416,4414,4413,4412,4411,4410,4408,4407,4406,4405,4402,4400,4399,4398,4397,4393,4390,4389,4373,4367,4363,4361,4357,4354,4353,4349,4348,4346,4344,4330,4329,4327,4326,4323,4321,4320,4316,4313,4312,4311,4308,4307,4306,4304,4303,4301,4300,4294,4292,4291,4289,4286,4281,4273,4272,4268,4265,4264,4262,4254,4251,4249,4247,4241,4240,4239,4238,4237,4236,4235,4234,4227,4220,4219,4218,4215,4214,4213,4211,4207,4201,4200,4198,4194,4193,4190,4187,4184,4182,4179,4166,4164,4162,4161,4159,4152,4151,4143,4141,4138,4136,4134,4133,4124,4123,4121,4120,4117,4116,4115,4114,4112,4111,4109,4106,4105,4104,4103,4102,4100,4098,4094,4091,4088,4082,4080,4079,4077,4072,4070,4064,4062,4060,4058,4057,4055,4052,4051,4050,4043,4040,4031,4030,4027,4025,4021,4020,4018,4015,4013,4011,4010,4009,4008,4007,4005,4004,4003,3999,3991,3989,3988,3987,3986,3985,3982,3980,3978,3975,3973,3967,3958,3952,3949,3948,3945,3944,3942,3938,3935,3934,3933,3930,3926,3925,3921,3920,3917,3914,3911,3906,3903,3902,3900,3899,3897,3896,3891,3884,3883,3879,3878,3877,3873,3868,3865,3864,3863,3861,3860,3859,3858,3857,3855,3853,3851,3850,3849,3845,3844,3842,3841,3840,3838,3836,3834,3832,3831,3830,3828,3821,3816,3811,3810,3807,3806,3803,3797,3795,3794,3792,3790,3789,3788,3783,3777,3774,3772,3771,3767,3766,3765,3764,3761,3758,3756,3755,3754,3753,3752,3747,3745,3743,3742,3737,3736,3732,3729,3728,3726,3717,3715,3714,3713,3709,3708,3707,3706,3705,3704,3703,3702,3700,3699,3696,3695,3693,3687,3685,3681,3679,3678,3677,3675,3674,3673,3672,3671,3667,3666,3663,3658,3656,3655,3654,3653,3645,3644,3643,3642,3641,3640,3638,3637,3636,3633,3632,3631,3630,3629,3628,3626,3624,3621,3619,3618,3617,3616,3615,3613,3612,3611,3609,3607,3606,3605,3603,3601,3598,3596,3595,3591,3586,3585,3584,3583,3582,3581,3580,3579,3578,3577,3576,3575,3574,3572,3571,3570,3568,3567,3566,3565,3563,3561,3560,3557,3556,3552,3551,3550,3549,3548,3547,3546,3539,3538,3534,3528,3523,3522,3518,3516,3515,3501,3500,3497,3491,3486,3485,3483,3481,3474,3473,3472,3471,3468,3465,3464,3463,3462,3461,3460,3457,3456,3454,3452,3451,3450,3449,3447,3446,3445,3444,3440,3437,3432,3431,3429,3427,3424,3423,3420,3419,3418,3413,3409,3402,3399,3398,3397,3391,3390,3383,3382,3380,3379,3373,3371,3369,3368,3367,3366,3364,3357,3355,3353,3351,3350,3349,3348,3344,3342,3341,3340,3339,3337,3335,3333,3330,3327,3326,3325,3324,3322,3321,3320,3318,3316,3312,3311,3310,3309,3308,3306,3304,3301,3298,3297,3296,3295,3293,3291,3289,3287,3286,3285,3284,3282,3281,3279,3277,3276,3275,3272,3270,3269,3268,3267,3266,3263,3262,3259,3256,3255,3254,3253,3252,3248,3247,3244,3240,3239,3238,3237,3236,3234,3229,3228,3221,3218,3215,3213,3212,3210,3209,3205,3202,3201,3198,3197,3196,3193,3191,3190,3189,3188,3187,3186,3185,3184,3182,3179,3174,3173,3172,3165,3164,3161,3160,3157,3156,3151,3148,3147,3144,3143,3142,3140,3139,3134,3131,3126,3118,3117,3115,3114,3112,3109,3106,3105,3104,3101,3096,3095,3093,3084,3083,3082,3081,3080,3079,3078,3074,3072,3071,3070,3064,3058,3055,3054,3051,3050,3047,3046,3045,3044,3043,3042,3040,3039,3038,3037,3036,3033,3032,3026,3025,3022,3021,3020,3019,3017,3016,3015,3014,3012,3011,3007,3005,3002,3001,2997,2992,2991,2990,2989,2988,2986,2984,2983,2979,2978,2975,2974,2973,2972,2971,2967,2966,2963,2962,2957,2955,2954,2950,2948,2946,2945,2944,2943,2942,2941,2938,2937,2935,2931,2930,2927,2925,2924,2923,2921,2920,2917,2915,2913,2910,2908,2907,2904,2903,2898,2897,2896,2895,2893,2892,2889,2888,2887,2886,2885,2884,2883,2880,2874,2873,2866,2865,2864,2863,2862,2861,2860,2859,2858,2857,2854,2851,2846,2845,2844,2840,2839,2834,2833,2830,2829,2825,2823,2821,2819,2816,2814,2813,2812,2811,2810,2803,2802,2800,2798,2797,2796,2794,2792,2791,2790,2788,2785,2784,2783,2782,2781,2780,2779,2778,2777,2775,2773,2769,2767,2766,2763,2762,2761,2760,2758,2757,2756,2755,2752,2751,2750,2748,2746,2744,2741,2740,2739,2738,2737,2735,2733,2732,2728,2723,2714,2713,2712,2710,2709,2708,2706,2705,2703,2701,2700,2695,2693,2691,2690,2684,2682,2680,2679,2678,2677,2674,2673,2672,2669,2665,2664,2663,2662,2661,2660,2659,2658,2657,2656,2655,2654,2653,2652,2651,2650,2649,2646,2645,2644,2639,2638,2631,2625,2621,2618,2616,2615,2611,2610,2609,2608,2607,2606,2605,2604,2602,2601,2597,2596,2594,2593,2590,2589,2588,2587,2579,2577,2576,2575,2572,2571,2570,2569,2568,2566,2564,2563,2562,2561,2559,2557,2556,2554,2551,2550,2549,2545,2540,2536,2534,2533,2531,2530,2528,2527,2525,2524,2523,2522,2521,2518,2516,2514,2512,2510,2509,2508,2507,2506,2504,2502,2501,2498,2496,2494,2492,2490,2488,2486,2484,2482,2479,2478,2477,2474,2473,2472,2470,2467,2466,2463,2461,2459,2457,2456,2453,2451,2450,2449,2447,2445,2440,2438,2436,2435,2434,2430,2427,2424,2423,2421,2417,2412,2411,2410,2409,2408,2407,2406,2404,2402,2399,2396,2395,2393,2391,2388,2386,2384,2380,2378,2374,2373,2370,2369,2368,2367,2366,2365,2364,2363,2360,2355,2352,2351,2348,2346,2345,2342,2338,2332,2330,2329,2328,2325,2324,2323,2318,2313,2312,2311,2310,2307,2305,2304,2303,2300,2299,2293,2292,2291,2290,2287,2283,2282,2280,2278,2275,2271,2270,2269,2268,2267,2264,2263,2260,2257,2251,2250,2249,2244,2241,2238,2230,2229,2227,2226,2224,2223,2222,2220,2218,2217,2215,2213,2212,2210,2209,2208,2194,2193,2192,2191,2187,2186,2185,2183,2182,2181,2179,2178,2177,2176,2175,2173,2172,2171,2170,2169,2168,2166,2164,2162,2161,2159,2157,2155,2154,2153,2152,2151,2150,2149,2148,2144,2143,2139,2138,2137,2136,2135,2134,2131,2130,2129,2125,2122,2121,2116,2114,2112,2110,2109,2108,2107,2106,2105,2103,2101,2100,2097,2095,2094,2093,2092,2090,2087,2086,2084,2083,2080,2075,2073,2071,2069,2068,2067,2066,2065,2064,2063,2062,2059,2058,2056,2051,2049,2047,2046,2045,2041,2038,2037,2036,2033,2031,2030,2028,2020,2018,2015,2014,2013,2012,2011,2010,2007,2005,1993,1989,1988,1986,1985,1983,1982,1981,1978,1977,1976,1975,1974,1973,1972,1971,1970,1969,1968,1967,1966,1965,1964,1959,1955,1954,1953,1952,1950,1949,1948,1947,1946,1945,1944,1942,1941,1939,1936,1935,1934,1933,1932,1931,1930,1929,1928,1925,1924,1920,1918,1916,1914,1912,1909,1907,1906,1905,1904,1903,1902,1901,1900,1899,1896,1894,1892,1890,1889,1887,1885,1883,1881,1879,1877,1876,1875,1874,1872,1870,1869,1866,1864,1863,1862,1859,1855,1854,1853,1851,1850,1849,1848,1847,1845,1843,1842,1841,1840,1839,1838,1837,1836,1835,1834,1833,1832,1831,1830,1829,1828,1827,1826,1825,1823,1822,1815,1814,1813,1811,1810,1806,1805,1804,1803,1801,1798,1797,1796,1795,1794,1793,1792,1791,1789,1787,1784,1783,1782,1780,1779,1778,1774,1772,1769,1767,1764,1763,1762,1758,1757,1756,1755,1752,1751,1749,1747,1745,1744,1743,1742,1740,1736,1734,1733,1731,1730,1725,1724,1723,1722,1721,1717,1716,1715,1714,1713,1712,1711,1710,1709,1708,1705,1704,1701,1700,1699,1697,1694,1692,1689,1687,1686,1685,1683,1682,1680,1678,1677,1676,1675,1673,1671,1670,1667,1665,1664,1663,1662,1660,1659,1657,1655,1654,1653,1652,1651,1650,1649,1648,1640,1638,1637,1636,1635,1632,1624,1623,1622,1620,1619,1618,1617,1616,1615,1614,1612,1610,1609,1608,1606,1605,1604,1603,1602,1601,1600,1599,1596,1595,1593,1592,1591,1590,1589,1588,1586,1585,1584,1583,1582,1581,1580,1579,1577,1576,1574,1572,1571,1569,1565,1563,1562,1561,1559,1557,1556,1555,1554,1553,1552,1550,1549,1546,1545,1543,1541,1540,1538,1537,1536,1535,1534,1533,1532,1531,1530,1529,1527,1526,1524,1522,1520,1519,1518,1517,1516,1515,1514,1513,1512,1511,1510,1508,1507,1506,1505,1504,1502,1500,1499,1498,1496,1492,1491,1489,1488,1487,1486,1485,1484,1483,1482,1481,1480,1478,1477,1476,1474,1472,1471,1469,1467,1466,1465,1464,1460,1457,1455,1453,1450,1448,1445,1443,1442,1440,1439,1438,1437,1435,1433,1432,1431,1429,1428,1425,1424,1423,1420,1418,1417,1416,1415,1414,1413,1412,1411,1410,1409,1407,1406,1405,1402,1400,1398,1397,1396,1394,1393,1392,1391,1390,1389,1388,1387,1386,1385,1384,1383,1382,1381,1380,1379,1378,1377,1376,1375,1374,1370,1369,1367,1363,1362,1361,1360,1358,1356,1355,1353,1352,1351,1350,1348,1347,1346,1345,1344,1343,1342,1340,1338,1337,1336,1335,1334,1333,1332,1331,1328,1327,1326,1324,1323,1322,1321,1319,1317,1316,1315,1314,1313,1312,1311,1308,1306,1305,1304,1302,1301,1300,1297,1296,1295,1293,1289,1287,1286,1282,1280,1279,1278,1277,1276,1275,1274,1273,1272,1271,1270,1269,1268,1260,1258,1252,1251,1248,1247,1246,1245,1244,1243,1241,1240,1239,1238,1237,1235,1234,1233,1232,1231,1230,1229,1228,1224,1223,1221,1219,1218,1216,1212,1210,1209,1208,1206,1205,1203,1202,1201,1200,1199,1198,1195,1192,1191,1186,1185,1183,1182,1181,1180,1179,1177,1176,1175,1174,1173,1172,1171,1163,1162,1161,1160,1156,1154,1153,1152,1151,1150,1149,1148,1147,1146,1145,1144,1143,1142,1141,1140,1139,1138,1137,1136,1135,1134,1133,1131,1129,1128,1126,1125,1123,1122,1121,1120,1119,1116,1114,1112,1111,1110,1104,1102,1100,1099,1098,1097,1096,1095,1094,1093,1092,1091,1090,1089,1088,1087,1086,1085,1082,1081,1080,1079,1078,1077,1076,1075,1074,1073,1072,1071,1070,1068,1066,1065,1064,1063,1062,1061,1060,1059,1058,1057,1056,1055,1054,1053,1052,1051,1050,1046,1043,1042,1041,1040,1038,1037,1032,1031,1030,1029,1028,1026,1025,1024,1023,1022,1021,1019,1018,1017,1015,1013,1012,1006,1004,1001,997,995,994,993,992,991,989,988,987,986,981,977,973,972,966,961,959,957,956,954,953,951,949,948,944,943,942,941,940,937,936,934,932,929,926,925,924,923,920,919,917,915,914,911,909,906,901,899,897,896,895,892,891,890,889,888,887,886,885,884,883,882,878,876,873,871,870,869,867,866,864,863,862,861,860,858,852,850,849,846,845,844,843,841,838,837,836,835,834,833,832,831,828,827,826,824,823,821,819,818,816,814,813,812,811,810,809,807,802,801,800,797,796,794,793,790,789,788,787,786,785,781,780,779,777,776,774,772,771,770,765,763,762,761,757,754,753,749,747,745,744,742,741,740,737,734,733,732,731,730,729,728,727,726,724,723,720,719,718,715,714,713,711,708,703,702,700,697,694,692,688,686,685,684,683,681,680,677,676,675,674,673,672,671,666,665,664,663,660,657,655,653,652,651,650,648,643,641,640,638,636,635,633,632,629,627,624,623,620,618,617,616,615,614,611,610,609,608,606,604,603,601,600,599,597,596,595,593,592,588,587,586,583,582,581,580,579,578,575,574,571,563,562,561,557,556,555,554,552,551,550,549,547,546,545,544,542,541,540,539,538,537,536,535,534,533,532,531,529,528,526,525,522,517,505,504,503,501,500,498,497,495,493,491,489,486,479,478,477,475,471,470,469,468,467,464,463,462,461,459,457,454,452,450,449,447,445,444,443,442,441,435,434,431,430,429,428,427,426,425,424,418,417,414,413,410,409,408,406,405,404,391,389,384,383,382,381,375,374,370,367,366,363,362,358,357,356,353,352,351,347,345,344,343,341,340,339,337,336,330,327,320,319,311,310,308,300,298,294,292,290,289,288,285,282,278,277,276,274,273,272,271,270,266,264,262,261,259,254,252,251,250,249,248,247,246,245,243,239,236,235,234,232,231,229,227,225,222,221,220,219,210,208,207,205,199,195,194,192,191,190,188,187,186,184,182,181,179,178,177,175,174,173,172,171,170,169,167,166,165,164,163,162,161,159,155,152,151,148,147,146,145,144,143,141,140,139,138,136,135,133,132,131,130,129,128,127,126,125,123,122,121,120,119,118,117,116,115,114,113,112,111,110,109,107,106,105,104,103,102,101,100,99,98,97,96,95,94,93,91,90,89,88,87,86,85,84,83,82,81,80,79,78,77,76,75,74,73,72,71,70,69,68,67,66,65,64,62,61,60,59,58,56,55,54,52,51,50,49,48,47,46,45,44,42,40,38,37,36,35,34,33,32,30,28,27,26,25,24,23,22,21,20,19,18,17,16,15,14,13,12,11,10,8,7,6,4,3,2,1],\"xaxis\":\"x\",\"y\":[5.0,5.0,4.5,4.5,5.0,3.75,5.0,3.75,5.0,5.0,5.0,2.5,4.0,5.0,3.25,4.0,4.0,5.0,5.0,5.0,2.5,3.25,5.0,4.5,5.0,5.0,3.75,3.75,3.75,5.0,4.5,5.0,3.5,4.5,5.0,5.0,5.0,4.5,5.0,5.0,4.0,5.0,4.0,5.0,5.0,5.0,5.0,5.0,4.0,5.0,5.0,3.5,5.0,4.0,5.0,2.0,5.0,5.0,4.25,3.0,3.5,5.0,4.0,5.0,5.0,5.0,5.0,5.0,3.25,3.75,3.5,4.5,3.75,3.75,5.0,5.0,5.0,5.0,5.0,5.0,3.5,3.0,1.0,3.5,5.0,5.0,5.0,4.0,4.5,5.0,3.75,4.75,5.0,5.0,5.0,3.0,3.5,3.75,3.75,4.0,3.5,4.5,4.0,5.0,5.0,3.75,5.0,3.5,4.5,5.0,5.0,3.75,2.5,4.0,1.0,2.5,5.0,5.0,4.5,3.75,4.0,1.5,3.0,5.0,4.0,5.0,5.0,4.25,1.5,4.0,4.5,5.0,4.0,3.0,4.75,4.25,4.75,4.0,3.5,4.75,4.25,3.75,3.25,2.75,5.0,4.5,4.0,4.25,5.0,3.75,5.0,3.5,5.0,4.0,3.25,3.5,3.5,5.0,5.0,4.5,5.0,5.0,5.0,3.5,3.5,5.0,3.5,3.5,5.0,5.0,5.0,0.5,5.0,5.0,4.0,2.5,5.0,4.0,3.75,5.0,4.5,5.0,4.0,3.75,4.5,3.25,4.0,2.75,5.0,4.25,5.0,5.0,5.0,5.0,4.25,2.0,3.75,5.0,5.0,0.25,5.0,5.0,5.0,4.0,3.5,3.5,5.0,3.75,5.0,2.0,3.5,4.75,5.0,5.0,3.0,5.0,3.0,4.5,2.75,4.5,3.75,5.0,3.75,5.0,5.0,5.0,5.0,5.0,5.0,3.75,5.0,5.0,0.25,5.0,3.75,3.5,5.0,4.5,3.25,5.0,5.0,5.0,4.5,3.75,5.0,5.0,2.25,5.0,5.0,4.0,5.0,3.5,4.0,3.75,5.0,5.0,4.75,4.5,5.0,5.0,4.0,5.0,5.0,4.0,5.0,3.0,4.0,3.75,5.0,4.5,3.5,2.75,3.5,5.0,5.0,1.5,5.0,3.5,3.75,3.75,4.0,4.0,3.5,5.0,3.5,3.5,5.0,1.0,5.0,4.75,5.0,4.25,3.5,4.5,4.5,5.0,3.25,5.0,5.0,5.0,3.75,0.0,3.5,4.0,5.0,3.5,4.5,5.0,5.0,4.0,4.0,5.0,3.75,4.25,3.5,4.5,3.5,3.0,3.5,4.5,4.5,4.5,5.0,2.5,3.5,5.0,3.5,4.0,5.0,4.5,1.75,4.0,2.5,3.5,3.5,4.5,5.0,2.0,5.0,3.75,3.5,5.0,1.25,3.5,3.75,3.5,3.75,3.5,2.0,4.5,3.5,4.5,5.0,1.25,4.5,5.0,3.5,5.0,3.5,2.5,4.0,1.75,1.0,4.0,4.5,5.0,5.0,4.0,4.5,4.0,5.0,1.75,5.0,5.0,5.0,3.5,5.0,4.25,2.75,5.0,4.75,4.0,5.0,3.5,5.0,5.0,3.75,3.5,2.0,4.5,3.5,5.0,5.0,4.5,4.0,5.0,3.75,4.5,5.0,4.5,3.5,4.0,4.25,4.25,4.5,5.0,4.75,4.5,3.75,5.0,4.5,4.0,4.0,5.0,4.5,5.0,3.5,4.5,3.75,3.25,5.0,4.25,5.0,4.0,4.0,5.0,3.5,4.5,3.75,3.5,4.5,5.0,5.0,4.0,3.75,5.0,5.0,3.5,3.75,4.5,5.0,5.0,3.5,3.75,3.5,3.5,4.75,5.0,3.5,4.5,5.0,4.5,3.5,4.0,4.0,3.5,4.0,4.5,4.5,3.75,5.0,4.0,3.5,3.75,4.5,1.25,4.5,5.0,4.5,5.0,5.0,4.0,4.0,3.5,5.0,5.0,3.5,4.0,2.75,5.0,4.0,3.75,3.5,3.5,2.0,3.25,3.75,4.5,5.0,4.75,3.25,4.0,4.0,3.5,1.5,4.0,4.5,4.5,4.25,4.25,5.0,3.5,5.0,5.0,3.75,5.0,3.75,5.0,4.0,5.0,5.0,4.0,4.5,4.0,5.0,4.0,5.0,0.0,2.5,3.5,5.0,4.5,3.75,5.0,5.0,5.0,2.5,5.0,5.0,4.25,3.5,4.0,3.5,3.75,5.0,2.0,3.75,5.0,5.0,2.0,5.0,5.0,3.5,5.0,5.0,5.0,0.0,4.0,3.25,4.0,5.0,5.0,3.5,3.5,4.0,4.0,3.0,1.0,3.0,3.5,3.5,3.75,4.0,5.0,5.0,5.0,4.5,3.5,5.0,5.0,3.75,4.75,4.0,4.5,3.5,3.75,4.5,3.75,3.5,4.0,3.5,5.0,5.0,4.5,5.0,4.5,5.0,5.0,5.0,2.0,3.5,4.0,5.0,3.25,3.75,3.75,4.25,4.0,5.0,3.5,5.0,4.0,4.25,4.25,5.0,5.0,3.5,4.0,4.0,5.0,3.0,4.5,4.5,4.5,5.0,4.75,5.0,5.0,4.5,3.75,4.0,5.0,4.0,5.0,5.0,3.5,1.0,3.5,5.0,2.25,1.5,4.5,5.0,5.0,5.0,3.75,5.0,5.0,5.0,4.0,5.0,4.0,4.0,4.25,2.25,3.5,3.75,3.75,2.0,3.25,3.25,2.0,3.75,5.0,3.5,4.5,3.5,5.0,5.0,5.0,5.0,5.0,5.0,4.0,5.0,3.75,3.75,5.0,4.0,5.0,5.0,5.0,5.0,3.75,2.0,5.0,3.75,5.0,5.0,2.5,5.0,3.75,5.0,3.5,1.0,3.5,3.5,3.5,1.25,1.0,5.0,5.0,4.25,3.0,3.75,5.0,3.25,3.25,4.25,5.0,5.0,5.0,3.5,2.5,4.0,4.5,4.0,3.0,4.0,4.0,4.0,3.5,5.0,4.0,4.75,5.0,3.75,5.0,3.75,3.5,5.0,2.0,4.5,5.0,4.75,4.0,4.5,4.25,3.75,4.5,5.0,4.25,3.5,3.25,4.25,3.5,5.0,3.75,3.75,2.0,5.0,5.0,3.5,5.0,5.0,0.0,5.0,3.5,3.75,5.0,3.75,3.25,3.75,4.5,3.5,3.5,3.5,1.75,5.0,2.75,3.5,2.5,3.75,5.0,3.5,5.0,1.0,5.0,5.0,5.0,5.0,5.0,3.75,4.75,3.0,5.0,2.75,5.0,4.75,4.25,3.5,3.75,3.25,3.0,4.0,3.5,5.0,4.5,3.0,5.0,5.0,2.0,3.75,2.0,3.5,4.0,5.0,5.0,5.0,3.5,3.5,5.0,5.0,3.75,4.0,4.5,5.0,3.5,4.25,3.25,3.75,4.0,4.5,3.75,3.25,4.5,3.75,5.0,5.0,4.25,4.5,3.75,3.0,4.5,3.5,5.0,2.75,3.75,4.25,5.0,4.5,5.0,5.0,5.0,4.0,3.75,5.0,4.25,4.5,5.0,4.0,3.75,2.0,4.5,2.0,5.0,3.25,3.5,2.0,3.5,3.5,5.0,4.25,3.5,5.0,5.0,5.0,5.0,5.0,5.0,3.5,3.5,4.0,5.0,5.0,4.25,5.0,5.0,3.75,3.25,5.0,4.0,3.5,3.25,4.0,0.25,3.5,3.5,1.5,5.0,5.0,4.0,5.0,5.0,4.5,4.5,3.5,4.0,4.0,4.25,5.0,4.25,2.0,3.75,4.25,5.0,0.0,4.0,3.5,5.0,5.0,4.0,3.5,3.25,5.0,3.75,5.0,3.75,3.5,3.25,5.0,4.5,2.75,4.0,4.0,4.25,5.0,4.25,4.25,3.5,5.0,5.0,4.0,2.0,0.0,5.0,3.5,5.0,3.5,5.0,5.0,5.0,4.5,2.5,4.0,4.25,4.25,5.0,3.25,4.75,5.0,4.75,4.75,3.25,3.25,4.0,2.5,4.25,1.0,2.75,3.75,4.75,0.25,2.5,5.0,5.0,4.25,5.0,3.75,5.0,4.0,4.0,5.0,4.75,4.25,3.5,4.0,5.0,4.5,5.0,3.25,3.5,4.0,5.0,4.25,2.0,5.0,0.0,3.5,5.0,4.5,5.0,4.5,4.0,3.5,4.5,5.0,5.0,3.5,3.75,4.0,3.75,3.0,1.5,4.0,3.75,4.5,3.5,3.75,3.5,3.75,3.5,4.0,4.75,4.0,5.0,5.0,4.25,2.0,3.5,3.75,3.5,4.0,3.25,4.5,3.5,3.5,4.25,4.5,5.0,4.0,5.0,3.0,4.25,4.5,5.0,4.75,3.5,4.25,5.0,2.5,3.75,3.5,5.0,3.75,3.25,3.75,3.75,3.5,3.75,4.5,0.25,5.0,3.75,4.0,3.25,4.25,3.0,5.0,4.25,4.0,4.25,3.75,4.5,4.5,4.5,4.5,4.25,3.75,4.0,5.0,5.0,4.0,4.0,1.5,3.5,1.25,4.0,3.25,1.0,5.0,3.75,3.5,3.75,4.0,4.5,2.75,4.0,5.0,5.0,5.0,3.5,5.0,3.75,4.0,4.0,3.5,5.0,3.25,4.0,3.0,5.0,4.5,3.5,5.0,0.0,4.5,5.0,4.0,4.75,3.75,5.0,3.75,3.5,4.5,2.0,0.5,4.25,5.0,2.25,3.75,4.0,3.75,3.75,3.5,0.5,4.0,4.0,3.75,2.75,4.0,3.75,5.0,5.0,4.0,4.75,5.0,3.75,3.75,3.75,5.0,0.25,3.5,2.5,5.0,4.0,5.0,3.5,5.0,3.5,3.5,3.5,5.0,3.75,3.75,5.0,3.5,3.5,3.75,4.0,3.75,4.0,5.0,4.0,5.0,5.0,5.0,3.25,3.75,3.5,4.0,3.75,5.0,4.75,3.25,5.0,4.5,3.5,3.25,3.75,3.5,4.25,4.0,2.0,3.75,4.0,4.25,5.0,3.75,4.75,3.5,4.0,3.5,3.75,3.0,4.25,1.0,4.5,3.5,3.0,0.0,4.0,4.0,5.0,5.0,5.0,2.0,4.0,5.0,4.0,5.0,5.0,5.0,4.0,4.5,4.0,5.0,3.75,5.0,4.5,5.0,3.0,5.0,3.25,3.75,2.5,3.75,0.0,3.5,3.5,4.5,3.75,3.5,4.5,1.5,3.5,4.25,2.5,5.0,3.75,3.5,3.5,4.0,5.0,4.5,3.5,2.0,2.0,3.75,3.75,4.5,5.0,5.0,3.5,4.25,5.0,4.0,4.25,5.0,5.0,5.0,4.25,3.25,5.0,4.25,2.75,3.5,5.0,4.75,3.5,4.5,3.75,5.0,5.0,4.0,4.75,2.0,5.0,3.75,4.0,3.5,1.5,5.0,4.75,3.5,5.0,3.5,2.5,5.0,1.0,3.75,5.0,4.5,3.75,3.75,0.25,3.5,3.0,5.0,3.5,0.75,3.5,3.0,5.0,3.75,3.5,5.0,3.5,3.5,3.0,4.5,5.0,5.0,5.0,1.5,3.5,2.75,4.0,4.5,2.75,4.25,3.0,4.0,3.5,3.5,4.5,3.75,5.0,2.5,5.0,2.75,3.5,5.0,5.0,0.0,3.75,5.0,3.0,3.5,3.5,3.5,4.5,3.5,5.0,3.0,3.25,4.5,5.0,4.0,3.25,5.0,4.5,5.0,5.0,5.0,5.0,3.75,3.5,4.0,4.75,5.0,5.0,5.0,3.5,4.5,4.0,3.5,4.0,3.0,4.25,3.5,5.0,3.5,4.0,4.75,4.0,3.75,2.75,3.5,4.75,0.0,3.0,3.5,3.5,4.25,3.5,4.0,5.0,4.5,0.0,4.5,3.25,5.0,5.0,5.0,5.0,4.0,3.75,4.5,4.0,3.5,3.25,4.25,4.0,4.75,5.0,5.0,3.5,3.5,5.0,4.5,4.5,4.25,5.0,4.25,3.75,5.0,4.5,3.25,3.5,3.75,4.5,4.25,4.0,3.5,3.75,3.75,5.0,4.5,4.0,5.0,4.0,4.0,4.5,3.75,4.25,4.0,3.5,5.0,4.75,3.25,5.0,3.75,3.5,4.0,5.0,4.0,4.5,5.0,5.0,4.25,4.5,3.5,5.0,3.75,5.0,1.5,2.0,4.0,5.0,3.0,2.75,2.75,3.0,5.0,5.0,5.0,3.75,4.25,4.25,4.25,2.0,5.0,3.0,3.25,2.75,3.0,3.0,5.0,4.0,3.25,3.75,2.5,5.0,3.5,4.0,5.0,3.25,3.0,0.25,4.5,4.0,3.5,1.0,5.0,3.5,5.0,5.0,3.5,3.0,5.0,4.25,5.0,3.5,3.75,3.75,3.5,3.75,5.0,3.75,4.0,4.0,2.75,3.75,4.0,3.75,3.75,3.5,3.75,3.5,4.0,2.5,4.25,2.75,4.5,4.0,3.5,3.75,3.5,3.0,3.75,3.5,5.0,5.0,3.5,5.0,3.75,3.75,4.25,4.5,3.75,3.25,3.5,3.75,3.75,4.5,3.75,4.0,4.0,4.5,3.75,3.5,3.25,3.0,3.5,4.5,3.5,3.75,4.0,4.5,4.0,1.75,3.25,3.25,5.0,3.5,3.75,3.25,4.25,4.0,5.0,3.25,3.5,4.5,4.0,3.75,3.25,5.0,3.25,5.0,5.0,3.75,4.0,4.0,3.5,4.0,4.0,4.0,3.5,4.0,3.75,5.0,3.25,4.5,5.0,3.5,4.75,3.75,3.75,3.75,5.0,5.0,4.25,5.0,4.25,3.5,3.0,3.5,3.5,3.0,4.0,3.75,5.0,5.0,3.5,3.0,4.5,1.5,3.0,3.75,1.0,1.75,2.0,0.5,5.0,5.0,4.0,4.0,3.25,3.5,5.0,3.75,3.75,3.75,3.75,3.0,4.0,4.75,4.5,4.25,4.0,3.5,4.75,1.75,3.75,4.0,4.5,3.75,3.0,4.75,4.75,5.0,3.75,4.0,5.0,4.25,3.75,4.0,3.25,3.25,3.25,1.5,2.75,3.5,5.0,3.75,4.0,3.25,3.25,3.75,3.75,4.0,5.0,3.75,4.0,3.75,2.25,4.0,3.25,4.5,2.75,1.5,4.25,3.75,4.0,3.75,3.75,3.75,3.75,3.75,3.0,3.75,3.5,2.0,4.0,3.75,4.25,2.5,2.75,2.75,5.0,3.25,3.75,4.0,5.0,2.5,3.75,4.75,5.0,3.25,5.0,3.25,3.5,3.25,4.25,4.0,5.0,3.25,2.75,5.0,3.5,3.25,2.0,4.25,4.5,3.75,3.25,3.5,5.0,5.0,2.5,3.25,5.0,4.5,2.25,3.5,4.0,4.0,4.0,3.5,3.75,1.75,3.75,4.0,4.0,5.0,3.5,3.75,2.75,3.25,3.25,3.75,4.0,2.5,3.75,4.0,2.5,4.5,3.5,3.75,1.0,3.5,4.0,3.25,3.5,1.0,3.5,3.5,3.25,4.25,3.75,3.75,5.0,2.5,3.75,4.0,3.75,3.25,5.0,3.75,4.0,3.75,4.25,4.0,3.5,4.25,4.0,3.5,2.75,3.0,3.25,4.75,3.75,3.75,3.75,3.5,4.0,4.0,3.75,3.5,3.5,3.5,3.5,3.5,3.75,3.5,4.25,4.0,3.25,5.0,3.75,4.75,3.75,5.0,4.25,4.0,3.75,3.75,3.5,3.25,4.0,5.0,4.25,4.25,3.75,4.75,3.75,5.0,4.0,3.75,3.25,4.5,3.5,3.0,3.75,3.25,3.75,3.75,3.5,3.25,4.25,4.5,5.0,4.0,3.25,4.25,3.75,5.0,3.0,3.5,4.5,3.25,3.5,5.0,3.75,5.0,3.75,5.0,4.25,3.75,4.0,4.0,4.0,3.75,3.5,4.25,4.0,3.75,3.75,4.0,3.75,3.25,4.0,3.5,5.0,5.0,3.75,4.0,4.25,3.75,3.0,4.0,3.0,5.0,4.0,1.0,4.25,4.0,4.0,4.0,3.75,5.0,4.0,3.75,3.75,3.5,4.5,5.0,4.25,4.0,4.25,3.75,2.75,3.5,3.5,4.0,3.0,3.5,4.25,3.0,3.25,3.5,5.0,5.0,4.0,3.25,2.75,4.0,4.0,4.5,4.0,3.0,4.0,2.75,3.25,4.25,5.0,3.25,4.75,4.0,3.5,3.5,3.0,3.25,3.25,3.75,3.5,3.75,5.0,5.0,5.0,3.75,2.75,3.75,3.75,3.5,3.0,3.5,3.25,3.5,4.0,3.75,4.25,5.0,3.5,4.25,4.0,3.5,5.0,4.5,2.75,3.5,4.0,4.25,4.0,4.75,5.0,4.0,4.5,5.0,3.75,3.25,3.5,4.0,3.75,3.25,4.0,4.0,3.5,5.0,4.25,3.25,2.75,4.5,4.0,4.0,3.5,3.75,4.25,4.0,3.5,4.0,4.0,4.5,3.5,2.5,3.75,3.5,3.75,3.25,3.5,4.75,5.0,5.0,5.0,5.0,4.0,4.0,3.75,3.5,2.0,3.75,1.75,4.25,4.0,4.0,4.5,3.75,3.0,3.75,3.0,4.75,1.75,1.5,4.0,4.75,5.0,3.0,3.5,3.0,3.5,3.75,2.75,3.75,2.25,3.5,4.0,3.5,4.5,3.25,1.5,3.5,4.25,3.75,4.25,5.0,3.5,5.0,3.25,3.25,2.75,5.0,2.5,5.0,4.5,4.25,3.25,5.0,5.0,5.0,4.0,4.0,3.5,5.0,3.75,3.25,3.75,5.0,3.75,4.0,4.25,2.75,3.5,4.5,5.0,3.25,3.5,3.75,3.75,4.5,2.75,3.75,4.75,3.75,2.75,4.5,4.75,4.75,5.0,3.25,3.0,3.0,1.5,3.25,2.75,4.0,3.75,3.75,3.0,4.0,5.0,4.0,4.0,3.75,3.25,3.0,4.25,3.0,4.75,1.0,3.5,2.75,4.25,3.75,3.75,3.25,1.25,2.75,3.75,2.0,4.5,2.5,2.0,3.25,3.75,5.0,4.0,2.0,3.75,4.0,3.25,4.0,3.5,1.5,3.75,4.0,3.25,2.75,2.0,3.25,2.25,2.5,2.75,0.0,1.75,4.75,3.5,3.75,3.25,3.25,4.25,3.25,3.75,4.75,2.75,3.5,3.0,3.25,4.25,4.0,5.0,3.5,3.5,3.5,3.0,3.5,3.25,3.0,0.5,2.0,4.25,1.0,3.0,4.75,4.25,3.25,2.0,3.75,1.5,3.75,4.25,4.25,3.5,3.0,1.0,3.25,2.5,0.0,4.0,3.25,3.0,3.75,3.25,3.0,3.75,1.75,3.0,3.25,1.5,3.25,3.5,3.75,1.75,3.25,3.0,3.5,3.5,3.0,4.5,1.5,4.0,3.25,4.25,4.75,2.25,3.25,4.0,4.5,3.75,4.25,4.5,2.75,5.0,3.75,3.75,5.0,3.0,4.5,3.25,3.75,3.5,2.5,4.25,3.75,4.0,2.25,3.75,3.25,3.75,4.25,2.75,4.0,2.75,2.5,4.25,0.5,3.75,5.0,3.25,2.75,3.5,4.5,3.75,4.0,2.75,3.25,2.75,3.0,1.75,3.5,3.75,4.5,3.75,4.0,4.5,5.0,3.5,3.25,3.5,4.0,3.75,2.0,2.5,3.75,5.0,2.75,3.75,3.75,3.0,2.0,3.25,4.5,4.25,3.0,4.0,3.25,4.0,2.5,3.5,3.5,2.0,4.0,3.75,3.75,3.75,4.0,4.0,3.25,3.5,3.75,3.75,4.75,3.0,3.0,3.75,4.5,1.75,5.0,4.25,3.75,5.0,4.5,3.75,1.75,3.75,3.0,3.75,3.0,2.75,2.5,4.25,3.5,4.5,2.0,3.0,3.5,4.25,3.25,3.0,4.0,4.0,3.5,3.75,3.25,2.0,3.0,2.0,3.75,3.0,0.25,1.5,3.75,3.75,3.5,2.25,2.5,3.25,3.5,3.75,3.5,3.75,0.0,1.75,4.75,4.5,3.0,3.75,5.0,2.5,3.5,3.5,2.75,2.5,5.0,1.75,3.0,5.0,3.25,0.0,3.5,3.25,3.5,3.5,0.0,2.75,1.5,3.0,3.75,4.0,4.0,4.0,3.5,3.75,4.0,3.5,2.75,3.0,4.0,3.75,3.25,1.5,3.0,1.0,0.5,5.0,2.0,3.0,1.5,4.25,2.75,2.75,2.5,2.5,3.75,1.0,2.5,4.5,2.75,2.25,3.25,3.25,2.75,3.75,3.75,1.75,2.0,2.75,3.5,3.5,3.25,2.5,3.25,2.5,4.5,4.0,3.5,3.5,2.5,4.0,1.75,4.0,2.0,4.0,2.5,3.5,1.5,2.5,2.0,3.5,3.0,1.0,1.0,3.0,4.0,5.0,5.0,4.5,3.0,5.0,3.0,5.0,4.25,2.75,3.0,3.0,3.0,3.0,3.0,2.0,3.75,3.5,1.0,5.0,4.0,4.0,3.0,2.0,4.5,3.75,4.0,3.5,4.0,3.5,2.5,3.5,2.5,3.5,5.0,2.5,2.0,1.5,3.0,1.0,2.5,1.0,2.0,2.0,0.5],\"yaxis\":\"y\",\"type\":\"scattergl\",\"visible\":true},{\"hovertemplate\":\"Review Number: %{x} \\u003cbr\\u003e Stars: %{y}\",\"legendgroup\":\"Cup\",\"marker\":{\"color\":\"#EF553B\",\"symbol\":\"circle\"},\"mode\":\"markers\",\"name\":\"Cup\",\"showlegend\":true,\"x\":[4644,4636,4622,4609,4603,4602,4591,4590,4589,4585,4582,4577,4573,4572,4567,4566,4562,4557,4551,4545,4542,4538,4524,4522,4519,4517,4516,4512,4511,4510,4509,4508,4499,4493,4491,4490,4487,4486,4485,4472,4464,4463,4461,4460,4440,4423,4415,4394,4387,4386,4384,4379,4378,4377,4375,4371,4369,4366,4360,4347,4340,4338,4334,4332,4319,4318,4309,4298,4293,4288,4284,4283,4279,4275,4271,4270,4267,4263,4261,4260,4259,4257,4256,4253,4252,4246,4245,4244,4243,4242,4231,4225,4223,4222,4221,4217,4212,4210,4208,4204,4196,4195,4185,4180,4177,4174,4171,4170,4167,4160,4158,4157,4153,4150,4147,4145,4139,4132,4130,4127,4126,4113,4110,4099,4096,4092,4090,4083,4076,4074,4073,4071,4068,4067,4056,4053,4047,4045,4042,4039,4036,4035,4034,4033,4032,4028,4026,4019,4012,4006,4002,4001,3996,3995,3993,3992,3983,3981,3974,3969,3960,3957,3956,3955,3954,3953,3950,3947,3943,3937,3932,3929,3928,3919,3915,3913,3909,3908,3907,3904,3901,3898,3895,3894,3893,3892,3889,3887,3885,3882,3881,3874,3872,3871,3870,3869,3866,3862,3856,3854,3852,3848,3847,3846,3837,3835,3829,3825,3823,3822,3820,3819,3818,3815,3814,3813,3808,3805,3802,3800,3796,3791,3787,3786,3785,3781,3780,3779,3778,3776,3775,3768,3763,3760,3759,3757,3751,3750,3744,3741,3738,3735,3734,3733,3720,3719,3718,3712,3711,3701,3698,3697,3692,3690,3689,3688,3686,3680,3670,3669,3668,3664,3662,3661,3657,3652,3651,3649,3648,3647,3635,3634,3620,3614,3602,3600,3599,3597,3588,3564,3559,3544,3542,3533,3532,3530,3527,3524,3514,3511,3510,3509,3508,3507,3506,3504,3499,3493,3484,3482,3475,3455,3453,3441,3439,3438,3435,3426,3422,3417,3416,3415,3414,3411,3401,3400,3393,3384,3377,3376,3372,3365,3359,3343,3329,3315,3305,3302,3292,3280,3274,3264,3250,3246,3243,3233,3226,3225,3224,3222,3217,3216,3211,3208,3204,3203,3200,3195,3181,3180,3178,3177,3175,3170,3169,3166,3159,3155,3153,3152,3146,3145,3133,3128,3125,3122,3120,3116,3110,3099,3097,3094,3077,3073,3066,3062,3057,3056,3053,3041,3031,3024,3023,3013,3009,2998,2996,2994,2985,2980,2968,2965,2961,2959,2956,2949,2933,2928,2916,2909,2905,2899,2882,2881,2877,2876,2875,2867,2855,2847,2843,2837,2832,2828,2826,2824,2820,2818,2815,2809,2808,2806,2805,2795,2793,2789,2774,2759,2753,2747,2742,2736,2729,2722,2718,2717,2711,2704,2698,2696,2694,2692,2689,2686,2685,2683,2671,2648,2643,2636,2634,2626,2617,2603,2600,2599,2591,2583,2580,2578,2574,2565,2560,2558,2543,2541,2539,2538,2537,2535,2520,2499,2497,2495,2493,2491,2489,2487,2485,2481,2471,2469,2468,2465,2455,2448,2446,2443,2442,2433,2429,2426,2425,2422,2420,2413,2405,2400,2394,2390,2389,2383,2382,2381,2379,2376,2371,2359,2356,2353,2350,2349,2344,2343,2341,2340,2339,2337,2336,2335,2334,2333,2331,2327,2326,2320,2316,2314,2309,2308,2306,2301,2298,2296,2295,2288,2285,2284,2281,2276,2274,2266,2265,2262,2254,2253,2248,2246,2245,2243,2242,2239,2237,2233,2231,2221,2219,2211,2207,2204,2202,2201,2200,2199,2198,2197,2196,2189,2188,2174,2167,2165,2147,2145,2132,2128,2127,2123,2120,2119,2118,2115,2113,2111,2102,2098,2091,2089,2082,2081,2079,2078,2077,2074,2060,2057,2054,2053,2052,2050,2044,2042,2040,2035,2034,2029,2026,2025,2024,2023,2022,2021,2019,2016,2009,2002,2001,1999,1997,1996,1995,1992,1991,1990,1984,1980,1979,1963,1962,1961,1960,1957,1956,1951,1940,1937,1923,1922,1921,1911,1897,1893,1891,1888,1871,1865,1861,1860,1856,1824,1808,1807,1802,1800,1790,1788,1785,1765,1759,1750,1748,1738,1737,1732,1729,1720,1718,1706,1703,1702,1698,1696,1695,1693,1691,1674,1672,1669,1668,1666,1661,1656,1647,1643,1642,1639,1634,1633,1628,1598,1594,1568,1567,1566,1564,1558,1548,1542,1528,1525,1497,1495,1494,1490,1479,1475,1473,1470,1468,1463,1461,1459,1456,1454,1451,1449,1447,1444,1436,1434,1421,1419,1408,1404,1403,1373,1372,1371,1368,1366,1359,1357,1354,1349,1329,1325,1320,1309,1307,1303,1299,1294,1292,1291,1283,1267,1266,1265,1264,1263,1262,1261,1259,1257,1256,1255,1249,1236,1222,1220,1217,1215,1214,1204,1197,1193,1188,1187,1184,1178,1170,1169,1167,1157,1132,1130,1127,1113,1108,1101,1084,1083,1067,1048,1034,1033,1016,1009,999,998,985,974,963,952,950,946,945,939,935,933,930,918,913,912,908,907,905,900,898,880,865,859,848,839,830,825,815,804,798,783,778,769,760,751,743,725,705,701,699,696,691,687,682,679,658,649,645,642,637,625,607,605,602,598,584,577,570,568,564,559,553,548,524,519,515,510,508,506,494,485,484,455,440,423,420,416,407,403,400,399,397,395,394,388,373,368,365,360,354,338,334,333,332,323,307,296,287,284,283,281,275,268,267,265,258,257,256,255,216,196,189,158,157,156,154,153,53,9],\"xaxis\":\"x\",\"y\":[3.75,4.25,5.0,3.5,5.0,4.0,5.0,3.5,3.75,4.0,3.75,3.75,3.75,5.0,4.0,4.5,1.5,1.0,5.0,3.5,4.25,4.0,2.0,2.0,4.0,3.5,2.5,2.0,2.75,3.5,0.0,3.5,3.0,3.5,5.0,5.0,3.75,3.25,5.0,3.75,5.0,3.5,3.75,4.5,3.5,4.5,3.5,2.0,4.0,3.75,3.0,3.5,3.5,4.0,3.25,3.5,4.75,5.0,3.25,5.0,1.5,5.0,4.0,3.75,3.75,3.75,3.5,5.0,3.25,2.5,0.0,1.25,0.0,3.75,2.75,3.0,4.75,3.5,5.0,4.0,4.0,0.0,5.0,2.0,0.0,3.5,3.75,4.25,4.0,3.75,3.75,4.0,3.5,3.25,4.0,2.5,3.75,3.75,3.75,4.0,4.0,2.0,4.0,4.25,3.75,1.0,2.5,4.0,4.0,5.0,1.5,2.0,2.0,3.75,3.0,3.25,3.5,5.0,3.5,1.0,2.0,2.75,3.75,2.25,3.5,3.75,3.5,3.5,5.0,4.0,3.0,4.0,4.5,0.25,3.75,0.5,3.0,3.75,4.0,2.75,4.5,5.0,5.0,5.0,3.5,3.5,4.0,4.5,4.0,3.5,3.75,5.0,3.75,3.25,3.75,3.5,4.5,4.25,0.25,3.75,2.5,4.75,4.75,3.75,4.0,2.5,3.75,3.25,3.5,3.0,5.0,2.25,0.5,2.5,2.75,4.0,3.5,2.75,2.0,4.0,3.25,3.0,5.0,5.0,3.5,3.25,3.75,3.5,3.0,3.5,5.0,3.5,5.0,0.0,4.0,3.0,3.5,3.75,3.75,1.5,3.75,2.5,3.0,3.25,3.25,2.0,3.0,3.5,4.0,4.5,3.5,5.0,3.0,4.75,3.5,3.5,3.5,5.0,5.0,3.5,3.75,4.5,3.75,3.5,0.0,3.75,3.75,1.0,1.5,4.0,3.5,1.5,1.75,4.5,4.0,4.0,3.5,4.0,3.0,2.0,4.0,4.5,3.5,3.75,4.25,5.0,3.5,4.0,5.0,3.5,3.5,4.5,3.75,4.25,4.0,5.0,3.5,3.0,3.0,3.5,3.75,2.0,4.0,4.25,5.0,0.75,3.5,3.25,5.0,5.0,0.0,3.5,3.5,3.75,5.0,3.75,3.25,3.5,3.5,3.0,4.5,4.0,5.0,4.5,5.0,3.5,5.0,4.25,5.0,5.0,4.25,5.0,3.5,4.5,4.25,2.5,3.75,3.75,3.5,2.25,3.75,3.75,5.0,3.0,3.5,3.25,1.5,3.75,3.5,3.75,3.5,2.0,3.5,4.0,0.25,1.0,3.5,3.75,3.75,3.25,4.5,5.0,3.5,2.5,3.75,4.0,3.25,4.25,3.25,1.25,3.75,4.0,1.0,2.0,4.5,2.0,3.75,3.5,4.0,4.0,0.0,2.5,4.5,3.75,3.75,2.75,3.5,4.5,3.75,3.75,2.5,3.75,3.5,4.0,3.5,3.75,1.5,2.5,5.0,5.0,4.25,4.0,0.5,5.0,3.5,3.75,4.25,3.5,4.0,5.0,4.0,2.0,2.75,3.5,4.0,4.75,3.5,4.0,3.0,2.5,3.5,5.0,3.75,3.75,4.75,3.5,4.0,2.5,5.0,3.5,4.0,2.0,3.75,3.5,3.75,2.0,2.5,3.25,4.5,5.0,3.0,3.25,5.0,3.5,2.5,3.5,5.0,0.0,4.25,3.5,4.5,3.5,4.25,4.0,4.5,4.0,3.5,4.75,3.5,0.5,0.25,5.0,3.75,1.5,3.75,4.0,3.5,3.25,3.5,3.5,4.75,3.75,4.0,3.5,3.5,3.5,1.0,3.5,4.0,5.0,3.5,1.0,4.0,4.25,3.5,3.5,4.5,3.75,4.5,1.0,4.5,3.5,5.0,2.5,5.0,3.75,4.25,5.0,3.75,2.25,4.0,3.5,4.25,5.0,5.0,5.0,3.75,5.0,5.0,5.0,5.0,5.0,3.75,3.75,3.75,5.0,3.0,4.5,3.0,3.75,5.0,3.5,4.25,3.75,5.0,3.5,5.0,3.75,3.5,3.75,4.0,0.0,5.0,3.25,3.75,2.5,4.0,5.0,3.75,3.75,4.0,3.5,0.5,4.75,2.5,3.25,3.5,1.5,4.0,3.5,4.0,2.75,3.5,3.75,3.5,3.75,3.25,2.75,3.25,5.0,3.5,3.75,4.0,3.5,3.75,4.0,5.0,4.0,3.5,3.5,4.0,2.75,3.75,2.5,4.0,4.0,3.0,3.75,3.5,3.0,3.5,3.5,2.75,4.5,3.0,3.75,4.5,3.5,3.5,3.75,2.75,3.5,5.0,3.75,3.75,4.5,1.0,3.0,3.0,4.25,4.25,2.0,5.0,3.0,2.5,5.0,3.25,4.0,2.5,5.0,2.5,3.0,3.0,2.75,5.0,4.0,2.25,5.0,3.5,3.5,3.25,4.0,3.75,3.75,5.0,5.0,5.0,5.0,4.0,4.0,5.0,4.0,5.0,3.5,5.0,3.75,3.25,3.75,3.5,5.0,3.0,4.25,5.0,3.5,3.25,2.0,4.75,2.0,2.5,0.0,3.0,5.0,3.75,3.5,2.75,3.75,3.5,5.0,4.25,4.0,5.0,4.5,4.5,5.0,5.0,3.5,3.0,3.75,3.5,4.25,4.0,4.0,0.0,4.25,5.0,3.75,0.5,1.5,3.5,5.0,3.5,5.0,3.5,3.5,3.75,3.5,0.5,2.75,5.0,5.0,3.5,3.5,3.5,0.25,4.5,3.0,3.5,3.5,4.0,5.0,3.0,4.25,3.75,3.25,2.75,5.0,2.5,4.75,3.5,2.75,4.0,5.0,5.0,5.0,3.5,3.5,3.25,1.25,3.5,3.0,3.75,3.5,2.75,3.5,0.25,3.75,3.5,3.5,0.0,4.0,2.25,3.5,4.25,3.25,3.0,2.0,3.75,2.5,3.25,3.75,3.5,3.75,3.5,3.5,3.5,3.25,5.0,3.5,5.0,3.5,4.0,4.0,3.5,4.0,4.0,4.0,4.0,3.5,3.5,3.5,2.75,3.5,3.5,4.0,0.5,2.0,3.75,0.0,3.0,4.25,5.0,5.0,4.75,4.5,1.25,3.25,3.75,3.75,3.75,1.5,1.0,3.0,3.0,3.25,4.0,3.75,4.0,3.75,4.25,4.25,3.75,3.75,3.75,4.0,4.25,3.25,2.75,3.25,3.75,3.0,3.5,4.75,5.0,3.5,4.5,3.75,3.0,3.5,3.5,5.0,3.75,1.75,3.75,4.25,1.5,3.5,2.75,3.5,3.5,4.25,1.5,4.75,3.75,3.5,2.25,3.75,3.5,2.0,1.5,4.5,1.0,2.25,3.25,3.5,3.75,1.75,2.75,3.75,3.5,4.5,3.5,4.5,4.25,3.75,3.5,4.0,3.25,3.5,1.5,2.75,3.0,3.75,3.5,2.0,4.5,3.25,3.25,1.75,3.0,3.0,2.5,3.25,3.25,5.0,3.75,5.0,3.5,4.0,3.5,3.5,2.0,3.75,4.25,3.25,3.5,3.75,3.75,2.75,2.5,4.0,1.5,3.5,3.5,3.25,0.0,3.0,2.5,4.0,3.75,3.0,2.75,3.75,3.75,2.0,2.5,3.75,3.75,2.5,3.5,3.0,4.25,0.25,2.75,3.0,3.5,3.75,3.5,2.25,4.25,3.75,3.0,3.0,3.5,2.75,2.75,3.5,3.25,2.5,3.0,2.25,2.25,2.25,3.75,3.5,2.75,3.25,3.75,4.5,4.0,3.0,3.75,3.5,2.0,3.5,3.25,3.5,3.5,3.75,2.75,1.5,3.0,2.5,2.0,3.0,1.75,1.75,2.0,2.0],\"yaxis\":\"y\",\"type\":\"scattergl\",\"visible\":\"legendonly\"},{\"hovertemplate\":\"Review Number: %{x} \\u003cbr\\u003e Stars: %{y}\",\"legendgroup\":\"Box\",\"marker\":{\"color\":\"#00cc96\",\"symbol\":\"circle\"},\"mode\":\"markers\",\"name\":\"Box\",\"showlegend\":true,\"x\":[4642,4633,4630,4623,4617,4613,4600,4598,4563,4531,4506,4504,4482,4477,4443,4434,4433,4428,4427,4409,4388,4355,4345,4341,4337,4310,4297,4278,4248,4209,4205,4199,4191,4189,4155,4087,4066,4046,4037,4024,4023,4022,3994,3959,3924,3923,3905,3890,3876,3826,3824,3817,3812,3804,3799,3793,3782,3731,3727,3660,3639,3562,3553,3428,3406,3392,3361,3352,3332,3328,3317,3299,3294,3273,3265,3261,3260,3251,3232,3227,3192,3167,3163,3158,3132,3108,3103,3100,3092,3091,3090,3089,3088,3087,3052,3008,2969,2947,2901,2871,2868,2831,2822,2817,2772,2765,2734,2544,2500,2441,2419,2377,1109],\"xaxis\":\"x\",\"y\":[5.0,5.0,5.0,5.0,4.0,5.0,5.0,3.5,5.0,4.25,5.0,0.25,5.0,3.5,5.0,5.0,5.0,5.0,5.0,4.0,3.5,0.0,4.75,4.0,5.0,5.0,4.5,5.0,5.0,0.0,1.0,5.0,4.75,5.0,5.0,3.25,3.0,5.0,5.0,5.0,5.0,3.5,5.0,4.0,5.0,5.0,3.0,3.25,5.0,4.5,2.0,4.0,1.0,5.0,3.5,5.0,5.0,2.75,3.5,4.5,5.0,3.5,5.0,4.0,3.5,5.0,4.5,5.0,5.0,5.0,5.0,5.0,5.0,4.0,5.0,4.5,5.0,4.5,3.5,5.0,5.0,1.5,3.0,0.0,5.0,3.0,5.0,5.0,5.0,4.0,5.0,5.0,5.0,5.0,5.0,5.0,2.5,5.0,4.5,5.0,5.0,4.5,5.0,3.75,4.0,5.0,3.25,1.5,5.0,5.0,5.0,5.0,4.25],\"yaxis\":\"y\",\"type\":\"scattergl\",\"visible\":\"legendonly\"},{\"hovertemplate\":\"Review Number: %{x} \\u003cbr\\u003e Stars: %{y}\",\"legendgroup\":\"Bowl\",\"marker\":{\"color\":\"#ab63fa\",\"symbol\":\"circle\"},\"mode\":\"markers\",\"name\":\"Bowl\",\"showlegend\":true,\"x\":[4641,4639,4637,4629,4628,4624,4621,4620,4618,4616,4615,4614,4612,4611,4605,4594,4580,4574,4570,4553,4552,4548,4547,4534,4528,4526,4523,4520,4515,4514,4496,4494,4488,4484,4481,4479,4462,4456,4455,4453,4435,4432,4430,4426,4425,4420,4419,4417,4404,4403,4401,4395,4391,4385,4383,4381,4380,4372,4370,4368,4365,4364,4362,4359,4358,4356,4352,4350,4343,4342,4339,4336,4335,4333,4331,4324,4322,4317,4315,4314,4305,4302,4296,4295,4290,4287,4285,4280,4277,4276,4274,4269,4266,4258,4255,4233,4230,4228,4224,4216,4206,4203,4202,4197,4192,4188,4183,4178,4176,4175,4173,4172,4168,4165,4163,4156,4154,4149,4148,4146,4144,4142,4140,4137,4135,4131,4129,4128,4125,4122,4119,4118,4108,4101,4097,4093,4086,4085,4081,4078,4075,4065,4063,4061,4059,4049,4048,4044,4041,4038,4017,4014,3998,3997,3990,3984,3979,3977,3976,3972,3968,3966,3965,3964,3963,3962,3951,3946,3941,3939,3936,3931,3927,3922,3918,3916,3912,3910,3886,3880,3875,3867,3843,3839,3833,3827,3809,3798,3784,3773,3769,3762,3749,3748,3746,3740,3739,3730,3725,3724,3723,3722,3721,3716,3710,3694,3684,3682,3676,3665,3659,3650,3627,3625,3623,3622,3610,3608,3604,3594,3592,3590,3589,3587,3573,3569,3558,3554,3543,3541,3537,3536,3535,3526,3525,3521,3520,3519,3517,3513,3512,3503,3502,3498,3496,3495,3494,3492,3490,3489,3487,3480,3479,3478,3477,3476,3469,3467,3466,3459,3458,3448,3442,3436,3434,3421,3412,3410,3408,3405,3404,3403,3396,3394,3389,3388,3387,3385,3375,3374,3370,3363,3360,3358,3356,3347,3346,3345,3336,3334,3331,3323,3314,3313,3307,3303,3300,3290,3288,3283,3278,3271,3258,3257,3249,3242,3241,3235,3230,3223,3220,3214,3207,3194,3183,3171,3168,3162,3154,3141,3138,3137,3136,3135,3130,3127,3124,3121,3119,3113,3111,3107,3102,3098,3086,3085,3076,3069,3068,3067,3065,3063,3061,3060,3059,3049,3048,3035,3034,3030,3027,3018,3010,3006,3004,3003,2999,2995,2993,2987,2982,2981,2977,2976,2970,2964,2960,2958,2952,2940,2939,2936,2934,2932,2929,2926,2922,2919,2914,2912,2911,2900,2894,2891,2878,2870,2869,2856,2853,2852,2849,2842,2841,2838,2835,2807,2799,2787,2776,2768,2764,2754,2749,2743,2731,2730,2726,2725,2724,2721,2720,2719,2707,2699,2697,2688,2681,2676,2675,2670,2668,2667,2647,2642,2637,2635,2633,2632,2630,2629,2628,2627,2623,2622,2620,2619,2614,2613,2598,2595,2592,2586,2585,2584,2582,2581,2567,2555,2553,2552,2547,2546,2532,2529,2526,2517,2515,2511,2505,2503,2483,2480,2476,2475,2464,2462,2460,2454,2452,2444,2439,2437,2432,2431,2428,2416,2415,2414,2403,2401,2397,2392,2387,2385,2375,2372,2362,2361,2358,2357,2354,2347,2322,2321,2319,2317,2315,2297,2294,2289,2286,2279,2277,2273,2272,2261,2259,2258,2256,2252,2247,2240,2236,2235,2234,2232,2228,2225,2214,2206,2205,2203,2195,2190,2184,2180,2163,2160,2146,2142,2141,2140,2133,2126,2124,2117,2104,2099,2096,2088,2085,2076,2072,2070,2055,2048,2043,2039,2032,2027,2017,2008,2006,2004,2003,2000,1998,1994,1987,1943,1938,1927,1926,1919,1915,1913,1908,1898,1895,1886,1884,1882,1880,1878,1873,1868,1867,1858,1852,1844,1821,1820,1819,1818,1817,1816,1812,1809,1799,1781,1777,1776,1775,1773,1771,1770,1768,1766,1761,1760,1754,1753,1746,1741,1739,1735,1728,1727,1726,1719,1707,1690,1688,1684,1681,1679,1658,1645,1644,1641,1631,1630,1629,1627,1626,1625,1621,1613,1611,1607,1578,1575,1573,1570,1551,1547,1539,1523,1509,1503,1493,1462,1458,1452,1441,1430,1427,1426,1399,1395,1365,1364,1341,1318,1298,1288,1285,1281,1254,1250,1227,1226,1211,1207,1196,1194,1190,1189,1168,1166,1164,1158,1124,1118,1107,1106,1069,1049,1044,1039,1036,1035,1027,1020,1014,1011,1010,1008,1007,1005,1002,996,976,975,971,969,967,964,962,960,958,955,927,922,921,916,910,902,893,879,877,875,874,872,868,857,856,855,854,853,851,847,842,829,822,820,817,808,806,805,803,799,792,791,782,775,773,768,767,766,764,759,758,756,755,752,750,748,746,739,738,735,722,721,717,716,712,710,707,706,695,689,678,670,669,668,667,662,661,659,656,654,647,646,644,639,634,631,630,628,626,622,621,619,613,594,591,590,589,585,576,573,569,567,566,565,560,558,543,530,527,523,521,520,518,516,514,513,512,511,509,507,502,499,492,490,488,487,483,482,481,480,476,474,473,472,466,465,460,458,456,453,451,448,446,439,438,437,436,433,432,422,421,419,415,412,411,402,401,398,396,390,387,385,378,377,376,372,364,361,359,355,350,349,348,346,342,335,331,329,328,326,325,324,322,321,318,316,315,312,305,304,302,301,299,295,293,291,269,260,253,242,240,238,237,233,230,228,224,223,217,213,209,206,204,203,202,201,200,198,193,185,183,168,160,150,149,137,134,108,92,63,43,41,39,29,5],\"xaxis\":\"x\",\"y\":[3.5,2.5,3.5,4.0,4.0,4.5,4.5,3.75,4.5,5.0,4.5,5.0,5.0,1.5,4.0,3.5,3.75,3.5,2.0,2.0,4.5,3.0,1.75,3.5,3.75,3.75,4.0,3.5,3.5,5.0,5.0,3.25,5.0,5.0,5.0,3.75,3.5,0.0,5.0,5.0,5.0,0.0,3.75,4.5,4.75,3.75,5.0,1.0,3.75,5.0,3.0,3.5,5.0,3.5,3.5,4.0,3.75,5.0,1.5,3.5,4.5,3.75,3.5,3.5,3.5,4.5,4.5,5.0,3.0,0.0,2.0,3.5,5.0,4.0,5.0,0.0,0.5,4.0,2.75,0.75,1.25,3.5,3.5,0.0,3.5,2.0,3.75,4.25,0.0,2.75,4.0,0.25,3.75,0.0,0.0,3.75,5.0,4.0,5.0,2.0,4.0,3.0,3.75,3.0,0.0,2.0,4.0,2.5,2.0,5.0,1.5,1.0,3.5,3.5,4.25,3.75,2.5,5.0,1.0,3.5,3.0,2.5,1.5,1.75,3.5,5.0,5.0,4.5,3.5,3.75,4.5,3.0,4.5,4.0,3.75,3.25,4.0,5.0,3.25,3.5,4.75,3.25,5.0,3.75,4.5,5.0,1.0,1.5,3.5,3.75,4.25,4.5,3.75,3.75,3.0,3.5,5.0,1.0,3.75,3.0,5.0,4.5,5.0,5.0,5.0,4.0,4.5,0.0,5.0,0.25,5.0,5.0,4.0,5.0,4.0,5.0,3.75,4.5,4.0,4.5,4.25,3.5,3.5,3.5,5.0,0.5,3.75,4.75,5.0,3.75,2.0,3.25,3.75,5.0,4.25,3.75,3.5,4.0,5.0,4.25,4.0,5.0,3.75,4.5,2.5,3.5,4.5,4.0,3.25,2.5,5.0,3.75,5.0,4.0,3.5,5.0,5.0,3.5,4.5,3.75,3.75,4.0,3.5,3.75,3.5,5.0,3.75,5.0,0.5,3.5,4.25,4.5,5.0,4.0,5.0,5.0,3.75,2.0,4.75,4.0,3.5,5.0,3.5,3.75,4.0,4.5,4.0,4.0,4.0,5.0,3.0,4.0,3.5,4.25,4.25,3.5,5.0,3.75,3.75,4.5,1.0,2.0,5.0,3.5,3.5,4.0,3.5,4.0,3.5,4.0,5.0,3.5,2.25,3.0,4.5,5.0,3.0,2.75,4.25,2.5,3.5,5.0,4.5,3.5,1.0,0.5,5.0,3.5,3.5,5.0,3.5,5.0,5.0,5.0,5.0,5.0,4.0,3.75,4.0,5.0,5.0,4.0,4.0,4.0,2.5,3.75,1.0,3.5,5.0,4.0,4.0,4.0,3.5,1.5,4.0,4.25,2.75,3.75,3.0,5.0,5.0,5.0,5.0,5.0,5.0,3.75,4.5,3.75,4.0,3.5,4.0,3.5,4.0,3.75,5.0,4.25,3.75,4.5,3.25,5.0,3.75,3.75,3.75,5.0,2.0,4.0,3.5,5.0,5.0,5.0,4.0,4.5,3.5,3.75,4.0,2.75,4.25,4.0,5.0,4.25,4.0,3.5,5.0,3.75,3.75,4.75,5.0,3.75,3.75,3.75,4.5,1.5,3.75,2.75,3.5,4.0,3.75,3.5,1.0,3.75,5.0,3.5,3.5,3.5,5.0,5.0,4.5,4.5,3.75,4.0,5.0,3.25,3.25,3.5,3.5,5.0,0.25,3.5,4.75,3.75,3.75,3.75,0.0,3.5,3.5,5.0,4.25,2.75,4.0,2.25,0.0,4.25,3.75,4.5,3.25,5.0,3.75,5.0,4.0,3.75,3.25,3.5,4.0,3.5,4.5,3.75,4.25,3.0,3.75,2.75,2.0,5.0,3.75,3.75,3.75,3.25,3.75,5.0,4.0,4.5,5.0,5.0,5.0,4.75,4.25,2.0,4.5,4.25,4.75,5.0,4.0,3.75,4.75,4.5,4.5,4.5,5.0,5.0,3.5,0.0,5.0,4.25,4.0,4.75,2.0,5.0,5.0,3.25,5.0,5.0,5.0,4.5,3.5,3.75,5.0,4.25,5.0,5.0,4.75,5.0,4.0,5.0,3.5,4.75,5.0,4.0,3.75,5.0,4.0,5.0,5.0,3.0,2.5,5.0,3.5,3.5,3.0,3.25,3.5,3.75,4.25,4.5,2.75,4.25,3.5,4.0,3.75,4.25,3.25,5.0,4.5,3.25,4.25,3.75,4.5,4.5,5.0,3.75,4.25,4.75,3.5,3.75,5.0,4.75,2.75,2.75,4.25,5.0,3.25,3.75,5.0,5.0,5.0,5.0,3.5,3.75,4.0,4.0,4.0,4.0,5.0,3.75,5.0,1.75,5.0,3.75,5.0,5.0,3.75,5.0,0.0,3.5,3.75,3.75,5.0,5.0,5.0,5.0,4.5,5.0,5.0,3.5,4.0,4.5,4.5,0.0,4.75,3.0,5.0,3.75,4.5,4.75,3.75,5.0,0.0,4.0,4.0,5.0,3.25,5.0,3.25,1.5,5.0,4.5,4.0,3.25,4.25,4.75,2.5,5.0,3.5,5.0,4.25,4.0,3.5,4.5,5.0,3.5,1.0,4.5,5.0,3.5,4.25,2.5,4.5,4.0,3.25,5.0,3.0,2.5,3.5,4.0,3.75,4.5,3.75,3.5,5.0,3.75,2.0,0.0,4.0,2.5,3.5,2.5,2.75,5.0,3.0,3.25,4.0,2.75,4.0,5.0,4.75,5.0,3.5,4.25,3.5,5.0,3.5,3.25,4.25,2.25,3.75,3.75,3.5,4.0,3.75,4.0,3.75,4.25,3.5,1.75,5.0,4.0,4.0,3.75,3.25,2.25,2.75,3.75,0.5,3.75,3.0,5.0,3.5,4.0,3.75,5.0,3.25,5.0,2.0,4.0,4.25,2.75,3.5,4.5,5.0,2.0,3.25,4.25,3.5,3.5,4.0,4.75,4.25,4.0,3.75,3.5,4.5,2.75,2.0,4.0,4.0,4.5,4.25,4.0,4.5,5.0,4.25,3.25,4.25,4.0,4.75,1.25,3.5,4.25,4.25,3.25,3.25,5.0,4.25,2.5,3.5,5.0,3.75,4.25,4.75,4.25,3.5,4.5,3.5,3.25,3.75,4.75,3.5,3.75,3.75,3.5,3.5,1.25,4.0,4.25,4.5,1.0,3.25,3.0,3.5,0.25,1.75,3.75,3.5,3.75,3.25,3.75,4.25,3.5,3.75,3.75,1.25,3.5,3.75,2.75,3.5,4.0,3.25,3.75,3.25,2.75,3.25,4.25,4.5,2.5,4.0,3.5,4.0,2.0,3.0,4.25,4.25,3.0,3.75,3.25,3.5,4.25,3.75,5.0,0.5,1.25,1.25,3.5,3.5,4.75,3.5,4.75,3.0,3.5,2.5,3.5,4.25,1.5,3.75,2.0,3.0,3.5,5.0,4.0,4.0,1.5,4.75,3.5,2.75,4.5,4.25,0.25,4.5,3.5,3.0,4.0,3.75,2.75,4.0,3.75,2.0,4.75,2.75,5.0,3.5,2.75,4.5,4.5,3.75,3.25,1.75,3.75,4.5,3.75,3.5,2.75,5.0,3.75,3.75,3.25,4.0,3.75,2.25,3.0,3.75,3.25,3.75,3.25,2.5,4.0,2.75,4.25,3.75,4.25,3.25,3.0,4.25,3.75,4.25,4.0,3.75,1.25,3.75,4.0,2.75,0.5,2.5,1.25,3.75,2.5,3.5,3.25,3.5,3.25,3.5,3.5,4.5,3.5,4.5,4.0,3.5,3.5,3.75,4.75,3.25,3.5,2.75,1.75,3.75,3.5,3.75,4.5,3.75,4.5,0.0,3.0,3.5,3.5,4.25,2.0,4.5,4.0,3.0,3.5,3.75,2.0,2.75,4.25,4.0,4.0,3.0,3.0,2.5,2.0,3.25,3.5,4.5,4.25,2.5,3.75,2.0,3.75,1.5,4.25,4.0,1.75,2.25,2.0,2.0,3.0,0.0,0.5,3.0,3.5,3.5],\"yaxis\":\"y\",\"type\":\"scattergl\",\"visible\":\"legendonly\"},{\"hovertemplate\":\"Review Number: %{x} \\u003cbr\\u003e Stars: %{y}\",\"legendgroup\":\"Tray\",\"marker\":{\"color\":\"#FFA15A\",\"symbol\":\"circle\"},\"mode\":\"markers\",\"name\":\"Tray\",\"showlegend\":true,\"x\":[4638,4626,4584,4521,4518,4474,4471,4465,4447,4396,4392,4382,4376,4374,4351,4328,4325,4299,4282,4250,4232,4229,4226,4181,4169,4107,4095,4089,4084,4069,4054,4029,4016,4000,3970,3961,3940,3888,3801,3770,3691,3683,3646,3593,3555,3545,3540,3531,3529,3505,3488,3470,3443,3430,3425,3407,3395,3386,3381,3378,3362,3354,3338,3319,3245,3231,3219,3206,3199,3176,3129,3123,3075,3029,3028,3000,2953,2951,2918,2906,2902,2890,2879,2872,2836,2827,2804,2801,2786,2771,2770,2745,2727,2716,2715,2702,2687,2640,2624,2573,2542,2519,2418,2398,2302,2255,2216,2158,2156,2061,1958,1917,1910,1857,1846,1786,1646,1597,1560,1544,1521,1501,1446,1422,1401,1339,1330,1310,1290,1284,1253,1242,1225,1213,1165,1159,1117,1115,1105,1103,1047,1045,1003,1000,990,984,983,982,980,979,978,970,968,965,947,938,931,928,904,903,894,881,840,795,784,736,709,704,698,693,690,612,572,496,393,392,386,380,379,371,369,317,314,313,309,306,303,297,286,280,279,263,244,241,226,218,215,214,212,211,197,180,176,142,124,57,31],\"xaxis\":\"x\",\"y\":[3.75,2.5,2.0,3.75,2.5,4.0,0.0,2.25,4.25,4.5,4.5,3.5,2.0,3.75,3.5,4.25,5.0,5.0,5.0,3.5,4.0,5.0,3.25,3.0,5.0,2.5,3.75,3.5,4.75,4.75,0.5,3.0,3.75,4.25,3.5,1.75,5.0,5.0,4.5,4.5,5.0,5.0,4.0,3.5,4.75,3.5,3.5,4.5,4.25,0.0,3.25,5.0,4.5,3.75,4.0,2.0,4.0,2.25,1.0,0.0,3.5,0.0,4.0,1.5,4.0,5.0,5.0,3.5,3.75,5.0,0.0,3.75,2.0,2.5,4.5,3.75,3.5,5.0,4.25,5.0,3.75,4.75,3.75,0.25,3.75,2.75,3.5,5.0,3.0,5.0,4.5,5.0,3.75,4.0,4.5,4.0,5.0,3.75,4.75,3.75,1.5,1.0,4.5,1.0,5.0,5.0,3.0,5.0,2.25,4.25,4.0,0.25,3.0,3.25,4.5,4.25,4.0,4.0,3.75,1.5,5.0,3.25,4.5,3.0,3.75,3.75,5.0,3.0,4.5,4.25,3.75,4.0,3.75,0.5,3.75,5.0,4.25,3.75,5.0,5.0,4.0,3.5,4.5,4.25,2.75,5.0,3.75,5.0,4.0,4.0,5.0,2.0,3.0,3.75,4.0,3.75,3.75,4.0,4.75,3.5,3.0,3.25,3.75,2.75,3.25,3.25,3.25,4.0,4.0,2.25,3.75,1.75,3.0,2.75,2.0,5.0,0.0,3.75,2.5,3.75,3.75,4.0,2.5,4.25,3.75,3.75,3.25,3.25,4.0,4.0,3.75,1.5,4.75,4.0,4.0,3.0,2.0,2.0,3.75,3.5,2.25,4.75,4.25,4.5,5.0,3.0,4.0],\"yaxis\":\"y\",\"type\":\"scattergl\",\"visible\":\"legendonly\"},{\"hovertemplate\":\"Review Number: %{x} \\u003cbr\\u003e Stars: %{y}\",\"legendgroup\":\"Other\",\"marker\":{\"color\":\"#19d3f3\",\"symbol\":\"circle\"},\"mode\":\"markers\",\"name\":\"Other\",\"showlegend\":true,\"x\":[3971,2850,2848,2666,2513,1155],\"xaxis\":\"x\",\"y\":[4.0,2.0,4.0,4.75,3.5,5.0],\"yaxis\":\"y\",\"type\":\"scattergl\",\"visible\":\"legendonly\"}],                        {\"template\":{\"data\":{\"histogram2dcontour\":[{\"type\":\"histogram2dcontour\",\"colorbar\":{\"outlinewidth\":0,\"ticks\":\"\"},\"colorscale\":[[0.0,\"#0d0887\"],[0.1111111111111111,\"#46039f\"],[0.2222222222222222,\"#7201a8\"],[0.3333333333333333,\"#9c179e\"],[0.4444444444444444,\"#bd3786\"],[0.5555555555555556,\"#d8576b\"],[0.6666666666666666,\"#ed7953\"],[0.7777777777777778,\"#fb9f3a\"],[0.8888888888888888,\"#fdca26\"],[1.0,\"#f0f921\"]]}],\"choropleth\":[{\"type\":\"choropleth\",\"colorbar\":{\"outlinewidth\":0,\"ticks\":\"\"}}],\"histogram2d\":[{\"type\":\"histogram2d\",\"colorbar\":{\"outlinewidth\":0,\"ticks\":\"\"},\"colorscale\":[[0.0,\"#0d0887\"],[0.1111111111111111,\"#46039f\"],[0.2222222222222222,\"#7201a8\"],[0.3333333333333333,\"#9c179e\"],[0.4444444444444444,\"#bd3786\"],[0.5555555555555556,\"#d8576b\"],[0.6666666666666666,\"#ed7953\"],[0.7777777777777778,\"#fb9f3a\"],[0.8888888888888888,\"#fdca26\"],[1.0,\"#f0f921\"]]}],\"heatmap\":[{\"type\":\"heatmap\",\"colorbar\":{\"outlinewidth\":0,\"ticks\":\"\"},\"colorscale\":[[0.0,\"#0d0887\"],[0.1111111111111111,\"#46039f\"],[0.2222222222222222,\"#7201a8\"],[0.3333333333333333,\"#9c179e\"],[0.4444444444444444,\"#bd3786\"],[0.5555555555555556,\"#d8576b\"],[0.6666666666666666,\"#ed7953\"],[0.7777777777777778,\"#fb9f3a\"],[0.8888888888888888,\"#fdca26\"],[1.0,\"#f0f921\"]]}],\"heatmapgl\":[{\"type\":\"heatmapgl\",\"colorbar\":{\"outlinewidth\":0,\"ticks\":\"\"},\"colorscale\":[[0.0,\"#0d0887\"],[0.1111111111111111,\"#46039f\"],[0.2222222222222222,\"#7201a8\"],[0.3333333333333333,\"#9c179e\"],[0.4444444444444444,\"#bd3786\"],[0.5555555555555556,\"#d8576b\"],[0.6666666666666666,\"#ed7953\"],[0.7777777777777778,\"#fb9f3a\"],[0.8888888888888888,\"#fdca26\"],[1.0,\"#f0f921\"]]}],\"contourcarpet\":[{\"type\":\"contourcarpet\",\"colorbar\":{\"outlinewidth\":0,\"ticks\":\"\"}}],\"contour\":[{\"type\":\"contour\",\"colorbar\":{\"outlinewidth\":0,\"ticks\":\"\"},\"colorscale\":[[0.0,\"#0d0887\"],[0.1111111111111111,\"#46039f\"],[0.2222222222222222,\"#7201a8\"],[0.3333333333333333,\"#9c179e\"],[0.4444444444444444,\"#bd3786\"],[0.5555555555555556,\"#d8576b\"],[0.6666666666666666,\"#ed7953\"],[0.7777777777777778,\"#fb9f3a\"],[0.8888888888888888,\"#fdca26\"],[1.0,\"#f0f921\"]]}],\"surface\":[{\"type\":\"surface\",\"colorbar\":{\"outlinewidth\":0,\"ticks\":\"\"},\"colorscale\":[[0.0,\"#0d0887\"],[0.1111111111111111,\"#46039f\"],[0.2222222222222222,\"#7201a8\"],[0.3333333333333333,\"#9c179e\"],[0.4444444444444444,\"#bd3786\"],[0.5555555555555556,\"#d8576b\"],[0.6666666666666666,\"#ed7953\"],[0.7777777777777778,\"#fb9f3a\"],[0.8888888888888888,\"#fdca26\"],[1.0,\"#f0f921\"]]}],\"mesh3d\":[{\"type\":\"mesh3d\",\"colorbar\":{\"outlinewidth\":0,\"ticks\":\"\"}}],\"scatter\":[{\"fillpattern\":{\"fillmode\":\"overlay\",\"size\":10,\"solidity\":0.2},\"type\":\"scatter\"}],\"parcoords\":[{\"type\":\"parcoords\",\"line\":{\"colorbar\":{\"outlinewidth\":0,\"ticks\":\"\"}}}],\"scatterpolargl\":[{\"type\":\"scatterpolargl\",\"marker\":{\"colorbar\":{\"outlinewidth\":0,\"ticks\":\"\"}}}],\"bar\":[{\"error_x\":{\"color\":\"#2a3f5f\"},\"error_y\":{\"color\":\"#2a3f5f\"},\"marker\":{\"line\":{\"color\":\"#E5ECF6\",\"width\":0.5},\"pattern\":{\"fillmode\":\"overlay\",\"size\":10,\"solidity\":0.2}},\"type\":\"bar\"}],\"scattergeo\":[{\"type\":\"scattergeo\",\"marker\":{\"colorbar\":{\"outlinewidth\":0,\"ticks\":\"\"}}}],\"scatterpolar\":[{\"type\":\"scatterpolar\",\"marker\":{\"colorbar\":{\"outlinewidth\":0,\"ticks\":\"\"}}}],\"histogram\":[{\"marker\":{\"pattern\":{\"fillmode\":\"overlay\",\"size\":10,\"solidity\":0.2}},\"type\":\"histogram\"}],\"scattergl\":[{\"type\":\"scattergl\",\"marker\":{\"colorbar\":{\"outlinewidth\":0,\"ticks\":\"\"}}}],\"scatter3d\":[{\"type\":\"scatter3d\",\"line\":{\"colorbar\":{\"outlinewidth\":0,\"ticks\":\"\"}},\"marker\":{\"colorbar\":{\"outlinewidth\":0,\"ticks\":\"\"}}}],\"scattermapbox\":[{\"type\":\"scattermapbox\",\"marker\":{\"colorbar\":{\"outlinewidth\":0,\"ticks\":\"\"}}}],\"scatterternary\":[{\"type\":\"scatterternary\",\"marker\":{\"colorbar\":{\"outlinewidth\":0,\"ticks\":\"\"}}}],\"scattercarpet\":[{\"type\":\"scattercarpet\",\"marker\":{\"colorbar\":{\"outlinewidth\":0,\"ticks\":\"\"}}}],\"carpet\":[{\"aaxis\":{\"endlinecolor\":\"#2a3f5f\",\"gridcolor\":\"white\",\"linecolor\":\"white\",\"minorgridcolor\":\"white\",\"startlinecolor\":\"#2a3f5f\"},\"baxis\":{\"endlinecolor\":\"#2a3f5f\",\"gridcolor\":\"white\",\"linecolor\":\"white\",\"minorgridcolor\":\"white\",\"startlinecolor\":\"#2a3f5f\"},\"type\":\"carpet\"}],\"table\":[{\"cells\":{\"fill\":{\"color\":\"#EBF0F8\"},\"line\":{\"color\":\"white\"}},\"header\":{\"fill\":{\"color\":\"#C8D4E3\"},\"line\":{\"color\":\"white\"}},\"type\":\"table\"}],\"barpolar\":[{\"marker\":{\"line\":{\"color\":\"#E5ECF6\",\"width\":0.5},\"pattern\":{\"fillmode\":\"overlay\",\"size\":10,\"solidity\":0.2}},\"type\":\"barpolar\"}],\"pie\":[{\"automargin\":true,\"type\":\"pie\"}]},\"layout\":{\"autotypenumbers\":\"strict\",\"colorway\":[\"#636efa\",\"#EF553B\",\"#00cc96\",\"#ab63fa\",\"#FFA15A\",\"#19d3f3\",\"#FF6692\",\"#B6E880\",\"#FF97FF\",\"#FECB52\"],\"font\":{\"color\":\"#2a3f5f\"},\"hovermode\":\"closest\",\"hoverlabel\":{\"align\":\"left\"},\"paper_bgcolor\":\"white\",\"plot_bgcolor\":\"#E5ECF6\",\"polar\":{\"bgcolor\":\"#E5ECF6\",\"angularaxis\":{\"gridcolor\":\"white\",\"linecolor\":\"white\",\"ticks\":\"\"},\"radialaxis\":{\"gridcolor\":\"white\",\"linecolor\":\"white\",\"ticks\":\"\"}},\"ternary\":{\"bgcolor\":\"#E5ECF6\",\"aaxis\":{\"gridcolor\":\"white\",\"linecolor\":\"white\",\"ticks\":\"\"},\"baxis\":{\"gridcolor\":\"white\",\"linecolor\":\"white\",\"ticks\":\"\"},\"caxis\":{\"gridcolor\":\"white\",\"linecolor\":\"white\",\"ticks\":\"\"}},\"coloraxis\":{\"colorbar\":{\"outlinewidth\":0,\"ticks\":\"\"}},\"colorscale\":{\"sequential\":[[0.0,\"#0d0887\"],[0.1111111111111111,\"#46039f\"],[0.2222222222222222,\"#7201a8\"],[0.3333333333333333,\"#9c179e\"],[0.4444444444444444,\"#bd3786\"],[0.5555555555555556,\"#d8576b\"],[0.6666666666666666,\"#ed7953\"],[0.7777777777777778,\"#fb9f3a\"],[0.8888888888888888,\"#fdca26\"],[1.0,\"#f0f921\"]],\"sequentialminus\":[[0.0,\"#0d0887\"],[0.1111111111111111,\"#46039f\"],[0.2222222222222222,\"#7201a8\"],[0.3333333333333333,\"#9c179e\"],[0.4444444444444444,\"#bd3786\"],[0.5555555555555556,\"#d8576b\"],[0.6666666666666666,\"#ed7953\"],[0.7777777777777778,\"#fb9f3a\"],[0.8888888888888888,\"#fdca26\"],[1.0,\"#f0f921\"]],\"diverging\":[[0,\"#8e0152\"],[0.1,\"#c51b7d\"],[0.2,\"#de77ae\"],[0.3,\"#f1b6da\"],[0.4,\"#fde0ef\"],[0.5,\"#f7f7f7\"],[0.6,\"#e6f5d0\"],[0.7,\"#b8e186\"],[0.8,\"#7fbc41\"],[0.9,\"#4d9221\"],[1,\"#276419\"]]},\"xaxis\":{\"gridcolor\":\"white\",\"linecolor\":\"white\",\"ticks\":\"\",\"title\":{\"standoff\":15},\"zerolinecolor\":\"white\",\"automargin\":true,\"zerolinewidth\":2},\"yaxis\":{\"gridcolor\":\"white\",\"linecolor\":\"white\",\"ticks\":\"\",\"title\":{\"standoff\":15},\"zerolinecolor\":\"white\",\"automargin\":true,\"zerolinewidth\":2},\"scene\":{\"xaxis\":{\"backgroundcolor\":\"#E5ECF6\",\"gridcolor\":\"white\",\"linecolor\":\"white\",\"showbackground\":true,\"ticks\":\"\",\"zerolinecolor\":\"white\",\"gridwidth\":2},\"yaxis\":{\"backgroundcolor\":\"#E5ECF6\",\"gridcolor\":\"white\",\"linecolor\":\"white\",\"showbackground\":true,\"ticks\":\"\",\"zerolinecolor\":\"white\",\"gridwidth\":2},\"zaxis\":{\"backgroundcolor\":\"#E5ECF6\",\"gridcolor\":\"white\",\"linecolor\":\"white\",\"showbackground\":true,\"ticks\":\"\",\"zerolinecolor\":\"white\",\"gridwidth\":2}},\"shapedefaults\":{\"line\":{\"color\":\"#2a3f5f\"}},\"annotationdefaults\":{\"arrowcolor\":\"#2a3f5f\",\"arrowhead\":0,\"arrowwidth\":1},\"geo\":{\"bgcolor\":\"white\",\"landcolor\":\"#E5ECF6\",\"subunitcolor\":\"white\",\"showland\":true,\"showlakes\":true,\"lakecolor\":\"white\"},\"title\":{\"x\":0.05},\"mapbox\":{\"style\":\"light\"}}},\"xaxis\":{\"anchor\":\"y\",\"domain\":[0.0,1.0],\"title\":{\"text\":\"Review Number\"}},\"yaxis\":{\"anchor\":\"x\",\"domain\":[0.0,1.0],\"title\":{\"text\":\"Stars\"}},\"legend\":{\"title\":{\"text\":\"Style\"},\"tracegroupgap\":0},\"title\":{\"text\":\"Stars vs Time per Style\"}},                        {\"responsive\": true}                    ).then(function(){\n",
       "                            \n",
       "var gd = document.getElementById('e8c5d1e6-1f22-4b7a-ac1e-17d66f386a0e');\n",
       "var x = new MutationObserver(function (mutations, observer) {{\n",
       "        var display = window.getComputedStyle(gd).display;\n",
       "        if (!display || display === 'none') {{\n",
       "            console.log([gd, 'removed!']);\n",
       "            Plotly.purge(gd);\n",
       "            observer.disconnect();\n",
       "        }}\n",
       "}});\n",
       "\n",
       "// Listen for the removal of the full notebook cells\n",
       "var notebookContainer = gd.closest('#notebook-container');\n",
       "if (notebookContainer) {{\n",
       "    x.observe(notebookContainer, {childList: true});\n",
       "}}\n",
       "\n",
       "// Listen for the clearing of the current output cell\n",
       "var outputEl = gd.closest('.output');\n",
       "if (outputEl) {{\n",
       "    x.observe(outputEl, {childList: true});\n",
       "}}\n",
       "\n",
       "                        })                };                });            </script>        </div>"
      ]
     },
     "metadata": {},
     "output_type": "display_data"
    },
    {
     "name": "stdout",
     "output_type": "stream",
     "text": [
      "----------------------\n",
      "  Style  Correlation\n",
      "0  Pack        0.265\n",
      "1   Cup        0.076\n",
      "2  Bowl        0.071\n",
      "3  Tray       -0.002\n",
      "4   Box       -0.042\n"
     ]
    }
   ],
   "source": [
    "# Pie Chart Plot\n",
    "fig = px.pie(style_df, values='Review_Count', names='Style',\n",
    "             title='Top 10 Styles by Review Count', \n",
    "             hover_data=['Avg_Stars'],\n",
    "             labels={'Review_Count': 'Number of Reviews'})\n",
    "\n",
    "fig.update_traces(hovertemplate='%{label} <br> Review count: %{value} (%{percent})<br> Average Stars: %{customdata[0]}')\n",
    "\n",
    "fig.update_layout(width=800, height=600)\n",
    "\n",
    "fig.show()\n",
    "\n",
    "# Scatter Plot\n",
    "fig = px.scatter(df, x='Review #', y='Stars', color='Style',\n",
    "                 title='Stars vs Time per Style',\n",
    "                 labels={'Stars': 'Stars', 'Review #': 'Review Number'})\n",
    "\n",
    "fig.update_traces(hovertemplate= 'Review Number: %{x} <br> Stars: %{y}')\n",
    "\n",
    "fig.for_each_trace(lambda trace: trace.update(visible='legendonly') if trace.name != 'Pack' else trace.update(visible=True))\n",
    "\n",
    "fig.show()\n",
    "\n",
    "# Stars and Style Correlation by Time Dataframe\n",
    "style_counts = df['Style'].value_counts()\n",
    "filtered_df = df[df['Style'].isin(style_counts[style_counts >= 15].index)]\n",
    "\n",
    "correlation_df = filtered_df.groupby('Style').apply(lambda x: x['Review #'].corr(x['Stars'])).round(3).reset_index()\n",
    "correlation_df.columns = ['Style', 'Correlation']\n",
    "\n",
    "sorted_correlations = correlation_df.sort_values(by='Correlation', ascending=False).reset_index(drop=True)\n",
    "\n",
    "print(\"----------------------\")\n",
    "print(sorted_correlations)"
   ]
  },
  {
   "cell_type": "markdown",
   "id": "30e78cb4",
   "metadata": {
    "papermill": {
     "duration": 0.033252,
     "end_time": "2024-07-20T15:59:26.760756",
     "exception": false,
     "start_time": "2024-07-20T15:59:26.727504",
     "status": "completed"
    },
    "tags": []
   },
   "source": [
    "<p style=\"font-size:18px;\"> From this I can see that the majority of the ramen reviews are from pack style ramen and there appears to be minimal correlation between the styles reviews over time. The data also shows that box ramen is the Ramen Raters preferred style of ramen with an average score of 4.24 stars."
   ]
  },
  {
   "cell_type": "markdown",
   "id": "7a9bd093",
   "metadata": {
    "papermill": {
     "duration": 0.031426,
     "end_time": "2024-07-20T15:59:26.823896",
     "exception": false,
     "start_time": "2024-07-20T15:59:26.792470",
     "status": "completed"
    },
    "tags": []
   },
   "source": [
    "# **Summary and Conclusion**\n",
    "\n",
    "***"
   ]
  },
  {
   "cell_type": "markdown",
   "id": "7b2d3a48",
   "metadata": {
    "papermill": {
     "duration": 0.030697,
     "end_time": "2024-07-20T15:59:26.887291",
     "exception": false,
     "start_time": "2024-07-20T15:59:26.856594",
     "status": "completed"
    },
    "tags": []
   },
   "source": [
    "<p style=\"font-size:18px;\"> Many thanks for reaching the end of my case study. I hope this case study has provided insights to this dataset and the reviews of the Ramen Rater. In this case study I have imported, cleaned and analysed the data to find the Ramen Raters preferred ramen and how the reviews have changed over time. From the data I have been able to find the following insights about the Ramen Rater:\n",
    "    \n",
    "<ul style=\"font-size:18px;\"><li>He prefers ramen which comes from asian countries, south asia in particular.\n",
    "<li> Spicy flavours are preferred over non spicy and vegetable ramen.\n",
    "<li> Box or pack ramen are the most preferred styles of ramen.\n",
    "<li> Over time his tastes have changed and he has had a greater dislike of tomato, yakisoba and cheese ramen.  \n",
    "<li> His Favourite brands (based on average score) are \"Mykuali\" and \"Mom's Dry Noodle\".  \n",
    "</ul>\n",
    "    \n",
    "<p style=\"font-size:18px;\"> Feel free to explore this dataset and see if you can find interesting insights. To take this one step further you could use ML algorithms to see if it's possible to predict the Ramen Raters star score of a ramen given the brand, flavour, country of origin and style of ramen.\n",
    "    \n",
    "<p style=\"font-size:18px;\"> <strong> Please feel free to leave any feedback on this case study and upvote if you enjoyed!\n",
    "    \n",
    "<p style=\"font-size:18px;\"> <strong> I hope you have a good day! 😄\n",
    "    \n",
    "    "
   ]
  }
 ],
 "metadata": {
  "kaggle": {
   "accelerator": "none",
   "dataSources": [
    {
     "datasetId": 5235315,
     "sourceId": 8724068,
     "sourceType": "datasetVersion"
    }
   ],
   "dockerImageVersionId": 30732,
   "isGpuEnabled": false,
   "isInternetEnabled": true,
   "language": "python",
   "sourceType": "notebook"
  },
  "kernelspec": {
   "display_name": "Python 3",
   "language": "python",
   "name": "python3"
  },
  "language_info": {
   "codemirror_mode": {
    "name": "ipython",
    "version": 3
   },
   "file_extension": ".py",
   "mimetype": "text/x-python",
   "name": "python",
   "nbconvert_exporter": "python",
   "pygments_lexer": "ipython3",
   "version": "3.10.13"
  },
  "papermill": {
   "default_parameters": {},
   "duration": 13.469528,
   "end_time": "2024-07-20T15:59:27.540741",
   "environment_variables": {},
   "exception": null,
   "input_path": "__notebook__.ipynb",
   "output_path": "__notebook__.ipynb",
   "parameters": {},
   "start_time": "2024-07-20T15:59:14.071213",
   "version": "2.5.0"
  }
 },
 "nbformat": 4,
 "nbformat_minor": 5
}
